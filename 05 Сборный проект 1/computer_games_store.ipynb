{
 "cells": [
  {
   "cell_type": "markdown",
   "metadata": {},
   "source": [
    "# Описание проекта\n",
    "    Вы работаете в интернет-магазине «Стримчик», который продаёт по всему миру компьютерные игры. Из открытых источников доступны исторические данные о продажах игр, оценки пользователей и экспертов, жанры и платформы (например, Xbox или PlayStation). Вам нужно выявить определяющие успешность игры закономерности. Это позволит сделать ставку на потенциально популярный продукт и спланировать рекламные кампании.\n",
    "    Перед вами данные до 2016 года. Представим, что сейчас декабрь 2016 г., и вы планируете кампанию на 2017-й. Нужно отработать принцип работы с данными. Неважно, прогнозируете ли вы продажи на 2017 год по данным 2016-го или же 2027-й — по данным 2026 года.\n",
    "    В наборе данных попадается аббревиатура ESRB (Entertainment Software Rating Board) — это ассоциация, определяющая возрастной рейтинг компьютерных игр. ESRB оценивает игровой контент и присваивает ему подходящую возрастную категорию, например, «Для взрослых», «Для детей младшего возраста» или «Для подростков».\n",
    "\n",
    "***Описание данных***\n",
    "\n",
    "    Name — название игры\n",
    "    Platform — платформа\n",
    "    Year_of_Release — год выпуска\n",
    "    Genre — жанр игры\n",
    "    NA_sales — продажи в Северной Америке (миллионы проданных копий)\n",
    "    EU_sales — продажи в Европе (миллионы проданных копий)\n",
    "    JP_sales — продажи в Японии (миллионы проданных копий)\n",
    "    Other_sales — продажи в других странах (миллионы проданных копий)\n",
    "    Critic_Score — оценка критиков (максимум 100)\n",
    "    User_Score — оценка пользователей (максимум 10)\n",
    "    Rating — рейтинг от организации ESRB (англ. Entertainment Software Rating Board). Эта ассоциация определяет рейтинг компьютерных игр и присваивает им подходящую возрастную категорию.\n",
    "Данные за 2016 год могут быть неполными."
   ]
  },
  {
   "cell_type": "markdown",
   "metadata": {},
   "source": [
    "**Сборный проект-1**"
   ]
  },
  {
   "cell_type": "code",
   "execution_count": 1,
   "metadata": {},
   "outputs": [],
   "source": [
    "import pandas as pd\n",
    "import matplotlib.pyplot as plt\n",
    "import plotly.express as px\n",
    "import numpy as np\n",
    "import seaborn as sns\n",
    "from scipy import stats as st"
   ]
  },
  {
   "cell_type": "markdown",
   "metadata": {},
   "source": [
    "### 1. Откроем файл с данными и изучим общую информацию"
   ]
  },
  {
   "cell_type": "code",
   "execution_count": 2,
   "metadata": {},
   "outputs": [],
   "source": [
    "try:\n",
    "    data = pd.read_csv('/datasets/games.csv') \n",
    "except:\n",
    "    data = pd.read_csv('games.csv')"
   ]
  },
  {
   "cell_type": "markdown",
   "metadata": {},
   "source": [
    "### 2. Подготовим данные"
   ]
  },
  {
   "cell_type": "markdown",
   "metadata": {},
   "source": [
    "Выведем на экран первые строки"
   ]
  },
  {
   "cell_type": "code",
   "execution_count": 3,
   "metadata": {},
   "outputs": [
    {
     "data": {
      "text/html": [
       "<div>\n",
       "<style scoped>\n",
       "    .dataframe tbody tr th:only-of-type {\n",
       "        vertical-align: middle;\n",
       "    }\n",
       "\n",
       "    .dataframe tbody tr th {\n",
       "        vertical-align: top;\n",
       "    }\n",
       "\n",
       "    .dataframe thead th {\n",
       "        text-align: right;\n",
       "    }\n",
       "</style>\n",
       "<table border=\"1\" class=\"dataframe\">\n",
       "  <thead>\n",
       "    <tr style=\"text-align: right;\">\n",
       "      <th></th>\n",
       "      <th>Name</th>\n",
       "      <th>Platform</th>\n",
       "      <th>Year_of_Release</th>\n",
       "      <th>Genre</th>\n",
       "      <th>NA_sales</th>\n",
       "      <th>EU_sales</th>\n",
       "      <th>JP_sales</th>\n",
       "      <th>Other_sales</th>\n",
       "      <th>Critic_Score</th>\n",
       "      <th>User_Score</th>\n",
       "      <th>Rating</th>\n",
       "    </tr>\n",
       "  </thead>\n",
       "  <tbody>\n",
       "    <tr>\n",
       "      <th>0</th>\n",
       "      <td>Wii Sports</td>\n",
       "      <td>Wii</td>\n",
       "      <td>2006.0</td>\n",
       "      <td>Sports</td>\n",
       "      <td>41.36</td>\n",
       "      <td>28.96</td>\n",
       "      <td>3.77</td>\n",
       "      <td>8.45</td>\n",
       "      <td>76.0</td>\n",
       "      <td>8</td>\n",
       "      <td>E</td>\n",
       "    </tr>\n",
       "    <tr>\n",
       "      <th>1</th>\n",
       "      <td>Super Mario Bros.</td>\n",
       "      <td>NES</td>\n",
       "      <td>1985.0</td>\n",
       "      <td>Platform</td>\n",
       "      <td>29.08</td>\n",
       "      <td>3.58</td>\n",
       "      <td>6.81</td>\n",
       "      <td>0.77</td>\n",
       "      <td>NaN</td>\n",
       "      <td>NaN</td>\n",
       "      <td>NaN</td>\n",
       "    </tr>\n",
       "    <tr>\n",
       "      <th>2</th>\n",
       "      <td>Mario Kart Wii</td>\n",
       "      <td>Wii</td>\n",
       "      <td>2008.0</td>\n",
       "      <td>Racing</td>\n",
       "      <td>15.68</td>\n",
       "      <td>12.76</td>\n",
       "      <td>3.79</td>\n",
       "      <td>3.29</td>\n",
       "      <td>82.0</td>\n",
       "      <td>8.3</td>\n",
       "      <td>E</td>\n",
       "    </tr>\n",
       "    <tr>\n",
       "      <th>3</th>\n",
       "      <td>Wii Sports Resort</td>\n",
       "      <td>Wii</td>\n",
       "      <td>2009.0</td>\n",
       "      <td>Sports</td>\n",
       "      <td>15.61</td>\n",
       "      <td>10.93</td>\n",
       "      <td>3.28</td>\n",
       "      <td>2.95</td>\n",
       "      <td>80.0</td>\n",
       "      <td>8</td>\n",
       "      <td>E</td>\n",
       "    </tr>\n",
       "    <tr>\n",
       "      <th>4</th>\n",
       "      <td>Pokemon Red/Pokemon Blue</td>\n",
       "      <td>GB</td>\n",
       "      <td>1996.0</td>\n",
       "      <td>Role-Playing</td>\n",
       "      <td>11.27</td>\n",
       "      <td>8.89</td>\n",
       "      <td>10.22</td>\n",
       "      <td>1.00</td>\n",
       "      <td>NaN</td>\n",
       "      <td>NaN</td>\n",
       "      <td>NaN</td>\n",
       "    </tr>\n",
       "    <tr>\n",
       "      <th>5</th>\n",
       "      <td>Tetris</td>\n",
       "      <td>GB</td>\n",
       "      <td>1989.0</td>\n",
       "      <td>Puzzle</td>\n",
       "      <td>23.20</td>\n",
       "      <td>2.26</td>\n",
       "      <td>4.22</td>\n",
       "      <td>0.58</td>\n",
       "      <td>NaN</td>\n",
       "      <td>NaN</td>\n",
       "      <td>NaN</td>\n",
       "    </tr>\n",
       "    <tr>\n",
       "      <th>6</th>\n",
       "      <td>New Super Mario Bros.</td>\n",
       "      <td>DS</td>\n",
       "      <td>2006.0</td>\n",
       "      <td>Platform</td>\n",
       "      <td>11.28</td>\n",
       "      <td>9.14</td>\n",
       "      <td>6.50</td>\n",
       "      <td>2.88</td>\n",
       "      <td>89.0</td>\n",
       "      <td>8.5</td>\n",
       "      <td>E</td>\n",
       "    </tr>\n",
       "    <tr>\n",
       "      <th>7</th>\n",
       "      <td>Wii Play</td>\n",
       "      <td>Wii</td>\n",
       "      <td>2006.0</td>\n",
       "      <td>Misc</td>\n",
       "      <td>13.96</td>\n",
       "      <td>9.18</td>\n",
       "      <td>2.93</td>\n",
       "      <td>2.84</td>\n",
       "      <td>58.0</td>\n",
       "      <td>6.6</td>\n",
       "      <td>E</td>\n",
       "    </tr>\n",
       "    <tr>\n",
       "      <th>8</th>\n",
       "      <td>New Super Mario Bros. Wii</td>\n",
       "      <td>Wii</td>\n",
       "      <td>2009.0</td>\n",
       "      <td>Platform</td>\n",
       "      <td>14.44</td>\n",
       "      <td>6.94</td>\n",
       "      <td>4.70</td>\n",
       "      <td>2.24</td>\n",
       "      <td>87.0</td>\n",
       "      <td>8.4</td>\n",
       "      <td>E</td>\n",
       "    </tr>\n",
       "    <tr>\n",
       "      <th>9</th>\n",
       "      <td>Duck Hunt</td>\n",
       "      <td>NES</td>\n",
       "      <td>1984.0</td>\n",
       "      <td>Shooter</td>\n",
       "      <td>26.93</td>\n",
       "      <td>0.63</td>\n",
       "      <td>0.28</td>\n",
       "      <td>0.47</td>\n",
       "      <td>NaN</td>\n",
       "      <td>NaN</td>\n",
       "      <td>NaN</td>\n",
       "    </tr>\n",
       "  </tbody>\n",
       "</table>\n",
       "</div>"
      ],
      "text/plain": [
       "                        Name Platform  Year_of_Release         Genre  \\\n",
       "0                 Wii Sports      Wii           2006.0        Sports   \n",
       "1          Super Mario Bros.      NES           1985.0      Platform   \n",
       "2             Mario Kart Wii      Wii           2008.0        Racing   \n",
       "3          Wii Sports Resort      Wii           2009.0        Sports   \n",
       "4   Pokemon Red/Pokemon Blue       GB           1996.0  Role-Playing   \n",
       "5                     Tetris       GB           1989.0        Puzzle   \n",
       "6      New Super Mario Bros.       DS           2006.0      Platform   \n",
       "7                   Wii Play      Wii           2006.0          Misc   \n",
       "8  New Super Mario Bros. Wii      Wii           2009.0      Platform   \n",
       "9                  Duck Hunt      NES           1984.0       Shooter   \n",
       "\n",
       "   NA_sales  EU_sales  JP_sales  Other_sales  Critic_Score User_Score Rating  \n",
       "0     41.36     28.96      3.77         8.45          76.0          8      E  \n",
       "1     29.08      3.58      6.81         0.77           NaN        NaN    NaN  \n",
       "2     15.68     12.76      3.79         3.29          82.0        8.3      E  \n",
       "3     15.61     10.93      3.28         2.95          80.0          8      E  \n",
       "4     11.27      8.89     10.22         1.00           NaN        NaN    NaN  \n",
       "5     23.20      2.26      4.22         0.58           NaN        NaN    NaN  \n",
       "6     11.28      9.14      6.50         2.88          89.0        8.5      E  \n",
       "7     13.96      9.18      2.93         2.84          58.0        6.6      E  \n",
       "8     14.44      6.94      4.70         2.24          87.0        8.4      E  \n",
       "9     26.93      0.63      0.28         0.47           NaN        NaN    NaN  "
      ]
     },
     "execution_count": 3,
     "metadata": {},
     "output_type": "execute_result"
    }
   ],
   "source": [
    "data.head(10) "
   ]
  },
  {
   "cell_type": "markdown",
   "metadata": {},
   "source": [
    "Приведем названия столбцов к нижнему регистру:"
   ]
  },
  {
   "cell_type": "code",
   "execution_count": 4,
   "metadata": {},
   "outputs": [],
   "source": [
    "data = data.rename(columns = \n",
    "                   {'Name': 'name',\n",
    "                    'Platform': 'platform',\n",
    "                    'Year_of_Release': 'year_of_release',\n",
    "                    'Genre': 'genre', 'NA_sales': 'na_sales',\n",
    "                    'EU_sales': 'eu_sales',\n",
    "                    'JP_sales': 'jp_sales',\n",
    "                    'Other_sales': 'other_sales',\n",
    "                    'Critic_Score': 'critic_score',\n",
    "                    'User_Score': 'user_score',\n",
    "                    'Rating': 'rating'}\n",
    "                  )    "
   ]
  },
  {
   "cell_type": "markdown",
   "metadata": {},
   "source": [
    "Выведем информацию о датафрейме"
   ]
  },
  {
   "cell_type": "code",
   "execution_count": 5,
   "metadata": {},
   "outputs": [
    {
     "name": "stdout",
     "output_type": "stream",
     "text": [
      "<class 'pandas.core.frame.DataFrame'>\n",
      "RangeIndex: 16715 entries, 0 to 16714\n",
      "Data columns (total 11 columns):\n",
      " #   Column           Non-Null Count  Dtype  \n",
      "---  ------           --------------  -----  \n",
      " 0   name             16713 non-null  object \n",
      " 1   platform         16715 non-null  object \n",
      " 2   year_of_release  16446 non-null  float64\n",
      " 3   genre            16713 non-null  object \n",
      " 4   na_sales         16715 non-null  float64\n",
      " 5   eu_sales         16715 non-null  float64\n",
      " 6   jp_sales         16715 non-null  float64\n",
      " 7   other_sales      16715 non-null  float64\n",
      " 8   critic_score     8137 non-null   float64\n",
      " 9   user_score       10014 non-null  object \n",
      " 10  rating           9949 non-null   object \n",
      "dtypes: float64(6), object(5)\n",
      "memory usage: 1.4+ MB\n"
     ]
    }
   ],
   "source": [
    "data.info() "
   ]
  },
  {
   "cell_type": "markdown",
   "metadata": {},
   "source": [
    "Изменим тип данных в столбце year_of_release, чтобы год был целым числом"
   ]
  },
  {
   "cell_type": "code",
   "execution_count": 6,
   "metadata": {},
   "outputs": [],
   "source": [
    "data['year_of_release'] = data['year_of_release'].astype('Int64') "
   ]
  },
  {
   "cell_type": "markdown",
   "metadata": {},
   "source": [
    "Проверим наличие явных дубликатов"
   ]
  },
  {
   "cell_type": "code",
   "execution_count": 7,
   "metadata": {},
   "outputs": [
    {
     "data": {
      "text/plain": [
       "0"
      ]
     },
     "execution_count": 7,
     "metadata": {},
     "output_type": "execute_result"
    }
   ],
   "source": [
    "data.duplicated().sum()"
   ]
  },
  {
   "cell_type": "markdown",
   "metadata": {},
   "source": [
    "Проверим дубликаты \"Имя-Платформа\""
   ]
  },
  {
   "cell_type": "code",
   "execution_count": 8,
   "metadata": {},
   "outputs": [
    {
     "data": {
      "text/plain": [
       "5"
      ]
     },
     "execution_count": 8,
     "metadata": {},
     "output_type": "execute_result"
    }
   ],
   "source": [
    "# проверим неявные дубликаты в столбцах name и platform \n",
    "data.duplicated(subset=['name', 'platform']).sum()"
   ]
  },
  {
   "cell_type": "code",
   "execution_count": 9,
   "metadata": {},
   "outputs": [
    {
     "name": "stdout",
     "output_type": "stream",
     "text": [
      "                              name platform  year_of_release     genre  \\\n",
      "604                  Madden NFL 13      PS3             2012    Sports   \n",
      "659                            NaN      GEN             1993       NaN   \n",
      "1190   Need for Speed: Most Wanted     X360             2012    Racing   \n",
      "1591   Need for Speed: Most Wanted     X360             2005    Racing   \n",
      "1745            Sonic the Hedgehog      PS3             2006  Platform   \n",
      "4127            Sonic the Hedgehog      PS3             <NA>  Platform   \n",
      "5972   Need for Speed: Most Wanted       PC             2005    Racing   \n",
      "11715  Need for Speed: Most Wanted       PC             2012    Racing   \n",
      "14244                          NaN      GEN             1993       NaN   \n",
      "16230                Madden NFL 13      PS3             2012    Sports   \n",
      "\n",
      "       na_sales  eu_sales  jp_sales  other_sales  critic_score user_score  \\\n",
      "604        2.11      0.22      0.00         0.23          83.0        5.5   \n",
      "659        1.78      0.53      0.00         0.08           NaN        NaN   \n",
      "1190       0.62      0.78      0.01         0.15          83.0        8.5   \n",
      "1591       1.00      0.13      0.02         0.10          83.0        8.5   \n",
      "1745       0.41      0.06      0.04         0.66          43.0        4.1   \n",
      "4127       0.00      0.48      0.00         0.00          43.0        4.1   \n",
      "5972       0.02      0.23      0.00         0.04          82.0        8.5   \n",
      "11715      0.00      0.06      0.00         0.02          82.0        8.5   \n",
      "14244      0.00      0.00      0.03         0.00           NaN        NaN   \n",
      "16230      0.00      0.01      0.00         0.00          83.0        5.5   \n",
      "\n",
      "      rating  \n",
      "604        E  \n",
      "659      NaN  \n",
      "1190       T  \n",
      "1591       T  \n",
      "1745    E10+  \n",
      "4127    E10+  \n",
      "5972       T  \n",
      "11715      T  \n",
      "14244    NaN  \n",
      "16230      E  \n"
     ]
    }
   ],
   "source": [
    "duplicated_df = data[data.duplicated(subset=['name', 'platform'], keep=False)]\n",
    "print(duplicated_df)"
   ]
  },
  {
   "cell_type": "markdown",
   "metadata": {},
   "source": [
    "Удалим строки 659 и 14244 - в них практически нет информации\n",
    "1190 и 11715  NFS не выходил в 2012 году\n",
    "4127 она без года релиза и скорее всего дублирует Sonic the Hedgehog      PS3 2006г.\n",
    "16230  дублирует Madden NFL 13      PS3             2012г"
   ]
  },
  {
   "cell_type": "code",
   "execution_count": 10,
   "metadata": {},
   "outputs": [],
   "source": [
    "data.drop([659, 1190, 4127,11715,  14244, 16230], axis=0, inplace=True)"
   ]
  },
  {
   "cell_type": "code",
   "execution_count": 11,
   "metadata": {},
   "outputs": [
    {
     "data": {
      "text/plain": [
       "0"
      ]
     },
     "execution_count": 11,
     "metadata": {},
     "output_type": "execute_result"
    }
   ],
   "source": [
    "data.duplicated(subset=['name', 'platform']).sum()"
   ]
  },
  {
   "cell_type": "code",
   "execution_count": 12,
   "metadata": {
    "scrolled": true
   },
   "outputs": [
    {
     "name": "stdout",
     "output_type": "stream",
     "text": [
      "name                  0\n",
      "platform              0\n",
      "year_of_release     268\n",
      "genre                 0\n",
      "na_sales              0\n",
      "eu_sales              0\n",
      "jp_sales              0\n",
      "other_sales           0\n",
      "critic_score       8576\n",
      "user_score         6699\n",
      "rating             6764\n",
      "dtype: int64\n"
     ]
    }
   ],
   "source": [
    "print(data.isna().sum()) # проверяем наличие пропусков и их количество"
   ]
  },
  {
   "cell_type": "markdown",
   "metadata": {},
   "source": [
    "проверим уникальные значения в некоторых столбцах"
   ]
  },
  {
   "cell_type": "code",
   "execution_count": 13,
   "metadata": {
    "scrolled": true
   },
   "outputs": [
    {
     "data": {
      "text/plain": [
       "array([76., nan, 82., 80., 89., 58., 87., 91., 61., 97., 95., 77., 88.,\n",
       "       83., 94., 93., 85., 86., 98., 96., 90., 84., 73., 74., 78., 92.,\n",
       "       71., 72., 68., 62., 49., 67., 81., 66., 56., 79., 70., 59., 64.,\n",
       "       75., 60., 63., 69., 50., 25., 42., 44., 55., 48., 57., 29., 47.,\n",
       "       65., 54., 20., 53., 37., 38., 33., 52., 30., 32., 43., 45., 51.,\n",
       "       40., 46., 39., 34., 35., 41., 36., 28., 31., 27., 26., 19., 23.,\n",
       "       24., 21., 17., 22., 13.])"
      ]
     },
     "execution_count": 13,
     "metadata": {},
     "output_type": "execute_result"
    }
   ],
   "source": [
    "data['critic_score'].unique()"
   ]
  },
  {
   "cell_type": "code",
   "execution_count": 14,
   "metadata": {},
   "outputs": [
    {
     "data": {
      "text/plain": [
       "array(['8', nan, '8.3', '8.5', '6.6', '8.4', '8.6', '7.7', '6.3', '7.4',\n",
       "       '8.2', '9', '7.9', '8.1', '8.7', '7.1', '3.4', '5.3', '4.8', '3.2',\n",
       "       '8.9', '6.4', '7.8', '7.5', '2.6', '7.2', '9.2', '7', '7.3', '4.3',\n",
       "       '7.6', '5.7', '5', '9.1', '6.5', 'tbd', '8.8', '6.9', '9.4', '6.8',\n",
       "       '6.1', '6.7', '5.4', '4', '4.9', '4.5', '9.3', '6.2', '4.2', '6',\n",
       "       '3.7', '4.1', '5.8', '5.6', '5.5', '4.4', '4.6', '5.9', '3.9',\n",
       "       '3.1', '2.9', '5.2', '3.3', '4.7', '5.1', '3.5', '2.5', '1.9', '3',\n",
       "       '2.7', '2.2', '2', '9.5', '2.1', '3.6', '2.8', '1.8', '3.8', '0',\n",
       "       '1.6', '9.6', '2.4', '1.7', '1.1', '0.3', '1.5', '0.7', '1.2',\n",
       "       '2.3', '0.5', '1.3', '0.2', '0.6', '1.4', '0.9', '1', '9.7'],\n",
       "      dtype=object)"
      ]
     },
     "execution_count": 14,
     "metadata": {},
     "output_type": "execute_result"
    }
   ],
   "source": [
    "data['user_score'].unique()"
   ]
  },
  {
   "cell_type": "markdown",
   "metadata": {},
   "source": [
    "Пропуски в name совпадают с пропусками в genre и в трех столбцах с рейтингами, имеет смысл удалить эти строки:"
   ]
  },
  {
   "cell_type": "code",
   "execution_count": 15,
   "metadata": {},
   "outputs": [
    {
     "data": {
      "text/plain": [
       "(16709, 11)"
      ]
     },
     "execution_count": 15,
     "metadata": {},
     "output_type": "execute_result"
    }
   ],
   "source": [
    "data = data.dropna(subset=['name'])\n",
    "data.shape"
   ]
  },
  {
   "cell_type": "markdown",
   "metadata": {},
   "source": [
    "Найдем пропуски в 'critic_score', 'user_score', 'rating' и заменим их на маркер 'unknown'. В этих столбцах у нас рейтинги и такая замена не изменит данных в остальных столбцах. Далее, при обработке данных в этих столбцах будем исключать маркер."
   ]
  },
  {
   "cell_type": "code",
   "execution_count": 16,
   "metadata": {},
   "outputs": [
    {
     "name": "stdout",
     "output_type": "stream",
     "text": [
      "name                 0\n",
      "platform             0\n",
      "year_of_release    268\n",
      "genre                0\n",
      "na_sales             0\n",
      "eu_sales             0\n",
      "jp_sales             0\n",
      "other_sales          0\n",
      "critic_score         0\n",
      "user_score           0\n",
      "rating               0\n",
      "dtype: int64\n"
     ]
    }
   ],
   "source": [
    "# перебор названий столбцов в цикле и замена пропущенных значений на 'unknown'\n",
    "columns_to_replace = ['critic_score', 'user_score', 'rating'] # список столбцов, в которых будем производить замену\n",
    "\n",
    "for column in columns_to_replace:  \n",
    "    data[column] = data[column].fillna('unknown')\n",
    "print(data.isna().sum())    "
   ]
  },
  {
   "cell_type": "code",
   "execution_count": 17,
   "metadata": {},
   "outputs": [
    {
     "data": {
      "text/plain": [
       "array(['E', 'unknown', 'M', 'T', 'E10+', 'K-A', 'AO', 'EC', 'RP'],\n",
       "      dtype=object)"
      ]
     },
     "execution_count": 17,
     "metadata": {},
     "output_type": "execute_result"
    }
   ],
   "source": [
    "data['rating'].unique()"
   ]
  },
  {
   "cell_type": "markdown",
   "metadata": {},
   "source": [
    "Посмотрим количество уникальных названий игр"
   ]
  },
  {
   "cell_type": "code",
   "execution_count": 18,
   "metadata": {},
   "outputs": [
    {
     "data": {
      "text/plain": [
       "11559"
      ]
     },
     "execution_count": 18,
     "metadata": {},
     "output_type": "execute_result"
    }
   ],
   "source": [
    "len(list(data['name'].unique())) "
   ]
  },
  {
   "cell_type": "markdown",
   "metadata": {},
   "source": [
    "Количество уникальных названий игр значительно меньше общего количества строк, следовательно, игры повторяются. Скорее всего,  одни и те же игры выходят на разных платформах. Заменим пропуски в годах релиза игр в строках, где их нет, на максимально значение из строк с этой игрой."
   ]
  },
  {
   "cell_type": "markdown",
   "metadata": {},
   "source": [
    "Сохраним в отдельную таблицу два столбца "
   ]
  },
  {
   "cell_type": "code",
   "execution_count": 19,
   "metadata": {},
   "outputs": [],
   "source": [
    "df_tmp = data[['name', 'year_of_release']] \n",
    "data['year_of_release'] = df_tmp.groupby('name').transform(lambda x: x.fillna(x.max())) # если в строке пропущен год релиза, но игра встречается в других строках, где год указан, присваеваем максимальное значение года."
   ]
  },
  {
   "cell_type": "code",
   "execution_count": 20,
   "metadata": {},
   "outputs": [
    {
     "data": {
      "text/plain": [
       "name                 0\n",
       "platform             0\n",
       "year_of_release    146\n",
       "genre                0\n",
       "na_sales             0\n",
       "eu_sales             0\n",
       "jp_sales             0\n",
       "other_sales          0\n",
       "critic_score         0\n",
       "user_score           0\n",
       "rating               0\n",
       "dtype: int64"
      ]
     },
     "execution_count": 20,
     "metadata": {},
     "output_type": "execute_result"
    }
   ],
   "source": [
    "data.isna().sum()"
   ]
  },
  {
   "cell_type": "markdown",
   "metadata": {},
   "source": [
    "Оставшиеся пропуски в годах релиза корректировать не будем, так как если присвоить им какие-то конкретные значения они могут повлиять на результаты анализа. С большой долей вероятности, можно утверждать, что эти пропуски обусловлены человеческим фактором и распределены рандомно по всему датафрейму и, поэтому отсутствие этих данных, минимально скажется на результатах нашего анализа."
   ]
  },
  {
   "cell_type": "markdown",
   "metadata": {},
   "source": [
    "Посмотрим строки, в которых в столбце user_score встречается tbd"
   ]
  },
  {
   "cell_type": "code",
   "execution_count": 21,
   "metadata": {},
   "outputs": [
    {
     "data": {
      "text/html": [
       "<div>\n",
       "<style scoped>\n",
       "    .dataframe tbody tr th:only-of-type {\n",
       "        vertical-align: middle;\n",
       "    }\n",
       "\n",
       "    .dataframe tbody tr th {\n",
       "        vertical-align: top;\n",
       "    }\n",
       "\n",
       "    .dataframe thead th {\n",
       "        text-align: right;\n",
       "    }\n",
       "</style>\n",
       "<table border=\"1\" class=\"dataframe\">\n",
       "  <thead>\n",
       "    <tr style=\"text-align: right;\">\n",
       "      <th></th>\n",
       "      <th>name</th>\n",
       "      <th>platform</th>\n",
       "      <th>year_of_release</th>\n",
       "      <th>genre</th>\n",
       "      <th>na_sales</th>\n",
       "      <th>eu_sales</th>\n",
       "      <th>jp_sales</th>\n",
       "      <th>other_sales</th>\n",
       "      <th>critic_score</th>\n",
       "      <th>user_score</th>\n",
       "      <th>rating</th>\n",
       "    </tr>\n",
       "  </thead>\n",
       "  <tbody>\n",
       "    <tr>\n",
       "      <th>119</th>\n",
       "      <td>Zumba Fitness</td>\n",
       "      <td>Wii</td>\n",
       "      <td>2010</td>\n",
       "      <td>Sports</td>\n",
       "      <td>3.45</td>\n",
       "      <td>2.59</td>\n",
       "      <td>0.0</td>\n",
       "      <td>0.66</td>\n",
       "      <td>unknown</td>\n",
       "      <td>tbd</td>\n",
       "      <td>E</td>\n",
       "    </tr>\n",
       "    <tr>\n",
       "      <th>301</th>\n",
       "      <td>Namco Museum: 50th Anniversary</td>\n",
       "      <td>PS2</td>\n",
       "      <td>2005</td>\n",
       "      <td>Misc</td>\n",
       "      <td>2.08</td>\n",
       "      <td>1.35</td>\n",
       "      <td>0.0</td>\n",
       "      <td>0.54</td>\n",
       "      <td>61.0</td>\n",
       "      <td>tbd</td>\n",
       "      <td>E10+</td>\n",
       "    </tr>\n",
       "    <tr>\n",
       "      <th>520</th>\n",
       "      <td>Zumba Fitness 2</td>\n",
       "      <td>Wii</td>\n",
       "      <td>2011</td>\n",
       "      <td>Sports</td>\n",
       "      <td>1.51</td>\n",
       "      <td>1.03</td>\n",
       "      <td>0.0</td>\n",
       "      <td>0.27</td>\n",
       "      <td>unknown</td>\n",
       "      <td>tbd</td>\n",
       "      <td>T</td>\n",
       "    </tr>\n",
       "    <tr>\n",
       "      <th>645</th>\n",
       "      <td>uDraw Studio</td>\n",
       "      <td>Wii</td>\n",
       "      <td>2010</td>\n",
       "      <td>Misc</td>\n",
       "      <td>1.65</td>\n",
       "      <td>0.57</td>\n",
       "      <td>0.0</td>\n",
       "      <td>0.20</td>\n",
       "      <td>71.0</td>\n",
       "      <td>tbd</td>\n",
       "      <td>E</td>\n",
       "    </tr>\n",
       "    <tr>\n",
       "      <th>657</th>\n",
       "      <td>Frogger's Adventures: Temple of the Frog</td>\n",
       "      <td>GBA</td>\n",
       "      <td>&lt;NA&gt;</td>\n",
       "      <td>Adventure</td>\n",
       "      <td>2.15</td>\n",
       "      <td>0.18</td>\n",
       "      <td>0.0</td>\n",
       "      <td>0.07</td>\n",
       "      <td>73.0</td>\n",
       "      <td>tbd</td>\n",
       "      <td>E</td>\n",
       "    </tr>\n",
       "    <tr>\n",
       "      <th>...</th>\n",
       "      <td>...</td>\n",
       "      <td>...</td>\n",
       "      <td>...</td>\n",
       "      <td>...</td>\n",
       "      <td>...</td>\n",
       "      <td>...</td>\n",
       "      <td>...</td>\n",
       "      <td>...</td>\n",
       "      <td>...</td>\n",
       "      <td>...</td>\n",
       "      <td>...</td>\n",
       "    </tr>\n",
       "    <tr>\n",
       "      <th>16695</th>\n",
       "      <td>Planet Monsters</td>\n",
       "      <td>GBA</td>\n",
       "      <td>2001</td>\n",
       "      <td>Action</td>\n",
       "      <td>0.01</td>\n",
       "      <td>0.00</td>\n",
       "      <td>0.0</td>\n",
       "      <td>0.00</td>\n",
       "      <td>67.0</td>\n",
       "      <td>tbd</td>\n",
       "      <td>E</td>\n",
       "    </tr>\n",
       "    <tr>\n",
       "      <th>16697</th>\n",
       "      <td>Bust-A-Move 3000</td>\n",
       "      <td>GC</td>\n",
       "      <td>2003</td>\n",
       "      <td>Puzzle</td>\n",
       "      <td>0.01</td>\n",
       "      <td>0.00</td>\n",
       "      <td>0.0</td>\n",
       "      <td>0.00</td>\n",
       "      <td>53.0</td>\n",
       "      <td>tbd</td>\n",
       "      <td>E</td>\n",
       "    </tr>\n",
       "    <tr>\n",
       "      <th>16698</th>\n",
       "      <td>Mega Brain Boost</td>\n",
       "      <td>DS</td>\n",
       "      <td>2008</td>\n",
       "      <td>Puzzle</td>\n",
       "      <td>0.01</td>\n",
       "      <td>0.00</td>\n",
       "      <td>0.0</td>\n",
       "      <td>0.00</td>\n",
       "      <td>48.0</td>\n",
       "      <td>tbd</td>\n",
       "      <td>E</td>\n",
       "    </tr>\n",
       "    <tr>\n",
       "      <th>16704</th>\n",
       "      <td>Plushees</td>\n",
       "      <td>DS</td>\n",
       "      <td>2008</td>\n",
       "      <td>Simulation</td>\n",
       "      <td>0.01</td>\n",
       "      <td>0.00</td>\n",
       "      <td>0.0</td>\n",
       "      <td>0.00</td>\n",
       "      <td>unknown</td>\n",
       "      <td>tbd</td>\n",
       "      <td>E</td>\n",
       "    </tr>\n",
       "    <tr>\n",
       "      <th>16706</th>\n",
       "      <td>Men in Black II: Alien Escape</td>\n",
       "      <td>GC</td>\n",
       "      <td>2003</td>\n",
       "      <td>Shooter</td>\n",
       "      <td>0.01</td>\n",
       "      <td>0.00</td>\n",
       "      <td>0.0</td>\n",
       "      <td>0.00</td>\n",
       "      <td>unknown</td>\n",
       "      <td>tbd</td>\n",
       "      <td>T</td>\n",
       "    </tr>\n",
       "  </tbody>\n",
       "</table>\n",
       "<p>2424 rows × 11 columns</p>\n",
       "</div>"
      ],
      "text/plain": [
       "                                           name platform year_of_release  \\\n",
       "119                               Zumba Fitness      Wii            2010   \n",
       "301              Namco Museum: 50th Anniversary      PS2            2005   \n",
       "520                             Zumba Fitness 2      Wii            2011   \n",
       "645                                uDraw Studio      Wii            2010   \n",
       "657    Frogger's Adventures: Temple of the Frog      GBA            <NA>   \n",
       "...                                         ...      ...             ...   \n",
       "16695                           Planet Monsters      GBA            2001   \n",
       "16697                          Bust-A-Move 3000       GC            2003   \n",
       "16698                          Mega Brain Boost       DS            2008   \n",
       "16704                                  Plushees       DS            2008   \n",
       "16706             Men in Black II: Alien Escape       GC            2003   \n",
       "\n",
       "            genre  na_sales  eu_sales  jp_sales  other_sales critic_score  \\\n",
       "119        Sports      3.45      2.59       0.0         0.66      unknown   \n",
       "301          Misc      2.08      1.35       0.0         0.54         61.0   \n",
       "520        Sports      1.51      1.03       0.0         0.27      unknown   \n",
       "645          Misc      1.65      0.57       0.0         0.20         71.0   \n",
       "657     Adventure      2.15      0.18       0.0         0.07         73.0   \n",
       "...           ...       ...       ...       ...          ...          ...   \n",
       "16695      Action      0.01      0.00       0.0         0.00         67.0   \n",
       "16697      Puzzle      0.01      0.00       0.0         0.00         53.0   \n",
       "16698      Puzzle      0.01      0.00       0.0         0.00         48.0   \n",
       "16704  Simulation      0.01      0.00       0.0         0.00      unknown   \n",
       "16706     Shooter      0.01      0.00       0.0         0.00      unknown   \n",
       "\n",
       "      user_score rating  \n",
       "119          tbd      E  \n",
       "301          tbd   E10+  \n",
       "520          tbd      T  \n",
       "645          tbd      E  \n",
       "657          tbd      E  \n",
       "...          ...    ...  \n",
       "16695        tbd      E  \n",
       "16697        tbd      E  \n",
       "16698        tbd      E  \n",
       "16704        tbd      E  \n",
       "16706        tbd      T  \n",
       "\n",
       "[2424 rows x 11 columns]"
      ]
     },
     "execution_count": 21,
     "metadata": {},
     "output_type": "execute_result"
    }
   ],
   "source": [
    "data[data.user_score == \"tbd\"] "
   ]
  },
  {
   "cell_type": "markdown",
   "metadata": {},
   "source": [
    "Всего строк со значение tbd 2424. Это довольно значимая величина. Не будем удалять эти значения, так как в строках, где они встречаются может быть значимая информация. В дальнейшем при обработке столбца user_score будем удалять эти значения."
   ]
  },
  {
   "cell_type": "markdown",
   "metadata": {},
   "source": [
    "Посчитаем суммарные продажи во всех регионах и сохраним их в отдельный столбец total_sales"
   ]
  },
  {
   "cell_type": "code",
   "execution_count": 22,
   "metadata": {},
   "outputs": [],
   "source": [
    "data['total_sales'] = data[['na_sales','eu_sales','jp_sales', 'other_sales']].sum(axis='columns')"
   ]
  },
  {
   "cell_type": "markdown",
   "metadata": {},
   "source": [
    "Мы провели предобработку данных и подготовили их для дальнейшего анализа. \n",
    "\n",
    "Были удалены пропуски, проверены дубликаты, изменены типы данных, изучены непонятные данные и сформирован дополнительный столбец, который будет необходим в дальнейшей работе.\n",
    "\n",
    "Основные причины появления пропусков и дубликатов:\n",
    "\n",
    "человеческий фактор, выходы релизов под теми же названиями, но на других платформах и в другие годы. \n",
    "\n",
    "Так же отдельно хотелось бы отметить, что появление пропусков в столбце rating может быть связано с расположением рейтингового агенства в США и, что могло повлиять на обработку данных, которые в меньше мерей интересовали сотрудников агенства."
   ]
  },
  {
   "cell_type": "markdown",
   "metadata": {},
   "source": [
    "### 3. Проведем исследовательский анализ данных."
   ]
  },
  {
   "cell_type": "markdown",
   "metadata": {},
   "source": [
    "Выясним сколько игр выпускалось в разные годы"
   ]
  },
  {
   "cell_type": "code",
   "execution_count": 23,
   "metadata": {},
   "outputs": [
    {
     "data": {
      "text/plain": [
       "year_of_release\n",
       "1980       9\n",
       "1981      46\n",
       "1982      36\n",
       "1983      17\n",
       "1984      14\n",
       "1985      14\n",
       "1986      21\n",
       "1987      16\n",
       "1988      15\n",
       "1989      17\n",
       "1990      16\n",
       "1991      41\n",
       "1992      43\n",
       "1993      60\n",
       "1994     121\n",
       "1995     219\n",
       "1996     263\n",
       "1997     289\n",
       "1998     379\n",
       "1999     339\n",
       "2000     350\n",
       "2001     484\n",
       "2002     845\n",
       "2003     785\n",
       "2004     765\n",
       "2005     947\n",
       "2006    1019\n",
       "2007    1202\n",
       "2008    1440\n",
       "2009    1431\n",
       "2010    1271\n",
       "2011    1153\n",
       "2012     659\n",
       "2013     547\n",
       "2014     582\n",
       "2015     606\n",
       "2016     502\n",
       "Name: name, dtype: int64"
      ]
     },
     "execution_count": 23,
     "metadata": {},
     "output_type": "execute_result"
    }
   ],
   "source": [
    "data.groupby('year_of_release')['name'].count()"
   ]
  },
  {
   "cell_type": "markdown",
   "metadata": {},
   "source": [
    "До 1993 года большой динамики в росте количества игр не наблюдается. Основной рост количества игр приходится на период до 2008 года, после чего начинается спад. Возможно на индустрии сказался экономический кризис 2008 года и динамическое развитие мобильных платформ в последующие годы."
   ]
  },
  {
   "cell_type": "markdown",
   "metadata": {},
   "source": [
    "Посмотрим, как зависят продажи в зависимости от жанров:"
   ]
  },
  {
   "cell_type": "code",
   "execution_count": 24,
   "metadata": {},
   "outputs": [
    {
     "data": {
      "text/plain": [
       "<AxesSubplot:xlabel='total_sales', ylabel='genre'>"
      ]
     },
     "execution_count": 24,
     "metadata": {},
     "output_type": "execute_result"
    },
    {
     "data": {
      "image/png": "[encoded data removed]",
      "text/plain": [
       "<Figure size 1440x720 with 1 Axes>"
      ]
     },
     "metadata": {
      "needs_background": "light"
     },
     "output_type": "display_data"
    }
   ],
   "source": [
    "plt.figure(figsize=[20, 10])\n",
    "sns.barplot(data=data, x='total_sales', y='genre')"
   ]
  },
  {
   "cell_type": "markdown",
   "metadata": {},
   "source": [
    "Явные лидеры: Platform и Shooter"
   ]
  },
  {
   "cell_type": "markdown",
   "metadata": {},
   "source": [
    "Посмотрим, как менялась картина по продажам на разных платформах за весь период отраженный в датафрейме."
   ]
  },
  {
   "cell_type": "code",
   "execution_count": 25,
   "metadata": {},
   "outputs": [
    {
     "data": {
      "text/plain": [
       "<matplotlib.legend.Legend at 0x1beb3144400>"
      ]
     },
     "execution_count": 25,
     "metadata": {},
     "output_type": "execute_result"
    },
    {
     "data": {
      "image/png": "[encoded data removed]",
      "text/plain": [
       "<Figure size 1440x504 with 1 Axes>"
      ]
     },
     "metadata": {
      "needs_background": "light"
     },
     "output_type": "display_data"
    }
   ],
   "source": [
    "data\\\n",
    "    .pivot_table(index = 'year_of_release', columns = 'platform', values= 'total_sales', aggfunc = 'sum')\\\n",
    "    .plot(figsize = (20, 7))\n",
    "plt.legend(bbox_to_anchor=(1, 1))"
   ]
  },
  {
   "cell_type": "markdown",
   "metadata": {},
   "source": [
    "Средний срок платформы на рынке 7-10 лет. При этом абсолютное большинство по продажам приходится на период с 2005 года по 2010 год. После этого начинается спад в этой индустрии и к 2016 году в явных фаворитах остались несколько платформ PS4, PS3, 3DS, а так же со сравнительно небольшими продажами, но с завидным постоянством PC. В целом можно сказать, что наиболее стабильным игроком на рынке является PS, которая обновляет свою платформу каждые 5-7 лет. "
   ]
  },
  {
   "cell_type": "markdown",
   "metadata": {},
   "source": [
    "Для анализа сделаем срез по годам. Учитывая среднюю продолжительность жизни платформы на рынке, отбросим данные до 2010 года."
   ]
  },
  {
   "cell_type": "markdown",
   "metadata": {},
   "source": [
    "Сделаем срез до 2014 года"
   ]
  },
  {
   "cell_type": "code",
   "execution_count": 26,
   "metadata": {},
   "outputs": [],
   "source": [
    "data_rating = data.query('year_of_release >= 2014') # сохраним этот срез в отдельную таблицу"
   ]
  },
  {
   "cell_type": "markdown",
   "metadata": {},
   "source": [
    "Найдем 10 платформ с самыми большими продажами"
   ]
  },
  {
   "cell_type": "code",
   "execution_count": 27,
   "metadata": {},
   "outputs": [
    {
     "data": {
      "text/plain": [
       "<AxesSubplot:xlabel='year_of_release'>"
      ]
     },
     "execution_count": 27,
     "metadata": {},
     "output_type": "execute_result"
    },
    {
     "data": {
      "image/png": "[encoded data removed]",
      "text/plain": [
       "<Figure size 1440x504 with 1 Axes>"
      ]
     },
     "metadata": {
      "needs_background": "light"
     },
     "output_type": "display_data"
    }
   ],
   "source": [
    "platform_total_sales = data_rating.pivot_table(index='platform', values='total_sales', aggfunc='sum')\\\n",
    "    .nlargest(10, 'total_sales').index \n",
    "\n",
    "data_rating.query('platform in @platform_total_sales')\\\n",
    "    .pivot_table(index = 'year_of_release', columns = 'platform', values= 'total_sales', aggfunc = 'sum')\\\n",
    "    .plot(figsize = (20, 7))"
   ]
  },
  {
   "cell_type": "code",
   "execution_count": 28,
   "metadata": {},
   "outputs": [
    {
     "data": {
      "text/plain": [
       "Index(['PS4', 'XOne', '3DS', 'PS3', 'X360', 'WiiU', 'PC', 'PSV', 'Wii', 'PSP'], dtype='object', name='platform')"
      ]
     },
     "execution_count": 28,
     "metadata": {},
     "output_type": "execute_result"
    }
   ],
   "source": [
    "platform_total_sales"
   ]
  },
  {
   "cell_type": "markdown",
   "metadata": {},
   "source": [
    "Можно ожидать, что PS4 еще 2-4 года будет занимать монопольное положение  и выпустит через 2-3 года новую платформу, которая в последстии займет место PS4. Так же имеет смысл заниматься продвижением игр на XOne и 3DS, можно ожидать, что ближайшие 2-4 года продажи будут на хорошем уровне. "
   ]
  },
  {
   "cell_type": "markdown",
   "metadata": {},
   "source": [
    "Построим график «ящик с усами» по глобальным продажам игр в разбивке по платформам из топ-10.\n"
   ]
  },
  {
   "cell_type": "code",
   "execution_count": 29,
   "metadata": {},
   "outputs": [
    {
     "data": {
      "text/plain": [
       "(0.0, 2.1)"
      ]
     },
     "execution_count": 29,
     "metadata": {},
     "output_type": "execute_result"
    },
    {
     "data": {
      "image/png": "[encoded data removed]",
      "text/plain": [
       "<Figure size 1440x720 with 1 Axes>"
      ]
     },
     "metadata": {
      "needs_background": "light"
     },
     "output_type": "display_data"
    }
   ],
   "source": [
    "plt.figure(figsize=[20, 10])\n",
    "sns.boxplot(data=data_rating.query('platform in @platform_total_sales'), x='total_sales', y='platform')\n",
    "plt.xlim(0, 2.1)\n"
   ]
  },
  {
   "cell_type": "markdown",
   "metadata": {},
   "source": [
    "Используем describe(), чтобы изучить информацию"
   ]
  },
  {
   "cell_type": "code",
   "execution_count": 30,
   "metadata": {},
   "outputs": [
    {
     "data": {
      "text/html": [
       "<div>\n",
       "<style scoped>\n",
       "    .dataframe tbody tr th:only-of-type {\n",
       "        vertical-align: middle;\n",
       "    }\n",
       "\n",
       "    .dataframe tbody tr th {\n",
       "        vertical-align: top;\n",
       "    }\n",
       "\n",
       "    .dataframe thead tr th {\n",
       "        text-align: left;\n",
       "    }\n",
       "\n",
       "    .dataframe thead tr:last-of-type th {\n",
       "        text-align: right;\n",
       "    }\n",
       "</style>\n",
       "<table border=\"1\" class=\"dataframe\">\n",
       "  <thead>\n",
       "    <tr>\n",
       "      <th></th>\n",
       "      <th colspan=\"8\" halign=\"left\">total_sales</th>\n",
       "    </tr>\n",
       "    <tr>\n",
       "      <th></th>\n",
       "      <th>count</th>\n",
       "      <th>mean</th>\n",
       "      <th>std</th>\n",
       "      <th>min</th>\n",
       "      <th>25%</th>\n",
       "      <th>50%</th>\n",
       "      <th>75%</th>\n",
       "      <th>max</th>\n",
       "    </tr>\n",
       "    <tr>\n",
       "      <th>platform</th>\n",
       "      <th></th>\n",
       "      <th></th>\n",
       "      <th></th>\n",
       "      <th></th>\n",
       "      <th></th>\n",
       "      <th></th>\n",
       "      <th></th>\n",
       "      <th></th>\n",
       "    </tr>\n",
       "  </thead>\n",
       "  <tbody>\n",
       "    <tr>\n",
       "      <th>3DS</th>\n",
       "      <td>212.0</td>\n",
       "      <td>0.408868</td>\n",
       "      <td>1.188368</td>\n",
       "      <td>0.01</td>\n",
       "      <td>0.0300</td>\n",
       "      <td>0.090</td>\n",
       "      <td>0.2500</td>\n",
       "      <td>11.68</td>\n",
       "    </tr>\n",
       "    <tr>\n",
       "      <th>PC</th>\n",
       "      <td>152.0</td>\n",
       "      <td>0.180263</td>\n",
       "      <td>0.328559</td>\n",
       "      <td>0.01</td>\n",
       "      <td>0.0200</td>\n",
       "      <td>0.060</td>\n",
       "      <td>0.2050</td>\n",
       "      <td>3.05</td>\n",
       "    </tr>\n",
       "    <tr>\n",
       "      <th>PS3</th>\n",
       "      <td>219.0</td>\n",
       "      <td>0.311324</td>\n",
       "      <td>0.633059</td>\n",
       "      <td>0.01</td>\n",
       "      <td>0.0400</td>\n",
       "      <td>0.110</td>\n",
       "      <td>0.3250</td>\n",
       "      <td>5.27</td>\n",
       "    </tr>\n",
       "    <tr>\n",
       "      <th>PS4</th>\n",
       "      <td>376.0</td>\n",
       "      <td>0.766356</td>\n",
       "      <td>1.614969</td>\n",
       "      <td>0.01</td>\n",
       "      <td>0.0575</td>\n",
       "      <td>0.185</td>\n",
       "      <td>0.6900</td>\n",
       "      <td>14.63</td>\n",
       "    </tr>\n",
       "    <tr>\n",
       "      <th>PSP</th>\n",
       "      <td>13.0</td>\n",
       "      <td>0.027692</td>\n",
       "      <td>0.027735</td>\n",
       "      <td>0.01</td>\n",
       "      <td>0.0100</td>\n",
       "      <td>0.020</td>\n",
       "      <td>0.0200</td>\n",
       "      <td>0.09</td>\n",
       "    </tr>\n",
       "    <tr>\n",
       "      <th>PSV</th>\n",
       "      <td>295.0</td>\n",
       "      <td>0.075932</td>\n",
       "      <td>0.141591</td>\n",
       "      <td>0.01</td>\n",
       "      <td>0.0200</td>\n",
       "      <td>0.040</td>\n",
       "      <td>0.0900</td>\n",
       "      <td>1.96</td>\n",
       "    </tr>\n",
       "    <tr>\n",
       "      <th>Wii</th>\n",
       "      <td>11.0</td>\n",
       "      <td>0.460909</td>\n",
       "      <td>0.625451</td>\n",
       "      <td>0.01</td>\n",
       "      <td>0.0350</td>\n",
       "      <td>0.180</td>\n",
       "      <td>0.7550</td>\n",
       "      <td>2.01</td>\n",
       "    </tr>\n",
       "    <tr>\n",
       "      <th>WiiU</th>\n",
       "      <td>73.0</td>\n",
       "      <td>0.588767</td>\n",
       "      <td>1.161467</td>\n",
       "      <td>0.01</td>\n",
       "      <td>0.0500</td>\n",
       "      <td>0.190</td>\n",
       "      <td>0.5700</td>\n",
       "      <td>7.09</td>\n",
       "    </tr>\n",
       "    <tr>\n",
       "      <th>X360</th>\n",
       "      <td>111.0</td>\n",
       "      <td>0.434414</td>\n",
       "      <td>0.628967</td>\n",
       "      <td>0.01</td>\n",
       "      <td>0.0700</td>\n",
       "      <td>0.180</td>\n",
       "      <td>0.5050</td>\n",
       "      <td>4.28</td>\n",
       "    </tr>\n",
       "    <tr>\n",
       "      <th>XOne</th>\n",
       "      <td>228.0</td>\n",
       "      <td>0.615614</td>\n",
       "      <td>1.046513</td>\n",
       "      <td>0.01</td>\n",
       "      <td>0.0500</td>\n",
       "      <td>0.205</td>\n",
       "      <td>0.6325</td>\n",
       "      <td>7.39</td>\n",
       "    </tr>\n",
       "  </tbody>\n",
       "</table>\n",
       "</div>"
      ],
      "text/plain": [
       "         total_sales                                                        \n",
       "               count      mean       std   min     25%    50%     75%    max\n",
       "platform                                                                    \n",
       "3DS            212.0  0.408868  1.188368  0.01  0.0300  0.090  0.2500  11.68\n",
       "PC             152.0  0.180263  0.328559  0.01  0.0200  0.060  0.2050   3.05\n",
       "PS3            219.0  0.311324  0.633059  0.01  0.0400  0.110  0.3250   5.27\n",
       "PS4            376.0  0.766356  1.614969  0.01  0.0575  0.185  0.6900  14.63\n",
       "PSP             13.0  0.027692  0.027735  0.01  0.0100  0.020  0.0200   0.09\n",
       "PSV            295.0  0.075932  0.141591  0.01  0.0200  0.040  0.0900   1.96\n",
       "Wii             11.0  0.460909  0.625451  0.01  0.0350  0.180  0.7550   2.01\n",
       "WiiU            73.0  0.588767  1.161467  0.01  0.0500  0.190  0.5700   7.09\n",
       "X360           111.0  0.434414  0.628967  0.01  0.0700  0.180  0.5050   4.28\n",
       "XOne           228.0  0.615614  1.046513  0.01  0.0500  0.205  0.6325   7.39"
      ]
     },
     "execution_count": 30,
     "metadata": {},
     "output_type": "execute_result"
    }
   ],
   "source": [
    "dfd = data_rating.query('platform in @platform_total_sales')\n",
    "dfd = dfd[['platform', 'total_sales']]\n",
    "\n",
    "dfd.groupby('platform').describe() "
   ]
  },
  {
   "cell_type": "markdown",
   "metadata": {},
   "source": [
    "По верхниму квартилю у нас есть лидеры: Wii (0,755), PS4(0.69) и XOne(0.6325) при этом средние медианные значения находятся приблизительно на одном уровне. Верхняя границы самые большие у PS4 и 3DS."
   ]
  },
  {
   "cell_type": "markdown",
   "metadata": {},
   "source": [
    "Посмотрим, как влияют на продажи внутри одной популярной платформы отзывы пользователей и критиков. Построим диаграмму рассеяния и посчитаем корреляцию между отзывами и продажами."
   ]
  },
  {
   "cell_type": "code",
   "execution_count": 31,
   "metadata": {},
   "outputs": [],
   "source": [
    "# создадим функцию для построения диаграммы рассеивания с исключением значений unknown и tbd и выводом коррелляции:\n",
    "def reviews(data,column1, column2, column3, name_platform):\n",
    "    data_x = data[[column1, column2, column3]]\n",
    "    data_x = data_x[data_x[column1] == name_platform]\n",
    "    data_x = data_x[(data_x[column2] != 'unknown') & (data_x[column2] != 'tbd')]\n",
    "    data_x[column2] = data_x[column2].astype('float')\n",
    "    data_x[column3] = data_x[column3].astype('float')\n",
    "    data_x = data_x.sort_values(by=column2)\n",
    "    plt.figure(figsize=[20, 10])\n",
    "    sns.scatterplot(data = data_x, x = column2, y = column3)\n",
    "    sns.set(rc={'figure.figsize':(10,5)})\n",
    "    plt.xticks(rotation=90)\n",
    "    plt.tight_layout()\n",
    "    plt.show()\n",
    "    print('Корреляция равна:', data_x[column2].corr(data_x[column3]))\n",
    "    return "
   ]
  },
  {
   "cell_type": "markdown",
   "metadata": {},
   "source": [
    "Для X360"
   ]
  },
  {
   "cell_type": "code",
   "execution_count": 32,
   "metadata": {},
   "outputs": [
    {
     "data": {
      "image/png": "[encoded data removed]",
      "text/plain": [
       "<Figure size 1440x720 with 1 Axes>"
      ]
     },
     "metadata": {
      "needs_background": "light"
     },
     "output_type": "display_data"
    },
    {
     "name": "stdout",
     "output_type": "stream",
     "text": [
      "Корреляция равна: 0.525722835658152\n"
     ]
    }
   ],
   "source": [
    "reviews(data_rating, 'platform', 'critic_score', 'total_sales', 'X360')"
   ]
  },
  {
   "cell_type": "code",
   "execution_count": 33,
   "metadata": {},
   "outputs": [
    {
     "data": {
      "image/png": "[encoded data removed]",
      "text/plain": [
       "<Figure size 1440x720 with 1 Axes>"
      ]
     },
     "metadata": {},
     "output_type": "display_data"
    },
    {
     "name": "stdout",
     "output_type": "stream",
     "text": [
      "Корреляция равна: -0.1384445709456651\n"
     ]
    }
   ],
   "source": [
    "reviews(data_rating, 'platform', 'user_score', 'total_sales', 'X360')"
   ]
  },
  {
   "cell_type": "markdown",
   "metadata": {},
   "source": [
    "Диаграммы рассеивания и корреляция показывают, что продажи имеют зависимость с рейтингами специалистов 0,338: чем выше рейтингм, тем выше продажи. И совсем незначительную связь с рейтингами от пользователей, всего 0,064"
   ]
  },
  {
   "cell_type": "markdown",
   "metadata": {},
   "source": [
    "Для PS4"
   ]
  },
  {
   "cell_type": "code",
   "execution_count": 34,
   "metadata": {
    "scrolled": false
   },
   "outputs": [
    {
     "data": {
      "image/png": "[encoded data removed]",
      "text/plain": [
       "<Figure size 1440x720 with 1 Axes>"
      ]
     },
     "metadata": {},
     "output_type": "display_data"
    },
    {
     "name": "stdout",
     "output_type": "stream",
     "text": [
      "Корреляция равна: 0.40266141068104117\n"
     ]
    }
   ],
   "source": [
    "reviews(data_rating, 'platform', 'critic_score', 'total_sales', 'PS4')"
   ]
  },
  {
   "cell_type": "code",
   "execution_count": 35,
   "metadata": {},
   "outputs": [
    {
     "data": {
      "image/png": "[encoded data removed]",
      "text/plain": [
       "<Figure size 1440x720 with 1 Axes>"
      ]
     },
     "metadata": {},
     "output_type": "display_data"
    },
    {
     "name": "stdout",
     "output_type": "stream",
     "text": [
      "Корреляция равна: -0.0401315894726973\n"
     ]
    }
   ],
   "source": [
    "reviews(data_rating, 'platform', 'user_score', 'total_sales', 'PS4')"
   ]
  },
  {
   "cell_type": "markdown",
   "metadata": {},
   "source": [
    "Для этой платформы картина похожая. Корреляция с рейтингами от специалистов 0,406. А корреляция с рейтингами пользователея так же незначительно и даже со знаком \"-\" (-0,32)"
   ]
  },
  {
   "cell_type": "markdown",
   "metadata": {},
   "source": [
    "Для XOne"
   ]
  },
  {
   "cell_type": "code",
   "execution_count": 36,
   "metadata": {},
   "outputs": [
    {
     "data": {
      "image/png": "[encoded data removed]",
      "text/plain": [
       "<Figure size 1440x720 with 1 Axes>"
      ]
     },
     "metadata": {},
     "output_type": "display_data"
    },
    {
     "name": "stdout",
     "output_type": "stream",
     "text": [
      "Корреляция равна: 0.4286769437033322\n"
     ]
    }
   ],
   "source": [
    "reviews(data_rating, 'platform', 'critic_score', 'total_sales', 'XOne')"
   ]
  },
  {
   "cell_type": "code",
   "execution_count": 37,
   "metadata": {},
   "outputs": [
    {
     "data": {
      "image/png": "[encoded data removed]",
      "text/plain": [
       "<Figure size 1440x720 with 1 Axes>"
      ]
     },
     "metadata": {},
     "output_type": "display_data"
    },
    {
     "name": "stdout",
     "output_type": "stream",
     "text": [
      "Корреляция равна: -0.0703839280647582\n"
     ]
    }
   ],
   "source": [
    "reviews(data_rating, 'platform', 'user_score', 'total_sales', 'XOne')"
   ]
  },
  {
   "cell_type": "markdown",
   "metadata": {},
   "source": [
    "Для 3DC"
   ]
  },
  {
   "cell_type": "code",
   "execution_count": 38,
   "metadata": {},
   "outputs": [
    {
     "data": {
      "image/png": "[encoded data removed]",
      "text/plain": [
       "<Figure size 1440x720 with 1 Axes>"
      ]
     },
     "metadata": {},
     "output_type": "display_data"
    },
    {
     "name": "stdout",
     "output_type": "stream",
     "text": [
      "Корреляция равна: 0.314117492869051\n"
     ]
    }
   ],
   "source": [
    "reviews(data_rating, 'platform', 'critic_score', 'total_sales', '3DS')"
   ]
  },
  {
   "cell_type": "code",
   "execution_count": 39,
   "metadata": {},
   "outputs": [
    {
     "data": {
      "image/png": "[encoded data removed]",
      "text/plain": [
       "<Figure size 1440x720 with 1 Axes>"
      ]
     },
     "metadata": {},
     "output_type": "display_data"
    },
    {
     "name": "stdout",
     "output_type": "stream",
     "text": [
      "Корреляция равна: 0.21519327185270282\n"
     ]
    }
   ],
   "source": [
    "reviews(data_rating, 'platform', 'user_score', 'total_sales', '3DS')"
   ]
  },
  {
   "cell_type": "markdown",
   "metadata": {},
   "source": [
    "Для XOne картина повторяется: 0,416 и -0,069 соответственно для рейтингов критиков и пользователей."
   ]
  },
  {
   "cell_type": "markdown",
   "metadata": {},
   "source": [
    "Мы посмотрели диаграммы рассеяния и вывели корреляцию с отзывами критиков и пользователей для нескольких платформ. \n",
    "\n",
    "Можно сказать, что оценки критиков показывают прямую средне-слабую корреляцию продажами платформ (0,2 - 0,5). Оценки пользователей не имеют корреляции с продажами."
   ]
  },
  {
   "cell_type": "markdown",
   "metadata": {},
   "source": [
    "Посмотрим на общее распределение игр по жанрам. Сделаем сортировки по количеству игр и по продажам:"
   ]
  },
  {
   "cell_type": "code",
   "execution_count": 40,
   "metadata": {},
   "outputs": [
    {
     "data": {
      "text/plain": [
       "genre\n",
       "Action          620\n",
       "Role-Playing    221\n",
       "Adventure       185\n",
       "Sports          161\n",
       "Shooter         128\n",
       "Misc            113\n",
       "Racing           69\n",
       "Fighting         60\n",
       "Simulation       44\n",
       "Platform         38\n",
       "Strategy         37\n",
       "Puzzle           14\n",
       "Name: name, dtype: int64"
      ]
     },
     "execution_count": 40,
     "metadata": {},
     "output_type": "execute_result"
    }
   ],
   "source": [
    "data_rating.groupby(data_rating.genre)['name'].count().sort_values(ascending=False)"
   ]
  },
  {
   "cell_type": "code",
   "execution_count": 41,
   "metadata": {},
   "outputs": [
    {
     "data": {
      "text/plain": [
       "genre\n",
       "Action          199.71\n",
       "Shooter         170.94\n",
       "Sports          109.48\n",
       "Role-Playing    101.44\n",
       "Misc             37.55\n",
       "Fighting         28.22\n",
       "Racing           27.52\n",
       "Platform         18.09\n",
       "Adventure        17.55\n",
       "Simulation       13.13\n",
       "Strategy          3.96\n",
       "Puzzle            2.21\n",
       "Name: total_sales, dtype: float64"
      ]
     },
     "execution_count": 41,
     "metadata": {},
     "output_type": "execute_result"
    }
   ],
   "source": [
    "data_rating.groupby(data_rating.genre)['total_sales'].sum().sort_values(ascending=False)"
   ]
  },
  {
   "cell_type": "markdown",
   "metadata": {},
   "source": [
    "Чем больше игр в жанре, тем больше продаж. Очередность жанров практически повторяется и по количеству игр, и по продажам.  "
   ]
  },
  {
   "cell_type": "code",
   "execution_count": 42,
   "metadata": {},
   "outputs": [
    {
     "data": {
      "text/plain": [
       "genre\n",
       "Shooter         1.335469\n",
       "Sports          0.680000\n",
       "Platform        0.476053\n",
       "Fighting        0.470333\n",
       "Role-Playing    0.459005\n",
       "Racing          0.398841\n",
       "Misc            0.332301\n",
       "Action          0.322113\n",
       "Simulation      0.298409\n",
       "Puzzle          0.157857\n",
       "Strategy        0.107027\n",
       "Adventure       0.094865\n",
       "Name: total_sales, dtype: float64"
      ]
     },
     "execution_count": 42,
     "metadata": {},
     "output_type": "execute_result"
    }
   ],
   "source": [
    "data_rating.groupby(data_rating.genre)['total_sales'].mean().sort_values(ascending=False)"
   ]
  },
  {
   "cell_type": "markdown",
   "metadata": {},
   "source": [
    "Из этой сортировки по медианным значениям видим, что максимальную прибыль приносят Шутеры, хоть по количеству игр они отстают от других платформ."
   ]
  },
  {
   "cell_type": "markdown",
   "metadata": {},
   "source": [
    "#### Вывод\n",
    "\n",
    "В ходе нашего исследования мы выснили следующее:\n",
    "\n",
    "Средний цикл платформы на рынке 5-7 лет.\n",
    "\n",
    "Рейтинги критиков имею прямую средне-слабую корреляцию с продажами.\n",
    "\n",
    "Рейтинги пользователей не имеют корреляции с продажами.\n",
    "\n",
    "Самыми прибыльными являются игры из жанра Шутеров.\n",
    "\n",
    "Мы подготовили сводную таблицу с ТОП10 платформ в последние годы для дальнейшего анализа."
   ]
  },
  {
   "cell_type": "markdown",
   "metadata": {},
   "source": [
    "### 4. Составим портрет пользователя каждого региона"
   ]
  },
  {
   "cell_type": "markdown",
   "metadata": {},
   "source": [
    "Напишем функцию для формирования сводной информации по заданным параметрам.  На выходе мы будем получать: ТОП5 платформ, доля каждой платформы в общих продажах и распределение рейтинга ESRB."
   ]
  },
  {
   "cell_type": "code",
   "execution_count": 43,
   "metadata": {},
   "outputs": [],
   "source": [
    "def user_portrait(df, platform, genre, region, rating):\n",
    "    df = df[[platform, genre, region, rating]]\n",
    "    # сформируем таблицу с топ5 платформ в регионе\n",
    "    platform_top = df.pivot_table(index=platform, values=region, aggfunc='sum').nlargest(5, region).index\n",
    "    print('Топ 5 платформ в регионе:')\n",
    "    print(platform_top)\n",
    "    df_platform_top = df.query('platform in @platform_top')\n",
    "    sales = df[region].sum()  \n",
    "    share_of_sales = df_platform_top.groupby(platform)[region].sum() / sales # считаем долю каждой платформы в общих продажах\n",
    "    print('Доля каждой платформы в общих продахах ')\n",
    "    print(share_of_sales)\n",
    "    # сформируем таблицу с топ5 жанрами в регионе и посмотрим как респределяется рейтинг ESRB\n",
    "    genre_top = df.pivot_table(index=genre, values=region, aggfunc='sum').nlargest(5, region).index\n",
    "    print(genre_top)\n",
    "    df_genre_top = df.query('genre in @genre_top')\n",
    "    print('Распределение рейтинга ESRB на продажи в регионе')\n",
    "    print(df_genre_top.groupby(rating)[genre].count())\n",
    "    \n",
    "    return "
   ]
  },
  {
   "cell_type": "markdown",
   "metadata": {},
   "source": [
    "Выведем сводную информацию по Северной Америке:"
   ]
  },
  {
   "cell_type": "code",
   "execution_count": 44,
   "metadata": {},
   "outputs": [
    {
     "name": "stdout",
     "output_type": "stream",
     "text": [
      "Топ 5 платформ в регионе:\n",
      "Index(['PS4', 'XOne', 'X360', '3DS', 'PS3'], dtype='object', name='platform')\n",
      "Доля каждой платформы в общих продахах \n",
      "platform\n",
      "3DS     0.079685\n",
      "PS3     0.077608\n",
      "PS4     0.347072\n",
      "X360    0.099606\n",
      "XOne    0.286041\n",
      "Name: na_sales, dtype: float64\n",
      "Index(['Shooter', 'Action', 'Sports', 'Role-Playing', 'Misc'], dtype='object', name='genre')\n",
      "Распределение рейтинга ESRB на продажи в регионе\n",
      "rating\n",
      "E          144\n",
      "E10+       141\n",
      "M          242\n",
      "T          199\n",
      "unknown    517\n",
      "Name: genre, dtype: int64\n"
     ]
    }
   ],
   "source": [
    "user_portrait(data_rating, 'platform', 'genre', 'na_sales', 'rating')"
   ]
  },
  {
   "cell_type": "markdown",
   "metadata": {},
   "source": [
    "Самая популярная платформа в Северной Америке PS4 на 2 и 3 месте с большим отставанием идут XOne и X360.\n",
    "\n",
    "Самый популярный рейтинг М - Для взрослых (от 17 лет). Следом идет Т - подростки от 13 лет."
   ]
  },
  {
   "cell_type": "markdown",
   "metadata": {},
   "source": [
    "Выведем сводную информацию по Европе:"
   ]
  },
  {
   "cell_type": "code",
   "execution_count": 45,
   "metadata": {},
   "outputs": [
    {
     "name": "stdout",
     "output_type": "stream",
     "text": [
      "Топ 5 платформ в регионе:\n",
      "Index(['PS4', 'XOne', 'PS3', 'PC', '3DS'], dtype='object', name='platform')\n",
      "Доля каждой платформы в общих продахах \n",
      "platform\n",
      "3DS     0.059499\n",
      "PC      0.067250\n",
      "PS3     0.094268\n",
      "PS4     0.479976\n",
      "XOne    0.170708\n",
      "Name: eu_sales, dtype: float64\n",
      "Index(['Action', 'Shooter', 'Sports', 'Role-Playing', 'Racing'], dtype='object', name='genre')\n",
      "Распределение рейтинга ESRB на продажи в регионе\n",
      "rating\n",
      "E          177\n",
      "E10+       124\n",
      "M          239\n",
      "T          187\n",
      "unknown    472\n",
      "Name: genre, dtype: int64\n"
     ]
    }
   ],
   "source": [
    "user_portrait(data_rating, 'platform', 'genre', 'eu_sales', 'rating')"
   ]
  },
  {
   "cell_type": "markdown",
   "metadata": {},
   "source": [
    "Самая популярная платформа в Европе PS4 на 2 и 3 месте идут XOne и PS3.\n",
    "\n",
    "Самый популярный рейтинг М - для взрослых (от 17 лет). Следом идет Т - подростки от 13 лет. "
   ]
  },
  {
   "cell_type": "markdown",
   "metadata": {},
   "source": [
    "Выведем сводную информацию по Японии:"
   ]
  },
  {
   "cell_type": "code",
   "execution_count": 46,
   "metadata": {},
   "outputs": [
    {
     "name": "stdout",
     "output_type": "stream",
     "text": [
      "Топ 5 платформ в регионе:\n",
      "Index(['3DS', 'PS4', 'PSV', 'PS3', 'WiiU'], dtype='object', name='platform')\n",
      "Доля каждой платформы в общих продахах \n",
      "platform\n",
      "3DS     0.475239\n",
      "PS3     0.120529\n",
      "PS4     0.161349\n",
      "PSV     0.156193\n",
      "WiiU    0.078526\n",
      "Name: jp_sales, dtype: float64\n",
      "Index(['Role-Playing', 'Action', 'Fighting', 'Misc', 'Shooter'], dtype='object', name='genre')\n",
      "Распределение рейтинга ESRB на продажи в регионе\n",
      "rating\n",
      "E           47\n",
      "E10+       131\n",
      "M          245\n",
      "T          209\n",
      "unknown    510\n",
      "Name: genre, dtype: int64\n"
     ]
    }
   ],
   "source": [
    "user_portrait(data_rating, 'platform', 'genre', 'jp_sales', 'rating')"
   ]
  },
  {
   "cell_type": "markdown",
   "metadata": {},
   "source": [
    "Самая популярная платформа в Японии с огромным отрывом 3DS. Следом идут PS4 и PSV.\n",
    "\n",
    "Самый популярный рейтинг М - для взрослых (от 17 лет). Следом идет Т - подростки от 13 лет."
   ]
  },
  {
   "cell_type": "markdown",
   "metadata": {},
   "source": [
    "Просмотрев информацию по трем регионам можно сделать следующее заключение:\n",
    "\n",
    "В каждом регионе есть свои пристрастия к определнным платформам и свой явный лидер в этом вопросе. При этом обращает на себя внимание тот факт, что в тройке лидеров во всех регионах представлена PS4. \n",
    "\n",
    "Распределение рейтинга ESRB практически не меняется в зависимости от региона. На первом месте М - для взрослых (от 17 лет). Следом идет Т - подростки от 13 лет."
   ]
  },
  {
   "cell_type": "markdown",
   "metadata": {},
   "source": [
    "### 5. Проверим гипотезы"
   ]
  },
  {
   "cell_type": "markdown",
   "metadata": {},
   "source": [
    "Гипотеза 1:\n",
    "\n",
    "H_0: Средний пользовательский рейтинг платформы XOne = Средний пользовательский рейтинг платформы PC`\n",
    "\n",
    "H_a: Средний пользовательский рейтинг платформы XOne ≠ Средний пользовательский рейтинг платформы PC`\n",
    "\n",
    "alpha = 0.05  "
   ]
  },
  {
   "cell_type": "markdown",
   "metadata": {},
   "source": [
    "Используем t-распределение Стьюдента"
   ]
  },
  {
   "cell_type": "code",
   "execution_count": 47,
   "metadata": {},
   "outputs": [],
   "source": [
    "data_rating = data_rating[(data_rating['user_score'] != 'unknown') & (data_rating['user_score'] != 'tbd')]\n",
    "data_rating['user_score'] = data_rating['user_score'].astype('float64')"
   ]
  },
  {
   "cell_type": "code",
   "execution_count": 48,
   "metadata": {},
   "outputs": [
    {
     "name": "stdout",
     "output_type": "stream",
     "text": [
      "0.13923712043548309\n",
      "Не получилось отвергнуть нулевую гипотезу\n"
     ]
    }
   ],
   "source": [
    "sample_1 = data_rating.query('platform==\"XOne\"')['user_score']\n",
    "sample_2 = data_rating.query('platform==\"PC\"')['user_score']\n",
    "\n",
    "results = st.ttest_ind(sample_1, sample_2, equal_var = False)  #    вызов метода для проверки гипотезы\n",
    "alpha = 0.05 # зададим значение уровня значимости\n",
    "\n",
    "print(results.pvalue) # вывод значения p-value на экран \n",
    "# условный оператор с выводом строки с ответом\n",
    "if results.pvalue < alpha:\n",
    "    print(\"Отвергаем нулевую гипотезу\")\n",
    "else:\n",
    "    print(\"Не получилось отвергнуть нулевую гипотезу\")"
   ]
  },
  {
   "cell_type": "markdown",
   "metadata": {},
   "source": [
    "Можно сделать вывод, что значимые расхождения в средних на разных платформах  не обнаружены, так как p-value больше выбранного уровня значимости (0,05).\n",
    "\n",
    "Мы не отвергаем гипотезу, что средние пользовательские рейтинги платформ равны на уровне значимости 0,05 на имеющихся данных."
   ]
  },
  {
   "cell_type": "markdown",
   "metadata": {},
   "source": [
    "Гипотеза 2.\n",
    "\n",
    "H_0: Средний пользовательский рейтинг жанра Action ≠ Средний пользовательский рейтинг жанра Sports\n",
    "\n",
    "H_a: Средний пользовательский рейтинг жанра Action = Средний пользовательский рейтинг жанра Sports\n",
    "\n",
    "alpha = 0.05  \n",
    "\n"
   ]
  },
  {
   "cell_type": "code",
   "execution_count": 49,
   "metadata": {},
   "outputs": [
    {
     "name": "stdout",
     "output_type": "stream",
     "text": [
      "9.658176026869598e-15\n",
      "Отвергаем нулевую гипотезу\n"
     ]
    }
   ],
   "source": [
    "sample_3 = data_rating.query('genre==\"Action\"')['user_score']\n",
    "sample_4 = data_rating.query('genre==\"Sports\"')['user_score']\n",
    "\n",
    "results = st.ttest_ind(sample_3, sample_4, equal_var = False)  #    вызов метода для проверки гипотезы\n",
    "alpha = 0.05 # зададим значение уровня значимости\n",
    "\n",
    "print(results.pvalue) # вывод значения p-value на экран \n",
    "# условный оператор с выводом строки с ответом\n",
    "if results.pvalue < alpha:\n",
    "    print(\"Отвергаем нулевую гипотезу\")\n",
    "else:\n",
    "    print(\"Не получилось отвергнуть нулевую гипотезу\")"
   ]
  },
  {
   "cell_type": "markdown",
   "metadata": {},
   "source": [
    "Можно сделать вывод, что значимые расхождения в средних пользовательских рейтингов на разных жанрах не обнаружены, так как p-value меньше выбранного уровня значимости (0,05)\n",
    "\n",
    "Мы отвергаем гипотезу, что средний пользовательский рейтинг жанра Action не равен среднему пользовательскому рейтингу жанра Sports. И принимаем альтернативную гипотезу:\n",
    "\n",
    "Средний пользовательский рейтинг жанра Action равен Среднему пользовательскому рейтингу жанра Sports.\n"
   ]
  },
  {
   "cell_type": "markdown",
   "metadata": {},
   "source": [
    "## Вывод\n"
   ]
  },
  {
   "cell_type": "markdown",
   "metadata": {},
   "source": [
    "Мы провели предобработку данных и подготовили их для дальнейшего анализа. \n",
    "\n",
    "Были удалены пропуски, проверены дубликаты, изменены типы данных, изучены непонятные данные и сформирован дополнительный столбец, который будет необходим в дальнейшей работе.\n",
    "\n",
    "Основные причины появления пропусков и дубликатов:\n",
    "\n",
    "человеческий фактор, выходы релизов под теми же названиями, но на других платформах и в другие годы. \n",
    "\n",
    "Так же отдельно хотелось бы отметить, что появление пропусков в столбце rating может быть связано с расположением рейтингового агенства в США и, что могло повлиять на обработку данных, которые в меньше мерей интересовали сотрудников агенстВ ходе нашего исследования мы выснили следующее:\n",
    "\n",
    "В ходе исследования были получены следующие результаты:\n",
    "Средний цикл платформы на рынке 5-7 лет.  Исходя из этой информации и использовали данные с 2014 года.\n",
    "\n",
    "\n",
    "Были выявлены ТОП 10  платформ по продажам за эти годы:\n",
    "'PS4', 'XOne', '3DS', 'PS3', 'X360', 'WiiU', 'PC', 'PSV', 'Wii', 'PSP'\n",
    "\n",
    "\n",
    "Построив диаграммы рассеивания и выведя корреляцию мы выявили, что:\n",
    "\n",
    "\n",
    "Рейтинги критиков имею прямую средне-слабую корреляцию с продажами (0,2 - 0,5).\n",
    "\n",
    "Рейтинги пользователей не имеют корреляции с продажами.\n",
    "\n",
    "Построив график \"ящик с усами\" для платформ из ТОП 10 мы вяснили, что по верхниму квартилю у нас есть лидеры: Wii (0,755), PS4(0.69) и XOne(0.6325) при этом средние медианные значения находятся приблизительно на одном уровне. Верхняя границы самые большие у PS4 (14.63) и 3DS (11.68).\n",
    "\n",
    "\n",
    "Самыми прибыльными являются игры из жанра Шутеров.\n",
    "\n",
    "\n",
    "Мы подготовили сводную таблицу с ТОП10 платформ в последние годы для дальнейшего анализа.\n",
    "\n",
    "\n",
    "В каждом регионе есть свои пристрастия к определнным платформам и свой явный лидер в этом вопросе. \n",
    "\n",
    "В Северной Америке это  PS4, XOne и X360\n",
    "\n",
    "В Европе - PS4, XOne и PS3\n",
    "\n",
    "В Японии - 3DS, PS4 и PSV\n",
    "\n",
    "При этом обращает на себя внимание тот факт, что в тройке лидеров во всех регионах представлена PS4. \n",
    "Распределение рейтинга ESRB практически не меняется в зависимости от региона. На первом месте М - для взрослых (от 17 лет). Следом идет Т - подростки от 13 лет.\n",
    "\n",
    "\n",
    "Портрет пользователя для Северной Америки: взрослый человек от 17 лет, основное предпочтение PS4, XOne и X360\n",
    "\n",
    "\n",
    "Портрет пользователя для Европы: взрослый человек от 17 лет, основное предпочтение PS4, XOne и PS3\n",
    "\n",
    "\n",
    "Портрет пользователя для Японии: взрослый человек от 17 лет, основное предпочтение 3DS, PS4 и PSV\n",
    "\n",
    "\n",
    "Проверили две гипотезы методом t-распределение Стьюдента. Были получены следующие выводы:\n",
    "\n",
    "\n",
    "1. Значимые расхождения в средних на разных платформах  не обнаружены, так как p-value больше выбранного уровня значимости (0,05).\n",
    "Мы не отвергаем гипотезу, что средние пользовательские рейтинги платформ равны на уровне значимости 0,05 на имеющихся данных.\n",
    "\n",
    "\n",
    "2. Значимые расхождения в средних пользовательских рейтингов на разных жанрах не обнаружены, так как p-value меньше выбранного уровня значимости (0,05)\n",
    "\n",
    "Мы отвергаем гипотезу, что средний пользовательский рейтинг жанра Action не равен среднему пользовательскому рейтингу жанра Sports. И принимаем альтернативную гипотезу:\n",
    "\n",
    "Средний пользовательский рейтинг жанра Action равен Среднему пользовательскому рейтингу жанра Sports.\n",
    "\n",
    "**Подведем итог:**\n",
    "\n",
    "Для продвиженя в 2017 году можно взять три основные платформы:  PS4, XOne и 3DS, при этом в Северной Америке основной упор на продвижение на первые две, а в Японии на 3DS. Основная возростная группа это взрослые люди от 17 лет. Именно на них нужно направить основную рекламу. Так же имеет смысл уделить внимание отзывам специалистов, это косвенно может помочь продвижению продукта.\n",
    "\n"
   ]
  }
 ],
 "metadata": {
  "ExecuteTimeLog": [
   {
    "duration": 1134,
    "start_time": "2022-07-17T10:07:12.141Z"
   },
   {
    "duration": 240,
    "start_time": "2022-07-17T10:07:13.277Z"
   },
   {
    "duration": 0,
    "start_time": "2022-07-17T10:07:13.521Z"
   },
   {
    "duration": 0,
    "start_time": "2022-07-17T10:07:13.523Z"
   },
   {
    "duration": 0,
    "start_time": "2022-07-17T10:07:13.524Z"
   },
   {
    "duration": 0,
    "start_time": "2022-07-17T10:07:13.525Z"
   },
   {
    "duration": 0,
    "start_time": "2022-07-17T10:07:13.526Z"
   },
   {
    "duration": 0,
    "start_time": "2022-07-17T10:07:13.527Z"
   },
   {
    "duration": 0,
    "start_time": "2022-07-17T10:07:13.528Z"
   },
   {
    "duration": 0,
    "start_time": "2022-07-17T10:07:13.529Z"
   },
   {
    "duration": 0,
    "start_time": "2022-07-17T10:07:13.530Z"
   },
   {
    "duration": 0,
    "start_time": "2022-07-17T10:07:13.531Z"
   },
   {
    "duration": 0,
    "start_time": "2022-07-17T10:07:13.533Z"
   },
   {
    "duration": 0,
    "start_time": "2022-07-17T10:07:13.534Z"
   },
   {
    "duration": 0,
    "start_time": "2022-07-17T10:07:13.536Z"
   },
   {
    "duration": 0,
    "start_time": "2022-07-17T10:07:13.537Z"
   },
   {
    "duration": 0,
    "start_time": "2022-07-17T10:07:13.538Z"
   },
   {
    "duration": 0,
    "start_time": "2022-07-17T10:07:13.540Z"
   },
   {
    "duration": 0,
    "start_time": "2022-07-17T10:07:13.541Z"
   },
   {
    "duration": 0,
    "start_time": "2022-07-17T10:07:13.542Z"
   },
   {
    "duration": 0,
    "start_time": "2022-07-17T10:07:13.544Z"
   },
   {
    "duration": 0,
    "start_time": "2022-07-17T10:07:13.545Z"
   },
   {
    "duration": 0,
    "start_time": "2022-07-17T10:07:13.546Z"
   },
   {
    "duration": 0,
    "start_time": "2022-07-17T10:07:13.547Z"
   },
   {
    "duration": 0,
    "start_time": "2022-07-17T10:07:13.548Z"
   },
   {
    "duration": 0,
    "start_time": "2022-07-17T10:07:13.550Z"
   },
   {
    "duration": 0,
    "start_time": "2022-07-17T10:07:13.551Z"
   },
   {
    "duration": 1,
    "start_time": "2022-07-17T10:07:13.552Z"
   },
   {
    "duration": 0,
    "start_time": "2022-07-17T10:07:13.554Z"
   },
   {
    "duration": 0,
    "start_time": "2022-07-17T10:07:13.555Z"
   },
   {
    "duration": 0,
    "start_time": "2022-07-17T10:07:13.556Z"
   },
   {
    "duration": 0,
    "start_time": "2022-07-17T10:07:13.603Z"
   },
   {
    "duration": 0,
    "start_time": "2022-07-17T10:07:13.604Z"
   },
   {
    "duration": 0,
    "start_time": "2022-07-17T10:07:13.608Z"
   },
   {
    "duration": 0,
    "start_time": "2022-07-17T10:07:13.609Z"
   },
   {
    "duration": 0,
    "start_time": "2022-07-17T10:07:13.610Z"
   },
   {
    "duration": 1,
    "start_time": "2022-07-17T10:07:13.611Z"
   },
   {
    "duration": 0,
    "start_time": "2022-07-17T10:07:13.613Z"
   },
   {
    "duration": 0,
    "start_time": "2022-07-17T10:07:13.615Z"
   },
   {
    "duration": 0,
    "start_time": "2022-07-17T10:07:13.616Z"
   },
   {
    "duration": 0,
    "start_time": "2022-07-17T10:07:13.618Z"
   },
   {
    "duration": 1169,
    "start_time": "2022-07-17T10:08:41.425Z"
   },
   {
    "duration": 220,
    "start_time": "2022-07-17T10:08:42.596Z"
   },
   {
    "duration": 0,
    "start_time": "2022-07-17T10:08:42.820Z"
   },
   {
    "duration": 0,
    "start_time": "2022-07-17T10:08:42.822Z"
   },
   {
    "duration": 0,
    "start_time": "2022-07-17T10:08:42.823Z"
   },
   {
    "duration": 0,
    "start_time": "2022-07-17T10:08:42.825Z"
   },
   {
    "duration": 0,
    "start_time": "2022-07-17T10:08:42.826Z"
   },
   {
    "duration": 0,
    "start_time": "2022-07-17T10:08:42.828Z"
   },
   {
    "duration": 0,
    "start_time": "2022-07-17T10:08:42.829Z"
   },
   {
    "duration": 0,
    "start_time": "2022-07-17T10:08:42.831Z"
   },
   {
    "duration": 0,
    "start_time": "2022-07-17T10:08:42.832Z"
   },
   {
    "duration": 0,
    "start_time": "2022-07-17T10:08:42.834Z"
   },
   {
    "duration": 0,
    "start_time": "2022-07-17T10:08:42.835Z"
   },
   {
    "duration": 0,
    "start_time": "2022-07-17T10:08:42.837Z"
   },
   {
    "duration": 0,
    "start_time": "2022-07-17T10:08:42.838Z"
   },
   {
    "duration": 0,
    "start_time": "2022-07-17T10:08:42.839Z"
   },
   {
    "duration": 0,
    "start_time": "2022-07-17T10:08:42.841Z"
   },
   {
    "duration": 0,
    "start_time": "2022-07-17T10:08:42.842Z"
   },
   {
    "duration": 0,
    "start_time": "2022-07-17T10:08:42.844Z"
   },
   {
    "duration": 0,
    "start_time": "2022-07-17T10:08:42.845Z"
   },
   {
    "duration": 0,
    "start_time": "2022-07-17T10:08:42.847Z"
   },
   {
    "duration": 0,
    "start_time": "2022-07-17T10:08:42.848Z"
   },
   {
    "duration": 1,
    "start_time": "2022-07-17T10:08:42.849Z"
   },
   {
    "duration": 0,
    "start_time": "2022-07-17T10:08:42.851Z"
   },
   {
    "duration": 0,
    "start_time": "2022-07-17T10:08:42.903Z"
   },
   {
    "duration": 0,
    "start_time": "2022-07-17T10:08:42.904Z"
   },
   {
    "duration": 0,
    "start_time": "2022-07-17T10:08:42.906Z"
   },
   {
    "duration": 0,
    "start_time": "2022-07-17T10:08:42.907Z"
   },
   {
    "duration": 0,
    "start_time": "2022-07-17T10:08:42.908Z"
   },
   {
    "duration": 0,
    "start_time": "2022-07-17T10:08:42.908Z"
   },
   {
    "duration": 0,
    "start_time": "2022-07-17T10:08:42.909Z"
   },
   {
    "duration": 0,
    "start_time": "2022-07-17T10:08:42.909Z"
   },
   {
    "duration": 0,
    "start_time": "2022-07-17T10:08:42.910Z"
   },
   {
    "duration": 1,
    "start_time": "2022-07-17T10:08:42.910Z"
   },
   {
    "duration": 0,
    "start_time": "2022-07-17T10:08:42.911Z"
   },
   {
    "duration": 0,
    "start_time": "2022-07-17T10:08:42.912Z"
   },
   {
    "duration": 0,
    "start_time": "2022-07-17T10:08:42.912Z"
   },
   {
    "duration": 0,
    "start_time": "2022-07-17T10:08:42.913Z"
   },
   {
    "duration": 0,
    "start_time": "2022-07-17T10:08:42.914Z"
   },
   {
    "duration": 0,
    "start_time": "2022-07-17T10:08:42.914Z"
   },
   {
    "duration": 0,
    "start_time": "2022-07-17T10:08:42.917Z"
   },
   {
    "duration": 1112,
    "start_time": "2022-07-17T10:08:57.365Z"
   },
   {
    "duration": 147,
    "start_time": "2022-07-17T10:08:58.479Z"
   },
   {
    "duration": 21,
    "start_time": "2022-07-17T10:08:58.628Z"
   },
   {
    "duration": 5,
    "start_time": "2022-07-17T10:08:58.650Z"
   },
   {
    "duration": 16,
    "start_time": "2022-07-17T10:08:58.657Z"
   },
   {
    "duration": 4,
    "start_time": "2022-07-17T10:08:58.675Z"
   },
   {
    "duration": 20,
    "start_time": "2022-07-17T10:08:58.681Z"
   },
   {
    "duration": 8,
    "start_time": "2022-07-17T10:08:58.713Z"
   },
   {
    "duration": 14,
    "start_time": "2022-07-17T10:08:58.722Z"
   },
   {
    "duration": 12,
    "start_time": "2022-07-17T10:08:58.737Z"
   },
   {
    "duration": 16,
    "start_time": "2022-07-17T10:08:58.751Z"
   },
   {
    "duration": 13,
    "start_time": "2022-07-17T10:08:58.768Z"
   },
   {
    "duration": 5,
    "start_time": "2022-07-17T10:08:58.782Z"
   },
   {
    "duration": 35,
    "start_time": "2022-07-17T10:08:58.789Z"
   },
   {
    "duration": 15815,
    "start_time": "2022-07-17T10:08:58.825Z"
   },
   {
    "duration": 11,
    "start_time": "2022-07-17T10:09:14.641Z"
   },
   {
    "duration": 25,
    "start_time": "2022-07-17T10:09:14.653Z"
   },
   {
    "duration": 6,
    "start_time": "2022-07-17T10:09:14.679Z"
   },
   {
    "duration": 8,
    "start_time": "2022-07-17T10:09:14.708Z"
   },
   {
    "duration": 476,
    "start_time": "2022-07-17T10:09:14.718Z"
   },
   {
    "duration": 696,
    "start_time": "2022-07-17T10:09:15.200Z"
   },
   {
    "duration": 15,
    "start_time": "2022-07-17T10:09:15.898Z"
   },
   {
    "duration": 309,
    "start_time": "2022-07-17T10:09:15.915Z"
   },
   {
    "duration": 229,
    "start_time": "2022-07-17T10:09:16.226Z"
   },
   {
    "duration": 4,
    "start_time": "2022-07-17T10:09:16.457Z"
   },
   {
    "duration": 292,
    "start_time": "2022-07-17T10:09:16.462Z"
   },
   {
    "duration": 319,
    "start_time": "2022-07-17T10:09:16.756Z"
   },
   {
    "duration": 335,
    "start_time": "2022-07-17T10:09:17.076Z"
   },
   {
    "duration": 319,
    "start_time": "2022-07-17T10:09:17.413Z"
   },
   {
    "duration": 349,
    "start_time": "2022-07-17T10:09:17.733Z"
   },
   {
    "duration": 431,
    "start_time": "2022-07-17T10:09:18.084Z"
   },
   {
    "duration": 8,
    "start_time": "2022-07-17T10:09:18.517Z"
   },
   {
    "duration": 20,
    "start_time": "2022-07-17T10:09:18.527Z"
   },
   {
    "duration": 61,
    "start_time": "2022-07-17T10:09:18.548Z"
   },
   {
    "duration": 22,
    "start_time": "2022-07-17T10:09:18.613Z"
   },
   {
    "duration": 77,
    "start_time": "2022-07-17T10:09:18.636Z"
   },
   {
    "duration": 30,
    "start_time": "2022-07-17T10:09:18.716Z"
   },
   {
    "duration": 82,
    "start_time": "2022-07-17T10:09:18.748Z"
   },
   {
    "duration": 7,
    "start_time": "2022-07-17T10:09:18.831Z"
   },
   {
    "duration": 62,
    "start_time": "2022-07-17T10:09:18.840Z"
   },
   {
    "duration": 13,
    "start_time": "2022-07-17T10:09:18.907Z"
   },
   {
    "duration": 1307,
    "start_time": "2022-07-17T11:18:28.384Z"
   },
   {
    "duration": 119,
    "start_time": "2022-07-17T11:18:31.194Z"
   },
   {
    "duration": 20,
    "start_time": "2022-07-17T11:18:33.706Z"
   },
   {
    "duration": 5,
    "start_time": "2022-07-17T11:18:56.004Z"
   },
   {
    "duration": 14,
    "start_time": "2022-07-17T11:18:58.623Z"
   },
   {
    "duration": 6,
    "start_time": "2022-07-17T11:19:00.460Z"
   },
   {
    "duration": 4,
    "start_time": "2022-07-17T11:19:34.936Z"
   },
   {
    "duration": 4,
    "start_time": "2022-07-17T11:19:48.358Z"
   },
   {
    "duration": 16,
    "start_time": "2022-07-17T11:20:23.422Z"
   },
   {
    "duration": 10,
    "start_time": "2022-07-17T11:23:26.937Z"
   },
   {
    "duration": 9,
    "start_time": "2022-07-17T11:23:39.255Z"
   },
   {
    "duration": 12,
    "start_time": "2022-07-17T11:24:46.395Z"
   },
   {
    "duration": 10,
    "start_time": "2022-07-17T11:25:32.492Z"
   },
   {
    "duration": 8,
    "start_time": "2022-07-17T11:31:48.180Z"
   },
   {
    "duration": 104,
    "start_time": "2022-07-17T11:31:54.756Z"
   },
   {
    "duration": 7,
    "start_time": "2022-07-17T11:32:23.677Z"
   },
   {
    "duration": 11,
    "start_time": "2022-07-17T11:32:25.162Z"
   },
   {
    "duration": 6,
    "start_time": "2022-07-17T11:32:32.004Z"
   },
   {
    "duration": 1217,
    "start_time": "2022-07-17T11:33:06.577Z"
   },
   {
    "duration": 78,
    "start_time": "2022-07-17T11:33:07.801Z"
   },
   {
    "duration": 20,
    "start_time": "2022-07-17T11:33:10.784Z"
   },
   {
    "duration": 4,
    "start_time": "2022-07-17T11:33:11.030Z"
   },
   {
    "duration": 14,
    "start_time": "2022-07-17T11:33:12.813Z"
   },
   {
    "duration": 6,
    "start_time": "2022-07-17T11:33:13.922Z"
   },
   {
    "duration": 23,
    "start_time": "2022-07-17T11:33:15.404Z"
   },
   {
    "duration": 10,
    "start_time": "2022-07-17T11:33:18.300Z"
   },
   {
    "duration": 8,
    "start_time": "2022-07-17T11:33:20.159Z"
   },
   {
    "duration": 5,
    "start_time": "2022-07-17T11:33:21.988Z"
   },
   {
    "duration": 5,
    "start_time": "2022-07-17T11:33:22.875Z"
   },
   {
    "duration": 11,
    "start_time": "2022-07-17T11:33:23.655Z"
   },
   {
    "duration": 16,
    "start_time": "2022-07-17T11:33:29.854Z"
   },
   {
    "duration": 6,
    "start_time": "2022-07-17T11:33:33.555Z"
   },
   {
    "duration": 8,
    "start_time": "2022-07-17T11:33:34.761Z"
   },
   {
    "duration": 15239,
    "start_time": "2022-07-17T11:33:39.894Z"
   },
   {
    "duration": 9,
    "start_time": "2022-07-17T11:33:55.135Z"
   },
   {
    "duration": 32,
    "start_time": "2022-07-17T11:33:55.146Z"
   },
   {
    "duration": 4,
    "start_time": "2022-07-17T11:33:55.181Z"
   },
   {
    "duration": 9,
    "start_time": "2022-07-17T11:33:56.927Z"
   },
   {
    "duration": 467,
    "start_time": "2022-07-17T11:34:00.958Z"
   },
   {
    "duration": 565,
    "start_time": "2022-07-17T11:34:03.623Z"
   },
   {
    "duration": 7,
    "start_time": "2022-07-17T11:34:11.961Z"
   },
   {
    "duration": 307,
    "start_time": "2022-07-17T11:34:13.978Z"
   },
   {
    "duration": 298,
    "start_time": "2022-07-17T11:34:55.436Z"
   },
   {
    "duration": 297,
    "start_time": "2022-07-17T11:35:08.418Z"
   },
   {
    "duration": 57,
    "start_time": "2022-07-17T11:36:22.615Z"
   },
   {
    "duration": 298,
    "start_time": "2022-07-17T11:36:40.895Z"
   },
   {
    "duration": 289,
    "start_time": "2022-07-17T11:37:19.656Z"
   },
   {
    "duration": 214,
    "start_time": "2022-07-17T11:39:22.608Z"
   },
   {
    "duration": 213,
    "start_time": "2022-07-17T11:39:49.998Z"
   },
   {
    "duration": 407,
    "start_time": "2022-07-17T11:43:37.888Z"
   },
   {
    "duration": 218,
    "start_time": "2022-07-17T11:44:33.361Z"
   },
   {
    "duration": 208,
    "start_time": "2022-07-17T11:44:44.346Z"
   },
   {
    "duration": 230,
    "start_time": "2022-07-17T11:44:50.961Z"
   },
   {
    "duration": 226,
    "start_time": "2022-07-17T11:44:58.965Z"
   },
   {
    "duration": 225,
    "start_time": "2022-07-17T11:45:05.763Z"
   },
   {
    "duration": 331,
    "start_time": "2022-07-17T11:45:14.701Z"
   },
   {
    "duration": 296,
    "start_time": "2022-07-17T11:45:31.364Z"
   },
   {
    "duration": 21,
    "start_time": "2022-07-17T11:46:15.373Z"
   },
   {
    "duration": 24,
    "start_time": "2022-07-17T11:47:22.535Z"
   },
   {
    "duration": 22,
    "start_time": "2022-07-17T11:48:16.513Z"
   },
   {
    "duration": 4,
    "start_time": "2022-07-17T11:48:54.549Z"
   },
   {
    "duration": 253,
    "start_time": "2022-07-17T11:48:56.312Z"
   },
   {
    "duration": 328,
    "start_time": "2022-07-17T11:49:03.491Z"
   },
   {
    "duration": 329,
    "start_time": "2022-07-17T11:49:13.060Z"
   },
   {
    "duration": 312,
    "start_time": "2022-07-17T11:49:16.179Z"
   },
   {
    "duration": 326,
    "start_time": "2022-07-17T11:49:24.326Z"
   },
   {
    "duration": 315,
    "start_time": "2022-07-17T11:49:26.263Z"
   },
   {
    "duration": 261,
    "start_time": "2022-07-17T11:53:31.077Z"
   },
   {
    "duration": 265,
    "start_time": "2022-07-17T11:54:21.130Z"
   },
   {
    "duration": 12,
    "start_time": "2022-07-17T11:56:02.203Z"
   },
   {
    "duration": 16,
    "start_time": "2022-07-17T11:56:09.761Z"
   },
   {
    "duration": 25,
    "start_time": "2022-07-17T11:56:16.334Z"
   },
   {
    "duration": 6,
    "start_time": "2022-07-17T11:56:58.709Z"
   },
   {
    "duration": 309,
    "start_time": "2022-07-17T11:57:01.725Z"
   },
   {
    "duration": 384,
    "start_time": "2022-07-17T11:57:05.505Z"
   },
   {
    "duration": 315,
    "start_time": "2022-07-17T11:57:12.919Z"
   },
   {
    "duration": 310,
    "start_time": "2022-07-17T11:57:15.633Z"
   },
   {
    "duration": 346,
    "start_time": "2022-07-17T11:57:19.857Z"
   },
   {
    "duration": 285,
    "start_time": "2022-07-17T11:57:21.611Z"
   },
   {
    "duration": 286,
    "start_time": "2022-07-17T11:58:28.090Z"
   },
   {
    "duration": 310,
    "start_time": "2022-07-17T11:58:58.722Z"
   },
   {
    "duration": 16,
    "start_time": "2022-07-17T11:59:26.183Z"
   },
   {
    "duration": 344,
    "start_time": "2022-07-17T11:59:42.756Z"
   },
   {
    "duration": 6,
    "start_time": "2022-07-17T12:18:06.152Z"
   },
   {
    "duration": 7,
    "start_time": "2022-07-17T12:18:07.340Z"
   },
   {
    "duration": 7,
    "start_time": "2022-07-17T12:20:34.264Z"
   },
   {
    "duration": 8,
    "start_time": "2022-07-17T12:20:34.900Z"
   },
   {
    "duration": 7,
    "start_time": "2022-07-17T12:23:05.251Z"
   },
   {
    "duration": 4,
    "start_time": "2022-07-17T12:42:07.258Z"
   },
   {
    "duration": 23,
    "start_time": "2022-07-17T12:42:09.404Z"
   },
   {
    "duration": 24,
    "start_time": "2022-07-17T12:42:11.976Z"
   },
   {
    "duration": 24,
    "start_time": "2022-07-17T12:42:14.114Z"
   },
   {
    "duration": 5,
    "start_time": "2022-07-17T12:47:12.580Z"
   },
   {
    "duration": 23,
    "start_time": "2022-07-17T12:47:17.301Z"
   },
   {
    "duration": 23,
    "start_time": "2022-07-17T12:47:26.868Z"
   },
   {
    "duration": 22,
    "start_time": "2022-07-17T12:47:29.736Z"
   },
   {
    "duration": 5,
    "start_time": "2022-07-17T12:48:43.971Z"
   },
   {
    "duration": 23,
    "start_time": "2022-07-17T12:48:45.745Z"
   },
   {
    "duration": 23,
    "start_time": "2022-07-17T12:48:54.579Z"
   },
   {
    "duration": 24,
    "start_time": "2022-07-17T12:48:57.957Z"
   },
   {
    "duration": 27,
    "start_time": "2022-07-17T12:56:52.815Z"
   },
   {
    "duration": 24,
    "start_time": "2022-07-17T12:58:51.146Z"
   },
   {
    "duration": 23,
    "start_time": "2022-07-17T12:59:13.910Z"
   },
   {
    "duration": 5,
    "start_time": "2022-07-17T13:02:58.588Z"
   },
   {
    "duration": 24,
    "start_time": "2022-07-17T13:02:59.636Z"
   },
   {
    "duration": 25,
    "start_time": "2022-07-17T13:03:00.892Z"
   },
   {
    "duration": 25,
    "start_time": "2022-07-17T13:03:02.001Z"
   },
   {
    "duration": 6,
    "start_time": "2022-07-17T13:05:29.466Z"
   },
   {
    "duration": 10,
    "start_time": "2022-07-17T13:05:30.821Z"
   },
   {
    "duration": 8,
    "start_time": "2022-07-17T13:05:40.652Z"
   },
   {
    "duration": 1231,
    "start_time": "2022-07-17T13:06:10.777Z"
   },
   {
    "duration": 99,
    "start_time": "2022-07-17T13:06:12.028Z"
   },
   {
    "duration": 19,
    "start_time": "2022-07-17T13:06:13.551Z"
   },
   {
    "duration": 5,
    "start_time": "2022-07-17T13:06:14.362Z"
   },
   {
    "duration": 21,
    "start_time": "2022-07-17T13:06:15.465Z"
   },
   {
    "duration": 5,
    "start_time": "2022-07-17T13:06:15.988Z"
   },
   {
    "duration": 18,
    "start_time": "2022-07-17T13:06:17.067Z"
   },
   {
    "duration": 9,
    "start_time": "2022-07-17T13:06:18.431Z"
   },
   {
    "duration": 9,
    "start_time": "2022-07-17T13:06:18.744Z"
   },
   {
    "duration": 5,
    "start_time": "2022-07-17T13:06:19.920Z"
   },
   {
    "duration": 5,
    "start_time": "2022-07-17T13:06:20.469Z"
   },
   {
    "duration": 15,
    "start_time": "2022-07-17T13:06:21.066Z"
   },
   {
    "duration": 15,
    "start_time": "2022-07-17T13:06:22.176Z"
   },
   {
    "duration": 5,
    "start_time": "2022-07-17T13:06:23.850Z"
   },
   {
    "duration": 6,
    "start_time": "2022-07-17T13:06:24.383Z"
   },
   {
    "duration": 15861,
    "start_time": "2022-07-17T13:06:26.108Z"
   },
   {
    "duration": 12,
    "start_time": "2022-07-17T13:06:41.971Z"
   },
   {
    "duration": 37,
    "start_time": "2022-07-17T13:06:41.985Z"
   },
   {
    "duration": 6,
    "start_time": "2022-07-17T13:06:42.025Z"
   },
   {
    "duration": 22,
    "start_time": "2022-07-17T13:06:42.033Z"
   },
   {
    "duration": 476,
    "start_time": "2022-07-17T13:06:42.056Z"
   },
   {
    "duration": 587,
    "start_time": "2022-07-17T13:06:45.701Z"
   },
   {
    "duration": 6,
    "start_time": "2022-07-17T13:06:58.417Z"
   },
   {
    "duration": 313,
    "start_time": "2022-07-17T13:07:00.833Z"
   },
   {
    "duration": 231,
    "start_time": "2022-07-17T13:07:07.359Z"
   },
   {
    "duration": 214,
    "start_time": "2022-07-17T13:07:20.185Z"
   },
   {
    "duration": 25,
    "start_time": "2022-07-17T13:07:26.657Z"
   },
   {
    "duration": 5,
    "start_time": "2022-07-17T13:07:29.371Z"
   },
   {
    "duration": 265,
    "start_time": "2022-07-17T13:07:30.469Z"
   },
   {
    "duration": 300,
    "start_time": "2022-07-17T13:07:31.591Z"
   },
   {
    "duration": 316,
    "start_time": "2022-07-17T13:07:33.110Z"
   },
   {
    "duration": 313,
    "start_time": "2022-07-17T13:07:34.164Z"
   },
   {
    "duration": 323,
    "start_time": "2022-07-17T13:07:36.054Z"
   },
   {
    "duration": 393,
    "start_time": "2022-07-17T13:07:36.808Z"
   },
   {
    "duration": 299,
    "start_time": "2022-07-17T13:07:37.623Z"
   },
   {
    "duration": 316,
    "start_time": "2022-07-17T13:07:38.771Z"
   },
   {
    "duration": 7,
    "start_time": "2022-07-17T13:07:52.065Z"
   },
   {
    "duration": 7,
    "start_time": "2022-07-17T13:07:54.627Z"
   },
   {
    "duration": 8,
    "start_time": "2022-07-17T13:08:17.575Z"
   },
   {
    "duration": 5,
    "start_time": "2022-07-17T13:08:30.469Z"
   },
   {
    "duration": 22,
    "start_time": "2022-07-17T13:08:31.452Z"
   },
   {
    "duration": 24,
    "start_time": "2022-07-17T13:08:33.432Z"
   },
   {
    "duration": 25,
    "start_time": "2022-07-17T13:08:36.078Z"
   },
   {
    "duration": 6,
    "start_time": "2022-07-17T13:08:52.599Z"
   },
   {
    "duration": 10,
    "start_time": "2022-07-17T13:08:57.786Z"
   },
   {
    "duration": 9,
    "start_time": "2022-07-17T13:09:03.885Z"
   },
   {
    "duration": 9,
    "start_time": "2022-07-17T13:18:52.965Z"
   },
   {
    "duration": 17,
    "start_time": "2022-07-17T13:28:00.493Z"
   },
   {
    "duration": 4,
    "start_time": "2022-07-17T13:28:08.621Z"
   },
   {
    "duration": 73,
    "start_time": "2022-07-17T13:28:10.224Z"
   },
   {
    "duration": 15,
    "start_time": "2022-07-17T13:28:12.753Z"
   },
   {
    "duration": 4,
    "start_time": "2022-07-17T13:28:13.523Z"
   },
   {
    "duration": 15,
    "start_time": "2022-07-17T13:28:24.634Z"
   },
   {
    "duration": 6,
    "start_time": "2022-07-17T13:28:25.583Z"
   },
   {
    "duration": 69,
    "start_time": "2022-07-17T13:32:29.001Z"
   },
   {
    "duration": 15,
    "start_time": "2022-07-17T13:33:57.998Z"
   },
   {
    "duration": 5,
    "start_time": "2022-07-17T13:34:24.011Z"
   },
   {
    "duration": 9,
    "start_time": "2022-07-17T13:34:26.179Z"
   },
   {
    "duration": 1259,
    "start_time": "2022-07-18T05:11:51.692Z"
   },
   {
    "duration": 214,
    "start_time": "2022-07-18T05:11:52.953Z"
   },
   {
    "duration": 0,
    "start_time": "2022-07-18T05:11:53.171Z"
   },
   {
    "duration": 0,
    "start_time": "2022-07-18T05:11:53.173Z"
   },
   {
    "duration": 0,
    "start_time": "2022-07-18T05:11:53.173Z"
   },
   {
    "duration": 0,
    "start_time": "2022-07-18T05:11:53.174Z"
   },
   {
    "duration": 0,
    "start_time": "2022-07-18T05:11:53.176Z"
   },
   {
    "duration": 0,
    "start_time": "2022-07-18T05:11:53.177Z"
   },
   {
    "duration": 0,
    "start_time": "2022-07-18T05:11:53.178Z"
   },
   {
    "duration": 0,
    "start_time": "2022-07-18T05:11:53.179Z"
   },
   {
    "duration": 0,
    "start_time": "2022-07-18T05:11:53.180Z"
   },
   {
    "duration": 0,
    "start_time": "2022-07-18T05:11:53.181Z"
   },
   {
    "duration": 0,
    "start_time": "2022-07-18T05:11:53.182Z"
   },
   {
    "duration": 0,
    "start_time": "2022-07-18T05:11:53.184Z"
   },
   {
    "duration": 0,
    "start_time": "2022-07-18T05:11:53.185Z"
   },
   {
    "duration": 0,
    "start_time": "2022-07-18T05:11:53.186Z"
   },
   {
    "duration": 0,
    "start_time": "2022-07-18T05:11:53.187Z"
   },
   {
    "duration": 0,
    "start_time": "2022-07-18T05:11:53.210Z"
   },
   {
    "duration": 0,
    "start_time": "2022-07-18T05:11:53.211Z"
   },
   {
    "duration": 0,
    "start_time": "2022-07-18T05:11:53.212Z"
   },
   {
    "duration": 0,
    "start_time": "2022-07-18T05:11:53.212Z"
   },
   {
    "duration": 0,
    "start_time": "2022-07-18T05:11:53.213Z"
   },
   {
    "duration": 0,
    "start_time": "2022-07-18T05:11:53.214Z"
   },
   {
    "duration": 0,
    "start_time": "2022-07-18T05:11:53.215Z"
   },
   {
    "duration": 0,
    "start_time": "2022-07-18T05:11:53.215Z"
   },
   {
    "duration": 0,
    "start_time": "2022-07-18T05:11:53.216Z"
   },
   {
    "duration": 0,
    "start_time": "2022-07-18T05:11:53.217Z"
   },
   {
    "duration": 0,
    "start_time": "2022-07-18T05:11:53.218Z"
   },
   {
    "duration": 0,
    "start_time": "2022-07-18T05:11:53.218Z"
   },
   {
    "duration": 0,
    "start_time": "2022-07-18T05:11:53.219Z"
   },
   {
    "duration": 0,
    "start_time": "2022-07-18T05:11:53.220Z"
   },
   {
    "duration": 0,
    "start_time": "2022-07-18T05:11:53.221Z"
   },
   {
    "duration": 0,
    "start_time": "2022-07-18T05:11:53.221Z"
   },
   {
    "duration": 0,
    "start_time": "2022-07-18T05:11:53.222Z"
   },
   {
    "duration": 0,
    "start_time": "2022-07-18T05:11:53.223Z"
   },
   {
    "duration": 0,
    "start_time": "2022-07-18T05:11:53.224Z"
   },
   {
    "duration": 0,
    "start_time": "2022-07-18T05:11:53.224Z"
   },
   {
    "duration": 0,
    "start_time": "2022-07-18T05:11:53.225Z"
   },
   {
    "duration": 0,
    "start_time": "2022-07-18T05:11:53.226Z"
   },
   {
    "duration": 0,
    "start_time": "2022-07-18T05:11:53.228Z"
   },
   {
    "duration": 0,
    "start_time": "2022-07-18T05:11:53.229Z"
   },
   {
    "duration": 0,
    "start_time": "2022-07-18T05:11:53.230Z"
   },
   {
    "duration": 0,
    "start_time": "2022-07-18T05:11:53.230Z"
   },
   {
    "duration": 0,
    "start_time": "2022-07-18T05:11:53.231Z"
   },
   {
    "duration": 0,
    "start_time": "2022-07-18T05:11:53.235Z"
   },
   {
    "duration": 0,
    "start_time": "2022-07-18T05:11:53.236Z"
   },
   {
    "duration": 0,
    "start_time": "2022-07-18T05:11:53.237Z"
   },
   {
    "duration": 0,
    "start_time": "2022-07-18T05:11:53.237Z"
   },
   {
    "duration": 0,
    "start_time": "2022-07-18T05:11:53.238Z"
   },
   {
    "duration": 0,
    "start_time": "2022-07-18T05:11:53.239Z"
   },
   {
    "duration": 1206,
    "start_time": "2022-07-18T05:12:19.672Z"
   },
   {
    "duration": 120,
    "start_time": "2022-07-18T05:12:20.880Z"
   },
   {
    "duration": 35,
    "start_time": "2022-07-18T05:12:21.002Z"
   },
   {
    "duration": 21,
    "start_time": "2022-07-18T05:12:21.039Z"
   },
   {
    "duration": 35,
    "start_time": "2022-07-18T05:12:21.062Z"
   },
   {
    "duration": 7,
    "start_time": "2022-07-18T05:12:21.099Z"
   },
   {
    "duration": 57,
    "start_time": "2022-07-18T05:12:21.108Z"
   },
   {
    "duration": 17,
    "start_time": "2022-07-18T05:12:21.167Z"
   },
   {
    "duration": 20,
    "start_time": "2022-07-18T05:12:21.186Z"
   },
   {
    "duration": 13,
    "start_time": "2022-07-18T05:12:21.209Z"
   },
   {
    "duration": 36,
    "start_time": "2022-07-18T05:12:21.224Z"
   },
   {
    "duration": 25,
    "start_time": "2022-07-18T05:12:21.261Z"
   },
   {
    "duration": 17,
    "start_time": "2022-07-18T05:12:21.288Z"
   },
   {
    "duration": 45,
    "start_time": "2022-07-18T05:12:21.307Z"
   },
   {
    "duration": 18,
    "start_time": "2022-07-18T05:12:21.354Z"
   },
   {
    "duration": 36,
    "start_time": "2022-07-18T05:12:21.373Z"
   },
   {
    "duration": 19,
    "start_time": "2022-07-18T05:12:21.411Z"
   },
   {
    "duration": 56,
    "start_time": "2022-07-18T05:12:21.432Z"
   },
   {
    "duration": 16410,
    "start_time": "2022-07-18T05:12:21.490Z"
   },
   {
    "duration": 36,
    "start_time": "2022-07-18T05:12:37.901Z"
   },
   {
    "duration": 24,
    "start_time": "2022-07-18T05:12:37.939Z"
   },
   {
    "duration": 5,
    "start_time": "2022-07-18T05:12:37.965Z"
   },
   {
    "duration": 13,
    "start_time": "2022-07-18T05:12:37.971Z"
   },
   {
    "duration": 506,
    "start_time": "2022-07-18T05:12:37.985Z"
   },
   {
    "duration": 657,
    "start_time": "2022-07-18T05:12:38.492Z"
   },
   {
    "duration": 8,
    "start_time": "2022-07-18T05:12:39.151Z"
   },
   {
    "duration": 337,
    "start_time": "2022-07-18T05:12:39.161Z"
   },
   {
    "duration": 11,
    "start_time": "2022-07-18T05:12:39.502Z"
   },
   {
    "duration": 254,
    "start_time": "2022-07-18T05:12:39.521Z"
   },
   {
    "duration": 278,
    "start_time": "2022-07-18T05:12:39.777Z"
   },
   {
    "duration": 80,
    "start_time": "2022-07-18T05:12:40.057Z"
   },
   {
    "duration": 8,
    "start_time": "2022-07-18T05:12:40.139Z"
   },
   {
    "duration": 298,
    "start_time": "2022-07-18T05:12:40.149Z"
   },
   {
    "duration": 365,
    "start_time": "2022-07-18T05:12:40.449Z"
   },
   {
    "duration": 347,
    "start_time": "2022-07-18T05:12:40.816Z"
   },
   {
    "duration": 376,
    "start_time": "2022-07-18T05:12:41.164Z"
   },
   {
    "duration": 451,
    "start_time": "2022-07-18T05:12:41.547Z"
   },
   {
    "duration": 336,
    "start_time": "2022-07-18T05:12:42.014Z"
   },
   {
    "duration": 351,
    "start_time": "2022-07-18T05:12:42.352Z"
   },
   {
    "duration": 309,
    "start_time": "2022-07-18T05:12:42.709Z"
   },
   {
    "duration": 9,
    "start_time": "2022-07-18T05:12:43.020Z"
   },
   {
    "duration": 27,
    "start_time": "2022-07-18T05:12:43.033Z"
   },
   {
    "duration": 7,
    "start_time": "2022-07-18T05:12:43.062Z"
   },
   {
    "duration": 7,
    "start_time": "2022-07-18T05:12:43.070Z"
   },
   {
    "duration": 39,
    "start_time": "2022-07-18T05:12:43.079Z"
   },
   {
    "duration": 30,
    "start_time": "2022-07-18T05:12:43.124Z"
   },
   {
    "duration": 27,
    "start_time": "2022-07-18T05:12:43.156Z"
   },
   {
    "duration": 6,
    "start_time": "2022-07-18T05:12:43.185Z"
   },
   {
    "duration": 26,
    "start_time": "2022-07-18T05:12:43.193Z"
   },
   {
    "duration": 16,
    "start_time": "2022-07-18T05:12:43.225Z"
   },
   {
    "duration": 332,
    "start_time": "2022-07-18T05:13:39.058Z"
   },
   {
    "duration": 316,
    "start_time": "2022-07-18T05:13:48.074Z"
   },
   {
    "duration": 5,
    "start_time": "2022-07-18T05:14:02.140Z"
   },
   {
    "duration": 305,
    "start_time": "2022-07-18T05:14:04.893Z"
   },
   {
    "duration": 322,
    "start_time": "2022-07-18T05:14:13.758Z"
   },
   {
    "duration": 413,
    "start_time": "2022-07-18T05:14:18.059Z"
   },
   {
    "duration": 338,
    "start_time": "2022-07-18T05:14:22.597Z"
   },
   {
    "duration": 312,
    "start_time": "2022-07-18T05:14:26.775Z"
   },
   {
    "duration": 352,
    "start_time": "2022-07-18T05:14:31.541Z"
   },
   {
    "duration": 51,
    "start_time": "2022-11-26T08:18:13.826Z"
   },
   {
    "duration": 8,
    "start_time": "2022-11-26T08:18:30.545Z"
   },
   {
    "duration": 1184,
    "start_time": "2022-11-26T08:18:37.055Z"
   },
   {
    "duration": 182,
    "start_time": "2022-11-26T08:18:38.466Z"
   },
   {
    "duration": 24,
    "start_time": "2022-11-26T08:19:42.866Z"
   },
   {
    "duration": 5,
    "start_time": "2022-11-26T08:21:05.655Z"
   },
   {
    "duration": 14,
    "start_time": "2022-11-26T08:21:43.094Z"
   },
   {
    "duration": 5,
    "start_time": "2022-11-26T08:23:45.215Z"
   },
   {
    "duration": 15,
    "start_time": "2022-11-26T08:24:21.765Z"
   },
   {
    "duration": 8,
    "start_time": "2022-11-26T08:25:29.684Z"
   },
   {
    "duration": 13,
    "start_time": "2022-11-26T08:25:38.614Z"
   },
   {
    "duration": 5,
    "start_time": "2022-11-26T08:25:55.592Z"
   },
   {
    "duration": 8,
    "start_time": "2022-11-26T08:25:56.467Z"
   },
   {
    "duration": 8,
    "start_time": "2022-11-26T08:25:59.005Z"
   },
   {
    "duration": 6,
    "start_time": "2022-11-26T08:26:10.308Z"
   },
   {
    "duration": 5,
    "start_time": "2022-11-26T08:26:11.145Z"
   },
   {
    "duration": 10,
    "start_time": "2022-11-26T08:26:44.965Z"
   },
   {
    "duration": 16,
    "start_time": "2022-11-26T08:27:15.485Z"
   },
   {
    "duration": 5,
    "start_time": "2022-11-26T08:27:44.894Z"
   },
   {
    "duration": 6,
    "start_time": "2022-11-26T08:28:13.227Z"
   },
   {
    "duration": 16136,
    "start_time": "2022-11-26T08:33:20.570Z"
   },
   {
    "duration": 9,
    "start_time": "2022-11-26T08:33:36.708Z"
   },
   {
    "duration": 22,
    "start_time": "2022-11-26T08:34:17.791Z"
   },
   {
    "duration": 5,
    "start_time": "2022-11-26T08:35:45.261Z"
   },
   {
    "duration": 11,
    "start_time": "2022-11-26T08:37:05.021Z"
   },
   {
    "duration": 427,
    "start_time": "2022-11-26T08:38:00.272Z"
   },
   {
    "duration": 508,
    "start_time": "2022-11-26T08:38:11.551Z"
   },
   {
    "duration": 5,
    "start_time": "2022-11-26T08:39:27.764Z"
   },
   {
    "duration": 280,
    "start_time": "2022-11-26T08:40:04.372Z"
   },
   {
    "duration": 192,
    "start_time": "2022-11-26T08:40:26.557Z"
   },
   {
    "duration": 197,
    "start_time": "2022-11-26T08:40:45.812Z"
   },
   {
    "duration": 252,
    "start_time": "2022-11-26T08:41:08.851Z"
   },
   {
    "duration": 49,
    "start_time": "2022-11-26T08:41:26.748Z"
   },
   {
    "duration": 65,
    "start_time": "2022-11-26T08:42:40.533Z"
   },
   {
    "duration": 49,
    "start_time": "2022-11-26T16:35:18.682Z"
   },
   {
    "duration": 0,
    "start_time": "2022-11-26T16:35:18.733Z"
   },
   {
    "duration": 0,
    "start_time": "2022-11-26T16:35:18.734Z"
   },
   {
    "duration": 0,
    "start_time": "2022-11-26T16:35:18.736Z"
   },
   {
    "duration": 0,
    "start_time": "2022-11-26T16:35:18.737Z"
   },
   {
    "duration": 0,
    "start_time": "2022-11-26T16:35:18.738Z"
   },
   {
    "duration": 0,
    "start_time": "2022-11-26T16:35:18.739Z"
   },
   {
    "duration": 0,
    "start_time": "2022-11-26T16:35:18.740Z"
   },
   {
    "duration": 0,
    "start_time": "2022-11-26T16:35:18.741Z"
   },
   {
    "duration": 0,
    "start_time": "2022-11-26T16:35:18.742Z"
   },
   {
    "duration": 0,
    "start_time": "2022-11-26T16:35:18.743Z"
   },
   {
    "duration": 0,
    "start_time": "2022-11-26T16:35:18.744Z"
   },
   {
    "duration": 0,
    "start_time": "2022-11-26T16:35:18.752Z"
   },
   {
    "duration": 0,
    "start_time": "2022-11-26T16:35:18.753Z"
   },
   {
    "duration": 0,
    "start_time": "2022-11-26T16:35:18.754Z"
   },
   {
    "duration": 0,
    "start_time": "2022-11-26T16:35:18.755Z"
   },
   {
    "duration": 0,
    "start_time": "2022-11-26T16:35:18.757Z"
   },
   {
    "duration": 0,
    "start_time": "2022-11-26T16:35:18.758Z"
   },
   {
    "duration": 0,
    "start_time": "2022-11-26T16:35:18.758Z"
   },
   {
    "duration": 0,
    "start_time": "2022-11-26T16:35:18.759Z"
   },
   {
    "duration": 8,
    "start_time": "2022-11-26T16:35:18.762Z"
   },
   {
    "duration": 0,
    "start_time": "2022-11-26T16:35:18.771Z"
   },
   {
    "duration": 0,
    "start_time": "2022-11-26T16:35:18.773Z"
   },
   {
    "duration": 0,
    "start_time": "2022-11-26T16:35:18.774Z"
   },
   {
    "duration": 0,
    "start_time": "2022-11-26T16:35:18.775Z"
   },
   {
    "duration": 0,
    "start_time": "2022-11-26T16:35:18.776Z"
   },
   {
    "duration": 0,
    "start_time": "2022-11-26T16:35:18.778Z"
   },
   {
    "duration": 0,
    "start_time": "2022-11-26T16:35:18.778Z"
   },
   {
    "duration": 0,
    "start_time": "2022-11-26T16:35:18.780Z"
   },
   {
    "duration": 0,
    "start_time": "2022-11-26T16:35:18.781Z"
   },
   {
    "duration": 0,
    "start_time": "2022-11-26T16:35:18.782Z"
   },
   {
    "duration": 0,
    "start_time": "2022-11-26T16:35:18.783Z"
   },
   {
    "duration": 0,
    "start_time": "2022-11-26T16:35:18.784Z"
   },
   {
    "duration": 0,
    "start_time": "2022-11-26T16:35:18.785Z"
   },
   {
    "duration": 0,
    "start_time": "2022-11-26T16:35:18.787Z"
   },
   {
    "duration": 0,
    "start_time": "2022-11-26T16:35:18.788Z"
   },
   {
    "duration": 0,
    "start_time": "2022-11-26T16:35:18.788Z"
   },
   {
    "duration": 70,
    "start_time": "2022-11-26T16:35:18.791Z"
   },
   {
    "duration": 0,
    "start_time": "2022-11-26T16:35:18.863Z"
   },
   {
    "duration": 0,
    "start_time": "2022-11-26T16:35:18.865Z"
   },
   {
    "duration": 0,
    "start_time": "2022-11-26T16:35:18.866Z"
   },
   {
    "duration": 0,
    "start_time": "2022-11-26T16:35:18.867Z"
   },
   {
    "duration": 0,
    "start_time": "2022-11-26T16:35:18.868Z"
   },
   {
    "duration": 0,
    "start_time": "2022-11-26T16:35:18.870Z"
   },
   {
    "duration": 0,
    "start_time": "2022-11-26T16:35:18.871Z"
   },
   {
    "duration": 0,
    "start_time": "2022-11-26T16:35:18.872Z"
   },
   {
    "duration": 0,
    "start_time": "2022-11-26T16:35:18.873Z"
   },
   {
    "duration": 0,
    "start_time": "2022-11-26T16:35:18.875Z"
   },
   {
    "duration": 0,
    "start_time": "2022-11-26T16:35:18.877Z"
   },
   {
    "duration": 0,
    "start_time": "2022-11-26T16:35:18.879Z"
   },
   {
    "duration": 0,
    "start_time": "2022-11-26T16:35:18.881Z"
   },
   {
    "duration": 0,
    "start_time": "2022-11-26T16:35:18.882Z"
   },
   {
    "duration": 7,
    "start_time": "2022-11-26T16:42:40.026Z"
   },
   {
    "duration": 9,
    "start_time": "2022-11-26T16:43:02.708Z"
   },
   {
    "duration": 1280,
    "start_time": "2022-11-26T16:43:37.672Z"
   },
   {
    "duration": 192,
    "start_time": "2022-11-26T16:43:40.620Z"
   },
   {
    "duration": 21,
    "start_time": "2022-11-26T16:43:46.812Z"
   },
   {
    "duration": 5,
    "start_time": "2022-11-26T16:43:48.590Z"
   },
   {
    "duration": 12,
    "start_time": "2022-11-26T16:43:50.490Z"
   },
   {
    "duration": 74,
    "start_time": "2022-11-26T16:43:51.030Z"
   },
   {
    "duration": 5,
    "start_time": "2022-11-26T16:43:51.595Z"
   },
   {
    "duration": 4,
    "start_time": "2022-11-26T16:43:57.486Z"
   },
   {
    "duration": 16,
    "start_time": "2022-11-26T16:43:58.618Z"
   },
   {
    "duration": 10,
    "start_time": "2022-11-26T16:43:59.910Z"
   },
   {
    "duration": 14,
    "start_time": "2022-11-26T16:44:01.635Z"
   },
   {
    "duration": 6,
    "start_time": "2022-11-26T16:44:02.760Z"
   },
   {
    "duration": 9,
    "start_time": "2022-11-26T16:44:03.241Z"
   },
   {
    "duration": 7,
    "start_time": "2022-11-26T16:44:03.733Z"
   },
   {
    "duration": 5,
    "start_time": "2022-11-26T16:44:04.830Z"
   },
   {
    "duration": 8,
    "start_time": "2022-11-26T16:44:05.188Z"
   },
   {
    "duration": 9,
    "start_time": "2022-11-26T16:44:06.338Z"
   },
   {
    "duration": 14,
    "start_time": "2022-11-26T16:44:07.250Z"
   },
   {
    "duration": 5,
    "start_time": "2022-11-26T16:44:07.790Z"
   },
   {
    "duration": 9,
    "start_time": "2022-11-26T16:44:08.722Z"
   },
   {
    "duration": 17074,
    "start_time": "2022-11-26T16:44:10.132Z"
   },
   {
    "duration": 12,
    "start_time": "2022-11-26T16:44:27.208Z"
   },
   {
    "duration": 46,
    "start_time": "2022-11-26T16:44:27.222Z"
   },
   {
    "duration": 6,
    "start_time": "2022-11-26T16:44:27.271Z"
   },
   {
    "duration": 37,
    "start_time": "2022-11-26T16:44:27.279Z"
   },
   {
    "duration": 24,
    "start_time": "2022-11-26T16:44:27.318Z"
   },
   {
    "duration": 49,
    "start_time": "2022-11-26T16:44:27.344Z"
   },
   {
    "duration": 9,
    "start_time": "2022-11-26T16:44:30.516Z"
   },
   {
    "duration": 22,
    "start_time": "2022-11-26T16:44:32.032Z"
   },
   {
    "duration": 11,
    "start_time": "2022-11-26T16:44:33.173Z"
   },
   {
    "duration": 12,
    "start_time": "2022-11-26T16:44:34.103Z"
   },
   {
    "duration": 97,
    "start_time": "2022-11-26T16:44:39.030Z"
   },
   {
    "duration": 8,
    "start_time": "2022-11-26T16:44:39.486Z"
   },
   {
    "duration": 1311,
    "start_time": "2022-11-26T16:44:54.131Z"
   },
   {
    "duration": 65,
    "start_time": "2022-11-26T16:44:55.444Z"
   },
   {
    "duration": 21,
    "start_time": "2022-11-26T16:44:55.510Z"
   },
   {
    "duration": 5,
    "start_time": "2022-11-26T16:44:55.533Z"
   },
   {
    "duration": 17,
    "start_time": "2022-11-26T16:44:55.540Z"
   },
   {
    "duration": 16,
    "start_time": "2022-11-26T16:44:55.559Z"
   },
   {
    "duration": 21,
    "start_time": "2022-11-26T16:44:55.578Z"
   },
   {
    "duration": 9,
    "start_time": "2022-11-26T16:44:55.600Z"
   },
   {
    "duration": 18,
    "start_time": "2022-11-26T16:44:55.610Z"
   },
   {
    "duration": 5,
    "start_time": "2022-11-26T16:44:55.630Z"
   },
   {
    "duration": 30,
    "start_time": "2022-11-26T16:44:55.637Z"
   },
   {
    "duration": 11,
    "start_time": "2022-11-26T16:44:55.670Z"
   },
   {
    "duration": 10,
    "start_time": "2022-11-26T16:44:55.683Z"
   },
   {
    "duration": 13,
    "start_time": "2022-11-26T16:44:55.697Z"
   },
   {
    "duration": 43,
    "start_time": "2022-11-26T16:44:55.713Z"
   },
   {
    "duration": 26,
    "start_time": "2022-11-26T16:44:55.758Z"
   },
   {
    "duration": 7,
    "start_time": "2022-11-26T16:44:55.786Z"
   },
   {
    "duration": 10,
    "start_time": "2022-11-26T16:44:55.794Z"
   },
   {
    "duration": 15994,
    "start_time": "2022-11-26T16:44:55.807Z"
   },
   {
    "duration": 9,
    "start_time": "2022-11-26T16:45:11.803Z"
   },
   {
    "duration": 23,
    "start_time": "2022-11-26T16:45:11.814Z"
   },
   {
    "duration": 7,
    "start_time": "2022-11-26T16:45:11.852Z"
   },
   {
    "duration": 10,
    "start_time": "2022-11-26T16:45:11.862Z"
   },
   {
    "duration": 526,
    "start_time": "2022-11-26T16:45:11.874Z"
   },
   {
    "duration": 665,
    "start_time": "2022-11-26T16:45:12.402Z"
   },
   {
    "duration": 7,
    "start_time": "2022-11-26T16:45:13.072Z"
   },
   {
    "duration": 334,
    "start_time": "2022-11-26T16:45:13.081Z"
   },
   {
    "duration": 4,
    "start_time": "2022-11-26T16:45:13.417Z"
   },
   {
    "duration": 255,
    "start_time": "2022-11-26T16:45:13.423Z"
   },
   {
    "duration": 233,
    "start_time": "2022-11-26T16:45:13.680Z"
   },
   {
    "duration": 129,
    "start_time": "2022-11-26T16:45:13.915Z"
   },
   {
    "duration": 0,
    "start_time": "2022-11-26T16:45:14.046Z"
   },
   {
    "duration": 0,
    "start_time": "2022-11-26T16:45:14.047Z"
   },
   {
    "duration": 0,
    "start_time": "2022-11-26T16:45:14.047Z"
   },
   {
    "duration": 0,
    "start_time": "2022-11-26T16:45:14.052Z"
   },
   {
    "duration": 0,
    "start_time": "2022-11-26T16:45:14.058Z"
   },
   {
    "duration": 0,
    "start_time": "2022-11-26T16:45:14.059Z"
   },
   {
    "duration": 0,
    "start_time": "2022-11-26T16:45:14.060Z"
   },
   {
    "duration": 0,
    "start_time": "2022-11-26T16:45:14.062Z"
   },
   {
    "duration": 0,
    "start_time": "2022-11-26T16:45:14.063Z"
   },
   {
    "duration": 0,
    "start_time": "2022-11-26T16:45:14.064Z"
   },
   {
    "duration": 0,
    "start_time": "2022-11-26T16:45:14.066Z"
   },
   {
    "duration": 0,
    "start_time": "2022-11-26T16:45:14.067Z"
   },
   {
    "duration": 0,
    "start_time": "2022-11-26T16:45:14.068Z"
   },
   {
    "duration": 0,
    "start_time": "2022-11-26T16:45:14.069Z"
   },
   {
    "duration": 0,
    "start_time": "2022-11-26T16:45:14.071Z"
   },
   {
    "duration": 0,
    "start_time": "2022-11-26T16:45:14.072Z"
   },
   {
    "duration": 0,
    "start_time": "2022-11-26T16:45:14.073Z"
   },
   {
    "duration": 0,
    "start_time": "2022-11-26T16:45:14.074Z"
   },
   {
    "duration": 0,
    "start_time": "2022-11-26T16:45:14.076Z"
   },
   {
    "duration": 0,
    "start_time": "2022-11-26T16:45:14.077Z"
   },
   {
    "duration": 0,
    "start_time": "2022-11-26T16:45:14.078Z"
   },
   {
    "duration": 307,
    "start_time": "2022-11-26T16:46:07.307Z"
   },
   {
    "duration": 338,
    "start_time": "2022-11-26T16:47:47.440Z"
   },
   {
    "duration": 353,
    "start_time": "2022-11-26T16:48:41.580Z"
   },
   {
    "duration": 341,
    "start_time": "2022-11-26T16:48:43.115Z"
   },
   {
    "duration": 53,
    "start_time": "2022-11-26T16:49:01.494Z"
   },
   {
    "duration": 74,
    "start_time": "2022-11-26T16:49:06.108Z"
   },
   {
    "duration": 7,
    "start_time": "2022-11-26T16:49:12.906Z"
   },
   {
    "duration": 305,
    "start_time": "2022-11-26T16:49:24.738Z"
   },
   {
    "duration": 373,
    "start_time": "2022-11-26T16:49:48.605Z"
   },
   {
    "duration": 422,
    "start_time": "2022-11-26T16:50:17.624Z"
   },
   {
    "duration": 392,
    "start_time": "2022-11-26T16:50:27.516Z"
   },
   {
    "duration": 395,
    "start_time": "2022-11-26T16:51:10.145Z"
   },
   {
    "duration": 397,
    "start_time": "2022-11-26T16:51:16.921Z"
   },
   {
    "duration": 397,
    "start_time": "2022-11-26T16:51:21.777Z"
   },
   {
    "duration": 453,
    "start_time": "2022-11-26T16:51:52.536Z"
   },
   {
    "duration": 520,
    "start_time": "2022-11-26T16:51:54.224Z"
   },
   {
    "duration": 423,
    "start_time": "2022-11-26T16:51:55.177Z"
   },
   {
    "duration": 94,
    "start_time": "2022-11-26T16:52:16.326Z"
   },
   {
    "duration": 423,
    "start_time": "2022-11-26T16:52:24.908Z"
   },
   {
    "duration": 440,
    "start_time": "2022-11-26T16:52:30.225Z"
   },
   {
    "duration": 11,
    "start_time": "2022-11-26T16:53:45.856Z"
   },
   {
    "duration": 9,
    "start_time": "2022-11-26T16:53:47.282Z"
   },
   {
    "duration": 11,
    "start_time": "2022-11-26T16:54:26.272Z"
   },
   {
    "duration": 6,
    "start_time": "2022-11-26T16:54:59.429Z"
   },
   {
    "duration": 41,
    "start_time": "2022-11-26T16:55:20.381Z"
   },
   {
    "duration": 71,
    "start_time": "2022-11-26T16:55:46.260Z"
   },
   {
    "duration": 22,
    "start_time": "2022-11-26T16:55:56.734Z"
   },
   {
    "duration": 36,
    "start_time": "2022-11-26T16:56:01.412Z"
   },
   {
    "duration": 28,
    "start_time": "2022-11-26T16:56:27.024Z"
   },
   {
    "duration": 33,
    "start_time": "2022-11-26T16:56:46.202Z"
   },
   {
    "duration": 11,
    "start_time": "2022-11-26T16:57:23.449Z"
   },
   {
    "duration": 14,
    "start_time": "2022-11-26T16:57:30.414Z"
   },
   {
    "duration": 15,
    "start_time": "2022-11-26T16:57:37.375Z"
   },
   {
    "duration": 253,
    "start_time": "2022-11-26T17:07:20.913Z"
   },
   {
    "duration": 12,
    "start_time": "2022-11-26T17:07:33.487Z"
   },
   {
    "duration": 404,
    "start_time": "2022-11-26T17:09:44.318Z"
   },
   {
    "duration": 1177,
    "start_time": "2022-11-26T17:31:04.178Z"
   },
   {
    "duration": 52,
    "start_time": "2022-11-26T17:31:05.357Z"
   },
   {
    "duration": 32,
    "start_time": "2022-11-26T17:31:05.411Z"
   },
   {
    "duration": 8,
    "start_time": "2022-11-26T17:31:05.447Z"
   },
   {
    "duration": 24,
    "start_time": "2022-11-26T17:31:05.458Z"
   },
   {
    "duration": 6,
    "start_time": "2022-11-26T17:31:05.484Z"
   },
   {
    "duration": 20,
    "start_time": "2022-11-26T17:31:05.492Z"
   },
   {
    "duration": 10,
    "start_time": "2022-11-26T17:31:05.515Z"
   },
   {
    "duration": 36,
    "start_time": "2022-11-26T17:31:05.527Z"
   },
   {
    "duration": 7,
    "start_time": "2022-11-26T17:31:05.566Z"
   },
   {
    "duration": 14,
    "start_time": "2022-11-26T17:31:05.576Z"
   },
   {
    "duration": 12,
    "start_time": "2022-11-26T17:31:05.592Z"
   },
   {
    "duration": 7,
    "start_time": "2022-11-26T17:31:05.606Z"
   },
   {
    "duration": 5,
    "start_time": "2022-11-26T17:31:05.653Z"
   },
   {
    "duration": 15,
    "start_time": "2022-11-26T17:31:05.661Z"
   },
   {
    "duration": 14,
    "start_time": "2022-11-26T17:31:05.678Z"
   },
   {
    "duration": 5,
    "start_time": "2022-11-26T17:31:05.694Z"
   },
   {
    "duration": 10,
    "start_time": "2022-11-26T17:31:05.701Z"
   },
   {
    "duration": 16285,
    "start_time": "2022-11-26T17:31:05.713Z"
   },
   {
    "duration": 14,
    "start_time": "2022-11-26T17:31:22.000Z"
   },
   {
    "duration": 39,
    "start_time": "2022-11-26T17:31:22.016Z"
   },
   {
    "duration": 6,
    "start_time": "2022-11-26T17:31:22.058Z"
   },
   {
    "duration": 16,
    "start_time": "2022-11-26T17:31:22.066Z"
   },
   {
    "duration": 578,
    "start_time": "2022-11-26T17:31:22.085Z"
   },
   {
    "duration": 641,
    "start_time": "2022-11-26T17:31:22.666Z"
   },
   {
    "duration": 10,
    "start_time": "2022-11-26T17:31:23.309Z"
   },
   {
    "duration": 389,
    "start_time": "2022-11-26T17:31:23.321Z"
   },
   {
    "duration": 5,
    "start_time": "2022-11-26T17:31:23.715Z"
   },
   {
    "duration": 246,
    "start_time": "2022-11-26T17:31:23.723Z"
   },
   {
    "duration": 336,
    "start_time": "2022-11-26T17:31:23.971Z"
   },
   {
    "duration": 71,
    "start_time": "2022-11-26T17:31:24.311Z"
   },
   {
    "duration": 6,
    "start_time": "2022-11-26T17:31:24.384Z"
   },
   {
    "duration": 305,
    "start_time": "2022-11-26T17:31:24.392Z"
   },
   {
    "duration": 373,
    "start_time": "2022-11-26T17:31:24.699Z"
   },
   {
    "duration": 372,
    "start_time": "2022-11-26T17:31:25.073Z"
   },
   {
    "duration": 331,
    "start_time": "2022-11-26T17:31:25.446Z"
   },
   {
    "duration": 443,
    "start_time": "2022-11-26T17:31:25.780Z"
   },
   {
    "duration": 333,
    "start_time": "2022-11-26T17:31:26.225Z"
   },
   {
    "duration": 368,
    "start_time": "2022-11-26T17:31:26.560Z"
   },
   {
    "duration": 377,
    "start_time": "2022-11-26T17:31:26.931Z"
   },
   {
    "duration": 11,
    "start_time": "2022-11-26T17:31:27.311Z"
   },
   {
    "duration": 28,
    "start_time": "2022-11-26T17:31:27.324Z"
   },
   {
    "duration": 49,
    "start_time": "2022-11-26T17:31:27.354Z"
   },
   {
    "duration": 32,
    "start_time": "2022-11-26T17:31:27.405Z"
   },
   {
    "duration": 88,
    "start_time": "2022-11-26T17:31:27.439Z"
   },
   {
    "duration": 35,
    "start_time": "2022-11-26T17:31:27.528Z"
   },
   {
    "duration": 42,
    "start_time": "2022-11-26T17:31:27.565Z"
   },
   {
    "duration": 40,
    "start_time": "2022-11-26T17:31:27.609Z"
   },
   {
    "duration": 42,
    "start_time": "2022-11-26T17:31:27.651Z"
   },
   {
    "duration": 60,
    "start_time": "2022-11-26T17:31:27.694Z"
   }
  ],
  "kernelspec": {
   "display_name": "Python 3 (ipykernel)",
   "language": "python",
   "name": "python3"
  },
  "language_info": {
   "codemirror_mode": {
    "name": "ipython",
    "version": 3
   },
   "file_extension": ".py",
   "mimetype": "text/x-python",
   "name": "python",
   "nbconvert_exporter": "python",
   "pygments_lexer": "ipython3",
   "version": "3.9.12"
  },
  "toc": {
   "base_numbering": 1,
   "nav_menu": {},
   "number_sections": true,
   "sideBar": true,
   "skip_h1_title": true,
   "title_cell": "Table of Contents",
   "title_sidebar": "Contents",
   "toc_cell": false,
   "toc_position": {
    "height": "calc(100% - 180px)",
    "left": "10px",
    "top": "150px",
    "width": "500px"
   },
   "toc_section_display": true,
   "toc_window_display": true
  }
 },
 "nbformat": 4,
 "nbformat_minor": 2
}
