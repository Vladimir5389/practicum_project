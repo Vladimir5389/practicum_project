{
 "cells": [
  {
   "cell_type": "markdown",
   "id": "7a7f0c9b",
   "metadata": {},
   "source": [
    "# Исследование надежности заемщиков"
   ]
  },
  {
   "cell_type": "markdown",
   "id": "4e8233f3",
   "metadata": {},
   "source": [
    "## Откройте таблицу и изучите общую информацию о данных"
   ]
  },
  {
   "cell_type": "markdown",
   "id": "6a3df03e",
   "metadata": {},
   "source": [
    "**Задание 1. Импортируем библиотеку pandas. Считаем данные из csv-файла в датафрейм и сохраним в переменную `data`. Путь к файлу:**\n",
    "\n",
    "`/datasets/data.csv`"
   ]
  },
  {
   "cell_type": "code",
   "execution_count": 1,
   "id": "cca7b659",
   "metadata": {},
   "outputs": [],
   "source": [
    "import pandas as pd # импортируем библиотеку pandas\n",
    "import seaborn"
   ]
  },
  {
   "cell_type": "code",
   "execution_count": 2,
   "id": "993f2c5e",
   "metadata": {},
   "outputs": [],
   "source": [
    "data = pd.read_csv('datasets\\\\data.csv') # прочитаем csv-файл"
   ]
  },
  {
   "cell_type": "markdown",
   "id": "118541b4",
   "metadata": {},
   "source": [
    "**Задание 2. Выведем первые 20 строчек датафрейма `data` на экран.**"
   ]
  },
  {
   "cell_type": "code",
   "execution_count": 3,
   "id": "39a276df",
   "metadata": {},
   "outputs": [
    {
     "name": "stdout",
     "output_type": "stream",
     "text": [
      "    Unnamed: 0  children  days_employed  dob_years            education  \\\n",
      "0            0         1   -8437.673028         42               высшее   \n",
      "1            1         1   -4024.803754         36              среднее   \n",
      "2            2         0   -5623.422610         33              Среднее   \n",
      "3            3         3   -4124.747207         32              среднее   \n",
      "4            4         0  340266.072047         53              среднее   \n",
      "5            5         0    -926.185831         27               высшее   \n",
      "6            6         0   -2879.202052         43               высшее   \n",
      "7            7         0    -152.779569         50              СРЕДНЕЕ   \n",
      "8            8         2   -6929.865299         35               ВЫСШЕЕ   \n",
      "9            9         0   -2188.756445         41              среднее   \n",
      "10          10         2   -4171.483647         36               высшее   \n",
      "11          11         0    -792.701887         40              среднее   \n",
      "12          12         0            NaN         65              среднее   \n",
      "13          13         0   -1846.641941         54  неоконченное высшее   \n",
      "14          14         0   -1844.956182         56               высшее   \n",
      "15          15         1    -972.364419         26              среднее   \n",
      "16          16         0   -1719.934226         35              среднее   \n",
      "17          17         0   -2369.999720         33               высшее   \n",
      "18          18         0  400281.136913         53              среднее   \n",
      "19          19         0  -10038.818549         48              СРЕДНЕЕ   \n",
      "\n",
      "    education_id     family_status  family_status_id gender income_type  debt  \\\n",
      "0              0   женат / замужем                 0      F   сотрудник     0   \n",
      "1              1   женат / замужем                 0      F   сотрудник     0   \n",
      "2              1   женат / замужем                 0      M   сотрудник     0   \n",
      "3              1   женат / замужем                 0      M   сотрудник     0   \n",
      "4              1  гражданский брак                 1      F   пенсионер     0   \n",
      "5              0  гражданский брак                 1      M   компаньон     0   \n",
      "6              0   женат / замужем                 0      F   компаньон     0   \n",
      "7              1   женат / замужем                 0      M   сотрудник     0   \n",
      "8              0  гражданский брак                 1      F   сотрудник     0   \n",
      "9              1   женат / замужем                 0      M   сотрудник     0   \n",
      "10             0   женат / замужем                 0      M   компаньон     0   \n",
      "11             1   женат / замужем                 0      F   сотрудник     0   \n",
      "12             1  гражданский брак                 1      M   пенсионер     0   \n",
      "13             2   женат / замужем                 0      F   сотрудник     0   \n",
      "14             0  гражданский брак                 1      F   компаньон     1   \n",
      "15             1   женат / замужем                 0      F   сотрудник     0   \n",
      "16             1   женат / замужем                 0      F   сотрудник     0   \n",
      "17             0  гражданский брак                 1      M   сотрудник     0   \n",
      "18             1    вдовец / вдова                 2      F   пенсионер     0   \n",
      "19             1         в разводе                 3      F   сотрудник     0   \n",
      "\n",
      "     total_income                                 purpose  \n",
      "0   253875.639453                           покупка жилья  \n",
      "1   112080.014102                 приобретение автомобиля  \n",
      "2   145885.952297                           покупка жилья  \n",
      "3   267628.550329              дополнительное образование  \n",
      "4   158616.077870                         сыграть свадьбу  \n",
      "5   255763.565419                           покупка жилья  \n",
      "6   240525.971920                       операции с жильем  \n",
      "7   135823.934197                             образование  \n",
      "8    95856.832424                   на проведение свадьбы  \n",
      "9   144425.938277                 покупка жилья для семьи  \n",
      "10  113943.491460                    покупка недвижимости  \n",
      "11   77069.234271       покупка коммерческой недвижимости  \n",
      "12            NaN                         сыграть свадьбу  \n",
      "13  130458.228857                 приобретение автомобиля  \n",
      "14  165127.911772              покупка жилой недвижимости  \n",
      "15  116820.904450  строительство собственной недвижимости  \n",
      "16  289202.704229                            недвижимость  \n",
      "17   90410.586745              строительство недвижимости  \n",
      "18   56823.777243      на покупку подержанного автомобиля  \n",
      "19  242831.107982            на покупку своего автомобиля  \n"
     ]
    }
   ],
   "source": [
    "print(data.head(20))"
   ]
  },
  {
   "cell_type": "markdown",
   "id": "82bcba55",
   "metadata": {},
   "source": [
    "**Задание 3. Выведем основную информацию о датафрейме с помощью метода `info()`.**"
   ]
  },
  {
   "cell_type": "code",
   "execution_count": 4,
   "id": "961da99f",
   "metadata": {},
   "outputs": [
    {
     "name": "stdout",
     "output_type": "stream",
     "text": [
      "<class 'pandas.core.frame.DataFrame'>\n",
      "RangeIndex: 21525 entries, 0 to 21524\n",
      "Data columns (total 13 columns):\n",
      " #   Column            Non-Null Count  Dtype  \n",
      "---  ------            --------------  -----  \n",
      " 0   Unnamed: 0        21525 non-null  int64  \n",
      " 1   children          21525 non-null  int64  \n",
      " 2   days_employed     19351 non-null  float64\n",
      " 3   dob_years         21525 non-null  int64  \n",
      " 4   education         21525 non-null  object \n",
      " 5   education_id      21525 non-null  int64  \n",
      " 6   family_status     21525 non-null  object \n",
      " 7   family_status_id  21525 non-null  int64  \n",
      " 8   gender            21525 non-null  object \n",
      " 9   income_type       21525 non-null  object \n",
      " 10  debt              21525 non-null  int64  \n",
      " 11  total_income      19351 non-null  float64\n",
      " 12  purpose           21525 non-null  object \n",
      "dtypes: float64(2), int64(6), object(5)\n",
      "memory usage: 2.1+ MB\n"
     ]
    }
   ],
   "source": [
    "data.info() "
   ]
  },
  {
   "cell_type": "markdown",
   "id": "984370ae",
   "metadata": {},
   "source": [
    "## Предобработка данных"
   ]
  },
  {
   "cell_type": "markdown",
   "id": "365f2dec",
   "metadata": {},
   "source": [
    "### Удаление пропусков"
   ]
  },
  {
   "cell_type": "markdown",
   "id": "a2901fb9",
   "metadata": {},
   "source": [
    "**Задание 4. Выведем количество пропущенных значений для каждого столбца. Используем комбинацию двух методов.**"
   ]
  },
  {
   "cell_type": "code",
   "execution_count": 5,
   "id": "e9378466",
   "metadata": {},
   "outputs": [
    {
     "name": "stdout",
     "output_type": "stream",
     "text": [
      "Unnamed: 0             0\n",
      "children               0\n",
      "days_employed       2174\n",
      "dob_years              0\n",
      "education              0\n",
      "education_id           0\n",
      "family_status          0\n",
      "family_status_id       0\n",
      "gender                 0\n",
      "income_type            0\n",
      "debt                   0\n",
      "total_income        2174\n",
      "purpose                0\n",
      "dtype: int64\n"
     ]
    }
   ],
   "source": [
    "print(data.isna().sum())"
   ]
  },
  {
   "cell_type": "markdown",
   "id": "d4fc8d14",
   "metadata": {},
   "source": [
    "**Задание 5. В двух столбцах есть пропущенные значения. Один из них — `days_employed`. Пропуски в этом столбце мы обработаем на следующем этапе. Другой столбец с пропущенными значениями — `total_income` — хранит данные о доходах. На сумму дохода сильнее всего влияет тип занятости, поэтому заполнить пропуски в этом столбце нужно медианным значением по каждому типу из столбца `income_type`. Например, у человека с типом занятости `сотрудник` пропуск в столбце `total_income` должен быть заполнен медианным доходом среди всех записей с тем же типом.**"
   ]
  },
  {
   "cell_type": "code",
   "execution_count": 6,
   "id": "bd80a74a",
   "metadata": {},
   "outputs": [],
   "source": [
    "total_income_median = data.groupby('income_type')['total_income'].median()\n",
    "for inc_type in data['income_type'].unique():\n",
    "    data.loc[(data['income_type'] == inc_type) & (data['total_income'].isna() == True),'total_income'] = total_income_median[inc_type]\n",
    "\n"
   ]
  },
  {
   "cell_type": "markdown",
   "id": "7e0b8fae",
   "metadata": {},
   "source": [
    "### Обработка аномальных значений"
   ]
  },
  {
   "cell_type": "markdown",
   "id": "017516a1",
   "metadata": {},
   "source": [
    "**Задание 6. В данных могут встречаться артефакты (аномалии) — значения, которые не отражают действительность и появились по какой-то ошибке. Таким артефактом будет отрицательное количество дней трудового стажа в столбце `days_employed`. Для реальных данных это нормально. Обработаем значения в этом столбце: заменим все отрицательные значения положительными с помощью метода `abs()`.**"
   ]
  },
  {
   "cell_type": "code",
   "execution_count": 7,
   "id": "787da2e8",
   "metadata": {},
   "outputs": [],
   "source": [
    "data['days_employed'] = data['days_employed'].abs()"
   ]
  },
  {
   "cell_type": "markdown",
   "id": "e8ed61ed",
   "metadata": {},
   "source": [
    "**Задание 7. Для каждого типа занятости выведем медианное значение трудового стажа `days_employed` в днях.**"
   ]
  },
  {
   "cell_type": "code",
   "execution_count": 8,
   "id": "50536cd2",
   "metadata": {},
   "outputs": [
    {
     "data": {
      "text/plain": [
       "income_type\n",
       "безработный        366413.652744\n",
       "в декрете            3296.759962\n",
       "госслужащий          2689.368353\n",
       "компаньон            1547.382223\n",
       "пенсионер          365213.306266\n",
       "предприниматель       520.848083\n",
       "сотрудник            1574.202821\n",
       "студент               578.751554\n",
       "Name: days_employed, dtype: float64"
      ]
     },
     "execution_count": 8,
     "metadata": {},
     "output_type": "execute_result"
    }
   ],
   "source": [
    "data.groupby('income_type')['days_employed'].agg('median')"
   ]
  },
  {
   "cell_type": "markdown",
   "id": "6ad7f280",
   "metadata": {},
   "source": [
    "У двух типов (безработные и пенсионеры) получатся аномально большие значения. Исправить такие значения сложно, поэтому оставим их как есть. Тем более этот столбец не понадобится нам для исследования."
   ]
  },
  {
   "cell_type": "markdown",
   "id": "fafb65fc",
   "metadata": {},
   "source": [
    "**Задание 8. Выведем перечень уникальных значений столбца `children`.**"
   ]
  },
  {
   "cell_type": "code",
   "execution_count": 9,
   "id": "bcbcee87",
   "metadata": {},
   "outputs": [
    {
     "name": "stdout",
     "output_type": "stream",
     "text": [
      "[ 1  0  3  2 -1  4 20  5]\n"
     ]
    }
   ],
   "source": [
    "print(data['children'].unique()) "
   ]
  },
  {
   "cell_type": "markdown",
   "id": "26161202",
   "metadata": {},
   "source": [
    "**Задание 9. В столбце `children` есть два аномальных значения. Удалим строки, в которых встречаются такие аномальные значения из датафрейма `data`.**"
   ]
  },
  {
   "cell_type": "code",
   "execution_count": 10,
   "id": "ba8ffe92",
   "metadata": {},
   "outputs": [],
   "source": [
    "data = data.loc[data['children'] != -1]\n",
    "data = data.loc[data['children'] != 20]"
   ]
  },
  {
   "cell_type": "markdown",
   "id": "021294db",
   "metadata": {},
   "source": [
    "**Задание 10. Ещё раз выведем перечень уникальных значений столбца `children`, чтобы убедиться, что артефакты удалены.**"
   ]
  },
  {
   "cell_type": "code",
   "execution_count": 11,
   "id": "bc838799",
   "metadata": {},
   "outputs": [
    {
     "name": "stdout",
     "output_type": "stream",
     "text": [
      "[1 0 3 2 4 5]\n"
     ]
    }
   ],
   "source": [
    "print(data['children'].unique())"
   ]
  },
  {
   "cell_type": "markdown",
   "id": "52cfc490",
   "metadata": {},
   "source": [
    "### Удаление пропусков (продолжение)"
   ]
  },
  {
   "cell_type": "markdown",
   "id": "f135c5d8",
   "metadata": {},
   "source": [
    "**Задание 11. Заполним пропуски в столбце `days_employed` медианными значениями по каждому типу занятости `income_type`.**"
   ]
  },
  {
   "cell_type": "code",
   "execution_count": 12,
   "id": "b73aa5ee",
   "metadata": {},
   "outputs": [],
   "source": [
    "days_employed_median = data.groupby('income_type')['days_employed'].median()\n",
    "\n",
    "for  unique_income_type in data['income_type'].unique(): # цикл по уникальным значениям стобца income_type\n",
    "# ищем строки со значением в столбце income_type = unique_income_type и нулевым значением. присваем значение соответствующей типу деятельности медианы    \n",
    "    data.loc[(data['income_type'] == unique_income_type) & (data['days_employed'].isna()==True), 'days_employed'] = days_employed_median[unique_income_type] \n",
    "    "
   ]
  },
  {
   "cell_type": "markdown",
   "id": "c0cec6ce",
   "metadata": {},
   "source": [
    "**Задание 12. Убедимся, что все пропуски заполнены. Проверим себя и ещё раз выведем количество пропущенных значений для каждого столбца с помощью двух методов.**"
   ]
  },
  {
   "cell_type": "code",
   "execution_count": 13,
   "id": "677a1400",
   "metadata": {},
   "outputs": [
    {
     "name": "stdout",
     "output_type": "stream",
     "text": [
      "Unnamed: 0          0\n",
      "children            0\n",
      "days_employed       0\n",
      "dob_years           0\n",
      "education           0\n",
      "education_id        0\n",
      "family_status       0\n",
      "family_status_id    0\n",
      "gender              0\n",
      "income_type         0\n",
      "debt                0\n",
      "total_income        0\n",
      "purpose             0\n",
      "dtype: int64\n"
     ]
    }
   ],
   "source": [
    "print(data.isna().sum())"
   ]
  },
  {
   "cell_type": "markdown",
   "id": "85a76136",
   "metadata": {},
   "source": [
    "### Изменение типов данных"
   ]
  },
  {
   "cell_type": "markdown",
   "id": "f9fce870",
   "metadata": {},
   "source": [
    "**Задание 13. Заменим вещественный тип данных в столбце `total_income` на целочисленный с помощью метода `astype()`.**"
   ]
  },
  {
   "cell_type": "code",
   "execution_count": 14,
   "id": "6e7c7afa",
   "metadata": {},
   "outputs": [],
   "source": [
    "data['total_income'] = data['total_income'].astype(int)"
   ]
  },
  {
   "cell_type": "markdown",
   "id": "ce2aa6fc",
   "metadata": {},
   "source": [
    "### Категоризация данных"
   ]
  },
  {
   "cell_type": "markdown",
   "id": "c8613caf",
   "metadata": {},
   "source": [
    "**Задание 14. Выведем на экран количество строк-дубликатов в данных. Если такие строки присутствуют, удалим их.**"
   ]
  },
  {
   "cell_type": "code",
   "execution_count": 15,
   "id": "6119ab35",
   "metadata": {},
   "outputs": [
    {
     "name": "stdout",
     "output_type": "stream",
     "text": [
      "0\n"
     ]
    }
   ],
   "source": [
    "# посчитаем дубликаты\n",
    "print(data.duplicated().sum())"
   ]
  },
  {
   "cell_type": "code",
   "execution_count": 16,
   "id": "fddff231",
   "metadata": {},
   "outputs": [],
   "source": [
    "# удалим дубликаты\n",
    "data = data.drop_duplicates()"
   ]
  },
  {
   "cell_type": "markdown",
   "id": "4c25fe70",
   "metadata": {},
   "source": [
    "**Задание 15. Обработаем неявные дубликаты в столбце `education`. В этом столбце есть одни и те же значения, но записанные по-разному: с использованием заглавных и строчных букв. Приведем их к нижнему регистру. Проверим остальные столбцы.**"
   ]
  },
  {
   "cell_type": "code",
   "execution_count": 17,
   "id": "2bc029ab",
   "metadata": {},
   "outputs": [],
   "source": [
    "data['education'] = data['education'].str.lower()"
   ]
  },
  {
   "cell_type": "markdown",
   "id": "92f457b1",
   "metadata": {},
   "source": [
    "### Категоризация данных"
   ]
  },
  {
   "cell_type": "markdown",
   "id": "03d6ffce",
   "metadata": {},
   "source": [
    "**Задание 16. На основании диапазонов, указанных ниже, создадим в датафрейме `data` столбец `total_income_category` с категориями:**\n",
    "\n",
    "- 0–30000 — `'E'`;\n",
    "- 30001–50000 — `'D'`;\n",
    "- 50001–200000 — `'C'`;\n",
    "- 200001–1000000 — `'B'`;\n",
    "- 1000001 и выше — `'A'`.\n",
    "\n",
    "\n",
    "**Например, кредитополучателю с доходом 25000 нужно назначить категорию `'E'`, а клиенту, получающему 235000, — `'B'`. Используйте собственную функцию с именем `categorize_income()` и метод `apply()`.**"
   ]
  },
  {
   "cell_type": "code",
   "execution_count": 18,
   "id": "5790c7e3",
   "metadata": {},
   "outputs": [],
   "source": [
    "# создадим функцию categorize_income()\n",
    "def categorize_income(row):\n",
    "    if row <= 30000:\n",
    "        return 'E'\n",
    "    if row <= 50000:\n",
    "        return 'D'\n",
    "    if row <= 200000:\n",
    "        return 'C'\n",
    "    if row <= 1000000:\n",
    "        return 'B'\n",
    "    return 'A' "
   ]
  },
  {
   "cell_type": "code",
   "execution_count": 19,
   "id": "021b516d",
   "metadata": {},
   "outputs": [],
   "source": [
    "# применим функцию методом apply()\n",
    "data['total_income_category'] = data['total_income'].apply(categorize_income)"
   ]
  },
  {
   "cell_type": "markdown",
   "id": "f5892059",
   "metadata": {},
   "source": [
    "**Задание 17. Выведем на экран перечень уникальных целей взятия кредита из столбца `purpose`.**"
   ]
  },
  {
   "cell_type": "code",
   "execution_count": 20,
   "id": "e8075430",
   "metadata": {},
   "outputs": [
    {
     "name": "stdout",
     "output_type": "stream",
     "text": [
      "['покупка жилья' 'приобретение автомобиля' 'дополнительное образование'\n",
      " 'сыграть свадьбу' 'операции с жильем' 'образование'\n",
      " 'на проведение свадьбы' 'покупка жилья для семьи' 'покупка недвижимости'\n",
      " 'покупка коммерческой недвижимости' 'покупка жилой недвижимости'\n",
      " 'строительство собственной недвижимости' 'недвижимость'\n",
      " 'строительство недвижимости' 'на покупку подержанного автомобиля'\n",
      " 'на покупку своего автомобиля' 'операции с коммерческой недвижимостью'\n",
      " 'строительство жилой недвижимости' 'жилье'\n",
      " 'операции со своей недвижимостью' 'автомобили' 'заняться образованием'\n",
      " 'сделка с подержанным автомобилем' 'получение образования' 'автомобиль'\n",
      " 'свадьба' 'получение дополнительного образования' 'покупка своего жилья'\n",
      " 'операции с недвижимостью' 'получение высшего образования'\n",
      " 'свой автомобиль' 'сделка с автомобилем' 'профильное образование'\n",
      " 'высшее образование' 'покупка жилья для сдачи' 'на покупку автомобиля'\n",
      " 'ремонт жилью' 'заняться высшим образованием']\n"
     ]
    }
   ],
   "source": [
    "print(data['purpose'].unique())"
   ]
  },
  {
   "cell_type": "markdown",
   "id": "0d894aee",
   "metadata": {},
   "source": [
    "**Задание 18. Создим функцию, которая на основании данных из столбца `purpose` сформирует новый столбец `purpose_category`, в который войдут следующие категории:**\n",
    "\n",
    "- `'операции с автомобилем'`,\n",
    "- `'операции с недвижимостью'`,\n",
    "- `'проведение свадьбы'`,\n",
    "- `'получение образования'`.\n",
    "\n",
    "**Например, если в столбце `purpose` находится подстрока `'на покупку автомобиля'`, то в столбце `purpose_category` должна появиться строка `'операции с автомобилем'`.**\n",
    "\n",
    "**Используем собственную функцию с именем `categorize_purpose()` и метод `apply()`. Изучим данные в столбце `purpose` и определим, какие подстроки помогут нам правильно определить категорию.**"
   ]
  },
  {
   "cell_type": "code",
   "execution_count": 21,
   "id": "c8e3be39",
   "metadata": {},
   "outputs": [],
   "source": [
    "# создадим функцию categorize_purpose()\n",
    "def categorize_purpose(row):\n",
    "    if 'авто' in row:\n",
    "        return 'операции с автомобилем'\n",
    "    elif ('недвижим' in row) or ('жил' in row):\n",
    "        return 'операции с недвижимостью'\n",
    "    elif 'свадьб' in row:\n",
    "        return 'проведение свадьбы'\n",
    "    else:\n",
    "        return 'получение образования'"
   ]
  },
  {
   "cell_type": "code",
   "execution_count": 22,
   "id": "561ac23a",
   "metadata": {},
   "outputs": [],
   "source": [
    "# применим функцию методом apply()\n",
    "\n",
    "data['purpose_category'] = data['purpose'].apply(categorize_purpose)"
   ]
  },
  {
   "cell_type": "markdown",
   "id": "3b2c7809",
   "metadata": {},
   "source": [
    "## Исследуйте данные и ответьте на вопросы"
   ]
  },
  {
   "cell_type": "markdown",
   "id": "e11c49eb",
   "metadata": {},
   "source": [
    "**Задание 19. Есть ли зависимость между количеством детей и возвратом кредита в срок?**"
   ]
  },
  {
   "cell_type": "code",
   "execution_count": 23,
   "id": "53b925b3",
   "metadata": {},
   "outputs": [
    {
     "data": {
      "text/html": [
       "<div>\n",
       "<style scoped>\n",
       "    .dataframe tbody tr th:only-of-type {\n",
       "        vertical-align: middle;\n",
       "    }\n",
       "\n",
       "    .dataframe tbody tr th {\n",
       "        vertical-align: top;\n",
       "    }\n",
       "\n",
       "    .dataframe thead th {\n",
       "        text-align: right;\n",
       "    }\n",
       "</style>\n",
       "<table border=\"1\" class=\"dataframe\">\n",
       "  <thead>\n",
       "    <tr style=\"text-align: right;\">\n",
       "      <th></th>\n",
       "      <th>total_credits</th>\n",
       "      <th>debt_credits</th>\n",
       "      <th>ratio</th>\n",
       "    </tr>\n",
       "  </thead>\n",
       "  <tbody>\n",
       "    <tr>\n",
       "      <th>0</th>\n",
       "      <td>14149</td>\n",
       "      <td>1063.0</td>\n",
       "      <td>0.075129</td>\n",
       "    </tr>\n",
       "    <tr>\n",
       "      <th>1</th>\n",
       "      <td>4818</td>\n",
       "      <td>444.0</td>\n",
       "      <td>0.092154</td>\n",
       "    </tr>\n",
       "    <tr>\n",
       "      <th>2</th>\n",
       "      <td>2055</td>\n",
       "      <td>194.0</td>\n",
       "      <td>0.094404</td>\n",
       "    </tr>\n",
       "    <tr>\n",
       "      <th>3</th>\n",
       "      <td>330</td>\n",
       "      <td>27.0</td>\n",
       "      <td>0.081818</td>\n",
       "    </tr>\n",
       "    <tr>\n",
       "      <th>4</th>\n",
       "      <td>41</td>\n",
       "      <td>4.0</td>\n",
       "      <td>0.097561</td>\n",
       "    </tr>\n",
       "    <tr>\n",
       "      <th>5</th>\n",
       "      <td>9</td>\n",
       "      <td>NaN</td>\n",
       "      <td>0.000000</td>\n",
       "    </tr>\n",
       "  </tbody>\n",
       "</table>\n",
       "</div>"
      ],
      "text/plain": [
       "   total_credits  debt_credits     ratio\n",
       "0          14149        1063.0  0.075129\n",
       "1           4818         444.0  0.092154\n",
       "2           2055         194.0  0.094404\n",
       "3            330          27.0  0.081818\n",
       "4             41           4.0  0.097561\n",
       "5              9           NaN  0.000000"
      ]
     },
     "execution_count": 23,
     "metadata": {},
     "output_type": "execute_result"
    }
   ],
   "source": [
    "# создадим функцию для расчета процента клиентов, которые не вернули кредит по выбранной категории, которую передаем, как значение. \n",
    "def no_repayment_of_debt(data, category):\n",
    "    total_credits = data[category].value_counts().rename(\"total_credits\") # считаем общее количество выданных кредитов в выбранной категории\n",
    "    debt_credits = data[data.debt == 1].groupby(category)['debt'].count().rename(\"debt_credits\") # считаем количество кредитов, которые не вернули в выбранной категрии\n",
    "    ratio = (debt_credits / total_credits).fillna(0).rename(\"ratio\") # считаем соотношение количества не возвратов к количеству выданных кредитов\n",
    "    return pd.concat([total_credits, debt_credits, ratio], axis=1)\n",
    "   \n",
    "\n",
    "ratio_children = no_repayment_of_debt(data, 'children') # обращаемся к  no_repayment_of_debt по показателю количества детей\n",
    "ratio_children"
   ]
  },
  {
   "cell_type": "code",
   "execution_count": 24,
   "id": "dd04dc64",
   "metadata": {},
   "outputs": [],
   "source": [
    "# adsa = data.pivot_table(index='children', values='debt', aggfunc=['count', 'sum'])\n",
    "# adsa['per'] = adsa['sum'] / adsa['count']\n",
    "# adsa"
   ]
  },
  {
   "cell_type": "code",
   "execution_count": 25,
   "id": "49c7e278",
   "metadata": {},
   "outputs": [
    {
     "data": {
      "text/plain": [
       "<AxesSubplot:>"
      ]
     },
     "execution_count": 25,
     "metadata": {},
     "output_type": "execute_result"
    },
    {
     "data": {
      "image/png": "[encoded data removed]",
      "text/plain": [
       "<Figure size 432x288 with 2 Axes>"
      ]
     },
     "metadata": {
      "needs_background": "light"
     },
     "output_type": "display_data"
    }
   ],
   "source": [
    "seaborn.heatmap(pd.DataFrame(ratio_children['ratio'])) # выводим графическое отображение полученных данных"
   ]
  },
  {
   "cell_type": "markdown",
   "id": "df41762b",
   "metadata": {},
   "source": [
    "**Вывод:** \n",
    "    <p>Можно сказать, что клиенты, у которых нет детей имею наименьший процент не возвращенных кредитов 7,5%. При этом на эту категорию приходится самое больше количество выданных кредитов, что позволяет утверждать о точности сделанного вывода. </p>\n",
    "    В целом клиенты, у которых есть дети имеют, приблизительно, одинаковые показатели 9,2% - 9,8%. \n",
    "    Исключением являются клиенты у которых 5 детей (100% возврат кредитов), но количество таких клиентов небольшое и поэтому накопленных данных мало для каких-то выводов."
   ]
  },
  {
   "cell_type": "markdown",
   "id": "8e8f83ba",
   "metadata": {},
   "source": [
    "**Задание 20. Есть ли зависимость между семейным положением и возвратом кредита в срок?**"
   ]
  },
  {
   "cell_type": "code",
   "execution_count": 26,
   "id": "665de545",
   "metadata": {},
   "outputs": [
    {
     "data": {
      "text/html": [
       "<div>\n",
       "<style scoped>\n",
       "    .dataframe tbody tr th:only-of-type {\n",
       "        vertical-align: middle;\n",
       "    }\n",
       "\n",
       "    .dataframe tbody tr th {\n",
       "        vertical-align: top;\n",
       "    }\n",
       "\n",
       "    .dataframe thead th {\n",
       "        text-align: right;\n",
       "    }\n",
       "</style>\n",
       "<table border=\"1\" class=\"dataframe\">\n",
       "  <thead>\n",
       "    <tr style=\"text-align: right;\">\n",
       "      <th></th>\n",
       "      <th>total_credits</th>\n",
       "      <th>debt_credits</th>\n",
       "      <th>ratio</th>\n",
       "    </tr>\n",
       "  </thead>\n",
       "  <tbody>\n",
       "    <tr>\n",
       "      <th>женат / замужем</th>\n",
       "      <td>12302</td>\n",
       "      <td>927</td>\n",
       "      <td>0.075354</td>\n",
       "    </tr>\n",
       "    <tr>\n",
       "      <th>гражданский брак</th>\n",
       "      <td>4160</td>\n",
       "      <td>385</td>\n",
       "      <td>0.092548</td>\n",
       "    </tr>\n",
       "    <tr>\n",
       "      <th>Не женат / не замужем</th>\n",
       "      <td>2799</td>\n",
       "      <td>273</td>\n",
       "      <td>0.097535</td>\n",
       "    </tr>\n",
       "    <tr>\n",
       "      <th>в разводе</th>\n",
       "      <td>1189</td>\n",
       "      <td>84</td>\n",
       "      <td>0.070648</td>\n",
       "    </tr>\n",
       "    <tr>\n",
       "      <th>вдовец / вдова</th>\n",
       "      <td>952</td>\n",
       "      <td>63</td>\n",
       "      <td>0.066176</td>\n",
       "    </tr>\n",
       "  </tbody>\n",
       "</table>\n",
       "</div>"
      ],
      "text/plain": [
       "                       total_credits  debt_credits     ratio\n",
       "женат / замужем                12302           927  0.075354\n",
       "гражданский брак                4160           385  0.092548\n",
       "Не женат / не замужем           2799           273  0.097535\n",
       "в разводе                       1189            84  0.070648\n",
       "вдовец / вдова                   952            63  0.066176"
      ]
     },
     "execution_count": 26,
     "metadata": {},
     "output_type": "execute_result"
    },
    {
     "data": {
      "image/png": "[encoded data removed]",
      "text/plain": [
       "<Figure size 432x288 with 2 Axes>"
      ]
     },
     "metadata": {
      "needs_background": "light"
     },
     "output_type": "display_data"
    }
   ],
   "source": [
    "ratio_family_status = no_repayment_of_debt(data, 'family_status') # # обращаемся к  no_repayment_of_debt по показателю 'family_status'\n",
    "\n",
    "seaborn.heatmap(pd.DataFrame(ratio_family_status['ratio'])) # выводим графическое отображение полученных данных\n",
    "ratio_family_status"
   ]
  },
  {
   "cell_type": "markdown",
   "id": "24f25ea8",
   "metadata": {},
   "source": [
    "**Вывод:** \n",
    "    <p>Самый маленький процент не возвращенных кредитов в категории вдовец/вдова 6,6%. При этом в этой категории меньше всего выданных кредитов и точность вычислений может быть ниже чем у остальных категорий. </p>   \n",
    "    <p>В категориях \"в разводе\" и \"женат / замужем\" приблизительно одинаковые показатели 7% - 7,5%. В категории \"женат / замужем\" более 12 тысяч выданных кредитов, что превосходит сумму кредитов выданных по всем остальным категориям. Из этого можно сделать вывод, что имено клиенты из этой группы могут быть наиболее интересны.</p>\n",
    "    <p>Самые высокие показатели не возвращенных кредитов в котегориях \"Не женат / не замужем\" и \"Не женат / не замужем\"  9,2% - 9,8% </p></div>"
   ]
  },
  {
   "cell_type": "markdown",
   "id": "0031757b",
   "metadata": {},
   "source": [
    "**Задание 21. Есть ли зависимость между уровнем дохода и возвратом кредита в срок?**"
   ]
  },
  {
   "cell_type": "code",
   "execution_count": 27,
   "id": "c1a2f69e",
   "metadata": {},
   "outputs": [
    {
     "data": {
      "text/html": [
       "<div>\n",
       "<style scoped>\n",
       "    .dataframe tbody tr th:only-of-type {\n",
       "        vertical-align: middle;\n",
       "    }\n",
       "\n",
       "    .dataframe tbody tr th {\n",
       "        vertical-align: top;\n",
       "    }\n",
       "\n",
       "    .dataframe thead th {\n",
       "        text-align: right;\n",
       "    }\n",
       "</style>\n",
       "<table border=\"1\" class=\"dataframe\">\n",
       "  <thead>\n",
       "    <tr style=\"text-align: right;\">\n",
       "      <th></th>\n",
       "      <th>total_credits</th>\n",
       "      <th>debt_credits</th>\n",
       "      <th>ratio</th>\n",
       "    </tr>\n",
       "  </thead>\n",
       "  <tbody>\n",
       "    <tr>\n",
       "      <th>C</th>\n",
       "      <td>15992</td>\n",
       "      <td>1353</td>\n",
       "      <td>0.084605</td>\n",
       "    </tr>\n",
       "    <tr>\n",
       "      <th>B</th>\n",
       "      <td>5014</td>\n",
       "      <td>354</td>\n",
       "      <td>0.070602</td>\n",
       "    </tr>\n",
       "    <tr>\n",
       "      <th>D</th>\n",
       "      <td>349</td>\n",
       "      <td>21</td>\n",
       "      <td>0.060172</td>\n",
       "    </tr>\n",
       "    <tr>\n",
       "      <th>A</th>\n",
       "      <td>25</td>\n",
       "      <td>2</td>\n",
       "      <td>0.080000</td>\n",
       "    </tr>\n",
       "    <tr>\n",
       "      <th>E</th>\n",
       "      <td>22</td>\n",
       "      <td>2</td>\n",
       "      <td>0.090909</td>\n",
       "    </tr>\n",
       "  </tbody>\n",
       "</table>\n",
       "</div>"
      ],
      "text/plain": [
       "   total_credits  debt_credits     ratio\n",
       "C          15992          1353  0.084605\n",
       "B           5014           354  0.070602\n",
       "D            349            21  0.060172\n",
       "A             25             2  0.080000\n",
       "E             22             2  0.090909"
      ]
     },
     "execution_count": 27,
     "metadata": {},
     "output_type": "execute_result"
    },
    {
     "data": {
      "image/png": "[encoded data removed]",
      "text/plain": [
       "<Figure size 432x288 with 2 Axes>"
      ]
     },
     "metadata": {
      "needs_background": "light"
     },
     "output_type": "display_data"
    }
   ],
   "source": [
    "ratio_total_income_category = no_repayment_of_debt(data, 'total_income_category') # # обращаемся к  no_repayment_of_debt по показателю 'total_income_category'\n",
    "\n",
    "seaborn.heatmap(pd.DataFrame(ratio_total_income_category['ratio'])) # выводим графическое отображение полученных данных\n",
    "ratio_total_income_category\n"
   ]
  },
  {
   "cell_type": "markdown",
   "id": "c58189b8",
   "metadata": {},
   "source": [
    "\n",
    "**Вывод:** \n",
    "    <p>У клиентов из групп А и В (\"высокий доход\") процент не возвращенных кредитов колеблется между 7% и 8%. При этом в категории А всего 25 выданных кредитов и, как следствие, точно может быть не высокой. </p>\n",
    "    <p>Самый высокий процент не возвращенных кредитов у клиентов из группы Е (\"низкий доход\"). Но и выданных кредитов всего 22 штуки, что, в принципе, ожидаемо. Так как при низких доходов есть большие риски, что клиент будет своевременно выполнять свои обязательства.</p>\n",
    "    <p>При этом, было бы не лишним изучить данные показатели в разрезе сумм, которые были получены в кредит в соотношении к сумме среднего дохода каждой категории.</p></div>"
   ]
  },
  {
   "cell_type": "markdown",
   "id": "f08094f2",
   "metadata": {},
   "source": [
    "**Задание 22. Как разные цели кредита влияют на его возврат в срок?**"
   ]
  },
  {
   "cell_type": "code",
   "execution_count": 28,
   "id": "24e3ba36",
   "metadata": {},
   "outputs": [
    {
     "data": {
      "text/html": [
       "<div>\n",
       "<style scoped>\n",
       "    .dataframe tbody tr th:only-of-type {\n",
       "        vertical-align: middle;\n",
       "    }\n",
       "\n",
       "    .dataframe tbody tr th {\n",
       "        vertical-align: top;\n",
       "    }\n",
       "\n",
       "    .dataframe thead th {\n",
       "        text-align: right;\n",
       "    }\n",
       "</style>\n",
       "<table border=\"1\" class=\"dataframe\">\n",
       "  <thead>\n",
       "    <tr style=\"text-align: right;\">\n",
       "      <th></th>\n",
       "      <th>total_credits</th>\n",
       "      <th>debt_credits</th>\n",
       "      <th>ratio</th>\n",
       "    </tr>\n",
       "  </thead>\n",
       "  <tbody>\n",
       "    <tr>\n",
       "      <th>операции с недвижимостью</th>\n",
       "      <td>10780</td>\n",
       "      <td>780</td>\n",
       "      <td>0.072356</td>\n",
       "    </tr>\n",
       "    <tr>\n",
       "      <th>операции с автомобилем</th>\n",
       "      <td>4288</td>\n",
       "      <td>400</td>\n",
       "      <td>0.093284</td>\n",
       "    </tr>\n",
       "    <tr>\n",
       "      <th>получение образования</th>\n",
       "      <td>3997</td>\n",
       "      <td>369</td>\n",
       "      <td>0.092319</td>\n",
       "    </tr>\n",
       "    <tr>\n",
       "      <th>проведение свадьбы</th>\n",
       "      <td>2337</td>\n",
       "      <td>183</td>\n",
       "      <td>0.078306</td>\n",
       "    </tr>\n",
       "  </tbody>\n",
       "</table>\n",
       "</div>"
      ],
      "text/plain": [
       "                          total_credits  debt_credits     ratio\n",
       "операции с недвижимостью          10780           780  0.072356\n",
       "операции с автомобилем             4288           400  0.093284\n",
       "получение образования              3997           369  0.092319\n",
       "проведение свадьбы                 2337           183  0.078306"
      ]
     },
     "execution_count": 28,
     "metadata": {},
     "output_type": "execute_result"
    },
    {
     "data": {
      "image/png": "[encoded data removed]",
      "text/plain": [
       "<Figure size 432x288 with 2 Axes>"
      ]
     },
     "metadata": {
      "needs_background": "light"
     },
     "output_type": "display_data"
    }
   ],
   "source": [
    "ratio_purpose_category = no_repayment_of_debt(data, 'purpose_category')\n",
    "\n",
    "seaborn.heatmap(pd.DataFrame(ratio_purpose_category['ratio'])) # выводим графическое отображение полученных данных\n",
    "ratio_purpose_category"
   ]
  },
  {
   "cell_type": "markdown",
   "id": "fda40fce",
   "metadata": {},
   "source": [
    "**Вывод:** \n",
    "    <p>Максимальный процент не возвращенных кредитов при покупке автомобилей и получении образования 9,2% - 9,3%. </p>  \n",
    "    <p>Самый маленький процент не возвращенных кредитов при операциях с недвижимостью 7,2%. При этом в этой категории выдана, практически, половина из всех выданных кредитов.</p></div>"
   ]
  },
  {
   "cell_type": "markdown",
   "id": "d58295ac",
   "metadata": {},
   "source": [
    "**Задание 23. Приведите возможные причины появления пропусков в исходных данных.**"
   ]
  },
  {
   "cell_type": "markdown",
   "id": "b9273893",
   "metadata": {},
   "source": [
    "*Ответ:* Причины, по которым в исходных данных могут быть пропуски:\n",
    "1. Не заполнение анкетных данных клиентами.\n",
    "2. Не корректное заполнение анкетных данных.\n",
    "3. Ошибки при обработке информации.\n",
    "4. Попытки скрыть или искозить информацию."
   ]
  },
  {
   "cell_type": "markdown",
   "id": "57213433",
   "metadata": {},
   "source": [
    "**Задание 24. Объясните, почему заполнить пропуски медианным значением — лучшее решение для количественных переменных.**"
   ]
  },
  {
   "cell_type": "markdown",
   "id": "8f353cd6",
   "metadata": {},
   "source": [
    "*Ответ:* При заполнениями пропущенных данных \"0\" есть большой риск получить отклонение от общей картины, так как на месте пропусков могли быть значимые величины. При заполнении данных средними арифмитическими, можно столкнуть с наличием в данных аномально больших или аномально маленьких показателей, которые так же могут значительно повлиять на конечный результат. Медианный значения позволяют минимизировать возможные отклонения от средних показателей и обеспечивают максимальную информативность."
   ]
  },
  {
   "cell_type": "markdown",
   "id": "b0437451",
   "metadata": {},
   "source": [
    "## Общий вывод"
   ]
  },
  {
   "cell_type": "markdown",
   "id": "cd7ff6a4",
   "metadata": {},
   "source": [
    "   <p> \"Портрет\" идеального клиента для банка: \n",
    "        <p>- без детей,</p>\n",
    "        <p>- женат / замужем,</p>\n",
    "        <p>- с доходом от 30000 до 50000,</p> \n",
    "        <p>- берет кредит для операций с недвизимостью. </p>\n",
    "    <p>Нужно не забывать, что в данном исследовании не анализировалась информация в разрезе суммы кредита, времени, на которое берется кредит и ряда других показателей, которые так же могли повлиять на портрет идеального клиента. </p>\n",
    "    <p>Так же, хотелось бы дополнительно отметить, что данные собирались по клиентам, которым банк уже выдал кредит, а значит они уже прошли какой-то анализ и соответствовали каким-то критериям. Возможно за рамками этого отбора остались категории клиентов, которые бы так же \"успешно\" выполняли свои кредитные обязательства) </p>"
   ]
  },
  {
   "cell_type": "code",
   "execution_count": null,
   "id": "13b589c5",
   "metadata": {},
   "outputs": [],
   "source": []
  }
 ],
 "metadata": {
  "kernelspec": {
   "display_name": "Python 3 (ipykernel)",
   "language": "python",
   "name": "python3"
  },
  "language_info": {
   "codemirror_mode": {
    "name": "ipython",
    "version": 3
   },
   "file_extension": ".py",
   "mimetype": "text/x-python",
   "name": "python",
   "nbconvert_exporter": "python",
   "pygments_lexer": "ipython3",
   "version": "3.9.12"
  }
 },
 "nbformat": 4,
 "nbformat_minor": 5
}
