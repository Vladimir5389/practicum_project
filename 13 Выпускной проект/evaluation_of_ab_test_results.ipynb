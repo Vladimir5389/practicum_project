{
 "cells": [
  {
   "cell_type": "markdown",
   "metadata": {},
   "source": [
    "# Проект по А/B-тестированию\n",
    "\n",
    "***Постановка задачи***\n",
    "\n",
    "    Ваша задача — провести оценку результатов A/B-теста. В вашем распоряжении есть датасет с действиями пользователей, техническое задание и несколько вспомогательных датасетов.\n",
    "    Оцените корректность проведения теста.\n",
    "    Проанализируйте результаты теста.\n",
    "    Чтобы оценить корректность проведения теста, проверьте:\n",
    "    пересечение тестовой аудитории с конкурирующим тестом;\n",
    "    совпадение теста и маркетинговых событий, другие проблемы временных границ теста.\n",
    "    \n",
    "***Техническое задание***\n",
    "\n",
    "    Название теста: recommender_system_test;\n",
    "    Группы: А (контрольная), B (новая платёжная воронка);\n",
    "    Дата запуска: 2020-12-07;\n",
    "    Дата остановки набора новых пользователей: 2020-12-21;\n",
    "    Дата остановки: 2021-01-04;\n",
    "    Аудитория: 15% новых пользователей из региона EU;\n",
    "    Назначение теста: тестирование изменений, связанных с внедрением улучшенной рекомендательной системы;\n",
    "    Ожидаемое количество участников теста: 6000.\n",
    "    Ожидаемый эффект: за 14 дней с момента регистрации в системе пользователи покажут улучшение каждой метрики не менее, чем на 10%:\n",
    "    конверсии в просмотр карточек товаров — событие product_page\n",
    "    просмотры корзины — product_cart\n",
    "    покупки — purchase.\n",
    "    \n",
    "# Загрузите данные теста, проверьте корректность его проведения и проанализируйте полученные результаты.\n",
    "    \n",
    "***Данные***\n",
    "\n",
    "    ab_project_marketing_events.csv\n",
    "    final_ab_new_users.csv\n",
    "    final_ab_events.csv\n",
    "    final_ab_participants.csv\n",
    "    \n",
    "`/datasets/ab_project_marketing_events.csv` — календарь маркетинговых событий на 2020 год;\n",
    "    \n",
    "    Структура файла:\n",
    "    name — название маркетингового события;\n",
    "    regions — регионы, в которых будет проводиться рекламная кампания;\n",
    "    start_dt — дата начала кампании;\n",
    "    finish_dt — дата завершения кампании.\n",
    "    \n",
    "`/datasets/final_ab_new_users.csv` — все пользователи, зарегистрировавшиеся в интернет-магазине в период с 7 по 21 декабря 2020 года;\n",
    "\n",
    "    Структура файла:\n",
    "    user_id — идентификатор пользователя;\n",
    "    first_date — дата регистрации;\n",
    "    region — регион пользователя;\n",
    "    device — устройство, с которого происходила регистрация.\n",
    "    \n",
    "`/datasets/final_ab_events.csv` — все события новых пользователей в период с 7 декабря 2020 по 4 января 2021 года;\n",
    "    \n",
    "    Структура файла:\n",
    "    user_id — идентификатор пользователя;\n",
    "    event_dt — дата и время события;\n",
    "    event_name — тип события;\n",
    "    details — дополнительные данные о событии. Например, для покупок, purchase, в этом поле хранится стоимость покупки в долларах.\n",
    "    \n",
    "`/datasets/final_ab_participants.csv` — таблица участников тестов.\n",
    "\n",
    "    Структура файла:\n",
    "    user_id — идентификатор пользователя;\n",
    "    ab_test — название теста;\n",
    "    group — группа пользователя.\n"
   ]
  },
  {
   "cell_type": "markdown",
   "metadata": {},
   "source": [
    "# Загрузим исходные данные"
   ]
  },
  {
   "cell_type": "code",
   "execution_count": 1,
   "metadata": {},
   "outputs": [],
   "source": [
    "import pandas as pd\n",
    "import scipy.stats as stats\n",
    "import datetime as dt\n",
    "import numpy as np\n",
    "import matplotlib.pyplot as plt\n",
    "import re\n",
    "#%pip install plotly --upgrade\n",
    "from plotly import graph_objects as go\n",
    "import math as mth\n",
    "from scipy import stats as st"
   ]
  },
  {
   "cell_type": "code",
   "execution_count": 2,
   "metadata": {},
   "outputs": [],
   "source": [
    "try:\n",
    "    final_ab_events, ab_project_marketing_events, final_ab_new_users, final_ab_participants = (\n",
    "    pd.read_csv('datasets\\\\final_ab_events.csv'),  \n",
    "    pd.read_csv('datasets\\\\ab_project_marketing_events.csv'),\n",
    "    pd.read_csv('datasets\\\\final_ab_new_users.csv'),\n",
    "    pd.read_csv('datasets\\\\final_ab_participants.csv')    \n",
    ") \n",
    "except:\n",
    "    final_ab_events, ab_project_marketing_events, final_ab_new_users, final_ab_participants = (\n",
    "    pd.read_csv('final_ab_events.csv'),\n",
    "    pd.read_csv('ab_project_marketing_events.csv'),\n",
    "    pd.read_csv('final_ab_new_users.csv'),\n",
    "    pd.read_csv('final_ab_participants.csv')    \n",
    ")"
   ]
  },
  {
   "cell_type": "markdown",
   "metadata": {},
   "source": [
    "# Изучим полученные данные"
   ]
  },
  {
   "cell_type": "markdown",
   "metadata": {},
   "source": [
    "Посмотрим какие данные нам предоставили, изучим их на предмет пропусков, дубликатов, типов данных, при необходимости приведем к нормальному виду."
   ]
  },
  {
   "cell_type": "markdown",
   "metadata": {},
   "source": [
    "***final_ab_events***"
   ]
  },
  {
   "cell_type": "code",
   "execution_count": 3,
   "metadata": {},
   "outputs": [
    {
     "data": {
      "text/html": [
       "<div>\n",
       "<style scoped>\n",
       "    .dataframe tbody tr th:only-of-type {\n",
       "        vertical-align: middle;\n",
       "    }\n",
       "\n",
       "    .dataframe tbody tr th {\n",
       "        vertical-align: top;\n",
       "    }\n",
       "\n",
       "    .dataframe thead th {\n",
       "        text-align: right;\n",
       "    }\n",
       "</style>\n",
       "<table border=\"1\" class=\"dataframe\">\n",
       "  <thead>\n",
       "    <tr style=\"text-align: right;\">\n",
       "      <th></th>\n",
       "      <th>Unnamed: 0</th>\n",
       "      <th>user_id</th>\n",
       "      <th>event_dt</th>\n",
       "      <th>event_name</th>\n",
       "      <th>details</th>\n",
       "    </tr>\n",
       "  </thead>\n",
       "  <tbody>\n",
       "    <tr>\n",
       "      <th>0</th>\n",
       "      <td>0</td>\n",
       "      <td>E1BDDCE0DAFA2679</td>\n",
       "      <td>2020-12-07 20:22:03</td>\n",
       "      <td>purchase</td>\n",
       "      <td>99.99</td>\n",
       "    </tr>\n",
       "    <tr>\n",
       "      <th>1</th>\n",
       "      <td>1</td>\n",
       "      <td>7B6452F081F49504</td>\n",
       "      <td>2020-12-07 09:22:53</td>\n",
       "      <td>purchase</td>\n",
       "      <td>9.99</td>\n",
       "    </tr>\n",
       "    <tr>\n",
       "      <th>2</th>\n",
       "      <td>2</td>\n",
       "      <td>9CD9F34546DF254C</td>\n",
       "      <td>2020-12-07 12:59:29</td>\n",
       "      <td>purchase</td>\n",
       "      <td>4.99</td>\n",
       "    </tr>\n",
       "    <tr>\n",
       "      <th>3</th>\n",
       "      <td>3</td>\n",
       "      <td>96F27A054B191457</td>\n",
       "      <td>2020-12-07 04:02:40</td>\n",
       "      <td>purchase</td>\n",
       "      <td>4.99</td>\n",
       "    </tr>\n",
       "    <tr>\n",
       "      <th>4</th>\n",
       "      <td>4</td>\n",
       "      <td>1FD7660FDF94CA1F</td>\n",
       "      <td>2020-12-07 10:15:09</td>\n",
       "      <td>purchase</td>\n",
       "      <td>4.99</td>\n",
       "    </tr>\n",
       "  </tbody>\n",
       "</table>\n",
       "</div>"
      ],
      "text/plain": [
       "   Unnamed: 0           user_id             event_dt event_name  details\n",
       "0           0  E1BDDCE0DAFA2679  2020-12-07 20:22:03   purchase    99.99\n",
       "1           1  7B6452F081F49504  2020-12-07 09:22:53   purchase     9.99\n",
       "2           2  9CD9F34546DF254C  2020-12-07 12:59:29   purchase     4.99\n",
       "3           3  96F27A054B191457  2020-12-07 04:02:40   purchase     4.99\n",
       "4           4  1FD7660FDF94CA1F  2020-12-07 10:15:09   purchase     4.99"
      ]
     },
     "metadata": {},
     "output_type": "display_data"
    }
   ],
   "source": [
    "display(final_ab_events.head())"
   ]
  },
  {
   "cell_type": "code",
   "execution_count": 4,
   "metadata": {},
   "outputs": [
    {
     "name": "stdout",
     "output_type": "stream",
     "text": [
      "Имеем таблицу данных  final_ab_events размерностью (440317, 5)\n"
     ]
    }
   ],
   "source": [
    "print(f'Имеем таблицу данных  final_ab_events размерностью {final_ab_events.shape}')"
   ]
  },
  {
   "cell_type": "code",
   "execution_count": 5,
   "metadata": {},
   "outputs": [
    {
     "name": "stdout",
     "output_type": "stream",
     "text": [
      "<class 'pandas.core.frame.DataFrame'>\n",
      "RangeIndex: 440317 entries, 0 to 440316\n",
      "Data columns (total 5 columns):\n",
      " #   Column      Non-Null Count   Dtype  \n",
      "---  ------      --------------   -----  \n",
      " 0   Unnamed: 0  440317 non-null  int64  \n",
      " 1   user_id     440317 non-null  object \n",
      " 2   event_dt    440317 non-null  object \n",
      " 3   event_name  440317 non-null  object \n",
      " 4   details     62740 non-null   float64\n",
      "dtypes: float64(1), int64(1), object(3)\n",
      "memory usage: 16.8+ MB\n"
     ]
    }
   ],
   "source": [
    "final_ab_events.info()"
   ]
  },
  {
   "cell_type": "markdown",
   "metadata": {},
   "source": [
    "Имеем четыре столбца в details тип fioat64. Приведем формат даты к нормальному виду"
   ]
  },
  {
   "cell_type": "code",
   "execution_count": 6,
   "metadata": {},
   "outputs": [],
   "source": [
    "final_ab_events['event_dt'] = pd.to_datetime(final_ab_events['event_dt'])"
   ]
  },
  {
   "cell_type": "markdown",
   "metadata": {},
   "source": [
    "Проверим на дубликаты"
   ]
  },
  {
   "cell_type": "code",
   "execution_count": 7,
   "metadata": {},
   "outputs": [
    {
     "data": {
      "text/plain": [
       "0"
      ]
     },
     "execution_count": 7,
     "metadata": {},
     "output_type": "execute_result"
    }
   ],
   "source": [
    "final_ab_events.duplicated().sum()"
   ]
  },
  {
   "cell_type": "markdown",
   "metadata": {},
   "source": [
    "Посмотрим какие допополнительные данные встречаются в details"
   ]
  },
  {
   "cell_type": "code",
   "execution_count": 8,
   "metadata": {},
   "outputs": [
    {
     "data": {
      "text/plain": [
       "array([ 99.99,   9.99,   4.99, 499.99,    nan])"
      ]
     },
     "execution_count": 8,
     "metadata": {},
     "output_type": "execute_result"
    }
   ],
   "source": [
    "final_ab_events.details.unique()"
   ]
  },
  {
   "cell_type": "markdown",
   "metadata": {},
   "source": [
    "Проверим на пропуски"
   ]
  },
  {
   "cell_type": "code",
   "execution_count": 9,
   "metadata": {},
   "outputs": [
    {
     "data": {
      "text/plain": [
       "Unnamed: 0         0\n",
       "user_id            0\n",
       "event_dt           0\n",
       "event_name         0\n",
       "details       377577\n",
       "dtype: int64"
      ]
     },
     "execution_count": 9,
     "metadata": {},
     "output_type": "execute_result"
    }
   ],
   "source": [
    "final_ab_events.isna().sum()  "
   ]
  },
  {
   "cell_type": "markdown",
   "metadata": {},
   "source": [
    "В details 377577 пропусков. В этом столбще хранятся дополнительные данные о событиях. Не для всех событий есть дополнительная информация, поэтому пропуски тут - это нормально. Заменим их на 0"
   ]
  },
  {
   "cell_type": "markdown",
   "metadata": {},
   "source": [
    "Возможно, данные заполнены только в нрафах с событиям purchase, т.к. это сумма покупки. Изучим этот вопрос"
   ]
  },
  {
   "cell_type": "code",
   "execution_count": 10,
   "metadata": {},
   "outputs": [
    {
     "data": {
      "text/html": [
       "<div>\n",
       "<style scoped>\n",
       "    .dataframe tbody tr th:only-of-type {\n",
       "        vertical-align: middle;\n",
       "    }\n",
       "\n",
       "    .dataframe tbody tr th {\n",
       "        vertical-align: top;\n",
       "    }\n",
       "\n",
       "    .dataframe thead th {\n",
       "        text-align: right;\n",
       "    }\n",
       "</style>\n",
       "<table border=\"1\" class=\"dataframe\">\n",
       "  <thead>\n",
       "    <tr style=\"text-align: right;\">\n",
       "      <th></th>\n",
       "      <th>Unnamed: 0</th>\n",
       "      <th>user_id</th>\n",
       "      <th>event_dt</th>\n",
       "      <th>event_name</th>\n",
       "      <th>details</th>\n",
       "    </tr>\n",
       "  </thead>\n",
       "  <tbody>\n",
       "    <tr>\n",
       "      <th>0</th>\n",
       "      <td>0</td>\n",
       "      <td>E1BDDCE0DAFA2679</td>\n",
       "      <td>2020-12-07 20:22:03</td>\n",
       "      <td>purchase</td>\n",
       "      <td>99.99</td>\n",
       "    </tr>\n",
       "    <tr>\n",
       "      <th>1</th>\n",
       "      <td>1</td>\n",
       "      <td>7B6452F081F49504</td>\n",
       "      <td>2020-12-07 09:22:53</td>\n",
       "      <td>purchase</td>\n",
       "      <td>9.99</td>\n",
       "    </tr>\n",
       "    <tr>\n",
       "      <th>2</th>\n",
       "      <td>2</td>\n",
       "      <td>9CD9F34546DF254C</td>\n",
       "      <td>2020-12-07 12:59:29</td>\n",
       "      <td>purchase</td>\n",
       "      <td>4.99</td>\n",
       "    </tr>\n",
       "    <tr>\n",
       "      <th>3</th>\n",
       "      <td>3</td>\n",
       "      <td>96F27A054B191457</td>\n",
       "      <td>2020-12-07 04:02:40</td>\n",
       "      <td>purchase</td>\n",
       "      <td>4.99</td>\n",
       "    </tr>\n",
       "    <tr>\n",
       "      <th>4</th>\n",
       "      <td>4</td>\n",
       "      <td>1FD7660FDF94CA1F</td>\n",
       "      <td>2020-12-07 10:15:09</td>\n",
       "      <td>purchase</td>\n",
       "      <td>4.99</td>\n",
       "    </tr>\n",
       "    <tr>\n",
       "      <th>...</th>\n",
       "      <td>...</td>\n",
       "      <td>...</td>\n",
       "      <td>...</td>\n",
       "      <td>...</td>\n",
       "      <td>...</td>\n",
       "    </tr>\n",
       "    <tr>\n",
       "      <th>62735</th>\n",
       "      <td>62735</td>\n",
       "      <td>1455450835F72F5E</td>\n",
       "      <td>2020-12-30 09:27:10</td>\n",
       "      <td>purchase</td>\n",
       "      <td>4.99</td>\n",
       "    </tr>\n",
       "    <tr>\n",
       "      <th>62736</th>\n",
       "      <td>62736</td>\n",
       "      <td>339C4C55021A83C6</td>\n",
       "      <td>2020-12-30 12:55:08</td>\n",
       "      <td>purchase</td>\n",
       "      <td>9.99</td>\n",
       "    </tr>\n",
       "    <tr>\n",
       "      <th>62737</th>\n",
       "      <td>62737</td>\n",
       "      <td>D1553B56FFA8974B</td>\n",
       "      <td>2020-12-30 03:15:35</td>\n",
       "      <td>purchase</td>\n",
       "      <td>4.99</td>\n",
       "    </tr>\n",
       "    <tr>\n",
       "      <th>62738</th>\n",
       "      <td>62738</td>\n",
       "      <td>245E85F65C358E08</td>\n",
       "      <td>2020-12-30 19:35:55</td>\n",
       "      <td>purchase</td>\n",
       "      <td>9.99</td>\n",
       "    </tr>\n",
       "    <tr>\n",
       "      <th>62739</th>\n",
       "      <td>62739</td>\n",
       "      <td>F80C9BDDEA02E53C</td>\n",
       "      <td>2020-12-30 09:53:39</td>\n",
       "      <td>purchase</td>\n",
       "      <td>4.99</td>\n",
       "    </tr>\n",
       "  </tbody>\n",
       "</table>\n",
       "<p>62740 rows × 5 columns</p>\n",
       "</div>"
      ],
      "text/plain": [
       "       Unnamed: 0           user_id            event_dt event_name  details\n",
       "0               0  E1BDDCE0DAFA2679 2020-12-07 20:22:03   purchase    99.99\n",
       "1               1  7B6452F081F49504 2020-12-07 09:22:53   purchase     9.99\n",
       "2               2  9CD9F34546DF254C 2020-12-07 12:59:29   purchase     4.99\n",
       "3               3  96F27A054B191457 2020-12-07 04:02:40   purchase     4.99\n",
       "4               4  1FD7660FDF94CA1F 2020-12-07 10:15:09   purchase     4.99\n",
       "...           ...               ...                 ...        ...      ...\n",
       "62735       62735  1455450835F72F5E 2020-12-30 09:27:10   purchase     4.99\n",
       "62736       62736  339C4C55021A83C6 2020-12-30 12:55:08   purchase     9.99\n",
       "62737       62737  D1553B56FFA8974B 2020-12-30 03:15:35   purchase     4.99\n",
       "62738       62738  245E85F65C358E08 2020-12-30 19:35:55   purchase     9.99\n",
       "62739       62739  F80C9BDDEA02E53C 2020-12-30 09:53:39   purchase     4.99\n",
       "\n",
       "[62740 rows x 5 columns]"
      ]
     },
     "execution_count": 10,
     "metadata": {},
     "output_type": "execute_result"
    }
   ],
   "source": [
    "final_ab_events[(final_ab_events['event_name'] == 'purchase')&(final_ab_events['details'] > 0)]"
   ]
  },
  {
   "cell_type": "code",
   "execution_count": 11,
   "metadata": {},
   "outputs": [
    {
     "data": {
      "text/plain": [
       "login           189552\n",
       "product_page    125563\n",
       "purchase         62740\n",
       "product_cart     62462\n",
       "Name: event_name, dtype: int64"
      ]
     },
     "execution_count": 11,
     "metadata": {},
     "output_type": "execute_result"
    }
   ],
   "source": [
    "final_ab_events.event_name.value_counts()"
   ]
  },
  {
   "cell_type": "code",
   "execution_count": 12,
   "metadata": {},
   "outputs": [],
   "source": [
    "details = final_ab_events[final_ab_events['details'] > 0]"
   ]
  },
  {
   "cell_type": "code",
   "execution_count": 13,
   "metadata": {},
   "outputs": [
    {
     "data": {
      "text/plain": [
       "details  event_name\n",
       "4.99     purchase      46362\n",
       "9.99     purchase       9530\n",
       "99.99    purchase       5631\n",
       "499.99   purchase       1217\n",
       "Name: event_name, dtype: int64"
      ]
     },
     "execution_count": 13,
     "metadata": {},
     "output_type": "execute_result"
    }
   ],
   "source": [
    "details.groupby(['details', 'event_name'])['event_name'].count()"
   ]
  },
  {
   "cell_type": "markdown",
   "metadata": {},
   "source": [
    "Все данные в details занесены только в событии покупка и отражают стоимость."
   ]
  },
  {
   "cell_type": "code",
   "execution_count": 14,
   "metadata": {},
   "outputs": [],
   "source": [
    "final_ab_events.details = final_ab_events.details.fillna(0)"
   ]
  },
  {
   "cell_type": "code",
   "execution_count": 15,
   "metadata": {},
   "outputs": [
    {
     "data": {
      "text/plain": [
       "Unnamed: 0    0\n",
       "user_id       0\n",
       "event_dt      0\n",
       "event_name    0\n",
       "details       0\n",
       "dtype: int64"
      ]
     },
     "execution_count": 15,
     "metadata": {},
     "output_type": "execute_result"
    }
   ],
   "source": [
    "final_ab_events.isna().sum()  "
   ]
  },
  {
   "cell_type": "code",
   "execution_count": 16,
   "metadata": {},
   "outputs": [
    {
     "data": {
      "text/plain": [
       "(440317, 5)"
      ]
     },
     "execution_count": 16,
     "metadata": {},
     "output_type": "execute_result"
    }
   ],
   "source": [
    "final_ab_events.shape"
   ]
  },
  {
   "cell_type": "code",
   "execution_count": 17,
   "metadata": {},
   "outputs": [
    {
     "name": "stdout",
     "output_type": "stream",
     "text": [
      "В таблице всего 58703 уникальных пользователей.\n"
     ]
    }
   ],
   "source": [
    "print(f'В таблице всего {final_ab_events.user_id.nunique()} уникальных пользователей.')"
   ]
  },
  {
   "cell_type": "code",
   "execution_count": 18,
   "metadata": {},
   "outputs": [
    {
     "data": {
      "text/plain": [
       "array([ 99.99,   9.99,   4.99, 499.99,   0.  ])"
      ]
     },
     "execution_count": 18,
     "metadata": {},
     "output_type": "execute_result"
    }
   ],
   "source": [
    "final_ab_events.details.unique()"
   ]
  },
  {
   "cell_type": "markdown",
   "metadata": {},
   "source": [
    "***ab_project_marketing_events***"
   ]
  },
  {
   "cell_type": "code",
   "execution_count": 19,
   "metadata": {},
   "outputs": [
    {
     "data": {
      "text/html": [
       "<div>\n",
       "<style scoped>\n",
       "    .dataframe tbody tr th:only-of-type {\n",
       "        vertical-align: middle;\n",
       "    }\n",
       "\n",
       "    .dataframe tbody tr th {\n",
       "        vertical-align: top;\n",
       "    }\n",
       "\n",
       "    .dataframe thead th {\n",
       "        text-align: right;\n",
       "    }\n",
       "</style>\n",
       "<table border=\"1\" class=\"dataframe\">\n",
       "  <thead>\n",
       "    <tr style=\"text-align: right;\">\n",
       "      <th></th>\n",
       "      <th>Unnamed: 0</th>\n",
       "      <th>name</th>\n",
       "      <th>regions</th>\n",
       "      <th>start_dt</th>\n",
       "      <th>finish_dt</th>\n",
       "    </tr>\n",
       "  </thead>\n",
       "  <tbody>\n",
       "    <tr>\n",
       "      <th>0</th>\n",
       "      <td>0</td>\n",
       "      <td>Christmas&amp;New Year Promo</td>\n",
       "      <td>EU, N.America</td>\n",
       "      <td>2020-12-25</td>\n",
       "      <td>2021-01-03</td>\n",
       "    </tr>\n",
       "    <tr>\n",
       "      <th>1</th>\n",
       "      <td>1</td>\n",
       "      <td>St. Valentine's Day Giveaway</td>\n",
       "      <td>EU, CIS, APAC, N.America</td>\n",
       "      <td>2020-02-14</td>\n",
       "      <td>2020-02-16</td>\n",
       "    </tr>\n",
       "    <tr>\n",
       "      <th>2</th>\n",
       "      <td>2</td>\n",
       "      <td>St. Patric's Day Promo</td>\n",
       "      <td>EU, N.America</td>\n",
       "      <td>2020-03-17</td>\n",
       "      <td>2020-03-19</td>\n",
       "    </tr>\n",
       "    <tr>\n",
       "      <th>3</th>\n",
       "      <td>3</td>\n",
       "      <td>Easter Promo</td>\n",
       "      <td>EU, CIS, APAC, N.America</td>\n",
       "      <td>2020-04-12</td>\n",
       "      <td>2020-04-19</td>\n",
       "    </tr>\n",
       "    <tr>\n",
       "      <th>4</th>\n",
       "      <td>4</td>\n",
       "      <td>4th of July Promo</td>\n",
       "      <td>N.America</td>\n",
       "      <td>2020-07-04</td>\n",
       "      <td>2020-07-11</td>\n",
       "    </tr>\n",
       "    <tr>\n",
       "      <th>5</th>\n",
       "      <td>5</td>\n",
       "      <td>Black Friday Ads Campaign</td>\n",
       "      <td>EU, CIS, APAC, N.America</td>\n",
       "      <td>2020-11-26</td>\n",
       "      <td>2020-12-01</td>\n",
       "    </tr>\n",
       "    <tr>\n",
       "      <th>6</th>\n",
       "      <td>6</td>\n",
       "      <td>Chinese New Year Promo</td>\n",
       "      <td>APAC</td>\n",
       "      <td>2020-01-25</td>\n",
       "      <td>2020-02-07</td>\n",
       "    </tr>\n",
       "    <tr>\n",
       "      <th>7</th>\n",
       "      <td>7</td>\n",
       "      <td>Labor day (May 1st) Ads Campaign</td>\n",
       "      <td>EU, CIS, APAC</td>\n",
       "      <td>2020-05-01</td>\n",
       "      <td>2020-05-03</td>\n",
       "    </tr>\n",
       "    <tr>\n",
       "      <th>8</th>\n",
       "      <td>8</td>\n",
       "      <td>International Women's Day Promo</td>\n",
       "      <td>EU, CIS, APAC</td>\n",
       "      <td>2020-03-08</td>\n",
       "      <td>2020-03-10</td>\n",
       "    </tr>\n",
       "    <tr>\n",
       "      <th>9</th>\n",
       "      <td>9</td>\n",
       "      <td>Victory Day CIS (May 9th) Event</td>\n",
       "      <td>CIS</td>\n",
       "      <td>2020-05-09</td>\n",
       "      <td>2020-05-11</td>\n",
       "    </tr>\n",
       "    <tr>\n",
       "      <th>10</th>\n",
       "      <td>10</td>\n",
       "      <td>CIS New Year Gift Lottery</td>\n",
       "      <td>CIS</td>\n",
       "      <td>2020-12-30</td>\n",
       "      <td>2021-01-07</td>\n",
       "    </tr>\n",
       "    <tr>\n",
       "      <th>11</th>\n",
       "      <td>11</td>\n",
       "      <td>Dragon Boat Festival Giveaway</td>\n",
       "      <td>APAC</td>\n",
       "      <td>2020-06-25</td>\n",
       "      <td>2020-07-01</td>\n",
       "    </tr>\n",
       "    <tr>\n",
       "      <th>12</th>\n",
       "      <td>12</td>\n",
       "      <td>Single's Day Gift Promo</td>\n",
       "      <td>APAC</td>\n",
       "      <td>2020-11-11</td>\n",
       "      <td>2020-11-12</td>\n",
       "    </tr>\n",
       "    <tr>\n",
       "      <th>13</th>\n",
       "      <td>13</td>\n",
       "      <td>Chinese Moon Festival</td>\n",
       "      <td>APAC</td>\n",
       "      <td>2020-10-01</td>\n",
       "      <td>2020-10-07</td>\n",
       "    </tr>\n",
       "  </tbody>\n",
       "</table>\n",
       "</div>"
      ],
      "text/plain": [
       "    Unnamed: 0                              name                   regions  \\\n",
       "0            0          Christmas&New Year Promo             EU, N.America   \n",
       "1            1      St. Valentine's Day Giveaway  EU, CIS, APAC, N.America   \n",
       "2            2            St. Patric's Day Promo             EU, N.America   \n",
       "3            3                      Easter Promo  EU, CIS, APAC, N.America   \n",
       "4            4                 4th of July Promo                 N.America   \n",
       "5            5         Black Friday Ads Campaign  EU, CIS, APAC, N.America   \n",
       "6            6            Chinese New Year Promo                      APAC   \n",
       "7            7  Labor day (May 1st) Ads Campaign             EU, CIS, APAC   \n",
       "8            8   International Women's Day Promo             EU, CIS, APAC   \n",
       "9            9   Victory Day CIS (May 9th) Event                       CIS   \n",
       "10          10         CIS New Year Gift Lottery                       CIS   \n",
       "11          11     Dragon Boat Festival Giveaway                      APAC   \n",
       "12          12           Single's Day Gift Promo                      APAC   \n",
       "13          13             Chinese Moon Festival                      APAC   \n",
       "\n",
       "      start_dt   finish_dt  \n",
       "0   2020-12-25  2021-01-03  \n",
       "1   2020-02-14  2020-02-16  \n",
       "2   2020-03-17  2020-03-19  \n",
       "3   2020-04-12  2020-04-19  \n",
       "4   2020-07-04  2020-07-11  \n",
       "5   2020-11-26  2020-12-01  \n",
       "6   2020-01-25  2020-02-07  \n",
       "7   2020-05-01  2020-05-03  \n",
       "8   2020-03-08  2020-03-10  \n",
       "9   2020-05-09  2020-05-11  \n",
       "10  2020-12-30  2021-01-07  \n",
       "11  2020-06-25  2020-07-01  \n",
       "12  2020-11-11  2020-11-12  \n",
       "13  2020-10-01  2020-10-07  "
      ]
     },
     "metadata": {},
     "output_type": "display_data"
    }
   ],
   "source": [
    "display(ab_project_marketing_events)"
   ]
  },
  {
   "cell_type": "code",
   "execution_count": 20,
   "metadata": {},
   "outputs": [
    {
     "name": "stdout",
     "output_type": "stream",
     "text": [
      "Имеем таблицу данных  ab_project_marketing_events размерностью (14, 5)\n"
     ]
    }
   ],
   "source": [
    "print(f'Имеем таблицу данных  ab_project_marketing_events размерностью {ab_project_marketing_events.shape}')"
   ]
  },
  {
   "cell_type": "code",
   "execution_count": 21,
   "metadata": {},
   "outputs": [
    {
     "name": "stdout",
     "output_type": "stream",
     "text": [
      "<class 'pandas.core.frame.DataFrame'>\n",
      "RangeIndex: 14 entries, 0 to 13\n",
      "Data columns (total 5 columns):\n",
      " #   Column      Non-Null Count  Dtype \n",
      "---  ------      --------------  ----- \n",
      " 0   Unnamed: 0  14 non-null     int64 \n",
      " 1   name        14 non-null     object\n",
      " 2   regions     14 non-null     object\n",
      " 3   start_dt    14 non-null     object\n",
      " 4   finish_dt   14 non-null     object\n",
      "dtypes: int64(1), object(4)\n",
      "memory usage: 688.0+ bytes\n"
     ]
    }
   ],
   "source": [
    "ab_project_marketing_events.info()"
   ]
  },
  {
   "cell_type": "code",
   "execution_count": 22,
   "metadata": {},
   "outputs": [
    {
     "data": {
      "text/plain": [
       "0"
      ]
     },
     "execution_count": 22,
     "metadata": {},
     "output_type": "execute_result"
    }
   ],
   "source": [
    "# проверим на дубликаты\n",
    "ab_project_marketing_events.duplicated().sum()"
   ]
  },
  {
   "cell_type": "code",
   "execution_count": 23,
   "metadata": {},
   "outputs": [
    {
     "data": {
      "text/plain": [
       "Unnamed: 0    0\n",
       "name          0\n",
       "regions       0\n",
       "start_dt      0\n",
       "finish_dt     0\n",
       "dtype: int64"
      ]
     },
     "execution_count": 23,
     "metadata": {},
     "output_type": "execute_result"
    }
   ],
   "source": [
    "# проверим на пропуски\n",
    "ab_project_marketing_events.isna().sum()  "
   ]
  },
  {
   "cell_type": "code",
   "execution_count": 24,
   "metadata": {},
   "outputs": [
    {
     "data": {
      "text/plain": [
       "(440317, 5)"
      ]
     },
     "execution_count": 24,
     "metadata": {},
     "output_type": "execute_result"
    }
   ],
   "source": [
    "final_ab_events.shape"
   ]
  },
  {
   "cell_type": "markdown",
   "metadata": {},
   "source": [
    "***final_ab_new_users***"
   ]
  },
  {
   "cell_type": "code",
   "execution_count": 25,
   "metadata": {},
   "outputs": [
    {
     "data": {
      "text/html": [
       "<div>\n",
       "<style scoped>\n",
       "    .dataframe tbody tr th:only-of-type {\n",
       "        vertical-align: middle;\n",
       "    }\n",
       "\n",
       "    .dataframe tbody tr th {\n",
       "        vertical-align: top;\n",
       "    }\n",
       "\n",
       "    .dataframe thead th {\n",
       "        text-align: right;\n",
       "    }\n",
       "</style>\n",
       "<table border=\"1\" class=\"dataframe\">\n",
       "  <thead>\n",
       "    <tr style=\"text-align: right;\">\n",
       "      <th></th>\n",
       "      <th>Unnamed: 0</th>\n",
       "      <th>user_id</th>\n",
       "      <th>first_date</th>\n",
       "      <th>region</th>\n",
       "      <th>device</th>\n",
       "    </tr>\n",
       "  </thead>\n",
       "  <tbody>\n",
       "    <tr>\n",
       "      <th>0</th>\n",
       "      <td>0</td>\n",
       "      <td>D72A72121175D8BE</td>\n",
       "      <td>2020-12-07</td>\n",
       "      <td>EU</td>\n",
       "      <td>PC</td>\n",
       "    </tr>\n",
       "    <tr>\n",
       "      <th>1</th>\n",
       "      <td>1</td>\n",
       "      <td>F1C668619DFE6E65</td>\n",
       "      <td>2020-12-07</td>\n",
       "      <td>N.America</td>\n",
       "      <td>Android</td>\n",
       "    </tr>\n",
       "    <tr>\n",
       "      <th>2</th>\n",
       "      <td>2</td>\n",
       "      <td>2E1BF1D4C37EA01F</td>\n",
       "      <td>2020-12-07</td>\n",
       "      <td>EU</td>\n",
       "      <td>PC</td>\n",
       "    </tr>\n",
       "    <tr>\n",
       "      <th>3</th>\n",
       "      <td>3</td>\n",
       "      <td>50734A22C0C63768</td>\n",
       "      <td>2020-12-07</td>\n",
       "      <td>EU</td>\n",
       "      <td>iPhone</td>\n",
       "    </tr>\n",
       "    <tr>\n",
       "      <th>4</th>\n",
       "      <td>4</td>\n",
       "      <td>E1BDDCE0DAFA2679</td>\n",
       "      <td>2020-12-07</td>\n",
       "      <td>N.America</td>\n",
       "      <td>iPhone</td>\n",
       "    </tr>\n",
       "    <tr>\n",
       "      <th>...</th>\n",
       "      <td>...</td>\n",
       "      <td>...</td>\n",
       "      <td>...</td>\n",
       "      <td>...</td>\n",
       "      <td>...</td>\n",
       "    </tr>\n",
       "    <tr>\n",
       "      <th>61728</th>\n",
       "      <td>61728</td>\n",
       "      <td>1DB53B933257165D</td>\n",
       "      <td>2020-12-20</td>\n",
       "      <td>EU</td>\n",
       "      <td>Android</td>\n",
       "    </tr>\n",
       "    <tr>\n",
       "      <th>61729</th>\n",
       "      <td>61729</td>\n",
       "      <td>538643EB4527ED03</td>\n",
       "      <td>2020-12-20</td>\n",
       "      <td>EU</td>\n",
       "      <td>Mac</td>\n",
       "    </tr>\n",
       "    <tr>\n",
       "      <th>61730</th>\n",
       "      <td>61730</td>\n",
       "      <td>7ADEE837D5D8CBBD</td>\n",
       "      <td>2020-12-20</td>\n",
       "      <td>EU</td>\n",
       "      <td>PC</td>\n",
       "    </tr>\n",
       "    <tr>\n",
       "      <th>61731</th>\n",
       "      <td>61731</td>\n",
       "      <td>1C7D23927835213F</td>\n",
       "      <td>2020-12-20</td>\n",
       "      <td>EU</td>\n",
       "      <td>iPhone</td>\n",
       "    </tr>\n",
       "    <tr>\n",
       "      <th>61732</th>\n",
       "      <td>61732</td>\n",
       "      <td>8F04273BB2860229</td>\n",
       "      <td>2020-12-20</td>\n",
       "      <td>EU</td>\n",
       "      <td>Android</td>\n",
       "    </tr>\n",
       "  </tbody>\n",
       "</table>\n",
       "<p>61733 rows × 5 columns</p>\n",
       "</div>"
      ],
      "text/plain": [
       "       Unnamed: 0           user_id  first_date     region   device\n",
       "0               0  D72A72121175D8BE  2020-12-07         EU       PC\n",
       "1               1  F1C668619DFE6E65  2020-12-07  N.America  Android\n",
       "2               2  2E1BF1D4C37EA01F  2020-12-07         EU       PC\n",
       "3               3  50734A22C0C63768  2020-12-07         EU   iPhone\n",
       "4               4  E1BDDCE0DAFA2679  2020-12-07  N.America   iPhone\n",
       "...           ...               ...         ...        ...      ...\n",
       "61728       61728  1DB53B933257165D  2020-12-20         EU  Android\n",
       "61729       61729  538643EB4527ED03  2020-12-20         EU      Mac\n",
       "61730       61730  7ADEE837D5D8CBBD  2020-12-20         EU       PC\n",
       "61731       61731  1C7D23927835213F  2020-12-20         EU   iPhone\n",
       "61732       61732  8F04273BB2860229  2020-12-20         EU  Android\n",
       "\n",
       "[61733 rows x 5 columns]"
      ]
     },
     "metadata": {},
     "output_type": "display_data"
    }
   ],
   "source": [
    "display(final_ab_new_users)"
   ]
  },
  {
   "cell_type": "code",
   "execution_count": 26,
   "metadata": {},
   "outputs": [
    {
     "name": "stdout",
     "output_type": "stream",
     "text": [
      "<class 'pandas.core.frame.DataFrame'>\n",
      "RangeIndex: 61733 entries, 0 to 61732\n",
      "Data columns (total 5 columns):\n",
      " #   Column      Non-Null Count  Dtype \n",
      "---  ------      --------------  ----- \n",
      " 0   Unnamed: 0  61733 non-null  int64 \n",
      " 1   user_id     61733 non-null  object\n",
      " 2   first_date  61733 non-null  object\n",
      " 3   region      61733 non-null  object\n",
      " 4   device      61733 non-null  object\n",
      "dtypes: int64(1), object(4)\n",
      "memory usage: 2.4+ MB\n"
     ]
    }
   ],
   "source": [
    "final_ab_new_users.info()"
   ]
  },
  {
   "cell_type": "code",
   "execution_count": 27,
   "metadata": {},
   "outputs": [
    {
     "name": "stdout",
     "output_type": "stream",
     "text": [
      "<class 'pandas.core.frame.DataFrame'>\n",
      "RangeIndex: 61733 entries, 0 to 61732\n",
      "Data columns (total 5 columns):\n",
      " #   Column      Non-Null Count  Dtype \n",
      "---  ------      --------------  ----- \n",
      " 0   Unnamed: 0  61733 non-null  int64 \n",
      " 1   user_id     61733 non-null  object\n",
      " 2   first_date  61733 non-null  object\n",
      " 3   region      61733 non-null  object\n",
      " 4   device      61733 non-null  object\n",
      "dtypes: int64(1), object(4)\n",
      "memory usage: 2.4+ MB\n"
     ]
    }
   ],
   "source": [
    "final_ab_new_users.info()"
   ]
  },
  {
   "cell_type": "markdown",
   "metadata": {},
   "source": [
    "Проверим на полные дубликаты"
   ]
  },
  {
   "cell_type": "code",
   "execution_count": 28,
   "metadata": {},
   "outputs": [
    {
     "data": {
      "text/plain": [
       "0"
      ]
     },
     "execution_count": 28,
     "metadata": {},
     "output_type": "execute_result"
    }
   ],
   "source": [
    "final_ab_new_users.duplicated().sum()"
   ]
  },
  {
   "cell_type": "code",
   "execution_count": 29,
   "metadata": {},
   "outputs": [
    {
     "data": {
      "text/plain": [
       "61733"
      ]
     },
     "execution_count": 29,
     "metadata": {},
     "output_type": "execute_result"
    }
   ],
   "source": [
    "final_ab_new_users.user_id.nunique()"
   ]
  },
  {
   "cell_type": "markdown",
   "metadata": {},
   "source": [
    "Проверим на пропуски"
   ]
  },
  {
   "cell_type": "code",
   "execution_count": 30,
   "metadata": {},
   "outputs": [
    {
     "data": {
      "text/plain": [
       "Unnamed: 0    0\n",
       "user_id       0\n",
       "first_date    0\n",
       "region        0\n",
       "device        0\n",
       "dtype: int64"
      ]
     },
     "execution_count": 30,
     "metadata": {},
     "output_type": "execute_result"
    }
   ],
   "source": [
    "final_ab_new_users.isna().sum()  "
   ]
  },
  {
   "cell_type": "code",
   "execution_count": 31,
   "metadata": {},
   "outputs": [
    {
     "name": "stdout",
     "output_type": "stream",
     "text": [
      "Имеем таблицу данных  final_ab_new_users размерностью (61733, 5)\n"
     ]
    }
   ],
   "source": [
    "print(f'Имеем таблицу данных  final_ab_new_users размерностью {final_ab_new_users.shape}')"
   ]
  },
  {
   "cell_type": "code",
   "execution_count": 32,
   "metadata": {},
   "outputs": [
    {
     "name": "stdout",
     "output_type": "stream",
     "text": [
      "Дата первой регистрации 2020-12-07\n"
     ]
    }
   ],
   "source": [
    "print(f'Дата первой регистрации {final_ab_new_users.first_date.min()}')"
   ]
  },
  {
   "cell_type": "code",
   "execution_count": 33,
   "metadata": {},
   "outputs": [
    {
     "name": "stdout",
     "output_type": "stream",
     "text": [
      "Дата последней регистрации 2020-12-23\n"
     ]
    }
   ],
   "source": [
    "print(f'Дата последней регистрации {final_ab_new_users.first_date.max()}')"
   ]
  },
  {
   "cell_type": "markdown",
   "metadata": {},
   "source": [
    "Сделаем проверку сроков регистрации для нашего теста."
   ]
  },
  {
   "cell_type": "code",
   "execution_count": 34,
   "metadata": {},
   "outputs": [],
   "source": [
    "test_filter = final_ab_participants[final_ab_participants['ab_test']=='recommender_system_test'][['user_id']]"
   ]
  },
  {
   "cell_type": "code",
   "execution_count": 35,
   "metadata": {},
   "outputs": [],
   "source": [
    "final_ab_new_users_test_filter = pd.merge(final_ab_new_users, test_filter, on=['user_id'], how='inner')"
   ]
  },
  {
   "cell_type": "code",
   "execution_count": 36,
   "metadata": {},
   "outputs": [
    {
     "name": "stdout",
     "output_type": "stream",
     "text": [
      "Дата первой регистрации для нашего теста  2020-12-07\n",
      "Дата последней регистрации для нашего теста  2020-12-21\n"
     ]
    }
   ],
   "source": [
    "print(f'Дата первой регистрации для нашего теста  {final_ab_new_users_test_filter.first_date.min()}')\n",
    "print(f'Дата последней регистрации для нашего теста  {final_ab_new_users_test_filter.first_date.max()}')"
   ]
  },
  {
   "cell_type": "markdown",
   "metadata": {},
   "source": [
    "В этом пункте имеем полное соответствие техническому заданию последняя дата регистрации приходится на 21 декабря. \n",
    "\n",
    "Именно эта дата позволяет до 4 января 2021 года собрать метрики за 14 дней по каждому пользователю для проведения дальнейшего анализа."
   ]
  },
  {
   "cell_type": "code",
   "execution_count": 37,
   "metadata": {},
   "outputs": [
    {
     "data": {
      "text/plain": [
       "(61733, 5)"
      ]
     },
     "execution_count": 37,
     "metadata": {},
     "output_type": "execute_result"
    }
   ],
   "source": [
    "final_ab_new_users.shape"
   ]
  },
  {
   "cell_type": "markdown",
   "metadata": {},
   "source": [
    "Выведем информацию о количистве пользователей по регионам"
   ]
  },
  {
   "cell_type": "code",
   "execution_count": 38,
   "metadata": {},
   "outputs": [
    {
     "data": {
      "text/html": [
       "<div>\n",
       "<style scoped>\n",
       "    .dataframe tbody tr th:only-of-type {\n",
       "        vertical-align: middle;\n",
       "    }\n",
       "\n",
       "    .dataframe tbody tr th {\n",
       "        vertical-align: top;\n",
       "    }\n",
       "\n",
       "    .dataframe thead th {\n",
       "        text-align: right;\n",
       "    }\n",
       "</style>\n",
       "<table border=\"1\" class=\"dataframe\">\n",
       "  <thead>\n",
       "    <tr style=\"text-align: right;\">\n",
       "      <th></th>\n",
       "      <th>region</th>\n",
       "      <th>user_id</th>\n",
       "    </tr>\n",
       "  </thead>\n",
       "  <tbody>\n",
       "    <tr>\n",
       "      <th>0</th>\n",
       "      <td>APAC</td>\n",
       "      <td>3153</td>\n",
       "    </tr>\n",
       "    <tr>\n",
       "      <th>1</th>\n",
       "      <td>CIS</td>\n",
       "      <td>3155</td>\n",
       "    </tr>\n",
       "    <tr>\n",
       "      <th>2</th>\n",
       "      <td>EU</td>\n",
       "      <td>46270</td>\n",
       "    </tr>\n",
       "    <tr>\n",
       "      <th>3</th>\n",
       "      <td>N.America</td>\n",
       "      <td>9155</td>\n",
       "    </tr>\n",
       "  </tbody>\n",
       "</table>\n",
       "</div>"
      ],
      "text/plain": [
       "      region  user_id\n",
       "0       APAC     3153\n",
       "1        CIS     3155\n",
       "2         EU    46270\n",
       "3  N.America     9155"
      ]
     },
     "execution_count": 38,
     "metadata": {},
     "output_type": "execute_result"
    }
   ],
   "source": [
    "region_groupby = final_ab_new_users.groupby('region')['user_id'].count().reset_index()\n",
    "\n",
    "region_groupby\n"
   ]
  },
  {
   "cell_type": "markdown",
   "metadata": {},
   "source": [
    "Проверим какие девайсы еть в данных и в каких количествах"
   ]
  },
  {
   "cell_type": "code",
   "execution_count": 39,
   "metadata": {},
   "outputs": [
    {
     "data": {
      "text/plain": [
       "array(['PC', 'Android', 'iPhone', 'Mac'], dtype=object)"
      ]
     },
     "execution_count": 39,
     "metadata": {},
     "output_type": "execute_result"
    }
   ],
   "source": [
    "final_ab_new_users.device.unique()"
   ]
  },
  {
   "cell_type": "code",
   "execution_count": 40,
   "metadata": {},
   "outputs": [
    {
     "data": {
      "text/plain": [
       "Android    27520\n",
       "PC         15599\n",
       "iPhone     12530\n",
       "Mac         6084\n",
       "Name: device, dtype: int64"
      ]
     },
     "execution_count": 40,
     "metadata": {},
     "output_type": "execute_result"
    }
   ],
   "source": [
    "final_ab_new_users.device.value_counts()"
   ]
  },
  {
   "cell_type": "markdown",
   "metadata": {},
   "source": [
    "***final_ab_participants***\n"
   ]
  },
  {
   "cell_type": "code",
   "execution_count": 41,
   "metadata": {},
   "outputs": [
    {
     "data": {
      "text/html": [
       "<div>\n",
       "<style scoped>\n",
       "    .dataframe tbody tr th:only-of-type {\n",
       "        vertical-align: middle;\n",
       "    }\n",
       "\n",
       "    .dataframe tbody tr th {\n",
       "        vertical-align: top;\n",
       "    }\n",
       "\n",
       "    .dataframe thead th {\n",
       "        text-align: right;\n",
       "    }\n",
       "</style>\n",
       "<table border=\"1\" class=\"dataframe\">\n",
       "  <thead>\n",
       "    <tr style=\"text-align: right;\">\n",
       "      <th></th>\n",
       "      <th>Unnamed: 0</th>\n",
       "      <th>user_id</th>\n",
       "      <th>group</th>\n",
       "      <th>ab_test</th>\n",
       "    </tr>\n",
       "  </thead>\n",
       "  <tbody>\n",
       "    <tr>\n",
       "      <th>0</th>\n",
       "      <td>0</td>\n",
       "      <td>D1ABA3E2887B6A73</td>\n",
       "      <td>A</td>\n",
       "      <td>recommender_system_test</td>\n",
       "    </tr>\n",
       "    <tr>\n",
       "      <th>1</th>\n",
       "      <td>1</td>\n",
       "      <td>A7A3664BD6242119</td>\n",
       "      <td>A</td>\n",
       "      <td>recommender_system_test</td>\n",
       "    </tr>\n",
       "    <tr>\n",
       "      <th>2</th>\n",
       "      <td>2</td>\n",
       "      <td>DABC14FDDFADD29E</td>\n",
       "      <td>A</td>\n",
       "      <td>recommender_system_test</td>\n",
       "    </tr>\n",
       "    <tr>\n",
       "      <th>3</th>\n",
       "      <td>3</td>\n",
       "      <td>04988C5DF189632E</td>\n",
       "      <td>A</td>\n",
       "      <td>recommender_system_test</td>\n",
       "    </tr>\n",
       "    <tr>\n",
       "      <th>4</th>\n",
       "      <td>4</td>\n",
       "      <td>482F14783456D21B</td>\n",
       "      <td>B</td>\n",
       "      <td>recommender_system_test</td>\n",
       "    </tr>\n",
       "    <tr>\n",
       "      <th>...</th>\n",
       "      <td>...</td>\n",
       "      <td>...</td>\n",
       "      <td>...</td>\n",
       "      <td>...</td>\n",
       "    </tr>\n",
       "    <tr>\n",
       "      <th>18263</th>\n",
       "      <td>18263</td>\n",
       "      <td>1D302F8688B91781</td>\n",
       "      <td>B</td>\n",
       "      <td>interface_eu_test</td>\n",
       "    </tr>\n",
       "    <tr>\n",
       "      <th>18264</th>\n",
       "      <td>18264</td>\n",
       "      <td>3DE51B726983B657</td>\n",
       "      <td>A</td>\n",
       "      <td>interface_eu_test</td>\n",
       "    </tr>\n",
       "    <tr>\n",
       "      <th>18265</th>\n",
       "      <td>18265</td>\n",
       "      <td>F501F79D332BE86C</td>\n",
       "      <td>A</td>\n",
       "      <td>interface_eu_test</td>\n",
       "    </tr>\n",
       "    <tr>\n",
       "      <th>18266</th>\n",
       "      <td>18266</td>\n",
       "      <td>63FBE257B05F2245</td>\n",
       "      <td>A</td>\n",
       "      <td>interface_eu_test</td>\n",
       "    </tr>\n",
       "    <tr>\n",
       "      <th>18267</th>\n",
       "      <td>18267</td>\n",
       "      <td>79F9ABFB029CF724</td>\n",
       "      <td>B</td>\n",
       "      <td>interface_eu_test</td>\n",
       "    </tr>\n",
       "  </tbody>\n",
       "</table>\n",
       "<p>18268 rows × 4 columns</p>\n",
       "</div>"
      ],
      "text/plain": [
       "       Unnamed: 0           user_id group                  ab_test\n",
       "0               0  D1ABA3E2887B6A73     A  recommender_system_test\n",
       "1               1  A7A3664BD6242119     A  recommender_system_test\n",
       "2               2  DABC14FDDFADD29E     A  recommender_system_test\n",
       "3               3  04988C5DF189632E     A  recommender_system_test\n",
       "4               4  482F14783456D21B     B  recommender_system_test\n",
       "...           ...               ...   ...                      ...\n",
       "18263       18263  1D302F8688B91781     B        interface_eu_test\n",
       "18264       18264  3DE51B726983B657     A        interface_eu_test\n",
       "18265       18265  F501F79D332BE86C     A        interface_eu_test\n",
       "18266       18266  63FBE257B05F2245     A        interface_eu_test\n",
       "18267       18267  79F9ABFB029CF724     B        interface_eu_test\n",
       "\n",
       "[18268 rows x 4 columns]"
      ]
     },
     "metadata": {},
     "output_type": "display_data"
    }
   ],
   "source": [
    "display(final_ab_participants)"
   ]
  },
  {
   "cell_type": "code",
   "execution_count": 42,
   "metadata": {},
   "outputs": [
    {
     "name": "stdout",
     "output_type": "stream",
     "text": [
      "Имеем таблицу данных  final_ab_participants размерностью (18268, 4)\n"
     ]
    }
   ],
   "source": [
    "print(f'Имеем таблицу данных  final_ab_participants размерностью {final_ab_participants.shape}') "
   ]
  },
  {
   "cell_type": "code",
   "execution_count": 43,
   "metadata": {},
   "outputs": [
    {
     "name": "stdout",
     "output_type": "stream",
     "text": [
      "<class 'pandas.core.frame.DataFrame'>\n",
      "RangeIndex: 18268 entries, 0 to 18267\n",
      "Data columns (total 4 columns):\n",
      " #   Column      Non-Null Count  Dtype \n",
      "---  ------      --------------  ----- \n",
      " 0   Unnamed: 0  18268 non-null  int64 \n",
      " 1   user_id     18268 non-null  object\n",
      " 2   group       18268 non-null  object\n",
      " 3   ab_test     18268 non-null  object\n",
      "dtypes: int64(1), object(3)\n",
      "memory usage: 571.0+ KB\n"
     ]
    }
   ],
   "source": [
    "final_ab_participants.info()"
   ]
  },
  {
   "cell_type": "markdown",
   "metadata": {},
   "source": [
    "Проверим на полные дубликаты"
   ]
  },
  {
   "cell_type": "code",
   "execution_count": 44,
   "metadata": {},
   "outputs": [
    {
     "data": {
      "text/plain": [
       "0"
      ]
     },
     "execution_count": 44,
     "metadata": {},
     "output_type": "execute_result"
    }
   ],
   "source": [
    "final_ab_participants.duplicated().sum()"
   ]
  },
  {
   "cell_type": "markdown",
   "metadata": {},
   "source": [
    "Проверим на пропуски"
   ]
  },
  {
   "cell_type": "code",
   "execution_count": 45,
   "metadata": {},
   "outputs": [
    {
     "data": {
      "text/plain": [
       "Unnamed: 0    0\n",
       "user_id       0\n",
       "group         0\n",
       "ab_test       0\n",
       "dtype: int64"
      ]
     },
     "execution_count": 45,
     "metadata": {},
     "output_type": "execute_result"
    }
   ],
   "source": [
    "final_ab_participants.isna().sum()  "
   ]
  },
  {
   "cell_type": "markdown",
   "metadata": {},
   "source": [
    "# Проверим соответствие данных требованиям технического задания"
   ]
  },
  {
   "cell_type": "markdown",
   "metadata": {},
   "source": [
    "Посмотрим сколько и каких событий у нас датасете:"
   ]
  },
  {
   "cell_type": "code",
   "execution_count": 46,
   "metadata": {},
   "outputs": [
    {
     "data": {
      "text/plain": [
       "login           189552\n",
       "product_page    125563\n",
       "purchase         62740\n",
       "product_cart     62462\n",
       "Name: event_name, dtype: int64"
      ]
     },
     "execution_count": 46,
     "metadata": {},
     "output_type": "execute_result"
    }
   ],
   "source": [
    "final_ab_events.event_name.value_counts()"
   ]
  },
  {
   "cell_type": "markdown",
   "metadata": {},
   "source": [
    "Конечные выводы делать рано, но, на первый взгляд, воронка выглядит так: \n",
    "\n",
    "    1. login           189552\n",
    "    2. product_page    125563\n",
    "    3. purchase         62740\n",
    "    4. product_cart     62462\n",
    "Было бы логичным, если бы последним этапом была покупка. Будем разбираться дальше."
   ]
  },
  {
   "cell_type": "code",
   "execution_count": 47,
   "metadata": {},
   "outputs": [
    {
     "name": "stdout",
     "output_type": "stream",
     "text": [
      "Дата первого события:         2020-12-07 00:00:33\n",
      "Дата последнего события:      2020-12-30 23:36:33\n"
     ]
    }
   ],
   "source": [
    "min_data = final_ab_events.event_dt .min()\n",
    "max_data = final_ab_events.event_dt.max()\n",
    "\n",
    "print('Дата первого события:        ', min_data)\n",
    "print('Дата последнего события:     ', max_data)"
   ]
  },
  {
   "cell_type": "markdown",
   "metadata": {},
   "source": [
    "Дата запуска совпадает с заявленной в техническом задании.\n",
    "Дата последнего события на несколько дней раньше заявленой 2021-01-04. Это могло повлиять на количество событий, которые попали в исследование"
   ]
  },
  {
   "cell_type": "markdown",
   "metadata": {},
   "source": [
    "Проверим даты в которые проходили акции на совпадение с нашим эксперементом."
   ]
  },
  {
   "cell_type": "code",
   "execution_count": 48,
   "metadata": {},
   "outputs": [
    {
     "data": {
      "text/html": [
       "<div>\n",
       "<style scoped>\n",
       "    .dataframe tbody tr th:only-of-type {\n",
       "        vertical-align: middle;\n",
       "    }\n",
       "\n",
       "    .dataframe tbody tr th {\n",
       "        vertical-align: top;\n",
       "    }\n",
       "\n",
       "    .dataframe thead th {\n",
       "        text-align: right;\n",
       "    }\n",
       "</style>\n",
       "<table border=\"1\" class=\"dataframe\">\n",
       "  <thead>\n",
       "    <tr style=\"text-align: right;\">\n",
       "      <th></th>\n",
       "      <th>Unnamed: 0</th>\n",
       "      <th>name</th>\n",
       "      <th>regions</th>\n",
       "      <th>start_dt</th>\n",
       "      <th>finish_dt</th>\n",
       "    </tr>\n",
       "  </thead>\n",
       "  <tbody>\n",
       "    <tr>\n",
       "      <th>0</th>\n",
       "      <td>0</td>\n",
       "      <td>Christmas&amp;New Year Promo</td>\n",
       "      <td>EU, N.America</td>\n",
       "      <td>2020-12-25</td>\n",
       "      <td>2021-01-03</td>\n",
       "    </tr>\n",
       "    <tr>\n",
       "      <th>1</th>\n",
       "      <td>1</td>\n",
       "      <td>St. Valentine's Day Giveaway</td>\n",
       "      <td>EU, CIS, APAC, N.America</td>\n",
       "      <td>2020-02-14</td>\n",
       "      <td>2020-02-16</td>\n",
       "    </tr>\n",
       "    <tr>\n",
       "      <th>2</th>\n",
       "      <td>2</td>\n",
       "      <td>St. Patric's Day Promo</td>\n",
       "      <td>EU, N.America</td>\n",
       "      <td>2020-03-17</td>\n",
       "      <td>2020-03-19</td>\n",
       "    </tr>\n",
       "    <tr>\n",
       "      <th>3</th>\n",
       "      <td>3</td>\n",
       "      <td>Easter Promo</td>\n",
       "      <td>EU, CIS, APAC, N.America</td>\n",
       "      <td>2020-04-12</td>\n",
       "      <td>2020-04-19</td>\n",
       "    </tr>\n",
       "    <tr>\n",
       "      <th>4</th>\n",
       "      <td>4</td>\n",
       "      <td>4th of July Promo</td>\n",
       "      <td>N.America</td>\n",
       "      <td>2020-07-04</td>\n",
       "      <td>2020-07-11</td>\n",
       "    </tr>\n",
       "    <tr>\n",
       "      <th>5</th>\n",
       "      <td>5</td>\n",
       "      <td>Black Friday Ads Campaign</td>\n",
       "      <td>EU, CIS, APAC, N.America</td>\n",
       "      <td>2020-11-26</td>\n",
       "      <td>2020-12-01</td>\n",
       "    </tr>\n",
       "    <tr>\n",
       "      <th>6</th>\n",
       "      <td>6</td>\n",
       "      <td>Chinese New Year Promo</td>\n",
       "      <td>APAC</td>\n",
       "      <td>2020-01-25</td>\n",
       "      <td>2020-02-07</td>\n",
       "    </tr>\n",
       "    <tr>\n",
       "      <th>7</th>\n",
       "      <td>7</td>\n",
       "      <td>Labor day (May 1st) Ads Campaign</td>\n",
       "      <td>EU, CIS, APAC</td>\n",
       "      <td>2020-05-01</td>\n",
       "      <td>2020-05-03</td>\n",
       "    </tr>\n",
       "    <tr>\n",
       "      <th>8</th>\n",
       "      <td>8</td>\n",
       "      <td>International Women's Day Promo</td>\n",
       "      <td>EU, CIS, APAC</td>\n",
       "      <td>2020-03-08</td>\n",
       "      <td>2020-03-10</td>\n",
       "    </tr>\n",
       "    <tr>\n",
       "      <th>9</th>\n",
       "      <td>9</td>\n",
       "      <td>Victory Day CIS (May 9th) Event</td>\n",
       "      <td>CIS</td>\n",
       "      <td>2020-05-09</td>\n",
       "      <td>2020-05-11</td>\n",
       "    </tr>\n",
       "    <tr>\n",
       "      <th>10</th>\n",
       "      <td>10</td>\n",
       "      <td>CIS New Year Gift Lottery</td>\n",
       "      <td>CIS</td>\n",
       "      <td>2020-12-30</td>\n",
       "      <td>2021-01-07</td>\n",
       "    </tr>\n",
       "    <tr>\n",
       "      <th>11</th>\n",
       "      <td>11</td>\n",
       "      <td>Dragon Boat Festival Giveaway</td>\n",
       "      <td>APAC</td>\n",
       "      <td>2020-06-25</td>\n",
       "      <td>2020-07-01</td>\n",
       "    </tr>\n",
       "    <tr>\n",
       "      <th>12</th>\n",
       "      <td>12</td>\n",
       "      <td>Single's Day Gift Promo</td>\n",
       "      <td>APAC</td>\n",
       "      <td>2020-11-11</td>\n",
       "      <td>2020-11-12</td>\n",
       "    </tr>\n",
       "    <tr>\n",
       "      <th>13</th>\n",
       "      <td>13</td>\n",
       "      <td>Chinese Moon Festival</td>\n",
       "      <td>APAC</td>\n",
       "      <td>2020-10-01</td>\n",
       "      <td>2020-10-07</td>\n",
       "    </tr>\n",
       "  </tbody>\n",
       "</table>\n",
       "</div>"
      ],
      "text/plain": [
       "    Unnamed: 0                              name                   regions  \\\n",
       "0            0          Christmas&New Year Promo             EU, N.America   \n",
       "1            1      St. Valentine's Day Giveaway  EU, CIS, APAC, N.America   \n",
       "2            2            St. Patric's Day Promo             EU, N.America   \n",
       "3            3                      Easter Promo  EU, CIS, APAC, N.America   \n",
       "4            4                 4th of July Promo                 N.America   \n",
       "5            5         Black Friday Ads Campaign  EU, CIS, APAC, N.America   \n",
       "6            6            Chinese New Year Promo                      APAC   \n",
       "7            7  Labor day (May 1st) Ads Campaign             EU, CIS, APAC   \n",
       "8            8   International Women's Day Promo             EU, CIS, APAC   \n",
       "9            9   Victory Day CIS (May 9th) Event                       CIS   \n",
       "10          10         CIS New Year Gift Lottery                       CIS   \n",
       "11          11     Dragon Boat Festival Giveaway                      APAC   \n",
       "12          12           Single's Day Gift Promo                      APAC   \n",
       "13          13             Chinese Moon Festival                      APAC   \n",
       "\n",
       "      start_dt   finish_dt  \n",
       "0   2020-12-25  2021-01-03  \n",
       "1   2020-02-14  2020-02-16  \n",
       "2   2020-03-17  2020-03-19  \n",
       "3   2020-04-12  2020-04-19  \n",
       "4   2020-07-04  2020-07-11  \n",
       "5   2020-11-26  2020-12-01  \n",
       "6   2020-01-25  2020-02-07  \n",
       "7   2020-05-01  2020-05-03  \n",
       "8   2020-03-08  2020-03-10  \n",
       "9   2020-05-09  2020-05-11  \n",
       "10  2020-12-30  2021-01-07  \n",
       "11  2020-06-25  2020-07-01  \n",
       "12  2020-11-11  2020-11-12  \n",
       "13  2020-10-01  2020-10-07  "
      ]
     },
     "execution_count": 48,
     "metadata": {},
     "output_type": "execute_result"
    }
   ],
   "source": [
    "ab_project_marketing_events"
   ]
  },
  {
   "cell_type": "code",
   "execution_count": 49,
   "metadata": {},
   "outputs": [
    {
     "data": {
      "text/plain": [
       "array(['EU, N.America', 'EU, CIS, APAC, N.America', 'N.America', 'APAC',\n",
       "       'EU, CIS, APAC', 'CIS'], dtype=object)"
      ]
     },
     "execution_count": 49,
     "metadata": {},
     "output_type": "execute_result"
    }
   ],
   "source": [
    "ab_project_marketing_events.regions.unique()"
   ]
  },
  {
   "cell_type": "code",
   "execution_count": 50,
   "metadata": {},
   "outputs": [],
   "source": [
    "ab_project_marketing_events_filter = ab_project_marketing_events[\n",
    "    (ab_project_marketing_events['regions']=='EU, N.America')|\n",
    "    (ab_project_marketing_events['regions']=='EU, CIS, APAC, N.America')|\n",
    "    (ab_project_marketing_events['regions']=='EU, CIS, APAC')\n",
    "]"
   ]
  },
  {
   "cell_type": "code",
   "execution_count": 51,
   "metadata": {},
   "outputs": [
    {
     "data": {
      "text/html": [
       "<div>\n",
       "<style scoped>\n",
       "    .dataframe tbody tr th:only-of-type {\n",
       "        vertical-align: middle;\n",
       "    }\n",
       "\n",
       "    .dataframe tbody tr th {\n",
       "        vertical-align: top;\n",
       "    }\n",
       "\n",
       "    .dataframe thead th {\n",
       "        text-align: right;\n",
       "    }\n",
       "</style>\n",
       "<table border=\"1\" class=\"dataframe\">\n",
       "  <thead>\n",
       "    <tr style=\"text-align: right;\">\n",
       "      <th></th>\n",
       "      <th>Unnamed: 0</th>\n",
       "      <th>name</th>\n",
       "      <th>regions</th>\n",
       "      <th>start_dt</th>\n",
       "      <th>finish_dt</th>\n",
       "    </tr>\n",
       "  </thead>\n",
       "  <tbody>\n",
       "    <tr>\n",
       "      <th>0</th>\n",
       "      <td>0</td>\n",
       "      <td>Christmas&amp;New Year Promo</td>\n",
       "      <td>EU, N.America</td>\n",
       "      <td>2020-12-25</td>\n",
       "      <td>2021-01-03</td>\n",
       "    </tr>\n",
       "  </tbody>\n",
       "</table>\n",
       "</div>"
      ],
      "text/plain": [
       "   Unnamed: 0                      name        regions    start_dt   finish_dt\n",
       "0           0  Christmas&New Year Promo  EU, N.America  2020-12-25  2021-01-03"
      ]
     },
     "execution_count": 51,
     "metadata": {},
     "output_type": "execute_result"
    }
   ],
   "source": [
    "ab_project_marketing_events_filter[\n",
    "    (ab_project_marketing_events_filter['start_dt']<='2021-01-04')&\n",
    "    (ab_project_marketing_events_filter['finish_dt']>='2020-12-07')\n",
    "]"
   ]
  },
  {
   "cell_type": "code",
   "execution_count": 52,
   "metadata": {},
   "outputs": [],
   "source": [
    "prec = round(len(final_ab_events[final_ab_events['event_dt'] >= '2020-12-25']) * 100 / len(final_ab_events))"
   ]
  },
  {
   "cell_type": "code",
   "execution_count": 53,
   "metadata": {},
   "outputs": [
    {
     "name": "stdout",
     "output_type": "stream",
     "text": [
      "Доля событий, которые проходили в период проведения акции составляет 15 процентов\n"
     ]
    }
   ],
   "source": [
    "print(f'Доля событий, которые проходили в период проведения акции составляет {prec} процентов')"
   ]
  },
  {
   "cell_type": "markdown",
   "metadata": {},
   "source": [
    "С 25 декабря 2020 года по 03 января 2021 года прооходила Christmas&New Year Promo. Она полностью попадает на время нашего эксперемента и проходила в Европе (EU). Это событие может сильно повлиять на результат нашего тестирования. Необходимо удалить события из теста, которые будут пересекаться с этой акцией. "
   ]
  },
  {
   "cell_type": "code",
   "execution_count": 54,
   "metadata": {},
   "outputs": [],
   "source": [
    "final_ab_events = final_ab_events[final_ab_events['event_dt'] < '2020-12-25']"
   ]
  },
  {
   "cell_type": "code",
   "execution_count": 55,
   "metadata": {},
   "outputs": [
    {
     "data": {
      "text/plain": [
       "(376034, 5)"
      ]
     },
     "execution_count": 55,
     "metadata": {},
     "output_type": "execute_result"
    }
   ],
   "source": [
    "final_ab_events.shape"
   ]
  },
  {
   "cell_type": "markdown",
   "metadata": {},
   "source": [
    "Посмотрим для каких тестов отбирали пользователей"
   ]
  },
  {
   "cell_type": "code",
   "execution_count": 56,
   "metadata": {},
   "outputs": [
    {
     "data": {
      "text/plain": [
       "array(['recommender_system_test', 'interface_eu_test'], dtype=object)"
      ]
     },
     "execution_count": 56,
     "metadata": {},
     "output_type": "execute_result"
    }
   ],
   "source": [
    "final_ab_participants.ab_test.unique()"
   ]
  },
  {
   "cell_type": "code",
   "execution_count": 57,
   "metadata": {},
   "outputs": [
    {
     "data": {
      "text/plain": [
       "interface_eu_test          11567\n",
       "recommender_system_test     6701\n",
       "Name: ab_test, dtype: int64"
      ]
     },
     "execution_count": 57,
     "metadata": {},
     "output_type": "execute_result"
    }
   ],
   "source": [
    "final_ab_participants.ab_test.value_counts()"
   ]
  },
  {
   "cell_type": "code",
   "execution_count": 58,
   "metadata": {},
   "outputs": [
    {
     "name": "stdout",
     "output_type": "stream",
     "text": [
      "Для теста recommender_system_test отобрано 6701 пользователей\n"
     ]
    }
   ],
   "source": [
    "print(f'Для теста recommender_system_test отобрано {final_ab_participants[final_ab_participants.ab_test == \"recommender_system_test\"].ab_test.count()} пользователей')"
   ]
  },
  {
   "cell_type": "markdown",
   "metadata": {},
   "source": [
    "Отберем участников нашего теста recommender_system_test "
   ]
  },
  {
   "cell_type": "code",
   "execution_count": 59,
   "metadata": {},
   "outputs": [
    {
     "data": {
      "text/html": [
       "<div>\n",
       "<style scoped>\n",
       "    .dataframe tbody tr th:only-of-type {\n",
       "        vertical-align: middle;\n",
       "    }\n",
       "\n",
       "    .dataframe tbody tr th {\n",
       "        vertical-align: top;\n",
       "    }\n",
       "\n",
       "    .dataframe thead th {\n",
       "        text-align: right;\n",
       "    }\n",
       "</style>\n",
       "<table border=\"1\" class=\"dataframe\">\n",
       "  <thead>\n",
       "    <tr style=\"text-align: right;\">\n",
       "      <th></th>\n",
       "      <th>user_id</th>\n",
       "      <th>group</th>\n",
       "    </tr>\n",
       "  </thead>\n",
       "  <tbody>\n",
       "    <tr>\n",
       "      <th>0</th>\n",
       "      <td>D1ABA3E2887B6A73</td>\n",
       "      <td>A</td>\n",
       "    </tr>\n",
       "    <tr>\n",
       "      <th>1</th>\n",
       "      <td>A7A3664BD6242119</td>\n",
       "      <td>A</td>\n",
       "    </tr>\n",
       "    <tr>\n",
       "      <th>2</th>\n",
       "      <td>DABC14FDDFADD29E</td>\n",
       "      <td>A</td>\n",
       "    </tr>\n",
       "    <tr>\n",
       "      <th>3</th>\n",
       "      <td>04988C5DF189632E</td>\n",
       "      <td>A</td>\n",
       "    </tr>\n",
       "    <tr>\n",
       "      <th>4</th>\n",
       "      <td>482F14783456D21B</td>\n",
       "      <td>B</td>\n",
       "    </tr>\n",
       "    <tr>\n",
       "      <th>...</th>\n",
       "      <td>...</td>\n",
       "      <td>...</td>\n",
       "    </tr>\n",
       "    <tr>\n",
       "      <th>6696</th>\n",
       "      <td>053FB26D6D49EDDC</td>\n",
       "      <td>A</td>\n",
       "    </tr>\n",
       "    <tr>\n",
       "      <th>6697</th>\n",
       "      <td>9D263B8EF15CF188</td>\n",
       "      <td>B</td>\n",
       "    </tr>\n",
       "    <tr>\n",
       "      <th>6698</th>\n",
       "      <td>F2FBBA33F37DEC46</td>\n",
       "      <td>A</td>\n",
       "    </tr>\n",
       "    <tr>\n",
       "      <th>6699</th>\n",
       "      <td>29C92313A98B1176</td>\n",
       "      <td>B</td>\n",
       "    </tr>\n",
       "    <tr>\n",
       "      <th>6700</th>\n",
       "      <td>6715343AFBA285AE</td>\n",
       "      <td>B</td>\n",
       "    </tr>\n",
       "  </tbody>\n",
       "</table>\n",
       "<p>6701 rows × 2 columns</p>\n",
       "</div>"
      ],
      "text/plain": [
       "               user_id group\n",
       "0     D1ABA3E2887B6A73     A\n",
       "1     A7A3664BD6242119     A\n",
       "2     DABC14FDDFADD29E     A\n",
       "3     04988C5DF189632E     A\n",
       "4     482F14783456D21B     B\n",
       "...                ...   ...\n",
       "6696  053FB26D6D49EDDC     A\n",
       "6697  9D263B8EF15CF188     B\n",
       "6698  F2FBBA33F37DEC46     A\n",
       "6699  29C92313A98B1176     B\n",
       "6700  6715343AFBA285AE     B\n",
       "\n",
       "[6701 rows x 2 columns]"
      ]
     },
     "execution_count": 59,
     "metadata": {},
     "output_type": "execute_result"
    }
   ],
   "source": [
    "recommender_system_test  = final_ab_participants[\n",
    "    final_ab_participants['ab_test']=='recommender_system_test'\n",
    "][['user_id', 'group']]\n",
    "recommender_system_test "
   ]
  },
  {
   "cell_type": "code",
   "execution_count": 60,
   "metadata": {},
   "outputs": [
    {
     "data": {
      "text/plain": [
       "array(['A', 'B'], dtype=object)"
      ]
     },
     "execution_count": 60,
     "metadata": {},
     "output_type": "execute_result"
    }
   ],
   "source": [
    "recommender_system_test.group.unique()"
   ]
  },
  {
   "cell_type": "markdown",
   "metadata": {},
   "source": [
    "Количество пользователей в каждой группе"
   ]
  },
  {
   "cell_type": "code",
   "execution_count": 61,
   "metadata": {},
   "outputs": [
    {
     "data": {
      "text/plain": [
       "A    3824\n",
       "B    2877\n",
       "Name: group, dtype: int64"
      ]
     },
     "execution_count": 61,
     "metadata": {},
     "output_type": "execute_result"
    }
   ],
   "source": [
    "recommender_system_test.group.value_counts()"
   ]
  },
  {
   "cell_type": "markdown",
   "metadata": {},
   "source": [
    "Проверим, нет ли пользователей, которые попали в обе группы"
   ]
  },
  {
   "cell_type": "code",
   "execution_count": 62,
   "metadata": {},
   "outputs": [
    {
     "data": {
      "text/html": [
       "<div>\n",
       "<style scoped>\n",
       "    .dataframe tbody tr th:only-of-type {\n",
       "        vertical-align: middle;\n",
       "    }\n",
       "\n",
       "    .dataframe tbody tr th {\n",
       "        vertical-align: top;\n",
       "    }\n",
       "\n",
       "    .dataframe thead th {\n",
       "        text-align: right;\n",
       "    }\n",
       "</style>\n",
       "<table border=\"1\" class=\"dataframe\">\n",
       "  <thead>\n",
       "    <tr style=\"text-align: right;\">\n",
       "      <th></th>\n",
       "      <th>user_id</th>\n",
       "      <th>group_x</th>\n",
       "      <th>group_y</th>\n",
       "    </tr>\n",
       "  </thead>\n",
       "  <tbody>\n",
       "  </tbody>\n",
       "</table>\n",
       "</div>"
      ],
      "text/plain": [
       "Empty DataFrame\n",
       "Columns: [user_id, group_x, group_y]\n",
       "Index: []"
      ]
     },
     "execution_count": 62,
     "metadata": {},
     "output_type": "execute_result"
    }
   ],
   "source": [
    "recommender_system_test_a = recommender_system_test[recommender_system_test['group']=='A']\n",
    "recommender_system_test_b = recommender_system_test[recommender_system_test['group']=='B']\n",
    "srez_id = pd.merge(recommender_system_test_a, recommender_system_test_b, on=['user_id'], how='inner')\n",
    "srez_id"
   ]
  },
  {
   "cell_type": "code",
   "execution_count": 63,
   "metadata": {},
   "outputs": [
    {
     "name": "stdout",
     "output_type": "stream",
     "text": [
      "Количество пользователей, которые попали в обе группы:  0\n"
     ]
    }
   ],
   "source": [
    "print('Количество пользователей, которые попали в обе группы: ', len(srez_id['user_id'].unique()))"
   ]
  },
  {
   "cell_type": "code",
   "execution_count": 64,
   "metadata": {},
   "outputs": [
    {
     "name": "stdout",
     "output_type": "stream",
     "text": [
      "Количество уникальных пользователей: 6701\n"
     ]
    }
   ],
   "source": [
    "print(f'Количество уникальных пользователей: {recommender_system_test.user_id.nunique()}')"
   ]
  },
  {
   "cell_type": "markdown",
   "metadata": {},
   "source": [
    "Мы имеем 15,8% от общего числа пользователей EU (42340), что соответствует техническому заданию (15%)"
   ]
  },
  {
   "cell_type": "markdown",
   "metadata": {},
   "source": [
    "Проверим пересечение с конкурирующим тестом"
   ]
  },
  {
   "cell_type": "code",
   "execution_count": 65,
   "metadata": {},
   "outputs": [
    {
     "data": {
      "text/plain": [
       "array(['recommender_system_test', 'interface_eu_test'], dtype=object)"
      ]
     },
     "execution_count": 65,
     "metadata": {},
     "output_type": "execute_result"
    }
   ],
   "source": [
    "final_ab_participants.ab_test.unique()"
   ]
  },
  {
   "cell_type": "code",
   "execution_count": 66,
   "metadata": {},
   "outputs": [
    {
     "data": {
      "text/html": [
       "<div>\n",
       "<style scoped>\n",
       "    .dataframe tbody tr th:only-of-type {\n",
       "        vertical-align: middle;\n",
       "    }\n",
       "\n",
       "    .dataframe tbody tr th {\n",
       "        vertical-align: top;\n",
       "    }\n",
       "\n",
       "    .dataframe thead th {\n",
       "        text-align: right;\n",
       "    }\n",
       "</style>\n",
       "<table border=\"1\" class=\"dataframe\">\n",
       "  <thead>\n",
       "    <tr style=\"text-align: right;\">\n",
       "      <th></th>\n",
       "      <th>Unnamed: 0_x</th>\n",
       "      <th>user_id</th>\n",
       "      <th>group_x</th>\n",
       "      <th>ab_test_x</th>\n",
       "      <th>Unnamed: 0_y</th>\n",
       "      <th>group_y</th>\n",
       "      <th>ab_test_y</th>\n",
       "    </tr>\n",
       "  </thead>\n",
       "  <tbody>\n",
       "    <tr>\n",
       "      <th>0</th>\n",
       "      <td>2</td>\n",
       "      <td>DABC14FDDFADD29E</td>\n",
       "      <td>A</td>\n",
       "      <td>recommender_system_test</td>\n",
       "      <td>9917</td>\n",
       "      <td>A</td>\n",
       "      <td>interface_eu_test</td>\n",
       "    </tr>\n",
       "    <tr>\n",
       "      <th>1</th>\n",
       "      <td>3</td>\n",
       "      <td>04988C5DF189632E</td>\n",
       "      <td>A</td>\n",
       "      <td>recommender_system_test</td>\n",
       "      <td>14177</td>\n",
       "      <td>A</td>\n",
       "      <td>interface_eu_test</td>\n",
       "    </tr>\n",
       "    <tr>\n",
       "      <th>2</th>\n",
       "      <td>10</td>\n",
       "      <td>B3A2485649E4A012</td>\n",
       "      <td>A</td>\n",
       "      <td>recommender_system_test</td>\n",
       "      <td>9034</td>\n",
       "      <td>A</td>\n",
       "      <td>interface_eu_test</td>\n",
       "    </tr>\n",
       "    <tr>\n",
       "      <th>3</th>\n",
       "      <td>25</td>\n",
       "      <td>EAFB9027A27D510C</td>\n",
       "      <td>B</td>\n",
       "      <td>recommender_system_test</td>\n",
       "      <td>11652</td>\n",
       "      <td>A</td>\n",
       "      <td>interface_eu_test</td>\n",
       "    </tr>\n",
       "    <tr>\n",
       "      <th>4</th>\n",
       "      <td>29</td>\n",
       "      <td>5D5E6EE92AF6E9E0</td>\n",
       "      <td>B</td>\n",
       "      <td>recommender_system_test</td>\n",
       "      <td>14113</td>\n",
       "      <td>B</td>\n",
       "      <td>interface_eu_test</td>\n",
       "    </tr>\n",
       "    <tr>\n",
       "      <th>...</th>\n",
       "      <td>...</td>\n",
       "      <td>...</td>\n",
       "      <td>...</td>\n",
       "      <td>...</td>\n",
       "      <td>...</td>\n",
       "      <td>...</td>\n",
       "      <td>...</td>\n",
       "    </tr>\n",
       "    <tr>\n",
       "      <th>1597</th>\n",
       "      <td>6323</td>\n",
       "      <td>C2DC7B6881CE6E30</td>\n",
       "      <td>B</td>\n",
       "      <td>recommender_system_test</td>\n",
       "      <td>11430</td>\n",
       "      <td>B</td>\n",
       "      <td>interface_eu_test</td>\n",
       "    </tr>\n",
       "    <tr>\n",
       "      <th>1598</th>\n",
       "      <td>6338</td>\n",
       "      <td>EA29547AB3C0CB9C</td>\n",
       "      <td>B</td>\n",
       "      <td>recommender_system_test</td>\n",
       "      <td>17311</td>\n",
       "      <td>A</td>\n",
       "      <td>interface_eu_test</td>\n",
       "    </tr>\n",
       "    <tr>\n",
       "      <th>1599</th>\n",
       "      <td>6341</td>\n",
       "      <td>9A44E27079666291</td>\n",
       "      <td>B</td>\n",
       "      <td>recommender_system_test</td>\n",
       "      <td>11434</td>\n",
       "      <td>A</td>\n",
       "      <td>interface_eu_test</td>\n",
       "    </tr>\n",
       "    <tr>\n",
       "      <th>1600</th>\n",
       "      <td>6343</td>\n",
       "      <td>FA86D8DFAD3ADADE</td>\n",
       "      <td>A</td>\n",
       "      <td>recommender_system_test</td>\n",
       "      <td>7456</td>\n",
       "      <td>A</td>\n",
       "      <td>interface_eu_test</td>\n",
       "    </tr>\n",
       "    <tr>\n",
       "      <th>1601</th>\n",
       "      <td>6349</td>\n",
       "      <td>95401934D6D6D4FC</td>\n",
       "      <td>B</td>\n",
       "      <td>recommender_system_test</td>\n",
       "      <td>16386</td>\n",
       "      <td>A</td>\n",
       "      <td>interface_eu_test</td>\n",
       "    </tr>\n",
       "  </tbody>\n",
       "</table>\n",
       "<p>1602 rows × 7 columns</p>\n",
       "</div>"
      ],
      "text/plain": [
       "      Unnamed: 0_x           user_id group_x                ab_test_x  \\\n",
       "0                2  DABC14FDDFADD29E       A  recommender_system_test   \n",
       "1                3  04988C5DF189632E       A  recommender_system_test   \n",
       "2               10  B3A2485649E4A012       A  recommender_system_test   \n",
       "3               25  EAFB9027A27D510C       B  recommender_system_test   \n",
       "4               29  5D5E6EE92AF6E9E0       B  recommender_system_test   \n",
       "...            ...               ...     ...                      ...   \n",
       "1597          6323  C2DC7B6881CE6E30       B  recommender_system_test   \n",
       "1598          6338  EA29547AB3C0CB9C       B  recommender_system_test   \n",
       "1599          6341  9A44E27079666291       B  recommender_system_test   \n",
       "1600          6343  FA86D8DFAD3ADADE       A  recommender_system_test   \n",
       "1601          6349  95401934D6D6D4FC       B  recommender_system_test   \n",
       "\n",
       "      Unnamed: 0_y group_y          ab_test_y  \n",
       "0             9917       A  interface_eu_test  \n",
       "1            14177       A  interface_eu_test  \n",
       "2             9034       A  interface_eu_test  \n",
       "3            11652       A  interface_eu_test  \n",
       "4            14113       B  interface_eu_test  \n",
       "...            ...     ...                ...  \n",
       "1597         11430       B  interface_eu_test  \n",
       "1598         17311       A  interface_eu_test  \n",
       "1599         11434       A  interface_eu_test  \n",
       "1600          7456       A  interface_eu_test  \n",
       "1601         16386       A  interface_eu_test  \n",
       "\n",
       "[1602 rows x 7 columns]"
      ]
     },
     "execution_count": 66,
     "metadata": {},
     "output_type": "execute_result"
    }
   ],
   "source": [
    "recommender_system_test = final_ab_participants[final_ab_participants['ab_test']=='recommender_system_test']\n",
    "interface_eu_test = final_ab_participants[final_ab_participants['ab_test']=='interface_eu_test']\n",
    "\n",
    "srez_test =  pd.merge(recommender_system_test, interface_eu_test, on=['user_id'], how='inner')\n",
    "srez_test"
   ]
  },
  {
   "cell_type": "code",
   "execution_count": 67,
   "metadata": {},
   "outputs": [
    {
     "name": "stdout",
     "output_type": "stream",
     "text": [
      "Количество пользователей, которые попали в оба теста:  1602\n"
     ]
    }
   ],
   "source": [
    "print('Количество пользователей, которые попали в оба теста: ', len(srez_test['user_id'].unique()))"
   ]
  },
  {
   "cell_type": "markdown",
   "metadata": {},
   "source": [
    "У нас 1602 пользователя, которые одновременно участвовали в двух разных тестах. \n",
    "Это может значительно повлиять не результаты исследования. Пока, не будем их удалять, так как это значительно уменьшит количество пользователей в нашем тесте, что еще больше может повлиять на результаты исследования."
   ]
  },
  {
   "cell_type": "markdown",
   "metadata": {},
   "source": [
    "**Вывод**\n",
    "\n",
    "Мы изучили полученные данные.\n",
    "\n",
    "`final_ab_events`:\n",
    "\n",
    "    Обнаружены пропуски в деталях событий. Принято решение заменить пропуски на 0\n",
    "    Конечные выводы делать рано, но, на первый взгляд, воронка выглядит так:\n",
    "\n",
    "    1. login           189552\n",
    "    2. product_page    125563\n",
    "    3. purchase         62740\n",
    "    4. product_cart     62462\n",
    "    Было бы логичным, если бы последним этапом была покупка.\n",
    "    \n",
    "`ab_project_marketing_events`:\n",
    "\n",
    "    С 25 декабря 2020 года по 03 января 2021 года прооходила Christmas&New Year Promo. Она полностью попадает на время нашего эксперемента и проходила в Европе (EU). Это событие может сильно повлиять на результат нашего тестирования. Принято решение удалить из теста события, которые будут пересекаться с этой акцией.\n",
    "    \n",
    "`final_ab_new_users`:\n",
    "    \n",
    "    Поменяли  тип данных в столбце с датами \n",
    "    Было выявлено не соответствие данных с техническим заданием. Регистрация пользователей продолжалась после 21 декабря. Эти пользователи были удалени из данных.\n",
    "    \n",
    "    \n",
    "`final_ab_participants`:\n",
    "    \n",
    "    Были выявлены пользоваталеи, которые одновременной участвовали во втором тесте\n",
    "    Количество пользователей, которые попали в оба теста:  1602. Не стали их удалять, так как это могло значительно повлиять на результаты нашего анализа.\n",
    "    "
   ]
  },
  {
   "cell_type": "markdown",
   "metadata": {},
   "source": [
    "# Проведем исследовательский анализ данных"
   ]
  },
  {
   "cell_type": "markdown",
   "metadata": {},
   "source": [
    "Сформируем сводную таблицу по нашему А/В тесту"
   ]
  },
  {
   "cell_type": "code",
   "execution_count": 68,
   "metadata": {},
   "outputs": [],
   "source": [
    "df = pd.merge(final_ab_events, final_ab_new_users, on=['user_id'], how='inner')\n",
    "df = df.merge(recommender_system_test,  on=['user_id'], how='inner')"
   ]
  },
  {
   "cell_type": "code",
   "execution_count": 69,
   "metadata": {},
   "outputs": [
    {
     "data": {
      "text/plain": [
       "Timestamp('2020-12-24 23:58:32')"
      ]
     },
     "execution_count": 69,
     "metadata": {},
     "output_type": "execute_result"
    }
   ],
   "source": [
    "df = df[df['region']=='EU']\n",
    "df.event_dt.max()"
   ]
  },
  {
   "cell_type": "code",
   "execution_count": 70,
   "metadata": {},
   "outputs": [],
   "source": [
    "df = df[['user_id', 'group', 'first_date', 'event_dt', 'event_name', 'details', 'device']]"
   ]
  },
  {
   "cell_type": "code",
   "execution_count": 71,
   "metadata": {},
   "outputs": [],
   "source": [
    "df = df.drop_duplicates(['user_id', 'event_name'])"
   ]
  },
  {
   "cell_type": "markdown",
   "metadata": {},
   "source": [
    "Посмотрим, как распределились пользователи по группам"
   ]
  },
  {
   "cell_type": "code",
   "execution_count": 72,
   "metadata": {},
   "outputs": [
    {
     "data": {
      "text/plain": [
       "group\n",
       "A    2604\n",
       "B     877\n",
       "Name: user_id, dtype: int64"
      ]
     },
     "execution_count": 72,
     "metadata": {},
     "output_type": "execute_result"
    }
   ],
   "source": [
    "df.groupby('group')['user_id'].nunique()"
   ]
  },
  {
   "cell_type": "markdown",
   "metadata": {},
   "source": [
    "В группе А пользователей оказалось больше почти в 3 раза. Это еще один плохой знак."
   ]
  },
  {
   "cell_type": "markdown",
   "metadata": {},
   "source": [
    "Посмотрим, как распределились события по группам"
   ]
  },
  {
   "cell_type": "code",
   "execution_count": 73,
   "metadata": {},
   "outputs": [
    {
     "data": {
      "text/plain": [
       "group\n",
       "A    5904\n",
       "B    1862\n",
       "Name: event_dt, dtype: int64"
      ]
     },
     "execution_count": 73,
     "metadata": {},
     "output_type": "execute_result"
    }
   ],
   "source": [
    "df.groupby('group')['event_dt'].count()"
   ]
  },
  {
   "cell_type": "markdown",
   "metadata": {},
   "source": [
    "Тут картина еще хуже. В группе А событий больше в 3,4 раза. чем группе В."
   ]
  },
  {
   "cell_type": "code",
   "execution_count": 74,
   "metadata": {},
   "outputs": [
    {
     "data": {
      "text/plain": [
       "(7766, 7)"
      ]
     },
     "execution_count": 74,
     "metadata": {},
     "output_type": "execute_result"
    }
   ],
   "source": [
    "df.shape"
   ]
  },
  {
   "cell_type": "code",
   "execution_count": 75,
   "metadata": {},
   "outputs": [
    {
     "name": "stdout",
     "output_type": "stream",
     "text": [
      "Всего в таблице 3481 уникальных пользователя\n"
     ]
    }
   ],
   "source": [
    "print(f'Всего в таблице {df.user_id.nunique()} уникальных пользователя')"
   ]
  },
  {
   "cell_type": "code",
   "execution_count": 76,
   "metadata": {},
   "outputs": [
    {
     "name": "stdout",
     "output_type": "stream",
     "text": [
      "В среднем на одного пользователя приходится 2 события\n"
     ]
    }
   ],
   "source": [
    "print(f'В среднем на одного пользователя приходится {round(df.shape[0] / df.user_id.nunique())} события')"
   ]
  },
  {
   "cell_type": "markdown",
   "metadata": {},
   "source": [
    "Посмотрим сколько и каких событий в данных"
   ]
  },
  {
   "cell_type": "code",
   "execution_count": 77,
   "metadata": {
    "scrolled": true
   },
   "outputs": [
    {
     "data": {
      "text/plain": [
       "login           3480\n",
       "product_page    2178\n",
       "purchase        1082\n",
       "product_cart    1026\n",
       "Name: event_name, dtype: int64"
      ]
     },
     "execution_count": 77,
     "metadata": {},
     "output_type": "execute_result"
    }
   ],
   "source": [
    "df['event_name'].value_counts()"
   ]
  },
  {
   "cell_type": "markdown",
   "metadata": {},
   "source": [
    "Посмотрим, как распределились события по дням"
   ]
  },
  {
   "cell_type": "code",
   "execution_count": 78,
   "metadata": {},
   "outputs": [
    {
     "data": {
      "image/png": "[encoded data removed]",
      "text/plain": [
       "<Figure size 432x288 with 1 Axes>"
      ]
     },
     "metadata": {
      "needs_background": "light"
     },
     "output_type": "display_data"
    }
   ],
   "source": [
    "ax = df['event_dt'].hist(bins=50)\n",
    "plt.title('Распределение событий по дням')\n",
    "plt.ylabel(\"События\")\n",
    "plt.xlabel(\"Дата\")\n",
    "plt.xticks(rotation=45)\n",
    "plt.show()"
   ]
  },
  {
   "cell_type": "markdown",
   "metadata": {},
   "source": [
    "После 14 декабря начинается резкий рост количества событий"
   ]
  },
  {
   "cell_type": "markdown",
   "metadata": {},
   "source": [
    "Посмотрим на распределение событий в каждой группе"
   ]
  },
  {
   "cell_type": "code",
   "execution_count": 79,
   "metadata": {},
   "outputs": [
    {
     "data": {
      "image/png": "[encoded data removed]",
      "text/plain": [
       "<Figure size 432x288 with 1 Axes>"
      ]
     },
     "metadata": {
      "needs_background": "light"
     },
     "output_type": "display_data"
    }
   ],
   "source": [
    "ax = df[df['group']== 'A']['event_dt'].hist(bins=50)\n",
    "plt.title('Распределение событий по дням группе А')\n",
    "plt.ylabel(\"События\")\n",
    "plt.xlabel(\"Дата\")\n",
    "plt.xticks(rotation=45)\n",
    "plt.show()"
   ]
  },
  {
   "cell_type": "code",
   "execution_count": 80,
   "metadata": {},
   "outputs": [
    {
     "data": {
      "image/png": "[encoded data removed]",
      "text/plain": [
       "<Figure size 432x288 with 1 Axes>"
      ]
     },
     "metadata": {
      "needs_background": "light"
     },
     "output_type": "display_data"
    }
   ],
   "source": [
    "ax = df[df['group']== 'B']['event_dt'].hist(bins=50)\n",
    "plt.title('Распределение событий по дням в группе В')\n",
    "plt.ylabel(\"События\")\n",
    "plt.xlabel(\"Дата\")\n",
    "plt.xticks(rotation=45)\n",
    "plt.show()"
   ]
  },
  {
   "cell_type": "markdown",
   "metadata": {},
   "source": [
    "В группах события распределены не равномерно. Как уже отмечалось ранее, в группе В количество событий меньше чем в А в 3,4 раза.\n",
    "\n",
    "При этом в группе А основная масса событий приходиться на период после 14 декабря, а группе В события после всплеска в первых числах, затем резко падают и дальше распределяютс равномерно на этом уровне с периодическими спадами.\n",
    "\n",
    "Можно говорить, что есть какие-то дополнительные факторы, которые влияют на распределения событий в группах."
   ]
  },
  {
   "cell_type": "markdown",
   "metadata": {},
   "source": [
    "Отфильтруем только уникальные пары пользователь - событие"
   ]
  },
  {
   "cell_type": "code",
   "execution_count": 81,
   "metadata": {},
   "outputs": [],
   "source": [
    "df = df.drop_duplicates(['user_id', 'event_name'])"
   ]
  },
  {
   "cell_type": "code",
   "execution_count": 82,
   "metadata": {},
   "outputs": [
    {
     "data": {
      "text/html": [
       "<div>\n",
       "<style scoped>\n",
       "    .dataframe tbody tr th:only-of-type {\n",
       "        vertical-align: middle;\n",
       "    }\n",
       "\n",
       "    .dataframe tbody tr th {\n",
       "        vertical-align: top;\n",
       "    }\n",
       "\n",
       "    .dataframe thead th {\n",
       "        text-align: right;\n",
       "    }\n",
       "</style>\n",
       "<table border=\"1\" class=\"dataframe\">\n",
       "  <thead>\n",
       "    <tr style=\"text-align: right;\">\n",
       "      <th></th>\n",
       "      <th>index</th>\n",
       "      <th>event_name</th>\n",
       "    </tr>\n",
       "  </thead>\n",
       "  <tbody>\n",
       "    <tr>\n",
       "      <th>0</th>\n",
       "      <td>login</td>\n",
       "      <td>3480</td>\n",
       "    </tr>\n",
       "    <tr>\n",
       "      <th>1</th>\n",
       "      <td>product_page</td>\n",
       "      <td>2178</td>\n",
       "    </tr>\n",
       "    <tr>\n",
       "      <th>2</th>\n",
       "      <td>product_cart</td>\n",
       "      <td>1026</td>\n",
       "    </tr>\n",
       "    <tr>\n",
       "      <th>3</th>\n",
       "      <td>purchase</td>\n",
       "      <td>1082</td>\n",
       "    </tr>\n",
       "  </tbody>\n",
       "</table>\n",
       "</div>"
      ],
      "text/plain": [
       "          index  event_name\n",
       "0         login        3480\n",
       "1  product_page        2178\n",
       "2  product_cart        1026\n",
       "3      purchase        1082"
      ]
     },
     "execution_count": 82,
     "metadata": {},
     "output_type": "execute_result"
    }
   ],
   "source": [
    "sales_funnel = df['event_name'].value_counts().reset_index()\n",
    "sales_funnel = sales_funnel.reindex([0,1,3,2]).reset_index(drop=True)\n",
    "\n",
    "sales_funnel"
   ]
  },
  {
   "cell_type": "code",
   "execution_count": null,
   "metadata": {},
   "outputs": [],
   "source": [
    "fig = go.Figure(\n",
    "    go.Funnel(\n",
    "        y = sales_funnel['index'], \n",
    "        x = sales_funnel['event_name'], \n",
    "        textinfo = \"value+percent initial+percent previous\")\n",
    ")\n",
    "\n",
    "fig.update_layout(\n",
    "    title_text='Воронка пользователей последовательно прошедших через все этапы',\n",
    "    title_font_size=25,\n",
    "    yaxis_title='Этапы',\n",
    ")\n",
    "fig.show();"
   ]
  },
  {
   "attachments": {
    "image.png": {
     "image/png": "[encoded data removed]"
    }
   },
   "cell_type": "markdown",
   "metadata": {},
   "source": [
    "![image.png](attachment:image.png)"
   ]
  },
  {
   "cell_type": "markdown",
   "metadata": {},
   "source": [
    "Можем сделать следующие выводы:\n",
    "\n",
    "    Больше всего пользователей теряется после регистрации, до страницы продукта доходит лишь 63%\n",
    "    Количество пользователей посетивших карту продукта меньше, чем количество пользователей купивших продукт. Такая ситуация могла произойти по нескольким причинам:\n",
    "        на более ранних этапах появилась кнопка \"быстрой покупки\" и пользователи не заходят на карточку товара\n",
    "        данные не корректно отражают реальную картину. Либо названия этапов перепутаны, либо на этапе сбора данных произошел какой-то сбой.\n",
    "        \n",
    "Все это, так же указывает на то, что подготовка к тесту и сбор данных были проведены не качественно."
   ]
  },
  {
   "cell_type": "code",
   "execution_count": 84,
   "metadata": {},
   "outputs": [],
   "source": [
    "df_a = df[df['group']=='A'][['user_id', 'first_date', 'event_dt', 'event_name', 'details', 'device']]\n",
    "df_b = df[df['group']=='B'][['user_id', 'first_date', 'event_dt', 'event_name', 'details', 'device']]"
   ]
  },
  {
   "cell_type": "markdown",
   "metadata": {},
   "source": [
    "Посмотрим на воронки продах в обеих группах"
   ]
  },
  {
   "cell_type": "code",
   "execution_count": 85,
   "metadata": {},
   "outputs": [
    {
     "data": {
      "text/html": [
       "<div>\n",
       "<style scoped>\n",
       "    .dataframe tbody tr th:only-of-type {\n",
       "        vertical-align: middle;\n",
       "    }\n",
       "\n",
       "    .dataframe tbody tr th {\n",
       "        vertical-align: top;\n",
       "    }\n",
       "\n",
       "    .dataframe thead th {\n",
       "        text-align: right;\n",
       "    }\n",
       "</style>\n",
       "<table border=\"1\" class=\"dataframe\">\n",
       "  <thead>\n",
       "    <tr style=\"text-align: right;\">\n",
       "      <th></th>\n",
       "      <th>index</th>\n",
       "      <th>event_name</th>\n",
       "    </tr>\n",
       "  </thead>\n",
       "  <tbody>\n",
       "    <tr>\n",
       "      <th>0</th>\n",
       "      <td>login</td>\n",
       "      <td>2604</td>\n",
       "    </tr>\n",
       "    <tr>\n",
       "      <th>1</th>\n",
       "      <td>product_page</td>\n",
       "      <td>1685</td>\n",
       "    </tr>\n",
       "    <tr>\n",
       "      <th>2</th>\n",
       "      <td>product_cart</td>\n",
       "      <td>782</td>\n",
       "    </tr>\n",
       "    <tr>\n",
       "      <th>3</th>\n",
       "      <td>purchase</td>\n",
       "      <td>833</td>\n",
       "    </tr>\n",
       "  </tbody>\n",
       "</table>\n",
       "</div>"
      ],
      "text/plain": [
       "          index  event_name\n",
       "0         login        2604\n",
       "1  product_page        1685\n",
       "2  product_cart         782\n",
       "3      purchase         833"
      ]
     },
     "execution_count": 85,
     "metadata": {},
     "output_type": "execute_result"
    }
   ],
   "source": [
    "sales_funnel_a = df_a['event_name'].value_counts().reset_index()\n",
    "sales_funnel_a = sales_funnel_a.reindex([0,1,3,2]).reset_index(drop=True)\n",
    "sales_funnel_a"
   ]
  },
  {
   "cell_type": "code",
   "execution_count": null,
   "metadata": {},
   "outputs": [],
   "source": [
    "fig = go.Figure(\n",
    "    go.Funnel(\n",
    "        y = sales_funnel_a['index'], \n",
    "        x = sales_funnel_a['event_name'], \n",
    "        textinfo = \"value+percent initial+percent previous\")\n",
    ")\n",
    "\n",
    "fig.update_layout(\n",
    "    title_text='Воронка продаж пользователей группы А',\n",
    "    title_font_size=25,\n",
    "    yaxis_title='Этапы',\n",
    ")\n",
    "fig.show();"
   ]
  },
  {
   "attachments": {
    "image.png": {
     "image/png": "[encoded data removed]"
    }
   },
   "cell_type": "markdown",
   "metadata": {},
   "source": [
    "![image.png](attachment:image.png)"
   ]
  },
  {
   "cell_type": "code",
   "execution_count": 87,
   "metadata": {},
   "outputs": [
    {
     "data": {
      "text/html": [
       "<div>\n",
       "<style scoped>\n",
       "    .dataframe tbody tr th:only-of-type {\n",
       "        vertical-align: middle;\n",
       "    }\n",
       "\n",
       "    .dataframe tbody tr th {\n",
       "        vertical-align: top;\n",
       "    }\n",
       "\n",
       "    .dataframe thead th {\n",
       "        text-align: right;\n",
       "    }\n",
       "</style>\n",
       "<table border=\"1\" class=\"dataframe\">\n",
       "  <thead>\n",
       "    <tr style=\"text-align: right;\">\n",
       "      <th></th>\n",
       "      <th>index</th>\n",
       "      <th>event_name</th>\n",
       "    </tr>\n",
       "  </thead>\n",
       "  <tbody>\n",
       "    <tr>\n",
       "      <th>0</th>\n",
       "      <td>login</td>\n",
       "      <td>876</td>\n",
       "    </tr>\n",
       "    <tr>\n",
       "      <th>1</th>\n",
       "      <td>product_page</td>\n",
       "      <td>493</td>\n",
       "    </tr>\n",
       "    <tr>\n",
       "      <th>2</th>\n",
       "      <td>product_cart</td>\n",
       "      <td>244</td>\n",
       "    </tr>\n",
       "    <tr>\n",
       "      <th>3</th>\n",
       "      <td>purchase</td>\n",
       "      <td>249</td>\n",
       "    </tr>\n",
       "  </tbody>\n",
       "</table>\n",
       "</div>"
      ],
      "text/plain": [
       "          index  event_name\n",
       "0         login         876\n",
       "1  product_page         493\n",
       "2  product_cart         244\n",
       "3      purchase         249"
      ]
     },
     "execution_count": 87,
     "metadata": {},
     "output_type": "execute_result"
    }
   ],
   "source": [
    "sales_funnel_b = df_b['event_name'].value_counts().reset_index()\n",
    "sales_funnel_b = sales_funnel_b.reindex([0,1,3,2]).reset_index(drop=True)\n",
    "sales_funnel_b"
   ]
  },
  {
   "cell_type": "code",
   "execution_count": null,
   "metadata": {},
   "outputs": [],
   "source": [
    "fig = go.Figure(\n",
    "    go.Funnel(\n",
    "        y = sales_funnel_b['index'], \n",
    "        x = sales_funnel_b['event_name'], \n",
    "        textinfo = \"value+percent initial+percent previous\")\n",
    ")\n",
    "\n",
    "fig.update_layout(\n",
    "    title_text='Воронка продаж пользователей группы B',\n",
    "    title_font_size=25,\n",
    "    yaxis_title='Этапы',\n",
    ")\n",
    "fig.show();"
   ]
  },
  {
   "attachments": {
    "image.png": {
     "image/png": "[encoded data removed]"
    }
   },
   "cell_type": "markdown",
   "metadata": {},
   "source": [
    "![image.png](attachment:image.png)"
   ]
  },
  {
   "cell_type": "markdown",
   "metadata": {},
   "source": [
    "***Вывод***\n",
    "В целом результаты теста показали, что новая платежная воронка ни на одном из этапов не дала ожидаемого результата:\n",
    "    на переходе на страницу продукта конверсия уменьшилась на 9%\n",
    "    на переходе на страницу продукта уменьшилась на 2%, \n",
    "    при перходе к продаже конверсия упала на 4%\n",
    "    этап просмотра корзины так и остался последним после покупки.\n",
    "    \n",
    "В целом, можно говорить, что тест проведен не корректно. \n",
    "\n",
    "Собранные данные не соответствуют техническому заданию:\n",
    "    \n",
    "    С 25 декабря 2020 года по 03 января 2021 года прооходила Christmas&New Year Promo. По датам это совпало с проведением теста. Нам пришлось удалить данные, которые попали на этот период.\n",
    "    Регистрация пользователей проводилась за рамками периода, который был озвучен в техническом задании. Эти данные тоже пришлось удалить.\n",
    "    Были выявлены 1602 пользователя, которые одновременно участвовали в двух разных тестах. Было принято решение не удалять эти данные, чтобы столь значительное уменьшение количества пользователей не оказало еще более негативное влияние на результаты теста.\n",
    "    В группе А пользователей оказалось больше почти в 3 раза. \n",
    "    Количество событий в группе А больше в 3,4 раза, чем в группе В.\n",
    "    В группах события распределены не равномерно. При этом в группе А основная масса событий приходиться на период после 14 декабря, а группе В события после всплеска в первых числах, затем резко падают и дальше распределяютс равномерно на этом уровне с периодическими спадами.\n",
    "\n",
    "Можно говорить, что есть какие-то дополнительные факторы, которые влияют на распределения событий в группах.\n",
    "    \n",
    "На стадии изучения первично воронки продаж были выявлены следующие факты:\n",
    "\n",
    "    Больше всего пользователей теряется на после регистрации, до страницы продукта доходит лишь 63%\n",
    "    Количество пользователей посетивших карту продукта меньше, чем количество пользователей купивших продукт. Такая ситуация могла произойти по нескольким причинам:\n",
    "        на более ранних этапах появилась кнопка \"быстрой покупки\" и пользователи не заходят на карточку товара\n",
    "        данные не корректно отражают реальную картину. \n",
    "        Либо названия этапов перепутаны, \n",
    "        либо на этапе сбора данных произошел какой-то сбой.\n",
    "        Так же возможен вариант, что на воронку повлиял конкурирующий тест, причем, в меньшей степени это отразилось на тестовой группе.\n",
    "        \n",
    "Все это, так же указывает на то, что подготовка к тесту и сбор данных были проведены не качественно.\n"
   ]
  },
  {
   "cell_type": "markdown",
   "metadata": {},
   "source": [
    "# Проверка статестической разницы долей z - критерием"
   ]
  },
  {
   "cell_type": "markdown",
   "metadata": {},
   "source": [
    "Создадим сводную таблицу"
   ]
  },
  {
   "cell_type": "code",
   "execution_count": 89,
   "metadata": {},
   "outputs": [
    {
     "data": {
      "text/plain": [
       "group\n",
       "A    2604\n",
       "B     877\n",
       "Name: user_id, dtype: int64"
      ]
     },
     "execution_count": 89,
     "metadata": {},
     "output_type": "execute_result"
    }
   ],
   "source": [
    "user_id_count = df.groupby('group')['user_id'].nunique()\n",
    "#user_id_count['A_B'] = user_id_count.A + user_id_count.B\n",
    "user_id_count"
   ]
  },
  {
   "cell_type": "code",
   "execution_count": 90,
   "metadata": {},
   "outputs": [
    {
     "data": {
      "text/html": [
       "<div>\n",
       "<style scoped>\n",
       "    .dataframe tbody tr th:only-of-type {\n",
       "        vertical-align: middle;\n",
       "    }\n",
       "\n",
       "    .dataframe tbody tr th {\n",
       "        vertical-align: top;\n",
       "    }\n",
       "\n",
       "    .dataframe thead th {\n",
       "        text-align: right;\n",
       "    }\n",
       "</style>\n",
       "<table border=\"1\" class=\"dataframe\">\n",
       "  <thead>\n",
       "    <tr style=\"text-align: right;\">\n",
       "      <th>group</th>\n",
       "      <th>A</th>\n",
       "      <th>B</th>\n",
       "      <th>A_B</th>\n",
       "      <th>perc_a</th>\n",
       "      <th>perc_b</th>\n",
       "    </tr>\n",
       "    <tr>\n",
       "      <th>event_name</th>\n",
       "      <th></th>\n",
       "      <th></th>\n",
       "      <th></th>\n",
       "      <th></th>\n",
       "      <th></th>\n",
       "    </tr>\n",
       "  </thead>\n",
       "  <tbody>\n",
       "    <tr>\n",
       "      <th>login</th>\n",
       "      <td>2604</td>\n",
       "      <td>876</td>\n",
       "      <td>3480</td>\n",
       "      <td>100.00</td>\n",
       "      <td>99.89</td>\n",
       "    </tr>\n",
       "    <tr>\n",
       "      <th>product_page</th>\n",
       "      <td>1685</td>\n",
       "      <td>493</td>\n",
       "      <td>2178</td>\n",
       "      <td>64.71</td>\n",
       "      <td>56.21</td>\n",
       "    </tr>\n",
       "    <tr>\n",
       "      <th>purchase</th>\n",
       "      <td>833</td>\n",
       "      <td>249</td>\n",
       "      <td>1082</td>\n",
       "      <td>31.99</td>\n",
       "      <td>28.39</td>\n",
       "    </tr>\n",
       "    <tr>\n",
       "      <th>product_cart</th>\n",
       "      <td>782</td>\n",
       "      <td>244</td>\n",
       "      <td>1026</td>\n",
       "      <td>30.03</td>\n",
       "      <td>27.82</td>\n",
       "    </tr>\n",
       "  </tbody>\n",
       "</table>\n",
       "</div>"
      ],
      "text/plain": [
       "group            A    B   A_B  perc_a  perc_b\n",
       "event_name                                   \n",
       "login         2604  876  3480  100.00   99.89\n",
       "product_page  1685  493  2178   64.71   56.21\n",
       "purchase       833  249  1082   31.99   28.39\n",
       "product_cart   782  244  1026   30.03   27.82"
      ]
     },
     "execution_count": 90,
     "metadata": {},
     "output_type": "execute_result"
    }
   ],
   "source": [
    "event_group = df.pivot_table(\n",
    "    index='event_name', \n",
    "    columns='group', \n",
    "    values='user_id',\n",
    "    aggfunc='nunique').sort_values(by='A', ascending=False)\n",
    "event_group.reset_index()\n",
    "event_group['A_B'] = event_group.A + event_group.B\n",
    "event_group['perc_a'] = (event_group.A / user_id_count.A * 100).round(2)\n",
    "event_group['perc_b'] = (event_group.B / user_id_count.B * 100).round(2)\n",
    "event_group"
   ]
  },
  {
   "cell_type": "code",
   "execution_count": 91,
   "metadata": {},
   "outputs": [
    {
     "data": {
      "text/html": [
       "<div>\n",
       "<style scoped>\n",
       "    .dataframe tbody tr th:only-of-type {\n",
       "        vertical-align: middle;\n",
       "    }\n",
       "\n",
       "    .dataframe tbody tr th {\n",
       "        vertical-align: top;\n",
       "    }\n",
       "\n",
       "    .dataframe thead th {\n",
       "        text-align: right;\n",
       "    }\n",
       "</style>\n",
       "<table border=\"1\" class=\"dataframe\">\n",
       "  <thead>\n",
       "    <tr style=\"text-align: right;\">\n",
       "      <th></th>\n",
       "      <th>user_id</th>\n",
       "    </tr>\n",
       "    <tr>\n",
       "      <th>group</th>\n",
       "      <th></th>\n",
       "    </tr>\n",
       "  </thead>\n",
       "  <tbody>\n",
       "    <tr>\n",
       "      <th>A</th>\n",
       "      <td>2604</td>\n",
       "    </tr>\n",
       "    <tr>\n",
       "      <th>B</th>\n",
       "      <td>877</td>\n",
       "    </tr>\n",
       "  </tbody>\n",
       "</table>\n",
       "</div>"
      ],
      "text/plain": [
       "       user_id\n",
       "group         \n",
       "A         2604\n",
       "B          877"
      ]
     },
     "execution_count": 91,
     "metadata": {},
     "output_type": "execute_result"
    }
   ],
   "source": [
    "users = df.groupby('group')['user_id'].nunique().reset_index()\n",
    "users = users.set_index(users.columns[0])\n",
    "users"
   ]
  },
  {
   "cell_type": "markdown",
   "metadata": {},
   "source": [
    "Напишем функцию"
   ]
  },
  {
   "cell_type": "code",
   "execution_count": 92,
   "metadata": {},
   "outputs": [],
   "source": [
    "def z_test(group1, group2, event, alpha): \n",
    "    p1_event = event_group.loc[event, group1]\n",
    "    p2_event = event_group.loc[event, group2] \n",
    "    p1_users = users.loc[group1, 'user_id'] \n",
    "    p2_users = users.loc[group2, 'user_id'] \n",
    "    p1 = p1_event / p1_users \n",
    "    p2 = p2_event / p2_users \n",
    "    difference = p1 - p2\n",
    "    p_combined = (p1_event + p2_event) / (p1_users + p2_users) \n",
    "    z_value = difference / mth.sqrt(p_combined * (1 - p_combined) * (1 / p1_users + 1 / p2_users))\n",
    "    distr = st.norm(0, 1)\n",
    "    p_value = (1 - distr.cdf(abs(z_value))) * 2\n",
    "    \n",
    "    bonferroni_alpha = alpha / 4\n",
    "    \n",
    "    print('Проверка для групп {} и {}, событие: {}, p-значение: {p_value:.2f}'.format(group1, group2, event, p_value=p_value))\n",
    "    if (p_value < bonferroni_alpha):\n",
    "        print(\"Отвергаем нулевую гипотезу о равенстве конверсии в группах\")\n",
    "    else:\n",
    "        print(\"Не получилось отвергнуть нулевую гипотезу о равенстве конверсии в группах\")"
   ]
  },
  {
   "cell_type": "markdown",
   "metadata": {},
   "source": [
    "***Сформулируем гипотезы***\n",
    "\n",
    "    H0: Конверсия в группе A равна конверсии в группе B\n",
    "    H1: Конверсия в группе A не равна конверсии в группе B"
   ]
  },
  {
   "cell_type": "code",
   "execution_count": 93,
   "metadata": {},
   "outputs": [
    {
     "name": "stdout",
     "output_type": "stream",
     "text": [
      "Проверка для групп A и B, событие: login, p-значение: 0.08\n",
      "Не получилось отвергнуть нулевую гипотезу о равенстве конверсии в группах\n",
      "\n",
      "Проверка для групп A и B, событие: product_page, p-значение: 0.00\n",
      "Отвергаем нулевую гипотезу о равенстве конверсии в группах\n",
      "\n",
      "Проверка для групп A и B, событие: purchase, p-значение: 0.05\n",
      "Не получилось отвергнуть нулевую гипотезу о равенстве конверсии в группах\n",
      "\n",
      "Проверка для групп A и B, событие: product_cart, p-значение: 0.21\n",
      "Не получилось отвергнуть нулевую гипотезу о равенстве конверсии в группах\n",
      "\n"
     ]
    }
   ],
   "source": [
    "for event_name in event_group.index:\n",
    "    z_test('A', 'B', event_name, 0.05)\n",
    "    print()"
   ]
  },
  {
   "cell_type": "markdown",
   "metadata": {},
   "source": [
    "***Вывод***\n",
    "\n",
    "В группах А и В \n",
    "\n",
    "    - в событии login конверсии равны\n",
    "    - в событии product_page конверсии не равны\n",
    "    - в событии purchase конверсии равны\n",
    "    - в событии product_cart конверсии равны"
   ]
  },
  {
   "cell_type": "markdown",
   "metadata": {},
   "source": [
    "# Вывод\n",
    "\n",
    "Мы изучили полученные данные.\n",
    "\n",
    "final_ab_events:\n",
    "\n",
    "    Обнаружены пропуски в деталях событий. Принято решение заменить пропуски на 0\n",
    "    Конечные выводы делать рано, но, на первый взгляд, воронка выглядит так:\n",
    "\n",
    "    1. login           189552\n",
    "    2. product_page    125563\n",
    "    3. purchase         62740\n",
    "    4. product_cart     62462\n",
    "    Было бы логичным, если бы последним этапом была покупка.\n",
    "    \n",
    "ab_project_marketing_events:\n",
    "\n",
    "    С 25 декабря 2020 года по 03 января 2021 года прооходила Christmas&New Year Promo. Она полностью попадает на время нашего эксперемента и проходила в Европе (EU). Это событие может сильно повлиять на результат нашего тестирования. Принято решение удалить из теста события, которые будут пересекаться с этой акцией.\n",
    "    \n",
    "final_ab_new_users:\n",
    "    \n",
    "    Поменяли  тип данных в столбце с датами \n",
    "    Было выявлено не соответствие данных с техническим заданием. Регистрация пользователей продолжалась после 21 декабря. Эти пользователи были удалени из данных.\n",
    "    \n",
    "    \n",
    "final_ab_participants:\n",
    "    \n",
    "    Были выявлены пользоваталеи, которые одновременной участвовали во втором тесте\n",
    "    Количество пользователей, которые попали в оба теста:  1602. Не стали их удалять, так как это могло значительно повлиять на результаты нашего анализа.\n",
    "    \n",
    "Изучив результаты тестов сделаны следующие выводы:\n",
    "\n",
    "В целом результаты теста показали, что новая платежная воронка ни на одном из этапов не дала ожидаемого результата:\n",
    "    на переходе на страницу продукта конверсия уменьшилась на 9%\n",
    "    на переходе на страницу продукта уменьшилась на 2%, \n",
    "    при перходе к продаже конверсия упала на 4%\n",
    "    этап просмотра корзины так и остался последним после покупки.\n",
    "    \n",
    "Можно однозначно сказать, что тест проведен не корректно. \n",
    "\n",
    "Собранные данные не соответствуют техническому заданию:\n",
    "    \n",
    "    С 25 декабря 2020 года по 03 января 2021 года прооходила Christmas&New Year Promo. По датам это совпало с проведением теста. Нам пришлось удалить данные, которые попали на этот период.\n",
    "    Регистрация пользователей проводилась за рамками периода, который был озвучен в техническом задании. Эти данные тоже пришлось удалить.\n",
    "    Были выявлены 1602 пользователя, которые одновременно участвовали в двух разных тестах. Было принято решение не удалять эти данные, чтобы столь значительное уменьшение количества пользователей не оказало еще более негативное влияние на результаты теста.\n",
    "    В группе А пользователей оказалось больше почти в 3 раза. \n",
    "    Количество событий в группе А больше в 3,4 раза, чем в группе В.\n",
    "    \n",
    "На стадии изучения первичной воронки продаж были выявлены следующие факты:\n",
    "\n",
    "    Больше всего пользователей теряется на после регистрации, до страницы продукта доходит лишь 63%\n",
    "    Количество пользователей посетивших карту продукта меньше, чем количество пользователей купивших продукт. Такая ситуация могла произойти по нескольким причинам:\n",
    "        на более ранних этапах появилась кнопка \"быстрой покупки\" и пользователи не заходят на карточку товара\n",
    "        данные не корректно отражают реальную картину. \n",
    "        Либо названия этапов перепутаны, \n",
    "        либо на этапе сбора данных произошел какой-то сбой.\n",
    "        Так же возможен вариант, что на воронку повлиял конкурирующий тест, причем, в меньшей степени это отразилось на тестовой группе.\n",
    "        \n",
    "Все это, так же указывает на то, что подготовка к тесту и сбор данных были проведены не качественно.\n",
    "\n",
    "Результат проверки статистической разницы долей z- критерием подтверждают наши выводы результах теста.\n",
    "\n",
    "В трех из четырех случаев нам не удалось отвергнуть нулевую гипотезе о равенстве конверсии.\n",
    "\n",
    "Необходимо проверить все условия, при которых проводился этот тест. Есть вопросы по очередности  этапов в воронке продаж. \n",
    "Найти причины не корректно собранных данных. Это можеть быть чья-то халатность. а может какой-то технической сбой. который необходимо устарнить. \n",
    "\n",
    "Желательно избегать параллельного проведения конкурирующих двух и более тестов, особенно если нет возможности сформировать достоточные выборки, чтобы они не пересекались. \n",
    "\n",
    "Избегать проведения тестов по времени совпадающих с большими маркетинговыми мероприятиями."
   ]
  }
 ],
 "metadata": {
  "ExecuteTimeLog": [
   {
    "duration": 1211,
    "start_time": "2022-11-18T06:02:22.924Z"
   },
   {
    "duration": 1037,
    "start_time": "2022-11-18T06:02:24.138Z"
   },
   {
    "duration": 10,
    "start_time": "2022-11-18T06:02:38.283Z"
   },
   {
    "duration": 96,
    "start_time": "2022-11-18T06:34:57.243Z"
   },
   {
    "duration": 9,
    "start_time": "2022-11-18T06:35:03.776Z"
   },
   {
    "duration": 3,
    "start_time": "2022-11-18T06:35:19.664Z"
   },
   {
    "duration": 646,
    "start_time": "2022-11-18T06:35:20.619Z"
   },
   {
    "duration": 7,
    "start_time": "2022-11-18T06:35:23.755Z"
   },
   {
    "duration": 8,
    "start_time": "2022-11-18T06:35:25.527Z"
   },
   {
    "duration": 55,
    "start_time": "2022-11-18T06:35:38.765Z"
   },
   {
    "duration": 260,
    "start_time": "2022-11-18T06:37:05.278Z"
   },
   {
    "duration": 56,
    "start_time": "2022-11-18T06:37:47.079Z"
   },
   {
    "duration": 63,
    "start_time": "2022-11-18T06:38:02.177Z"
   },
   {
    "duration": 87,
    "start_time": "2022-11-18T06:38:15.464Z"
   },
   {
    "duration": 49,
    "start_time": "2022-11-18T06:39:17.662Z"
   },
   {
    "duration": 6,
    "start_time": "2022-11-18T06:41:23.296Z"
   },
   {
    "duration": 6,
    "start_time": "2022-11-18T06:41:34.527Z"
   },
   {
    "duration": 10,
    "start_time": "2022-11-18T06:42:17.393Z"
   },
   {
    "duration": 6,
    "start_time": "2022-11-18T06:42:28.507Z"
   },
   {
    "duration": 6,
    "start_time": "2022-11-18T06:44:12.256Z"
   },
   {
    "duration": 5,
    "start_time": "2022-11-18T06:44:33.946Z"
   },
   {
    "duration": 12,
    "start_time": "2022-11-18T06:44:50.962Z"
   },
   {
    "duration": 20,
    "start_time": "2022-11-18T06:45:07.974Z"
   },
   {
    "duration": 4,
    "start_time": "2022-11-18T06:58:46.565Z"
   },
   {
    "duration": 3,
    "start_time": "2022-11-18T06:59:07.948Z"
   },
   {
    "duration": 22748,
    "start_time": "2022-11-18T08:11:08.742Z"
   },
   {
    "duration": 2350,
    "start_time": "2022-11-18T12:08:31.711Z"
   },
   {
    "duration": 867,
    "start_time": "2022-11-18T12:08:37.276Z"
   },
   {
    "duration": 53,
    "start_time": "2022-11-18T12:09:10.783Z"
   },
   {
    "duration": 7,
    "start_time": "2022-11-18T12:09:35.872Z"
   },
   {
    "duration": 12,
    "start_time": "2022-11-18T12:16:46.447Z"
   },
   {
    "duration": 3,
    "start_time": "2022-11-18T12:17:14.766Z"
   },
   {
    "duration": 26,
    "start_time": "2022-11-18T12:18:53.348Z"
   },
   {
    "duration": 11,
    "start_time": "2022-11-18T12:19:22.929Z"
   },
   {
    "duration": 6,
    "start_time": "2022-11-18T12:19:24.902Z"
   },
   {
    "duration": 6,
    "start_time": "2022-11-18T12:19:27.989Z"
   },
   {
    "duration": 12,
    "start_time": "2022-11-18T12:19:53.783Z"
   },
   {
    "duration": 4,
    "start_time": "2022-11-18T12:19:55.277Z"
   },
   {
    "duration": 17,
    "start_time": "2022-11-18T12:19:56.092Z"
   },
   {
    "duration": 35,
    "start_time": "2022-11-18T12:19:58.920Z"
   },
   {
    "duration": 22,
    "start_time": "2022-11-18T12:19:59.536Z"
   },
   {
    "duration": 15,
    "start_time": "2022-11-18T12:20:04.129Z"
   },
   {
    "duration": 14,
    "start_time": "2022-11-18T12:23:00.455Z"
   },
   {
    "duration": 10,
    "start_time": "2022-11-18T12:23:03.257Z"
   },
   {
    "duration": 4,
    "start_time": "2022-11-18T12:23:06.269Z"
   },
   {
    "duration": 13,
    "start_time": "2022-11-18T12:23:06.647Z"
   },
   {
    "duration": 13,
    "start_time": "2022-11-18T12:23:07.293Z"
   },
   {
    "duration": 8,
    "start_time": "2022-11-18T12:23:08.687Z"
   },
   {
    "duration": 5,
    "start_time": "2022-11-18T12:23:44.637Z"
   },
   {
    "duration": 7,
    "start_time": "2022-11-18T12:26:16.619Z"
   },
   {
    "duration": 7,
    "start_time": "2022-11-18T12:29:18.848Z"
   },
   {
    "duration": 9,
    "start_time": "2022-11-18T12:30:32.172Z"
   },
   {
    "duration": 325,
    "start_time": "2022-11-18T12:54:38.641Z"
   },
   {
    "duration": 11,
    "start_time": "2022-11-18T12:55:11.806Z"
   },
   {
    "duration": 3389,
    "start_time": "2022-11-18T13:58:28.768Z"
   },
   {
    "duration": 733,
    "start_time": "2022-11-18T13:58:32.159Z"
   },
   {
    "duration": 18,
    "start_time": "2022-11-18T13:58:32.893Z"
   },
   {
    "duration": 4,
    "start_time": "2022-11-18T13:58:32.912Z"
   },
   {
    "duration": 67,
    "start_time": "2022-11-18T13:58:32.918Z"
   },
   {
    "duration": 294,
    "start_time": "2022-11-18T13:58:32.986Z"
   },
   {
    "duration": 54,
    "start_time": "2022-11-18T13:58:33.282Z"
   },
   {
    "duration": 108,
    "start_time": "2022-11-18T13:58:33.337Z"
   },
   {
    "duration": 52,
    "start_time": "2022-11-18T13:58:33.447Z"
   },
   {
    "duration": 24,
    "start_time": "2022-11-18T13:58:33.501Z"
   },
   {
    "duration": 17,
    "start_time": "2022-11-18T13:58:33.527Z"
   },
   {
    "duration": 13,
    "start_time": "2022-11-18T13:58:33.546Z"
   },
   {
    "duration": 26,
    "start_time": "2022-11-18T13:58:33.560Z"
   },
   {
    "duration": 21,
    "start_time": "2022-11-18T13:58:33.589Z"
   },
   {
    "duration": 22,
    "start_time": "2022-11-18T13:58:33.612Z"
   },
   {
    "duration": 33,
    "start_time": "2022-11-18T13:58:33.636Z"
   },
   {
    "duration": 38,
    "start_time": "2022-11-18T13:58:33.671Z"
   },
   {
    "duration": 43,
    "start_time": "2022-11-18T13:58:33.711Z"
   },
   {
    "duration": 20,
    "start_time": "2022-11-18T13:58:33.756Z"
   },
   {
    "duration": 16,
    "start_time": "2022-11-18T13:58:33.777Z"
   },
   {
    "duration": 36,
    "start_time": "2022-11-18T13:58:33.795Z"
   },
   {
    "duration": 32,
    "start_time": "2022-11-18T13:58:33.833Z"
   },
   {
    "duration": 41,
    "start_time": "2022-11-18T13:58:33.867Z"
   },
   {
    "duration": 38,
    "start_time": "2022-11-18T13:58:33.910Z"
   },
   {
    "duration": 45,
    "start_time": "2022-11-18T13:58:33.950Z"
   },
   {
    "duration": 42,
    "start_time": "2022-11-18T13:58:33.997Z"
   },
   {
    "duration": 16,
    "start_time": "2022-11-18T13:58:34.041Z"
   },
   {
    "duration": 11,
    "start_time": "2022-11-18T13:58:34.059Z"
   },
   {
    "duration": 14,
    "start_time": "2022-11-18T13:58:34.072Z"
   },
   {
    "duration": 13,
    "start_time": "2022-11-18T13:58:34.088Z"
   },
   {
    "duration": 45,
    "start_time": "2022-11-18T16:38:51.769Z"
   },
   {
    "duration": 6,
    "start_time": "2022-11-18T16:38:55.880Z"
   },
   {
    "duration": 20636,
    "start_time": "2022-11-18T16:39:02.089Z"
   },
   {
    "duration": 927,
    "start_time": "2022-11-18T16:39:22.785Z"
   },
   {
    "duration": 17,
    "start_time": "2022-11-18T16:39:23.713Z"
   },
   {
    "duration": 3,
    "start_time": "2022-11-18T16:39:23.732Z"
   },
   {
    "duration": 71,
    "start_time": "2022-11-18T16:39:23.737Z"
   },
   {
    "duration": 268,
    "start_time": "2022-11-18T16:39:23.816Z"
   },
   {
    "duration": 64,
    "start_time": "2022-11-18T16:39:24.085Z"
   },
   {
    "duration": 99,
    "start_time": "2022-11-18T16:39:24.151Z"
   },
   {
    "duration": 55,
    "start_time": "2022-11-18T16:39:24.252Z"
   },
   {
    "duration": 8,
    "start_time": "2022-11-18T16:39:24.316Z"
   },
   {
    "duration": 4,
    "start_time": "2022-11-18T16:39:24.326Z"
   },
   {
    "duration": 16,
    "start_time": "2022-11-18T16:39:24.332Z"
   },
   {
    "duration": 5,
    "start_time": "2022-11-18T16:39:24.350Z"
   },
   {
    "duration": 7,
    "start_time": "2022-11-18T16:39:24.359Z"
   },
   {
    "duration": 51,
    "start_time": "2022-11-18T16:39:24.368Z"
   },
   {
    "duration": 5,
    "start_time": "2022-11-18T16:39:24.422Z"
   },
   {
    "duration": 27,
    "start_time": "2022-11-18T16:39:24.429Z"
   },
   {
    "duration": 57,
    "start_time": "2022-11-18T16:39:24.458Z"
   },
   {
    "duration": 21,
    "start_time": "2022-11-18T16:39:24.517Z"
   },
   {
    "duration": 16,
    "start_time": "2022-11-18T16:39:24.540Z"
   },
   {
    "duration": 9,
    "start_time": "2022-11-18T16:39:24.558Z"
   },
   {
    "duration": 51,
    "start_time": "2022-11-18T16:39:24.569Z"
   },
   {
    "duration": 5,
    "start_time": "2022-11-18T16:39:24.622Z"
   },
   {
    "duration": 15,
    "start_time": "2022-11-18T16:39:24.629Z"
   },
   {
    "duration": 12,
    "start_time": "2022-11-18T16:39:24.646Z"
   },
   {
    "duration": 10,
    "start_time": "2022-11-18T16:39:24.660Z"
   },
   {
    "duration": 46,
    "start_time": "2022-11-18T16:39:24.672Z"
   },
   {
    "duration": 23,
    "start_time": "2022-11-18T16:39:24.719Z"
   },
   {
    "duration": 11,
    "start_time": "2022-11-18T16:39:24.744Z"
   },
   {
    "duration": 12,
    "start_time": "2022-11-18T16:39:24.756Z"
   },
   {
    "duration": 25,
    "start_time": "2022-11-18T16:39:24.770Z"
   },
   {
    "duration": 107,
    "start_time": "2022-11-18T16:39:24.797Z"
   },
   {
    "duration": 1040,
    "start_time": "2022-11-18T16:39:35.665Z"
   },
   {
    "duration": 647,
    "start_time": "2022-11-18T16:39:36.707Z"
   },
   {
    "duration": 16,
    "start_time": "2022-11-18T16:39:37.356Z"
   },
   {
    "duration": 9,
    "start_time": "2022-11-18T16:39:37.374Z"
   },
   {
    "duration": 86,
    "start_time": "2022-11-18T16:39:37.385Z"
   },
   {
    "duration": 265,
    "start_time": "2022-11-18T16:39:37.472Z"
   },
   {
    "duration": 53,
    "start_time": "2022-11-18T16:39:37.739Z"
   },
   {
    "duration": 104,
    "start_time": "2022-11-18T16:39:37.794Z"
   },
   {
    "duration": 61,
    "start_time": "2022-11-18T16:39:37.900Z"
   },
   {
    "duration": 8,
    "start_time": "2022-11-18T16:39:37.963Z"
   },
   {
    "duration": 6,
    "start_time": "2022-11-18T16:39:37.973Z"
   },
   {
    "duration": 38,
    "start_time": "2022-11-18T16:39:37.981Z"
   },
   {
    "duration": 22,
    "start_time": "2022-11-18T16:39:38.020Z"
   },
   {
    "duration": 28,
    "start_time": "2022-11-18T16:39:38.045Z"
   },
   {
    "duration": 17,
    "start_time": "2022-11-18T16:39:38.082Z"
   },
   {
    "duration": 20,
    "start_time": "2022-11-18T16:39:38.100Z"
   },
   {
    "duration": 20,
    "start_time": "2022-11-18T16:39:38.121Z"
   },
   {
    "duration": 48,
    "start_time": "2022-11-18T16:39:38.144Z"
   },
   {
    "duration": 32,
    "start_time": "2022-11-18T16:39:38.194Z"
   },
   {
    "duration": 20,
    "start_time": "2022-11-18T16:39:38.228Z"
   },
   {
    "duration": 24,
    "start_time": "2022-11-18T16:39:38.250Z"
   },
   {
    "duration": 30,
    "start_time": "2022-11-18T16:39:38.275Z"
   },
   {
    "duration": 14,
    "start_time": "2022-11-18T16:39:38.307Z"
   },
   {
    "duration": 24,
    "start_time": "2022-11-18T16:39:38.322Z"
   },
   {
    "duration": 19,
    "start_time": "2022-11-18T16:39:38.348Z"
   },
   {
    "duration": 20,
    "start_time": "2022-11-18T16:39:38.368Z"
   },
   {
    "duration": 12,
    "start_time": "2022-11-18T16:39:38.390Z"
   },
   {
    "duration": 17,
    "start_time": "2022-11-18T16:39:38.406Z"
   },
   {
    "duration": 23,
    "start_time": "2022-11-18T16:39:38.425Z"
   },
   {
    "duration": 34,
    "start_time": "2022-11-18T16:39:38.450Z"
   },
   {
    "duration": 33,
    "start_time": "2022-11-18T16:39:38.486Z"
   },
   {
    "duration": 93,
    "start_time": "2022-11-18T16:39:38.520Z"
   },
   {
    "duration": 23,
    "start_time": "2022-11-18T16:41:55.756Z"
   },
   {
    "duration": 5,
    "start_time": "2022-11-18T16:42:56.390Z"
   },
   {
    "duration": 5,
    "start_time": "2022-11-18T16:44:46.247Z"
   },
   {
    "duration": 6,
    "start_time": "2022-11-18T16:45:08.078Z"
   },
   {
    "duration": 10,
    "start_time": "2022-11-18T16:45:20.717Z"
   },
   {
    "duration": 5,
    "start_time": "2022-11-18T16:46:00.156Z"
   },
   {
    "duration": 5,
    "start_time": "2022-11-18T16:46:01.852Z"
   },
   {
    "duration": 5,
    "start_time": "2022-11-18T16:46:37.137Z"
   },
   {
    "duration": 6,
    "start_time": "2022-11-18T16:46:38.196Z"
   },
   {
    "duration": 4,
    "start_time": "2022-11-18T16:46:43.290Z"
   },
   {
    "duration": 1017,
    "start_time": "2022-11-18T16:46:57.842Z"
   },
   {
    "duration": 694,
    "start_time": "2022-11-18T16:46:58.861Z"
   },
   {
    "duration": 15,
    "start_time": "2022-11-18T16:46:59.557Z"
   },
   {
    "duration": 3,
    "start_time": "2022-11-18T16:46:59.574Z"
   },
   {
    "duration": 77,
    "start_time": "2022-11-18T16:46:59.578Z"
   },
   {
    "duration": 280,
    "start_time": "2022-11-18T16:46:59.656Z"
   },
   {
    "duration": 58,
    "start_time": "2022-11-18T16:46:59.937Z"
   },
   {
    "duration": 126,
    "start_time": "2022-11-18T16:46:59.996Z"
   },
   {
    "duration": 62,
    "start_time": "2022-11-18T16:47:00.124Z"
   },
   {
    "duration": 8,
    "start_time": "2022-11-18T16:47:00.189Z"
   },
   {
    "duration": 20,
    "start_time": "2022-11-18T16:47:00.198Z"
   },
   {
    "duration": 23,
    "start_time": "2022-11-18T16:47:00.221Z"
   },
   {
    "duration": 10,
    "start_time": "2022-11-18T16:47:00.245Z"
   },
   {
    "duration": 7,
    "start_time": "2022-11-18T16:47:00.256Z"
   },
   {
    "duration": 13,
    "start_time": "2022-11-18T16:47:00.265Z"
   },
   {
    "duration": 8,
    "start_time": "2022-11-18T16:47:00.281Z"
   },
   {
    "duration": 25,
    "start_time": "2022-11-18T16:47:00.316Z"
   },
   {
    "duration": 51,
    "start_time": "2022-11-18T16:47:00.343Z"
   },
   {
    "duration": 35,
    "start_time": "2022-11-18T16:47:00.395Z"
   },
   {
    "duration": 16,
    "start_time": "2022-11-18T16:47:00.432Z"
   },
   {
    "duration": 23,
    "start_time": "2022-11-18T16:47:00.450Z"
   },
   {
    "duration": 16,
    "start_time": "2022-11-18T16:47:00.474Z"
   },
   {
    "duration": 23,
    "start_time": "2022-11-18T16:47:00.492Z"
   },
   {
    "duration": 46,
    "start_time": "2022-11-18T16:47:00.517Z"
   },
   {
    "duration": 25,
    "start_time": "2022-11-18T16:47:00.565Z"
   },
   {
    "duration": 19,
    "start_time": "2022-11-18T16:47:00.591Z"
   },
   {
    "duration": 35,
    "start_time": "2022-11-18T16:47:00.612Z"
   },
   {
    "duration": 29,
    "start_time": "2022-11-18T16:47:00.652Z"
   },
   {
    "duration": 49,
    "start_time": "2022-11-18T16:47:00.684Z"
   },
   {
    "duration": 29,
    "start_time": "2022-11-18T16:47:00.734Z"
   },
   {
    "duration": 51,
    "start_time": "2022-11-18T16:47:00.765Z"
   },
   {
    "duration": 31,
    "start_time": "2022-11-18T16:47:00.818Z"
   },
   {
    "duration": 27,
    "start_time": "2022-11-18T16:47:00.851Z"
   },
   {
    "duration": 16,
    "start_time": "2022-11-18T16:47:00.879Z"
   },
   {
    "duration": 120,
    "start_time": "2022-11-18T16:47:00.896Z"
   },
   {
    "duration": 10,
    "start_time": "2022-11-18T16:50:24.190Z"
   },
   {
    "duration": 288,
    "start_time": "2022-11-18T16:51:09.797Z"
   },
   {
    "duration": 8,
    "start_time": "2022-11-18T16:51:40.592Z"
   },
   {
    "duration": 3,
    "start_time": "2022-11-18T16:51:44.650Z"
   },
   {
    "duration": 87,
    "start_time": "2022-11-18T16:51:56.269Z"
   },
   {
    "duration": 8,
    "start_time": "2022-11-18T16:53:09.979Z"
   },
   {
    "duration": 3,
    "start_time": "2022-11-18T16:53:14.758Z"
   },
   {
    "duration": 69,
    "start_time": "2022-11-18T16:53:21.283Z"
   },
   {
    "duration": 276,
    "start_time": "2022-11-18T16:54:39.585Z"
   },
   {
    "duration": 60,
    "start_time": "2022-11-18T16:54:42.271Z"
   },
   {
    "duration": 12,
    "start_time": "2022-11-18T16:58:36.528Z"
   },
   {
    "duration": 8,
    "start_time": "2022-11-18T16:59:14.982Z"
   },
   {
    "duration": 7,
    "start_time": "2022-11-18T17:01:30.152Z"
   },
   {
    "duration": 55,
    "start_time": "2022-11-18T17:01:50.470Z"
   },
   {
    "duration": 9,
    "start_time": "2022-11-18T17:02:01.100Z"
   },
   {
    "duration": 59,
    "start_time": "2022-11-18T17:02:02.188Z"
   },
   {
    "duration": 8,
    "start_time": "2022-11-18T17:02:18.980Z"
   },
   {
    "duration": 4,
    "start_time": "2022-11-18T17:02:30.502Z"
   },
   {
    "duration": 102,
    "start_time": "2022-11-18T17:03:02.031Z"
   },
   {
    "duration": 69,
    "start_time": "2022-11-18T17:03:08.039Z"
   },
   {
    "duration": 61,
    "start_time": "2022-11-18T17:03:23.617Z"
   },
   {
    "duration": 9,
    "start_time": "2022-11-18T17:05:52.795Z"
   },
   {
    "duration": 10,
    "start_time": "2022-11-18T17:06:32.671Z"
   },
   {
    "duration": 10,
    "start_time": "2022-11-18T17:06:58.211Z"
   },
   {
    "duration": 10,
    "start_time": "2022-11-18T17:07:07.996Z"
   },
   {
    "duration": 37,
    "start_time": "2022-11-18T17:08:20.248Z"
   },
   {
    "duration": 60,
    "start_time": "2022-11-18T17:11:42.292Z"
   },
   {
    "duration": 58,
    "start_time": "2022-11-18T17:13:10.364Z"
   },
   {
    "duration": 57,
    "start_time": "2022-11-18T17:13:19.730Z"
   },
   {
    "duration": 185,
    "start_time": "2022-11-18T17:31:47.648Z"
   },
   {
    "duration": 3,
    "start_time": "2022-11-18T17:33:36.096Z"
   },
   {
    "duration": 3,
    "start_time": "2022-11-18T17:33:49.193Z"
   },
   {
    "duration": 6,
    "start_time": "2022-11-18T17:34:01.428Z"
   },
   {
    "duration": 9,
    "start_time": "2022-11-18T17:35:12.174Z"
   },
   {
    "duration": 9,
    "start_time": "2022-11-18T17:35:31.578Z"
   },
   {
    "duration": 9,
    "start_time": "2022-11-18T17:35:34.494Z"
   },
   {
    "duration": 9,
    "start_time": "2022-11-18T17:35:43.076Z"
   },
   {
    "duration": 3,
    "start_time": "2022-11-18T17:35:45.655Z"
   },
   {
    "duration": 9,
    "start_time": "2022-11-18T17:38:22.636Z"
   },
   {
    "duration": 6,
    "start_time": "2022-11-18T17:38:33.891Z"
   },
   {
    "duration": 21,
    "start_time": "2022-11-18T17:39:34.734Z"
   },
   {
    "duration": 20,
    "start_time": "2022-11-18T17:39:48.803Z"
   },
   {
    "duration": 37,
    "start_time": "2022-11-18T17:39:49.387Z"
   },
   {
    "duration": 20,
    "start_time": "2022-11-18T17:39:49.892Z"
   },
   {
    "duration": 19,
    "start_time": "2022-11-18T17:39:50.204Z"
   },
   {
    "duration": 7,
    "start_time": "2022-11-18T17:39:50.541Z"
   },
   {
    "duration": 13,
    "start_time": "2022-11-18T17:39:52.134Z"
   },
   {
    "duration": 3,
    "start_time": "2022-11-18T17:39:52.815Z"
   },
   {
    "duration": 12,
    "start_time": "2022-11-18T17:39:53.168Z"
   },
   {
    "duration": 8,
    "start_time": "2022-11-18T17:39:53.902Z"
   },
   {
    "duration": 7,
    "start_time": "2022-11-18T17:39:54.506Z"
   },
   {
    "duration": 4,
    "start_time": "2022-11-18T17:39:55.155Z"
   },
   {
    "duration": 9,
    "start_time": "2022-11-18T17:39:56.484Z"
   },
   {
    "duration": 8,
    "start_time": "2022-11-18T17:39:58.444Z"
   },
   {
    "duration": 11,
    "start_time": "2022-11-18T17:39:59.452Z"
   },
   {
    "duration": 18,
    "start_time": "2022-11-18T17:40:00.069Z"
   },
   {
    "duration": 4,
    "start_time": "2022-11-18T17:40:00.672Z"
   },
   {
    "duration": 6,
    "start_time": "2022-11-18T17:40:01.800Z"
   },
   {
    "duration": 7,
    "start_time": "2022-11-18T17:40:02.594Z"
   },
   {
    "duration": 7,
    "start_time": "2022-11-18T17:46:14.455Z"
   },
   {
    "duration": 7,
    "start_time": "2022-11-18T17:47:32.972Z"
   },
   {
    "duration": 9,
    "start_time": "2022-11-18T17:48:55.977Z"
   },
   {
    "duration": 20,
    "start_time": "2022-11-18T17:52:07.312Z"
   },
   {
    "duration": 4,
    "start_time": "2022-11-18T17:52:09.588Z"
   },
   {
    "duration": 18,
    "start_time": "2022-11-18T17:52:23.052Z"
   },
   {
    "duration": 30,
    "start_time": "2022-11-18T17:52:53.149Z"
   },
   {
    "duration": 19,
    "start_time": "2022-11-18T17:52:56.163Z"
   },
   {
    "duration": 14,
    "start_time": "2022-11-18T17:52:57.965Z"
   },
   {
    "duration": 7,
    "start_time": "2022-11-18T17:53:41.788Z"
   },
   {
    "duration": 10,
    "start_time": "2022-11-18T17:54:24.001Z"
   },
   {
    "duration": 11,
    "start_time": "2022-11-18T17:54:46.933Z"
   },
   {
    "duration": 9,
    "start_time": "2022-11-18T17:55:11.879Z"
   },
   {
    "duration": 3,
    "start_time": "2022-11-18T17:55:36.868Z"
   },
   {
    "duration": 12,
    "start_time": "2022-11-18T17:55:43.095Z"
   },
   {
    "duration": 8,
    "start_time": "2022-11-18T17:55:47.743Z"
   },
   {
    "duration": 9,
    "start_time": "2022-11-18T17:55:48.999Z"
   },
   {
    "duration": 5,
    "start_time": "2022-11-18T17:55:49.693Z"
   },
   {
    "duration": 16,
    "start_time": "2022-11-18T17:55:52.912Z"
   },
   {
    "duration": 7,
    "start_time": "2022-11-18T17:55:57.851Z"
   },
   {
    "duration": 13,
    "start_time": "2022-11-18T17:56:11.635Z"
   },
   {
    "duration": 16,
    "start_time": "2022-11-18T17:56:15.562Z"
   },
   {
    "duration": 4,
    "start_time": "2022-11-18T17:56:56.662Z"
   },
   {
    "duration": 1108,
    "start_time": "2022-11-18T17:57:04.289Z"
   },
   {
    "duration": 750,
    "start_time": "2022-11-18T17:57:05.399Z"
   },
   {
    "duration": 17,
    "start_time": "2022-11-18T17:57:06.151Z"
   },
   {
    "duration": 3,
    "start_time": "2022-11-18T17:57:06.170Z"
   },
   {
    "duration": 103,
    "start_time": "2022-11-18T17:57:06.175Z"
   },
   {
    "duration": 375,
    "start_time": "2022-11-18T17:57:06.280Z"
   },
   {
    "duration": 79,
    "start_time": "2022-11-18T17:57:06.658Z"
   },
   {
    "duration": 14,
    "start_time": "2022-11-18T17:57:06.739Z"
   },
   {
    "duration": 7,
    "start_time": "2022-11-18T17:57:06.755Z"
   },
   {
    "duration": 102,
    "start_time": "2022-11-18T17:57:06.764Z"
   },
   {
    "duration": 4,
    "start_time": "2022-11-18T17:57:06.867Z"
   },
   {
    "duration": 122,
    "start_time": "2022-11-18T17:57:06.873Z"
   },
   {
    "duration": 63,
    "start_time": "2022-11-18T17:57:06.997Z"
   },
   {
    "duration": 87,
    "start_time": "2022-11-18T17:57:07.066Z"
   },
   {
    "duration": 12,
    "start_time": "2022-11-18T17:57:07.155Z"
   },
   {
    "duration": 8,
    "start_time": "2022-11-18T17:57:07.169Z"
   },
   {
    "duration": 12,
    "start_time": "2022-11-18T17:57:07.178Z"
   },
   {
    "duration": 8,
    "start_time": "2022-11-18T17:57:07.192Z"
   },
   {
    "duration": 34,
    "start_time": "2022-11-18T17:57:07.202Z"
   },
   {
    "duration": 16,
    "start_time": "2022-11-18T17:57:07.239Z"
   },
   {
    "duration": 15,
    "start_time": "2022-11-18T17:57:07.257Z"
   },
   {
    "duration": 4,
    "start_time": "2022-11-18T17:57:07.274Z"
   },
   {
    "duration": 58,
    "start_time": "2022-11-18T17:57:07.280Z"
   },
   {
    "duration": 53,
    "start_time": "2022-11-18T17:57:07.342Z"
   },
   {
    "duration": 46,
    "start_time": "2022-11-18T17:57:07.397Z"
   },
   {
    "duration": 20,
    "start_time": "2022-11-18T17:57:07.445Z"
   },
   {
    "duration": 9,
    "start_time": "2022-11-18T17:57:07.467Z"
   },
   {
    "duration": 11,
    "start_time": "2022-11-18T17:57:07.478Z"
   },
   {
    "duration": 22,
    "start_time": "2022-11-18T17:57:07.522Z"
   },
   {
    "duration": 4,
    "start_time": "2022-11-18T17:57:07.547Z"
   },
   {
    "duration": 13,
    "start_time": "2022-11-18T17:57:07.553Z"
   },
   {
    "duration": 9,
    "start_time": "2022-11-18T17:57:07.568Z"
   },
   {
    "duration": 60,
    "start_time": "2022-11-18T17:57:07.579Z"
   },
   {
    "duration": 7,
    "start_time": "2022-11-18T17:57:07.641Z"
   },
   {
    "duration": 14,
    "start_time": "2022-11-18T17:57:07.650Z"
   },
   {
    "duration": 15,
    "start_time": "2022-11-18T17:57:07.666Z"
   },
   {
    "duration": 10,
    "start_time": "2022-11-18T17:57:07.682Z"
   },
   {
    "duration": 49,
    "start_time": "2022-11-18T17:57:07.693Z"
   },
   {
    "duration": 10,
    "start_time": "2022-11-18T17:57:07.744Z"
   },
   {
    "duration": 9,
    "start_time": "2022-11-18T17:57:07.755Z"
   },
   {
    "duration": 6,
    "start_time": "2022-11-18T17:57:07.768Z"
   },
   {
    "duration": 7,
    "start_time": "2022-11-18T17:57:07.775Z"
   },
   {
    "duration": 1034,
    "start_time": "2022-11-18T18:55:12.748Z"
   },
   {
    "duration": 873,
    "start_time": "2022-11-18T18:56:20.878Z"
   },
   {
    "duration": 113,
    "start_time": "2022-11-18T18:57:13.861Z"
   },
   {
    "duration": 110,
    "start_time": "2022-11-18T18:57:52.859Z"
   },
   {
    "duration": 112,
    "start_time": "2022-11-18T18:58:10.237Z"
   },
   {
    "duration": 182,
    "start_time": "2022-11-18T19:02:01.356Z"
   },
   {
    "duration": 10,
    "start_time": "2022-11-18T19:08:20.234Z"
   },
   {
    "duration": 6,
    "start_time": "2022-11-18T19:08:47.233Z"
   },
   {
    "duration": 5,
    "start_time": "2022-11-18T19:11:51.320Z"
   },
   {
    "duration": 5,
    "start_time": "2022-11-18T19:11:54.735Z"
   },
   {
    "duration": 9,
    "start_time": "2022-11-18T19:13:39.436Z"
   },
   {
    "duration": 5,
    "start_time": "2022-11-18T19:14:09.873Z"
   },
   {
    "duration": 13,
    "start_time": "2022-11-18T19:14:19.186Z"
   },
   {
    "duration": 751,
    "start_time": "2022-11-18T19:15:09.234Z"
   },
   {
    "duration": 12,
    "start_time": "2022-11-18T19:15:17.198Z"
   },
   {
    "duration": 13,
    "start_time": "2022-11-18T19:15:42.608Z"
   },
   {
    "duration": 12,
    "start_time": "2022-11-18T19:16:01.654Z"
   },
   {
    "duration": 5,
    "start_time": "2022-11-18T19:16:23.803Z"
   },
   {
    "duration": 6,
    "start_time": "2022-11-18T19:16:37.745Z"
   },
   {
    "duration": 7,
    "start_time": "2022-11-18T19:17:02.886Z"
   },
   {
    "duration": 10,
    "start_time": "2022-11-18T19:17:17.818Z"
   },
   {
    "duration": 16,
    "start_time": "2022-11-18T19:18:05.243Z"
   },
   {
    "duration": 7,
    "start_time": "2022-11-18T19:18:46.964Z"
   },
   {
    "duration": 8,
    "start_time": "2022-11-18T19:18:54.502Z"
   },
   {
    "duration": 1050,
    "start_time": "2022-11-18T19:19:00.908Z"
   },
   {
    "duration": 690,
    "start_time": "2022-11-18T19:19:01.960Z"
   },
   {
    "duration": 13,
    "start_time": "2022-11-18T19:19:02.655Z"
   },
   {
    "duration": 7,
    "start_time": "2022-11-18T19:19:02.669Z"
   },
   {
    "duration": 62,
    "start_time": "2022-11-18T19:19:02.678Z"
   },
   {
    "duration": 270,
    "start_time": "2022-11-18T19:19:02.742Z"
   },
   {
    "duration": 56,
    "start_time": "2022-11-18T19:19:03.013Z"
   },
   {
    "duration": 6,
    "start_time": "2022-11-18T19:19:03.071Z"
   },
   {
    "duration": 10,
    "start_time": "2022-11-18T19:19:03.080Z"
   },
   {
    "duration": 78,
    "start_time": "2022-11-18T19:19:03.092Z"
   },
   {
    "duration": 4,
    "start_time": "2022-11-18T19:19:03.172Z"
   },
   {
    "duration": 107,
    "start_time": "2022-11-18T19:19:03.178Z"
   },
   {
    "duration": 42,
    "start_time": "2022-11-18T19:19:03.287Z"
   },
   {
    "duration": 155,
    "start_time": "2022-11-18T19:19:03.331Z"
   },
   {
    "duration": 8,
    "start_time": "2022-11-18T19:19:03.488Z"
   },
   {
    "duration": 17,
    "start_time": "2022-11-18T19:19:03.498Z"
   },
   {
    "duration": 12,
    "start_time": "2022-11-18T19:19:03.517Z"
   },
   {
    "duration": 8,
    "start_time": "2022-11-18T19:19:03.531Z"
   },
   {
    "duration": 7,
    "start_time": "2022-11-18T19:19:03.540Z"
   },
   {
    "duration": 9,
    "start_time": "2022-11-18T19:19:03.548Z"
   },
   {
    "duration": 11,
    "start_time": "2022-11-18T19:19:03.559Z"
   },
   {
    "duration": 4,
    "start_time": "2022-11-18T19:19:03.572Z"
   },
   {
    "duration": 52,
    "start_time": "2022-11-18T19:19:03.578Z"
   },
   {
    "duration": 30,
    "start_time": "2022-11-18T19:19:03.632Z"
   },
   {
    "duration": 20,
    "start_time": "2022-11-18T19:19:03.664Z"
   },
   {
    "duration": 35,
    "start_time": "2022-11-18T19:19:03.685Z"
   },
   {
    "duration": 11,
    "start_time": "2022-11-18T19:19:03.723Z"
   },
   {
    "duration": 13,
    "start_time": "2022-11-18T19:19:03.736Z"
   },
   {
    "duration": 13,
    "start_time": "2022-11-18T19:19:03.751Z"
   },
   {
    "duration": 4,
    "start_time": "2022-11-18T19:19:03.766Z"
   },
   {
    "duration": 15,
    "start_time": "2022-11-18T19:19:03.772Z"
   },
   {
    "duration": 30,
    "start_time": "2022-11-18T19:19:03.789Z"
   },
   {
    "duration": 8,
    "start_time": "2022-11-18T19:19:03.821Z"
   },
   {
    "duration": 7,
    "start_time": "2022-11-18T19:19:03.830Z"
   },
   {
    "duration": 10,
    "start_time": "2022-11-18T19:19:03.839Z"
   },
   {
    "duration": 6,
    "start_time": "2022-11-18T19:19:03.851Z"
   },
   {
    "duration": 22,
    "start_time": "2022-11-18T19:19:03.858Z"
   },
   {
    "duration": 39,
    "start_time": "2022-11-18T19:19:03.882Z"
   },
   {
    "duration": 15,
    "start_time": "2022-11-18T19:19:03.923Z"
   },
   {
    "duration": 4,
    "start_time": "2022-11-18T19:19:03.939Z"
   },
   {
    "duration": 8,
    "start_time": "2022-11-18T19:19:03.945Z"
   },
   {
    "duration": 124,
    "start_time": "2022-11-18T19:19:03.955Z"
   },
   {
    "duration": 0,
    "start_time": "2022-11-18T19:19:04.081Z"
   },
   {
    "duration": 1,
    "start_time": "2022-11-18T19:19:04.082Z"
   },
   {
    "duration": 0,
    "start_time": "2022-11-18T19:19:04.084Z"
   },
   {
    "duration": 13,
    "start_time": "2022-11-18T19:19:28.468Z"
   },
   {
    "duration": 11,
    "start_time": "2022-11-18T19:19:46.801Z"
   },
   {
    "duration": 5,
    "start_time": "2022-11-18T19:19:52.432Z"
   },
   {
    "duration": 6,
    "start_time": "2022-11-18T19:19:56.182Z"
   },
   {
    "duration": 10,
    "start_time": "2022-11-18T19:20:10.734Z"
   },
   {
    "duration": 14,
    "start_time": "2022-11-18T19:20:59.514Z"
   },
   {
    "duration": 3,
    "start_time": "2022-11-18T19:21:05.601Z"
   },
   {
    "duration": 9,
    "start_time": "2022-11-18T19:21:08.400Z"
   },
   {
    "duration": 6,
    "start_time": "2022-11-18T19:22:39.474Z"
   },
   {
    "duration": 1457,
    "start_time": "2022-11-19T10:45:42.696Z"
   },
   {
    "duration": 955,
    "start_time": "2022-11-19T10:45:44.155Z"
   },
   {
    "duration": 91,
    "start_time": "2022-11-19T10:45:45.112Z"
   },
   {
    "duration": 7,
    "start_time": "2022-11-19T10:52:41.254Z"
   },
   {
    "duration": 7,
    "start_time": "2022-11-19T10:53:12.884Z"
   },
   {
    "duration": 7,
    "start_time": "2022-11-19T10:53:22.252Z"
   },
   {
    "duration": 90,
    "start_time": "2022-11-19T12:19:44.215Z"
   },
   {
    "duration": 15,
    "start_time": "2022-11-19T12:19:51.794Z"
   },
   {
    "duration": 46,
    "start_time": "2022-11-19T12:20:16.825Z"
   },
   {
    "duration": 158,
    "start_time": "2022-11-19T12:21:09.198Z"
   },
   {
    "duration": 41,
    "start_time": "2022-11-19T12:21:27.186Z"
   },
   {
    "duration": 7,
    "start_time": "2022-11-19T12:22:06.513Z"
   },
   {
    "duration": 7,
    "start_time": "2022-11-19T12:22:31.517Z"
   },
   {
    "duration": 42,
    "start_time": "2022-11-19T12:24:00.126Z"
   },
   {
    "duration": 9,
    "start_time": "2022-11-19T12:24:42.112Z"
   },
   {
    "duration": 37,
    "start_time": "2022-11-19T12:24:43.104Z"
   },
   {
    "duration": 4,
    "start_time": "2022-11-19T12:24:43.812Z"
   },
   {
    "duration": 96,
    "start_time": "2022-11-19T12:24:44.670Z"
   },
   {
    "duration": 6,
    "start_time": "2022-11-19T12:24:50.115Z"
   },
   {
    "duration": 34,
    "start_time": "2022-11-19T12:25:09.118Z"
   },
   {
    "duration": 6,
    "start_time": "2022-11-19T12:28:36.590Z"
   },
   {
    "duration": 9,
    "start_time": "2022-11-19T12:29:40.898Z"
   },
   {
    "duration": 3,
    "start_time": "2022-11-19T12:29:48.618Z"
   },
   {
    "duration": 6,
    "start_time": "2022-11-19T12:30:19.006Z"
   },
   {
    "duration": 6,
    "start_time": "2022-11-19T12:30:23.118Z"
   },
   {
    "duration": 8,
    "start_time": "2022-11-19T12:30:32.499Z"
   },
   {
    "duration": 10,
    "start_time": "2022-11-19T12:31:39.484Z"
   },
   {
    "duration": 3,
    "start_time": "2022-11-19T12:31:48.567Z"
   },
   {
    "duration": 8,
    "start_time": "2022-11-19T12:31:52.175Z"
   },
   {
    "duration": 7,
    "start_time": "2022-11-19T12:31:53.477Z"
   },
   {
    "duration": 17,
    "start_time": "2022-11-19T12:32:05.309Z"
   },
   {
    "duration": 3,
    "start_time": "2022-11-19T12:33:29.446Z"
   },
   {
    "duration": 3,
    "start_time": "2022-11-19T12:33:49.577Z"
   },
   {
    "duration": 3,
    "start_time": "2022-11-19T12:34:04.354Z"
   },
   {
    "duration": 3,
    "start_time": "2022-11-19T12:34:27.654Z"
   },
   {
    "duration": 5,
    "start_time": "2022-11-19T12:35:54.823Z"
   },
   {
    "duration": 10,
    "start_time": "2022-11-19T12:36:06.184Z"
   },
   {
    "duration": 4,
    "start_time": "2022-11-19T12:36:12.852Z"
   },
   {
    "duration": 5,
    "start_time": "2022-11-19T12:36:16.094Z"
   },
   {
    "duration": 17,
    "start_time": "2022-11-19T12:36:25.506Z"
   },
   {
    "duration": 982,
    "start_time": "2022-11-19T12:37:12.420Z"
   },
   {
    "duration": 646,
    "start_time": "2022-11-19T12:37:13.404Z"
   },
   {
    "duration": 11,
    "start_time": "2022-11-19T12:37:14.052Z"
   },
   {
    "duration": 9,
    "start_time": "2022-11-19T12:37:14.064Z"
   },
   {
    "duration": 61,
    "start_time": "2022-11-19T12:37:14.075Z"
   },
   {
    "duration": 93,
    "start_time": "2022-11-19T12:37:14.137Z"
   },
   {
    "duration": 167,
    "start_time": "2022-11-19T12:37:14.231Z"
   },
   {
    "duration": 6,
    "start_time": "2022-11-19T12:37:14.400Z"
   },
   {
    "duration": 44,
    "start_time": "2022-11-19T12:37:14.407Z"
   },
   {
    "duration": 0,
    "start_time": "2022-11-19T12:37:14.454Z"
   },
   {
    "duration": 0,
    "start_time": "2022-11-19T12:37:14.455Z"
   },
   {
    "duration": 0,
    "start_time": "2022-11-19T12:37:14.457Z"
   },
   {
    "duration": 0,
    "start_time": "2022-11-19T12:37:14.458Z"
   },
   {
    "duration": 0,
    "start_time": "2022-11-19T12:37:14.459Z"
   },
   {
    "duration": 0,
    "start_time": "2022-11-19T12:37:14.460Z"
   },
   {
    "duration": 0,
    "start_time": "2022-11-19T12:37:14.461Z"
   },
   {
    "duration": 0,
    "start_time": "2022-11-19T12:37:14.462Z"
   },
   {
    "duration": 0,
    "start_time": "2022-11-19T12:37:14.463Z"
   },
   {
    "duration": 0,
    "start_time": "2022-11-19T12:37:14.465Z"
   },
   {
    "duration": 0,
    "start_time": "2022-11-19T12:37:14.466Z"
   },
   {
    "duration": 0,
    "start_time": "2022-11-19T12:37:14.467Z"
   },
   {
    "duration": 0,
    "start_time": "2022-11-19T12:37:14.469Z"
   },
   {
    "duration": 0,
    "start_time": "2022-11-19T12:37:14.470Z"
   },
   {
    "duration": 0,
    "start_time": "2022-11-19T12:37:14.471Z"
   },
   {
    "duration": 0,
    "start_time": "2022-11-19T12:37:14.472Z"
   },
   {
    "duration": 0,
    "start_time": "2022-11-19T12:37:14.473Z"
   },
   {
    "duration": 0,
    "start_time": "2022-11-19T12:37:14.475Z"
   },
   {
    "duration": 0,
    "start_time": "2022-11-19T12:37:14.476Z"
   },
   {
    "duration": 0,
    "start_time": "2022-11-19T12:37:14.478Z"
   },
   {
    "duration": 0,
    "start_time": "2022-11-19T12:37:14.479Z"
   },
   {
    "duration": 0,
    "start_time": "2022-11-19T12:37:14.497Z"
   },
   {
    "duration": 0,
    "start_time": "2022-11-19T12:37:14.498Z"
   },
   {
    "duration": 0,
    "start_time": "2022-11-19T12:37:14.500Z"
   },
   {
    "duration": 0,
    "start_time": "2022-11-19T12:37:14.501Z"
   },
   {
    "duration": 0,
    "start_time": "2022-11-19T12:37:14.503Z"
   },
   {
    "duration": 0,
    "start_time": "2022-11-19T12:37:14.504Z"
   },
   {
    "duration": 0,
    "start_time": "2022-11-19T12:37:14.505Z"
   },
   {
    "duration": 0,
    "start_time": "2022-11-19T12:37:14.507Z"
   },
   {
    "duration": 0,
    "start_time": "2022-11-19T12:37:14.508Z"
   },
   {
    "duration": 0,
    "start_time": "2022-11-19T12:37:14.509Z"
   },
   {
    "duration": 0,
    "start_time": "2022-11-19T12:37:14.511Z"
   },
   {
    "duration": 0,
    "start_time": "2022-11-19T12:37:14.512Z"
   },
   {
    "duration": 0,
    "start_time": "2022-11-19T12:37:14.513Z"
   },
   {
    "duration": 0,
    "start_time": "2022-11-19T12:37:14.515Z"
   },
   {
    "duration": 0,
    "start_time": "2022-11-19T12:37:14.516Z"
   },
   {
    "duration": 0,
    "start_time": "2022-11-19T12:37:14.517Z"
   },
   {
    "duration": 1031,
    "start_time": "2022-11-19T12:37:39.194Z"
   },
   {
    "duration": 631,
    "start_time": "2022-11-19T12:37:40.227Z"
   },
   {
    "duration": 11,
    "start_time": "2022-11-19T12:37:40.859Z"
   },
   {
    "duration": 10,
    "start_time": "2022-11-19T12:37:40.871Z"
   },
   {
    "duration": 64,
    "start_time": "2022-11-19T12:37:40.883Z"
   },
   {
    "duration": 92,
    "start_time": "2022-11-19T12:37:40.948Z"
   },
   {
    "duration": 177,
    "start_time": "2022-11-19T12:37:41.042Z"
   },
   {
    "duration": 6,
    "start_time": "2022-11-19T12:37:41.221Z"
   },
   {
    "duration": 48,
    "start_time": "2022-11-19T12:37:41.229Z"
   },
   {
    "duration": 0,
    "start_time": "2022-11-19T12:37:41.279Z"
   },
   {
    "duration": 0,
    "start_time": "2022-11-19T12:37:41.280Z"
   },
   {
    "duration": 0,
    "start_time": "2022-11-19T12:37:41.281Z"
   },
   {
    "duration": 0,
    "start_time": "2022-11-19T12:37:41.282Z"
   },
   {
    "duration": 0,
    "start_time": "2022-11-19T12:37:41.283Z"
   },
   {
    "duration": 0,
    "start_time": "2022-11-19T12:37:41.285Z"
   },
   {
    "duration": 0,
    "start_time": "2022-11-19T12:37:41.286Z"
   },
   {
    "duration": 0,
    "start_time": "2022-11-19T12:37:41.287Z"
   },
   {
    "duration": 0,
    "start_time": "2022-11-19T12:37:41.288Z"
   },
   {
    "duration": 0,
    "start_time": "2022-11-19T12:37:41.289Z"
   },
   {
    "duration": 0,
    "start_time": "2022-11-19T12:37:41.290Z"
   },
   {
    "duration": 0,
    "start_time": "2022-11-19T12:37:41.291Z"
   },
   {
    "duration": 0,
    "start_time": "2022-11-19T12:37:41.292Z"
   },
   {
    "duration": 0,
    "start_time": "2022-11-19T12:37:41.294Z"
   },
   {
    "duration": 0,
    "start_time": "2022-11-19T12:37:41.296Z"
   },
   {
    "duration": 0,
    "start_time": "2022-11-19T12:37:41.297Z"
   },
   {
    "duration": 0,
    "start_time": "2022-11-19T12:37:41.298Z"
   },
   {
    "duration": 0,
    "start_time": "2022-11-19T12:37:41.299Z"
   },
   {
    "duration": 0,
    "start_time": "2022-11-19T12:37:41.300Z"
   },
   {
    "duration": 0,
    "start_time": "2022-11-19T12:37:41.301Z"
   },
   {
    "duration": 0,
    "start_time": "2022-11-19T12:37:41.302Z"
   },
   {
    "duration": 0,
    "start_time": "2022-11-19T12:37:41.303Z"
   },
   {
    "duration": 0,
    "start_time": "2022-11-19T12:37:41.304Z"
   },
   {
    "duration": 0,
    "start_time": "2022-11-19T12:37:41.305Z"
   },
   {
    "duration": 0,
    "start_time": "2022-11-19T12:37:41.306Z"
   },
   {
    "duration": 0,
    "start_time": "2022-11-19T12:37:41.307Z"
   },
   {
    "duration": 0,
    "start_time": "2022-11-19T12:37:41.308Z"
   },
   {
    "duration": 0,
    "start_time": "2022-11-19T12:37:41.309Z"
   },
   {
    "duration": 0,
    "start_time": "2022-11-19T12:37:41.310Z"
   },
   {
    "duration": 0,
    "start_time": "2022-11-19T12:37:41.311Z"
   },
   {
    "duration": 0,
    "start_time": "2022-11-19T12:37:41.312Z"
   },
   {
    "duration": 0,
    "start_time": "2022-11-19T12:37:41.313Z"
   },
   {
    "duration": 0,
    "start_time": "2022-11-19T12:37:41.314Z"
   },
   {
    "duration": 0,
    "start_time": "2022-11-19T12:37:41.315Z"
   },
   {
    "duration": 0,
    "start_time": "2022-11-19T12:37:41.316Z"
   },
   {
    "duration": 0,
    "start_time": "2022-11-19T12:37:41.317Z"
   },
   {
    "duration": 0,
    "start_time": "2022-11-19T12:37:41.318Z"
   },
   {
    "duration": 38,
    "start_time": "2022-11-19T12:38:10.804Z"
   },
   {
    "duration": 9,
    "start_time": "2022-11-19T12:38:11.544Z"
   },
   {
    "duration": 40,
    "start_time": "2022-11-19T12:38:12.298Z"
   },
   {
    "duration": 4,
    "start_time": "2022-11-19T12:38:13.002Z"
   },
   {
    "duration": 76,
    "start_time": "2022-11-19T12:38:13.544Z"
   },
   {
    "duration": 5,
    "start_time": "2022-11-19T12:38:14.490Z"
   },
   {
    "duration": 34,
    "start_time": "2022-11-19T12:38:23.082Z"
   },
   {
    "duration": 7,
    "start_time": "2022-11-19T12:38:38.127Z"
   },
   {
    "duration": 9,
    "start_time": "2022-11-19T12:38:59.386Z"
   },
   {
    "duration": 4,
    "start_time": "2022-11-19T12:39:05.926Z"
   },
   {
    "duration": 10,
    "start_time": "2022-11-19T12:39:07.281Z"
   },
   {
    "duration": 4,
    "start_time": "2022-11-19T12:39:17.508Z"
   },
   {
    "duration": 5,
    "start_time": "2022-11-19T12:39:18.220Z"
   },
   {
    "duration": 9,
    "start_time": "2022-11-19T12:39:19.885Z"
   },
   {
    "duration": 10,
    "start_time": "2022-11-19T12:39:26.600Z"
   },
   {
    "duration": 3,
    "start_time": "2022-11-19T12:39:35.898Z"
   },
   {
    "duration": 7,
    "start_time": "2022-11-19T12:39:40.032Z"
   },
   {
    "duration": 6,
    "start_time": "2022-11-19T12:39:42.043Z"
   },
   {
    "duration": 16,
    "start_time": "2022-11-19T12:39:50.732Z"
   },
   {
    "duration": 27,
    "start_time": "2022-11-19T12:39:51.739Z"
   },
   {
    "duration": 18,
    "start_time": "2022-11-19T12:39:52.598Z"
   },
   {
    "duration": 14,
    "start_time": "2022-11-19T12:39:53.230Z"
   },
   {
    "duration": 7,
    "start_time": "2022-11-19T12:40:02.175Z"
   },
   {
    "duration": 8,
    "start_time": "2022-11-19T12:40:05.818Z"
   },
   {
    "duration": 9,
    "start_time": "2022-11-19T12:40:18.933Z"
   },
   {
    "duration": 3,
    "start_time": "2022-11-19T12:40:30.775Z"
   },
   {
    "duration": 11,
    "start_time": "2022-11-19T12:40:31.780Z"
   },
   {
    "duration": 10,
    "start_time": "2022-11-19T12:40:39.272Z"
   },
   {
    "duration": 8,
    "start_time": "2022-11-19T12:40:40.406Z"
   },
   {
    "duration": 5,
    "start_time": "2022-11-19T12:40:53.485Z"
   },
   {
    "duration": 5,
    "start_time": "2022-11-19T12:41:17.531Z"
   },
   {
    "duration": 7,
    "start_time": "2022-11-19T12:42:32.487Z"
   },
   {
    "duration": 8,
    "start_time": "2022-11-19T12:45:41.983Z"
   },
   {
    "duration": 7,
    "start_time": "2022-11-19T12:46:12.015Z"
   },
   {
    "duration": 6,
    "start_time": "2022-11-19T12:47:27.235Z"
   },
   {
    "duration": 6,
    "start_time": "2022-11-19T12:47:48.192Z"
   },
   {
    "duration": 48,
    "start_time": "2022-11-19T12:48:04.254Z"
   },
   {
    "duration": 47,
    "start_time": "2022-11-19T12:48:14.037Z"
   },
   {
    "duration": 6,
    "start_time": "2022-11-19T12:48:17.837Z"
   },
   {
    "duration": 39,
    "start_time": "2022-11-19T12:48:36.786Z"
   },
   {
    "duration": 51,
    "start_time": "2022-11-19T12:49:16.197Z"
   },
   {
    "duration": 6,
    "start_time": "2022-11-19T12:49:20.637Z"
   },
   {
    "duration": 8,
    "start_time": "2022-11-19T12:50:08.295Z"
   },
   {
    "duration": 1028,
    "start_time": "2022-11-19T12:50:39.242Z"
   },
   {
    "duration": 626,
    "start_time": "2022-11-19T12:50:40.272Z"
   },
   {
    "duration": 12,
    "start_time": "2022-11-19T12:50:40.899Z"
   },
   {
    "duration": 6,
    "start_time": "2022-11-19T12:50:40.913Z"
   },
   {
    "duration": 60,
    "start_time": "2022-11-19T12:50:40.921Z"
   },
   {
    "duration": 116,
    "start_time": "2022-11-19T12:50:40.983Z"
   },
   {
    "duration": 181,
    "start_time": "2022-11-19T12:50:41.101Z"
   },
   {
    "duration": 6,
    "start_time": "2022-11-19T12:50:41.284Z"
   },
   {
    "duration": 38,
    "start_time": "2022-11-19T12:50:41.297Z"
   },
   {
    "duration": 8,
    "start_time": "2022-11-19T12:50:41.338Z"
   },
   {
    "duration": 53,
    "start_time": "2022-11-19T12:50:41.347Z"
   },
   {
    "duration": 3,
    "start_time": "2022-11-19T12:50:41.402Z"
   },
   {
    "duration": 78,
    "start_time": "2022-11-19T12:50:41.406Z"
   },
   {
    "duration": 13,
    "start_time": "2022-11-19T12:50:41.486Z"
   },
   {
    "duration": 38,
    "start_time": "2022-11-19T12:50:41.500Z"
   },
   {
    "duration": 9,
    "start_time": "2022-11-19T12:50:41.539Z"
   },
   {
    "duration": 10,
    "start_time": "2022-11-19T12:50:41.549Z"
   },
   {
    "duration": 5,
    "start_time": "2022-11-19T12:50:41.560Z"
   },
   {
    "duration": 32,
    "start_time": "2022-11-19T12:50:41.566Z"
   },
   {
    "duration": 4,
    "start_time": "2022-11-19T12:50:41.599Z"
   },
   {
    "duration": 11,
    "start_time": "2022-11-19T12:50:41.605Z"
   },
   {
    "duration": 14,
    "start_time": "2022-11-19T12:50:41.617Z"
   },
   {
    "duration": 14,
    "start_time": "2022-11-19T12:50:41.632Z"
   },
   {
    "duration": 8,
    "start_time": "2022-11-19T12:50:41.647Z"
   },
   {
    "duration": 9,
    "start_time": "2022-11-19T12:50:41.656Z"
   },
   {
    "duration": 10,
    "start_time": "2022-11-19T12:50:41.666Z"
   },
   {
    "duration": 28,
    "start_time": "2022-11-19T12:50:41.677Z"
   },
   {
    "duration": 28,
    "start_time": "2022-11-19T12:50:41.707Z"
   },
   {
    "duration": 16,
    "start_time": "2022-11-19T12:50:41.736Z"
   },
   {
    "duration": 13,
    "start_time": "2022-11-19T12:50:41.753Z"
   },
   {
    "duration": 32,
    "start_time": "2022-11-19T12:50:41.767Z"
   },
   {
    "duration": 8,
    "start_time": "2022-11-19T12:50:41.801Z"
   },
   {
    "duration": 10,
    "start_time": "2022-11-19T12:50:41.811Z"
   },
   {
    "duration": 5,
    "start_time": "2022-11-19T12:50:41.823Z"
   },
   {
    "duration": 13,
    "start_time": "2022-11-19T12:50:41.829Z"
   },
   {
    "duration": 11,
    "start_time": "2022-11-19T12:50:41.844Z"
   },
   {
    "duration": 6,
    "start_time": "2022-11-19T12:50:41.856Z"
   },
   {
    "duration": 6,
    "start_time": "2022-11-19T12:50:41.864Z"
   },
   {
    "duration": 32,
    "start_time": "2022-11-19T12:50:41.871Z"
   },
   {
    "duration": 9,
    "start_time": "2022-11-19T12:50:41.904Z"
   },
   {
    "duration": 7,
    "start_time": "2022-11-19T12:50:41.915Z"
   },
   {
    "duration": 110,
    "start_time": "2022-11-19T12:50:41.923Z"
   },
   {
    "duration": 0,
    "start_time": "2022-11-19T12:50:42.034Z"
   },
   {
    "duration": 0,
    "start_time": "2022-11-19T12:50:42.035Z"
   },
   {
    "duration": 0,
    "start_time": "2022-11-19T12:50:42.037Z"
   },
   {
    "duration": 0,
    "start_time": "2022-11-19T12:50:42.038Z"
   },
   {
    "duration": 0,
    "start_time": "2022-11-19T12:50:42.039Z"
   },
   {
    "duration": 0,
    "start_time": "2022-11-19T12:50:42.039Z"
   },
   {
    "duration": 9,
    "start_time": "2022-11-19T12:51:26.118Z"
   },
   {
    "duration": 12,
    "start_time": "2022-11-19T12:52:22.773Z"
   },
   {
    "duration": 11,
    "start_time": "2022-11-19T12:52:50.360Z"
   },
   {
    "duration": 5,
    "start_time": "2022-11-19T12:53:25.751Z"
   },
   {
    "duration": 7,
    "start_time": "2022-11-19T12:53:32.043Z"
   },
   {
    "duration": 6,
    "start_time": "2022-11-19T12:53:36.225Z"
   },
   {
    "duration": 13,
    "start_time": "2022-11-19T12:58:16.468Z"
   },
   {
    "duration": 3,
    "start_time": "2022-11-19T12:58:33.805Z"
   },
   {
    "duration": 10,
    "start_time": "2022-11-19T12:58:34.876Z"
   },
   {
    "duration": 6,
    "start_time": "2022-11-19T12:58:44.767Z"
   },
   {
    "duration": 3,
    "start_time": "2022-11-19T12:59:08.151Z"
   },
   {
    "duration": 579,
    "start_time": "2022-11-19T12:59:08.600Z"
   },
   {
    "duration": 9,
    "start_time": "2022-11-19T12:59:17.471Z"
   },
   {
    "duration": 4,
    "start_time": "2022-11-19T12:59:18.199Z"
   },
   {
    "duration": 57,
    "start_time": "2022-11-19T12:59:18.889Z"
   },
   {
    "duration": 92,
    "start_time": "2022-11-19T12:59:20.282Z"
   },
   {
    "duration": 158,
    "start_time": "2022-11-19T12:59:21.324Z"
   },
   {
    "duration": 7,
    "start_time": "2022-11-19T12:59:22.371Z"
   },
   {
    "duration": 39,
    "start_time": "2022-11-19T12:59:23.445Z"
   },
   {
    "duration": 5,
    "start_time": "2022-11-19T12:59:24.691Z"
   },
   {
    "duration": 37,
    "start_time": "2022-11-19T12:59:25.119Z"
   },
   {
    "duration": 3,
    "start_time": "2022-11-19T12:59:25.781Z"
   },
   {
    "duration": 71,
    "start_time": "2022-11-19T12:59:26.271Z"
   },
   {
    "duration": 6,
    "start_time": "2022-11-19T12:59:26.909Z"
   },
   {
    "duration": 44,
    "start_time": "2022-11-19T12:59:28.209Z"
   },
   {
    "duration": 6,
    "start_time": "2022-11-19T12:59:29.588Z"
   },
   {
    "duration": 8,
    "start_time": "2022-11-19T12:59:33.693Z"
   },
   {
    "duration": 3,
    "start_time": "2022-11-19T12:59:34.596Z"
   },
   {
    "duration": 8,
    "start_time": "2022-11-19T12:59:35.311Z"
   },
   {
    "duration": 6,
    "start_time": "2022-11-19T12:59:36.016Z"
   },
   {
    "duration": 5,
    "start_time": "2022-11-19T12:59:36.743Z"
   },
   {
    "duration": 9,
    "start_time": "2022-11-19T12:59:38.523Z"
   },
   {
    "duration": 10,
    "start_time": "2022-11-19T12:59:40.650Z"
   },
   {
    "duration": 3,
    "start_time": "2022-11-19T12:59:41.251Z"
   },
   {
    "duration": 7,
    "start_time": "2022-11-19T12:59:46.467Z"
   },
   {
    "duration": 7,
    "start_time": "2022-11-19T12:59:47.001Z"
   },
   {
    "duration": 17,
    "start_time": "2022-11-19T12:59:48.512Z"
   },
   {
    "duration": 31,
    "start_time": "2022-11-19T12:59:49.136Z"
   },
   {
    "duration": 18,
    "start_time": "2022-11-19T12:59:50.267Z"
   },
   {
    "duration": 14,
    "start_time": "2022-11-19T12:59:52.569Z"
   },
   {
    "duration": 7,
    "start_time": "2022-11-19T12:59:54.578Z"
   },
   {
    "duration": 9,
    "start_time": "2022-11-19T12:59:55.052Z"
   },
   {
    "duration": 8,
    "start_time": "2022-11-19T12:59:59.337Z"
   },
   {
    "duration": 4,
    "start_time": "2022-11-19T13:00:02.367Z"
   },
   {
    "duration": 12,
    "start_time": "2022-11-19T13:00:05.284Z"
   },
   {
    "duration": 9,
    "start_time": "2022-11-19T13:00:06.095Z"
   },
   {
    "duration": 7,
    "start_time": "2022-11-19T13:00:08.403Z"
   },
   {
    "duration": 5,
    "start_time": "2022-11-19T13:00:10.283Z"
   },
   {
    "duration": 7,
    "start_time": "2022-11-19T13:00:13.204Z"
   },
   {
    "duration": 7,
    "start_time": "2022-11-19T13:00:14.126Z"
   },
   {
    "duration": 11,
    "start_time": "2022-11-19T13:00:21.500Z"
   },
   {
    "duration": 6,
    "start_time": "2022-11-19T13:00:30.663Z"
   },
   {
    "duration": 6,
    "start_time": "2022-11-19T13:00:36.232Z"
   },
   {
    "duration": 12,
    "start_time": "2022-11-19T13:00:40.905Z"
   },
   {
    "duration": 37,
    "start_time": "2022-11-19T13:03:57.700Z"
   },
   {
    "duration": 8,
    "start_time": "2022-11-19T13:04:52.095Z"
   },
   {
    "duration": 7,
    "start_time": "2022-11-19T13:06:32.268Z"
   },
   {
    "duration": 3,
    "start_time": "2022-11-19T13:06:37.598Z"
   },
   {
    "duration": 8,
    "start_time": "2022-11-19T13:06:45.056Z"
   },
   {
    "duration": 3,
    "start_time": "2022-11-19T13:06:49.835Z"
   },
   {
    "duration": 8,
    "start_time": "2022-11-19T13:06:58.754Z"
   },
   {
    "duration": 3,
    "start_time": "2022-11-19T13:07:00.824Z"
   },
   {
    "duration": 8,
    "start_time": "2022-11-19T13:10:17.280Z"
   },
   {
    "duration": 6,
    "start_time": "2022-11-19T13:10:55.172Z"
   },
   {
    "duration": 787,
    "start_time": "2022-11-19T13:13:06.627Z"
   },
   {
    "duration": 7,
    "start_time": "2022-11-19T13:13:37.976Z"
   },
   {
    "duration": 22,
    "start_time": "2022-11-19T13:14:52.634Z"
   },
   {
    "duration": 4,
    "start_time": "2022-11-19T13:16:21.556Z"
   },
   {
    "duration": 28,
    "start_time": "2022-11-19T13:25:44.915Z"
   },
   {
    "duration": 46,
    "start_time": "2022-11-19T13:31:52.323Z"
   },
   {
    "duration": 9,
    "start_time": "2022-11-19T13:31:58.861Z"
   },
   {
    "duration": 13,
    "start_time": "2022-11-19T13:32:19.798Z"
   },
   {
    "duration": 8,
    "start_time": "2022-11-19T13:34:04.027Z"
   },
   {
    "duration": 49,
    "start_time": "2022-11-19T13:44:40.910Z"
   },
   {
    "duration": 42,
    "start_time": "2022-11-19T13:44:50.214Z"
   },
   {
    "duration": 768,
    "start_time": "2022-11-19T13:45:07.137Z"
   },
   {
    "duration": 13,
    "start_time": "2022-11-19T13:46:35.091Z"
   },
   {
    "duration": 15,
    "start_time": "2022-11-19T13:48:20.147Z"
   },
   {
    "duration": 12,
    "start_time": "2022-11-19T13:48:30.922Z"
   },
   {
    "duration": 15,
    "start_time": "2022-11-19T13:48:38.164Z"
   },
   {
    "duration": 14,
    "start_time": "2022-11-19T13:49:04.984Z"
   },
   {
    "duration": 7,
    "start_time": "2022-11-19T13:50:18.920Z"
   },
   {
    "duration": 6,
    "start_time": "2022-11-19T13:50:26.124Z"
   },
   {
    "duration": 21,
    "start_time": "2022-11-19T13:50:29.077Z"
   },
   {
    "duration": 5,
    "start_time": "2022-11-19T13:50:52.804Z"
   },
   {
    "duration": 1031,
    "start_time": "2022-11-19T14:48:53.235Z"
   },
   {
    "duration": 741,
    "start_time": "2022-11-19T14:48:54.267Z"
   },
   {
    "duration": 11,
    "start_time": "2022-11-19T14:48:55.010Z"
   },
   {
    "duration": 4,
    "start_time": "2022-11-19T14:48:55.023Z"
   },
   {
    "duration": 78,
    "start_time": "2022-11-19T14:48:55.029Z"
   },
   {
    "duration": 106,
    "start_time": "2022-11-19T14:48:55.109Z"
   },
   {
    "duration": 169,
    "start_time": "2022-11-19T14:48:55.216Z"
   },
   {
    "duration": 13,
    "start_time": "2022-11-19T14:48:55.387Z"
   },
   {
    "duration": 38,
    "start_time": "2022-11-19T14:48:55.402Z"
   },
   {
    "duration": 8,
    "start_time": "2022-11-19T14:48:55.442Z"
   },
   {
    "duration": 54,
    "start_time": "2022-11-19T14:48:55.452Z"
   },
   {
    "duration": 3,
    "start_time": "2022-11-19T14:48:55.507Z"
   },
   {
    "duration": 96,
    "start_time": "2022-11-19T14:48:55.512Z"
   },
   {
    "duration": 6,
    "start_time": "2022-11-19T14:48:55.609Z"
   },
   {
    "duration": 49,
    "start_time": "2022-11-19T14:48:55.617Z"
   },
   {
    "duration": 13,
    "start_time": "2022-11-19T14:48:55.668Z"
   },
   {
    "duration": 22,
    "start_time": "2022-11-19T14:48:55.683Z"
   },
   {
    "duration": 6,
    "start_time": "2022-11-19T14:48:55.706Z"
   },
   {
    "duration": 13,
    "start_time": "2022-11-19T14:48:55.713Z"
   },
   {
    "duration": 6,
    "start_time": "2022-11-19T14:48:55.728Z"
   },
   {
    "duration": 11,
    "start_time": "2022-11-19T14:48:55.736Z"
   },
   {
    "duration": 20,
    "start_time": "2022-11-19T14:48:55.748Z"
   },
   {
    "duration": 12,
    "start_time": "2022-11-19T14:48:55.769Z"
   },
   {
    "duration": 3,
    "start_time": "2022-11-19T14:48:55.798Z"
   },
   {
    "duration": 9,
    "start_time": "2022-11-19T14:48:55.803Z"
   },
   {
    "duration": 9,
    "start_time": "2022-11-19T14:48:55.814Z"
   },
   {
    "duration": 17,
    "start_time": "2022-11-19T14:48:55.824Z"
   },
   {
    "duration": 55,
    "start_time": "2022-11-19T14:48:55.844Z"
   },
   {
    "duration": 20,
    "start_time": "2022-11-19T14:48:55.900Z"
   },
   {
    "duration": 40,
    "start_time": "2022-11-19T14:48:55.921Z"
   },
   {
    "duration": 35,
    "start_time": "2022-11-19T14:48:55.963Z"
   },
   {
    "duration": 16,
    "start_time": "2022-11-19T14:48:56.000Z"
   },
   {
    "duration": 8,
    "start_time": "2022-11-19T14:48:56.018Z"
   },
   {
    "duration": 13,
    "start_time": "2022-11-19T14:48:56.027Z"
   },
   {
    "duration": 10,
    "start_time": "2022-11-19T14:48:56.041Z"
   },
   {
    "duration": 5,
    "start_time": "2022-11-19T14:48:56.053Z"
   },
   {
    "duration": 39,
    "start_time": "2022-11-19T14:48:56.059Z"
   },
   {
    "duration": 31,
    "start_time": "2022-11-19T14:48:56.100Z"
   },
   {
    "duration": 10,
    "start_time": "2022-11-19T14:48:56.132Z"
   },
   {
    "duration": 11,
    "start_time": "2022-11-19T14:48:56.144Z"
   },
   {
    "duration": 10,
    "start_time": "2022-11-19T14:48:56.157Z"
   },
   {
    "duration": 11,
    "start_time": "2022-11-19T14:48:56.169Z"
   },
   {
    "duration": 13,
    "start_time": "2022-11-19T14:48:56.181Z"
   },
   {
    "duration": 5,
    "start_time": "2022-11-19T14:48:56.195Z"
   },
   {
    "duration": 9,
    "start_time": "2022-11-19T14:48:56.201Z"
   },
   {
    "duration": 15,
    "start_time": "2022-11-19T14:48:56.211Z"
   },
   {
    "duration": 4,
    "start_time": "2022-11-19T14:48:56.227Z"
   },
   {
    "duration": 7,
    "start_time": "2022-11-19T14:48:56.232Z"
   },
   {
    "duration": 7,
    "start_time": "2022-11-19T14:48:56.241Z"
   },
   {
    "duration": 20,
    "start_time": "2022-11-19T14:48:56.250Z"
   },
   {
    "duration": 28,
    "start_time": "2022-11-19T14:48:56.272Z"
   },
   {
    "duration": 9,
    "start_time": "2022-11-19T14:48:56.301Z"
   },
   {
    "duration": 6,
    "start_time": "2022-11-19T14:48:56.312Z"
   },
   {
    "duration": 12,
    "start_time": "2022-11-19T14:48:56.319Z"
   },
   {
    "duration": 6,
    "start_time": "2022-11-19T14:48:56.333Z"
   },
   {
    "duration": 41,
    "start_time": "2022-11-19T14:48:56.341Z"
   },
   {
    "duration": 9,
    "start_time": "2022-11-19T14:53:12.201Z"
   },
   {
    "duration": 5,
    "start_time": "2022-11-19T14:53:13.633Z"
   },
   {
    "duration": 12,
    "start_time": "2022-11-19T14:53:17.997Z"
   },
   {
    "duration": 4,
    "start_time": "2022-11-19T14:53:19.827Z"
   },
   {
    "duration": 9,
    "start_time": "2022-11-19T14:57:43.602Z"
   },
   {
    "duration": 8,
    "start_time": "2022-11-19T15:03:27.759Z"
   },
   {
    "duration": 24,
    "start_time": "2022-11-19T15:04:24.676Z"
   },
   {
    "duration": 91,
    "start_time": "2022-11-19T15:05:20.172Z"
   },
   {
    "duration": 7,
    "start_time": "2022-11-19T15:05:47.109Z"
   },
   {
    "duration": 958,
    "start_time": "2022-11-19T15:22:18.731Z"
   },
   {
    "duration": 620,
    "start_time": "2022-11-19T15:22:20.471Z"
   },
   {
    "duration": 18,
    "start_time": "2022-11-19T15:22:24.628Z"
   },
   {
    "duration": 4,
    "start_time": "2022-11-19T15:22:28.501Z"
   },
   {
    "duration": 71,
    "start_time": "2022-11-19T15:22:33.318Z"
   },
   {
    "duration": 95,
    "start_time": "2022-11-19T15:22:34.784Z"
   },
   {
    "duration": 11,
    "start_time": "2022-11-19T15:22:47.634Z"
   },
   {
    "duration": 167,
    "start_time": "2022-11-19T15:22:49.692Z"
   },
   {
    "duration": 8,
    "start_time": "2022-11-19T15:22:53.526Z"
   },
   {
    "duration": 41,
    "start_time": "2022-11-19T15:22:56.799Z"
   },
   {
    "duration": 10,
    "start_time": "2022-11-19T15:23:11.290Z"
   },
   {
    "duration": 39,
    "start_time": "2022-11-19T15:23:16.728Z"
   },
   {
    "duration": 4,
    "start_time": "2022-11-19T15:23:17.869Z"
   },
   {
    "duration": 74,
    "start_time": "2022-11-19T15:23:24.421Z"
   },
   {
    "duration": 71,
    "start_time": "2022-11-19T15:25:19.954Z"
   },
   {
    "duration": 7,
    "start_time": "2022-11-19T15:25:35.589Z"
   },
   {
    "duration": 38,
    "start_time": "2022-11-19T15:25:41.260Z"
   },
   {
    "duration": 7,
    "start_time": "2022-11-19T15:25:52.843Z"
   },
   {
    "duration": 9,
    "start_time": "2022-11-19T15:26:07.001Z"
   },
   {
    "duration": 3,
    "start_time": "2022-11-19T15:26:08.621Z"
   },
   {
    "duration": 9,
    "start_time": "2022-11-19T15:26:13.594Z"
   },
   {
    "duration": 5,
    "start_time": "2022-11-19T15:26:14.171Z"
   },
   {
    "duration": 5,
    "start_time": "2022-11-19T15:26:19.902Z"
   },
   {
    "duration": 9,
    "start_time": "2022-11-19T15:26:26.883Z"
   },
   {
    "duration": 15,
    "start_time": "2022-11-19T15:29:34.847Z"
   },
   {
    "duration": 18,
    "start_time": "2022-11-19T15:30:29.758Z"
   },
   {
    "duration": 24,
    "start_time": "2022-11-19T15:30:40.041Z"
   },
   {
    "duration": 8,
    "start_time": "2022-11-19T15:31:08.828Z"
   },
   {
    "duration": 84,
    "start_time": "2022-11-19T15:31:21.487Z"
   },
   {
    "duration": 5,
    "start_time": "2022-11-19T15:31:27.411Z"
   },
   {
    "duration": 4,
    "start_time": "2022-11-19T15:31:47.086Z"
   },
   {
    "duration": 9,
    "start_time": "2022-11-19T15:31:49.007Z"
   },
   {
    "duration": 3,
    "start_time": "2022-11-19T15:31:55.411Z"
   },
   {
    "duration": 6,
    "start_time": "2022-11-19T15:31:57.782Z"
   },
   {
    "duration": 6,
    "start_time": "2022-11-19T15:32:00.941Z"
   },
   {
    "duration": 8,
    "start_time": "2022-11-19T15:33:30.152Z"
   },
   {
    "duration": 17,
    "start_time": "2022-11-19T15:33:44.402Z"
   },
   {
    "duration": 10,
    "start_time": "2022-11-19T15:34:38.958Z"
   },
   {
    "duration": 17,
    "start_time": "2022-11-19T15:34:40.431Z"
   },
   {
    "duration": 33,
    "start_time": "2022-11-19T15:34:44.682Z"
   },
   {
    "duration": 17,
    "start_time": "2022-11-19T15:34:45.693Z"
   },
   {
    "duration": 14,
    "start_time": "2022-11-19T15:34:46.383Z"
   },
   {
    "duration": 14,
    "start_time": "2022-11-19T15:37:12.353Z"
   },
   {
    "duration": 16,
    "start_time": "2022-11-19T15:37:27.254Z"
   },
   {
    "duration": 34,
    "start_time": "2022-11-19T15:37:40.063Z"
   },
   {
    "duration": 19,
    "start_time": "2022-11-19T15:37:45.579Z"
   },
   {
    "duration": 12,
    "start_time": "2022-11-19T15:37:48.710Z"
   },
   {
    "duration": 3,
    "start_time": "2022-11-19T15:37:56.804Z"
   },
   {
    "duration": 3,
    "start_time": "2022-11-19T15:37:59.391Z"
   },
   {
    "duration": 4,
    "start_time": "2022-11-19T15:38:04.508Z"
   },
   {
    "duration": 7,
    "start_time": "2022-11-19T15:39:26.900Z"
   },
   {
    "duration": 3,
    "start_time": "2022-11-19T15:39:39.361Z"
   },
   {
    "duration": 4,
    "start_time": "2022-11-19T15:40:17.406Z"
   },
   {
    "duration": 4,
    "start_time": "2022-11-19T15:40:19.031Z"
   },
   {
    "duration": 3,
    "start_time": "2022-11-19T15:40:37.803Z"
   },
   {
    "duration": 3,
    "start_time": "2022-11-19T15:40:38.938Z"
   },
   {
    "duration": 49,
    "start_time": "2022-11-19T15:40:51.647Z"
   },
   {
    "duration": 989,
    "start_time": "2022-11-19T15:40:57.781Z"
   },
   {
    "duration": 613,
    "start_time": "2022-11-19T15:40:58.772Z"
   },
   {
    "duration": 11,
    "start_time": "2022-11-19T15:40:59.387Z"
   },
   {
    "duration": 11,
    "start_time": "2022-11-19T15:40:59.399Z"
   },
   {
    "duration": 60,
    "start_time": "2022-11-19T15:40:59.412Z"
   },
   {
    "duration": 92,
    "start_time": "2022-11-19T15:40:59.474Z"
   },
   {
    "duration": 162,
    "start_time": "2022-11-19T15:40:59.567Z"
   },
   {
    "duration": 6,
    "start_time": "2022-11-19T15:40:59.730Z"
   },
   {
    "duration": 44,
    "start_time": "2022-11-19T15:40:59.738Z"
   },
   {
    "duration": 21,
    "start_time": "2022-11-19T15:40:59.784Z"
   },
   {
    "duration": 41,
    "start_time": "2022-11-19T15:40:59.807Z"
   },
   {
    "duration": 4,
    "start_time": "2022-11-19T15:40:59.850Z"
   },
   {
    "duration": 101,
    "start_time": "2022-11-19T15:40:59.855Z"
   },
   {
    "duration": 6,
    "start_time": "2022-11-19T15:40:59.960Z"
   },
   {
    "duration": 50,
    "start_time": "2022-11-19T15:40:59.968Z"
   },
   {
    "duration": 31,
    "start_time": "2022-11-19T15:41:00.019Z"
   },
   {
    "duration": 22,
    "start_time": "2022-11-19T15:41:00.052Z"
   },
   {
    "duration": 15,
    "start_time": "2022-11-19T15:41:00.076Z"
   },
   {
    "duration": 41,
    "start_time": "2022-11-19T15:41:00.093Z"
   },
   {
    "duration": 45,
    "start_time": "2022-11-19T15:41:00.136Z"
   },
   {
    "duration": 18,
    "start_time": "2022-11-19T15:41:00.183Z"
   },
   {
    "duration": 33,
    "start_time": "2022-11-19T15:41:00.203Z"
   },
   {
    "duration": 46,
    "start_time": "2022-11-19T15:41:00.238Z"
   },
   {
    "duration": 4,
    "start_time": "2022-11-19T15:41:00.286Z"
   },
   {
    "duration": 24,
    "start_time": "2022-11-19T15:41:00.291Z"
   },
   {
    "duration": 41,
    "start_time": "2022-11-19T15:41:00.317Z"
   },
   {
    "duration": 46,
    "start_time": "2022-11-19T15:41:00.360Z"
   },
   {
    "duration": 0,
    "start_time": "2022-11-19T15:41:00.409Z"
   },
   {
    "duration": 0,
    "start_time": "2022-11-19T15:41:00.410Z"
   },
   {
    "duration": 0,
    "start_time": "2022-11-19T15:41:00.412Z"
   },
   {
    "duration": 0,
    "start_time": "2022-11-19T15:41:00.413Z"
   },
   {
    "duration": 0,
    "start_time": "2022-11-19T15:41:00.414Z"
   },
   {
    "duration": 0,
    "start_time": "2022-11-19T15:41:00.415Z"
   },
   {
    "duration": 0,
    "start_time": "2022-11-19T15:41:00.416Z"
   },
   {
    "duration": 0,
    "start_time": "2022-11-19T15:41:00.418Z"
   },
   {
    "duration": 0,
    "start_time": "2022-11-19T15:41:00.418Z"
   },
   {
    "duration": 0,
    "start_time": "2022-11-19T15:41:00.419Z"
   },
   {
    "duration": 0,
    "start_time": "2022-11-19T15:41:00.420Z"
   },
   {
    "duration": 0,
    "start_time": "2022-11-19T15:41:00.421Z"
   },
   {
    "duration": 0,
    "start_time": "2022-11-19T15:41:00.422Z"
   },
   {
    "duration": 0,
    "start_time": "2022-11-19T15:41:00.423Z"
   },
   {
    "duration": 0,
    "start_time": "2022-11-19T15:41:00.423Z"
   },
   {
    "duration": 0,
    "start_time": "2022-11-19T15:41:00.424Z"
   },
   {
    "duration": 0,
    "start_time": "2022-11-19T15:41:00.425Z"
   },
   {
    "duration": 0,
    "start_time": "2022-11-19T15:41:00.426Z"
   },
   {
    "duration": 0,
    "start_time": "2022-11-19T15:41:00.427Z"
   },
   {
    "duration": 0,
    "start_time": "2022-11-19T15:41:00.428Z"
   },
   {
    "duration": 0,
    "start_time": "2022-11-19T15:41:00.429Z"
   },
   {
    "duration": 0,
    "start_time": "2022-11-19T15:41:00.430Z"
   },
   {
    "duration": 0,
    "start_time": "2022-11-19T15:41:00.431Z"
   },
   {
    "duration": 0,
    "start_time": "2022-11-19T15:41:00.432Z"
   },
   {
    "duration": 0,
    "start_time": "2022-11-19T15:41:00.433Z"
   },
   {
    "duration": 0,
    "start_time": "2022-11-19T15:41:00.434Z"
   },
   {
    "duration": 0,
    "start_time": "2022-11-19T15:41:00.435Z"
   },
   {
    "duration": 0,
    "start_time": "2022-11-19T15:41:00.436Z"
   },
   {
    "duration": 0,
    "start_time": "2022-11-19T15:41:00.437Z"
   },
   {
    "duration": 0,
    "start_time": "2022-11-19T15:41:00.438Z"
   },
   {
    "duration": 0,
    "start_time": "2022-11-19T15:41:00.439Z"
   },
   {
    "duration": 0,
    "start_time": "2022-11-19T15:41:00.440Z"
   },
   {
    "duration": 0,
    "start_time": "2022-11-19T15:41:00.440Z"
   },
   {
    "duration": 0,
    "start_time": "2022-11-19T15:41:00.441Z"
   },
   {
    "duration": 0,
    "start_time": "2022-11-19T15:41:00.442Z"
   },
   {
    "duration": 0,
    "start_time": "2022-11-19T15:41:00.443Z"
   },
   {
    "duration": 0,
    "start_time": "2022-11-19T15:41:00.444Z"
   },
   {
    "duration": 0,
    "start_time": "2022-11-19T15:41:00.445Z"
   },
   {
    "duration": 16,
    "start_time": "2022-11-19T15:42:18.880Z"
   },
   {
    "duration": 30,
    "start_time": "2022-11-19T15:42:19.226Z"
   },
   {
    "duration": 18,
    "start_time": "2022-11-19T15:42:21.470Z"
   },
   {
    "duration": 14,
    "start_time": "2022-11-19T15:42:23.028Z"
   },
   {
    "duration": 3,
    "start_time": "2022-11-19T15:42:23.816Z"
   },
   {
    "duration": 7,
    "start_time": "2022-11-19T15:42:26.606Z"
   },
   {
    "duration": 7,
    "start_time": "2022-11-19T15:42:29.311Z"
   },
   {
    "duration": 9,
    "start_time": "2022-11-19T15:42:39.333Z"
   },
   {
    "duration": 3,
    "start_time": "2022-11-19T15:42:48.393Z"
   },
   {
    "duration": 13,
    "start_time": "2022-11-19T15:42:54.085Z"
   },
   {
    "duration": 18,
    "start_time": "2022-11-19T15:44:00.074Z"
   },
   {
    "duration": 29,
    "start_time": "2022-11-19T15:44:00.763Z"
   },
   {
    "duration": 7,
    "start_time": "2022-11-19T15:44:26.101Z"
   },
   {
    "duration": 9,
    "start_time": "2022-11-19T15:44:26.891Z"
   },
   {
    "duration": 10,
    "start_time": "2022-11-19T15:44:36.177Z"
   },
   {
    "duration": 4,
    "start_time": "2022-11-19T15:44:44.743Z"
   },
   {
    "duration": 12,
    "start_time": "2022-11-19T15:44:46.059Z"
   },
   {
    "duration": 9,
    "start_time": "2022-11-19T15:44:53.399Z"
   },
   {
    "duration": 9,
    "start_time": "2022-11-19T15:44:54.396Z"
   },
   {
    "duration": 5,
    "start_time": "2022-11-19T15:44:59.190Z"
   },
   {
    "duration": 6,
    "start_time": "2022-11-19T15:45:01.403Z"
   },
   {
    "duration": 5,
    "start_time": "2022-11-19T15:45:08.135Z"
   },
   {
    "duration": 12,
    "start_time": "2022-11-19T15:45:17.818Z"
   },
   {
    "duration": 5,
    "start_time": "2022-11-19T15:45:25.450Z"
   },
   {
    "duration": 6,
    "start_time": "2022-11-19T15:45:36.767Z"
   },
   {
    "duration": 13,
    "start_time": "2022-11-19T15:45:43.492Z"
   },
   {
    "duration": 3,
    "start_time": "2022-11-19T15:45:51.299Z"
   },
   {
    "duration": 6,
    "start_time": "2022-11-19T15:45:55.250Z"
   },
   {
    "duration": 5,
    "start_time": "2022-11-19T15:46:08.437Z"
   },
   {
    "duration": 20,
    "start_time": "2022-11-19T15:46:10.866Z"
   },
   {
    "duration": 4,
    "start_time": "2022-11-19T15:46:19.491Z"
   },
   {
    "duration": 55,
    "start_time": "2022-11-19T16:02:56.583Z"
   },
   {
    "duration": 128,
    "start_time": "2022-11-19T16:03:02.709Z"
   },
   {
    "duration": 95,
    "start_time": "2022-11-19T16:03:26.010Z"
   },
   {
    "duration": 138,
    "start_time": "2022-11-19T16:03:50.110Z"
   },
   {
    "duration": 183,
    "start_time": "2022-11-19T16:04:18.894Z"
   },
   {
    "duration": 17,
    "start_time": "2022-11-19T16:04:25.464Z"
   },
   {
    "duration": 7,
    "start_time": "2022-11-19T16:06:04.330Z"
   },
   {
    "duration": 19,
    "start_time": "2022-11-19T16:06:11.712Z"
   },
   {
    "duration": 9,
    "start_time": "2022-11-19T16:07:02.035Z"
   },
   {
    "duration": 10,
    "start_time": "2022-11-19T16:07:10.502Z"
   },
   {
    "duration": 18,
    "start_time": "2022-11-19T16:07:19.959Z"
   },
   {
    "duration": 8,
    "start_time": "2022-11-19T16:07:26.809Z"
   },
   {
    "duration": 9,
    "start_time": "2022-11-19T16:07:38.155Z"
   },
   {
    "duration": 58,
    "start_time": "2022-11-19T16:09:35.269Z"
   },
   {
    "duration": 5,
    "start_time": "2022-11-19T16:12:10.330Z"
   },
   {
    "duration": 14,
    "start_time": "2022-11-19T16:12:16.725Z"
   },
   {
    "duration": 10,
    "start_time": "2022-11-19T16:13:06.862Z"
   },
   {
    "duration": 11,
    "start_time": "2022-11-19T16:14:37.518Z"
   },
   {
    "duration": 7,
    "start_time": "2022-11-19T16:18:04.882Z"
   },
   {
    "duration": 8,
    "start_time": "2022-11-19T16:29:56.299Z"
   },
   {
    "duration": 10,
    "start_time": "2022-11-19T16:30:16.788Z"
   },
   {
    "duration": 9,
    "start_time": "2022-11-19T16:35:34.740Z"
   },
   {
    "duration": 4,
    "start_time": "2022-11-19T16:37:28.849Z"
   },
   {
    "duration": 8,
    "start_time": "2022-11-19T16:38:50.153Z"
   },
   {
    "duration": 8,
    "start_time": "2022-11-19T16:39:19.217Z"
   },
   {
    "duration": 12,
    "start_time": "2022-11-19T16:41:52.352Z"
   },
   {
    "duration": 10,
    "start_time": "2022-11-19T16:43:00.597Z"
   },
   {
    "duration": 16,
    "start_time": "2022-11-19T16:43:18.118Z"
   },
   {
    "duration": 5,
    "start_time": "2022-11-19T16:43:37.870Z"
   },
   {
    "duration": 6,
    "start_time": "2022-11-19T16:44:14.635Z"
   },
   {
    "duration": 7,
    "start_time": "2022-11-19T16:44:57.168Z"
   },
   {
    "duration": 13,
    "start_time": "2022-11-19T16:48:04.419Z"
   },
   {
    "duration": 12,
    "start_time": "2022-11-19T16:48:19.996Z"
   },
   {
    "duration": 10,
    "start_time": "2022-11-19T16:54:35.609Z"
   },
   {
    "duration": 6,
    "start_time": "2022-11-19T16:57:19.382Z"
   },
   {
    "duration": 11,
    "start_time": "2022-11-19T16:57:40.169Z"
   },
   {
    "duration": 12,
    "start_time": "2022-11-19T16:57:56.681Z"
   },
   {
    "duration": 5,
    "start_time": "2022-11-19T16:58:45.369Z"
   },
   {
    "duration": 18,
    "start_time": "2022-11-19T16:58:54.135Z"
   },
   {
    "duration": 144,
    "start_time": "2022-11-19T16:59:12.471Z"
   },
   {
    "duration": 9,
    "start_time": "2022-11-19T17:47:03.685Z"
   },
   {
    "duration": 809,
    "start_time": "2022-11-19T17:47:19.717Z"
   },
   {
    "duration": 145,
    "start_time": "2022-11-19T17:47:50.549Z"
   },
   {
    "duration": 14,
    "start_time": "2022-11-19T17:50:57.351Z"
   },
   {
    "duration": 15,
    "start_time": "2022-11-19T17:51:04.650Z"
   },
   {
    "duration": 8,
    "start_time": "2022-11-19T17:51:51.675Z"
   },
   {
    "duration": 932,
    "start_time": "2022-11-19T17:52:10.436Z"
   },
   {
    "duration": 599,
    "start_time": "2022-11-19T17:52:11.370Z"
   },
   {
    "duration": 11,
    "start_time": "2022-11-19T17:52:11.970Z"
   },
   {
    "duration": 3,
    "start_time": "2022-11-19T17:52:11.982Z"
   },
   {
    "duration": 60,
    "start_time": "2022-11-19T17:52:11.986Z"
   },
   {
    "duration": 98,
    "start_time": "2022-11-19T17:52:12.048Z"
   },
   {
    "duration": 167,
    "start_time": "2022-11-19T17:52:12.147Z"
   },
   {
    "duration": 6,
    "start_time": "2022-11-19T17:52:12.315Z"
   },
   {
    "duration": 46,
    "start_time": "2022-11-19T17:52:12.322Z"
   },
   {
    "duration": 8,
    "start_time": "2022-11-19T17:52:12.370Z"
   },
   {
    "duration": 55,
    "start_time": "2022-11-19T17:52:12.379Z"
   },
   {
    "duration": 4,
    "start_time": "2022-11-19T17:52:12.435Z"
   },
   {
    "duration": 86,
    "start_time": "2022-11-19T17:52:12.440Z"
   },
   {
    "duration": 6,
    "start_time": "2022-11-19T17:52:12.527Z"
   },
   {
    "duration": 38,
    "start_time": "2022-11-19T17:52:12.534Z"
   },
   {
    "duration": 9,
    "start_time": "2022-11-19T17:52:12.574Z"
   },
   {
    "duration": 8,
    "start_time": "2022-11-19T17:52:12.597Z"
   },
   {
    "duration": 5,
    "start_time": "2022-11-19T17:52:12.607Z"
   },
   {
    "duration": 10,
    "start_time": "2022-11-19T17:52:12.613Z"
   },
   {
    "duration": 6,
    "start_time": "2022-11-19T17:52:12.624Z"
   },
   {
    "duration": 6,
    "start_time": "2022-11-19T17:52:12.632Z"
   },
   {
    "duration": 9,
    "start_time": "2022-11-19T17:52:12.640Z"
   },
   {
    "duration": 24,
    "start_time": "2022-11-19T17:52:12.651Z"
   },
   {
    "duration": 22,
    "start_time": "2022-11-19T17:52:12.676Z"
   },
   {
    "duration": 11,
    "start_time": "2022-11-19T17:52:12.700Z"
   },
   {
    "duration": 20,
    "start_time": "2022-11-19T17:52:12.712Z"
   },
   {
    "duration": 14,
    "start_time": "2022-11-19T17:52:12.733Z"
   },
   {
    "duration": 46,
    "start_time": "2022-11-19T17:52:12.751Z"
   },
   {
    "duration": 16,
    "start_time": "2022-11-19T17:52:12.799Z"
   },
   {
    "duration": 12,
    "start_time": "2022-11-19T17:52:12.816Z"
   },
   {
    "duration": 3,
    "start_time": "2022-11-19T17:52:12.830Z"
   },
   {
    "duration": 9,
    "start_time": "2022-11-19T17:52:12.834Z"
   },
   {
    "duration": 12,
    "start_time": "2022-11-19T17:52:12.844Z"
   },
   {
    "duration": 10,
    "start_time": "2022-11-19T17:52:12.857Z"
   },
   {
    "duration": 3,
    "start_time": "2022-11-19T17:52:12.868Z"
   },
   {
    "duration": 12,
    "start_time": "2022-11-19T17:52:12.897Z"
   },
   {
    "duration": 6,
    "start_time": "2022-11-19T17:52:12.911Z"
   },
   {
    "duration": 9,
    "start_time": "2022-11-19T17:52:12.918Z"
   },
   {
    "duration": 10,
    "start_time": "2022-11-19T17:52:12.928Z"
   },
   {
    "duration": 4,
    "start_time": "2022-11-19T17:52:12.939Z"
   },
   {
    "duration": 11,
    "start_time": "2022-11-19T17:52:12.945Z"
   },
   {
    "duration": 44,
    "start_time": "2022-11-19T17:52:12.957Z"
   },
   {
    "duration": 6,
    "start_time": "2022-11-19T17:52:13.003Z"
   },
   {
    "duration": 8,
    "start_time": "2022-11-19T17:52:13.011Z"
   },
   {
    "duration": 6,
    "start_time": "2022-11-19T17:52:13.021Z"
   },
   {
    "duration": 7,
    "start_time": "2022-11-19T17:52:13.029Z"
   },
   {
    "duration": 10,
    "start_time": "2022-11-19T17:52:13.037Z"
   },
   {
    "duration": 4,
    "start_time": "2022-11-19T17:52:13.048Z"
   },
   {
    "duration": 6,
    "start_time": "2022-11-19T17:52:13.053Z"
   },
   {
    "duration": 40,
    "start_time": "2022-11-19T17:52:13.061Z"
   },
   {
    "duration": 3,
    "start_time": "2022-11-19T17:52:13.103Z"
   },
   {
    "duration": 7,
    "start_time": "2022-11-19T17:52:13.107Z"
   },
   {
    "duration": 4,
    "start_time": "2022-11-19T17:52:13.116Z"
   },
   {
    "duration": 19,
    "start_time": "2022-11-19T17:52:13.122Z"
   },
   {
    "duration": 3,
    "start_time": "2022-11-19T17:52:13.142Z"
   },
   {
    "duration": 228,
    "start_time": "2022-11-19T17:52:13.147Z"
   },
   {
    "duration": 9,
    "start_time": "2022-11-19T17:52:13.377Z"
   },
   {
    "duration": 10,
    "start_time": "2022-11-19T17:52:13.387Z"
   },
   {
    "duration": 10,
    "start_time": "2022-11-19T17:52:13.398Z"
   },
   {
    "duration": 10,
    "start_time": "2022-11-19T17:52:13.409Z"
   },
   {
    "duration": 41,
    "start_time": "2022-11-19T17:52:13.420Z"
   },
   {
    "duration": 0,
    "start_time": "2022-11-19T17:52:13.462Z"
   },
   {
    "duration": 0,
    "start_time": "2022-11-19T17:52:13.463Z"
   },
   {
    "duration": 0,
    "start_time": "2022-11-19T17:52:13.464Z"
   },
   {
    "duration": 0,
    "start_time": "2022-11-19T17:52:13.465Z"
   },
   {
    "duration": 0,
    "start_time": "2022-11-19T17:52:13.466Z"
   },
   {
    "duration": 0,
    "start_time": "2022-11-19T17:52:13.466Z"
   },
   {
    "duration": 0,
    "start_time": "2022-11-19T17:52:13.467Z"
   },
   {
    "duration": 0,
    "start_time": "2022-11-19T17:52:13.468Z"
   },
   {
    "duration": 0,
    "start_time": "2022-11-19T17:52:13.469Z"
   },
   {
    "duration": 0,
    "start_time": "2022-11-19T17:52:13.470Z"
   },
   {
    "duration": 0,
    "start_time": "2022-11-19T17:52:13.471Z"
   },
   {
    "duration": 0,
    "start_time": "2022-11-19T17:52:13.472Z"
   },
   {
    "duration": 0,
    "start_time": "2022-11-19T17:52:13.472Z"
   },
   {
    "duration": 0,
    "start_time": "2022-11-19T17:52:13.473Z"
   },
   {
    "duration": 0,
    "start_time": "2022-11-19T17:52:13.474Z"
   },
   {
    "duration": 0,
    "start_time": "2022-11-19T17:52:13.475Z"
   },
   {
    "duration": 0,
    "start_time": "2022-11-19T17:52:13.476Z"
   },
   {
    "duration": 0,
    "start_time": "2022-11-19T17:52:13.477Z"
   },
   {
    "duration": 7,
    "start_time": "2022-11-19T17:52:33.548Z"
   },
   {
    "duration": 4,
    "start_time": "2022-11-19T17:52:34.531Z"
   },
   {
    "duration": 8,
    "start_time": "2022-11-19T17:52:35.138Z"
   },
   {
    "duration": 8,
    "start_time": "2022-11-19T17:52:36.127Z"
   },
   {
    "duration": 7,
    "start_time": "2022-11-19T17:52:38.402Z"
   },
   {
    "duration": 10,
    "start_time": "2022-11-19T17:52:39.136Z"
   },
   {
    "duration": 85,
    "start_time": "2022-11-19T17:52:39.766Z"
   },
   {
    "duration": 9,
    "start_time": "2022-11-19T17:52:57.497Z"
   },
   {
    "duration": 40,
    "start_time": "2022-11-19T17:54:10.281Z"
   },
   {
    "duration": 9,
    "start_time": "2022-11-19T17:54:19.622Z"
   },
   {
    "duration": 14,
    "start_time": "2022-11-19T17:58:39.734Z"
   },
   {
    "duration": 42,
    "start_time": "2022-11-19T17:59:57.710Z"
   },
   {
    "duration": 42,
    "start_time": "2022-11-19T18:01:04.800Z"
   },
   {
    "duration": 56,
    "start_time": "2022-11-19T18:01:35.958Z"
   },
   {
    "duration": 21,
    "start_time": "2022-11-19T18:05:23.854Z"
   },
   {
    "duration": 13,
    "start_time": "2022-11-19T18:05:47.221Z"
   },
   {
    "duration": 20,
    "start_time": "2022-11-19T18:06:10.584Z"
   },
   {
    "duration": 20,
    "start_time": "2022-11-19T18:06:21.583Z"
   },
   {
    "duration": 21,
    "start_time": "2022-11-19T18:06:31.631Z"
   },
   {
    "duration": 21,
    "start_time": "2022-11-19T18:08:57.857Z"
   },
   {
    "duration": 14,
    "start_time": "2022-11-19T18:09:17.858Z"
   },
   {
    "duration": 15,
    "start_time": "2022-11-19T18:09:43.197Z"
   },
   {
    "duration": 22,
    "start_time": "2022-11-19T18:15:23.500Z"
   },
   {
    "duration": 13,
    "start_time": "2022-11-19T18:18:21.876Z"
   },
   {
    "duration": 14,
    "start_time": "2022-11-19T18:19:02.192Z"
   },
   {
    "duration": 17,
    "start_time": "2022-11-19T18:20:35.626Z"
   },
   {
    "duration": 13,
    "start_time": "2022-11-19T18:20:56.409Z"
   },
   {
    "duration": 710,
    "start_time": "2022-11-19T18:21:37.509Z"
   },
   {
    "duration": 153,
    "start_time": "2022-11-19T18:21:49.537Z"
   },
   {
    "duration": 8,
    "start_time": "2022-11-19T18:22:28.873Z"
   },
   {
    "duration": 4,
    "start_time": "2022-11-19T18:22:30.007Z"
   },
   {
    "duration": 11,
    "start_time": "2022-11-19T18:22:33.829Z"
   },
   {
    "duration": 4,
    "start_time": "2022-11-19T18:22:38.630Z"
   },
   {
    "duration": 11,
    "start_time": "2022-11-19T18:23:11.440Z"
   },
   {
    "duration": 11,
    "start_time": "2022-11-19T18:27:30.073Z"
   },
   {
    "duration": 9,
    "start_time": "2022-11-19T18:31:50.714Z"
   },
   {
    "duration": 17,
    "start_time": "2022-11-19T18:34:01.396Z"
   },
   {
    "duration": 13,
    "start_time": "2022-11-19T18:34:27.801Z"
   },
   {
    "duration": 10,
    "start_time": "2022-11-19T18:34:35.379Z"
   },
   {
    "duration": 11,
    "start_time": "2022-11-19T18:34:36.309Z"
   },
   {
    "duration": 10,
    "start_time": "2022-11-19T18:34:38.124Z"
   },
   {
    "duration": 140,
    "start_time": "2022-11-19T18:35:14.177Z"
   },
   {
    "duration": 23,
    "start_time": "2022-11-19T18:35:14.927Z"
   },
   {
    "duration": 11,
    "start_time": "2022-11-19T18:37:02.960Z"
   },
   {
    "duration": 11,
    "start_time": "2022-11-19T18:37:18.661Z"
   },
   {
    "duration": 15,
    "start_time": "2022-11-19T18:37:40.904Z"
   },
   {
    "duration": 13,
    "start_time": "2022-11-19T18:38:06.278Z"
   },
   {
    "duration": 18,
    "start_time": "2022-11-19T18:38:12.131Z"
   },
   {
    "duration": 16,
    "start_time": "2022-11-19T18:40:38.766Z"
   },
   {
    "duration": 11,
    "start_time": "2022-11-19T18:41:34.873Z"
   },
   {
    "duration": 9,
    "start_time": "2022-11-19T18:41:47.351Z"
   },
   {
    "duration": 24,
    "start_time": "2022-11-19T18:43:15.774Z"
   },
   {
    "duration": 46,
    "start_time": "2022-11-19T18:44:40.294Z"
   },
   {
    "duration": 22,
    "start_time": "2022-11-19T18:44:47.740Z"
   },
   {
    "duration": 10,
    "start_time": "2022-11-19T18:44:49.558Z"
   },
   {
    "duration": 10,
    "start_time": "2022-11-19T18:45:18.273Z"
   },
   {
    "duration": 16,
    "start_time": "2022-11-19T18:45:53.398Z"
   },
   {
    "duration": 24,
    "start_time": "2022-11-19T19:14:28.872Z"
   },
   {
    "duration": 3,
    "start_time": "2022-11-19T19:14:57.865Z"
   },
   {
    "duration": 9,
    "start_time": "2022-11-19T19:15:17.981Z"
   },
   {
    "duration": 10,
    "start_time": "2022-11-19T19:16:22.946Z"
   },
   {
    "duration": 13,
    "start_time": "2022-11-19T19:16:35.655Z"
   },
   {
    "duration": 14,
    "start_time": "2022-11-19T19:16:52.729Z"
   },
   {
    "duration": 34,
    "start_time": "2022-11-19T19:16:58.526Z"
   },
   {
    "duration": 7,
    "start_time": "2022-11-19T19:16:59.247Z"
   },
   {
    "duration": 25,
    "start_time": "2022-11-19T19:18:10.018Z"
   },
   {
    "duration": 8,
    "start_time": "2022-11-19T19:18:13.051Z"
   },
   {
    "duration": 9,
    "start_time": "2022-11-19T19:18:36.988Z"
   },
   {
    "duration": 21,
    "start_time": "2022-11-19T19:18:40.982Z"
   },
   {
    "duration": 9,
    "start_time": "2022-11-19T19:18:41.895Z"
   },
   {
    "duration": 15,
    "start_time": "2022-11-19T19:19:46.913Z"
   },
   {
    "duration": 13,
    "start_time": "2022-11-19T19:20:07.050Z"
   },
   {
    "duration": 12,
    "start_time": "2022-11-19T19:20:16.443Z"
   },
   {
    "duration": 13,
    "start_time": "2022-11-19T19:20:24.999Z"
   },
   {
    "duration": 29,
    "start_time": "2022-11-19T19:22:51.107Z"
   },
   {
    "duration": 12,
    "start_time": "2022-11-19T19:23:00.281Z"
   },
   {
    "duration": 12,
    "start_time": "2022-11-19T19:23:19.999Z"
   },
   {
    "duration": 14,
    "start_time": "2022-11-19T19:23:30.124Z"
   },
   {
    "duration": 12,
    "start_time": "2022-11-19T19:23:37.789Z"
   },
   {
    "duration": 18,
    "start_time": "2022-11-19T19:25:50.977Z"
   },
   {
    "duration": 18,
    "start_time": "2022-11-19T19:26:06.245Z"
   },
   {
    "duration": 11,
    "start_time": "2022-11-19T19:26:11.084Z"
   },
   {
    "duration": 1057,
    "start_time": "2022-11-19T19:42:00.217Z"
   },
   {
    "duration": 708,
    "start_time": "2022-11-19T19:42:01.276Z"
   },
   {
    "duration": 12,
    "start_time": "2022-11-19T19:42:01.986Z"
   },
   {
    "duration": 5,
    "start_time": "2022-11-19T19:42:02.000Z"
   },
   {
    "duration": 73,
    "start_time": "2022-11-19T19:42:02.006Z"
   },
   {
    "duration": 145,
    "start_time": "2022-11-19T19:42:02.081Z"
   },
   {
    "duration": 187,
    "start_time": "2022-11-19T19:42:02.228Z"
   },
   {
    "duration": 8,
    "start_time": "2022-11-19T19:42:02.417Z"
   },
   {
    "duration": 49,
    "start_time": "2022-11-19T19:42:02.427Z"
   },
   {
    "duration": 23,
    "start_time": "2022-11-19T19:42:02.480Z"
   },
   {
    "duration": 47,
    "start_time": "2022-11-19T19:42:02.505Z"
   },
   {
    "duration": 4,
    "start_time": "2022-11-19T19:42:02.554Z"
   },
   {
    "duration": 106,
    "start_time": "2022-11-19T19:42:02.559Z"
   },
   {
    "duration": 7,
    "start_time": "2022-11-19T19:42:02.667Z"
   },
   {
    "duration": 65,
    "start_time": "2022-11-19T19:42:02.676Z"
   },
   {
    "duration": 11,
    "start_time": "2022-11-19T19:42:02.743Z"
   },
   {
    "duration": 8,
    "start_time": "2022-11-19T19:42:02.756Z"
   },
   {
    "duration": 9,
    "start_time": "2022-11-19T19:42:02.766Z"
   },
   {
    "duration": 20,
    "start_time": "2022-11-19T19:42:02.777Z"
   },
   {
    "duration": 5,
    "start_time": "2022-11-19T19:42:02.799Z"
   },
   {
    "duration": 26,
    "start_time": "2022-11-19T19:42:02.806Z"
   },
   {
    "duration": 34,
    "start_time": "2022-11-19T19:42:02.834Z"
   },
   {
    "duration": 41,
    "start_time": "2022-11-19T19:42:02.871Z"
   },
   {
    "duration": 5,
    "start_time": "2022-11-19T19:42:02.914Z"
   },
   {
    "duration": 16,
    "start_time": "2022-11-19T19:42:02.921Z"
   },
   {
    "duration": 20,
    "start_time": "2022-11-19T19:42:02.938Z"
   },
   {
    "duration": 39,
    "start_time": "2022-11-19T19:42:02.960Z"
   },
   {
    "duration": 45,
    "start_time": "2022-11-19T19:42:03.005Z"
   },
   {
    "duration": 23,
    "start_time": "2022-11-19T19:42:03.051Z"
   },
   {
    "duration": 41,
    "start_time": "2022-11-19T19:42:03.076Z"
   },
   {
    "duration": 14,
    "start_time": "2022-11-19T19:42:03.119Z"
   },
   {
    "duration": 11,
    "start_time": "2022-11-19T19:42:03.135Z"
   },
   {
    "duration": 15,
    "start_time": "2022-11-19T19:42:03.148Z"
   },
   {
    "duration": 13,
    "start_time": "2022-11-19T19:42:03.164Z"
   },
   {
    "duration": 3,
    "start_time": "2022-11-19T19:42:03.179Z"
   },
   {
    "duration": 19,
    "start_time": "2022-11-19T19:42:03.196Z"
   },
   {
    "duration": 11,
    "start_time": "2022-11-19T19:42:03.216Z"
   },
   {
    "duration": 19,
    "start_time": "2022-11-19T19:42:03.229Z"
   },
   {
    "duration": 12,
    "start_time": "2022-11-19T19:42:03.249Z"
   },
   {
    "duration": 7,
    "start_time": "2022-11-19T19:42:03.262Z"
   },
   {
    "duration": 13,
    "start_time": "2022-11-19T19:42:03.271Z"
   },
   {
    "duration": 34,
    "start_time": "2022-11-19T19:42:03.298Z"
   },
   {
    "duration": 9,
    "start_time": "2022-11-19T19:42:03.334Z"
   },
   {
    "duration": 8,
    "start_time": "2022-11-19T19:42:03.345Z"
   },
   {
    "duration": 9,
    "start_time": "2022-11-19T19:42:03.355Z"
   },
   {
    "duration": 10,
    "start_time": "2022-11-19T19:42:03.366Z"
   },
   {
    "duration": 13,
    "start_time": "2022-11-19T19:42:03.377Z"
   },
   {
    "duration": 11,
    "start_time": "2022-11-19T19:42:03.392Z"
   },
   {
    "duration": 24,
    "start_time": "2022-11-19T19:42:03.404Z"
   },
   {
    "duration": 15,
    "start_time": "2022-11-19T19:42:03.429Z"
   },
   {
    "duration": 4,
    "start_time": "2022-11-19T19:42:03.446Z"
   },
   {
    "duration": 18,
    "start_time": "2022-11-19T19:42:03.452Z"
   },
   {
    "duration": 6,
    "start_time": "2022-11-19T19:42:03.472Z"
   },
   {
    "duration": 26,
    "start_time": "2022-11-19T19:42:03.480Z"
   },
   {
    "duration": 4,
    "start_time": "2022-11-19T19:42:03.507Z"
   },
   {
    "duration": 231,
    "start_time": "2022-11-19T19:42:03.513Z"
   },
   {
    "duration": 10,
    "start_time": "2022-11-19T19:42:03.746Z"
   },
   {
    "duration": 5,
    "start_time": "2022-11-19T19:42:03.758Z"
   },
   {
    "duration": 16,
    "start_time": "2022-11-19T19:42:03.765Z"
   },
   {
    "duration": 23,
    "start_time": "2022-11-19T19:42:03.782Z"
   },
   {
    "duration": 7,
    "start_time": "2022-11-19T19:42:03.806Z"
   },
   {
    "duration": 5,
    "start_time": "2022-11-19T19:42:03.814Z"
   },
   {
    "duration": 11,
    "start_time": "2022-11-19T19:42:03.820Z"
   },
   {
    "duration": 9,
    "start_time": "2022-11-19T19:42:03.832Z"
   },
   {
    "duration": 24,
    "start_time": "2022-11-19T19:42:03.843Z"
   },
   {
    "duration": 35,
    "start_time": "2022-11-19T19:42:03.868Z"
   },
   {
    "duration": 189,
    "start_time": "2022-11-19T19:42:03.905Z"
   },
   {
    "duration": 24,
    "start_time": "2022-11-19T19:42:04.097Z"
   },
   {
    "duration": 12,
    "start_time": "2022-11-19T19:42:04.122Z"
   },
   {
    "duration": 66,
    "start_time": "2022-11-19T19:42:04.136Z"
   },
   {
    "duration": 8,
    "start_time": "2022-11-19T19:42:04.204Z"
   },
   {
    "duration": 27,
    "start_time": "2022-11-19T19:42:04.213Z"
   },
   {
    "duration": 13,
    "start_time": "2022-11-19T19:42:04.242Z"
   },
   {
    "duration": 84,
    "start_time": "2022-11-19T19:42:04.256Z"
   },
   {
    "duration": 11,
    "start_time": "2022-11-19T19:42:04.342Z"
   },
   {
    "duration": 35,
    "start_time": "2022-11-19T19:42:04.354Z"
   },
   {
    "duration": 853,
    "start_time": "2022-11-19T19:55:34.302Z"
   },
   {
    "duration": 7,
    "start_time": "2022-11-19T19:55:44.345Z"
   },
   {
    "duration": 28,
    "start_time": "2022-11-19T20:03:32.234Z"
   },
   {
    "duration": 16,
    "start_time": "2022-11-19T20:05:46.288Z"
   },
   {
    "duration": 11,
    "start_time": "2022-11-19T20:06:24.146Z"
   },
   {
    "duration": 13,
    "start_time": "2022-11-19T20:07:06.853Z"
   },
   {
    "duration": 11,
    "start_time": "2022-11-19T20:09:38.506Z"
   },
   {
    "duration": 292,
    "start_time": "2022-11-19T20:16:03.914Z"
   },
   {
    "duration": 208,
    "start_time": "2022-11-19T20:18:34.081Z"
   },
   {
    "duration": 10,
    "start_time": "2022-11-19T20:22:18.964Z"
   },
   {
    "duration": 4,
    "start_time": "2022-11-19T20:22:25.478Z"
   },
   {
    "duration": 10,
    "start_time": "2022-11-19T20:22:26.112Z"
   },
   {
    "duration": 9,
    "start_time": "2022-11-19T20:22:27.147Z"
   },
   {
    "duration": 10,
    "start_time": "2022-11-19T20:22:36.349Z"
   },
   {
    "duration": 16,
    "start_time": "2022-11-19T20:22:43.594Z"
   },
   {
    "duration": 7,
    "start_time": "2022-11-19T20:25:58.154Z"
   },
   {
    "duration": 1000,
    "start_time": "2022-11-19T20:26:14.485Z"
   },
   {
    "duration": 652,
    "start_time": "2022-11-19T20:26:15.486Z"
   },
   {
    "duration": 12,
    "start_time": "2022-11-19T20:26:16.139Z"
   },
   {
    "duration": 5,
    "start_time": "2022-11-19T20:26:16.152Z"
   },
   {
    "duration": 62,
    "start_time": "2022-11-19T20:26:16.159Z"
   },
   {
    "duration": 101,
    "start_time": "2022-11-19T20:26:16.223Z"
   },
   {
    "duration": 194,
    "start_time": "2022-11-19T20:26:16.325Z"
   },
   {
    "duration": 5,
    "start_time": "2022-11-19T20:26:16.521Z"
   },
   {
    "duration": 44,
    "start_time": "2022-11-19T20:26:16.528Z"
   },
   {
    "duration": 23,
    "start_time": "2022-11-19T20:26:16.574Z"
   },
   {
    "duration": 39,
    "start_time": "2022-11-19T20:26:16.599Z"
   },
   {
    "duration": 3,
    "start_time": "2022-11-19T20:26:16.640Z"
   },
   {
    "duration": 96,
    "start_time": "2022-11-19T20:26:16.644Z"
   },
   {
    "duration": 6,
    "start_time": "2022-11-19T20:26:16.742Z"
   },
   {
    "duration": 48,
    "start_time": "2022-11-19T20:26:16.750Z"
   },
   {
    "duration": 9,
    "start_time": "2022-11-19T20:26:16.800Z"
   },
   {
    "duration": 8,
    "start_time": "2022-11-19T20:26:16.811Z"
   },
   {
    "duration": 12,
    "start_time": "2022-11-19T20:26:16.821Z"
   },
   {
    "duration": 14,
    "start_time": "2022-11-19T20:26:16.835Z"
   },
   {
    "duration": 11,
    "start_time": "2022-11-19T20:26:16.851Z"
   },
   {
    "duration": 7,
    "start_time": "2022-11-19T20:26:16.863Z"
   },
   {
    "duration": 14,
    "start_time": "2022-11-19T20:26:16.871Z"
   },
   {
    "duration": 26,
    "start_time": "2022-11-19T20:26:16.901Z"
   },
   {
    "duration": 4,
    "start_time": "2022-11-19T20:26:16.929Z"
   },
   {
    "duration": 15,
    "start_time": "2022-11-19T20:26:16.935Z"
   },
   {
    "duration": 18,
    "start_time": "2022-11-19T20:26:16.952Z"
   },
   {
    "duration": 28,
    "start_time": "2022-11-19T20:26:16.971Z"
   },
   {
    "duration": 28,
    "start_time": "2022-11-19T20:26:17.003Z"
   },
   {
    "duration": 17,
    "start_time": "2022-11-19T20:26:17.033Z"
   },
   {
    "duration": 12,
    "start_time": "2022-11-19T20:26:17.051Z"
   },
   {
    "duration": 4,
    "start_time": "2022-11-19T20:26:17.065Z"
   },
   {
    "duration": 7,
    "start_time": "2022-11-19T20:26:17.097Z"
   },
   {
    "duration": 9,
    "start_time": "2022-11-19T20:26:17.105Z"
   },
   {
    "duration": 12,
    "start_time": "2022-11-19T20:26:17.115Z"
   },
   {
    "duration": 6,
    "start_time": "2022-11-19T20:26:17.128Z"
   },
   {
    "duration": 14,
    "start_time": "2022-11-19T20:26:17.135Z"
   },
   {
    "duration": 6,
    "start_time": "2022-11-19T20:26:17.150Z"
   },
   {
    "duration": 9,
    "start_time": "2022-11-19T20:26:17.157Z"
   },
   {
    "duration": 35,
    "start_time": "2022-11-19T20:26:17.167Z"
   },
   {
    "duration": 8,
    "start_time": "2022-11-19T20:26:17.204Z"
   },
   {
    "duration": 14,
    "start_time": "2022-11-19T20:26:17.214Z"
   },
   {
    "duration": 8,
    "start_time": "2022-11-19T20:26:17.229Z"
   },
   {
    "duration": 6,
    "start_time": "2022-11-19T20:26:17.238Z"
   },
   {
    "duration": 5,
    "start_time": "2022-11-19T20:26:17.246Z"
   },
   {
    "duration": 7,
    "start_time": "2022-11-19T20:26:17.252Z"
   },
   {
    "duration": 7,
    "start_time": "2022-11-19T20:26:17.260Z"
   },
   {
    "duration": 33,
    "start_time": "2022-11-19T20:26:17.269Z"
   },
   {
    "duration": 4,
    "start_time": "2022-11-19T20:26:17.304Z"
   },
   {
    "duration": 9,
    "start_time": "2022-11-19T20:26:17.309Z"
   },
   {
    "duration": 14,
    "start_time": "2022-11-19T20:26:17.319Z"
   },
   {
    "duration": 4,
    "start_time": "2022-11-19T20:26:17.334Z"
   },
   {
    "duration": 7,
    "start_time": "2022-11-19T20:26:17.339Z"
   },
   {
    "duration": 8,
    "start_time": "2022-11-19T20:26:17.347Z"
   },
   {
    "duration": 48,
    "start_time": "2022-11-19T20:26:17.356Z"
   },
   {
    "duration": 4,
    "start_time": "2022-11-19T20:26:17.406Z"
   },
   {
    "duration": 213,
    "start_time": "2022-11-19T20:26:17.411Z"
   },
   {
    "duration": 9,
    "start_time": "2022-11-19T20:26:17.625Z"
   },
   {
    "duration": 4,
    "start_time": "2022-11-19T20:26:17.636Z"
   },
   {
    "duration": 11,
    "start_time": "2022-11-19T20:26:17.641Z"
   },
   {
    "duration": 7,
    "start_time": "2022-11-19T20:26:17.653Z"
   },
   {
    "duration": 5,
    "start_time": "2022-11-19T20:26:17.662Z"
   },
   {
    "duration": 30,
    "start_time": "2022-11-19T20:26:17.668Z"
   },
   {
    "duration": 5,
    "start_time": "2022-11-19T20:26:17.699Z"
   },
   {
    "duration": 6,
    "start_time": "2022-11-19T20:26:17.706Z"
   },
   {
    "duration": 6,
    "start_time": "2022-11-19T20:26:17.713Z"
   },
   {
    "duration": 291,
    "start_time": "2022-11-19T20:26:17.721Z"
   },
   {
    "duration": 43,
    "start_time": "2022-11-19T20:26:18.014Z"
   },
   {
    "duration": 0,
    "start_time": "2022-11-19T20:26:18.059Z"
   },
   {
    "duration": 0,
    "start_time": "2022-11-19T20:26:18.060Z"
   },
   {
    "duration": 0,
    "start_time": "2022-11-19T20:26:18.062Z"
   },
   {
    "duration": 0,
    "start_time": "2022-11-19T20:26:18.063Z"
   },
   {
    "duration": 0,
    "start_time": "2022-11-19T20:26:18.064Z"
   },
   {
    "duration": 0,
    "start_time": "2022-11-19T20:26:18.066Z"
   },
   {
    "duration": 0,
    "start_time": "2022-11-19T20:26:18.067Z"
   },
   {
    "duration": 0,
    "start_time": "2022-11-19T20:26:18.068Z"
   },
   {
    "duration": 0,
    "start_time": "2022-11-19T20:26:18.069Z"
   },
   {
    "duration": 0,
    "start_time": "2022-11-19T20:26:18.070Z"
   },
   {
    "duration": 0,
    "start_time": "2022-11-19T20:26:18.072Z"
   },
   {
    "duration": 8,
    "start_time": "2022-11-19T20:27:39.927Z"
   },
   {
    "duration": 9,
    "start_time": "2022-11-19T20:27:47.264Z"
   },
   {
    "duration": 153,
    "start_time": "2022-11-19T20:27:54.938Z"
   },
   {
    "duration": 10,
    "start_time": "2022-11-19T20:29:03.248Z"
   },
   {
    "duration": 9,
    "start_time": "2022-11-19T20:29:25.036Z"
   },
   {
    "duration": 14,
    "start_time": "2022-11-19T20:29:40.292Z"
   },
   {
    "duration": 8,
    "start_time": "2022-11-19T20:29:46.359Z"
   },
   {
    "duration": 13,
    "start_time": "2022-11-19T20:29:49.910Z"
   },
   {
    "duration": 71,
    "start_time": "2022-11-19T20:36:31.261Z"
   },
   {
    "duration": 9,
    "start_time": "2022-11-19T21:05:13.375Z"
   },
   {
    "duration": 110,
    "start_time": "2022-11-19T21:05:59.323Z"
   },
   {
    "duration": 18,
    "start_time": "2022-11-19T21:06:24.995Z"
   },
   {
    "duration": 19,
    "start_time": "2022-11-19T21:06:48.156Z"
   },
   {
    "duration": 21,
    "start_time": "2022-11-19T21:06:55.840Z"
   },
   {
    "duration": 17,
    "start_time": "2022-11-19T21:08:40.253Z"
   },
   {
    "duration": 6,
    "start_time": "2022-11-19T21:13:12.499Z"
   },
   {
    "duration": 9,
    "start_time": "2022-11-19T21:22:15.638Z"
   },
   {
    "duration": 25,
    "start_time": "2022-11-19T21:22:25.331Z"
   },
   {
    "duration": 5,
    "start_time": "2022-11-19T21:23:11.885Z"
   },
   {
    "duration": 9,
    "start_time": "2022-11-19T21:28:00.145Z"
   },
   {
    "duration": 26,
    "start_time": "2022-11-19T21:28:01.047Z"
   },
   {
    "duration": 5,
    "start_time": "2022-11-19T21:28:05.208Z"
   },
   {
    "duration": 9,
    "start_time": "2022-11-19T21:28:07.771Z"
   },
   {
    "duration": 4,
    "start_time": "2022-11-19T21:28:52.366Z"
   },
   {
    "duration": 8,
    "start_time": "2022-11-19T21:29:21.244Z"
   },
   {
    "duration": 12,
    "start_time": "2022-11-19T21:30:34.818Z"
   },
   {
    "duration": 13,
    "start_time": "2022-11-19T21:32:38.497Z"
   },
   {
    "duration": 12,
    "start_time": "2022-11-19T21:33:48.203Z"
   },
   {
    "duration": 9,
    "start_time": "2022-11-19T21:36:41.197Z"
   },
   {
    "duration": 24,
    "start_time": "2022-11-19T21:37:02.439Z"
   },
   {
    "duration": 5,
    "start_time": "2022-11-19T21:37:25.266Z"
   },
   {
    "duration": 14,
    "start_time": "2022-11-19T21:37:27.930Z"
   },
   {
    "duration": 3,
    "start_time": "2022-11-19T21:43:45.010Z"
   },
   {
    "duration": 11,
    "start_time": "2022-11-19T21:43:54.191Z"
   },
   {
    "duration": 3,
    "start_time": "2022-11-19T21:45:00.587Z"
   },
   {
    "duration": 12,
    "start_time": "2022-11-19T21:45:08.568Z"
   },
   {
    "duration": 13,
    "start_time": "2022-11-19T21:45:48.687Z"
   },
   {
    "duration": 24,
    "start_time": "2022-11-19T21:46:28.658Z"
   },
   {
    "duration": 5,
    "start_time": "2022-11-19T21:46:31.422Z"
   },
   {
    "duration": 12,
    "start_time": "2022-11-19T21:46:37.232Z"
   },
   {
    "duration": 8,
    "start_time": "2022-11-19T21:48:14.668Z"
   },
   {
    "duration": 830,
    "start_time": "2022-11-19T21:48:17.208Z"
   },
   {
    "duration": 6,
    "start_time": "2022-11-19T21:49:16.374Z"
   },
   {
    "duration": 680,
    "start_time": "2022-11-19T21:49:17.737Z"
   },
   {
    "duration": 5,
    "start_time": "2022-11-19T21:51:29.590Z"
   },
   {
    "duration": 21,
    "start_time": "2022-11-19T21:51:31.252Z"
   },
   {
    "duration": 5,
    "start_time": "2022-11-19T21:53:06.482Z"
   },
   {
    "duration": 650,
    "start_time": "2022-11-19T21:53:08.215Z"
   },
   {
    "duration": 9,
    "start_time": "2022-11-19T21:57:19.101Z"
   },
   {
    "duration": 10,
    "start_time": "2022-11-19T22:05:36.461Z"
   },
   {
    "duration": 11,
    "start_time": "2022-11-19T22:06:58.819Z"
   },
   {
    "duration": 24,
    "start_time": "2022-11-19T22:08:04.850Z"
   },
   {
    "duration": 12,
    "start_time": "2022-11-19T22:08:06.091Z"
   },
   {
    "duration": 5,
    "start_time": "2022-11-19T22:08:10.918Z"
   },
   {
    "duration": 9,
    "start_time": "2022-11-19T22:08:13.006Z"
   },
   {
    "duration": 8,
    "start_time": "2022-11-19T22:09:56.267Z"
   },
   {
    "duration": 1020,
    "start_time": "2022-11-19T22:15:07.871Z"
   },
   {
    "duration": 617,
    "start_time": "2022-11-19T22:15:08.893Z"
   },
   {
    "duration": 11,
    "start_time": "2022-11-19T22:15:09.511Z"
   },
   {
    "duration": 10,
    "start_time": "2022-11-19T22:15:09.524Z"
   },
   {
    "duration": 64,
    "start_time": "2022-11-19T22:15:09.536Z"
   },
   {
    "duration": 102,
    "start_time": "2022-11-19T22:15:09.602Z"
   },
   {
    "duration": 181,
    "start_time": "2022-11-19T22:15:09.706Z"
   },
   {
    "duration": 10,
    "start_time": "2022-11-19T22:15:09.889Z"
   },
   {
    "duration": 38,
    "start_time": "2022-11-19T22:15:09.900Z"
   },
   {
    "duration": 10,
    "start_time": "2022-11-19T22:15:09.940Z"
   },
   {
    "duration": 58,
    "start_time": "2022-11-19T22:15:09.951Z"
   },
   {
    "duration": 3,
    "start_time": "2022-11-19T22:15:10.011Z"
   },
   {
    "duration": 106,
    "start_time": "2022-11-19T22:15:10.016Z"
   },
   {
    "duration": 7,
    "start_time": "2022-11-19T22:15:10.126Z"
   },
   {
    "duration": 34,
    "start_time": "2022-11-19T22:15:10.135Z"
   },
   {
    "duration": 27,
    "start_time": "2022-11-19T22:15:10.171Z"
   },
   {
    "duration": 8,
    "start_time": "2022-11-19T22:15:10.200Z"
   },
   {
    "duration": 5,
    "start_time": "2022-11-19T22:15:10.209Z"
   },
   {
    "duration": 13,
    "start_time": "2022-11-19T22:15:10.216Z"
   },
   {
    "duration": 8,
    "start_time": "2022-11-19T22:15:10.230Z"
   },
   {
    "duration": 10,
    "start_time": "2022-11-19T22:15:10.239Z"
   },
   {
    "duration": 11,
    "start_time": "2022-11-19T22:15:10.250Z"
   },
   {
    "duration": 46,
    "start_time": "2022-11-19T22:15:10.263Z"
   },
   {
    "duration": 8,
    "start_time": "2022-11-19T22:15:10.311Z"
   },
   {
    "duration": 15,
    "start_time": "2022-11-19T22:15:10.321Z"
   },
   {
    "duration": 18,
    "start_time": "2022-11-19T22:15:10.338Z"
   },
   {
    "duration": 15,
    "start_time": "2022-11-19T22:15:10.358Z"
   },
   {
    "duration": 44,
    "start_time": "2022-11-19T22:15:10.375Z"
   },
   {
    "duration": 16,
    "start_time": "2022-11-19T22:15:10.420Z"
   },
   {
    "duration": 13,
    "start_time": "2022-11-19T22:15:10.437Z"
   },
   {
    "duration": 6,
    "start_time": "2022-11-19T22:15:10.451Z"
   },
   {
    "duration": 8,
    "start_time": "2022-11-19T22:15:10.459Z"
   },
   {
    "duration": 10,
    "start_time": "2022-11-19T22:15:10.468Z"
   },
   {
    "duration": 7,
    "start_time": "2022-11-19T22:15:10.497Z"
   },
   {
    "duration": 4,
    "start_time": "2022-11-19T22:15:10.506Z"
   },
   {
    "duration": 14,
    "start_time": "2022-11-19T22:15:10.511Z"
   },
   {
    "duration": 5,
    "start_time": "2022-11-19T22:15:10.527Z"
   },
   {
    "duration": 9,
    "start_time": "2022-11-19T22:15:10.533Z"
   },
   {
    "duration": 9,
    "start_time": "2022-11-19T22:15:10.543Z"
   },
   {
    "duration": 5,
    "start_time": "2022-11-19T22:15:10.554Z"
   },
   {
    "duration": 39,
    "start_time": "2022-11-19T22:15:10.562Z"
   },
   {
    "duration": 8,
    "start_time": "2022-11-19T22:15:10.603Z"
   },
   {
    "duration": 22,
    "start_time": "2022-11-19T22:15:10.613Z"
   },
   {
    "duration": 25,
    "start_time": "2022-11-19T22:15:10.636Z"
   },
   {
    "duration": 15,
    "start_time": "2022-11-19T22:15:10.662Z"
   },
   {
    "duration": 40,
    "start_time": "2022-11-19T22:15:10.679Z"
   },
   {
    "duration": 23,
    "start_time": "2022-11-19T22:15:10.721Z"
   },
   {
    "duration": 4,
    "start_time": "2022-11-19T22:15:10.745Z"
   },
   {
    "duration": 28,
    "start_time": "2022-11-19T22:15:10.750Z"
   },
   {
    "duration": 16,
    "start_time": "2022-11-19T22:15:10.780Z"
   },
   {
    "duration": 20,
    "start_time": "2022-11-19T22:15:10.797Z"
   },
   {
    "duration": 12,
    "start_time": "2022-11-19T22:15:10.818Z"
   },
   {
    "duration": 13,
    "start_time": "2022-11-19T22:15:10.832Z"
   },
   {
    "duration": 43,
    "start_time": "2022-11-19T22:15:10.846Z"
   },
   {
    "duration": 3,
    "start_time": "2022-11-19T22:15:10.891Z"
   },
   {
    "duration": 217,
    "start_time": "2022-11-19T22:15:10.895Z"
   },
   {
    "duration": 9,
    "start_time": "2022-11-19T22:15:11.114Z"
   },
   {
    "duration": 4,
    "start_time": "2022-11-19T22:15:11.125Z"
   },
   {
    "duration": 11,
    "start_time": "2022-11-19T22:15:11.131Z"
   },
   {
    "duration": 7,
    "start_time": "2022-11-19T22:15:11.143Z"
   },
   {
    "duration": 5,
    "start_time": "2022-11-19T22:15:11.152Z"
   },
   {
    "duration": 7,
    "start_time": "2022-11-19T22:15:11.158Z"
   },
   {
    "duration": 39,
    "start_time": "2022-11-19T22:15:11.166Z"
   },
   {
    "duration": 8,
    "start_time": "2022-11-19T22:15:11.207Z"
   },
   {
    "duration": 7,
    "start_time": "2022-11-19T22:15:11.216Z"
   },
   {
    "duration": 289,
    "start_time": "2022-11-19T22:15:11.225Z"
   },
   {
    "duration": 8,
    "start_time": "2022-11-19T22:15:11.516Z"
   },
   {
    "duration": 9,
    "start_time": "2022-11-19T22:15:11.526Z"
   },
   {
    "duration": 151,
    "start_time": "2022-11-19T22:15:11.536Z"
   },
   {
    "duration": 15,
    "start_time": "2022-11-19T22:15:11.689Z"
   },
   {
    "duration": 19,
    "start_time": "2022-11-19T22:15:11.706Z"
   },
   {
    "duration": 77,
    "start_time": "2022-11-19T22:15:11.727Z"
   },
   {
    "duration": 8,
    "start_time": "2022-11-19T22:15:11.805Z"
   },
   {
    "duration": 33,
    "start_time": "2022-11-19T22:15:11.814Z"
   },
   {
    "duration": 47,
    "start_time": "2022-11-19T22:15:11.848Z"
   },
   {
    "duration": 28,
    "start_time": "2022-11-19T22:15:11.897Z"
   },
   {
    "duration": 10,
    "start_time": "2022-11-19T22:15:11.927Z"
   },
   {
    "duration": 5,
    "start_time": "2022-11-19T22:15:11.939Z"
   },
   {
    "duration": 13,
    "start_time": "2022-11-19T22:15:11.945Z"
   },
   {
    "duration": 109,
    "start_time": "2022-11-19T22:15:11.959Z"
   },
   {
    "duration": 0,
    "start_time": "2022-11-19T22:15:12.069Z"
   },
   {
    "duration": 0,
    "start_time": "2022-11-19T22:15:12.070Z"
   },
   {
    "duration": 0,
    "start_time": "2022-11-19T22:15:12.071Z"
   },
   {
    "duration": 0,
    "start_time": "2022-11-19T22:15:12.073Z"
   },
   {
    "duration": 0,
    "start_time": "2022-11-19T22:15:12.074Z"
   },
   {
    "duration": 0,
    "start_time": "2022-11-19T22:15:12.075Z"
   },
   {
    "duration": 1046,
    "start_time": "2022-11-19T22:20:29.166Z"
   },
   {
    "duration": 2,
    "start_time": "2022-11-19T22:21:21.890Z"
   },
   {
    "duration": 637,
    "start_time": "2022-11-19T22:21:22.593Z"
   },
   {
    "duration": 13,
    "start_time": "2022-11-19T22:21:48.949Z"
   },
   {
    "duration": 4,
    "start_time": "2022-11-19T22:21:52.041Z"
   },
   {
    "duration": 60,
    "start_time": "2022-11-19T22:21:53.341Z"
   },
   {
    "duration": 101,
    "start_time": "2022-11-19T22:22:03.315Z"
   },
   {
    "duration": 159,
    "start_time": "2022-11-19T22:22:06.423Z"
   },
   {
    "duration": 8,
    "start_time": "2022-11-19T22:23:45.503Z"
   },
   {
    "duration": 4,
    "start_time": "2022-11-19T22:23:46.639Z"
   },
   {
    "duration": 43,
    "start_time": "2022-11-19T22:23:48.865Z"
   },
   {
    "duration": 12,
    "start_time": "2022-11-19T22:23:51.443Z"
   },
   {
    "duration": 177,
    "start_time": "2022-11-19T22:23:53.095Z"
   },
   {
    "duration": 6,
    "start_time": "2022-11-19T22:23:59.528Z"
   },
   {
    "duration": 38,
    "start_time": "2022-11-19T22:24:02.389Z"
   },
   {
    "duration": 10,
    "start_time": "2022-11-19T22:24:06.299Z"
   },
   {
    "duration": 37,
    "start_time": "2022-11-19T22:24:08.752Z"
   },
   {
    "duration": 3,
    "start_time": "2022-11-19T22:24:09.975Z"
   },
   {
    "duration": 81,
    "start_time": "2022-11-19T22:24:13.763Z"
   },
   {
    "duration": 7,
    "start_time": "2022-11-19T22:24:14.601Z"
   },
   {
    "duration": 36,
    "start_time": "2022-11-19T22:24:15.845Z"
   },
   {
    "duration": 7,
    "start_time": "2022-11-19T22:24:28.047Z"
   },
   {
    "duration": 9,
    "start_time": "2022-11-19T22:24:55.148Z"
   },
   {
    "duration": 3,
    "start_time": "2022-11-19T22:25:01.876Z"
   },
   {
    "duration": 9,
    "start_time": "2022-11-19T22:25:02.183Z"
   },
   {
    "duration": 5,
    "start_time": "2022-11-19T22:25:06.991Z"
   },
   {
    "duration": 5,
    "start_time": "2022-11-19T22:25:07.562Z"
   },
   {
    "duration": 9,
    "start_time": "2022-11-19T22:25:13.305Z"
   },
   {
    "duration": 24,
    "start_time": "2022-11-19T22:25:15.568Z"
   },
   {
    "duration": 4,
    "start_time": "2022-11-19T22:25:17.394Z"
   },
   {
    "duration": 10,
    "start_time": "2022-11-19T22:25:20.983Z"
   },
   {
    "duration": 18,
    "start_time": "2022-11-19T22:25:22.042Z"
   },
   {
    "duration": 18,
    "start_time": "2022-11-19T22:25:27.159Z"
   },
   {
    "duration": 29,
    "start_time": "2022-11-19T22:25:29.214Z"
   },
   {
    "duration": 19,
    "start_time": "2022-11-19T22:25:29.935Z"
   },
   {
    "duration": 13,
    "start_time": "2022-11-19T22:25:30.549Z"
   },
   {
    "duration": 3,
    "start_time": "2022-11-19T22:25:32.350Z"
   },
   {
    "duration": 7,
    "start_time": "2022-11-19T22:25:39.370Z"
   },
   {
    "duration": 7,
    "start_time": "2022-11-19T22:25:40.418Z"
   },
   {
    "duration": 9,
    "start_time": "2022-11-19T22:25:50.446Z"
   },
   {
    "duration": 3,
    "start_time": "2022-11-19T22:25:51.151Z"
   },
   {
    "duration": 13,
    "start_time": "2022-11-19T22:25:55.045Z"
   },
   {
    "duration": 6,
    "start_time": "2022-11-19T22:26:05.746Z"
   },
   {
    "duration": 9,
    "start_time": "2022-11-19T22:26:06.392Z"
   },
   {
    "duration": 11,
    "start_time": "2022-11-19T22:26:09.820Z"
   },
   {
    "duration": 3,
    "start_time": "2022-11-19T22:26:11.030Z"
   },
   {
    "duration": 11,
    "start_time": "2022-11-19T22:26:14.515Z"
   },
   {
    "duration": 9,
    "start_time": "2022-11-19T22:26:15.144Z"
   },
   {
    "duration": 8,
    "start_time": "2022-11-19T22:26:16.929Z"
   },
   {
    "duration": 5,
    "start_time": "2022-11-19T22:26:22.343Z"
   },
   {
    "duration": 6,
    "start_time": "2022-11-19T22:26:23.455Z"
   },
   {
    "duration": 7,
    "start_time": "2022-11-19T22:26:27.436Z"
   },
   {
    "duration": 10,
    "start_time": "2022-11-19T22:26:34.368Z"
   },
   {
    "duration": 4,
    "start_time": "2022-11-19T22:26:35.013Z"
   },
   {
    "duration": 5,
    "start_time": "2022-11-19T22:26:39.898Z"
   },
   {
    "duration": 12,
    "start_time": "2022-11-19T22:26:45.305Z"
   },
   {
    "duration": 3,
    "start_time": "2022-11-19T22:26:48.462Z"
   },
   {
    "duration": 5,
    "start_time": "2022-11-19T22:26:55.358Z"
   },
   {
    "duration": 4,
    "start_time": "2022-11-19T22:27:08.388Z"
   },
   {
    "duration": 21,
    "start_time": "2022-11-19T22:27:10.000Z"
   },
   {
    "duration": 4,
    "start_time": "2022-11-19T22:27:13.579Z"
   },
   {
    "duration": 205,
    "start_time": "2022-11-19T22:44:08.274Z"
   },
   {
    "duration": 190,
    "start_time": "2022-11-19T22:44:13.840Z"
   },
   {
    "duration": 11,
    "start_time": "2022-11-19T22:44:15.946Z"
   },
   {
    "duration": 5,
    "start_time": "2022-11-19T22:44:23.261Z"
   },
   {
    "duration": 11,
    "start_time": "2022-11-19T22:44:28.907Z"
   },
   {
    "duration": 8,
    "start_time": "2022-11-19T22:44:35.959Z"
   },
   {
    "duration": 6,
    "start_time": "2022-11-19T22:44:47.037Z"
   },
   {
    "duration": 3,
    "start_time": "2022-11-19T22:44:56.635Z"
   },
   {
    "duration": 8,
    "start_time": "2022-11-19T22:45:01.007Z"
   },
   {
    "duration": 7,
    "start_time": "2022-11-19T22:45:12.803Z"
   },
   {
    "duration": 7,
    "start_time": "2022-11-19T22:45:29.691Z"
   },
   {
    "duration": 6,
    "start_time": "2022-11-19T22:45:35.973Z"
   },
   {
    "duration": 263,
    "start_time": "2022-11-19T22:45:48.458Z"
   },
   {
    "duration": 8,
    "start_time": "2022-11-19T22:46:04.127Z"
   },
   {
    "duration": 9,
    "start_time": "2022-11-19T22:46:06.975Z"
   },
   {
    "duration": 160,
    "start_time": "2022-11-19T22:46:28.477Z"
   },
   {
    "duration": 9,
    "start_time": "2022-11-19T22:47:54.466Z"
   },
   {
    "duration": 200,
    "start_time": "2022-11-19T22:50:46.978Z"
   },
   {
    "duration": 10,
    "start_time": "2022-11-19T22:50:47.462Z"
   },
   {
    "duration": 5,
    "start_time": "2022-11-19T22:50:48.049Z"
   },
   {
    "duration": 10,
    "start_time": "2022-11-19T22:50:48.266Z"
   },
   {
    "duration": 9,
    "start_time": "2022-11-19T22:50:49.075Z"
   },
   {
    "duration": 7,
    "start_time": "2022-11-19T22:50:52.914Z"
   },
   {
    "duration": 4,
    "start_time": "2022-11-19T22:50:56.379Z"
   },
   {
    "duration": 6,
    "start_time": "2022-11-19T22:50:57.334Z"
   },
   {
    "duration": 6,
    "start_time": "2022-11-19T22:50:57.812Z"
   },
   {
    "duration": 6,
    "start_time": "2022-11-19T22:51:02.788Z"
   },
   {
    "duration": 199,
    "start_time": "2022-11-19T22:51:05.202Z"
   },
   {
    "duration": 7,
    "start_time": "2022-11-19T22:51:10.730Z"
   },
   {
    "duration": 9,
    "start_time": "2022-11-19T22:51:11.205Z"
   },
   {
    "duration": 11,
    "start_time": "2022-11-19T22:51:15.064Z"
   },
   {
    "duration": 9,
    "start_time": "2022-11-19T22:51:20.211Z"
   },
   {
    "duration": 9,
    "start_time": "2022-11-19T22:51:35.891Z"
   },
   {
    "duration": 9,
    "start_time": "2022-11-19T22:52:46.136Z"
   },
   {
    "duration": 8,
    "start_time": "2022-11-19T22:53:17.233Z"
   },
   {
    "duration": 11,
    "start_time": "2022-11-19T22:53:21.907Z"
   },
   {
    "duration": 8,
    "start_time": "2022-11-19T22:53:26.349Z"
   },
   {
    "duration": 9,
    "start_time": "2022-11-19T22:55:15.427Z"
   },
   {
    "duration": 26,
    "start_time": "2022-11-19T22:55:17.813Z"
   },
   {
    "duration": 11,
    "start_time": "2022-11-19T22:55:20.843Z"
   },
   {
    "duration": 5,
    "start_time": "2022-11-19T22:55:23.452Z"
   },
   {
    "duration": 9,
    "start_time": "2022-11-19T22:55:28.737Z"
   },
   {
    "duration": 1072,
    "start_time": "2022-11-19T23:11:09.173Z"
   },
   {
    "duration": 704,
    "start_time": "2022-11-19T23:11:10.247Z"
   },
   {
    "duration": 11,
    "start_time": "2022-11-19T23:11:10.953Z"
   },
   {
    "duration": 6,
    "start_time": "2022-11-19T23:11:10.965Z"
   },
   {
    "duration": 86,
    "start_time": "2022-11-19T23:11:10.973Z"
   },
   {
    "duration": 117,
    "start_time": "2022-11-19T23:11:11.061Z"
   },
   {
    "duration": 206,
    "start_time": "2022-11-19T23:11:11.179Z"
   },
   {
    "duration": 12,
    "start_time": "2022-11-19T23:11:11.386Z"
   },
   {
    "duration": 49,
    "start_time": "2022-11-19T23:11:11.401Z"
   },
   {
    "duration": 9,
    "start_time": "2022-11-19T23:11:11.452Z"
   },
   {
    "duration": 59,
    "start_time": "2022-11-19T23:11:11.462Z"
   },
   {
    "duration": 5,
    "start_time": "2022-11-19T23:11:11.523Z"
   },
   {
    "duration": 93,
    "start_time": "2022-11-19T23:11:11.529Z"
   },
   {
    "duration": 7,
    "start_time": "2022-11-19T23:11:11.625Z"
   },
   {
    "duration": 35,
    "start_time": "2022-11-19T23:11:11.633Z"
   },
   {
    "duration": 28,
    "start_time": "2022-11-19T23:11:11.670Z"
   },
   {
    "duration": 14,
    "start_time": "2022-11-19T23:11:11.700Z"
   },
   {
    "duration": 14,
    "start_time": "2022-11-19T23:11:11.716Z"
   },
   {
    "duration": 14,
    "start_time": "2022-11-19T23:11:11.732Z"
   },
   {
    "duration": 10,
    "start_time": "2022-11-19T23:11:11.747Z"
   },
   {
    "duration": 6,
    "start_time": "2022-11-19T23:11:11.758Z"
   },
   {
    "duration": 11,
    "start_time": "2022-11-19T23:11:11.766Z"
   },
   {
    "duration": 37,
    "start_time": "2022-11-19T23:11:11.778Z"
   },
   {
    "duration": 4,
    "start_time": "2022-11-19T23:11:11.817Z"
   },
   {
    "duration": 12,
    "start_time": "2022-11-19T23:11:11.823Z"
   },
   {
    "duration": 18,
    "start_time": "2022-11-19T23:11:11.837Z"
   },
   {
    "duration": 15,
    "start_time": "2022-11-19T23:11:11.856Z"
   },
   {
    "duration": 35,
    "start_time": "2022-11-19T23:11:11.900Z"
   },
   {
    "duration": 25,
    "start_time": "2022-11-19T23:11:11.937Z"
   },
   {
    "duration": 12,
    "start_time": "2022-11-19T23:11:11.964Z"
   },
   {
    "duration": 5,
    "start_time": "2022-11-19T23:11:11.978Z"
   },
   {
    "duration": 14,
    "start_time": "2022-11-19T23:11:12.002Z"
   },
   {
    "duration": 14,
    "start_time": "2022-11-19T23:11:12.019Z"
   },
   {
    "duration": 14,
    "start_time": "2022-11-19T23:11:12.034Z"
   },
   {
    "duration": 4,
    "start_time": "2022-11-19T23:11:12.049Z"
   },
   {
    "duration": 15,
    "start_time": "2022-11-19T23:11:12.054Z"
   },
   {
    "duration": 6,
    "start_time": "2022-11-19T23:11:12.070Z"
   },
   {
    "duration": 27,
    "start_time": "2022-11-19T23:11:12.077Z"
   },
   {
    "duration": 15,
    "start_time": "2022-11-19T23:11:12.106Z"
   },
   {
    "duration": 6,
    "start_time": "2022-11-19T23:11:12.122Z"
   },
   {
    "duration": 12,
    "start_time": "2022-11-19T23:11:12.132Z"
   },
   {
    "duration": 17,
    "start_time": "2022-11-19T23:11:12.146Z"
   },
   {
    "duration": 7,
    "start_time": "2022-11-19T23:11:12.164Z"
   },
   {
    "duration": 28,
    "start_time": "2022-11-19T23:11:12.173Z"
   },
   {
    "duration": 9,
    "start_time": "2022-11-19T23:11:12.203Z"
   },
   {
    "duration": 11,
    "start_time": "2022-11-19T23:11:12.216Z"
   },
   {
    "duration": 13,
    "start_time": "2022-11-19T23:11:12.228Z"
   },
   {
    "duration": 7,
    "start_time": "2022-11-19T23:11:12.242Z"
   },
   {
    "duration": 7,
    "start_time": "2022-11-19T23:11:12.250Z"
   },
   {
    "duration": 38,
    "start_time": "2022-11-19T23:11:12.259Z"
   },
   {
    "duration": 4,
    "start_time": "2022-11-19T23:11:12.300Z"
   },
   {
    "duration": 17,
    "start_time": "2022-11-19T23:11:12.306Z"
   },
   {
    "duration": 6,
    "start_time": "2022-11-19T23:11:12.325Z"
   },
   {
    "duration": 21,
    "start_time": "2022-11-19T23:11:12.332Z"
   },
   {
    "duration": 4,
    "start_time": "2022-11-19T23:11:12.355Z"
   },
   {
    "duration": 254,
    "start_time": "2022-11-19T23:11:12.361Z"
   },
   {
    "duration": 13,
    "start_time": "2022-11-19T23:11:12.618Z"
   },
   {
    "duration": 5,
    "start_time": "2022-11-19T23:11:12.633Z"
   },
   {
    "duration": 14,
    "start_time": "2022-11-19T23:11:12.640Z"
   },
   {
    "duration": 6,
    "start_time": "2022-11-19T23:11:12.655Z"
   },
   {
    "duration": 5,
    "start_time": "2022-11-19T23:11:12.663Z"
   },
   {
    "duration": 6,
    "start_time": "2022-11-19T23:11:12.701Z"
   },
   {
    "duration": 12,
    "start_time": "2022-11-19T23:11:12.709Z"
   },
   {
    "duration": 7,
    "start_time": "2022-11-19T23:11:12.722Z"
   },
   {
    "duration": 7,
    "start_time": "2022-11-19T23:11:12.731Z"
   },
   {
    "duration": 300,
    "start_time": "2022-11-19T23:11:12.740Z"
   },
   {
    "duration": 7,
    "start_time": "2022-11-19T23:11:13.042Z"
   },
   {
    "duration": 10,
    "start_time": "2022-11-19T23:11:13.050Z"
   },
   {
    "duration": 147,
    "start_time": "2022-11-19T23:11:13.062Z"
   },
   {
    "duration": 12,
    "start_time": "2022-11-19T23:11:13.211Z"
   },
   {
    "duration": 17,
    "start_time": "2022-11-19T23:11:13.225Z"
   },
   {
    "duration": 73,
    "start_time": "2022-11-19T23:11:13.243Z"
   },
   {
    "duration": 10,
    "start_time": "2022-11-19T23:11:13.319Z"
   },
   {
    "duration": 82,
    "start_time": "2022-11-19T23:11:13.330Z"
   },
   {
    "duration": 11,
    "start_time": "2022-11-19T23:11:13.415Z"
   },
   {
    "duration": 33,
    "start_time": "2022-11-19T23:11:13.427Z"
   },
   {
    "duration": 38,
    "start_time": "2022-11-19T23:11:13.461Z"
   },
   {
    "duration": 9,
    "start_time": "2022-11-19T23:11:13.501Z"
   },
   {
    "duration": 28,
    "start_time": "2022-11-19T23:11:13.512Z"
   },
   {
    "duration": 37,
    "start_time": "2022-11-19T23:11:13.541Z"
   },
   {
    "duration": 0,
    "start_time": "2022-11-19T23:11:13.580Z"
   },
   {
    "duration": 0,
    "start_time": "2022-11-19T23:11:13.581Z"
   },
   {
    "duration": 1238,
    "start_time": "2022-11-20T04:55:40.506Z"
   },
   {
    "duration": 738,
    "start_time": "2022-11-20T04:55:41.746Z"
   },
   {
    "duration": 17,
    "start_time": "2022-11-20T04:55:42.486Z"
   },
   {
    "duration": 17,
    "start_time": "2022-11-20T04:55:42.506Z"
   },
   {
    "duration": 99,
    "start_time": "2022-11-20T04:55:42.526Z"
   },
   {
    "duration": 133,
    "start_time": "2022-11-20T04:55:42.627Z"
   },
   {
    "duration": 213,
    "start_time": "2022-11-20T04:55:42.762Z"
   },
   {
    "duration": 7,
    "start_time": "2022-11-20T04:55:42.976Z"
   },
   {
    "duration": 56,
    "start_time": "2022-11-20T04:55:42.985Z"
   },
   {
    "duration": 10,
    "start_time": "2022-11-20T04:55:43.043Z"
   },
   {
    "duration": 45,
    "start_time": "2022-11-20T04:55:43.055Z"
   },
   {
    "duration": 5,
    "start_time": "2022-11-20T04:55:43.101Z"
   },
   {
    "duration": 121,
    "start_time": "2022-11-20T04:55:43.107Z"
   },
   {
    "duration": 7,
    "start_time": "2022-11-20T04:55:43.236Z"
   },
   {
    "duration": 37,
    "start_time": "2022-11-20T04:55:43.245Z"
   },
   {
    "duration": 15,
    "start_time": "2022-11-20T04:55:43.284Z"
   },
   {
    "duration": 15,
    "start_time": "2022-11-20T04:55:43.301Z"
   },
   {
    "duration": 20,
    "start_time": "2022-11-20T04:55:43.317Z"
   },
   {
    "duration": 20,
    "start_time": "2022-11-20T04:55:43.339Z"
   },
   {
    "duration": 12,
    "start_time": "2022-11-20T04:55:43.361Z"
   },
   {
    "duration": 9,
    "start_time": "2022-11-20T04:55:43.375Z"
   },
   {
    "duration": 14,
    "start_time": "2022-11-20T04:55:43.386Z"
   },
   {
    "duration": 50,
    "start_time": "2022-11-20T04:55:43.402Z"
   },
   {
    "duration": 4,
    "start_time": "2022-11-20T04:55:43.454Z"
   },
   {
    "duration": 22,
    "start_time": "2022-11-20T04:55:43.460Z"
   },
   {
    "duration": 34,
    "start_time": "2022-11-20T04:55:43.484Z"
   },
   {
    "duration": 27,
    "start_time": "2022-11-20T04:55:43.521Z"
   },
   {
    "duration": 46,
    "start_time": "2022-11-20T04:55:43.550Z"
   },
   {
    "duration": 46,
    "start_time": "2022-11-20T04:55:43.598Z"
   },
   {
    "duration": 16,
    "start_time": "2022-11-20T04:55:43.646Z"
   },
   {
    "duration": 13,
    "start_time": "2022-11-20T04:55:43.663Z"
   },
   {
    "duration": 11,
    "start_time": "2022-11-20T04:55:43.678Z"
   },
   {
    "duration": 12,
    "start_time": "2022-11-20T04:55:43.691Z"
   },
   {
    "duration": 36,
    "start_time": "2022-11-20T04:55:43.704Z"
   },
   {
    "duration": 4,
    "start_time": "2022-11-20T04:55:43.742Z"
   },
   {
    "duration": 20,
    "start_time": "2022-11-20T04:55:43.747Z"
   },
   {
    "duration": 6,
    "start_time": "2022-11-20T04:55:43.769Z"
   },
   {
    "duration": 13,
    "start_time": "2022-11-20T04:55:43.777Z"
   },
   {
    "duration": 16,
    "start_time": "2022-11-20T04:55:43.792Z"
   },
   {
    "duration": 28,
    "start_time": "2022-11-20T04:55:43.809Z"
   },
   {
    "duration": 15,
    "start_time": "2022-11-20T04:55:43.842Z"
   },
   {
    "duration": 27,
    "start_time": "2022-11-20T04:55:43.859Z"
   },
   {
    "duration": 9,
    "start_time": "2022-11-20T04:55:43.887Z"
   },
   {
    "duration": 14,
    "start_time": "2022-11-20T04:55:43.898Z"
   },
   {
    "duration": 13,
    "start_time": "2022-11-20T04:55:43.913Z"
   },
   {
    "duration": 18,
    "start_time": "2022-11-20T04:55:43.928Z"
   },
   {
    "duration": 23,
    "start_time": "2022-11-20T04:55:43.948Z"
   },
   {
    "duration": 18,
    "start_time": "2022-11-20T04:55:43.973Z"
   },
   {
    "duration": 13,
    "start_time": "2022-11-20T04:55:43.994Z"
   },
   {
    "duration": 29,
    "start_time": "2022-11-20T04:55:44.009Z"
   },
   {
    "duration": 5,
    "start_time": "2022-11-20T04:55:44.040Z"
   },
   {
    "duration": 31,
    "start_time": "2022-11-20T04:55:44.047Z"
   },
   {
    "duration": 37,
    "start_time": "2022-11-20T04:55:44.080Z"
   },
   {
    "duration": 33,
    "start_time": "2022-11-20T04:55:44.120Z"
   },
   {
    "duration": 4,
    "start_time": "2022-11-20T04:55:44.155Z"
   },
   {
    "duration": 260,
    "start_time": "2022-11-20T04:55:44.161Z"
   },
   {
    "duration": 18,
    "start_time": "2022-11-20T04:55:44.422Z"
   },
   {
    "duration": 5,
    "start_time": "2022-11-20T04:55:44.441Z"
   },
   {
    "duration": 23,
    "start_time": "2022-11-20T04:55:44.447Z"
   },
   {
    "duration": 19,
    "start_time": "2022-11-20T04:55:44.471Z"
   },
   {
    "duration": 14,
    "start_time": "2022-11-20T04:55:44.492Z"
   },
   {
    "duration": 14,
    "start_time": "2022-11-20T04:55:44.507Z"
   },
   {
    "duration": 13,
    "start_time": "2022-11-20T04:55:44.523Z"
   },
   {
    "duration": 10,
    "start_time": "2022-11-20T04:55:44.538Z"
   },
   {
    "duration": 10,
    "start_time": "2022-11-20T04:55:44.550Z"
   },
   {
    "duration": 318,
    "start_time": "2022-11-20T04:55:44.562Z"
   },
   {
    "duration": 9,
    "start_time": "2022-11-20T04:55:44.881Z"
   },
   {
    "duration": 14,
    "start_time": "2022-11-20T04:55:44.892Z"
   },
   {
    "duration": 543,
    "start_time": "2022-11-20T04:55:44.908Z"
   },
   {
    "duration": 9,
    "start_time": "2022-11-20T04:55:45.452Z"
   },
   {
    "duration": 14,
    "start_time": "2022-11-20T04:55:45.463Z"
   },
   {
    "duration": 58,
    "start_time": "2022-11-20T04:55:45.479Z"
   },
   {
    "duration": 12,
    "start_time": "2022-11-20T04:55:45.539Z"
   },
   {
    "duration": 20,
    "start_time": "2022-11-20T04:55:45.552Z"
   },
   {
    "duration": 14,
    "start_time": "2022-11-20T04:55:45.574Z"
   },
   {
    "duration": 38,
    "start_time": "2022-11-20T04:55:45.636Z"
   },
   {
    "duration": 11,
    "start_time": "2022-11-20T04:55:45.677Z"
   },
   {
    "duration": 8,
    "start_time": "2022-11-20T04:55:45.690Z"
   },
   {
    "duration": 41,
    "start_time": "2022-11-20T04:55:45.699Z"
   },
   {
    "duration": 20,
    "start_time": "2022-11-20T04:56:34.196Z"
   },
   {
    "duration": 12,
    "start_time": "2022-11-20T04:56:45.172Z"
   },
   {
    "duration": 105,
    "start_time": "2022-11-20T07:17:05.474Z"
   },
   {
    "duration": 43,
    "start_time": "2022-11-20T07:23:57.037Z"
   },
   {
    "duration": 1285,
    "start_time": "2022-11-20T07:25:10.139Z"
   },
   {
    "duration": 2050,
    "start_time": "2022-11-20T07:25:11.427Z"
   },
   {
    "duration": 13,
    "start_time": "2022-11-20T07:25:13.479Z"
   },
   {
    "duration": 4,
    "start_time": "2022-11-20T07:25:13.861Z"
   },
   {
    "duration": 9,
    "start_time": "2022-11-20T07:25:21.944Z"
   },
   {
    "duration": 3,
    "start_time": "2022-11-20T07:25:22.431Z"
   },
   {
    "duration": 64,
    "start_time": "2022-11-20T07:25:22.436Z"
   },
   {
    "duration": 103,
    "start_time": "2022-11-20T07:25:25.792Z"
   },
   {
    "duration": 219,
    "start_time": "2022-11-20T07:25:26.723Z"
   },
   {
    "duration": 7,
    "start_time": "2022-11-20T07:25:27.750Z"
   },
   {
    "duration": 56,
    "start_time": "2022-11-20T07:25:28.800Z"
   },
   {
    "duration": 11,
    "start_time": "2022-11-20T07:25:49.102Z"
   },
   {
    "duration": 45,
    "start_time": "2022-11-20T07:25:50.776Z"
   },
   {
    "duration": 5,
    "start_time": "2022-11-20T07:25:51.473Z"
   },
   {
    "duration": 96,
    "start_time": "2022-11-20T07:25:53.497Z"
   },
   {
    "duration": 6,
    "start_time": "2022-11-20T07:25:54.345Z"
   },
   {
    "duration": 69,
    "start_time": "2022-11-20T07:26:22.013Z"
   },
   {
    "duration": 85,
    "start_time": "2022-11-20T07:28:14.703Z"
   },
   {
    "duration": 38,
    "start_time": "2022-11-20T07:28:33.982Z"
   },
   {
    "duration": 7,
    "start_time": "2022-11-20T07:28:37.540Z"
   },
   {
    "duration": 10,
    "start_time": "2022-11-20T07:31:01.272Z"
   },
   {
    "duration": 73,
    "start_time": "2022-11-20T07:31:41.756Z"
   },
   {
    "duration": 8,
    "start_time": "2022-11-20T07:39:24.824Z"
   },
   {
    "duration": 5,
    "start_time": "2022-11-20T07:39:47.572Z"
   },
   {
    "duration": 4,
    "start_time": "2022-11-20T07:41:08.748Z"
   },
   {
    "duration": 9,
    "start_time": "2022-11-20T07:43:21.799Z"
   },
   {
    "duration": 3,
    "start_time": "2022-11-20T07:44:25.108Z"
   },
   {
    "duration": 4,
    "start_time": "2022-11-20T07:44:36.477Z"
   },
   {
    "duration": 4,
    "start_time": "2022-11-20T07:44:45.115Z"
   },
   {
    "duration": 8,
    "start_time": "2022-11-20T07:45:06.378Z"
   },
   {
    "duration": 7,
    "start_time": "2022-11-20T07:45:31.392Z"
   },
   {
    "duration": 10,
    "start_time": "2022-11-20T07:45:36.416Z"
   },
   {
    "duration": 4,
    "start_time": "2022-11-20T07:45:38.194Z"
   },
   {
    "duration": 7,
    "start_time": "2022-11-20T07:45:43.725Z"
   },
   {
    "duration": 10,
    "start_time": "2022-11-20T07:46:13.147Z"
   },
   {
    "duration": 12,
    "start_time": "2022-11-20T07:46:19.802Z"
   },
   {
    "duration": 4,
    "start_time": "2022-11-20T07:47:05.773Z"
   },
   {
    "duration": 9,
    "start_time": "2022-11-20T07:47:32.862Z"
   },
   {
    "duration": 69,
    "start_time": "2022-11-20T07:52:48.170Z"
   },
   {
    "duration": 5,
    "start_time": "2022-11-20T08:00:12.166Z"
   },
   {
    "duration": 4,
    "start_time": "2022-11-20T08:01:02.083Z"
   },
   {
    "duration": 10,
    "start_time": "2022-11-20T08:02:38.137Z"
   },
   {
    "duration": 11,
    "start_time": "2022-11-20T08:05:43.230Z"
   },
   {
    "duration": 73,
    "start_time": "2022-11-20T08:07:04.770Z"
   },
   {
    "duration": 73,
    "start_time": "2022-11-20T08:07:17.593Z"
   },
   {
    "duration": 77,
    "start_time": "2022-11-20T08:07:26.451Z"
   },
   {
    "duration": 71,
    "start_time": "2022-11-20T08:08:48.826Z"
   },
   {
    "duration": 60,
    "start_time": "2022-11-20T08:09:07.535Z"
   },
   {
    "duration": 3,
    "start_time": "2022-11-20T08:09:11.875Z"
   },
   {
    "duration": 11,
    "start_time": "2022-11-20T08:09:12.467Z"
   },
   {
    "duration": 9,
    "start_time": "2022-11-20T08:09:13.012Z"
   },
   {
    "duration": 4,
    "start_time": "2022-11-20T08:09:13.972Z"
   },
   {
    "duration": 9,
    "start_time": "2022-11-20T08:09:56.145Z"
   },
   {
    "duration": 4,
    "start_time": "2022-11-20T08:09:57.525Z"
   },
   {
    "duration": 1180,
    "start_time": "2022-11-20T08:10:15.959Z"
   },
   {
    "duration": 740,
    "start_time": "2022-11-20T08:10:17.141Z"
   },
   {
    "duration": 13,
    "start_time": "2022-11-20T08:10:17.883Z"
   },
   {
    "duration": 3,
    "start_time": "2022-11-20T08:10:17.898Z"
   },
   {
    "duration": 76,
    "start_time": "2022-11-20T08:10:17.903Z"
   },
   {
    "duration": 109,
    "start_time": "2022-11-20T08:10:17.980Z"
   },
   {
    "duration": 212,
    "start_time": "2022-11-20T08:10:18.091Z"
   },
   {
    "duration": 7,
    "start_time": "2022-11-20T08:10:18.305Z"
   },
   {
    "duration": 62,
    "start_time": "2022-11-20T08:10:18.313Z"
   },
   {
    "duration": 10,
    "start_time": "2022-11-20T08:10:18.377Z"
   },
   {
    "duration": 63,
    "start_time": "2022-11-20T08:10:18.388Z"
   },
   {
    "duration": 4,
    "start_time": "2022-11-20T08:10:18.453Z"
   },
   {
    "duration": 106,
    "start_time": "2022-11-20T08:10:18.458Z"
   },
   {
    "duration": 7,
    "start_time": "2022-11-20T08:10:18.568Z"
   },
   {
    "duration": 10,
    "start_time": "2022-11-20T08:10:18.576Z"
   },
   {
    "duration": 6,
    "start_time": "2022-11-20T08:10:18.587Z"
   },
   {
    "duration": 14,
    "start_time": "2022-11-20T08:10:18.594Z"
   },
   {
    "duration": 7,
    "start_time": "2022-11-20T08:10:18.610Z"
   },
   {
    "duration": 40,
    "start_time": "2022-11-20T08:10:18.618Z"
   },
   {
    "duration": 20,
    "start_time": "2022-11-20T08:10:18.660Z"
   },
   {
    "duration": 16,
    "start_time": "2022-11-20T08:10:18.682Z"
   },
   {
    "duration": 25,
    "start_time": "2022-11-20T08:10:18.700Z"
   },
   {
    "duration": 19,
    "start_time": "2022-11-20T08:10:18.727Z"
   },
   {
    "duration": 33,
    "start_time": "2022-11-20T08:10:18.751Z"
   },
   {
    "duration": 21,
    "start_time": "2022-11-20T08:10:18.786Z"
   },
   {
    "duration": 15,
    "start_time": "2022-11-20T08:10:18.809Z"
   },
   {
    "duration": 4,
    "start_time": "2022-11-20T08:10:18.851Z"
   },
   {
    "duration": 22,
    "start_time": "2022-11-20T08:10:18.857Z"
   },
   {
    "duration": 13,
    "start_time": "2022-11-20T08:10:18.881Z"
   },
   {
    "duration": 11,
    "start_time": "2022-11-20T08:10:18.896Z"
   },
   {
    "duration": 5,
    "start_time": "2022-11-20T08:10:18.908Z"
   },
   {
    "duration": 22,
    "start_time": "2022-11-20T08:10:18.914Z"
   },
   {
    "duration": 8,
    "start_time": "2022-11-20T08:10:18.951Z"
   },
   {
    "duration": 12,
    "start_time": "2022-11-20T08:10:18.961Z"
   },
   {
    "duration": 35,
    "start_time": "2022-11-20T08:10:18.975Z"
   },
   {
    "duration": 8,
    "start_time": "2022-11-20T08:10:19.012Z"
   },
   {
    "duration": 18,
    "start_time": "2022-11-20T08:10:19.021Z"
   },
   {
    "duration": 12,
    "start_time": "2022-11-20T08:10:19.050Z"
   },
   {
    "duration": 9,
    "start_time": "2022-11-20T08:10:19.064Z"
   },
   {
    "duration": 44,
    "start_time": "2022-11-20T08:10:19.075Z"
   },
   {
    "duration": 8,
    "start_time": "2022-11-20T08:10:19.153Z"
   },
   {
    "duration": 19,
    "start_time": "2022-11-20T08:10:19.163Z"
   },
   {
    "duration": 7,
    "start_time": "2022-11-20T08:10:19.184Z"
   },
   {
    "duration": 14,
    "start_time": "2022-11-20T08:10:19.193Z"
   },
   {
    "duration": 21,
    "start_time": "2022-11-20T08:10:19.209Z"
   },
   {
    "duration": 36,
    "start_time": "2022-11-20T08:10:19.232Z"
   },
   {
    "duration": 4,
    "start_time": "2022-11-20T08:10:19.270Z"
   },
   {
    "duration": 117,
    "start_time": "2022-11-20T08:10:19.276Z"
   },
   {
    "duration": 0,
    "start_time": "2022-11-20T08:10:19.395Z"
   },
   {
    "duration": 0,
    "start_time": "2022-11-20T08:10:19.396Z"
   },
   {
    "duration": 0,
    "start_time": "2022-11-20T08:10:19.398Z"
   },
   {
    "duration": 0,
    "start_time": "2022-11-20T08:10:19.399Z"
   },
   {
    "duration": 1,
    "start_time": "2022-11-20T08:10:19.400Z"
   },
   {
    "duration": 0,
    "start_time": "2022-11-20T08:10:19.402Z"
   },
   {
    "duration": 0,
    "start_time": "2022-11-20T08:10:19.403Z"
   },
   {
    "duration": 0,
    "start_time": "2022-11-20T08:10:19.405Z"
   },
   {
    "duration": 0,
    "start_time": "2022-11-20T08:10:19.407Z"
   },
   {
    "duration": 0,
    "start_time": "2022-11-20T08:10:19.409Z"
   },
   {
    "duration": 0,
    "start_time": "2022-11-20T08:10:19.410Z"
   },
   {
    "duration": 0,
    "start_time": "2022-11-20T08:10:19.411Z"
   },
   {
    "duration": 0,
    "start_time": "2022-11-20T08:10:19.412Z"
   },
   {
    "duration": 0,
    "start_time": "2022-11-20T08:10:19.414Z"
   },
   {
    "duration": 0,
    "start_time": "2022-11-20T08:10:19.416Z"
   },
   {
    "duration": 0,
    "start_time": "2022-11-20T08:10:19.451Z"
   },
   {
    "duration": 0,
    "start_time": "2022-11-20T08:10:19.452Z"
   },
   {
    "duration": 0,
    "start_time": "2022-11-20T08:10:19.454Z"
   },
   {
    "duration": 0,
    "start_time": "2022-11-20T08:10:19.455Z"
   },
   {
    "duration": 0,
    "start_time": "2022-11-20T08:10:19.457Z"
   },
   {
    "duration": 0,
    "start_time": "2022-11-20T08:10:19.461Z"
   },
   {
    "duration": 0,
    "start_time": "2022-11-20T08:10:19.463Z"
   },
   {
    "duration": 0,
    "start_time": "2022-11-20T08:10:19.464Z"
   },
   {
    "duration": 0,
    "start_time": "2022-11-20T08:10:19.465Z"
   },
   {
    "duration": 0,
    "start_time": "2022-11-20T08:10:19.467Z"
   },
   {
    "duration": 0,
    "start_time": "2022-11-20T08:10:19.468Z"
   },
   {
    "duration": 0,
    "start_time": "2022-11-20T08:10:19.469Z"
   },
   {
    "duration": 0,
    "start_time": "2022-11-20T08:10:19.471Z"
   },
   {
    "duration": 0,
    "start_time": "2022-11-20T08:10:19.472Z"
   },
   {
    "duration": 0,
    "start_time": "2022-11-20T08:10:19.473Z"
   },
   {
    "duration": 0,
    "start_time": "2022-11-20T08:10:19.474Z"
   },
   {
    "duration": 0,
    "start_time": "2022-11-20T08:10:19.475Z"
   },
   {
    "duration": 0,
    "start_time": "2022-11-20T08:10:19.476Z"
   },
   {
    "duration": 0,
    "start_time": "2022-11-20T08:10:19.477Z"
   },
   {
    "duration": 0,
    "start_time": "2022-11-20T08:10:19.479Z"
   },
   {
    "duration": 0,
    "start_time": "2022-11-20T08:10:19.480Z"
   },
   {
    "duration": 0,
    "start_time": "2022-11-20T08:10:19.481Z"
   },
   {
    "duration": 0,
    "start_time": "2022-11-20T08:10:19.482Z"
   },
   {
    "duration": 0,
    "start_time": "2022-11-20T08:10:19.484Z"
   },
   {
    "duration": 11,
    "start_time": "2022-11-20T08:11:38.033Z"
   },
   {
    "duration": 10,
    "start_time": "2022-11-20T08:11:58.298Z"
   },
   {
    "duration": 4,
    "start_time": "2022-11-20T08:11:59.886Z"
   },
   {
    "duration": 27,
    "start_time": "2022-11-20T08:12:28.163Z"
   },
   {
    "duration": 4,
    "start_time": "2022-11-20T08:12:28.757Z"
   },
   {
    "duration": 5,
    "start_time": "2022-11-20T08:13:50.026Z"
   },
   {
    "duration": 10,
    "start_time": "2022-11-20T08:45:29.465Z"
   },
   {
    "duration": 5,
    "start_time": "2022-11-20T08:46:43.606Z"
   },
   {
    "duration": 10,
    "start_time": "2022-11-20T08:47:43.693Z"
   },
   {
    "duration": 6,
    "start_time": "2022-11-20T08:47:53.405Z"
   },
   {
    "duration": 5,
    "start_time": "2022-11-20T08:48:14.071Z"
   },
   {
    "duration": 5,
    "start_time": "2022-11-20T08:50:05.939Z"
   },
   {
    "duration": 73,
    "start_time": "2022-11-20T08:50:06.501Z"
   },
   {
    "duration": 10,
    "start_time": "2022-11-20T08:50:35.065Z"
   },
   {
    "duration": 11,
    "start_time": "2022-11-20T08:50:57.423Z"
   },
   {
    "duration": 9,
    "start_time": "2022-11-20T08:51:07.411Z"
   },
   {
    "duration": 6,
    "start_time": "2022-11-20T08:51:09.411Z"
   },
   {
    "duration": 83,
    "start_time": "2022-11-20T08:51:10.283Z"
   },
   {
    "duration": 28,
    "start_time": "2022-11-20T08:51:28.899Z"
   },
   {
    "duration": 10,
    "start_time": "2022-11-20T08:51:35.702Z"
   },
   {
    "duration": 8,
    "start_time": "2022-11-20T08:53:11.291Z"
   },
   {
    "duration": 43,
    "start_time": "2022-11-20T08:53:11.837Z"
   },
   {
    "duration": 7,
    "start_time": "2022-11-20T08:53:13.317Z"
   },
   {
    "duration": 5,
    "start_time": "2022-11-20T08:53:25.689Z"
   },
   {
    "duration": 6,
    "start_time": "2022-11-20T08:55:58.829Z"
   },
   {
    "duration": 26,
    "start_time": "2022-11-20T08:55:59.315Z"
   },
   {
    "duration": 6,
    "start_time": "2022-11-20T08:56:02.030Z"
   },
   {
    "duration": 4,
    "start_time": "2022-11-20T08:58:17.203Z"
   },
   {
    "duration": 15,
    "start_time": "2022-11-20T08:59:22.201Z"
   },
   {
    "duration": 6,
    "start_time": "2022-11-20T08:59:27.224Z"
   },
   {
    "duration": 11,
    "start_time": "2022-11-20T08:59:29.738Z"
   },
   {
    "duration": 10,
    "start_time": "2022-11-20T08:59:33.449Z"
   },
   {
    "duration": 4,
    "start_time": "2022-11-20T08:59:39.983Z"
   },
   {
    "duration": 11,
    "start_time": "2022-11-20T08:59:42.285Z"
   },
   {
    "duration": 10,
    "start_time": "2022-11-20T08:59:43.004Z"
   },
   {
    "duration": 10,
    "start_time": "2022-11-20T08:59:46.016Z"
   },
   {
    "duration": 32,
    "start_time": "2022-11-20T08:59:58.494Z"
   },
   {
    "duration": 7,
    "start_time": "2022-11-20T09:00:11.002Z"
   },
   {
    "duration": 10,
    "start_time": "2022-11-20T09:00:31.096Z"
   },
   {
    "duration": 5,
    "start_time": "2022-11-20T09:00:37.795Z"
   },
   {
    "duration": 5,
    "start_time": "2022-11-20T09:00:52.687Z"
   },
   {
    "duration": 9,
    "start_time": "2022-11-20T09:00:54.020Z"
   },
   {
    "duration": 5,
    "start_time": "2022-11-20T09:02:50.987Z"
   },
   {
    "duration": 4,
    "start_time": "2022-11-20T09:02:51.432Z"
   },
   {
    "duration": 22,
    "start_time": "2022-11-20T09:02:53.110Z"
   },
   {
    "duration": 4,
    "start_time": "2022-11-20T09:02:53.666Z"
   },
   {
    "duration": 1175,
    "start_time": "2022-11-20T09:03:51.569Z"
   },
   {
    "duration": 759,
    "start_time": "2022-11-20T09:03:52.746Z"
   },
   {
    "duration": 14,
    "start_time": "2022-11-20T09:03:53.506Z"
   },
   {
    "duration": 4,
    "start_time": "2022-11-20T09:03:53.522Z"
   },
   {
    "duration": 70,
    "start_time": "2022-11-20T09:03:53.527Z"
   },
   {
    "duration": 105,
    "start_time": "2022-11-20T09:03:53.599Z"
   },
   {
    "duration": 221,
    "start_time": "2022-11-20T09:03:53.706Z"
   },
   {
    "duration": 7,
    "start_time": "2022-11-20T09:03:53.929Z"
   },
   {
    "duration": 53,
    "start_time": "2022-11-20T09:03:53.938Z"
   },
   {
    "duration": 12,
    "start_time": "2022-11-20T09:03:53.996Z"
   },
   {
    "duration": 66,
    "start_time": "2022-11-20T09:03:54.010Z"
   },
   {
    "duration": 4,
    "start_time": "2022-11-20T09:03:54.077Z"
   },
   {
    "duration": 117,
    "start_time": "2022-11-20T09:03:54.083Z"
   },
   {
    "duration": 9,
    "start_time": "2022-11-20T09:03:54.202Z"
   },
   {
    "duration": 11,
    "start_time": "2022-11-20T09:03:54.213Z"
   },
   {
    "duration": 27,
    "start_time": "2022-11-20T09:03:54.226Z"
   },
   {
    "duration": 11,
    "start_time": "2022-11-20T09:03:54.256Z"
   },
   {
    "duration": 7,
    "start_time": "2022-11-20T09:03:54.269Z"
   },
   {
    "duration": 7,
    "start_time": "2022-11-20T09:03:54.277Z"
   },
   {
    "duration": 5,
    "start_time": "2022-11-20T09:03:54.286Z"
   },
   {
    "duration": 12,
    "start_time": "2022-11-20T09:03:54.292Z"
   },
   {
    "duration": 55,
    "start_time": "2022-11-20T09:03:54.306Z"
   },
   {
    "duration": 23,
    "start_time": "2022-11-20T09:03:54.363Z"
   },
   {
    "duration": 48,
    "start_time": "2022-11-20T09:03:54.388Z"
   },
   {
    "duration": 30,
    "start_time": "2022-11-20T09:03:54.438Z"
   },
   {
    "duration": 15,
    "start_time": "2022-11-20T09:03:54.471Z"
   },
   {
    "duration": 19,
    "start_time": "2022-11-20T09:03:54.494Z"
   },
   {
    "duration": 12,
    "start_time": "2022-11-20T09:03:54.517Z"
   },
   {
    "duration": 22,
    "start_time": "2022-11-20T09:03:54.531Z"
   },
   {
    "duration": 12,
    "start_time": "2022-11-20T09:03:54.555Z"
   },
   {
    "duration": 35,
    "start_time": "2022-11-20T09:03:54.569Z"
   },
   {
    "duration": 5,
    "start_time": "2022-11-20T09:03:54.606Z"
   },
   {
    "duration": 6,
    "start_time": "2022-11-20T09:03:54.613Z"
   },
   {
    "duration": 46,
    "start_time": "2022-11-20T09:03:54.620Z"
   },
   {
    "duration": 7,
    "start_time": "2022-11-20T09:03:54.668Z"
   },
   {
    "duration": 14,
    "start_time": "2022-11-20T09:03:54.677Z"
   },
   {
    "duration": 16,
    "start_time": "2022-11-20T09:03:54.693Z"
   },
   {
    "duration": 6,
    "start_time": "2022-11-20T09:03:54.710Z"
   },
   {
    "duration": 41,
    "start_time": "2022-11-20T09:03:54.717Z"
   },
   {
    "duration": 10,
    "start_time": "2022-11-20T09:03:54.760Z"
   },
   {
    "duration": 9,
    "start_time": "2022-11-20T09:03:54.772Z"
   },
   {
    "duration": 68,
    "start_time": "2022-11-20T09:03:54.783Z"
   },
   {
    "duration": 9,
    "start_time": "2022-11-20T09:03:54.853Z"
   },
   {
    "duration": 13,
    "start_time": "2022-11-20T09:03:54.864Z"
   },
   {
    "duration": 8,
    "start_time": "2022-11-20T09:03:54.878Z"
   },
   {
    "duration": 8,
    "start_time": "2022-11-20T09:03:54.888Z"
   },
   {
    "duration": 14,
    "start_time": "2022-11-20T09:03:54.898Z"
   },
   {
    "duration": 38,
    "start_time": "2022-11-20T09:03:54.915Z"
   },
   {
    "duration": 4,
    "start_time": "2022-11-20T09:03:54.955Z"
   },
   {
    "duration": 29,
    "start_time": "2022-11-20T09:03:54.961Z"
   },
   {
    "duration": 5,
    "start_time": "2022-11-20T09:03:54.992Z"
   },
   {
    "duration": 123,
    "start_time": "2022-11-20T09:03:54.999Z"
   },
   {
    "duration": 0,
    "start_time": "2022-11-20T09:03:55.124Z"
   },
   {
    "duration": 0,
    "start_time": "2022-11-20T09:03:55.125Z"
   },
   {
    "duration": 0,
    "start_time": "2022-11-20T09:03:55.126Z"
   },
   {
    "duration": 0,
    "start_time": "2022-11-20T09:03:55.128Z"
   },
   {
    "duration": 0,
    "start_time": "2022-11-20T09:03:55.129Z"
   },
   {
    "duration": 0,
    "start_time": "2022-11-20T09:03:55.130Z"
   },
   {
    "duration": 0,
    "start_time": "2022-11-20T09:03:55.152Z"
   },
   {
    "duration": 0,
    "start_time": "2022-11-20T09:03:55.153Z"
   },
   {
    "duration": 0,
    "start_time": "2022-11-20T09:03:55.154Z"
   },
   {
    "duration": 0,
    "start_time": "2022-11-20T09:03:55.156Z"
   },
   {
    "duration": 0,
    "start_time": "2022-11-20T09:03:55.157Z"
   },
   {
    "duration": 0,
    "start_time": "2022-11-20T09:03:55.158Z"
   },
   {
    "duration": 0,
    "start_time": "2022-11-20T09:03:55.159Z"
   },
   {
    "duration": 0,
    "start_time": "2022-11-20T09:03:55.161Z"
   },
   {
    "duration": 0,
    "start_time": "2022-11-20T09:03:55.162Z"
   },
   {
    "duration": 0,
    "start_time": "2022-11-20T09:03:55.163Z"
   },
   {
    "duration": 0,
    "start_time": "2022-11-20T09:03:55.164Z"
   },
   {
    "duration": 0,
    "start_time": "2022-11-20T09:03:55.165Z"
   },
   {
    "duration": 0,
    "start_time": "2022-11-20T09:03:55.166Z"
   },
   {
    "duration": 0,
    "start_time": "2022-11-20T09:03:55.168Z"
   },
   {
    "duration": 0,
    "start_time": "2022-11-20T09:03:55.169Z"
   },
   {
    "duration": 0,
    "start_time": "2022-11-20T09:03:55.170Z"
   },
   {
    "duration": 0,
    "start_time": "2022-11-20T09:03:55.171Z"
   },
   {
    "duration": 0,
    "start_time": "2022-11-20T09:03:55.172Z"
   },
   {
    "duration": 0,
    "start_time": "2022-11-20T09:03:55.173Z"
   },
   {
    "duration": 0,
    "start_time": "2022-11-20T09:03:55.174Z"
   },
   {
    "duration": 0,
    "start_time": "2022-11-20T09:03:55.176Z"
   },
   {
    "duration": 0,
    "start_time": "2022-11-20T09:03:55.177Z"
   },
   {
    "duration": 0,
    "start_time": "2022-11-20T09:03:55.178Z"
   },
   {
    "duration": 0,
    "start_time": "2022-11-20T09:03:55.179Z"
   },
   {
    "duration": 0,
    "start_time": "2022-11-20T09:03:55.181Z"
   },
   {
    "duration": 0,
    "start_time": "2022-11-20T09:03:55.182Z"
   },
   {
    "duration": 0,
    "start_time": "2022-11-20T09:03:55.183Z"
   },
   {
    "duration": 0,
    "start_time": "2022-11-20T09:03:55.184Z"
   },
   {
    "duration": 0,
    "start_time": "2022-11-20T09:03:55.186Z"
   },
   {
    "duration": 0,
    "start_time": "2022-11-20T09:03:55.187Z"
   },
   {
    "duration": 6,
    "start_time": "2022-11-20T09:04:34.305Z"
   },
   {
    "duration": 8,
    "start_time": "2022-11-20T09:04:34.838Z"
   },
   {
    "duration": 6,
    "start_time": "2022-11-20T09:04:39.418Z"
   },
   {
    "duration": 15,
    "start_time": "2022-11-20T09:04:57.045Z"
   },
   {
    "duration": 6,
    "start_time": "2022-11-20T09:05:07.119Z"
   },
   {
    "duration": 6,
    "start_time": "2022-11-20T09:05:11.485Z"
   },
   {
    "duration": 14,
    "start_time": "2022-11-20T09:05:18.308Z"
   },
   {
    "duration": 4,
    "start_time": "2022-11-20T09:05:19.974Z"
   },
   {
    "duration": 7,
    "start_time": "2022-11-20T09:05:20.531Z"
   },
   {
    "duration": 6,
    "start_time": "2022-11-20T09:05:32.714Z"
   },
   {
    "duration": 28,
    "start_time": "2022-11-20T09:05:33.478Z"
   },
   {
    "duration": 4,
    "start_time": "2022-11-20T09:05:38.222Z"
   },
   {
    "duration": 237,
    "start_time": "2022-11-20T09:05:56.605Z"
   },
   {
    "duration": 11,
    "start_time": "2022-11-20T09:05:56.857Z"
   },
   {
    "duration": 6,
    "start_time": "2022-11-20T09:05:57.464Z"
   },
   {
    "duration": 12,
    "start_time": "2022-11-20T09:05:59.197Z"
   },
   {
    "duration": 10,
    "start_time": "2022-11-20T09:06:00.408Z"
   },
   {
    "duration": 73,
    "start_time": "2022-11-20T09:06:57.278Z"
   },
   {
    "duration": 69,
    "start_time": "2022-11-20T09:19:10.481Z"
   },
   {
    "duration": 289,
    "start_time": "2022-11-20T09:23:11.735Z"
   },
   {
    "duration": 13,
    "start_time": "2022-11-20T09:23:13.265Z"
   },
   {
    "duration": 6,
    "start_time": "2022-11-20T09:23:13.887Z"
   },
   {
    "duration": 22,
    "start_time": "2022-11-20T09:23:14.341Z"
   },
   {
    "duration": 11,
    "start_time": "2022-11-20T09:23:16.507Z"
   },
   {
    "duration": 78,
    "start_time": "2022-11-20T09:24:08.999Z"
   },
   {
    "duration": 245,
    "start_time": "2022-11-20T09:26:05.247Z"
   },
   {
    "duration": 11,
    "start_time": "2022-11-20T09:26:05.719Z"
   },
   {
    "duration": 6,
    "start_time": "2022-11-20T09:26:06.260Z"
   },
   {
    "duration": 11,
    "start_time": "2022-11-20T09:26:06.783Z"
   },
   {
    "duration": 11,
    "start_time": "2022-11-20T09:26:08.961Z"
   },
   {
    "duration": 9,
    "start_time": "2022-11-20T09:26:10.435Z"
   },
   {
    "duration": 4,
    "start_time": "2022-11-20T09:26:13.428Z"
   },
   {
    "duration": 8,
    "start_time": "2022-11-20T09:26:14.184Z"
   },
   {
    "duration": 7,
    "start_time": "2022-11-20T09:26:14.867Z"
   },
   {
    "duration": 6,
    "start_time": "2022-11-20T09:26:21.072Z"
   },
   {
    "duration": 324,
    "start_time": "2022-11-20T09:26:24.965Z"
   },
   {
    "duration": 1141,
    "start_time": "2022-11-20T09:28:01.579Z"
   },
   {
    "duration": 808,
    "start_time": "2022-11-20T09:28:02.722Z"
   },
   {
    "duration": 15,
    "start_time": "2022-11-20T09:28:03.532Z"
   },
   {
    "duration": 32,
    "start_time": "2022-11-20T09:28:03.550Z"
   },
   {
    "duration": 80,
    "start_time": "2022-11-20T09:28:03.584Z"
   },
   {
    "duration": 111,
    "start_time": "2022-11-20T09:28:03.668Z"
   },
   {
    "duration": 224,
    "start_time": "2022-11-20T09:28:03.781Z"
   },
   {
    "duration": 8,
    "start_time": "2022-11-20T09:28:04.007Z"
   },
   {
    "duration": 69,
    "start_time": "2022-11-20T09:28:04.016Z"
   },
   {
    "duration": 10,
    "start_time": "2022-11-20T09:28:04.087Z"
   },
   {
    "duration": 67,
    "start_time": "2022-11-20T09:28:04.099Z"
   },
   {
    "duration": 8,
    "start_time": "2022-11-20T09:28:04.167Z"
   },
   {
    "duration": 123,
    "start_time": "2022-11-20T09:28:04.177Z"
   },
   {
    "duration": 8,
    "start_time": "2022-11-20T09:28:04.303Z"
   },
   {
    "duration": 13,
    "start_time": "2022-11-20T09:28:04.313Z"
   },
   {
    "duration": 8,
    "start_time": "2022-11-20T09:28:04.328Z"
   },
   {
    "duration": 21,
    "start_time": "2022-11-20T09:28:04.351Z"
   },
   {
    "duration": 6,
    "start_time": "2022-11-20T09:28:04.374Z"
   },
   {
    "duration": 10,
    "start_time": "2022-11-20T09:28:04.382Z"
   },
   {
    "duration": 5,
    "start_time": "2022-11-20T09:28:04.394Z"
   },
   {
    "duration": 13,
    "start_time": "2022-11-20T09:28:04.401Z"
   },
   {
    "duration": 45,
    "start_time": "2022-11-20T09:28:04.416Z"
   },
   {
    "duration": 22,
    "start_time": "2022-11-20T09:28:04.464Z"
   },
   {
    "duration": 34,
    "start_time": "2022-11-20T09:28:04.488Z"
   },
   {
    "duration": 46,
    "start_time": "2022-11-20T09:28:04.524Z"
   },
   {
    "duration": 16,
    "start_time": "2022-11-20T09:28:04.571Z"
   },
   {
    "duration": 7,
    "start_time": "2022-11-20T09:28:04.589Z"
   },
   {
    "duration": 7,
    "start_time": "2022-11-20T09:28:04.600Z"
   },
   {
    "duration": 18,
    "start_time": "2022-11-20T09:28:04.609Z"
   },
   {
    "duration": 27,
    "start_time": "2022-11-20T09:28:04.629Z"
   },
   {
    "duration": 57,
    "start_time": "2022-11-20T09:28:04.657Z"
   },
   {
    "duration": 9,
    "start_time": "2022-11-20T09:28:04.716Z"
   },
   {
    "duration": 11,
    "start_time": "2022-11-20T09:28:04.727Z"
   },
   {
    "duration": 30,
    "start_time": "2022-11-20T09:28:04.740Z"
   },
   {
    "duration": 12,
    "start_time": "2022-11-20T09:28:04.772Z"
   },
   {
    "duration": 14,
    "start_time": "2022-11-20T09:28:04.786Z"
   },
   {
    "duration": 10,
    "start_time": "2022-11-20T09:28:04.802Z"
   },
   {
    "duration": 6,
    "start_time": "2022-11-20T09:28:04.814Z"
   },
   {
    "duration": 45,
    "start_time": "2022-11-20T09:28:04.821Z"
   },
   {
    "duration": 14,
    "start_time": "2022-11-20T09:28:04.868Z"
   },
   {
    "duration": 8,
    "start_time": "2022-11-20T09:28:04.883Z"
   },
   {
    "duration": 41,
    "start_time": "2022-11-20T09:28:04.892Z"
   },
   {
    "duration": 8,
    "start_time": "2022-11-20T09:28:04.958Z"
   },
   {
    "duration": 12,
    "start_time": "2022-11-20T09:28:04.967Z"
   },
   {
    "duration": 7,
    "start_time": "2022-11-20T09:28:04.981Z"
   },
   {
    "duration": 8,
    "start_time": "2022-11-20T09:28:04.990Z"
   },
   {
    "duration": 18,
    "start_time": "2022-11-20T09:28:05.000Z"
   },
   {
    "duration": 14,
    "start_time": "2022-11-20T09:28:05.020Z"
   },
   {
    "duration": 5,
    "start_time": "2022-11-20T09:28:05.036Z"
   },
   {
    "duration": 30,
    "start_time": "2022-11-20T09:28:05.050Z"
   },
   {
    "duration": 4,
    "start_time": "2022-11-20T09:28:05.082Z"
   },
   {
    "duration": 8,
    "start_time": "2022-11-20T09:28:05.087Z"
   },
   {
    "duration": 8,
    "start_time": "2022-11-20T09:28:05.097Z"
   },
   {
    "duration": 7,
    "start_time": "2022-11-20T09:28:05.107Z"
   },
   {
    "duration": 40,
    "start_time": "2022-11-20T09:28:05.116Z"
   },
   {
    "duration": 9,
    "start_time": "2022-11-20T09:28:05.162Z"
   },
   {
    "duration": 15,
    "start_time": "2022-11-20T09:28:05.174Z"
   },
   {
    "duration": 21,
    "start_time": "2022-11-20T09:28:05.192Z"
   },
   {
    "duration": 6,
    "start_time": "2022-11-20T09:28:05.215Z"
   },
   {
    "duration": 8,
    "start_time": "2022-11-20T09:28:05.223Z"
   },
   {
    "duration": 6,
    "start_time": "2022-11-20T09:28:05.233Z"
   },
   {
    "duration": 25,
    "start_time": "2022-11-20T09:28:05.256Z"
   },
   {
    "duration": 4,
    "start_time": "2022-11-20T09:28:05.283Z"
   },
   {
    "duration": 269,
    "start_time": "2022-11-20T09:28:05.288Z"
   },
   {
    "duration": 14,
    "start_time": "2022-11-20T09:28:05.558Z"
   },
   {
    "duration": 6,
    "start_time": "2022-11-20T09:28:05.574Z"
   },
   {
    "duration": 11,
    "start_time": "2022-11-20T09:28:05.582Z"
   },
   {
    "duration": 9,
    "start_time": "2022-11-20T09:28:05.595Z"
   },
   {
    "duration": 7,
    "start_time": "2022-11-20T09:28:05.606Z"
   },
   {
    "duration": 4,
    "start_time": "2022-11-20T09:28:05.615Z"
   },
   {
    "duration": 36,
    "start_time": "2022-11-20T09:28:05.620Z"
   },
   {
    "duration": 8,
    "start_time": "2022-11-20T09:28:05.663Z"
   },
   {
    "duration": 22,
    "start_time": "2022-11-20T09:28:05.672Z"
   },
   {
    "duration": 322,
    "start_time": "2022-11-20T09:28:05.695Z"
   },
   {
    "duration": 8,
    "start_time": "2022-11-20T09:28:06.019Z"
   },
   {
    "duration": 26,
    "start_time": "2022-11-20T09:28:06.028Z"
   },
   {
    "duration": 192,
    "start_time": "2022-11-20T09:28:06.056Z"
   },
   {
    "duration": 16,
    "start_time": "2022-11-20T09:28:06.250Z"
   },
   {
    "duration": 20,
    "start_time": "2022-11-20T09:28:06.267Z"
   },
   {
    "duration": 16,
    "start_time": "2022-11-20T09:28:06.288Z"
   },
   {
    "duration": 61,
    "start_time": "2022-11-20T09:28:06.306Z"
   },
   {
    "duration": 17,
    "start_time": "2022-11-20T09:28:06.373Z"
   },
   {
    "duration": 9,
    "start_time": "2022-11-20T09:28:06.391Z"
   },
   {
    "duration": 85,
    "start_time": "2022-11-20T09:28:06.402Z"
   },
   {
    "duration": 12,
    "start_time": "2022-11-20T09:28:06.488Z"
   },
   {
    "duration": 5,
    "start_time": "2022-11-20T09:28:06.501Z"
   },
   {
    "duration": 12,
    "start_time": "2022-11-20T09:28:06.508Z"
   },
   {
    "duration": 27,
    "start_time": "2022-11-20T09:30:15.082Z"
   },
   {
    "duration": 28,
    "start_time": "2022-11-20T09:32:10.990Z"
   },
   {
    "duration": 130,
    "start_time": "2022-11-20T09:35:29.585Z"
   },
   {
    "duration": 15,
    "start_time": "2022-11-20T09:35:42.098Z"
   },
   {
    "duration": 1327,
    "start_time": "2022-11-20T09:39:00.898Z"
   },
   {
    "duration": 25,
    "start_time": "2022-11-20T09:40:02.972Z"
   },
   {
    "duration": 228,
    "start_time": "2022-11-20T09:40:23.775Z"
   },
   {
    "duration": 246,
    "start_time": "2022-11-20T09:40:45.521Z"
   },
   {
    "duration": 254,
    "start_time": "2022-11-20T09:44:50.102Z"
   },
   {
    "duration": 223,
    "start_time": "2022-11-20T09:45:04.286Z"
   },
   {
    "duration": 348,
    "start_time": "2022-11-20T09:45:05.192Z"
   },
   {
    "duration": 259,
    "start_time": "2022-11-20T09:45:13.579Z"
   },
   {
    "duration": 9,
    "start_time": "2022-11-20T09:51:10.545Z"
   },
   {
    "duration": 11,
    "start_time": "2022-11-20T09:51:10.881Z"
   },
   {
    "duration": 13,
    "start_time": "2022-11-20T09:51:13.403Z"
   },
   {
    "duration": 9,
    "start_time": "2022-11-20T09:51:20.527Z"
   },
   {
    "duration": 9,
    "start_time": "2022-11-20T09:51:21.415Z"
   },
   {
    "duration": 17,
    "start_time": "2022-11-20T09:51:25.469Z"
   },
   {
    "duration": 14,
    "start_time": "2022-11-20T09:51:29.573Z"
   },
   {
    "duration": 15,
    "start_time": "2022-11-20T09:51:30.311Z"
   },
   {
    "duration": 11,
    "start_time": "2022-11-20T09:56:55.709Z"
   },
   {
    "duration": 12,
    "start_time": "2022-11-20T09:57:08.889Z"
   },
   {
    "duration": 12,
    "start_time": "2022-11-20T09:57:11.330Z"
   },
   {
    "duration": 13,
    "start_time": "2022-11-20T09:57:19.167Z"
   },
   {
    "duration": 11,
    "start_time": "2022-11-20T09:57:28.174Z"
   },
   {
    "duration": 10,
    "start_time": "2022-11-20T09:57:46.116Z"
   },
   {
    "duration": 12,
    "start_time": "2022-11-20T09:57:47.485Z"
   },
   {
    "duration": 13,
    "start_time": "2022-11-20T09:58:10.065Z"
   },
   {
    "duration": 10,
    "start_time": "2022-11-20T09:58:11.470Z"
   },
   {
    "duration": 11,
    "start_time": "2022-11-20T09:58:32.079Z"
   },
   {
    "duration": 13,
    "start_time": "2022-11-20T09:58:34.275Z"
   },
   {
    "duration": 75,
    "start_time": "2022-11-20T09:59:53.709Z"
   },
   {
    "duration": 7,
    "start_time": "2022-11-20T10:00:52.445Z"
   },
   {
    "duration": 9,
    "start_time": "2022-11-20T10:01:02.571Z"
   },
   {
    "duration": 66,
    "start_time": "2022-11-20T10:05:27.903Z"
   },
   {
    "duration": 1075,
    "start_time": "2022-11-20T10:06:05.520Z"
   },
   {
    "duration": 717,
    "start_time": "2022-11-20T10:06:06.597Z"
   },
   {
    "duration": 13,
    "start_time": "2022-11-20T10:06:07.316Z"
   },
   {
    "duration": 3,
    "start_time": "2022-11-20T10:06:07.331Z"
   },
   {
    "duration": 66,
    "start_time": "2022-11-20T10:06:07.336Z"
   },
   {
    "duration": 120,
    "start_time": "2022-11-20T10:06:07.404Z"
   },
   {
    "duration": 213,
    "start_time": "2022-11-20T10:06:07.525Z"
   },
   {
    "duration": 11,
    "start_time": "2022-11-20T10:06:07.740Z"
   },
   {
    "duration": 44,
    "start_time": "2022-11-20T10:06:07.753Z"
   },
   {
    "duration": 9,
    "start_time": "2022-11-20T10:06:07.800Z"
   },
   {
    "duration": 69,
    "start_time": "2022-11-20T10:06:07.810Z"
   },
   {
    "duration": 4,
    "start_time": "2022-11-20T10:06:07.881Z"
   },
   {
    "duration": 110,
    "start_time": "2022-11-20T10:06:07.887Z"
   },
   {
    "duration": 7,
    "start_time": "2022-11-20T10:06:07.999Z"
   },
   {
    "duration": 9,
    "start_time": "2022-11-20T10:06:08.007Z"
   },
   {
    "duration": 7,
    "start_time": "2022-11-20T10:06:08.017Z"
   },
   {
    "duration": 28,
    "start_time": "2022-11-20T10:06:08.026Z"
   },
   {
    "duration": 6,
    "start_time": "2022-11-20T10:06:08.056Z"
   },
   {
    "duration": 7,
    "start_time": "2022-11-20T10:06:08.064Z"
   },
   {
    "duration": 5,
    "start_time": "2022-11-20T10:06:08.072Z"
   },
   {
    "duration": 18,
    "start_time": "2022-11-20T10:06:08.079Z"
   },
   {
    "duration": 24,
    "start_time": "2022-11-20T10:06:08.099Z"
   },
   {
    "duration": 18,
    "start_time": "2022-11-20T10:06:08.150Z"
   },
   {
    "duration": 31,
    "start_time": "2022-11-20T10:06:08.170Z"
   },
   {
    "duration": 19,
    "start_time": "2022-11-20T10:06:08.203Z"
   },
   {
    "duration": 38,
    "start_time": "2022-11-20T10:06:08.224Z"
   },
   {
    "duration": 9,
    "start_time": "2022-11-20T10:06:08.264Z"
   },
   {
    "duration": 7,
    "start_time": "2022-11-20T10:06:08.277Z"
   },
   {
    "duration": 10,
    "start_time": "2022-11-20T10:06:08.286Z"
   },
   {
    "duration": 11,
    "start_time": "2022-11-20T10:06:08.298Z"
   },
   {
    "duration": 42,
    "start_time": "2022-11-20T10:06:08.311Z"
   },
   {
    "duration": 5,
    "start_time": "2022-11-20T10:06:08.355Z"
   },
   {
    "duration": 10,
    "start_time": "2022-11-20T10:06:08.361Z"
   },
   {
    "duration": 17,
    "start_time": "2022-11-20T10:06:08.373Z"
   },
   {
    "duration": 7,
    "start_time": "2022-11-20T10:06:08.391Z"
   },
   {
    "duration": 15,
    "start_time": "2022-11-20T10:06:08.399Z"
   },
   {
    "duration": 12,
    "start_time": "2022-11-20T10:06:08.415Z"
   },
   {
    "duration": 24,
    "start_time": "2022-11-20T10:06:08.429Z"
   },
   {
    "duration": 18,
    "start_time": "2022-11-20T10:06:08.454Z"
   },
   {
    "duration": 12,
    "start_time": "2022-11-20T10:06:08.473Z"
   },
   {
    "duration": 8,
    "start_time": "2022-11-20T10:06:08.488Z"
   },
   {
    "duration": 57,
    "start_time": "2022-11-20T10:06:08.497Z"
   },
   {
    "duration": 7,
    "start_time": "2022-11-20T10:06:08.555Z"
   },
   {
    "duration": 8,
    "start_time": "2022-11-20T10:06:08.564Z"
   },
   {
    "duration": 7,
    "start_time": "2022-11-20T10:06:08.574Z"
   },
   {
    "duration": 6,
    "start_time": "2022-11-20T10:06:08.582Z"
   },
   {
    "duration": 15,
    "start_time": "2022-11-20T10:06:08.589Z"
   },
   {
    "duration": 14,
    "start_time": "2022-11-20T10:06:08.605Z"
   },
   {
    "duration": 31,
    "start_time": "2022-11-20T10:06:08.621Z"
   },
   {
    "duration": 27,
    "start_time": "2022-11-20T10:06:08.654Z"
   },
   {
    "duration": 4,
    "start_time": "2022-11-20T10:06:08.683Z"
   },
   {
    "duration": 10,
    "start_time": "2022-11-20T10:06:08.688Z"
   },
   {
    "duration": 9,
    "start_time": "2022-11-20T10:06:08.699Z"
   },
   {
    "duration": 9,
    "start_time": "2022-11-20T10:06:08.709Z"
   },
   {
    "duration": 33,
    "start_time": "2022-11-20T10:06:08.719Z"
   },
   {
    "duration": 5,
    "start_time": "2022-11-20T10:06:08.753Z"
   },
   {
    "duration": 9,
    "start_time": "2022-11-20T10:06:08.759Z"
   },
   {
    "duration": 15,
    "start_time": "2022-11-20T10:06:08.770Z"
   },
   {
    "duration": 4,
    "start_time": "2022-11-20T10:06:08.786Z"
   },
   {
    "duration": 8,
    "start_time": "2022-11-20T10:06:08.792Z"
   },
   {
    "duration": 8,
    "start_time": "2022-11-20T10:06:08.801Z"
   },
   {
    "duration": 57,
    "start_time": "2022-11-20T10:06:08.810Z"
   },
   {
    "duration": 4,
    "start_time": "2022-11-20T10:06:08.868Z"
   },
   {
    "duration": 256,
    "start_time": "2022-11-20T10:06:08.873Z"
   },
   {
    "duration": 13,
    "start_time": "2022-11-20T10:06:09.131Z"
   },
   {
    "duration": 6,
    "start_time": "2022-11-20T10:06:09.151Z"
   },
   {
    "duration": 15,
    "start_time": "2022-11-20T10:06:09.159Z"
   },
   {
    "duration": 24,
    "start_time": "2022-11-20T10:06:09.176Z"
   },
   {
    "duration": 18,
    "start_time": "2022-11-20T10:06:09.202Z"
   },
   {
    "duration": 7,
    "start_time": "2022-11-20T10:06:09.223Z"
   },
   {
    "duration": 11,
    "start_time": "2022-11-20T10:06:09.231Z"
   },
   {
    "duration": 12,
    "start_time": "2022-11-20T10:06:09.244Z"
   },
   {
    "duration": 7,
    "start_time": "2022-11-20T10:06:09.258Z"
   },
   {
    "duration": 331,
    "start_time": "2022-11-20T10:06:09.266Z"
   },
   {
    "duration": 290,
    "start_time": "2022-11-20T10:06:09.600Z"
   },
   {
    "duration": 228,
    "start_time": "2022-11-20T10:06:09.892Z"
   },
   {
    "duration": 7,
    "start_time": "2022-11-20T10:06:10.122Z"
   },
   {
    "duration": 23,
    "start_time": "2022-11-20T10:06:10.131Z"
   },
   {
    "duration": 189,
    "start_time": "2022-11-20T10:06:10.155Z"
   },
   {
    "duration": 9,
    "start_time": "2022-11-20T10:06:10.345Z"
   },
   {
    "duration": 11,
    "start_time": "2022-11-20T10:06:10.356Z"
   },
   {
    "duration": 12,
    "start_time": "2022-11-20T10:06:10.372Z"
   },
   {
    "duration": 10,
    "start_time": "2022-11-20T10:06:10.386Z"
   },
   {
    "duration": 16,
    "start_time": "2022-11-20T10:06:10.452Z"
   },
   {
    "duration": 16,
    "start_time": "2022-11-20T10:06:10.470Z"
   },
   {
    "duration": 88,
    "start_time": "2022-11-20T10:06:10.488Z"
   },
   {
    "duration": 14,
    "start_time": "2022-11-20T10:06:10.577Z"
   },
   {
    "duration": 7,
    "start_time": "2022-11-20T10:06:10.593Z"
   },
   {
    "duration": 16,
    "start_time": "2022-11-20T10:06:10.602Z"
   },
   {
    "duration": 97,
    "start_time": "2022-11-20T10:08:31.935Z"
   },
   {
    "duration": 35,
    "start_time": "2022-11-20T10:11:38.433Z"
   },
   {
    "duration": 32,
    "start_time": "2022-11-20T10:13:05.275Z"
   },
   {
    "duration": 35,
    "start_time": "2022-11-20T10:13:17.070Z"
   },
   {
    "duration": 35,
    "start_time": "2022-11-20T10:13:33.809Z"
   },
   {
    "duration": 65,
    "start_time": "2022-11-20T10:16:17.273Z"
   },
   {
    "duration": 35,
    "start_time": "2022-11-20T10:16:24.700Z"
   },
   {
    "duration": 32,
    "start_time": "2022-11-20T10:17:23.349Z"
   },
   {
    "duration": 34,
    "start_time": "2022-11-20T10:17:33.409Z"
   },
   {
    "duration": 25,
    "start_time": "2022-11-20T10:17:34.812Z"
   },
   {
    "duration": 21,
    "start_time": "2022-11-20T10:18:13.442Z"
   },
   {
    "duration": 12,
    "start_time": "2022-11-20T10:18:50.246Z"
   },
   {
    "duration": 14,
    "start_time": "2022-11-20T10:19:23.780Z"
   },
   {
    "duration": 35,
    "start_time": "2022-11-20T10:19:57.161Z"
   },
   {
    "duration": 7,
    "start_time": "2022-11-20T10:20:20.293Z"
   },
   {
    "duration": 14,
    "start_time": "2022-11-20T10:20:22.491Z"
   },
   {
    "duration": 13,
    "start_time": "2022-11-20T10:20:31.222Z"
   },
   {
    "duration": 3,
    "start_time": "2022-11-20T10:20:42.203Z"
   },
   {
    "duration": 615,
    "start_time": "2022-11-20T10:20:42.689Z"
   },
   {
    "duration": 9,
    "start_time": "2022-11-20T10:20:45.800Z"
   },
   {
    "duration": 3,
    "start_time": "2022-11-20T10:20:46.387Z"
   },
   {
    "duration": 63,
    "start_time": "2022-11-20T10:20:46.940Z"
   },
   {
    "duration": 101,
    "start_time": "2022-11-20T10:20:48.028Z"
   },
   {
    "duration": 207,
    "start_time": "2022-11-20T10:20:49.031Z"
   },
   {
    "duration": 8,
    "start_time": "2022-11-20T10:20:50.105Z"
   },
   {
    "duration": 44,
    "start_time": "2022-11-20T10:20:51.588Z"
   },
   {
    "duration": 40,
    "start_time": "2022-11-20T10:20:58.792Z"
   },
   {
    "duration": 39,
    "start_time": "2022-11-20T10:21:04.055Z"
   },
   {
    "duration": 7,
    "start_time": "2022-11-20T10:21:21.382Z"
   },
   {
    "duration": 15,
    "start_time": "2022-11-20T10:21:26.346Z"
   },
   {
    "duration": 40,
    "start_time": "2022-11-20T10:24:16.572Z"
   },
   {
    "duration": 67,
    "start_time": "2022-11-20T10:24:17.994Z"
   },
   {
    "duration": 8,
    "start_time": "2022-11-20T10:24:18.698Z"
   },
   {
    "duration": 22,
    "start_time": "2022-11-20T10:24:24.802Z"
   },
   {
    "duration": 7,
    "start_time": "2022-11-20T10:24:38.356Z"
   },
   {
    "duration": 1152,
    "start_time": "2022-12-01T03:42:56.467Z"
   },
   {
    "duration": 932,
    "start_time": "2022-12-01T03:43:02.295Z"
   },
   {
    "duration": 12,
    "start_time": "2022-12-01T03:43:14.081Z"
   },
   {
    "duration": 3,
    "start_time": "2022-12-01T03:43:14.624Z"
   },
   {
    "duration": 58,
    "start_time": "2022-12-01T03:43:15.138Z"
   },
   {
    "duration": 100,
    "start_time": "2022-12-01T03:43:16.245Z"
   },
   {
    "duration": 174,
    "start_time": "2022-12-01T03:43:17.003Z"
   },
   {
    "duration": 7,
    "start_time": "2022-12-01T03:43:17.961Z"
   },
   {
    "duration": 38,
    "start_time": "2022-12-01T03:43:19.101Z"
   },
   {
    "duration": 38,
    "start_time": "2022-12-01T03:43:46.529Z"
   },
   {
    "duration": 34,
    "start_time": "2022-12-01T03:43:49.553Z"
   },
   {
    "duration": 7,
    "start_time": "2022-12-01T03:43:50.291Z"
   },
   {
    "duration": 14,
    "start_time": "2022-12-01T03:43:51.564Z"
   },
   {
    "duration": 34,
    "start_time": "2022-12-01T03:45:08.705Z"
   },
   {
    "duration": 35,
    "start_time": "2022-12-01T03:45:09.328Z"
   },
   {
    "duration": 8,
    "start_time": "2022-12-01T03:45:09.970Z"
   },
   {
    "duration": 14,
    "start_time": "2022-12-01T03:45:10.514Z"
   },
   {
    "duration": 9,
    "start_time": "2022-12-01T03:45:19.074Z"
   },
   {
    "duration": 45,
    "start_time": "2022-12-01T03:45:20.092Z"
   },
   {
    "duration": 4,
    "start_time": "2022-12-01T03:45:20.838Z"
   },
   {
    "duration": 77,
    "start_time": "2022-12-01T03:45:21.355Z"
   },
   {
    "duration": 6,
    "start_time": "2022-12-01T03:45:22.356Z"
   },
   {
    "duration": 8,
    "start_time": "2022-12-01T03:45:39.923Z"
   },
   {
    "duration": 3,
    "start_time": "2022-12-01T03:45:40.609Z"
   },
   {
    "duration": 11,
    "start_time": "2022-12-01T03:45:41.540Z"
   },
   {
    "duration": 4,
    "start_time": "2022-12-01T03:45:42.215Z"
   },
   {
    "duration": 5,
    "start_time": "2022-12-01T03:45:44.098Z"
   },
   {
    "duration": 4,
    "start_time": "2022-12-01T03:45:55.331Z"
   },
   {
    "duration": 10,
    "start_time": "2022-12-01T03:45:56.519Z"
   },
   {
    "duration": 16,
    "start_time": "2022-12-01T03:45:57.134Z"
   },
   {
    "duration": 16,
    "start_time": "2022-12-01T03:46:31.289Z"
   },
   {
    "duration": 28,
    "start_time": "2022-12-01T03:46:49.580Z"
   },
   {
    "duration": 18,
    "start_time": "2022-12-01T03:46:51.057Z"
   },
   {
    "duration": 13,
    "start_time": "2022-12-01T03:47:08.480Z"
   },
   {
    "duration": 3,
    "start_time": "2022-12-01T03:47:11.467Z"
   },
   {
    "duration": 7,
    "start_time": "2022-12-01T03:47:12.044Z"
   },
   {
    "duration": 7,
    "start_time": "2022-12-01T03:47:12.574Z"
   },
   {
    "duration": 7,
    "start_time": "2022-12-01T03:47:43.326Z"
   },
   {
    "duration": 28,
    "start_time": "2022-12-01T03:47:44.691Z"
   },
   {
    "duration": 5,
    "start_time": "2022-12-01T03:47:46.305Z"
   },
   {
    "duration": 3,
    "start_time": "2022-12-01T03:48:08.325Z"
   },
   {
    "duration": 14,
    "start_time": "2022-12-01T03:48:12.266Z"
   },
   {
    "duration": 6,
    "start_time": "2022-12-01T03:48:17.368Z"
   },
   {
    "duration": 9,
    "start_time": "2022-12-01T03:48:18.038Z"
   },
   {
    "duration": 10,
    "start_time": "2022-12-01T03:48:19.944Z"
   },
   {
    "duration": 3,
    "start_time": "2022-12-01T03:48:21.818Z"
   },
   {
    "duration": 11,
    "start_time": "2022-12-01T03:48:22.832Z"
   },
   {
    "duration": 9,
    "start_time": "2022-12-01T03:48:51.914Z"
   },
   {
    "duration": 7,
    "start_time": "2022-12-01T03:49:03.510Z"
   },
   {
    "duration": 7,
    "start_time": "2022-12-01T03:51:06.041Z"
   },
   {
    "duration": 35,
    "start_time": "2022-12-01T03:51:08.084Z"
   },
   {
    "duration": 7,
    "start_time": "2022-12-01T03:51:10.753Z"
   },
   {
    "duration": 8,
    "start_time": "2022-12-01T03:51:13.011Z"
   },
   {
    "duration": 4,
    "start_time": "2022-12-01T03:51:13.621Z"
   },
   {
    "duration": 4,
    "start_time": "2022-12-01T03:51:14.490Z"
   },
   {
    "duration": 8,
    "start_time": "2022-12-01T03:51:14.940Z"
   },
   {
    "duration": 9,
    "start_time": "2022-12-01T03:51:40.124Z"
   },
   {
    "duration": 3,
    "start_time": "2022-12-01T03:51:40.957Z"
   },
   {
    "duration": 26,
    "start_time": "2022-12-01T03:51:43.748Z"
   },
   {
    "duration": 3,
    "start_time": "2022-12-01T03:51:44.293Z"
   },
   {
    "duration": 5,
    "start_time": "2022-12-01T03:51:45.507Z"
   },
   {
    "duration": 6,
    "start_time": "2022-12-01T03:51:46.020Z"
   },
   {
    "duration": 43,
    "start_time": "2022-12-01T03:52:03.128Z"
   },
   {
    "duration": 5,
    "start_time": "2022-12-01T03:52:08.968Z"
   },
   {
    "duration": 6,
    "start_time": "2022-12-01T03:52:41.160Z"
   },
   {
    "duration": 11,
    "start_time": "2022-12-01T03:53:08.544Z"
   },
   {
    "duration": 11,
    "start_time": "2022-12-01T03:53:34.110Z"
   },
   {
    "duration": 11,
    "start_time": "2022-12-01T03:53:46.193Z"
   },
   {
    "duration": 5,
    "start_time": "2022-12-01T03:53:49.548Z"
   },
   {
    "duration": 6,
    "start_time": "2022-12-01T03:53:50.948Z"
   },
   {
    "duration": 13,
    "start_time": "2022-12-01T03:53:53.417Z"
   },
   {
    "duration": 4,
    "start_time": "2022-12-01T03:53:58.462Z"
   },
   {
    "duration": 5,
    "start_time": "2022-12-01T03:53:59.177Z"
   },
   {
    "duration": 5,
    "start_time": "2022-12-01T03:54:04.349Z"
   },
   {
    "duration": 20,
    "start_time": "2022-12-01T03:54:04.839Z"
   },
   {
    "duration": 3,
    "start_time": "2022-12-01T03:54:07.706Z"
   },
   {
    "duration": 232,
    "start_time": "2022-12-01T03:55:09.870Z"
   },
   {
    "duration": 11,
    "start_time": "2022-12-01T03:55:11.131Z"
   },
   {
    "duration": 5,
    "start_time": "2022-12-01T03:55:11.716Z"
   },
   {
    "duration": 11,
    "start_time": "2022-12-01T03:55:12.228Z"
   },
   {
    "duration": 9,
    "start_time": "2022-12-01T03:55:13.524Z"
   },
   {
    "duration": 6,
    "start_time": "2022-12-01T03:55:16.964Z"
   },
   {
    "duration": 4,
    "start_time": "2022-12-01T03:55:18.607Z"
   },
   {
    "duration": 6,
    "start_time": "2022-12-01T03:55:19.243Z"
   },
   {
    "duration": 7,
    "start_time": "2022-12-01T03:55:26.865Z"
   },
   {
    "duration": 6,
    "start_time": "2022-12-01T03:55:28.780Z"
   },
   {
    "duration": 282,
    "start_time": "2022-12-01T03:55:30.682Z"
   },
   {
    "duration": 194,
    "start_time": "2022-12-01T03:56:16.618Z"
   },
   {
    "duration": 197,
    "start_time": "2022-12-01T03:56:18.738Z"
   },
   {
    "duration": 8,
    "start_time": "2022-12-01T03:56:37.918Z"
   },
   {
    "duration": 10,
    "start_time": "2022-12-01T03:56:38.862Z"
   },
   {
    "duration": 192,
    "start_time": "2022-12-01T03:56:48.803Z"
   },
   {
    "duration": 9,
    "start_time": "2022-12-01T03:57:01.985Z"
   },
   {
    "duration": 10,
    "start_time": "2022-12-01T03:57:05.703Z"
   },
   {
    "duration": 11,
    "start_time": "2022-12-01T03:57:07.428Z"
   },
   {
    "duration": 9,
    "start_time": "2022-12-01T03:57:11.774Z"
   },
   {
    "duration": 11,
    "start_time": "2022-12-01T03:57:12.863Z"
   },
   {
    "duration": 8,
    "start_time": "2022-12-01T03:57:34.870Z"
   },
   {
    "duration": 24,
    "start_time": "2022-12-01T03:57:35.798Z"
   },
   {
    "duration": 12,
    "start_time": "2022-12-01T03:57:38.646Z"
   },
   {
    "duration": 5,
    "start_time": "2022-12-01T03:57:43.217Z"
   },
   {
    "duration": 8,
    "start_time": "2022-12-01T03:57:47.194Z"
   },
   {
    "duration": 994,
    "start_time": "2022-12-01T03:58:51.316Z"
   },
   {
    "duration": 696,
    "start_time": "2022-12-01T03:58:52.312Z"
   },
   {
    "duration": 13,
    "start_time": "2022-12-01T03:58:53.009Z"
   },
   {
    "duration": 4,
    "start_time": "2022-12-01T03:58:53.024Z"
   },
   {
    "duration": 84,
    "start_time": "2022-12-01T03:58:53.029Z"
   },
   {
    "duration": 104,
    "start_time": "2022-12-01T03:58:53.115Z"
   },
   {
    "duration": 206,
    "start_time": "2022-12-01T03:58:53.220Z"
   },
   {
    "duration": 6,
    "start_time": "2022-12-01T03:58:53.427Z"
   },
   {
    "duration": 61,
    "start_time": "2022-12-01T03:58:53.434Z"
   },
   {
    "duration": 38,
    "start_time": "2022-12-01T03:58:53.498Z"
   },
   {
    "duration": 38,
    "start_time": "2022-12-01T03:58:53.537Z"
   },
   {
    "duration": 25,
    "start_time": "2022-12-01T03:58:53.576Z"
   },
   {
    "duration": 15,
    "start_time": "2022-12-01T03:58:53.602Z"
   },
   {
    "duration": 25,
    "start_time": "2022-12-01T03:58:53.618Z"
   },
   {
    "duration": 53,
    "start_time": "2022-12-01T03:58:53.645Z"
   },
   {
    "duration": 4,
    "start_time": "2022-12-01T03:58:53.699Z"
   },
   {
    "duration": 93,
    "start_time": "2022-12-01T03:58:53.704Z"
   },
   {
    "duration": 6,
    "start_time": "2022-12-01T03:58:53.799Z"
   },
   {
    "duration": 18,
    "start_time": "2022-12-01T03:58:53.806Z"
   },
   {
    "duration": 15,
    "start_time": "2022-12-01T03:58:53.825Z"
   },
   {
    "duration": 19,
    "start_time": "2022-12-01T03:58:53.842Z"
   },
   {
    "duration": 22,
    "start_time": "2022-12-01T03:58:53.862Z"
   },
   {
    "duration": 16,
    "start_time": "2022-12-01T03:58:53.885Z"
   },
   {
    "duration": 16,
    "start_time": "2022-12-01T03:58:53.903Z"
   },
   {
    "duration": 17,
    "start_time": "2022-12-01T03:58:53.920Z"
   },
   {
    "duration": 52,
    "start_time": "2022-12-01T03:58:53.939Z"
   },
   {
    "duration": 33,
    "start_time": "2022-12-01T03:58:53.992Z"
   },
   {
    "duration": 48,
    "start_time": "2022-12-01T03:58:54.028Z"
   },
   {
    "duration": 17,
    "start_time": "2022-12-01T03:58:54.077Z"
   },
   {
    "duration": 31,
    "start_time": "2022-12-01T03:58:54.095Z"
   },
   {
    "duration": 9,
    "start_time": "2022-12-01T03:58:54.127Z"
   },
   {
    "duration": 34,
    "start_time": "2022-12-01T03:58:54.137Z"
   },
   {
    "duration": 23,
    "start_time": "2022-12-01T03:58:54.172Z"
   },
   {
    "duration": 32,
    "start_time": "2022-12-01T03:58:54.197Z"
   },
   {
    "duration": 41,
    "start_time": "2022-12-01T03:58:54.231Z"
   },
   {
    "duration": 20,
    "start_time": "2022-12-01T03:58:54.274Z"
   },
   {
    "duration": 31,
    "start_time": "2022-12-01T03:58:54.295Z"
   },
   {
    "duration": 28,
    "start_time": "2022-12-01T03:58:54.327Z"
   },
   {
    "duration": 32,
    "start_time": "2022-12-01T03:58:54.357Z"
   },
   {
    "duration": 38,
    "start_time": "2022-12-01T03:58:54.390Z"
   },
   {
    "duration": 27,
    "start_time": "2022-12-01T03:58:54.429Z"
   },
   {
    "duration": 21,
    "start_time": "2022-12-01T03:58:54.458Z"
   },
   {
    "duration": 26,
    "start_time": "2022-12-01T03:58:54.481Z"
   },
   {
    "duration": 38,
    "start_time": "2022-12-01T03:58:54.508Z"
   },
   {
    "duration": 9,
    "start_time": "2022-12-01T03:58:54.548Z"
   },
   {
    "duration": 79,
    "start_time": "2022-12-01T03:58:54.559Z"
   },
   {
    "duration": 31,
    "start_time": "2022-12-01T03:58:54.640Z"
   },
   {
    "duration": 34,
    "start_time": "2022-12-01T03:58:54.674Z"
   },
   {
    "duration": 37,
    "start_time": "2022-12-01T03:58:54.709Z"
   },
   {
    "duration": 26,
    "start_time": "2022-12-01T03:58:54.748Z"
   },
   {
    "duration": 33,
    "start_time": "2022-12-01T03:58:54.775Z"
   },
   {
    "duration": 41,
    "start_time": "2022-12-01T03:58:54.809Z"
   },
   {
    "duration": 3,
    "start_time": "2022-12-01T03:58:54.851Z"
   },
   {
    "duration": 31,
    "start_time": "2022-12-01T03:58:54.856Z"
   },
   {
    "duration": 4,
    "start_time": "2022-12-01T03:58:54.888Z"
   },
   {
    "duration": 8,
    "start_time": "2022-12-01T03:58:54.893Z"
   },
   {
    "duration": 8,
    "start_time": "2022-12-01T03:58:54.903Z"
   },
   {
    "duration": 9,
    "start_time": "2022-12-01T03:58:54.912Z"
   },
   {
    "duration": 11,
    "start_time": "2022-12-01T03:58:54.922Z"
   },
   {
    "duration": 3,
    "start_time": "2022-12-01T03:58:54.935Z"
   },
   {
    "duration": 8,
    "start_time": "2022-12-01T03:58:54.940Z"
   },
   {
    "duration": 13,
    "start_time": "2022-12-01T03:58:54.950Z"
   },
   {
    "duration": 3,
    "start_time": "2022-12-01T03:58:54.965Z"
   },
   {
    "duration": 27,
    "start_time": "2022-12-01T03:58:54.970Z"
   },
   {
    "duration": 4,
    "start_time": "2022-12-01T03:58:54.999Z"
   },
   {
    "duration": 24,
    "start_time": "2022-12-01T03:58:55.004Z"
   },
   {
    "duration": 4,
    "start_time": "2022-12-01T03:58:55.030Z"
   },
   {
    "duration": 234,
    "start_time": "2022-12-01T03:58:55.035Z"
   },
   {
    "duration": 9,
    "start_time": "2022-12-01T03:58:55.271Z"
   },
   {
    "duration": 29,
    "start_time": "2022-12-01T03:58:55.282Z"
   },
   {
    "duration": 34,
    "start_time": "2022-12-01T03:58:55.312Z"
   },
   {
    "duration": 23,
    "start_time": "2022-12-01T03:58:55.347Z"
   },
   {
    "duration": 27,
    "start_time": "2022-12-01T03:58:55.371Z"
   },
   {
    "duration": 14,
    "start_time": "2022-12-01T03:58:55.400Z"
   },
   {
    "duration": 35,
    "start_time": "2022-12-01T03:58:55.415Z"
   },
   {
    "duration": 27,
    "start_time": "2022-12-01T03:58:55.452Z"
   },
   {
    "duration": 17,
    "start_time": "2022-12-01T03:58:55.481Z"
   },
   {
    "duration": 305,
    "start_time": "2022-12-01T03:58:55.499Z"
   },
   {
    "duration": 208,
    "start_time": "2022-12-01T03:58:55.806Z"
   },
   {
    "duration": 217,
    "start_time": "2022-12-01T03:58:56.016Z"
   },
   {
    "duration": 9,
    "start_time": "2022-12-01T03:58:56.235Z"
   },
   {
    "duration": 11,
    "start_time": "2022-12-01T03:58:56.249Z"
   },
   {
    "duration": 165,
    "start_time": "2022-12-01T03:58:56.262Z"
   },
   {
    "duration": 8,
    "start_time": "2022-12-01T03:58:56.428Z"
   },
   {
    "duration": 9,
    "start_time": "2022-12-01T03:58:56.438Z"
   },
   {
    "duration": 11,
    "start_time": "2022-12-01T03:58:56.449Z"
   },
   {
    "duration": 13,
    "start_time": "2022-12-01T03:58:56.497Z"
   },
   {
    "duration": 14,
    "start_time": "2022-12-01T03:58:56.511Z"
   },
   {
    "duration": 11,
    "start_time": "2022-12-01T03:58:56.526Z"
   },
   {
    "duration": 65,
    "start_time": "2022-12-01T03:58:56.539Z"
   },
   {
    "duration": 10,
    "start_time": "2022-12-01T03:58:56.606Z"
   },
   {
    "duration": 5,
    "start_time": "2022-12-01T03:58:56.617Z"
   },
   {
    "duration": 16,
    "start_time": "2022-12-01T03:58:56.623Z"
   }
  ],
  "kernelspec": {
   "display_name": "Python 3 (ipykernel)",
   "language": "python",
   "name": "python3"
  },
  "language_info": {
   "codemirror_mode": {
    "name": "ipython",
    "version": 3
   },
   "file_extension": ".py",
   "mimetype": "text/x-python",
   "name": "python",
   "nbconvert_exporter": "python",
   "pygments_lexer": "ipython3",
   "version": "3.9.12"
  },
  "toc": {
   "base_numbering": 1,
   "nav_menu": {},
   "number_sections": true,
   "sideBar": true,
   "skip_h1_title": true,
   "title_cell": "Table of Contents",
   "title_sidebar": "Contents",
   "toc_cell": false,
   "toc_position": {},
   "toc_section_display": true,
   "toc_window_display": false
  }
 },
 "nbformat": 4,
 "nbformat_minor": 2
}
