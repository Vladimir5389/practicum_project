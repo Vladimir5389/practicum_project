{
 "cells": [
  {
   "cell_type": "markdown",
   "metadata": {},
   "source": [
    "# Телеком — Определение неэффективных операторов\n",
    "\n",
    "### Задача**:**\n",
    "\n",
    "Помогите «Нупозвони» найти самых неэффективных операторов. Признаки низкой эффективности:\n",
    "\n",
    "- много пропущенных входящих вызовов,\n",
    "- долгое ожидания ответа при входящих внешних вызовах,\n",
    "- мало исходящих вывозов — в случае тех колл-центров, что специализируются на обзвонах, а не обработке входящих звонков.\n",
    "\n",
    "1. **Проведите исследовательский анализ данных.**\n",
    "2. **Определите неэффективных операторов.**\n",
    "3. **Проверьте статистические гипотезы.**\n",
    "\n",
    "### **Описание данных:**\n",
    "\n",
    "Датасеты описывают использование услуг «Нупозвони» — провайдера виртуальный телефонии. Его клиенты — колл-центры, которые: \n",
    "\n",
    "- распределяют входящие вызовы на операторов,\n",
    "- совершают исходящие вызовы силами операторов.\n",
    "\n",
    "Также операторы могут делать внутренние вызовы —  вызовы друг между другом внутри сети виртуальной телефонии.\n",
    "\n",
    "Колонки в `telecom_dataset.csv.zip`:\n",
    "\n",
    "- `user_id` — Идентификатор клиентского аккаунта в сервисе\n",
    "- `date` — Дата статистики\n",
    "- `direction` — Направление вызовов (out - исходящий вызов, in — входящий вызов)\n",
    "- `internal` — Является ли звонок внутренним звонком между операторами клиента\n",
    "- `operator_id` — Идентификатор оператора\n",
    "- `is_missed_call` — Является ли звонок пропущенным\n",
    "- `calls_count` — Количество звонков\n",
    "- `call_duration` — Длительность звонка (без учета времени ожидания)\n",
    "- `total_call_duration` — Длительность звонка (с учетом времени ожидания)\n",
    "\n",
    "Колонки в `telecom_clients.csv`:\n",
    "\n",
    "- `user_id` — Идентификатор клиентского аккаунта в сервисе\n",
    "- `tariff_plan` — Текущий тарифный план клиента\n",
    "- `date_start` — Дата регистрации клиентв в сервисе\n",
    "\n",
    "Примечание: Прочитать датасет **telecom_dataset.csv.zip** можно не распаковывая, используя команду `pd.read_csv('telecom_dataset.csv.zip')`\n",
    "****\n",
    "По итогам исследования подготовьте презентацию. Для создания презентации используйте любой удобный инструмент, но отправить презентацию нужно **обязательно** в формате **pdf,** прикрепив ссылку на файл в основном проекте.\n",
    "\n",
    "### **Датасеты**:\n",
    "\n",
    "[telecom_clients.csv](https://disk.yandex.ru/d/qDyw04TLVP4CiA)\n",
    "\n",
    "[telecom_dataset.csv](https://disk.yandex.ru/d/Z6Q6KHy2I_WwCA)\n",
    "\n",
    "### **Презентация**\n",
    "\n",
    "[Критерии неэффективных операторов](https://disk.yandex.ru/i/e2_46VOszeQ4gQ)\n",
    "\n",
    "### Дашборды\n",
    "\n",
    "Чтобы отправить дашборд, приложите к проекту ссылку на файл. Выберите один из наборов:\n",
    "\n",
    "Набор №1\n",
    "\n",
    "1. Постройте гистограмму распределения длительности звонков;\n",
    "2. Постройте круговую диаграмму, отображающую соотношение кол-ва внутренних и внешних вызовов;\n",
    "3. Добавьте фильтр дашборда по направлению вызовов.\n",
    "\n",
    "Набор №2\n",
    "\n",
    "1. Постройте диаграмму количества вызовов по дням;\n",
    "2. Постройте круговую диаграмму, отображающую соотношение кол-ва входящих и исходящих вызовов;\n",
    "3. Добавьте фильтр дашборда по типу вызова (внешний или внутренний)"
   ]
  },
  {
   "cell_type": "markdown",
   "metadata": {},
   "source": [
    "**Данное исследование разделим на несколько частей.**<a name=\"start\"></a> \n",
    "\n",
    "***Часть 1. Загрузите данные и изучите общую информацию:***\n",
    "* [1. Загрузите данные [`telecom_clients.csv`], [`telecom_dataset.csv`].](#dataset)\n",
    "* [2. Изучите общую информацию о датасете. Сколько call центров представлено? Сколько операторов? Что можно сказать о каждом столбце? Значения какого типа они хранят?](#info)\n",
    "\n",
    "***Часть 2. Выполните предобработку данных***\n",
    "* [1. Изучите, есть ли дубликаты в данных. Можно ли их обработать или оставить как есть? Проверьте пропуски: встречаются ли они, в каких столбцах? Можно ли их обработать или оставить как есть?.](#dubl)\n",
    "* [2. Приведите данные к нужному типу в соответствующих столбцах (`date`: datetime)](#date)\n",
    "* [3. Проверьте данные на выбросы по количисеству звонков и продолжительности. Используйте `ящик с усами`.](#emissions)\n",
    "* [4. Объедините таблицы методом `merge`. Присоедините `telecom_clients` к `telecom_dataset` так, чтобы у каждого оператора быт показан тариф (`tariff_plan`)](#merge)\n",
    "\n",
    "***Часть 3. Анализ данных***\n",
    "* [1. Для call центров работаюх на разных тарифах проанализировать отличия на каждом тарифе.](#analysis_in_centr)\n",
    "     * 1.1. Сделать группировку по call центрам и по тарифам. Вывести информацию сколько входящих и исходящих звонков в среднем в день call центрах на каждом тарифе. \n",
    "     * 1.2. Сколько пропущенных звонков. Какая средняя продолжительность. Какой процент от общего количества звонков составляют пропущенные. \n",
    "     * 1.3. Какое общее время звонков и ожидания (с учетом внутренних звонков). Определите в каких единицах указана продолжительность звонков и ожидания. Сколько звонков в день в может делать оператор? Какая их средняя продолжительность.\n",
    "     * 1.4. Определить основные отличия для каждого тарифах. Определить какие тарифы больше предназначены на исходящие звонки, а какие на входящие.\n",
    "* [2. Для call центров работаюх на разных тарифных планах сформулировать метрики для оценки качества работы операторов.](#analysis_in_operator)\n",
    "     * 2.1. Проанализуйте работу операторов работающих в КЦ с тарифными планами для исходящих звонков. Определите среднее количество звонков в день, среднюю продолжительность. Исходя из общей прдолжительности звонков предположите единицы измерения. Из всей полученной информации сформулируйти критерии неэффективной работы оператора для таких КЦ. В Критериях должны быть отражены следующие данные: минимальная длительность звонков в день, минимальное количество звонков в день.\n",
    "     * 2.2. Проанализируйте работу операторов работающих в КЦ с тарифными планами для входящих звонков. Определите среднюю продолжительность звонков в день, количество звонков в день, количество пропущенных звонков в день и их процент от общего количества звонков.Среднее время ожидания для недозвонов. Сформулируйте критерии для неэффективной работы операторов для таких КЦ. В критериях должны быть отражены сдедующие данные: продолжительность звонков в день, количечество пропущенных звонков (при хорошо отлаженной работе в КЦ допускается до 5% пропущенных звонков из общего числа звонков)\n",
    "     \n",
    "         \n",
    "\n",
    "***Часть 4. Статистический анализ***     \n",
    "* [1. На основе полученных данных формулируем две нулевые гипотезы.](#analysis_stat)\n",
    "     * 1.1. Call центры работающие тарифном плане А совершают больше контактов с клиентами, чем центры которые работают на Тарифных планах В и С. \n",
    "     * 1.2. Длительность разговоров в Call центрах работающих тарифном плане А больше, чем центрах которые работают на т планах В и С.\n",
    "     * 1.3. Определяем значение уровня значимаости (`alpha`).\n",
    "     * 1.4. Проверяем нулевые гипотезы. Выводим результаты проверки.    \n",
    "     \n",
    "\n",
    "    \n",
    "      \n",
    "***Часть 5. Выводы. Рекомендации для заказчика***     \n",
    "* [1. На основе проведенного аналаза формулируем выводы.](#conclusion)\n",
    "     * 1.1. Критерии неэффективности операторов\n",
    "     * 1.2. Дополнительные выводы и рекомендации"
   ]
  },
  {
   "cell_type": "code",
   "execution_count": 1,
   "metadata": {},
   "outputs": [],
   "source": [
    "import pandas as pd\n",
    "import numpy as np\n",
    "\n",
    "from matplotlib import pyplot as plt\n",
    "\n",
    "# !pip install -U seaborn\n",
    "import seaborn as sns\n",
    "\n",
    "# !pip install plotly==5.3.1\n",
    "# !conda install plotly==5.3.1\n",
    "import plotly\n",
    "import plotly.express as px\n",
    "\n",
    "from datetime import date\n",
    "\n",
    "%matplotlib inline\n",
    "\n",
    "from plotly import graph_objects as go\n",
    "from scipy import stats as st\n"
   ]
  },
  {
   "cell_type": "markdown",
   "metadata": {},
   "source": [
    "***Часть 1. Загрузите данные и изучите общую информацию:***\n",
    "* 1. Загрузите данные [`telecom_clients.csv`], [`telecom_dataset.csv`]<a name=\"dataset\"></a>"
   ]
  },
  {
   "cell_type": "code",
   "execution_count": 2,
   "metadata": {},
   "outputs": [],
   "source": [
    "try:\n",
    "    telecom_clients, telecom_dataset = (\n",
    "    pd.read_csv('telecom_clients.csv'),  \n",
    "    pd.read_csv('telecom_dataset.csv')\n",
    ") \n",
    "except:\n",
    "    telecom_clients, telecom_dataset = (\n",
    "    pd.read_csv('/datasets/telecom_clients.csv'),\n",
    "    pd.read_csv('/datasets/telecom_dataset.csv')\n",
    ")"
   ]
  },
  {
   "cell_type": "markdown",
   "metadata": {},
   "source": [
    "* 2. Изучите общую информацию о датасете. Сколько call центров представлено? Сколько операторов? Что можно сказать о каждом столбце? Значения какого типа они хранят?<a name=\"info\"></a>\n"
   ]
  },
  {
   "cell_type": "markdown",
   "metadata": {},
   "source": [
    "**telecom_clients**"
   ]
  },
  {
   "cell_type": "markdown",
   "metadata": {},
   "source": [
    "telecom_clients = pd.read_csv('telecom_clients.csv')"
   ]
  },
  {
   "cell_type": "code",
   "execution_count": 3,
   "metadata": {},
   "outputs": [
    {
     "name": "stdout",
     "output_type": "stream",
     "text": [
      "Имеем таблицу данных  telecom_clients размерностью (732, 3)\n"
     ]
    }
   ],
   "source": [
    "print(f'Имеем таблицу данных  telecom_clients размерностью {telecom_clients.shape}')"
   ]
  },
  {
   "cell_type": "code",
   "execution_count": 4,
   "metadata": {},
   "outputs": [
    {
     "data": {
      "text/html": [
       "<div>\n",
       "<style scoped>\n",
       "    .dataframe tbody tr th:only-of-type {\n",
       "        vertical-align: middle;\n",
       "    }\n",
       "\n",
       "    .dataframe tbody tr th {\n",
       "        vertical-align: top;\n",
       "    }\n",
       "\n",
       "    .dataframe thead th {\n",
       "        text-align: right;\n",
       "    }\n",
       "</style>\n",
       "<table border=\"1\" class=\"dataframe\">\n",
       "  <thead>\n",
       "    <tr style=\"text-align: right;\">\n",
       "      <th></th>\n",
       "      <th>user_id</th>\n",
       "      <th>tariff_plan</th>\n",
       "      <th>date_start</th>\n",
       "    </tr>\n",
       "  </thead>\n",
       "  <tbody>\n",
       "    <tr>\n",
       "      <th>0</th>\n",
       "      <td>166713</td>\n",
       "      <td>A</td>\n",
       "      <td>2019-08-15</td>\n",
       "    </tr>\n",
       "    <tr>\n",
       "      <th>1</th>\n",
       "      <td>166901</td>\n",
       "      <td>A</td>\n",
       "      <td>2019-08-23</td>\n",
       "    </tr>\n",
       "    <tr>\n",
       "      <th>2</th>\n",
       "      <td>168527</td>\n",
       "      <td>A</td>\n",
       "      <td>2019-10-29</td>\n",
       "    </tr>\n",
       "    <tr>\n",
       "      <th>3</th>\n",
       "      <td>167097</td>\n",
       "      <td>A</td>\n",
       "      <td>2019-09-01</td>\n",
       "    </tr>\n",
       "    <tr>\n",
       "      <th>4</th>\n",
       "      <td>168193</td>\n",
       "      <td>A</td>\n",
       "      <td>2019-10-16</td>\n",
       "    </tr>\n",
       "  </tbody>\n",
       "</table>\n",
       "</div>"
      ],
      "text/plain": [
       "   user_id tariff_plan  date_start\n",
       "0   166713           A  2019-08-15\n",
       "1   166901           A  2019-08-23\n",
       "2   168527           A  2019-10-29\n",
       "3   167097           A  2019-09-01\n",
       "4   168193           A  2019-10-16"
      ]
     },
     "execution_count": 4,
     "metadata": {},
     "output_type": "execute_result"
    }
   ],
   "source": [
    "telecom_clients.head(5) "
   ]
  },
  {
   "cell_type": "code",
   "execution_count": 5,
   "metadata": {},
   "outputs": [
    {
     "name": "stdout",
     "output_type": "stream",
     "text": [
      "Дата первой регистрации 2019-08-01\n"
     ]
    }
   ],
   "source": [
    "print(f'Дата первой регистрации {telecom_clients.date_start.min()}')"
   ]
  },
  {
   "cell_type": "code",
   "execution_count": 6,
   "metadata": {},
   "outputs": [
    {
     "name": "stdout",
     "output_type": "stream",
     "text": [
      "Дата последней регистрации 2019-10-31\n"
     ]
    }
   ],
   "source": [
    "print(f'Дата последней регистрации {telecom_clients.date_start.max()}')"
   ]
  },
  {
   "cell_type": "code",
   "execution_count": 7,
   "metadata": {},
   "outputs": [
    {
     "name": "stdout",
     "output_type": "stream",
     "text": [
      "<class 'pandas.core.frame.DataFrame'>\n",
      "RangeIndex: 732 entries, 0 to 731\n",
      "Data columns (total 3 columns):\n",
      " #   Column       Non-Null Count  Dtype \n",
      "---  ------       --------------  ----- \n",
      " 0   user_id      732 non-null    int64 \n",
      " 1   tariff_plan  732 non-null    object\n",
      " 2   date_start   732 non-null    object\n",
      "dtypes: int64(1), object(2)\n",
      "memory usage: 17.3+ KB\n"
     ]
    }
   ],
   "source": [
    "telecom_clients.info()"
   ]
  },
  {
   "cell_type": "markdown",
   "metadata": {},
   "source": [
    "Посмотрим какие тарифы у нас есть"
   ]
  },
  {
   "cell_type": "code",
   "execution_count": 8,
   "metadata": {},
   "outputs": [
    {
     "data": {
      "text/plain": [
       "array(['A', 'C', 'B'], dtype=object)"
      ]
     },
     "execution_count": 8,
     "metadata": {},
     "output_type": "execute_result"
    }
   ],
   "source": [
    "telecom_clients.tariff_plan.unique()"
   ]
  },
  {
   "cell_type": "markdown",
   "metadata": {},
   "source": [
    "Существует всего три тарифа: 'A', 'C', 'B'"
   ]
  },
  {
   "cell_type": "code",
   "execution_count": 9,
   "metadata": {},
   "outputs": [
    {
     "name": "stdout",
     "output_type": "stream",
     "text": [
      "Количество CALL центров в telecom_clients: 732\n"
     ]
    }
   ],
   "source": [
    "print(f'Количество CALL центров в telecom_clients: {telecom_clients.user_id.nunique()}')"
   ]
  },
  {
   "cell_type": "markdown",
   "metadata": {},
   "source": [
    "**telecom_dataset**"
   ]
  },
  {
   "cell_type": "code",
   "execution_count": 10,
   "metadata": {},
   "outputs": [
    {
     "name": "stdout",
     "output_type": "stream",
     "text": [
      "Имеем таблицу данных  telecom_dataset размерностью (53902, 9)\n"
     ]
    }
   ],
   "source": [
    "print(f'Имеем таблицу данных  telecom_dataset размерностью {telecom_dataset.shape}')"
   ]
  },
  {
   "cell_type": "markdown",
   "metadata": {},
   "source": [
    "Выведем первые пять строк"
   ]
  },
  {
   "cell_type": "code",
   "execution_count": 11,
   "metadata": {},
   "outputs": [
    {
     "data": {
      "text/html": [
       "<div>\n",
       "<style scoped>\n",
       "    .dataframe tbody tr th:only-of-type {\n",
       "        vertical-align: middle;\n",
       "    }\n",
       "\n",
       "    .dataframe tbody tr th {\n",
       "        vertical-align: top;\n",
       "    }\n",
       "\n",
       "    .dataframe thead th {\n",
       "        text-align: right;\n",
       "    }\n",
       "</style>\n",
       "<table border=\"1\" class=\"dataframe\">\n",
       "  <thead>\n",
       "    <tr style=\"text-align: right;\">\n",
       "      <th></th>\n",
       "      <th>user_id</th>\n",
       "      <th>date</th>\n",
       "      <th>direction</th>\n",
       "      <th>internal</th>\n",
       "      <th>operator_id</th>\n",
       "      <th>is_missed_call</th>\n",
       "      <th>calls_count</th>\n",
       "      <th>call_duration</th>\n",
       "      <th>total_call_duration</th>\n",
       "    </tr>\n",
       "  </thead>\n",
       "  <tbody>\n",
       "    <tr>\n",
       "      <th>0</th>\n",
       "      <td>166377</td>\n",
       "      <td>2019-08-04 00:00:00+03:00</td>\n",
       "      <td>in</td>\n",
       "      <td>False</td>\n",
       "      <td>NaN</td>\n",
       "      <td>True</td>\n",
       "      <td>2</td>\n",
       "      <td>0</td>\n",
       "      <td>4</td>\n",
       "    </tr>\n",
       "    <tr>\n",
       "      <th>1</th>\n",
       "      <td>166377</td>\n",
       "      <td>2019-08-05 00:00:00+03:00</td>\n",
       "      <td>out</td>\n",
       "      <td>True</td>\n",
       "      <td>880022.0</td>\n",
       "      <td>True</td>\n",
       "      <td>3</td>\n",
       "      <td>0</td>\n",
       "      <td>5</td>\n",
       "    </tr>\n",
       "    <tr>\n",
       "      <th>2</th>\n",
       "      <td>166377</td>\n",
       "      <td>2019-08-05 00:00:00+03:00</td>\n",
       "      <td>out</td>\n",
       "      <td>True</td>\n",
       "      <td>880020.0</td>\n",
       "      <td>True</td>\n",
       "      <td>1</td>\n",
       "      <td>0</td>\n",
       "      <td>1</td>\n",
       "    </tr>\n",
       "    <tr>\n",
       "      <th>3</th>\n",
       "      <td>166377</td>\n",
       "      <td>2019-08-05 00:00:00+03:00</td>\n",
       "      <td>out</td>\n",
       "      <td>True</td>\n",
       "      <td>880020.0</td>\n",
       "      <td>False</td>\n",
       "      <td>1</td>\n",
       "      <td>10</td>\n",
       "      <td>18</td>\n",
       "    </tr>\n",
       "    <tr>\n",
       "      <th>4</th>\n",
       "      <td>166377</td>\n",
       "      <td>2019-08-05 00:00:00+03:00</td>\n",
       "      <td>out</td>\n",
       "      <td>False</td>\n",
       "      <td>880022.0</td>\n",
       "      <td>True</td>\n",
       "      <td>3</td>\n",
       "      <td>0</td>\n",
       "      <td>25</td>\n",
       "    </tr>\n",
       "  </tbody>\n",
       "</table>\n",
       "</div>"
      ],
      "text/plain": [
       "   user_id                       date direction internal  operator_id  \\\n",
       "0   166377  2019-08-04 00:00:00+03:00        in    False          NaN   \n",
       "1   166377  2019-08-05 00:00:00+03:00       out     True     880022.0   \n",
       "2   166377  2019-08-05 00:00:00+03:00       out     True     880020.0   \n",
       "3   166377  2019-08-05 00:00:00+03:00       out     True     880020.0   \n",
       "4   166377  2019-08-05 00:00:00+03:00       out    False     880022.0   \n",
       "\n",
       "   is_missed_call  calls_count  call_duration  total_call_duration  \n",
       "0            True            2              0                    4  \n",
       "1            True            3              0                    5  \n",
       "2            True            1              0                    1  \n",
       "3           False            1             10                   18  \n",
       "4            True            3              0                   25  "
      ]
     },
     "execution_count": 11,
     "metadata": {},
     "output_type": "execute_result"
    }
   ],
   "source": [
    "telecom_dataset.head(5)"
   ]
  },
  {
   "cell_type": "markdown",
   "metadata": {},
   "source": [
    "Выведем общую информацию о датафрейме методом info()"
   ]
  },
  {
   "cell_type": "code",
   "execution_count": 12,
   "metadata": {},
   "outputs": [
    {
     "name": "stdout",
     "output_type": "stream",
     "text": [
      "<class 'pandas.core.frame.DataFrame'>\n",
      "RangeIndex: 53902 entries, 0 to 53901\n",
      "Data columns (total 9 columns):\n",
      " #   Column               Non-Null Count  Dtype  \n",
      "---  ------               --------------  -----  \n",
      " 0   user_id              53902 non-null  int64  \n",
      " 1   date                 53902 non-null  object \n",
      " 2   direction            53902 non-null  object \n",
      " 3   internal             53785 non-null  object \n",
      " 4   operator_id          45730 non-null  float64\n",
      " 5   is_missed_call       53902 non-null  bool   \n",
      " 6   calls_count          53902 non-null  int64  \n",
      " 7   call_duration        53902 non-null  int64  \n",
      " 8   total_call_duration  53902 non-null  int64  \n",
      "dtypes: bool(1), float64(1), int64(4), object(3)\n",
      "memory usage: 3.3+ MB\n"
     ]
    }
   ],
   "source": [
    "telecom_dataset.info()"
   ]
  },
  {
   "cell_type": "markdown",
   "metadata": {},
   "source": [
    "В date будет необходимо изменить формат на datetime для дальнейшего анализа. "
   ]
  },
  {
   "cell_type": "code",
   "execution_count": 13,
   "metadata": {},
   "outputs": [
    {
     "name": "stdout",
     "output_type": "stream",
     "text": [
      "Количество CALL центров: 307\n"
     ]
    }
   ],
   "source": [
    "print(f'Количество CALL центров: {telecom_dataset.user_id.nunique()}')"
   ]
  },
  {
   "cell_type": "code",
   "execution_count": 14,
   "metadata": {},
   "outputs": [
    {
     "name": "stdout",
     "output_type": "stream",
     "text": [
      "Количество операторов: 1092\n"
     ]
    }
   ],
   "source": [
    "print(f'Количество операторов: {telecom_dataset.operator_id.nunique()}')"
   ]
  },
  {
   "cell_type": "code",
   "execution_count": 15,
   "metadata": {},
   "outputs": [
    {
     "name": "stdout",
     "output_type": "stream",
     "text": [
      "Дата первого наблюдения 2019-08-02 00:00:00+03:00\n"
     ]
    }
   ],
   "source": [
    "print(f'Дата первого наблюдения {telecom_dataset.date.min()}')"
   ]
  },
  {
   "cell_type": "code",
   "execution_count": 16,
   "metadata": {},
   "outputs": [
    {
     "name": "stdout",
     "output_type": "stream",
     "text": [
      "Дата последнего наблюдения 2019-11-28 00:00:00+03:00\n"
     ]
    }
   ],
   "source": [
    "print(f'Дата последнего наблюдения {telecom_dataset.date.max()}')"
   ]
  },
  {
   "cell_type": "markdown",
   "metadata": {},
   "source": [
    "***Вывод***\n",
    "\n",
    "У нас две таблицы с данными. \n",
    "\n",
    "В первой `telecom_clients` информацию о тарифах, на которых работают операторы. Всего имеем три тарифа:А, В и С. В этой же таблице хранится информация по дате регистрации. Первая регистрация 01.08.2019, последняя 31.10.2022 года\n",
    "\n",
    "Во второй таблице `telecom_dataset` 53902 строки, 9 столбцов.\n",
    "\n",
    "Всего имеем информацию по 1092 операторам в 307 Call центрах.\n",
    "\n",
    "    Дата первого наблюдения 2019-08-02\n",
    "    Дата последнего наблюдения 2019-11-28\n",
    "    \n",
    "В столбце `date` необходими изменить тип и формат."
   ]
  },
  {
   "cell_type": "markdown",
   "metadata": {},
   "source": [
    "[Вернуться в начало](#start)"
   ]
  },
  {
   "cell_type": "markdown",
   "metadata": {},
   "source": [
    "***Часть 2. Выполните предобработку данных***\n",
    "* 1. Изучите, есть ли дубликаты в данных. Можно ли их обработать или оставить как есть? Проверьте пропуски: встречаются ли они, в каких столбцах? Можно ли их обработать или оставить как есть?.<a name=\"dubl\"></a>\n"
   ]
  },
  {
   "cell_type": "code",
   "execution_count": 17,
   "metadata": {},
   "outputs": [
    {
     "name": "stdout",
     "output_type": "stream",
     "text": [
      "Количество дубликатов в telecom_clients: 0\n"
     ]
    }
   ],
   "source": [
    "print(f'Количество дубликатов в telecom_clients: {telecom_clients.duplicated().sum()}')"
   ]
  },
  {
   "cell_type": "markdown",
   "metadata": {},
   "source": [
    "Посмотрим количество пропуков в telecom_clients"
   ]
  },
  {
   "cell_type": "code",
   "execution_count": 18,
   "metadata": {},
   "outputs": [
    {
     "data": {
      "text/plain": [
       "user_id        0\n",
       "tariff_plan    0\n",
       "date_start     0\n",
       "dtype: int64"
      ]
     },
     "execution_count": 18,
     "metadata": {},
     "output_type": "execute_result"
    }
   ],
   "source": [
    "telecom_clients.isna().sum()  "
   ]
  },
  {
   "cell_type": "markdown",
   "metadata": {},
   "source": [
    "Пропусков в telecom_clients нет"
   ]
  },
  {
   "cell_type": "markdown",
   "metadata": {},
   "source": [
    "Посмотрим количество пропуков в telecom_dataset методом isna() "
   ]
  },
  {
   "cell_type": "code",
   "execution_count": 19,
   "metadata": {},
   "outputs": [
    {
     "data": {
      "text/plain": [
       "user_id                   0\n",
       "date                      0\n",
       "direction                 0\n",
       "internal                117\n",
       "operator_id            8172\n",
       "is_missed_call            0\n",
       "calls_count               0\n",
       "call_duration             0\n",
       "total_call_duration       0\n",
       "dtype: int64"
      ]
     },
     "execution_count": 19,
     "metadata": {},
     "output_type": "execute_result"
    }
   ],
   "source": [
    "telecom_dataset.isna().sum()"
   ]
  },
  {
   "cell_type": "markdown",
   "metadata": {},
   "source": [
    "Имеем 117 пропусков в internal и 8172 пропуска в operator_id \n",
    "\n",
    "Посмотрим долю пропущенных значений в каждом столбце:"
   ]
  },
  {
   "cell_type": "code",
   "execution_count": 20,
   "metadata": {},
   "outputs": [
    {
     "data": {
      "text/plain": [
       "user_id                0.000000\n",
       "date                   0.000000\n",
       "direction              0.000000\n",
       "internal               0.002171\n",
       "operator_id            0.151608\n",
       "is_missed_call         0.000000\n",
       "calls_count            0.000000\n",
       "call_duration          0.000000\n",
       "total_call_duration    0.000000\n",
       "dtype: float64"
      ]
     },
     "execution_count": 20,
     "metadata": {},
     "output_type": "execute_result"
    }
   ],
   "source": [
    "telecom_dataset.isna().mean()"
   ]
  },
  {
   "cell_type": "markdown",
   "metadata": {},
   "source": [
    "Обработаем пропуски:\n",
    "\n",
    "в operator_id более 15% пропусков, заменим их на -1 (маркерное число)\n",
    "\n",
    "в internal 0,2%, это не критичные данные, эти пропуски заменим на 0"
   ]
  },
  {
   "cell_type": "code",
   "execution_count": 21,
   "metadata": {},
   "outputs": [],
   "source": [
    "telecom_dataset['operator_id'] = telecom_dataset['operator_id'].fillna(-1)  "
   ]
  },
  {
   "cell_type": "code",
   "execution_count": 22,
   "metadata": {},
   "outputs": [],
   "source": [
    "telecom_dataset['internal'] = telecom_dataset['internal'].fillna(0)"
   ]
  },
  {
   "cell_type": "code",
   "execution_count": 23,
   "metadata": {},
   "outputs": [
    {
     "data": {
      "text/plain": [
       "user_id                0\n",
       "date                   0\n",
       "direction              0\n",
       "internal               0\n",
       "operator_id            0\n",
       "is_missed_call         0\n",
       "calls_count            0\n",
       "call_duration          0\n",
       "total_call_duration    0\n",
       "dtype: int64"
      ]
     },
     "execution_count": 23,
     "metadata": {},
     "output_type": "execute_result"
    }
   ],
   "source": [
    "telecom_dataset.isna().sum()"
   ]
  },
  {
   "cell_type": "code",
   "execution_count": 24,
   "metadata": {},
   "outputs": [
    {
     "data": {
      "text/plain": [
       "(53902, 9)"
      ]
     },
     "execution_count": 24,
     "metadata": {},
     "output_type": "execute_result"
    }
   ],
   "source": [
    "telecom_dataset.shape"
   ]
  },
  {
   "cell_type": "code",
   "execution_count": 25,
   "metadata": {},
   "outputs": [
    {
     "name": "stdout",
     "output_type": "stream",
     "text": [
      "Количество дубликатов в telecom_dataset: 4900\n"
     ]
    }
   ],
   "source": [
    "print(f'Количество дубликатов в telecom_dataset: {telecom_dataset.duplicated().sum()}')"
   ]
  },
  {
   "cell_type": "markdown",
   "metadata": {},
   "source": [
    "Посмотрим, какие это данные"
   ]
  },
  {
   "cell_type": "code",
   "execution_count": 26,
   "metadata": {},
   "outputs": [
    {
     "name": "stdout",
     "output_type": "stream",
     "text": [
      "Строки с повторяющимися значениями : \n",
      "\n"
     ]
    },
    {
     "data": {
      "text/html": [
       "<div>\n",
       "<style scoped>\n",
       "    .dataframe tbody tr th:only-of-type {\n",
       "        vertical-align: middle;\n",
       "    }\n",
       "\n",
       "    .dataframe tbody tr th {\n",
       "        vertical-align: top;\n",
       "    }\n",
       "\n",
       "    .dataframe thead th {\n",
       "        text-align: right;\n",
       "    }\n",
       "</style>\n",
       "<table border=\"1\" class=\"dataframe\">\n",
       "  <thead>\n",
       "    <tr style=\"text-align: right;\">\n",
       "      <th></th>\n",
       "      <th>user_id</th>\n",
       "      <th>date</th>\n",
       "      <th>direction</th>\n",
       "      <th>internal</th>\n",
       "      <th>operator_id</th>\n",
       "      <th>is_missed_call</th>\n",
       "      <th>calls_count</th>\n",
       "      <th>call_duration</th>\n",
       "      <th>total_call_duration</th>\n",
       "    </tr>\n",
       "  </thead>\n",
       "  <tbody>\n",
       "    <tr>\n",
       "      <th>8</th>\n",
       "      <td>166377</td>\n",
       "      <td>2019-08-05 00:00:00+03:00</td>\n",
       "      <td>out</td>\n",
       "      <td>False</td>\n",
       "      <td>880020.0</td>\n",
       "      <td>True</td>\n",
       "      <td>8</td>\n",
       "      <td>0</td>\n",
       "      <td>50</td>\n",
       "    </tr>\n",
       "    <tr>\n",
       "      <th>28</th>\n",
       "      <td>166377</td>\n",
       "      <td>2019-08-12 00:00:00+03:00</td>\n",
       "      <td>in</td>\n",
       "      <td>False</td>\n",
       "      <td>-1.0</td>\n",
       "      <td>True</td>\n",
       "      <td>2</td>\n",
       "      <td>0</td>\n",
       "      <td>34</td>\n",
       "    </tr>\n",
       "    <tr>\n",
       "      <th>44</th>\n",
       "      <td>166377</td>\n",
       "      <td>2019-08-14 00:00:00+03:00</td>\n",
       "      <td>out</td>\n",
       "      <td>False</td>\n",
       "      <td>880026.0</td>\n",
       "      <td>False</td>\n",
       "      <td>10</td>\n",
       "      <td>1567</td>\n",
       "      <td>1654</td>\n",
       "    </tr>\n",
       "    <tr>\n",
       "      <th>45</th>\n",
       "      <td>166377</td>\n",
       "      <td>2019-08-14 00:00:00+03:00</td>\n",
       "      <td>in</td>\n",
       "      <td>False</td>\n",
       "      <td>-1.0</td>\n",
       "      <td>True</td>\n",
       "      <td>1</td>\n",
       "      <td>0</td>\n",
       "      <td>3</td>\n",
       "    </tr>\n",
       "    <tr>\n",
       "      <th>51</th>\n",
       "      <td>166377</td>\n",
       "      <td>2019-08-15 00:00:00+03:00</td>\n",
       "      <td>out</td>\n",
       "      <td>False</td>\n",
       "      <td>880026.0</td>\n",
       "      <td>False</td>\n",
       "      <td>11</td>\n",
       "      <td>1413</td>\n",
       "      <td>1473</td>\n",
       "    </tr>\n",
       "    <tr>\n",
       "      <th>...</th>\n",
       "      <td>...</td>\n",
       "      <td>...</td>\n",
       "      <td>...</td>\n",
       "      <td>...</td>\n",
       "      <td>...</td>\n",
       "      <td>...</td>\n",
       "      <td>...</td>\n",
       "      <td>...</td>\n",
       "      <td>...</td>\n",
       "    </tr>\n",
       "    <tr>\n",
       "      <th>53869</th>\n",
       "      <td>168601</td>\n",
       "      <td>2019-11-25 00:00:00+03:00</td>\n",
       "      <td>in</td>\n",
       "      <td>False</td>\n",
       "      <td>952914.0</td>\n",
       "      <td>False</td>\n",
       "      <td>7</td>\n",
       "      <td>1229</td>\n",
       "      <td>1282</td>\n",
       "    </tr>\n",
       "    <tr>\n",
       "      <th>53874</th>\n",
       "      <td>168601</td>\n",
       "      <td>2019-11-26 00:00:00+03:00</td>\n",
       "      <td>in</td>\n",
       "      <td>False</td>\n",
       "      <td>952914.0</td>\n",
       "      <td>False</td>\n",
       "      <td>4</td>\n",
       "      <td>539</td>\n",
       "      <td>562</td>\n",
       "    </tr>\n",
       "    <tr>\n",
       "      <th>53875</th>\n",
       "      <td>168601</td>\n",
       "      <td>2019-11-26 00:00:00+03:00</td>\n",
       "      <td>in</td>\n",
       "      <td>False</td>\n",
       "      <td>-1.0</td>\n",
       "      <td>True</td>\n",
       "      <td>3</td>\n",
       "      <td>0</td>\n",
       "      <td>35</td>\n",
       "    </tr>\n",
       "    <tr>\n",
       "      <th>53885</th>\n",
       "      <td>168603</td>\n",
       "      <td>2019-11-20 00:00:00+03:00</td>\n",
       "      <td>out</td>\n",
       "      <td>False</td>\n",
       "      <td>959118.0</td>\n",
       "      <td>True</td>\n",
       "      <td>3</td>\n",
       "      <td>0</td>\n",
       "      <td>89</td>\n",
       "    </tr>\n",
       "    <tr>\n",
       "      <th>53900</th>\n",
       "      <td>168606</td>\n",
       "      <td>2019-11-15 00:00:00+03:00</td>\n",
       "      <td>out</td>\n",
       "      <td>True</td>\n",
       "      <td>957922.0</td>\n",
       "      <td>False</td>\n",
       "      <td>4</td>\n",
       "      <td>3130</td>\n",
       "      <td>3190</td>\n",
       "    </tr>\n",
       "  </tbody>\n",
       "</table>\n",
       "<p>4900 rows × 9 columns</p>\n",
       "</div>"
      ],
      "text/plain": [
       "       user_id                       date direction internal  operator_id  \\\n",
       "8       166377  2019-08-05 00:00:00+03:00       out    False     880020.0   \n",
       "28      166377  2019-08-12 00:00:00+03:00        in    False         -1.0   \n",
       "44      166377  2019-08-14 00:00:00+03:00       out    False     880026.0   \n",
       "45      166377  2019-08-14 00:00:00+03:00        in    False         -1.0   \n",
       "51      166377  2019-08-15 00:00:00+03:00       out    False     880026.0   \n",
       "...        ...                        ...       ...      ...          ...   \n",
       "53869   168601  2019-11-25 00:00:00+03:00        in    False     952914.0   \n",
       "53874   168601  2019-11-26 00:00:00+03:00        in    False     952914.0   \n",
       "53875   168601  2019-11-26 00:00:00+03:00        in    False         -1.0   \n",
       "53885   168603  2019-11-20 00:00:00+03:00       out    False     959118.0   \n",
       "53900   168606  2019-11-15 00:00:00+03:00       out     True     957922.0   \n",
       "\n",
       "       is_missed_call  calls_count  call_duration  total_call_duration  \n",
       "8                True            8              0                   50  \n",
       "28               True            2              0                   34  \n",
       "44              False           10           1567                 1654  \n",
       "45               True            1              0                    3  \n",
       "51              False           11           1413                 1473  \n",
       "...               ...          ...            ...                  ...  \n",
       "53869           False            7           1229                 1282  \n",
       "53874           False            4            539                  562  \n",
       "53875            True            3              0                   35  \n",
       "53885            True            3              0                   89  \n",
       "53900           False            4           3130                 3190  \n",
       "\n",
       "[4900 rows x 9 columns]"
      ]
     },
     "execution_count": 26,
     "metadata": {},
     "output_type": "execute_result"
    }
   ],
   "source": [
    "Dup_Rows = telecom_dataset[telecom_dataset.duplicated()]\n",
    "\n",
    "print(\"Строки с повторяющимися значениями : \\n\") \n",
    "Dup_Rows"
   ]
  },
  {
   "cell_type": "markdown",
   "metadata": {},
   "source": [
    "Судя по всему, идет просто дублирование информации. Удалим эти дубликаты"
   ]
  },
  {
   "cell_type": "code",
   "execution_count": 27,
   "metadata": {},
   "outputs": [],
   "source": [
    "telecom_dataset = telecom_dataset.drop_duplicates()"
   ]
  },
  {
   "cell_type": "code",
   "execution_count": 28,
   "metadata": {},
   "outputs": [
    {
     "data": {
      "text/plain": [
       "0"
      ]
     },
     "execution_count": 28,
     "metadata": {},
     "output_type": "execute_result"
    }
   ],
   "source": [
    "telecom_dataset.duplicated().sum()   "
   ]
  },
  {
   "cell_type": "code",
   "execution_count": 29,
   "metadata": {},
   "outputs": [
    {
     "data": {
      "text/plain": [
       "(49002, 9)"
      ]
     },
     "execution_count": 29,
     "metadata": {},
     "output_type": "execute_result"
    }
   ],
   "source": [
    "telecom_dataset.shape"
   ]
  },
  {
   "cell_type": "code",
   "execution_count": 30,
   "metadata": {},
   "outputs": [
    {
     "data": {
      "text/html": [
       "<div>\n",
       "<style scoped>\n",
       "    .dataframe tbody tr th:only-of-type {\n",
       "        vertical-align: middle;\n",
       "    }\n",
       "\n",
       "    .dataframe tbody tr th {\n",
       "        vertical-align: top;\n",
       "    }\n",
       "\n",
       "    .dataframe thead th {\n",
       "        text-align: right;\n",
       "    }\n",
       "</style>\n",
       "<table border=\"1\" class=\"dataframe\">\n",
       "  <thead>\n",
       "    <tr style=\"text-align: right;\">\n",
       "      <th></th>\n",
       "      <th>user_id</th>\n",
       "      <th>operator_id</th>\n",
       "      <th>calls_count</th>\n",
       "      <th>call_duration</th>\n",
       "      <th>total_call_duration</th>\n",
       "    </tr>\n",
       "  </thead>\n",
       "  <tbody>\n",
       "    <tr>\n",
       "      <th>count</th>\n",
       "      <td>49002.000000</td>\n",
       "      <td>49002.000000</td>\n",
       "      <td>49002.000000</td>\n",
       "      <td>49002.000000</td>\n",
       "      <td>49002.000000</td>\n",
       "    </tr>\n",
       "    <tr>\n",
       "      <th>mean</th>\n",
       "      <td>167294.892759</td>\n",
       "      <td>777067.674911</td>\n",
       "      <td>16.462777</td>\n",
       "      <td>866.282091</td>\n",
       "      <td>1156.558202</td>\n",
       "    </tr>\n",
       "    <tr>\n",
       "      <th>std</th>\n",
       "      <td>598.558965</td>\n",
       "      <td>329774.097101</td>\n",
       "      <td>63.604098</td>\n",
       "      <td>3775.503352</td>\n",
       "      <td>4451.473661</td>\n",
       "    </tr>\n",
       "    <tr>\n",
       "      <th>min</th>\n",
       "      <td>166377.000000</td>\n",
       "      <td>-1.000000</td>\n",
       "      <td>1.000000</td>\n",
       "      <td>0.000000</td>\n",
       "      <td>0.000000</td>\n",
       "    </tr>\n",
       "    <tr>\n",
       "      <th>25%</th>\n",
       "      <td>166782.000000</td>\n",
       "      <td>890416.000000</td>\n",
       "      <td>1.000000</td>\n",
       "      <td>0.000000</td>\n",
       "      <td>46.000000</td>\n",
       "    </tr>\n",
       "    <tr>\n",
       "      <th>50%</th>\n",
       "      <td>167158.000000</td>\n",
       "      <td>906406.000000</td>\n",
       "      <td>4.000000</td>\n",
       "      <td>37.000000</td>\n",
       "      <td>208.000000</td>\n",
       "    </tr>\n",
       "    <tr>\n",
       "      <th>75%</th>\n",
       "      <td>167819.000000</td>\n",
       "      <td>929884.000000</td>\n",
       "      <td>12.000000</td>\n",
       "      <td>570.000000</td>\n",
       "      <td>901.000000</td>\n",
       "    </tr>\n",
       "    <tr>\n",
       "      <th>max</th>\n",
       "      <td>168606.000000</td>\n",
       "      <td>973286.000000</td>\n",
       "      <td>4817.000000</td>\n",
       "      <td>144395.000000</td>\n",
       "      <td>166155.000000</td>\n",
       "    </tr>\n",
       "  </tbody>\n",
       "</table>\n",
       "</div>"
      ],
      "text/plain": [
       "             user_id    operator_id   calls_count  call_duration  \\\n",
       "count   49002.000000   49002.000000  49002.000000   49002.000000   \n",
       "mean   167294.892759  777067.674911     16.462777     866.282091   \n",
       "std       598.558965  329774.097101     63.604098    3775.503352   \n",
       "min    166377.000000      -1.000000      1.000000       0.000000   \n",
       "25%    166782.000000  890416.000000      1.000000       0.000000   \n",
       "50%    167158.000000  906406.000000      4.000000      37.000000   \n",
       "75%    167819.000000  929884.000000     12.000000     570.000000   \n",
       "max    168606.000000  973286.000000   4817.000000  144395.000000   \n",
       "\n",
       "       total_call_duration  \n",
       "count         49002.000000  \n",
       "mean           1156.558202  \n",
       "std            4451.473661  \n",
       "min               0.000000  \n",
       "25%              46.000000  \n",
       "50%             208.000000  \n",
       "75%             901.000000  \n",
       "max          166155.000000  "
      ]
     },
     "execution_count": 30,
     "metadata": {},
     "output_type": "execute_result"
    }
   ],
   "source": [
    "telecom_dataset.describe()"
   ]
  },
  {
   "cell_type": "markdown",
   "metadata": {},
   "source": [
    "* 2. Приведите данные к нужному типу в соответствующих столбцах (`date`: datetime)<a name=\"date\"></a>\n"
   ]
  },
  {
   "cell_type": "code",
   "execution_count": 31,
   "metadata": {},
   "outputs": [
    {
     "data": {
      "text/html": [
       "<div>\n",
       "<style scoped>\n",
       "    .dataframe tbody tr th:only-of-type {\n",
       "        vertical-align: middle;\n",
       "    }\n",
       "\n",
       "    .dataframe tbody tr th {\n",
       "        vertical-align: top;\n",
       "    }\n",
       "\n",
       "    .dataframe thead th {\n",
       "        text-align: right;\n",
       "    }\n",
       "</style>\n",
       "<table border=\"1\" class=\"dataframe\">\n",
       "  <thead>\n",
       "    <tr style=\"text-align: right;\">\n",
       "      <th></th>\n",
       "      <th>user_id</th>\n",
       "      <th>date</th>\n",
       "      <th>direction</th>\n",
       "      <th>internal</th>\n",
       "      <th>operator_id</th>\n",
       "      <th>is_missed_call</th>\n",
       "      <th>calls_count</th>\n",
       "      <th>call_duration</th>\n",
       "      <th>total_call_duration</th>\n",
       "    </tr>\n",
       "  </thead>\n",
       "  <tbody>\n",
       "    <tr>\n",
       "      <th>0</th>\n",
       "      <td>166377</td>\n",
       "      <td>2019-08-04</td>\n",
       "      <td>in</td>\n",
       "      <td>False</td>\n",
       "      <td>-1.0</td>\n",
       "      <td>True</td>\n",
       "      <td>2</td>\n",
       "      <td>0</td>\n",
       "      <td>4</td>\n",
       "    </tr>\n",
       "    <tr>\n",
       "      <th>1</th>\n",
       "      <td>166377</td>\n",
       "      <td>2019-08-05</td>\n",
       "      <td>out</td>\n",
       "      <td>True</td>\n",
       "      <td>880022.0</td>\n",
       "      <td>True</td>\n",
       "      <td>3</td>\n",
       "      <td>0</td>\n",
       "      <td>5</td>\n",
       "    </tr>\n",
       "  </tbody>\n",
       "</table>\n",
       "</div>"
      ],
      "text/plain": [
       "   user_id        date direction internal  operator_id  is_missed_call  \\\n",
       "0   166377  2019-08-04        in    False         -1.0            True   \n",
       "1   166377  2019-08-05       out     True     880022.0            True   \n",
       "\n",
       "   calls_count  call_duration  total_call_duration  \n",
       "0            2              0                    4  \n",
       "1            3              0                    5  "
      ]
     },
     "execution_count": 31,
     "metadata": {},
     "output_type": "execute_result"
    }
   ],
   "source": [
    "telecom_dataset['date'] = pd.to_datetime(telecom_dataset['date']).dt.date\n",
    "telecom_dataset.head(2)"
   ]
  },
  {
   "cell_type": "markdown",
   "metadata": {},
   "source": [
    "* 3. Проверьте данные на выбросы по количеству звонков и продолжительности. Используйте `ящик с усами`.<a name=\"emissions\"></a>\n"
   ]
  },
  {
   "cell_type": "code",
   "execution_count": 32,
   "metadata": {},
   "outputs": [
    {
     "data": {
      "image/png": "[encoded data removed]",
      "text/plain": [
       "<Figure size 864x432 with 1 Axes>"
      ]
     },
     "metadata": {
      "needs_background": "light"
     },
     "output_type": "display_data"
    }
   ],
   "source": [
    "plt.figure(figsize=(12, 6))\n",
    "ax = sns.boxplot(x=\"total_call_duration\", data=telecom_dataset)"
   ]
  },
  {
   "cell_type": "markdown",
   "metadata": {},
   "source": [
    "Очень похоже, что время звонков измеряли в минутах, посмотрим картину если сделать срез на 1440 минут (1 сутки)"
   ]
  },
  {
   "cell_type": "code",
   "execution_count": 33,
   "metadata": {
    "scrolled": false
   },
   "outputs": [
    {
     "data": {
      "image/png": "[encoded data removed]",
      "text/plain": [
       "<Figure size 864x432 with 1 Axes>"
      ]
     },
     "metadata": {
      "needs_background": "light"
     },
     "output_type": "display_data"
    }
   ],
   "source": [
    "plt.figure(figsize=(12, 6))\n",
    "ax = sns.boxplot(x=\"total_call_duration\", data=telecom_dataset[telecom_dataset['total_call_duration']<1440])"
   ]
  },
  {
   "cell_type": "markdown",
   "metadata": {},
   "source": [
    "Действительно, продолжительность звонков указана в минутах. Тогда все данные, где количество минут более 1440 минут можно считать аномальными и необходимо их удалить."
   ]
  },
  {
   "cell_type": "code",
   "execution_count": 34,
   "metadata": {},
   "outputs": [],
   "source": [
    "telecom_dataset = telecom_dataset[telecom_dataset['total_call_duration'] <= 1440]"
   ]
  },
  {
   "cell_type": "markdown",
   "metadata": {},
   "source": [
    "Изучим количество звонков"
   ]
  },
  {
   "cell_type": "code",
   "execution_count": 35,
   "metadata": {},
   "outputs": [
    {
     "data": {
      "text/plain": [
       "operator_id\n",
       "920416.0    65.142857\n",
       "945294.0    56.928571\n",
       "921594.0    52.000000\n",
       "919378.0    51.000000\n",
       "945322.0    49.722222\n",
       "              ...    \n",
       "914626.0     1.000000\n",
       "954284.0     1.000000\n",
       "954318.0     1.000000\n",
       "954376.0     1.000000\n",
       "937772.0     1.000000\n",
       "Name: calls_count, Length: 1090, dtype: float64"
      ]
     },
     "execution_count": 35,
     "metadata": {},
     "output_type": "execute_result"
    }
   ],
   "source": [
    "telecom_dataset.groupby('operator_id')['calls_count'].mean().sort_values(ascending=False)"
   ]
  },
  {
   "cell_type": "markdown",
   "metadata": {},
   "source": [
    "На первый взгляд средние показатели нормальные.\n",
    "\n",
    "Посмотрим на графике разброса:"
   ]
  },
  {
   "cell_type": "code",
   "execution_count": 36,
   "metadata": {},
   "outputs": [
    {
     "data": {
      "image/png": "[encoded data removed]",
      "text/plain": [
       "<Figure size 864x432 with 1 Axes>"
      ]
     },
     "metadata": {
      "needs_background": "light"
     },
     "output_type": "display_data"
    }
   ],
   "source": [
    "plt.figure(figsize=(12, 6))\n",
    "plt.scatter(telecom_dataset.calls_count, telecom_dataset.date)\n",
    "plt.show()"
   ]
  },
  {
   "cell_type": "markdown",
   "metadata": {},
   "source": [
    "Можно сделать вывод, что значения более 200 звонков в день - это выбросы.\n",
    "\n",
    "Удалим из данных эти значения"
   ]
  },
  {
   "cell_type": "code",
   "execution_count": 37,
   "metadata": {},
   "outputs": [],
   "source": [
    "telecom_dataset = telecom_dataset[telecom_dataset['calls_count'] < 200]"
   ]
  },
  {
   "cell_type": "code",
   "execution_count": 38,
   "metadata": {},
   "outputs": [
    {
     "data": {
      "image/png": "[encoded data removed]",
      "text/plain": [
       "<Figure size 864x432 with 1 Axes>"
      ]
     },
     "metadata": {
      "needs_background": "light"
     },
     "output_type": "display_data"
    }
   ],
   "source": [
    "plt.figure(figsize=(12, 6))\n",
    "plt.scatter(telecom_dataset.calls_count, telecom_dataset.date)\n",
    "plt.show()"
   ]
  },
  {
   "cell_type": "code",
   "execution_count": 39,
   "metadata": {},
   "outputs": [
    {
     "data": {
      "image/png": "[encoded data removed]",
      "text/plain": [
       "<Figure size 864x432 with 1 Axes>"
      ]
     },
     "metadata": {
      "needs_background": "light"
     },
     "output_type": "display_data"
    }
   ],
   "source": [
    "plt.figure(figsize=(12, 6))\n",
    "ax = sns.boxplot(x=\"calls_count\", data=telecom_dataset)"
   ]
  },
  {
   "cell_type": "markdown",
   "metadata": {},
   "source": [
    "* 4. Объедините таблицы методом `merge`. Присоедините `telecom_clients` к `telecom_dataset` так, чтобы у каждого оператора быт показан тариф (`tariff_plan`)<a name=\"merge\"></a>"
   ]
  },
  {
   "cell_type": "code",
   "execution_count": 40,
   "metadata": {},
   "outputs": [],
   "source": [
    "telecom_dataset_clients = pd.merge(telecom_dataset, telecom_clients, on='user_id', how='left')"
   ]
  },
  {
   "cell_type": "code",
   "execution_count": 41,
   "metadata": {},
   "outputs": [
    {
     "data": {
      "text/html": [
       "<div>\n",
       "<style scoped>\n",
       "    .dataframe tbody tr th:only-of-type {\n",
       "        vertical-align: middle;\n",
       "    }\n",
       "\n",
       "    .dataframe tbody tr th {\n",
       "        vertical-align: top;\n",
       "    }\n",
       "\n",
       "    .dataframe thead th {\n",
       "        text-align: right;\n",
       "    }\n",
       "</style>\n",
       "<table border=\"1\" class=\"dataframe\">\n",
       "  <thead>\n",
       "    <tr style=\"text-align: right;\">\n",
       "      <th></th>\n",
       "      <th>user_id</th>\n",
       "      <th>date</th>\n",
       "      <th>direction</th>\n",
       "      <th>internal</th>\n",
       "      <th>operator_id</th>\n",
       "      <th>is_missed_call</th>\n",
       "      <th>calls_count</th>\n",
       "      <th>call_duration</th>\n",
       "      <th>total_call_duration</th>\n",
       "      <th>tariff_plan</th>\n",
       "      <th>date_start</th>\n",
       "    </tr>\n",
       "  </thead>\n",
       "  <tbody>\n",
       "    <tr>\n",
       "      <th>0</th>\n",
       "      <td>166377</td>\n",
       "      <td>2019-08-04</td>\n",
       "      <td>in</td>\n",
       "      <td>False</td>\n",
       "      <td>-1.0</td>\n",
       "      <td>True</td>\n",
       "      <td>2</td>\n",
       "      <td>0</td>\n",
       "      <td>4</td>\n",
       "      <td>B</td>\n",
       "      <td>2019-08-01</td>\n",
       "    </tr>\n",
       "    <tr>\n",
       "      <th>1</th>\n",
       "      <td>166377</td>\n",
       "      <td>2019-08-05</td>\n",
       "      <td>out</td>\n",
       "      <td>True</td>\n",
       "      <td>880022.0</td>\n",
       "      <td>True</td>\n",
       "      <td>3</td>\n",
       "      <td>0</td>\n",
       "      <td>5</td>\n",
       "      <td>B</td>\n",
       "      <td>2019-08-01</td>\n",
       "    </tr>\n",
       "    <tr>\n",
       "      <th>2</th>\n",
       "      <td>166377</td>\n",
       "      <td>2019-08-05</td>\n",
       "      <td>out</td>\n",
       "      <td>True</td>\n",
       "      <td>880020.0</td>\n",
       "      <td>True</td>\n",
       "      <td>1</td>\n",
       "      <td>0</td>\n",
       "      <td>1</td>\n",
       "      <td>B</td>\n",
       "      <td>2019-08-01</td>\n",
       "    </tr>\n",
       "    <tr>\n",
       "      <th>3</th>\n",
       "      <td>166377</td>\n",
       "      <td>2019-08-05</td>\n",
       "      <td>out</td>\n",
       "      <td>True</td>\n",
       "      <td>880020.0</td>\n",
       "      <td>False</td>\n",
       "      <td>1</td>\n",
       "      <td>10</td>\n",
       "      <td>18</td>\n",
       "      <td>B</td>\n",
       "      <td>2019-08-01</td>\n",
       "    </tr>\n",
       "    <tr>\n",
       "      <th>4</th>\n",
       "      <td>166377</td>\n",
       "      <td>2019-08-05</td>\n",
       "      <td>out</td>\n",
       "      <td>False</td>\n",
       "      <td>880022.0</td>\n",
       "      <td>True</td>\n",
       "      <td>3</td>\n",
       "      <td>0</td>\n",
       "      <td>25</td>\n",
       "      <td>B</td>\n",
       "      <td>2019-08-01</td>\n",
       "    </tr>\n",
       "  </tbody>\n",
       "</table>\n",
       "</div>"
      ],
      "text/plain": [
       "   user_id        date direction internal  operator_id  is_missed_call  \\\n",
       "0   166377  2019-08-04        in    False         -1.0            True   \n",
       "1   166377  2019-08-05       out     True     880022.0            True   \n",
       "2   166377  2019-08-05       out     True     880020.0            True   \n",
       "3   166377  2019-08-05       out     True     880020.0           False   \n",
       "4   166377  2019-08-05       out    False     880022.0            True   \n",
       "\n",
       "   calls_count  call_duration  total_call_duration tariff_plan  date_start  \n",
       "0            2              0                    4           B  2019-08-01  \n",
       "1            3              0                    5           B  2019-08-01  \n",
       "2            1              0                    1           B  2019-08-01  \n",
       "3            1             10                   18           B  2019-08-01  \n",
       "4            3              0                   25           B  2019-08-01  "
      ]
     },
     "execution_count": 41,
     "metadata": {},
     "output_type": "execute_result"
    }
   ],
   "source": [
    "telecom_dataset_clients.head(5)"
   ]
  },
  {
   "cell_type": "markdown",
   "metadata": {},
   "source": [
    "***Вывод***\n",
    "\n",
    "В telecom_dataset выявили 117 пропусков в internal и 8172 пропуска в operator_id\n",
    "\n",
    "    В operator_id пропуски заменили  на \"не определено\"\n",
    "    Пропуски в internal заменили на 0, так как их не много и они не критичны.\n",
    "После проверки на дубликаты были выявлены и в telecom_dataset 4900 полных дубликата.\n",
    "\n",
    "Изменили формат даты для удобства отображения и обработки.\n",
    "\n",
    "Провели первичный анализ и определили еденицы измерения длительности звонков и ожиданая - это минуты. \n",
    "\n",
    "Выявили выбросы по длительности звонков в день и сделали срез до 1440 мин (1 сутки)\n",
    "\n",
    "Выявили выбросы по количеству звонков в день и сделали срез до 200 звонков.\n",
    "\n",
    "Объединили обе таблицы. Теперь есть возможность анализировать данные в разрезе различных тарифных планов."
   ]
  },
  {
   "cell_type": "markdown",
   "metadata": {},
   "source": [
    "[Вернуться в начало](#start)"
   ]
  },
  {
   "cell_type": "markdown",
   "metadata": {},
   "source": [
    "***Часть 3. Анализ данных***\n",
    "* 1. Для call центров работающих на разных тарифах проанализировать отличия на каждом тарифе.<a name=\"analysis_in_centr\"></a>\n",
    "     * 1.1. Сделать группировку по call центрам и по тарифам. Вывести информацию сколько входящих и исходящих звонков в среднем в день call центрах на каждом тарифе. \n",
    "     * 1.2. Сколько пропущенных звонков. Какая средняя продолжительность. Какой процент от общего количества звонков составляют пропущенные. \n",
    "     * 1.3. Какое общее время звонков и ожидания (с учетом внутренних звонков). Определите в каких единицах указана продолжительность звонков и ожидания. Сколько звонков в день в может делать оператор? Какая их средняя продолжительность.\n",
    "     * 1.4. Определить основные отличия для каждого тарифах. Определить какие тарифы больше предназначены на исходящие звонки, а какие на входящие.      "
   ]
  },
  {
   "cell_type": "code",
   "execution_count": 82,
   "metadata": {},
   "outputs": [],
   "source": [
    "# Функция построения круговой диаграммы с группировкой по двум столбцам.\n",
    "def pie_chart(df, column_1, column_2, column_3, title):\n",
    "    data = df.groupby([column_1, column_2])[column_3].mean().reset_index()\n",
    "    data.rename(columns={column_3: 'count'}, inplace=True)\n",
    "    fig = px.sunburst(data,\n",
    "                  path=[column_1, column_2],\n",
    "                  values='count')\n",
    "    fig.update_layout(title=title,\n",
    "                  width=800,\n",
    "                  height=600)\n",
    "    fig.show()"
   ]
  },
  {
   "cell_type": "markdown",
   "metadata": {},
   "source": [
    "Посмотрим среднее количество входящих и исходящих звонков на разных тарифах"
   ]
  },
  {
   "cell_type": "code",
   "execution_count": null,
   "metadata": {},
   "outputs": [],
   "source": [
    "title = 'Среднее количество входящих и исходящих звонков на разных тарифах'\n",
    "pie_chart(telecom_dataset_clients, 'tariff_plan', 'direction', 'calls_count', title)"
   ]
  },
  {
   "attachments": {
    "image.png": {
     "image/png": "[encoded data removed]"
    }
   },
   "cell_type": "markdown",
   "metadata": {},
   "source": [
    "![image.png](attachment:image.png)"
   ]
  },
  {
   "cell_type": "markdown",
   "metadata": {},
   "source": [
    "На каждом тарифе картина соотношения входящих и исходящих звонков приблизтельно одинаковая. Преобладают исходящие звонки.\n",
    "\n",
    "Посмотрим на среднюю длительность звонков в зависимости от тарифа"
   ]
  },
  {
   "cell_type": "code",
   "execution_count": 44,
   "metadata": {},
   "outputs": [
    {
     "data": {
      "image/png": "[encoded data removed]",
      "text/plain": [
       "<Figure size 864x432 with 1 Axes>"
      ]
     },
     "metadata": {
      "needs_background": "light"
     },
     "output_type": "display_data"
    }
   ],
   "source": [
    "plt.figure(figsize=(12, 6))\n",
    "ax = sns.boxplot(x=\"total_call_duration\", y=\"tariff_plan\", data=telecom_dataset_clients)"
   ]
  },
  {
   "cell_type": "markdown",
   "metadata": {},
   "source": [
    "Самая большая средняя длительность звонков на тарифе \"А\". На \"В\" и \"С\" картина практически одинаковая. Скорее всего, именно этот тариф предусматривает длительные звонки.\n",
    "\n",
    "Посмотрим среднее количество звонков на каждом тарифе"
   ]
  },
  {
   "cell_type": "code",
   "execution_count": 45,
   "metadata": {},
   "outputs": [
    {
     "data": {
      "image/png": "[encoded data removed]",
      "text/plain": [
       "<Figure size 864x432 with 1 Axes>"
      ]
     },
     "metadata": {
      "needs_background": "light"
     },
     "output_type": "display_data"
    }
   ],
   "source": [
    "plt.figure(figsize=(12, 6))\n",
    "ax = sns.boxplot(x=\"calls_count\", y=\"tariff_plan\", data=telecom_dataset_clients)"
   ]
  },
  {
   "cell_type": "markdown",
   "metadata": {},
   "source": [
    "И по количеству звонков в день явно лидирует тариф А"
   ]
  },
  {
   "cell_type": "code",
   "execution_count": null,
   "metadata": {},
   "outputs": [],
   "source": [
    "fig = go.Figure(data=[go.Pie(labels=telecom_dataset_clients['tariff_plan'],\n",
    "                             values=telecom_dataset_clients['calls_count']\n",
    "                             )\n",
    "                     ]\n",
    "               )\n",
    "fig.update_layout(title='Общее количество звонков на тарифах',\n",
    "                  width=800,\n",
    "                  height=600)\n",
    "fig.show() # выводим график"
   ]
  },
  {
   "attachments": {
    "image.png": {
     "image/png": "[encoded data removed]"
    }
   },
   "cell_type": "markdown",
   "metadata": {},
   "source": [
    "![image.png](attachment:image.png)"
   ]
  },
  {
   "cell_type": "markdown",
   "metadata": {},
   "source": [
    "Общее количество звонков оказалось больше на тарифе С"
   ]
  },
  {
   "cell_type": "markdown",
   "metadata": {},
   "source": [
    "Учтем, что в сутках 1440 минут. Согласно законодательству РФ при 8-ми часовом рабочем дней перерывы могут составлять от 30 мин до 2 часов. Тогда удалим еще 360 минут, у нас останется 1080 минут. Если учесть, что до 50% процентов времени занимает подготовка к звонку, набор намера и сохраниение результатотв звонка можно считать, что реальное время звонков должно составлять минимум 540 минут.\n",
    "\n",
    "\n",
    "Оставим в датафрейме только тех операторов длительность разговора которых больше 540 минут. Так же удалим операторов, у которых были пропуски в id\n",
    "\n"
   ]
  },
  {
   "cell_type": "markdown",
   "metadata": {},
   "source": [
    "    Цель нашего исследования сформировать критерии для определения Неэффективных операторов. Очевидно, что нас не интересуют операторы, которые в течении суток общаются по телефону более 540 минут. \n",
    "    Есть большая вероятность, что некоторые колл-центры не работают 24 часа сутки, так же есть вероятность, что часть сотрудников работают удаленно. В этом случае, у такого сотрудника может быть свой отдельный IP и, вряд ли, можно ожидать, что оператор будет работать по 24 часа. \n",
    "    Чтобы наши критерии были корректны, необходимо рассмотреть вариант работы оператора 8 часов в день. При этом варианте, мы конечно получим погрешность в выявлении Неэффективный операторов, которые работают 24 час, но, при этом, мы, с большой долей вероятности, сможем сказать, что оператор Неэффективен не зависимо от того раотает он 24 часа или 8.\n",
    "    Для дальнейшего анализа примем следующие вводные: рабочий день 8 часов, в том числе обед и перерывы. \n",
    "    При этом мы не будем учитывать ситуацию, когда у сотрудника не лимитированный рабочий день и его работа оценивается по каким-то другим критериям.\n",
    "    Если все это верно, мы можем сделать срез по времени разговора оператора на 208 минут (8 часов - 30 минут (обед) - 35 минут (5 минут каждый час) - 207 (50% времини на подготовку к звонку, набор номера, сохраниение результатов звонка). \n",
    "    Так же можем убрать тех операторов, которые делают более 20 исходящих состоявшихся звонков, которые были не по внутренней линии.\n",
    "    \n",
    "    Проверим нашу версию:\n",
    "    "
   ]
  },
  {
   "cell_type": "markdown",
   "metadata": {},
   "source": [
    "Для call центров работающих на разных тарифах проанализировать отличия на каждом тарифе.\n",
    "\n",
    "1.1. Сделать группировку по call центрам и по тарифам. Вывести информацию сколько входящих и исходящих звонков в среднем в день call центрах на каждом тарифе.\n",
    "\n",
    "1.2. Сколько пропущенных звонков. Какая средняя продолжительность. Какой процент от общего количества звонков составляют пропущенные.\n",
    "\n",
    "1.3. Какое общее время звонков и ожидания (с учетом внутренних звонков). Определите в каких единицах указана продолжительность звонков и ожидания. Сколько звонков в день в может делать оператор? Какая их средняя продолжительность.\n",
    "\n",
    "1.4. Определить основные отличия для каждого тарифах. Определить какие тарифы больше предназначены на исходящие звонки, а какие на входящие."
   ]
  },
  {
   "cell_type": "markdown",
   "metadata": {},
   "source": [
    "Посмотрим, сможем ли мы выделить узкую специализацию по тарифным планам на входящие или исходящие звонки."
   ]
  },
  {
   "cell_type": "markdown",
   "metadata": {},
   "source": [
    "Суммируем количество звонков и продолжительность звонков за каждый день у каждого оператора.\n",
    "\n",
    "Общая:"
   ]
  },
  {
   "cell_type": "code",
   "execution_count": 47,
   "metadata": {},
   "outputs": [],
   "source": [
    "telecom_dataset_clients_agg = telecom_dataset_clients.groupby(\n",
    "    ['tariff_plan',\n",
    "     'user_id',\n",
    "     'direction',\n",
    "     'internal',\n",
    "     'is_missed_call',\n",
    "     'operator_id',\n",
    "     'date'\n",
    "    ]).agg(\n",
    "    {\n",
    "        'calls_count': 'sum',\n",
    "     'call_duration': 'sum',\n",
    "    'total_call_duration': 'sum'\n",
    "    }\n",
    ").reset_index()\n"
   ]
  },
  {
   "cell_type": "code",
   "execution_count": 48,
   "metadata": {},
   "outputs": [
    {
     "data": {
      "text/html": [
       "<div>\n",
       "<style scoped>\n",
       "    .dataframe tbody tr th:only-of-type {\n",
       "        vertical-align: middle;\n",
       "    }\n",
       "\n",
       "    .dataframe tbody tr th {\n",
       "        vertical-align: top;\n",
       "    }\n",
       "\n",
       "    .dataframe thead th {\n",
       "        text-align: right;\n",
       "    }\n",
       "</style>\n",
       "<table border=\"1\" class=\"dataframe\">\n",
       "  <thead>\n",
       "    <tr style=\"text-align: right;\">\n",
       "      <th></th>\n",
       "      <th></th>\n",
       "      <th>user_id</th>\n",
       "      <th>internal</th>\n",
       "      <th>operator_id</th>\n",
       "      <th>calls_count</th>\n",
       "      <th>call_duration</th>\n",
       "      <th>total_call_duration</th>\n",
       "    </tr>\n",
       "    <tr>\n",
       "      <th>tariff_plan</th>\n",
       "      <th>is_missed_call</th>\n",
       "      <th></th>\n",
       "      <th></th>\n",
       "      <th></th>\n",
       "      <th></th>\n",
       "      <th></th>\n",
       "      <th></th>\n",
       "    </tr>\n",
       "  </thead>\n",
       "  <tbody>\n",
       "    <tr>\n",
       "      <th rowspan=\"2\" valign=\"top\">A</th>\n",
       "      <th>False</th>\n",
       "      <td>167512.169710</td>\n",
       "      <td>0.0</td>\n",
       "      <td>917998.518257</td>\n",
       "      <td>4.192946</td>\n",
       "      <td>375.264315</td>\n",
       "      <td>431.804149</td>\n",
       "    </tr>\n",
       "    <tr>\n",
       "      <th>True</th>\n",
       "      <td>167249.841195</td>\n",
       "      <td>0.0</td>\n",
       "      <td>185047.373428</td>\n",
       "      <td>8.219340</td>\n",
       "      <td>13.639937</td>\n",
       "      <td>120.748428</td>\n",
       "    </tr>\n",
       "    <tr>\n",
       "      <th rowspan=\"2\" valign=\"top\">B</th>\n",
       "      <th>False</th>\n",
       "      <td>167171.203943</td>\n",
       "      <td>0.0</td>\n",
       "      <td>914301.269231</td>\n",
       "      <td>3.020039</td>\n",
       "      <td>322.357143</td>\n",
       "      <td>375.793148</td>\n",
       "    </tr>\n",
       "    <tr>\n",
       "      <th>True</th>\n",
       "      <td>167193.631749</td>\n",
       "      <td>0.0</td>\n",
       "      <td>74331.575234</td>\n",
       "      <td>6.635349</td>\n",
       "      <td>1.217063</td>\n",
       "      <td>110.275378</td>\n",
       "    </tr>\n",
       "    <tr>\n",
       "      <th rowspan=\"2\" valign=\"top\">C</th>\n",
       "      <th>False</th>\n",
       "      <td>167230.071777</td>\n",
       "      <td>0.0</td>\n",
       "      <td>908562.205811</td>\n",
       "      <td>3.718506</td>\n",
       "      <td>315.888916</td>\n",
       "      <td>365.060303</td>\n",
       "    </tr>\n",
       "    <tr>\n",
       "      <th>True</th>\n",
       "      <td>167298.734116</td>\n",
       "      <td>0.0</td>\n",
       "      <td>50866.640470</td>\n",
       "      <td>5.230051</td>\n",
       "      <td>0.368865</td>\n",
       "      <td>93.246311</td>\n",
       "    </tr>\n",
       "  </tbody>\n",
       "</table>\n",
       "</div>"
      ],
      "text/plain": [
       "                                  user_id  internal    operator_id  \\\n",
       "tariff_plan is_missed_call                                           \n",
       "A           False           167512.169710       0.0  917998.518257   \n",
       "            True            167249.841195       0.0  185047.373428   \n",
       "B           False           167171.203943       0.0  914301.269231   \n",
       "            True            167193.631749       0.0   74331.575234   \n",
       "C           False           167230.071777       0.0  908562.205811   \n",
       "            True            167298.734116       0.0   50866.640470   \n",
       "\n",
       "                            calls_count  call_duration  total_call_duration  \n",
       "tariff_plan is_missed_call                                                   \n",
       "A           False              4.192946     375.264315           431.804149  \n",
       "            True               8.219340      13.639937           120.748428  \n",
       "B           False              3.020039     322.357143           375.793148  \n",
       "            True               6.635349       1.217063           110.275378  \n",
       "C           False              3.718506     315.888916           365.060303  \n",
       "            True               5.230051       0.368865            93.246311  "
      ]
     },
     "execution_count": 48,
     "metadata": {},
     "output_type": "execute_result"
    }
   ],
   "source": [
    "# уберем внутренние и исходящие звонки\n",
    "telecom_dataset_clients_agg[\n",
    "    (telecom_dataset_clients_agg['direction']=='in')&(telecom_dataset_clients_agg['internal']==False)\n",
    "].groupby(['tariff_plan', 'is_missed_call']).mean()"
   ]
  },
  {
   "cell_type": "code",
   "execution_count": 49,
   "metadata": {},
   "outputs": [
    {
     "data": {
      "text/html": [
       "<div>\n",
       "<style scoped>\n",
       "    .dataframe tbody tr th:only-of-type {\n",
       "        vertical-align: middle;\n",
       "    }\n",
       "\n",
       "    .dataframe tbody tr th {\n",
       "        vertical-align: top;\n",
       "    }\n",
       "\n",
       "    .dataframe thead th {\n",
       "        text-align: right;\n",
       "    }\n",
       "</style>\n",
       "<table border=\"1\" class=\"dataframe\">\n",
       "  <thead>\n",
       "    <tr style=\"text-align: right;\">\n",
       "      <th></th>\n",
       "      <th></th>\n",
       "      <th>user_id</th>\n",
       "      <th>internal</th>\n",
       "      <th>operator_id</th>\n",
       "      <th>calls_count</th>\n",
       "      <th>call_duration</th>\n",
       "      <th>total_call_duration</th>\n",
       "    </tr>\n",
       "    <tr>\n",
       "      <th>tariff_plan</th>\n",
       "      <th>is_missed_call</th>\n",
       "      <th></th>\n",
       "      <th></th>\n",
       "      <th></th>\n",
       "      <th></th>\n",
       "      <th></th>\n",
       "      <th></th>\n",
       "    </tr>\n",
       "  </thead>\n",
       "  <tbody>\n",
       "    <tr>\n",
       "      <th rowspan=\"2\" valign=\"top\">A</th>\n",
       "      <th>False</th>\n",
       "      <td>167642.868726</td>\n",
       "      <td>0.0</td>\n",
       "      <td>922844.612796</td>\n",
       "      <td>5.690017</td>\n",
       "      <td>402.699945</td>\n",
       "      <td>489.349697</td>\n",
       "    </tr>\n",
       "    <tr>\n",
       "      <th>True</th>\n",
       "      <td>167832.860686</td>\n",
       "      <td>0.0</td>\n",
       "      <td>915926.885120</td>\n",
       "      <td>16.770970</td>\n",
       "      <td>0.000000</td>\n",
       "      <td>372.357768</td>\n",
       "    </tr>\n",
       "    <tr>\n",
       "      <th rowspan=\"2\" valign=\"top\">B</th>\n",
       "      <th>False</th>\n",
       "      <td>167121.772264</td>\n",
       "      <td>0.0</td>\n",
       "      <td>911367.937458</td>\n",
       "      <td>4.626785</td>\n",
       "      <td>416.551326</td>\n",
       "      <td>479.650918</td>\n",
       "    </tr>\n",
       "    <tr>\n",
       "      <th>True</th>\n",
       "      <td>167007.725132</td>\n",
       "      <td>0.0</td>\n",
       "      <td>903455.915560</td>\n",
       "      <td>8.561513</td>\n",
       "      <td>0.000000</td>\n",
       "      <td>190.239790</td>\n",
       "    </tr>\n",
       "    <tr>\n",
       "      <th rowspan=\"2\" valign=\"top\">C</th>\n",
       "      <th>False</th>\n",
       "      <td>167184.359818</td>\n",
       "      <td>0.0</td>\n",
       "      <td>912254.738555</td>\n",
       "      <td>6.235339</td>\n",
       "      <td>434.637911</td>\n",
       "      <td>518.862656</td>\n",
       "    </tr>\n",
       "    <tr>\n",
       "      <th>True</th>\n",
       "      <td>167231.400969</td>\n",
       "      <td>0.0</td>\n",
       "      <td>902674.137361</td>\n",
       "      <td>10.312910</td>\n",
       "      <td>0.000000</td>\n",
       "      <td>218.222286</td>\n",
       "    </tr>\n",
       "  </tbody>\n",
       "</table>\n",
       "</div>"
      ],
      "text/plain": [
       "                                  user_id  internal    operator_id  \\\n",
       "tariff_plan is_missed_call                                           \n",
       "A           False           167642.868726       0.0  922844.612796   \n",
       "            True            167832.860686       0.0  915926.885120   \n",
       "B           False           167121.772264       0.0  911367.937458   \n",
       "            True            167007.725132       0.0  903455.915560   \n",
       "C           False           167184.359818       0.0  912254.738555   \n",
       "            True            167231.400969       0.0  902674.137361   \n",
       "\n",
       "                            calls_count  call_duration  total_call_duration  \n",
       "tariff_plan is_missed_call                                                   \n",
       "A           False              5.690017     402.699945           489.349697  \n",
       "            True              16.770970       0.000000           372.357768  \n",
       "B           False              4.626785     416.551326           479.650918  \n",
       "            True               8.561513       0.000000           190.239790  \n",
       "C           False              6.235339     434.637911           518.862656  \n",
       "            True              10.312910       0.000000           218.222286  "
      ]
     },
     "execution_count": 49,
     "metadata": {},
     "output_type": "execute_result"
    }
   ],
   "source": [
    "# уберем внутренние и входящие звонки\n",
    "\n",
    "telecom_dataset_clients_agg[\n",
    "    (telecom_dataset_clients_agg['direction']=='out')&(telecom_dataset_clients_agg['internal']==False)\n",
    "].groupby(['tariff_plan', 'is_missed_call']).mean()"
   ]
  },
  {
   "cell_type": "markdown",
   "metadata": {},
   "source": [
    "Из сводных таблиц видим:\n",
    "\n",
    "    Тариф \"А\" - самая большая средняя длительность входящих звонков 375 при самом большом среднем количестве входящих звонков. Этот тариф для входящей связи.\n",
    "    \n",
    "    Тариф \"С\" - самое большое среднее количество исходящих звонков 6.2, самая большая средняя продолжительность исходящих звонков 434.63 и довольно большое количество недозвонов 10.31. Это тариф для исходящей связи.\n",
    "    \n",
    "    Тариф \"В\" - занимает среднее положение, скорее  всего, его выбирают, когда нужны и входящие и исходящие звонки.\n",
    "    \n"
   ]
  },
  {
   "cell_type": "markdown",
   "metadata": {},
   "source": [
    "* 2. Для call центров работаюх на разных тарифных планах сформулировать метрики для оценки качества работы операторов.<a name=\"analysis_in_operator\"></a>\n",
    "     * 2.1. Проанализуйте работу операторов работающих в КЦ с тарифными планами для исходящих звонков. Определите среднее количество звонков в день, среднюю продолжительность. Исходя из общей прдолжительности звонков предположите единицы измерения. Из всей полученной информации сформулируйти критерии неэффективной работы оператора для таких КЦ. В Критериях должны быть отражены следующие данные: минимальная длительность звонков в день, минимальное количество звонков в день.\n",
    "     * 2.2. Проанализируйте работу операторов работающих в КЦ с тарифными планами для входящих звонков. Определите среднюю продолжительность звонков в день, количество звонков в день, количество пропущенных звонков в день и их процент от общего количества звонков.Среднее время ожидания для недозвонов. Сформулируйте критерии для неэффективной работы операторов для таких КЦ. В критериях должны быть отражены сдедующие данные: продолжительность звонков в день, количечество пропущенных звонков (при хорошо отлаженной работе в КЦ допускается до 5% пропущенных звонков из общего числа звонков)"
   ]
  },
  {
   "cell_type": "markdown",
   "metadata": {},
   "source": [
    "Изучим количество пропущенных звонков и время ожидания ответа на примере КЦ работающих на тарифе для входящих звонков \"А\""
   ]
  },
  {
   "cell_type": "code",
   "execution_count": 50,
   "metadata": {},
   "outputs": [
    {
     "data": {
      "text/html": [
       "<div>\n",
       "<style scoped>\n",
       "    .dataframe tbody tr th:only-of-type {\n",
       "        vertical-align: middle;\n",
       "    }\n",
       "\n",
       "    .dataframe tbody tr th {\n",
       "        vertical-align: top;\n",
       "    }\n",
       "\n",
       "    .dataframe thead th {\n",
       "        text-align: right;\n",
       "    }\n",
       "</style>\n",
       "<table border=\"1\" class=\"dataframe\">\n",
       "  <thead>\n",
       "    <tr style=\"text-align: right;\">\n",
       "      <th></th>\n",
       "      <th>tariff_plan</th>\n",
       "      <th>user_id</th>\n",
       "      <th>direction</th>\n",
       "      <th>internal</th>\n",
       "      <th>is_missed_call</th>\n",
       "      <th>operator_id</th>\n",
       "      <th>date</th>\n",
       "      <th>calls_count</th>\n",
       "      <th>call_duration</th>\n",
       "      <th>total_call_duration</th>\n",
       "    </tr>\n",
       "  </thead>\n",
       "  <tbody>\n",
       "    <tr>\n",
       "      <th>0</th>\n",
       "      <td>A</td>\n",
       "      <td>166407</td>\n",
       "      <td>in</td>\n",
       "      <td>False</td>\n",
       "      <td>False</td>\n",
       "      <td>888532.0</td>\n",
       "      <td>2019-09-10</td>\n",
       "      <td>2</td>\n",
       "      <td>223</td>\n",
       "      <td>242</td>\n",
       "    </tr>\n",
       "    <tr>\n",
       "      <th>2</th>\n",
       "      <td>A</td>\n",
       "      <td>166407</td>\n",
       "      <td>in</td>\n",
       "      <td>False</td>\n",
       "      <td>False</td>\n",
       "      <td>888532.0</td>\n",
       "      <td>2019-10-16</td>\n",
       "      <td>1</td>\n",
       "      <td>310</td>\n",
       "      <td>330</td>\n",
       "    </tr>\n",
       "    <tr>\n",
       "      <th>4</th>\n",
       "      <td>A</td>\n",
       "      <td>166407</td>\n",
       "      <td>in</td>\n",
       "      <td>False</td>\n",
       "      <td>False</td>\n",
       "      <td>888532.0</td>\n",
       "      <td>2019-10-21</td>\n",
       "      <td>2</td>\n",
       "      <td>147</td>\n",
       "      <td>187</td>\n",
       "    </tr>\n",
       "    <tr>\n",
       "      <th>5</th>\n",
       "      <td>A</td>\n",
       "      <td>166407</td>\n",
       "      <td>in</td>\n",
       "      <td>False</td>\n",
       "      <td>False</td>\n",
       "      <td>888532.0</td>\n",
       "      <td>2019-10-22</td>\n",
       "      <td>1</td>\n",
       "      <td>67</td>\n",
       "      <td>89</td>\n",
       "    </tr>\n",
       "    <tr>\n",
       "      <th>6</th>\n",
       "      <td>A</td>\n",
       "      <td>166407</td>\n",
       "      <td>in</td>\n",
       "      <td>False</td>\n",
       "      <td>False</td>\n",
       "      <td>888534.0</td>\n",
       "      <td>2019-09-11</td>\n",
       "      <td>1</td>\n",
       "      <td>59</td>\n",
       "      <td>72</td>\n",
       "    </tr>\n",
       "    <tr>\n",
       "      <th>...</th>\n",
       "      <td>...</td>\n",
       "      <td>...</td>\n",
       "      <td>...</td>\n",
       "      <td>...</td>\n",
       "      <td>...</td>\n",
       "      <td>...</td>\n",
       "      <td>...</td>\n",
       "      <td>...</td>\n",
       "      <td>...</td>\n",
       "      <td>...</td>\n",
       "    </tr>\n",
       "    <tr>\n",
       "      <th>9753</th>\n",
       "      <td>A</td>\n",
       "      <td>168295</td>\n",
       "      <td>in</td>\n",
       "      <td>False</td>\n",
       "      <td>False</td>\n",
       "      <td>960648.0</td>\n",
       "      <td>2019-11-21</td>\n",
       "      <td>6</td>\n",
       "      <td>151</td>\n",
       "      <td>332</td>\n",
       "    </tr>\n",
       "    <tr>\n",
       "      <th>9754</th>\n",
       "      <td>A</td>\n",
       "      <td>168295</td>\n",
       "      <td>in</td>\n",
       "      <td>False</td>\n",
       "      <td>False</td>\n",
       "      <td>960648.0</td>\n",
       "      <td>2019-11-22</td>\n",
       "      <td>1</td>\n",
       "      <td>23</td>\n",
       "      <td>41</td>\n",
       "    </tr>\n",
       "    <tr>\n",
       "      <th>9756</th>\n",
       "      <td>A</td>\n",
       "      <td>168295</td>\n",
       "      <td>in</td>\n",
       "      <td>False</td>\n",
       "      <td>False</td>\n",
       "      <td>960648.0</td>\n",
       "      <td>2019-11-28</td>\n",
       "      <td>3</td>\n",
       "      <td>207</td>\n",
       "      <td>248</td>\n",
       "    </tr>\n",
       "    <tr>\n",
       "      <th>9772</th>\n",
       "      <td>A</td>\n",
       "      <td>168295</td>\n",
       "      <td>in</td>\n",
       "      <td>False</td>\n",
       "      <td>True</td>\n",
       "      <td>960620.0</td>\n",
       "      <td>2019-11-28</td>\n",
       "      <td>1</td>\n",
       "      <td>0</td>\n",
       "      <td>14</td>\n",
       "    </tr>\n",
       "    <tr>\n",
       "      <th>10259</th>\n",
       "      <td>A</td>\n",
       "      <td>168459</td>\n",
       "      <td>in</td>\n",
       "      <td>False</td>\n",
       "      <td>False</td>\n",
       "      <td>968520.0</td>\n",
       "      <td>2019-11-27</td>\n",
       "      <td>5</td>\n",
       "      <td>33</td>\n",
       "      <td>38</td>\n",
       "    </tr>\n",
       "  </tbody>\n",
       "</table>\n",
       "<p>1843 rows × 10 columns</p>\n",
       "</div>"
      ],
      "text/plain": [
       "      tariff_plan  user_id direction  internal  is_missed_call  operator_id  \\\n",
       "0               A   166407        in     False           False     888532.0   \n",
       "2               A   166407        in     False           False     888532.0   \n",
       "4               A   166407        in     False           False     888532.0   \n",
       "5               A   166407        in     False           False     888532.0   \n",
       "6               A   166407        in     False           False     888534.0   \n",
       "...           ...      ...       ...       ...             ...          ...   \n",
       "9753            A   168295        in     False           False     960648.0   \n",
       "9754            A   168295        in     False           False     960648.0   \n",
       "9756            A   168295        in     False           False     960648.0   \n",
       "9772            A   168295        in     False            True     960620.0   \n",
       "10259           A   168459        in     False           False     968520.0   \n",
       "\n",
       "             date  calls_count  call_duration  total_call_duration  \n",
       "0      2019-09-10            2            223                  242  \n",
       "2      2019-10-16            1            310                  330  \n",
       "4      2019-10-21            2            147                  187  \n",
       "5      2019-10-22            1             67                   89  \n",
       "6      2019-09-11            1             59                   72  \n",
       "...           ...          ...            ...                  ...  \n",
       "9753   2019-11-21            6            151                  332  \n",
       "9754   2019-11-22            1             23                   41  \n",
       "9756   2019-11-28            3            207                  248  \n",
       "9772   2019-11-28            1              0                   14  \n",
       "10259  2019-11-27            5             33                   38  \n",
       "\n",
       "[1843 rows x 10 columns]"
      ]
     },
     "execution_count": 50,
     "metadata": {},
     "output_type": "execute_result"
    }
   ],
   "source": [
    "# Делаем срез по времени звонков более 540 мин.\n",
    "telecom_dataset_clients_agg = telecom_dataset_clients_agg[telecom_dataset_clients_agg['total_call_duration']<540]\n",
    "# Оставляем только тариф А, входящие звонки, исключаем внутренние звонки, удаляем неизвестных операторов\n",
    "user_id_in = telecom_dataset_clients_agg[\n",
    "    (telecom_dataset_clients_agg['operator_id']!=-1)&\n",
    "    (telecom_dataset_clients_agg['tariff_plan']=='A')&\n",
    "    (telecom_dataset_clients_agg['direction']=='in')&\n",
    "    (telecom_dataset_clients_agg['internal']==False)\n",
    "]\n",
    "user_id_in"
   ]
  },
  {
   "cell_type": "code",
   "execution_count": null,
   "metadata": {},
   "outputs": [],
   "source": [
    "user_id_in = user_id_in[['user_id',\n",
    "                         'operator_id',\n",
    "                         'date', 'is_missed_call',\n",
    "                         'calls_count', 'call_duration',\n",
    "                         'total_call_duration']\n",
    "                       ]\n",
    "# Считаем столбец с данными о среднем времени ожиданиия\n",
    "user_id_in['waiting_time'] = (user_id_in['total_call_duration'] - user_id_in['call_duration']) / user_id_in['calls_count']"
   ]
  },
  {
   "cell_type": "code",
   "execution_count": 52,
   "metadata": {},
   "outputs": [
    {
     "data": {
      "text/html": [
       "<div>\n",
       "<style scoped>\n",
       "    .dataframe tbody tr th:only-of-type {\n",
       "        vertical-align: middle;\n",
       "    }\n",
       "\n",
       "    .dataframe tbody tr th {\n",
       "        vertical-align: top;\n",
       "    }\n",
       "\n",
       "    .dataframe thead th {\n",
       "        text-align: right;\n",
       "    }\n",
       "</style>\n",
       "<table border=\"1\" class=\"dataframe\">\n",
       "  <thead>\n",
       "    <tr style=\"text-align: right;\">\n",
       "      <th></th>\n",
       "      <th>operator_id</th>\n",
       "      <th>is_missed_call</th>\n",
       "      <th>date</th>\n",
       "      <th>calls_count</th>\n",
       "      <th>call_duration</th>\n",
       "      <th>waiting_time</th>\n",
       "    </tr>\n",
       "  </thead>\n",
       "  <tbody>\n",
       "    <tr>\n",
       "      <th>0</th>\n",
       "      <td>884294.0</td>\n",
       "      <td>False</td>\n",
       "      <td>1</td>\n",
       "      <td>1.000000</td>\n",
       "      <td>5.000000</td>\n",
       "      <td>6.000000</td>\n",
       "    </tr>\n",
       "    <tr>\n",
       "      <th>1</th>\n",
       "      <td>885876.0</td>\n",
       "      <td>False</td>\n",
       "      <td>29</td>\n",
       "      <td>4.551724</td>\n",
       "      <td>185.206897</td>\n",
       "      <td>8.101244</td>\n",
       "    </tr>\n",
       "    <tr>\n",
       "      <th>2</th>\n",
       "      <td>885876.0</td>\n",
       "      <td>True</td>\n",
       "      <td>17</td>\n",
       "      <td>1.176471</td>\n",
       "      <td>0.294118</td>\n",
       "      <td>11.480392</td>\n",
       "    </tr>\n",
       "    <tr>\n",
       "      <th>3</th>\n",
       "      <td>885890.0</td>\n",
       "      <td>False</td>\n",
       "      <td>15</td>\n",
       "      <td>3.866667</td>\n",
       "      <td>218.600000</td>\n",
       "      <td>8.382778</td>\n",
       "    </tr>\n",
       "    <tr>\n",
       "      <th>4</th>\n",
       "      <td>885890.0</td>\n",
       "      <td>True</td>\n",
       "      <td>21</td>\n",
       "      <td>1.238095</td>\n",
       "      <td>0.238095</td>\n",
       "      <td>9.928571</td>\n",
       "    </tr>\n",
       "    <tr>\n",
       "      <th>...</th>\n",
       "      <td>...</td>\n",
       "      <td>...</td>\n",
       "      <td>...</td>\n",
       "      <td>...</td>\n",
       "      <td>...</td>\n",
       "      <td>...</td>\n",
       "    </tr>\n",
       "    <tr>\n",
       "      <th>238</th>\n",
       "      <td>961064.0</td>\n",
       "      <td>False</td>\n",
       "      <td>6</td>\n",
       "      <td>3.833333</td>\n",
       "      <td>120.000000</td>\n",
       "      <td>8.318254</td>\n",
       "    </tr>\n",
       "    <tr>\n",
       "      <th>239</th>\n",
       "      <td>964666.0</td>\n",
       "      <td>False</td>\n",
       "      <td>4</td>\n",
       "      <td>6.000000</td>\n",
       "      <td>222.000000</td>\n",
       "      <td>8.108333</td>\n",
       "    </tr>\n",
       "    <tr>\n",
       "      <th>240</th>\n",
       "      <td>964666.0</td>\n",
       "      <td>True</td>\n",
       "      <td>2</td>\n",
       "      <td>1.500000</td>\n",
       "      <td>144.000000</td>\n",
       "      <td>5.250000</td>\n",
       "    </tr>\n",
       "    <tr>\n",
       "      <th>241</th>\n",
       "      <td>968232.0</td>\n",
       "      <td>False</td>\n",
       "      <td>1</td>\n",
       "      <td>1.000000</td>\n",
       "      <td>114.000000</td>\n",
       "      <td>13.000000</td>\n",
       "    </tr>\n",
       "    <tr>\n",
       "      <th>242</th>\n",
       "      <td>968520.0</td>\n",
       "      <td>False</td>\n",
       "      <td>1</td>\n",
       "      <td>5.000000</td>\n",
       "      <td>33.000000</td>\n",
       "      <td>1.000000</td>\n",
       "    </tr>\n",
       "  </tbody>\n",
       "</table>\n",
       "<p>243 rows × 6 columns</p>\n",
       "</div>"
      ],
      "text/plain": [
       "     operator_id  is_missed_call  date  calls_count  call_duration  \\\n",
       "0       884294.0           False     1     1.000000       5.000000   \n",
       "1       885876.0           False    29     4.551724     185.206897   \n",
       "2       885876.0            True    17     1.176471       0.294118   \n",
       "3       885890.0           False    15     3.866667     218.600000   \n",
       "4       885890.0            True    21     1.238095       0.238095   \n",
       "..           ...             ...   ...          ...            ...   \n",
       "238     961064.0           False     6     3.833333     120.000000   \n",
       "239     964666.0           False     4     6.000000     222.000000   \n",
       "240     964666.0            True     2     1.500000     144.000000   \n",
       "241     968232.0           False     1     1.000000     114.000000   \n",
       "242     968520.0           False     1     5.000000      33.000000   \n",
       "\n",
       "     waiting_time  \n",
       "0        6.000000  \n",
       "1        8.101244  \n",
       "2       11.480392  \n",
       "3        8.382778  \n",
       "4        9.928571  \n",
       "..            ...  \n",
       "238      8.318254  \n",
       "239      8.108333  \n",
       "240      5.250000  \n",
       "241     13.000000  \n",
       "242      1.000000  \n",
       "\n",
       "[243 rows x 6 columns]"
      ]
     },
     "execution_count": 52,
     "metadata": {},
     "output_type": "execute_result"
    }
   ],
   "source": [
    "# аггрегируем данные\n",
    "operator_id_in = user_id_in.groupby(['operator_id', 'is_missed_call']).agg(\n",
    "    {'date': 'count', 'calls_count': 'mean', 'call_duration': 'mean', 'waiting_time': 'mean'}\n",
    ").reset_index()\n",
    "operator_id_in"
   ]
  },
  {
   "cell_type": "markdown",
   "metadata": {},
   "source": [
    "Можем исключить операторов, которые проработали менее одной недели. Они уже доказали свою неэффективность.\n"
   ]
  },
  {
   "cell_type": "code",
   "execution_count": 53,
   "metadata": {},
   "outputs": [
    {
     "data": {
      "text/html": [
       "<div>\n",
       "<style scoped>\n",
       "    .dataframe tbody tr th:only-of-type {\n",
       "        vertical-align: middle;\n",
       "    }\n",
       "\n",
       "    .dataframe tbody tr th {\n",
       "        vertical-align: top;\n",
       "    }\n",
       "\n",
       "    .dataframe thead th {\n",
       "        text-align: right;\n",
       "    }\n",
       "</style>\n",
       "<table border=\"1\" class=\"dataframe\">\n",
       "  <thead>\n",
       "    <tr style=\"text-align: right;\">\n",
       "      <th></th>\n",
       "      <th>operator_id</th>\n",
       "      <th>calls_count</th>\n",
       "      <th>call_duration</th>\n",
       "      <th>waiting_time</th>\n",
       "    </tr>\n",
       "  </thead>\n",
       "  <tbody>\n",
       "    <tr>\n",
       "      <th>1</th>\n",
       "      <td>885876.0</td>\n",
       "      <td>4.551724</td>\n",
       "      <td>185.206897</td>\n",
       "      <td>8.101244</td>\n",
       "    </tr>\n",
       "    <tr>\n",
       "      <th>3</th>\n",
       "      <td>885890.0</td>\n",
       "      <td>3.866667</td>\n",
       "      <td>218.600000</td>\n",
       "      <td>8.382778</td>\n",
       "    </tr>\n",
       "    <tr>\n",
       "      <th>7</th>\n",
       "      <td>888534.0</td>\n",
       "      <td>1.689655</td>\n",
       "      <td>101.827586</td>\n",
       "      <td>29.474138</td>\n",
       "    </tr>\n",
       "    <tr>\n",
       "      <th>11</th>\n",
       "      <td>889754.0</td>\n",
       "      <td>3.259259</td>\n",
       "      <td>218.703704</td>\n",
       "      <td>8.363815</td>\n",
       "    </tr>\n",
       "    <tr>\n",
       "      <th>13</th>\n",
       "      <td>891908.0</td>\n",
       "      <td>1.350000</td>\n",
       "      <td>119.900000</td>\n",
       "      <td>10.120833</td>\n",
       "    </tr>\n",
       "    <tr>\n",
       "      <th>...</th>\n",
       "      <td>...</td>\n",
       "      <td>...</td>\n",
       "      <td>...</td>\n",
       "      <td>...</td>\n",
       "    </tr>\n",
       "    <tr>\n",
       "      <th>209</th>\n",
       "      <td>941384.0</td>\n",
       "      <td>1.882353</td>\n",
       "      <td>117.941176</td>\n",
       "      <td>10.838235</td>\n",
       "    </tr>\n",
       "    <tr>\n",
       "      <th>219</th>\n",
       "      <td>948286.0</td>\n",
       "      <td>4.181818</td>\n",
       "      <td>136.090909</td>\n",
       "      <td>16.642607</td>\n",
       "    </tr>\n",
       "    <tr>\n",
       "      <th>221</th>\n",
       "      <td>948288.0</td>\n",
       "      <td>2.375000</td>\n",
       "      <td>125.875000</td>\n",
       "      <td>9.187500</td>\n",
       "    </tr>\n",
       "    <tr>\n",
       "      <th>227</th>\n",
       "      <td>951492.0</td>\n",
       "      <td>2.000000</td>\n",
       "      <td>278.545455</td>\n",
       "      <td>22.750000</td>\n",
       "    </tr>\n",
       "    <tr>\n",
       "      <th>228</th>\n",
       "      <td>951506.0</td>\n",
       "      <td>1.583333</td>\n",
       "      <td>101.333333</td>\n",
       "      <td>41.861111</td>\n",
       "    </tr>\n",
       "  </tbody>\n",
       "</table>\n",
       "<p>79 rows × 4 columns</p>\n",
       "</div>"
      ],
      "text/plain": [
       "     operator_id  calls_count  call_duration  waiting_time\n",
       "1       885876.0     4.551724     185.206897      8.101244\n",
       "3       885890.0     3.866667     218.600000      8.382778\n",
       "7       888534.0     1.689655     101.827586     29.474138\n",
       "11      889754.0     3.259259     218.703704      8.363815\n",
       "13      891908.0     1.350000     119.900000     10.120833\n",
       "..           ...          ...            ...           ...\n",
       "209     941384.0     1.882353     117.941176     10.838235\n",
       "219     948286.0     4.181818     136.090909     16.642607\n",
       "221     948288.0     2.375000     125.875000      9.187500\n",
       "227     951492.0     2.000000     278.545455     22.750000\n",
       "228     951506.0     1.583333     101.333333     41.861111\n",
       "\n",
       "[79 rows x 4 columns]"
      ]
     },
     "execution_count": 53,
     "metadata": {},
     "output_type": "execute_result"
    }
   ],
   "source": [
    "# операторы, которые более 7 дней принимали хотя бы один звонок \n",
    "operator_id_in_1 = operator_id_in[\n",
    "    (operator_id_in['date'] > 7)&\n",
    "    (operator_id_in['is_missed_call'] == False)\n",
    "][['operator_id', 'calls_count', 'call_duration', 'waiting_time']]\n",
    "operator_id_in_1"
   ]
  },
  {
   "cell_type": "code",
   "execution_count": 54,
   "metadata": {},
   "outputs": [
    {
     "data": {
      "text/html": [
       "<div>\n",
       "<style scoped>\n",
       "    .dataframe tbody tr th:only-of-type {\n",
       "        vertical-align: middle;\n",
       "    }\n",
       "\n",
       "    .dataframe tbody tr th {\n",
       "        vertical-align: top;\n",
       "    }\n",
       "\n",
       "    .dataframe thead th {\n",
       "        text-align: right;\n",
       "    }\n",
       "</style>\n",
       "<table border=\"1\" class=\"dataframe\">\n",
       "  <thead>\n",
       "    <tr style=\"text-align: right;\">\n",
       "      <th></th>\n",
       "      <th>operator_id</th>\n",
       "      <th>missed_call</th>\n",
       "      <th>waiting_time_missed_call</th>\n",
       "    </tr>\n",
       "  </thead>\n",
       "  <tbody>\n",
       "    <tr>\n",
       "      <th>2</th>\n",
       "      <td>885876.0</td>\n",
       "      <td>1.176471</td>\n",
       "      <td>11.480392</td>\n",
       "    </tr>\n",
       "    <tr>\n",
       "      <th>4</th>\n",
       "      <td>885890.0</td>\n",
       "      <td>1.238095</td>\n",
       "      <td>9.928571</td>\n",
       "    </tr>\n",
       "    <tr>\n",
       "      <th>6</th>\n",
       "      <td>888532.0</td>\n",
       "      <td>1.000000</td>\n",
       "      <td>53.000000</td>\n",
       "    </tr>\n",
       "    <tr>\n",
       "      <th>8</th>\n",
       "      <td>888534.0</td>\n",
       "      <td>1.000000</td>\n",
       "      <td>23.000000</td>\n",
       "    </tr>\n",
       "    <tr>\n",
       "      <th>12</th>\n",
       "      <td>889754.0</td>\n",
       "      <td>1.000000</td>\n",
       "      <td>8.500000</td>\n",
       "    </tr>\n",
       "    <tr>\n",
       "      <th>...</th>\n",
       "      <td>...</td>\n",
       "      <td>...</td>\n",
       "      <td>...</td>\n",
       "    </tr>\n",
       "    <tr>\n",
       "      <th>222</th>\n",
       "      <td>948288.0</td>\n",
       "      <td>1.000000</td>\n",
       "      <td>4.000000</td>\n",
       "    </tr>\n",
       "    <tr>\n",
       "      <th>230</th>\n",
       "      <td>951508.0</td>\n",
       "      <td>2.100000</td>\n",
       "      <td>20.928333</td>\n",
       "    </tr>\n",
       "    <tr>\n",
       "      <th>232</th>\n",
       "      <td>952948.0</td>\n",
       "      <td>1.142857</td>\n",
       "      <td>1.142857</td>\n",
       "    </tr>\n",
       "    <tr>\n",
       "      <th>236</th>\n",
       "      <td>960620.0</td>\n",
       "      <td>1.000000</td>\n",
       "      <td>14.000000</td>\n",
       "    </tr>\n",
       "    <tr>\n",
       "      <th>240</th>\n",
       "      <td>964666.0</td>\n",
       "      <td>1.500000</td>\n",
       "      <td>5.250000</td>\n",
       "    </tr>\n",
       "  </tbody>\n",
       "</table>\n",
       "<p>72 rows × 3 columns</p>\n",
       "</div>"
      ],
      "text/plain": [
       "     operator_id  missed_call  waiting_time_missed_call\n",
       "2       885876.0     1.176471                 11.480392\n",
       "4       885890.0     1.238095                  9.928571\n",
       "6       888532.0     1.000000                 53.000000\n",
       "8       888534.0     1.000000                 23.000000\n",
       "12      889754.0     1.000000                  8.500000\n",
       "..           ...          ...                       ...\n",
       "222     948288.0     1.000000                  4.000000\n",
       "230     951508.0     2.100000                 20.928333\n",
       "232     952948.0     1.142857                  1.142857\n",
       "236     960620.0     1.000000                 14.000000\n",
       "240     964666.0     1.500000                  5.250000\n",
       "\n",
       "[72 rows x 3 columns]"
      ]
     },
     "execution_count": 54,
     "metadata": {},
     "output_type": "execute_result"
    }
   ],
   "source": [
    "# операторы у которых есть пропущенные звонки\n",
    "operator_id_in_2 = operator_id_in[\n",
    "    (operator_id_in['is_missed_call'] == True)\n",
    "][['operator_id', 'calls_count', 'waiting_time']]\n",
    "\n",
    "operator_id_in_2.rename(columns={'calls_count': 'missed_call', 'waiting_time': 'waiting_time_missed_call'}, inplace=True)\n",
    "\n",
    "operator_id_in_2"
   ]
  },
  {
   "cell_type": "code",
   "execution_count": 55,
   "metadata": {},
   "outputs": [
    {
     "data": {
      "text/html": [
       "<div>\n",
       "<style scoped>\n",
       "    .dataframe tbody tr th:only-of-type {\n",
       "        vertical-align: middle;\n",
       "    }\n",
       "\n",
       "    .dataframe tbody tr th {\n",
       "        vertical-align: top;\n",
       "    }\n",
       "\n",
       "    .dataframe thead th {\n",
       "        text-align: right;\n",
       "    }\n",
       "</style>\n",
       "<table border=\"1\" class=\"dataframe\">\n",
       "  <thead>\n",
       "    <tr style=\"text-align: right;\">\n",
       "      <th></th>\n",
       "      <th>operator_id</th>\n",
       "      <th>calls_count</th>\n",
       "      <th>call_duration</th>\n",
       "      <th>waiting_time</th>\n",
       "      <th>missed_call</th>\n",
       "      <th>waiting_time_missed_call</th>\n",
       "      <th>prec_missed_call</th>\n",
       "    </tr>\n",
       "  </thead>\n",
       "  <tbody>\n",
       "    <tr>\n",
       "      <th>20</th>\n",
       "      <td>906412.0</td>\n",
       "      <td>1.461538</td>\n",
       "      <td>53.692308</td>\n",
       "      <td>14.269231</td>\n",
       "      <td>3.50</td>\n",
       "      <td>20.300000</td>\n",
       "      <td>0.705426</td>\n",
       "    </tr>\n",
       "    <tr>\n",
       "      <th>5</th>\n",
       "      <td>895574.0</td>\n",
       "      <td>1.594595</td>\n",
       "      <td>137.351351</td>\n",
       "      <td>15.027928</td>\n",
       "      <td>3.00</td>\n",
       "      <td>7.666667</td>\n",
       "      <td>0.652941</td>\n",
       "    </tr>\n",
       "    <tr>\n",
       "      <th>75</th>\n",
       "      <td>948286.0</td>\n",
       "      <td>4.181818</td>\n",
       "      <td>136.090909</td>\n",
       "      <td>16.642607</td>\n",
       "      <td>3.00</td>\n",
       "      <td>3.980000</td>\n",
       "      <td>0.417722</td>\n",
       "    </tr>\n",
       "    <tr>\n",
       "      <th>22</th>\n",
       "      <td>908960.0</td>\n",
       "      <td>3.882353</td>\n",
       "      <td>288.882353</td>\n",
       "      <td>24.135294</td>\n",
       "      <td>1.75</td>\n",
       "      <td>28.812500</td>\n",
       "      <td>0.310705</td>\n",
       "    </tr>\n",
       "    <tr>\n",
       "      <th>58</th>\n",
       "      <td>937958.0</td>\n",
       "      <td>2.529412</td>\n",
       "      <td>164.588235</td>\n",
       "      <td>17.075163</td>\n",
       "      <td>1.60</td>\n",
       "      <td>9.800000</td>\n",
       "      <td>0.387464</td>\n",
       "    </tr>\n",
       "    <tr>\n",
       "      <th>...</th>\n",
       "      <td>...</td>\n",
       "      <td>...</td>\n",
       "      <td>...</td>\n",
       "      <td>...</td>\n",
       "      <td>...</td>\n",
       "      <td>...</td>\n",
       "      <td>...</td>\n",
       "    </tr>\n",
       "    <tr>\n",
       "      <th>40</th>\n",
       "      <td>937708.0</td>\n",
       "      <td>2.750000</td>\n",
       "      <td>287.500000</td>\n",
       "      <td>14.229167</td>\n",
       "      <td>0.00</td>\n",
       "      <td>0.000000</td>\n",
       "      <td>0.000000</td>\n",
       "    </tr>\n",
       "    <tr>\n",
       "      <th>43</th>\n",
       "      <td>937742.0</td>\n",
       "      <td>1.500000</td>\n",
       "      <td>87.000000</td>\n",
       "      <td>16.916667</td>\n",
       "      <td>0.00</td>\n",
       "      <td>0.000000</td>\n",
       "      <td>0.000000</td>\n",
       "    </tr>\n",
       "    <tr>\n",
       "      <th>47</th>\n",
       "      <td>937782.0</td>\n",
       "      <td>1.533333</td>\n",
       "      <td>78.400000</td>\n",
       "      <td>11.994444</td>\n",
       "      <td>0.00</td>\n",
       "      <td>0.000000</td>\n",
       "      <td>0.000000</td>\n",
       "    </tr>\n",
       "    <tr>\n",
       "      <th>48</th>\n",
       "      <td>937788.0</td>\n",
       "      <td>3.882353</td>\n",
       "      <td>257.470588</td>\n",
       "      <td>9.628151</td>\n",
       "      <td>0.00</td>\n",
       "      <td>0.000000</td>\n",
       "      <td>0.000000</td>\n",
       "    </tr>\n",
       "    <tr>\n",
       "      <th>78</th>\n",
       "      <td>951506.0</td>\n",
       "      <td>1.583333</td>\n",
       "      <td>101.333333</td>\n",
       "      <td>41.861111</td>\n",
       "      <td>0.00</td>\n",
       "      <td>0.000000</td>\n",
       "      <td>0.000000</td>\n",
       "    </tr>\n",
       "  </tbody>\n",
       "</table>\n",
       "<p>79 rows × 7 columns</p>\n",
       "</div>"
      ],
      "text/plain": [
       "    operator_id  calls_count  call_duration  waiting_time  missed_call  \\\n",
       "20     906412.0     1.461538      53.692308     14.269231         3.50   \n",
       "5      895574.0     1.594595     137.351351     15.027928         3.00   \n",
       "75     948286.0     4.181818     136.090909     16.642607         3.00   \n",
       "22     908960.0     3.882353     288.882353     24.135294         1.75   \n",
       "58     937958.0     2.529412     164.588235     17.075163         1.60   \n",
       "..          ...          ...            ...           ...          ...   \n",
       "40     937708.0     2.750000     287.500000     14.229167         0.00   \n",
       "43     937742.0     1.500000      87.000000     16.916667         0.00   \n",
       "47     937782.0     1.533333      78.400000     11.994444         0.00   \n",
       "48     937788.0     3.882353     257.470588      9.628151         0.00   \n",
       "78     951506.0     1.583333     101.333333     41.861111         0.00   \n",
       "\n",
       "    waiting_time_missed_call  prec_missed_call  \n",
       "20                 20.300000          0.705426  \n",
       "5                   7.666667          0.652941  \n",
       "75                  3.980000          0.417722  \n",
       "22                 28.812500          0.310705  \n",
       "58                  9.800000          0.387464  \n",
       "..                       ...               ...  \n",
       "40                  0.000000          0.000000  \n",
       "43                  0.000000          0.000000  \n",
       "47                  0.000000          0.000000  \n",
       "48                  0.000000          0.000000  \n",
       "78                  0.000000          0.000000  \n",
       "\n",
       "[79 rows x 7 columns]"
      ]
     },
     "execution_count": 55,
     "metadata": {},
     "output_type": "execute_result"
    }
   ],
   "source": [
    "# Объеденим эти данные\n",
    "operator_id_in_filter = pd.merge(operator_id_in_1, operator_id_in_2, on='operator_id', how='left').fillna(0)\n",
    "operator_id_in_filter['prec_missed_call'] = operator_id_in_filter['missed_call'] / (operator_id_in_filter['calls_count'] + operator_id_in_filter['missed_call'])\n",
    "operator_id_in_filter.sort_values(by='missed_call', ascending=False)"
   ]
  },
  {
   "cell_type": "markdown",
   "metadata": {},
   "source": []
  },
  {
   "cell_type": "code",
   "execution_count": null,
   "metadata": {},
   "outputs": [],
   "source": [
    "x0 = operator_id_in_filter.waiting_time\n",
    "x1 = operator_id_in_filter.waiting_time_missed_call\n",
    "\n",
    "\n",
    "fig = go.Figure()\n",
    "fig.add_trace(go.Histogram(x=x0))\n",
    "fig.add_trace(go.Histogram(x=x1))\n",
    "\n",
    "\n",
    "fig.update_layout(barmode='overlay')\n",
    "\n",
    "fig.update_traces(opacity=0.55)\n",
    "fig.show()"
   ]
  },
  {
   "attachments": {
    "image.png": {
     "image/png": "[encoded data removed]"
    }
   },
   "cell_type": "markdown",
   "metadata": {},
   "source": [
    "![image.png](attachment:image.png)"
   ]
  },
  {
   "cell_type": "markdown",
   "metadata": {},
   "source": [
    "Отбросив самых нетерпеливых, можно констатировать, что до 10 мин чаще всего клиенты могут терпеливо ждать."
   ]
  },
  {
   "cell_type": "code",
   "execution_count": null,
   "metadata": {},
   "outputs": [],
   "source": [
    "x0 = operator_id_in_filter.prec_missed_call\n",
    "fig = go.Figure()\n",
    "\n",
    "fig.add_trace(go.Histogram(x=x0))\n",
    "fig.update_layout(barmode='overlay')\n",
    "\n",
    "fig.update_traces(opacity=0.55)\n",
    "fig.show()"
   ]
  },
  {
   "attachments": {
    "image.png": {
     "image/png": "[encoded data removed]"
    }
   },
   "cell_type": "markdown",
   "metadata": {},
   "source": [
    "![image.png](attachment:image.png)"
   ]
  },
  {
   "cell_type": "markdown",
   "metadata": {},
   "source": [
    "Из графики следует, что до 5% пропущенных звонков это нормальный показатель, в который укладываются многие операторы. Все, что больше это уже предмет для серьезного разговора."
   ]
  },
  {
   "cell_type": "markdown",
   "metadata": {},
   "source": [
    "Теперь на примере операторов на тарифе С изучим данные операторов, которые специализируются на исходящих звонках.\n",
    "\n",
    "В этом случае нас будет интересовать количество исходящих звонков."
   ]
  },
  {
   "cell_type": "code",
   "execution_count": 58,
   "metadata": {},
   "outputs": [
    {
     "data": {
      "text/html": [
       "<div>\n",
       "<style scoped>\n",
       "    .dataframe tbody tr th:only-of-type {\n",
       "        vertical-align: middle;\n",
       "    }\n",
       "\n",
       "    .dataframe tbody tr th {\n",
       "        vertical-align: top;\n",
       "    }\n",
       "\n",
       "    .dataframe thead th {\n",
       "        text-align: right;\n",
       "    }\n",
       "</style>\n",
       "<table border=\"1\" class=\"dataframe\">\n",
       "  <thead>\n",
       "    <tr style=\"text-align: right;\">\n",
       "      <th></th>\n",
       "      <th>tariff_plan</th>\n",
       "      <th>user_id</th>\n",
       "      <th>direction</th>\n",
       "      <th>internal</th>\n",
       "      <th>is_missed_call</th>\n",
       "      <th>operator_id</th>\n",
       "      <th>date</th>\n",
       "      <th>calls_count</th>\n",
       "      <th>call_duration</th>\n",
       "      <th>total_call_duration</th>\n",
       "    </tr>\n",
       "  </thead>\n",
       "  <tbody>\n",
       "    <tr>\n",
       "      <th>24900</th>\n",
       "      <td>C</td>\n",
       "      <td>166487</td>\n",
       "      <td>out</td>\n",
       "      <td>False</td>\n",
       "      <td>False</td>\n",
       "      <td>959312.0</td>\n",
       "      <td>2019-11-12</td>\n",
       "      <td>1</td>\n",
       "      <td>6</td>\n",
       "      <td>19</td>\n",
       "    </tr>\n",
       "    <tr>\n",
       "      <th>24901</th>\n",
       "      <td>C</td>\n",
       "      <td>166487</td>\n",
       "      <td>out</td>\n",
       "      <td>False</td>\n",
       "      <td>False</td>\n",
       "      <td>959312.0</td>\n",
       "      <td>2019-11-18</td>\n",
       "      <td>2</td>\n",
       "      <td>286</td>\n",
       "      <td>317</td>\n",
       "    </tr>\n",
       "    <tr>\n",
       "      <th>24903</th>\n",
       "      <td>C</td>\n",
       "      <td>166487</td>\n",
       "      <td>out</td>\n",
       "      <td>False</td>\n",
       "      <td>False</td>\n",
       "      <td>959312.0</td>\n",
       "      <td>2019-11-20</td>\n",
       "      <td>6</td>\n",
       "      <td>320</td>\n",
       "      <td>402</td>\n",
       "    </tr>\n",
       "    <tr>\n",
       "      <th>24904</th>\n",
       "      <td>C</td>\n",
       "      <td>166487</td>\n",
       "      <td>out</td>\n",
       "      <td>False</td>\n",
       "      <td>False</td>\n",
       "      <td>959312.0</td>\n",
       "      <td>2019-11-21</td>\n",
       "      <td>6</td>\n",
       "      <td>335</td>\n",
       "      <td>411</td>\n",
       "    </tr>\n",
       "    <tr>\n",
       "      <th>24905</th>\n",
       "      <td>C</td>\n",
       "      <td>166487</td>\n",
       "      <td>out</td>\n",
       "      <td>False</td>\n",
       "      <td>False</td>\n",
       "      <td>959312.0</td>\n",
       "      <td>2019-11-22</td>\n",
       "      <td>13</td>\n",
       "      <td>424</td>\n",
       "      <td>493</td>\n",
       "    </tr>\n",
       "    <tr>\n",
       "      <th>...</th>\n",
       "      <td>...</td>\n",
       "      <td>...</td>\n",
       "      <td>...</td>\n",
       "      <td>...</td>\n",
       "      <td>...</td>\n",
       "      <td>...</td>\n",
       "      <td>...</td>\n",
       "      <td>...</td>\n",
       "      <td>...</td>\n",
       "      <td>...</td>\n",
       "    </tr>\n",
       "    <tr>\n",
       "      <th>40213</th>\n",
       "      <td>C</td>\n",
       "      <td>168601</td>\n",
       "      <td>out</td>\n",
       "      <td>False</td>\n",
       "      <td>True</td>\n",
       "      <td>952914.0</td>\n",
       "      <td>2019-11-27</td>\n",
       "      <td>2</td>\n",
       "      <td>0</td>\n",
       "      <td>14</td>\n",
       "    </tr>\n",
       "    <tr>\n",
       "      <th>40214</th>\n",
       "      <td>C</td>\n",
       "      <td>168601</td>\n",
       "      <td>out</td>\n",
       "      <td>False</td>\n",
       "      <td>True</td>\n",
       "      <td>952914.0</td>\n",
       "      <td>2019-11-28</td>\n",
       "      <td>2</td>\n",
       "      <td>0</td>\n",
       "      <td>67</td>\n",
       "    </tr>\n",
       "    <tr>\n",
       "      <th>40215</th>\n",
       "      <td>C</td>\n",
       "      <td>168601</td>\n",
       "      <td>out</td>\n",
       "      <td>False</td>\n",
       "      <td>True</td>\n",
       "      <td>952916.0</td>\n",
       "      <td>2019-11-12</td>\n",
       "      <td>1</td>\n",
       "      <td>0</td>\n",
       "      <td>44</td>\n",
       "    </tr>\n",
       "    <tr>\n",
       "      <th>40221</th>\n",
       "      <td>C</td>\n",
       "      <td>168606</td>\n",
       "      <td>out</td>\n",
       "      <td>False</td>\n",
       "      <td>False</td>\n",
       "      <td>957922.0</td>\n",
       "      <td>2019-11-08</td>\n",
       "      <td>2</td>\n",
       "      <td>255</td>\n",
       "      <td>328</td>\n",
       "    </tr>\n",
       "    <tr>\n",
       "      <th>40223</th>\n",
       "      <td>C</td>\n",
       "      <td>168606</td>\n",
       "      <td>out</td>\n",
       "      <td>False</td>\n",
       "      <td>True</td>\n",
       "      <td>957922.0</td>\n",
       "      <td>2019-11-08</td>\n",
       "      <td>2</td>\n",
       "      <td>0</td>\n",
       "      <td>40</td>\n",
       "    </tr>\n",
       "  </tbody>\n",
       "</table>\n",
       "<p>4593 rows × 10 columns</p>\n",
       "</div>"
      ],
      "text/plain": [
       "      tariff_plan  user_id direction  internal  is_missed_call  operator_id  \\\n",
       "24900           C   166487       out     False           False     959312.0   \n",
       "24901           C   166487       out     False           False     959312.0   \n",
       "24903           C   166487       out     False           False     959312.0   \n",
       "24904           C   166487       out     False           False     959312.0   \n",
       "24905           C   166487       out     False           False     959312.0   \n",
       "...           ...      ...       ...       ...             ...          ...   \n",
       "40213           C   168601       out     False            True     952914.0   \n",
       "40214           C   168601       out     False            True     952914.0   \n",
       "40215           C   168601       out     False            True     952916.0   \n",
       "40221           C   168606       out     False           False     957922.0   \n",
       "40223           C   168606       out     False            True     957922.0   \n",
       "\n",
       "             date  calls_count  call_duration  total_call_duration  \n",
       "24900  2019-11-12            1              6                   19  \n",
       "24901  2019-11-18            2            286                  317  \n",
       "24903  2019-11-20            6            320                  402  \n",
       "24904  2019-11-21            6            335                  411  \n",
       "24905  2019-11-22           13            424                  493  \n",
       "...           ...          ...            ...                  ...  \n",
       "40213  2019-11-27            2              0                   14  \n",
       "40214  2019-11-28            2              0                   67  \n",
       "40215  2019-11-12            1              0                   44  \n",
       "40221  2019-11-08            2            255                  328  \n",
       "40223  2019-11-08            2              0                   40  \n",
       "\n",
       "[4593 rows x 10 columns]"
      ]
     },
     "execution_count": 58,
     "metadata": {},
     "output_type": "execute_result"
    }
   ],
   "source": [
    "# Оставляем только тариф C, исходящие звонки, исключаем внутренние звонки, удаляем неизвестных операторов\n",
    "user_id_out = telecom_dataset_clients_agg[\n",
    "    (telecom_dataset_clients_agg['operator_id']!=-1)&\n",
    "    (telecom_dataset_clients_agg['tariff_plan']=='C')&\n",
    "    (telecom_dataset_clients_agg['direction']=='out')&\n",
    "    (telecom_dataset_clients_agg['internal']==False)\n",
    "]\n",
    "user_id_out "
   ]
  },
  {
   "cell_type": "code",
   "execution_count": 59,
   "metadata": {},
   "outputs": [
    {
     "data": {
      "text/html": [
       "<div>\n",
       "<style scoped>\n",
       "    .dataframe tbody tr th:only-of-type {\n",
       "        vertical-align: middle;\n",
       "    }\n",
       "\n",
       "    .dataframe tbody tr th {\n",
       "        vertical-align: top;\n",
       "    }\n",
       "\n",
       "    .dataframe thead th {\n",
       "        text-align: right;\n",
       "    }\n",
       "</style>\n",
       "<table border=\"1\" class=\"dataframe\">\n",
       "  <thead>\n",
       "    <tr style=\"text-align: right;\">\n",
       "      <th></th>\n",
       "      <th>user_id</th>\n",
       "      <th>operator_id</th>\n",
       "      <th>date</th>\n",
       "      <th>is_missed_call</th>\n",
       "      <th>calls_count</th>\n",
       "      <th>call_duration</th>\n",
       "      <th>total_call_duration</th>\n",
       "    </tr>\n",
       "  </thead>\n",
       "  <tbody>\n",
       "    <tr>\n",
       "      <th>24900</th>\n",
       "      <td>166487</td>\n",
       "      <td>959312.0</td>\n",
       "      <td>2019-11-12</td>\n",
       "      <td>False</td>\n",
       "      <td>1</td>\n",
       "      <td>6</td>\n",
       "      <td>19</td>\n",
       "    </tr>\n",
       "    <tr>\n",
       "      <th>24901</th>\n",
       "      <td>166487</td>\n",
       "      <td>959312.0</td>\n",
       "      <td>2019-11-18</td>\n",
       "      <td>False</td>\n",
       "      <td>2</td>\n",
       "      <td>286</td>\n",
       "      <td>317</td>\n",
       "    </tr>\n",
       "    <tr>\n",
       "      <th>24903</th>\n",
       "      <td>166487</td>\n",
       "      <td>959312.0</td>\n",
       "      <td>2019-11-20</td>\n",
       "      <td>False</td>\n",
       "      <td>6</td>\n",
       "      <td>320</td>\n",
       "      <td>402</td>\n",
       "    </tr>\n",
       "    <tr>\n",
       "      <th>24904</th>\n",
       "      <td>166487</td>\n",
       "      <td>959312.0</td>\n",
       "      <td>2019-11-21</td>\n",
       "      <td>False</td>\n",
       "      <td>6</td>\n",
       "      <td>335</td>\n",
       "      <td>411</td>\n",
       "    </tr>\n",
       "    <tr>\n",
       "      <th>24905</th>\n",
       "      <td>166487</td>\n",
       "      <td>959312.0</td>\n",
       "      <td>2019-11-22</td>\n",
       "      <td>False</td>\n",
       "      <td>13</td>\n",
       "      <td>424</td>\n",
       "      <td>493</td>\n",
       "    </tr>\n",
       "    <tr>\n",
       "      <th>...</th>\n",
       "      <td>...</td>\n",
       "      <td>...</td>\n",
       "      <td>...</td>\n",
       "      <td>...</td>\n",
       "      <td>...</td>\n",
       "      <td>...</td>\n",
       "      <td>...</td>\n",
       "    </tr>\n",
       "    <tr>\n",
       "      <th>40213</th>\n",
       "      <td>168601</td>\n",
       "      <td>952914.0</td>\n",
       "      <td>2019-11-27</td>\n",
       "      <td>True</td>\n",
       "      <td>2</td>\n",
       "      <td>0</td>\n",
       "      <td>14</td>\n",
       "    </tr>\n",
       "    <tr>\n",
       "      <th>40214</th>\n",
       "      <td>168601</td>\n",
       "      <td>952914.0</td>\n",
       "      <td>2019-11-28</td>\n",
       "      <td>True</td>\n",
       "      <td>2</td>\n",
       "      <td>0</td>\n",
       "      <td>67</td>\n",
       "    </tr>\n",
       "    <tr>\n",
       "      <th>40215</th>\n",
       "      <td>168601</td>\n",
       "      <td>952916.0</td>\n",
       "      <td>2019-11-12</td>\n",
       "      <td>True</td>\n",
       "      <td>1</td>\n",
       "      <td>0</td>\n",
       "      <td>44</td>\n",
       "    </tr>\n",
       "    <tr>\n",
       "      <th>40221</th>\n",
       "      <td>168606</td>\n",
       "      <td>957922.0</td>\n",
       "      <td>2019-11-08</td>\n",
       "      <td>False</td>\n",
       "      <td>2</td>\n",
       "      <td>255</td>\n",
       "      <td>328</td>\n",
       "    </tr>\n",
       "    <tr>\n",
       "      <th>40223</th>\n",
       "      <td>168606</td>\n",
       "      <td>957922.0</td>\n",
       "      <td>2019-11-08</td>\n",
       "      <td>True</td>\n",
       "      <td>2</td>\n",
       "      <td>0</td>\n",
       "      <td>40</td>\n",
       "    </tr>\n",
       "  </tbody>\n",
       "</table>\n",
       "<p>4593 rows × 7 columns</p>\n",
       "</div>"
      ],
      "text/plain": [
       "       user_id  operator_id        date  is_missed_call  calls_count  \\\n",
       "24900   166487     959312.0  2019-11-12           False            1   \n",
       "24901   166487     959312.0  2019-11-18           False            2   \n",
       "24903   166487     959312.0  2019-11-20           False            6   \n",
       "24904   166487     959312.0  2019-11-21           False            6   \n",
       "24905   166487     959312.0  2019-11-22           False           13   \n",
       "...        ...          ...         ...             ...          ...   \n",
       "40213   168601     952914.0  2019-11-27            True            2   \n",
       "40214   168601     952914.0  2019-11-28            True            2   \n",
       "40215   168601     952916.0  2019-11-12            True            1   \n",
       "40221   168606     957922.0  2019-11-08           False            2   \n",
       "40223   168606     957922.0  2019-11-08            True            2   \n",
       "\n",
       "       call_duration  total_call_duration  \n",
       "24900              6                   19  \n",
       "24901            286                  317  \n",
       "24903            320                  402  \n",
       "24904            335                  411  \n",
       "24905            424                  493  \n",
       "...              ...                  ...  \n",
       "40213              0                   14  \n",
       "40214              0                   67  \n",
       "40215              0                   44  \n",
       "40221            255                  328  \n",
       "40223              0                   40  \n",
       "\n",
       "[4593 rows x 7 columns]"
      ]
     },
     "execution_count": 59,
     "metadata": {},
     "output_type": "execute_result"
    }
   ],
   "source": [
    "user_id_out = user_id_out[\n",
    "    [\n",
    "        'user_id',\n",
    "        'operator_id',\n",
    "        'date',\n",
    "        'is_missed_call',\n",
    "        'calls_count',\n",
    "        'call_duration',\n",
    "        'total_call_duration'\n",
    "    ]\n",
    "]\n",
    "user_id_out"
   ]
  },
  {
   "cell_type": "code",
   "execution_count": 60,
   "metadata": {},
   "outputs": [
    {
     "data": {
      "text/html": [
       "<div>\n",
       "<style scoped>\n",
       "    .dataframe tbody tr th:only-of-type {\n",
       "        vertical-align: middle;\n",
       "    }\n",
       "\n",
       "    .dataframe tbody tr th {\n",
       "        vertical-align: top;\n",
       "    }\n",
       "\n",
       "    .dataframe thead th {\n",
       "        text-align: right;\n",
       "    }\n",
       "</style>\n",
       "<table border=\"1\" class=\"dataframe\">\n",
       "  <thead>\n",
       "    <tr style=\"text-align: right;\">\n",
       "      <th></th>\n",
       "      <th>operator_id</th>\n",
       "      <th>is_missed_call</th>\n",
       "      <th>date</th>\n",
       "      <th>calls_count</th>\n",
       "      <th>call_duration</th>\n",
       "      <th>total_call_duration</th>\n",
       "    </tr>\n",
       "  </thead>\n",
       "  <tbody>\n",
       "    <tr>\n",
       "      <th>0</th>\n",
       "      <td>883018.0</td>\n",
       "      <td>True</td>\n",
       "      <td>1</td>\n",
       "      <td>2.000000</td>\n",
       "      <td>0.0</td>\n",
       "      <td>15.000000</td>\n",
       "    </tr>\n",
       "    <tr>\n",
       "      <th>1</th>\n",
       "      <td>883898.0</td>\n",
       "      <td>False</td>\n",
       "      <td>1</td>\n",
       "      <td>1.000000</td>\n",
       "      <td>70.0</td>\n",
       "      <td>80.000000</td>\n",
       "    </tr>\n",
       "    <tr>\n",
       "      <th>2</th>\n",
       "      <td>884946.0</td>\n",
       "      <td>False</td>\n",
       "      <td>15</td>\n",
       "      <td>3.266667</td>\n",
       "      <td>118.4</td>\n",
       "      <td>171.666667</td>\n",
       "    </tr>\n",
       "    <tr>\n",
       "      <th>3</th>\n",
       "      <td>884946.0</td>\n",
       "      <td>True</td>\n",
       "      <td>17</td>\n",
       "      <td>5.411765</td>\n",
       "      <td>0.0</td>\n",
       "      <td>150.058824</td>\n",
       "    </tr>\n",
       "    <tr>\n",
       "      <th>4</th>\n",
       "      <td>885682.0</td>\n",
       "      <td>True</td>\n",
       "      <td>3</td>\n",
       "      <td>1.000000</td>\n",
       "      <td>0.0</td>\n",
       "      <td>17.000000</td>\n",
       "    </tr>\n",
       "    <tr>\n",
       "      <th>...</th>\n",
       "      <td>...</td>\n",
       "      <td>...</td>\n",
       "      <td>...</td>\n",
       "      <td>...</td>\n",
       "      <td>...</td>\n",
       "      <td>...</td>\n",
       "    </tr>\n",
       "    <tr>\n",
       "      <th>428</th>\n",
       "      <td>969386.0</td>\n",
       "      <td>True</td>\n",
       "      <td>3</td>\n",
       "      <td>7.333333</td>\n",
       "      <td>0.0</td>\n",
       "      <td>121.666667</td>\n",
       "    </tr>\n",
       "    <tr>\n",
       "      <th>429</th>\n",
       "      <td>972460.0</td>\n",
       "      <td>False</td>\n",
       "      <td>1</td>\n",
       "      <td>3.000000</td>\n",
       "      <td>109.0</td>\n",
       "      <td>177.000000</td>\n",
       "    </tr>\n",
       "    <tr>\n",
       "      <th>430</th>\n",
       "      <td>972460.0</td>\n",
       "      <td>True</td>\n",
       "      <td>2</td>\n",
       "      <td>13.000000</td>\n",
       "      <td>0.0</td>\n",
       "      <td>173.000000</td>\n",
       "    </tr>\n",
       "    <tr>\n",
       "      <th>431</th>\n",
       "      <td>973120.0</td>\n",
       "      <td>False</td>\n",
       "      <td>1</td>\n",
       "      <td>1.000000</td>\n",
       "      <td>5.0</td>\n",
       "      <td>24.000000</td>\n",
       "    </tr>\n",
       "    <tr>\n",
       "      <th>432</th>\n",
       "      <td>973120.0</td>\n",
       "      <td>True</td>\n",
       "      <td>1</td>\n",
       "      <td>2.000000</td>\n",
       "      <td>0.0</td>\n",
       "      <td>1.000000</td>\n",
       "    </tr>\n",
       "  </tbody>\n",
       "</table>\n",
       "<p>433 rows × 6 columns</p>\n",
       "</div>"
      ],
      "text/plain": [
       "     operator_id  is_missed_call  date  calls_count  call_duration  \\\n",
       "0       883018.0            True     1     2.000000            0.0   \n",
       "1       883898.0           False     1     1.000000           70.0   \n",
       "2       884946.0           False    15     3.266667          118.4   \n",
       "3       884946.0            True    17     5.411765            0.0   \n",
       "4       885682.0            True     3     1.000000            0.0   \n",
       "..           ...             ...   ...          ...            ...   \n",
       "428     969386.0            True     3     7.333333            0.0   \n",
       "429     972460.0           False     1     3.000000          109.0   \n",
       "430     972460.0            True     2    13.000000            0.0   \n",
       "431     973120.0           False     1     1.000000            5.0   \n",
       "432     973120.0            True     1     2.000000            0.0   \n",
       "\n",
       "     total_call_duration  \n",
       "0              15.000000  \n",
       "1              80.000000  \n",
       "2             171.666667  \n",
       "3             150.058824  \n",
       "4              17.000000  \n",
       "..                   ...  \n",
       "428           121.666667  \n",
       "429           177.000000  \n",
       "430           173.000000  \n",
       "431            24.000000  \n",
       "432             1.000000  \n",
       "\n",
       "[433 rows x 6 columns]"
      ]
     },
     "execution_count": 60,
     "metadata": {},
     "output_type": "execute_result"
    }
   ],
   "source": [
    "# аггрегируем данные\n",
    "user_id_out = user_id_out.groupby(['operator_id', 'is_missed_call']).agg(\n",
    "    {\n",
    "        'date': 'count',\n",
    "        'calls_count': 'mean',\n",
    "        'call_duration': 'mean',\n",
    "        'total_call_duration': 'mean'\n",
    "    }\n",
    ").reset_index()\n",
    "user_id_out"
   ]
  },
  {
   "cell_type": "code",
   "execution_count": 61,
   "metadata": {},
   "outputs": [
    {
     "data": {
      "text/html": [
       "<div>\n",
       "<style scoped>\n",
       "    .dataframe tbody tr th:only-of-type {\n",
       "        vertical-align: middle;\n",
       "    }\n",
       "\n",
       "    .dataframe tbody tr th {\n",
       "        vertical-align: top;\n",
       "    }\n",
       "\n",
       "    .dataframe thead th {\n",
       "        text-align: right;\n",
       "    }\n",
       "</style>\n",
       "<table border=\"1\" class=\"dataframe\">\n",
       "  <thead>\n",
       "    <tr style=\"text-align: right;\">\n",
       "      <th></th>\n",
       "      <th>operator_id</th>\n",
       "      <th>calls_count</th>\n",
       "      <th>call_duration</th>\n",
       "      <th>total_call_duration</th>\n",
       "    </tr>\n",
       "  </thead>\n",
       "  <tbody>\n",
       "    <tr>\n",
       "      <th>2</th>\n",
       "      <td>884946.0</td>\n",
       "      <td>3.266667</td>\n",
       "      <td>118.400000</td>\n",
       "      <td>171.666667</td>\n",
       "    </tr>\n",
       "    <tr>\n",
       "      <th>7</th>\n",
       "      <td>889410.0</td>\n",
       "      <td>5.638298</td>\n",
       "      <td>230.085106</td>\n",
       "      <td>311.340426</td>\n",
       "    </tr>\n",
       "    <tr>\n",
       "      <th>10</th>\n",
       "      <td>890228.0</td>\n",
       "      <td>1.611111</td>\n",
       "      <td>117.444444</td>\n",
       "      <td>140.888889</td>\n",
       "    </tr>\n",
       "    <tr>\n",
       "      <th>14</th>\n",
       "      <td>890582.0</td>\n",
       "      <td>1.909091</td>\n",
       "      <td>92.363636</td>\n",
       "      <td>112.636364</td>\n",
       "    </tr>\n",
       "    <tr>\n",
       "      <th>16</th>\n",
       "      <td>890618.0</td>\n",
       "      <td>3.000000</td>\n",
       "      <td>182.727273</td>\n",
       "      <td>234.090909</td>\n",
       "    </tr>\n",
       "    <tr>\n",
       "      <th>...</th>\n",
       "      <td>...</td>\n",
       "      <td>...</td>\n",
       "      <td>...</td>\n",
       "      <td>...</td>\n",
       "    </tr>\n",
       "    <tr>\n",
       "      <th>296</th>\n",
       "      <td>935216.0</td>\n",
       "      <td>1.500000</td>\n",
       "      <td>187.375000</td>\n",
       "      <td>198.375000</td>\n",
       "    </tr>\n",
       "    <tr>\n",
       "      <th>316</th>\n",
       "      <td>939738.0</td>\n",
       "      <td>3.111111</td>\n",
       "      <td>269.000000</td>\n",
       "      <td>312.777778</td>\n",
       "    </tr>\n",
       "    <tr>\n",
       "      <th>332</th>\n",
       "      <td>944644.0</td>\n",
       "      <td>3.900000</td>\n",
       "      <td>218.400000</td>\n",
       "      <td>268.200000</td>\n",
       "    </tr>\n",
       "    <tr>\n",
       "      <th>346</th>\n",
       "      <td>948182.0</td>\n",
       "      <td>4.000000</td>\n",
       "      <td>243.625000</td>\n",
       "      <td>302.625000</td>\n",
       "    </tr>\n",
       "    <tr>\n",
       "      <th>387</th>\n",
       "      <td>955032.0</td>\n",
       "      <td>1.888889</td>\n",
       "      <td>62.111111</td>\n",
       "      <td>96.333333</td>\n",
       "    </tr>\n",
       "  </tbody>\n",
       "</table>\n",
       "<p>61 rows × 4 columns</p>\n",
       "</div>"
      ],
      "text/plain": [
       "     operator_id  calls_count  call_duration  total_call_duration\n",
       "2       884946.0     3.266667     118.400000           171.666667\n",
       "7       889410.0     5.638298     230.085106           311.340426\n",
       "10      890228.0     1.611111     117.444444           140.888889\n",
       "14      890582.0     1.909091      92.363636           112.636364\n",
       "16      890618.0     3.000000     182.727273           234.090909\n",
       "..           ...          ...            ...                  ...\n",
       "296     935216.0     1.500000     187.375000           198.375000\n",
       "316     939738.0     3.111111     269.000000           312.777778\n",
       "332     944644.0     3.900000     218.400000           268.200000\n",
       "346     948182.0     4.000000     243.625000           302.625000\n",
       "387     955032.0     1.888889      62.111111            96.333333\n",
       "\n",
       "[61 rows x 4 columns]"
      ]
     },
     "execution_count": 61,
     "metadata": {},
     "output_type": "execute_result"
    }
   ],
   "source": [
    "# операторы, которые более 7 дней совершали хотя бы один звонок \n",
    "user_id_out_1 = user_id_out[\n",
    "    (user_id_out['date'] > 7)&\n",
    "    (user_id_out['is_missed_call'] == False)\n",
    "][\n",
    "    [\n",
    "        'operator_id',\n",
    "        'calls_count',\n",
    "        'call_duration',\n",
    "        'total_call_duration'\n",
    "    ]\n",
    "]\n",
    "user_id_out_1"
   ]
  },
  {
   "cell_type": "code",
   "execution_count": null,
   "metadata": {},
   "outputs": [],
   "source": [
    "x0 = user_id_out_1.calls_count\n",
    "\n",
    "\n",
    "fig = go.Figure()\n",
    "\n",
    "fig.add_trace(go.Histogram(x=x0))\n",
    "\n",
    "fig.update_layout(barmode='overlay')\n",
    "\n",
    "fig.update_traces(opacity=0.55)\n",
    "fig.show()"
   ]
  },
  {
   "attachments": {
    "image.png": {
     "image/png": "[encoded data removed]"
    }
   },
   "cell_type": "markdown",
   "metadata": {},
   "source": [
    "![image.png](attachment:image.png)"
   ]
  },
  {
   "cell_type": "code",
   "execution_count": null,
   "metadata": {},
   "outputs": [],
   "source": [
    "x0 = user_id_out_1.total_call_duration\n",
    "x1 = user_id_out_1.call_duration\n",
    "\n",
    "fig = go.Figure()\n",
    "\n",
    "fig.add_trace(go.Histogram(x=x0))\n",
    "fig.add_trace(go.Histogram(x=x1))\n",
    "fig.update_layout(barmode='overlay')\n",
    "\n",
    "fig.update_traces(opacity=0.55)\n",
    "fig.show()"
   ]
  },
  {
   "attachments": {
    "image.png": {
     "image/png": "[encoded data removed]"
    }
   },
   "cell_type": "markdown",
   "metadata": {},
   "source": [
    "![image.png](attachment:image.png)"
   ]
  },
  {
   "cell_type": "code",
   "execution_count": 64,
   "metadata": {},
   "outputs": [
    {
     "data": {
      "text/html": [
       "<div>\n",
       "<style scoped>\n",
       "    .dataframe tbody tr th:only-of-type {\n",
       "        vertical-align: middle;\n",
       "    }\n",
       "\n",
       "    .dataframe tbody tr th {\n",
       "        vertical-align: top;\n",
       "    }\n",
       "\n",
       "    .dataframe thead th {\n",
       "        text-align: right;\n",
       "    }\n",
       "</style>\n",
       "<table border=\"1\" class=\"dataframe\">\n",
       "  <thead>\n",
       "    <tr style=\"text-align: right;\">\n",
       "      <th></th>\n",
       "      <th>operator_id</th>\n",
       "      <th>calls_count</th>\n",
       "    </tr>\n",
       "  </thead>\n",
       "  <tbody>\n",
       "    <tr>\n",
       "      <th>0</th>\n",
       "      <td>883018.0</td>\n",
       "      <td>2.000000</td>\n",
       "    </tr>\n",
       "    <tr>\n",
       "      <th>3</th>\n",
       "      <td>884946.0</td>\n",
       "      <td>5.411765</td>\n",
       "    </tr>\n",
       "    <tr>\n",
       "      <th>4</th>\n",
       "      <td>885682.0</td>\n",
       "      <td>1.000000</td>\n",
       "    </tr>\n",
       "    <tr>\n",
       "      <th>6</th>\n",
       "      <td>888406.0</td>\n",
       "      <td>1.000000</td>\n",
       "    </tr>\n",
       "    <tr>\n",
       "      <th>8</th>\n",
       "      <td>889410.0</td>\n",
       "      <td>3.315789</td>\n",
       "    </tr>\n",
       "    <tr>\n",
       "      <th>...</th>\n",
       "      <td>...</td>\n",
       "      <td>...</td>\n",
       "    </tr>\n",
       "    <tr>\n",
       "      <th>424</th>\n",
       "      <td>969288.0</td>\n",
       "      <td>2.000000</td>\n",
       "    </tr>\n",
       "    <tr>\n",
       "      <th>426</th>\n",
       "      <td>969294.0</td>\n",
       "      <td>2.500000</td>\n",
       "    </tr>\n",
       "    <tr>\n",
       "      <th>428</th>\n",
       "      <td>969386.0</td>\n",
       "      <td>7.333333</td>\n",
       "    </tr>\n",
       "    <tr>\n",
       "      <th>430</th>\n",
       "      <td>972460.0</td>\n",
       "      <td>13.000000</td>\n",
       "    </tr>\n",
       "    <tr>\n",
       "      <th>432</th>\n",
       "      <td>973120.0</td>\n",
       "      <td>2.000000</td>\n",
       "    </tr>\n",
       "  </tbody>\n",
       "</table>\n",
       "<p>226 rows × 2 columns</p>\n",
       "</div>"
      ],
      "text/plain": [
       "     operator_id  calls_count\n",
       "0       883018.0     2.000000\n",
       "3       884946.0     5.411765\n",
       "4       885682.0     1.000000\n",
       "6       888406.0     1.000000\n",
       "8       889410.0     3.315789\n",
       "..           ...          ...\n",
       "424     969288.0     2.000000\n",
       "426     969294.0     2.500000\n",
       "428     969386.0     7.333333\n",
       "430     972460.0    13.000000\n",
       "432     973120.0     2.000000\n",
       "\n",
       "[226 rows x 2 columns]"
      ]
     },
     "execution_count": 64,
     "metadata": {},
     "output_type": "execute_result"
    }
   ],
   "source": [
    "# соберем информацию по количеству недозвонов\n",
    "user_id_out_2 = user_id_out[user_id_out['is_missed_call'] == True][['operator_id','calls_count']]\n",
    "user_id_out_2"
   ]
  },
  {
   "cell_type": "code",
   "execution_count": 65,
   "metadata": {},
   "outputs": [
    {
     "data": {
      "text/html": [
       "<div>\n",
       "<style scoped>\n",
       "    .dataframe tbody tr th:only-of-type {\n",
       "        vertical-align: middle;\n",
       "    }\n",
       "\n",
       "    .dataframe tbody tr th {\n",
       "        vertical-align: top;\n",
       "    }\n",
       "\n",
       "    .dataframe thead th {\n",
       "        text-align: right;\n",
       "    }\n",
       "</style>\n",
       "<table border=\"1\" class=\"dataframe\">\n",
       "  <thead>\n",
       "    <tr style=\"text-align: right;\">\n",
       "      <th></th>\n",
       "      <th>operator_id</th>\n",
       "      <th>calls_count_x</th>\n",
       "      <th>call_duration</th>\n",
       "      <th>total_call_duration</th>\n",
       "      <th>calls_count_y</th>\n",
       "      <th>calls_count_total</th>\n",
       "    </tr>\n",
       "  </thead>\n",
       "  <tbody>\n",
       "    <tr>\n",
       "      <th>50</th>\n",
       "      <td>921818.0</td>\n",
       "      <td>9.600000</td>\n",
       "      <td>238.600000</td>\n",
       "      <td>384.000000</td>\n",
       "      <td>9.525424</td>\n",
       "      <td>19.125424</td>\n",
       "    </tr>\n",
       "    <tr>\n",
       "      <th>9</th>\n",
       "      <td>893674.0</td>\n",
       "      <td>4.750000</td>\n",
       "      <td>154.125000</td>\n",
       "      <td>233.375000</td>\n",
       "      <td>12.571429</td>\n",
       "      <td>17.321429</td>\n",
       "    </tr>\n",
       "    <tr>\n",
       "      <th>13</th>\n",
       "      <td>899082.0</td>\n",
       "      <td>7.411765</td>\n",
       "      <td>212.294118</td>\n",
       "      <td>322.470588</td>\n",
       "      <td>6.927536</td>\n",
       "      <td>14.339301</td>\n",
       "    </tr>\n",
       "    <tr>\n",
       "      <th>15</th>\n",
       "      <td>900180.0</td>\n",
       "      <td>2.625000</td>\n",
       "      <td>189.375000</td>\n",
       "      <td>216.750000</td>\n",
       "      <td>11.625000</td>\n",
       "      <td>14.250000</td>\n",
       "    </tr>\n",
       "    <tr>\n",
       "      <th>10</th>\n",
       "      <td>893804.0</td>\n",
       "      <td>2.777778</td>\n",
       "      <td>147.500000</td>\n",
       "      <td>188.500000</td>\n",
       "      <td>11.135593</td>\n",
       "      <td>13.913371</td>\n",
       "    </tr>\n",
       "    <tr>\n",
       "      <th>...</th>\n",
       "      <td>...</td>\n",
       "      <td>...</td>\n",
       "      <td>...</td>\n",
       "      <td>...</td>\n",
       "      <td>...</td>\n",
       "      <td>...</td>\n",
       "    </tr>\n",
       "    <tr>\n",
       "      <th>56</th>\n",
       "      <td>935216.0</td>\n",
       "      <td>1.500000</td>\n",
       "      <td>187.375000</td>\n",
       "      <td>198.375000</td>\n",
       "      <td>2.000000</td>\n",
       "      <td>3.500000</td>\n",
       "    </tr>\n",
       "    <tr>\n",
       "      <th>11</th>\n",
       "      <td>897872.0</td>\n",
       "      <td>1.428571</td>\n",
       "      <td>177.214286</td>\n",
       "      <td>187.785714</td>\n",
       "      <td>2.000000</td>\n",
       "      <td>3.428571</td>\n",
       "    </tr>\n",
       "    <tr>\n",
       "      <th>53</th>\n",
       "      <td>924546.0</td>\n",
       "      <td>2.357143</td>\n",
       "      <td>172.571429</td>\n",
       "      <td>191.214286</td>\n",
       "      <td>1.000000</td>\n",
       "      <td>3.357143</td>\n",
       "    </tr>\n",
       "    <tr>\n",
       "      <th>7</th>\n",
       "      <td>893402.0</td>\n",
       "      <td>1.304348</td>\n",
       "      <td>85.260870</td>\n",
       "      <td>101.260870</td>\n",
       "      <td>1.750000</td>\n",
       "      <td>3.054348</td>\n",
       "    </tr>\n",
       "    <tr>\n",
       "      <th>8</th>\n",
       "      <td>893420.0</td>\n",
       "      <td>1.700000</td>\n",
       "      <td>99.300000</td>\n",
       "      <td>123.300000</td>\n",
       "      <td>1.100000</td>\n",
       "      <td>2.800000</td>\n",
       "    </tr>\n",
       "  </tbody>\n",
       "</table>\n",
       "<p>61 rows × 6 columns</p>\n",
       "</div>"
      ],
      "text/plain": [
       "    operator_id  calls_count_x  call_duration  total_call_duration  \\\n",
       "50     921818.0       9.600000     238.600000           384.000000   \n",
       "9      893674.0       4.750000     154.125000           233.375000   \n",
       "13     899082.0       7.411765     212.294118           322.470588   \n",
       "15     900180.0       2.625000     189.375000           216.750000   \n",
       "10     893804.0       2.777778     147.500000           188.500000   \n",
       "..          ...            ...            ...                  ...   \n",
       "56     935216.0       1.500000     187.375000           198.375000   \n",
       "11     897872.0       1.428571     177.214286           187.785714   \n",
       "53     924546.0       2.357143     172.571429           191.214286   \n",
       "7      893402.0       1.304348      85.260870           101.260870   \n",
       "8      893420.0       1.700000      99.300000           123.300000   \n",
       "\n",
       "    calls_count_y  calls_count_total  \n",
       "50       9.525424          19.125424  \n",
       "9       12.571429          17.321429  \n",
       "13       6.927536          14.339301  \n",
       "15      11.625000          14.250000  \n",
       "10      11.135593          13.913371  \n",
       "..            ...                ...  \n",
       "56       2.000000           3.500000  \n",
       "11       2.000000           3.428571  \n",
       "53       1.000000           3.357143  \n",
       "7        1.750000           3.054348  \n",
       "8        1.100000           2.800000  \n",
       "\n",
       "[61 rows x 6 columns]"
      ]
     },
     "execution_count": 65,
     "metadata": {},
     "output_type": "execute_result"
    }
   ],
   "source": [
    "# Объеденим эти данные\n",
    "operator_id_out_filter = pd.merge(user_id_out_1, user_id_out_2, on='operator_id', how='left').fillna(0)\n",
    "operator_id_out_filter['calls_count_total'] = operator_id_out_filter['calls_count_x'] + operator_id_out_filter['calls_count_y']\n",
    "operator_id_out_filter.sort_values(by='calls_count_total', ascending=False)\n"
   ]
  },
  {
   "cell_type": "code",
   "execution_count": null,
   "metadata": {},
   "outputs": [],
   "source": [
    "x0 = operator_id_out_filter.calls_count_x\n",
    "x1 = operator_id_out_filter.calls_count_total\n",
    "\n",
    "fig = go.Figure()\n",
    "\n",
    "fig.add_trace(go.Histogram(x=x0))\n",
    "fig.add_trace(go.Histogram(x=x1))\n",
    "fig.update_layout(barmode='overlay')\n",
    "\n",
    "fig.update_traces(opacity=0.55)\n",
    "fig.show()"
   ]
  },
  {
   "attachments": {
    "image.png": {
     "image/png": "[encoded data removed]"
    }
   },
   "cell_type": "markdown",
   "metadata": {},
   "source": [
    "![image.png](attachment:image.png)"
   ]
  },
  {
   "cell_type": "markdown",
   "metadata": {},
   "source": [
    "Можно говорить о том, что у оператор должен совершать минимум 5 дозвонов в день средней продолжительностью не менее 208 минут"
   ]
  },
  {
   "cell_type": "markdown",
   "metadata": {},
   "source": [
    "Проверим наши критерии\n",
    "\n",
    "Для исходящих звонков:\n",
    "    5 звонков (состоявшихся) в день средней продолжительностью более 208 минут\n",
    "Для входящих звонков:\n",
    "    ожидание клиента не более 10 минут\n",
    "    количество пропущенных звонков не более 5%\n"
   ]
  },
  {
   "cell_type": "code",
   "execution_count": 67,
   "metadata": {},
   "outputs": [
    {
     "data": {
      "text/html": [
       "<div>\n",
       "<style scoped>\n",
       "    .dataframe tbody tr th:only-of-type {\n",
       "        vertical-align: middle;\n",
       "    }\n",
       "\n",
       "    .dataframe tbody tr th {\n",
       "        vertical-align: top;\n",
       "    }\n",
       "\n",
       "    .dataframe thead th {\n",
       "        text-align: right;\n",
       "    }\n",
       "</style>\n",
       "<table border=\"1\" class=\"dataframe\">\n",
       "  <thead>\n",
       "    <tr style=\"text-align: right;\">\n",
       "      <th></th>\n",
       "      <th>tariff_plan</th>\n",
       "      <th>user_id</th>\n",
       "      <th>direction</th>\n",
       "      <th>is_missed_call</th>\n",
       "      <th>operator_id</th>\n",
       "      <th>date</th>\n",
       "      <th>calls_count</th>\n",
       "      <th>call_duration</th>\n",
       "      <th>total_call_duration</th>\n",
       "      <th>waiting_time</th>\n",
       "    </tr>\n",
       "  </thead>\n",
       "  <tbody>\n",
       "    <tr>\n",
       "      <th>0</th>\n",
       "      <td>A</td>\n",
       "      <td>166407</td>\n",
       "      <td>in</td>\n",
       "      <td>False</td>\n",
       "      <td>888532.0</td>\n",
       "      <td>5</td>\n",
       "      <td>1.400</td>\n",
       "      <td>150.000000</td>\n",
       "      <td>174.000</td>\n",
       "      <td>17.142857</td>\n",
       "    </tr>\n",
       "    <tr>\n",
       "      <th>1</th>\n",
       "      <td>A</td>\n",
       "      <td>166407</td>\n",
       "      <td>in</td>\n",
       "      <td>False</td>\n",
       "      <td>888534.0</td>\n",
       "      <td>32</td>\n",
       "      <td>1.625</td>\n",
       "      <td>96.218750</td>\n",
       "      <td>143.125</td>\n",
       "      <td>28.865385</td>\n",
       "    </tr>\n",
       "    <tr>\n",
       "      <th>2</th>\n",
       "      <td>A</td>\n",
       "      <td>166407</td>\n",
       "      <td>in</td>\n",
       "      <td>False</td>\n",
       "      <td>888536.0</td>\n",
       "      <td>2</td>\n",
       "      <td>1.000</td>\n",
       "      <td>149.500000</td>\n",
       "      <td>171.000</td>\n",
       "      <td>21.500000</td>\n",
       "    </tr>\n",
       "    <tr>\n",
       "      <th>3</th>\n",
       "      <td>A</td>\n",
       "      <td>166407</td>\n",
       "      <td>in</td>\n",
       "      <td>False</td>\n",
       "      <td>888540.0</td>\n",
       "      <td>3</td>\n",
       "      <td>1.000</td>\n",
       "      <td>290.333333</td>\n",
       "      <td>310.000</td>\n",
       "      <td>19.666667</td>\n",
       "    </tr>\n",
       "    <tr>\n",
       "      <th>4</th>\n",
       "      <td>A</td>\n",
       "      <td>166407</td>\n",
       "      <td>in</td>\n",
       "      <td>False</td>\n",
       "      <td>907440.0</td>\n",
       "      <td>5</td>\n",
       "      <td>1.000</td>\n",
       "      <td>105.400000</td>\n",
       "      <td>126.400</td>\n",
       "      <td>21.000000</td>\n",
       "    </tr>\n",
       "  </tbody>\n",
       "</table>\n",
       "</div>"
      ],
      "text/plain": [
       "  tariff_plan  user_id direction  is_missed_call  operator_id  date  \\\n",
       "0           A   166407        in           False     888532.0     5   \n",
       "1           A   166407        in           False     888534.0    32   \n",
       "2           A   166407        in           False     888536.0     2   \n",
       "3           A   166407        in           False     888540.0     3   \n",
       "4           A   166407        in           False     907440.0     5   \n",
       "\n",
       "   calls_count  call_duration  total_call_duration  waiting_time  \n",
       "0        1.400     150.000000              174.000     17.142857  \n",
       "1        1.625      96.218750              143.125     28.865385  \n",
       "2        1.000     149.500000              171.000     21.500000  \n",
       "3        1.000     290.333333              310.000     19.666667  \n",
       "4        1.000     105.400000              126.400     21.000000  "
      ]
     },
     "execution_count": 67,
     "metadata": {},
     "output_type": "execute_result"
    }
   ],
   "source": [
    "test = telecom_dataset_clients_agg.groupby(\n",
    "    [\n",
    "        'tariff_plan',\n",
    "        'user_id', 'direction',\n",
    "        'is_missed_call',\n",
    "        'operator_id'\n",
    "    ]\n",
    ").agg(\n",
    "    {\n",
    "        'date': 'count',\n",
    "        'calls_count': 'mean',\n",
    "        'call_duration': 'mean',\n",
    "        'total_call_duration': 'mean'\n",
    "    }\n",
    ").reset_index()\n",
    "test['waiting_time'] = (test['total_call_duration'] - test['call_duration']) / test['calls_count']\n",
    "test.head()"
   ]
  },
  {
   "cell_type": "code",
   "execution_count": 68,
   "metadata": {},
   "outputs": [],
   "source": [
    "# данные по исходящим звонкам для операторов\n",
    "test_out = test[(test['direction']== 'out')&(test['is_missed_call']== False)][\n",
    "    ['tariff_plan',\n",
    "    'operator_id',\n",
    "    'calls_count',\n",
    "    'total_call_duration']\n",
    "]"
   ]
  },
  {
   "cell_type": "code",
   "execution_count": 69,
   "metadata": {},
   "outputs": [
    {
     "data": {
      "text/html": [
       "<div>\n",
       "<style scoped>\n",
       "    .dataframe tbody tr th:only-of-type {\n",
       "        vertical-align: middle;\n",
       "    }\n",
       "\n",
       "    .dataframe tbody tr th {\n",
       "        vertical-align: top;\n",
       "    }\n",
       "\n",
       "    .dataframe thead th {\n",
       "        text-align: right;\n",
       "    }\n",
       "</style>\n",
       "<table border=\"1\" class=\"dataframe\">\n",
       "  <thead>\n",
       "    <tr style=\"text-align: right;\">\n",
       "      <th></th>\n",
       "      <th>operator_id</th>\n",
       "      <th>received_calls</th>\n",
       "      <th>total_call_duration</th>\n",
       "      <th>waiting_time</th>\n",
       "    </tr>\n",
       "  </thead>\n",
       "  <tbody>\n",
       "    <tr>\n",
       "      <th>0</th>\n",
       "      <td>888532.0</td>\n",
       "      <td>1.400</td>\n",
       "      <td>174.000</td>\n",
       "      <td>17.142857</td>\n",
       "    </tr>\n",
       "    <tr>\n",
       "      <th>1</th>\n",
       "      <td>888534.0</td>\n",
       "      <td>1.625</td>\n",
       "      <td>143.125</td>\n",
       "      <td>28.865385</td>\n",
       "    </tr>\n",
       "    <tr>\n",
       "      <th>2</th>\n",
       "      <td>888536.0</td>\n",
       "      <td>1.000</td>\n",
       "      <td>171.000</td>\n",
       "      <td>21.500000</td>\n",
       "    </tr>\n",
       "    <tr>\n",
       "      <th>3</th>\n",
       "      <td>888540.0</td>\n",
       "      <td>1.000</td>\n",
       "      <td>310.000</td>\n",
       "      <td>19.666667</td>\n",
       "    </tr>\n",
       "    <tr>\n",
       "      <th>4</th>\n",
       "      <td>907440.0</td>\n",
       "      <td>1.000</td>\n",
       "      <td>126.400</td>\n",
       "      <td>21.000000</td>\n",
       "    </tr>\n",
       "  </tbody>\n",
       "</table>\n",
       "</div>"
      ],
      "text/plain": [
       "   operator_id  received_calls  total_call_duration  waiting_time\n",
       "0     888532.0           1.400              174.000     17.142857\n",
       "1     888534.0           1.625              143.125     28.865385\n",
       "2     888536.0           1.000              171.000     21.500000\n",
       "3     888540.0           1.000              310.000     19.666667\n",
       "4     907440.0           1.000              126.400     21.000000"
      ]
     },
     "execution_count": 69,
     "metadata": {},
     "output_type": "execute_result"
    }
   ],
   "source": [
    "# данные по входящим звонкам для операторов принятые звонки\n",
    "test_in = test[(test['direction']== 'in')&(test['is_missed_call']== False)][\n",
    "    ['operator_id',\n",
    "    'calls_count',\n",
    "    'total_call_duration',\n",
    "    'waiting_time']\n",
    "]\n",
    "test_in.rename(columns={'calls_count': 'received_calls'}, inplace=True)\n",
    "test_in.head()\n"
   ]
  },
  {
   "cell_type": "code",
   "execution_count": 70,
   "metadata": {},
   "outputs": [
    {
     "data": {
      "text/html": [
       "<div>\n",
       "<style scoped>\n",
       "    .dataframe tbody tr th:only-of-type {\n",
       "        vertical-align: middle;\n",
       "    }\n",
       "\n",
       "    .dataframe tbody tr th {\n",
       "        vertical-align: top;\n",
       "    }\n",
       "\n",
       "    .dataframe thead th {\n",
       "        text-align: right;\n",
       "    }\n",
       "</style>\n",
       "<table border=\"1\" class=\"dataframe\">\n",
       "  <thead>\n",
       "    <tr style=\"text-align: right;\">\n",
       "      <th></th>\n",
       "      <th>operator_id</th>\n",
       "      <th>received_not_calls</th>\n",
       "    </tr>\n",
       "  </thead>\n",
       "  <tbody>\n",
       "    <tr>\n",
       "      <th>5</th>\n",
       "      <td>-1.0</td>\n",
       "      <td>1.833333</td>\n",
       "    </tr>\n",
       "    <tr>\n",
       "      <th>6</th>\n",
       "      <td>888532.0</td>\n",
       "      <td>1.000000</td>\n",
       "    </tr>\n",
       "    <tr>\n",
       "      <th>7</th>\n",
       "      <td>888534.0</td>\n",
       "      <td>1.000000</td>\n",
       "    </tr>\n",
       "    <tr>\n",
       "      <th>26</th>\n",
       "      <td>-1.0</td>\n",
       "      <td>6.333333</td>\n",
       "    </tr>\n",
       "    <tr>\n",
       "      <th>31</th>\n",
       "      <td>-1.0</td>\n",
       "      <td>3.893333</td>\n",
       "    </tr>\n",
       "  </tbody>\n",
       "</table>\n",
       "</div>"
      ],
      "text/plain": [
       "    operator_id  received_not_calls\n",
       "5          -1.0            1.833333\n",
       "6      888532.0            1.000000\n",
       "7      888534.0            1.000000\n",
       "26         -1.0            6.333333\n",
       "31         -1.0            3.893333"
      ]
     },
     "execution_count": 70,
     "metadata": {},
     "output_type": "execute_result"
    }
   ],
   "source": [
    "# данные по входящим звонкам для операторов не принятые звонки\n",
    "test_in_is_missed_call = test[(test['direction']== 'in')&(test['is_missed_call']== True)][\n",
    "    ['operator_id',\n",
    "    'calls_count']\n",
    "]\n",
    "test_in_is_missed_call.rename(columns={'calls_count': 'received_not_calls'}, inplace=True)\n",
    "test_in_is_missed_call.head()"
   ]
  },
  {
   "cell_type": "code",
   "execution_count": 71,
   "metadata": {},
   "outputs": [
    {
     "data": {
      "text/html": [
       "<div>\n",
       "<style scoped>\n",
       "    .dataframe tbody tr th:only-of-type {\n",
       "        vertical-align: middle;\n",
       "    }\n",
       "\n",
       "    .dataframe tbody tr th {\n",
       "        vertical-align: top;\n",
       "    }\n",
       "\n",
       "    .dataframe thead th {\n",
       "        text-align: right;\n",
       "    }\n",
       "</style>\n",
       "<table border=\"1\" class=\"dataframe\">\n",
       "  <thead>\n",
       "    <tr style=\"text-align: right;\">\n",
       "      <th></th>\n",
       "      <th>operator_id</th>\n",
       "      <th>waiting_time</th>\n",
       "      <th>prec_received_not_calls</th>\n",
       "    </tr>\n",
       "  </thead>\n",
       "  <tbody>\n",
       "    <tr>\n",
       "      <th>0</th>\n",
       "      <td>888532.0</td>\n",
       "      <td>17.142857</td>\n",
       "      <td>0.416667</td>\n",
       "    </tr>\n",
       "    <tr>\n",
       "      <th>1</th>\n",
       "      <td>888534.0</td>\n",
       "      <td>28.865385</td>\n",
       "      <td>0.380952</td>\n",
       "    </tr>\n",
       "    <tr>\n",
       "      <th>2</th>\n",
       "      <td>888536.0</td>\n",
       "      <td>21.500000</td>\n",
       "      <td>0.000000</td>\n",
       "    </tr>\n",
       "    <tr>\n",
       "      <th>3</th>\n",
       "      <td>888540.0</td>\n",
       "      <td>19.666667</td>\n",
       "      <td>0.000000</td>\n",
       "    </tr>\n",
       "    <tr>\n",
       "      <th>4</th>\n",
       "      <td>907440.0</td>\n",
       "      <td>21.000000</td>\n",
       "      <td>0.000000</td>\n",
       "    </tr>\n",
       "  </tbody>\n",
       "</table>\n",
       "</div>"
      ],
      "text/plain": [
       "   operator_id  waiting_time  prec_received_not_calls\n",
       "0     888532.0     17.142857                 0.416667\n",
       "1     888534.0     28.865385                 0.380952\n",
       "2     888536.0     21.500000                 0.000000\n",
       "3     888540.0     19.666667                 0.000000\n",
       "4     907440.0     21.000000                 0.000000"
      ]
     },
     "execution_count": 71,
     "metadata": {},
     "output_type": "execute_result"
    }
   ],
   "source": [
    "# объеденим даные и сформируем столбец с процентом пропущенных звонков\n",
    "test_in_final = pd.merge(test_in, test_in_is_missed_call, on='operator_id', how='left').fillna(0)\n",
    "test_in_final['prec_received_not_calls'] = test_in_final['received_not_calls'] /(test_in_final['received_calls']+test_in_final['received_not_calls'])\n",
    "test_in_final = test_in_final[['operator_id', 'waiting_time', 'prec_received_not_calls']]\n",
    "test_in_final.head()"
   ]
  },
  {
   "cell_type": "code",
   "execution_count": 72,
   "metadata": {},
   "outputs": [
    {
     "data": {
      "text/html": [
       "<div>\n",
       "<style scoped>\n",
       "    .dataframe tbody tr th:only-of-type {\n",
       "        vertical-align: middle;\n",
       "    }\n",
       "\n",
       "    .dataframe tbody tr th {\n",
       "        vertical-align: top;\n",
       "    }\n",
       "\n",
       "    .dataframe thead th {\n",
       "        text-align: right;\n",
       "    }\n",
       "</style>\n",
       "<table border=\"1\" class=\"dataframe\">\n",
       "  <thead>\n",
       "    <tr style=\"text-align: right;\">\n",
       "      <th></th>\n",
       "      <th>tariff_plan</th>\n",
       "      <th>operator_id</th>\n",
       "      <th>calls_count</th>\n",
       "      <th>total_call_duration</th>\n",
       "      <th>waiting_time</th>\n",
       "      <th>prec_received_not_calls</th>\n",
       "    </tr>\n",
       "  </thead>\n",
       "  <tbody>\n",
       "    <tr>\n",
       "      <th>0</th>\n",
       "      <td>A</td>\n",
       "      <td>888532.0</td>\n",
       "      <td>2.673913</td>\n",
       "      <td>120.065217</td>\n",
       "      <td>17.142857</td>\n",
       "      <td>0.416667</td>\n",
       "    </tr>\n",
       "    <tr>\n",
       "      <th>1</th>\n",
       "      <td>A</td>\n",
       "      <td>888534.0</td>\n",
       "      <td>1.985075</td>\n",
       "      <td>112.507463</td>\n",
       "      <td>28.865385</td>\n",
       "      <td>0.380952</td>\n",
       "    </tr>\n",
       "    <tr>\n",
       "      <th>2</th>\n",
       "      <td>A</td>\n",
       "      <td>888536.0</td>\n",
       "      <td>1.809524</td>\n",
       "      <td>60.476190</td>\n",
       "      <td>21.500000</td>\n",
       "      <td>0.000000</td>\n",
       "    </tr>\n",
       "    <tr>\n",
       "      <th>3</th>\n",
       "      <td>A</td>\n",
       "      <td>888538.0</td>\n",
       "      <td>1.000000</td>\n",
       "      <td>137.333333</td>\n",
       "      <td>0.000000</td>\n",
       "      <td>0.000000</td>\n",
       "    </tr>\n",
       "    <tr>\n",
       "      <th>4</th>\n",
       "      <td>A</td>\n",
       "      <td>888540.0</td>\n",
       "      <td>1.142857</td>\n",
       "      <td>79.571429</td>\n",
       "      <td>19.666667</td>\n",
       "      <td>0.000000</td>\n",
       "    </tr>\n",
       "  </tbody>\n",
       "</table>\n",
       "</div>"
      ],
      "text/plain": [
       "  tariff_plan  operator_id  calls_count  total_call_duration  waiting_time  \\\n",
       "0           A     888532.0     2.673913           120.065217     17.142857   \n",
       "1           A     888534.0     1.985075           112.507463     28.865385   \n",
       "2           A     888536.0     1.809524            60.476190     21.500000   \n",
       "3           A     888538.0     1.000000           137.333333      0.000000   \n",
       "4           A     888540.0     1.142857            79.571429     19.666667   \n",
       "\n",
       "   prec_received_not_calls  \n",
       "0                 0.416667  \n",
       "1                 0.380952  \n",
       "2                 0.000000  \n",
       "3                 0.000000  \n",
       "4                 0.000000  "
      ]
     },
     "execution_count": 72,
     "metadata": {},
     "output_type": "execute_result"
    }
   ],
   "source": [
    "# общая сводная таблица для проверки\n",
    "test_end = pd.merge(test_out, test_in_final, on='operator_id', how='left').fillna(0)\n",
    "test_end.head()"
   ]
  },
  {
   "cell_type": "markdown",
   "metadata": {},
   "source": [
    "Выведем данные по неэффективным операторам"
   ]
  },
  {
   "cell_type": "code",
   "execution_count": 73,
   "metadata": {},
   "outputs": [
    {
     "data": {
      "text/html": [
       "<div>\n",
       "<style scoped>\n",
       "    .dataframe tbody tr th:only-of-type {\n",
       "        vertical-align: middle;\n",
       "    }\n",
       "\n",
       "    .dataframe tbody tr th {\n",
       "        vertical-align: top;\n",
       "    }\n",
       "\n",
       "    .dataframe thead th {\n",
       "        text-align: right;\n",
       "    }\n",
       "</style>\n",
       "<table border=\"1\" class=\"dataframe\">\n",
       "  <thead>\n",
       "    <tr style=\"text-align: right;\">\n",
       "      <th></th>\n",
       "      <th>tariff_plan</th>\n",
       "      <th>operator_id</th>\n",
       "      <th>calls_count</th>\n",
       "      <th>total_call_duration</th>\n",
       "      <th>waiting_time</th>\n",
       "      <th>prec_received_not_calls</th>\n",
       "    </tr>\n",
       "  </thead>\n",
       "  <tbody>\n",
       "    <tr>\n",
       "      <th>0</th>\n",
       "      <td>A</td>\n",
       "      <td>888532.0</td>\n",
       "      <td>2.673913</td>\n",
       "      <td>120.065217</td>\n",
       "      <td>17.142857</td>\n",
       "      <td>0.416667</td>\n",
       "    </tr>\n",
       "    <tr>\n",
       "      <th>1</th>\n",
       "      <td>A</td>\n",
       "      <td>888534.0</td>\n",
       "      <td>1.985075</td>\n",
       "      <td>112.507463</td>\n",
       "      <td>28.865385</td>\n",
       "      <td>0.380952</td>\n",
       "    </tr>\n",
       "    <tr>\n",
       "      <th>8</th>\n",
       "      <td>A</td>\n",
       "      <td>908958.0</td>\n",
       "      <td>1.555556</td>\n",
       "      <td>119.888889</td>\n",
       "      <td>20.525000</td>\n",
       "      <td>0.310345</td>\n",
       "    </tr>\n",
       "    <tr>\n",
       "      <th>9</th>\n",
       "      <td>A</td>\n",
       "      <td>908960.0</td>\n",
       "      <td>1.807692</td>\n",
       "      <td>123.115385</td>\n",
       "      <td>21.783505</td>\n",
       "      <td>0.413011</td>\n",
       "    </tr>\n",
       "    <tr>\n",
       "      <th>24</th>\n",
       "      <td>A</td>\n",
       "      <td>906392.0</td>\n",
       "      <td>1.000000</td>\n",
       "      <td>70.800000</td>\n",
       "      <td>13.000000</td>\n",
       "      <td>0.614035</td>\n",
       "    </tr>\n",
       "  </tbody>\n",
       "</table>\n",
       "</div>"
      ],
      "text/plain": [
       "   tariff_plan  operator_id  calls_count  total_call_duration  waiting_time  \\\n",
       "0            A     888532.0     2.673913           120.065217     17.142857   \n",
       "1            A     888534.0     1.985075           112.507463     28.865385   \n",
       "8            A     908958.0     1.555556           119.888889     20.525000   \n",
       "9            A     908960.0     1.807692           123.115385     21.783505   \n",
       "24           A     906392.0     1.000000            70.800000     13.000000   \n",
       "\n",
       "    prec_received_not_calls  \n",
       "0                  0.416667  \n",
       "1                  0.380952  \n",
       "8                  0.310345  \n",
       "9                  0.413011  \n",
       "24                 0.614035  "
      ]
     },
     "execution_count": 73,
     "metadata": {},
     "output_type": "execute_result"
    }
   ],
   "source": [
    "result = test_end[(test_end['calls_count'] < 5)&\n",
    "         (test_end['waiting_time']>10)&\n",
    "         (test_end['prec_received_not_calls'] > 0.05)&\n",
    "         (test_end['total_call_duration'] < 208)\n",
    "        ]\n",
    "result.head()"
   ]
  },
  {
   "cell_type": "markdown",
   "metadata": {},
   "source": [
    "Для тарифа А"
   ]
  },
  {
   "cell_type": "code",
   "execution_count": 74,
   "metadata": {},
   "outputs": [
    {
     "name": "stdout",
     "output_type": "stream",
     "text": [
      "Количество неэффективных операторов на тарифе А 2451\n"
     ]
    }
   ],
   "source": [
    "a = len(result[result['tariff_plan']== 'A']) \n",
    "        \n",
    "print(f'Количество неэффективных операторов на тарифе А {a}')         "
   ]
  },
  {
   "cell_type": "markdown",
   "metadata": {},
   "source": [
    "Для тарифа В"
   ]
  },
  {
   "cell_type": "code",
   "execution_count": 75,
   "metadata": {},
   "outputs": [
    {
     "name": "stdout",
     "output_type": "stream",
     "text": [
      "Количество неэффективных операторов на тарифе B 29\n"
     ]
    }
   ],
   "source": [
    "b = len(result[result['tariff_plan']== 'B']) \n",
    "        \n",
    "print(f'Количество неэффективных операторов на тарифе B {b}')  "
   ]
  },
  {
   "cell_type": "markdown",
   "metadata": {},
   "source": [
    "Для тарифа С"
   ]
  },
  {
   "cell_type": "code",
   "execution_count": 76,
   "metadata": {},
   "outputs": [
    {
     "name": "stdout",
     "output_type": "stream",
     "text": [
      "Количество неэффективных операторов на тарифе C 22\n"
     ]
    }
   ],
   "source": [
    "c = len(result[result['tariff_plan']== 'C']) \n",
    "        \n",
    "print(f'Количество неэффективных операторов на тарифе C {c}') "
   ]
  },
  {
   "cell_type": "code",
   "execution_count": 77,
   "metadata": {},
   "outputs": [],
   "source": [
    "test2 = test[test['is_missed_call']==False][\n",
    "    ['tariff_plan',\n",
    "     'operator_id', 'direction',\n",
    "     'calls_count', 'call_duration',\n",
    "     'waiting_time']\n",
    "]"
   ]
  },
  {
   "cell_type": "markdown",
   "metadata": {},
   "source": [
    "***Вывод***\n",
    "\n",
    "\n",
    "    Тариф \"А\" - самая большая средняя длительность входящих звонков 375 при самом большом среднем количестве входящих звонков. Этот тариф для входящей связи.\n",
    "    \n",
    "    Тариф \"С\" - самое большое среднее количество исходящих звонков 6.2, самая большая средняя продолжительность исходящих звонков 434.63 и довольно большое количество недозвонов 10.31. Это тариф для исходящей связи.\n",
    "    \n",
    "    Тариф \"В\" - занимает среднее положение, скорее  всего, его выбирают, когда нужны и входящие и исходящие звонки.\n",
    "    \n",
    "После анализа данных приняли следующие критерии неэффективности операторов:\n",
    "\n",
    "Для исходящих звонков:\n",
    "    5 звонков (состоявшихся) в день средней продолжительностью более 208 минут\n",
    "Для входящих звонков:\n",
    "    ожидание клиента не более 10 минут\n",
    "    количество пропущенных звонков не более 5%\n",
    "\n",
    "\n",
    "Проверка критерияв на тарифах дала следующий результат:\n",
    "\n",
    "     Количество неэффективных операторов на тарифе А 2451\n",
    "     Количество неэффективных операторов на тарифе B 29\n",
    "     Количество неэффективных операторов на тарифе C 22\n"
   ]
  },
  {
   "cell_type": "markdown",
   "metadata": {},
   "source": [
    "[Вернуться в начало](#start)"
   ]
  },
  {
   "cell_type": "markdown",
   "metadata": {},
   "source": [
    "***Часть 4. Статистический анализ***     \n",
    "* [1. На основе полученных данных формулируем две нулевые гипотезы.](#analysis_stat)\n",
    "     * 1.1. Call центры работающие тарифном плане А совершают больше контактов с клиентами, чем центры которые работают на Тарифных планах В и С. \n",
    "     * 1.2. Длительность разговоров в Call центрах работающих тарифном плане А больше, чем центрах которые работают на тарифных планах В и С.\n",
    "     * 1.3. Определяем значение уровня значимаости (`alpha`).\n",
    "     * 1.4. Проверяем нулевые гипотезы. Выводим результаты проверки.    "
   ]
  },
  {
   "cell_type": "markdown",
   "metadata": {},
   "source": [
    "**Проверка гипотезы**\n",
    "```\n",
    "H_0: Количество звонков (calls_count) операторов на тарифе А = Количество звонков (calls_count) операторов на тарифе В\n",
    "H_a: Количество звонков (calls_count) операторов на тарифе А ≠ Количество звонков (calls_count) операторов на тарифе В\n",
    "alpha = 0.05\n",
    "```"
   ]
  },
  {
   "cell_type": "code",
   "execution_count": 78,
   "metadata": {},
   "outputs": [
    {
     "name": "stdout",
     "output_type": "stream",
     "text": [
      "0.35213865547192036\n",
      "Не получилось отвергнуть нулевую гипотезу\n"
     ]
    }
   ],
   "source": [
    "sample_1 = telecom_dataset_clients_agg.query('tariff_plan==\"A\"')['calls_count']\n",
    "sample_2 = telecom_dataset_clients_agg.query('tariff_plan==\"B\"')['calls_count']\n",
    "\n",
    "results = st.ttest_ind(sample_1, sample_2, equal_var = False)  #    вызов метода для проверки гипотезы\n",
    "alpha = 0.05 \n",
    "\n",
    "\n",
    "print(results.pvalue) # вывод значения p-value на экран \n",
    "# условный оператор с выводом строки с ответом\n",
    "if results.pvalue < alpha:\n",
    "    print(\"Отвергаем нулевую гипотезу\")\n",
    "else:\n",
    "    print(\"Не получилось отвергнуть нулевую гипотезу\")"
   ]
  },
  {
   "cell_type": "markdown",
   "metadata": {},
   "source": [
    "**Проверка гипотезы**\n",
    "```\n",
    "H_0: Количество звонков (calls_count) операторов на тарифе А = Количество звонков (calls_count) операторов на тарифе C\n",
    "H_a: Количество звонков (calls_count) операторов на тарифе А ≠ Количество звонков (calls_count) операторов на тарифе C\n",
    "alpha = 0.05\n",
    "```"
   ]
  },
  {
   "cell_type": "code",
   "execution_count": 79,
   "metadata": {},
   "outputs": [
    {
     "name": "stdout",
     "output_type": "stream",
     "text": [
      "0.18342453702805644\n",
      "Не получилось отвергнуть нулевую гипотезу\n"
     ]
    }
   ],
   "source": [
    "sample_3 = telecom_dataset_clients_agg.query('tariff_plan==\"C\"')['calls_count']\n",
    "\n",
    "results = st.ttest_ind(sample_1, sample_3, equal_var = False)  #    вызов метода для проверки гипотезы\n",
    "alpha = 0.05 \n",
    "\n",
    "\n",
    "print(results.pvalue) # вывод значения p-value на экран \n",
    "# условный оператор с выводом строки с ответом\n",
    "if results.pvalue < alpha:\n",
    "    print(\"Отвергаем нулевую гипотезу\")\n",
    "else:\n",
    "    print(\"Не получилось отвергнуть нулевую гипотезу\")"
   ]
  },
  {
   "cell_type": "markdown",
   "metadata": {},
   "source": [
    "**Проверка гипотезы**\n",
    "```\n",
    "H_0: Длительность разговоров в Call центрах на тарифе А = Длительность разговоров в Call центрах на тарифе В\n",
    "H_a: Длительность разговоров в Call центрах на тарифе А ≠ Длительность разговоров в Call центрах на тарифе В\n",
    "alpha = 0.05\n",
    "```"
   ]
  },
  {
   "cell_type": "code",
   "execution_count": 80,
   "metadata": {},
   "outputs": [
    {
     "name": "stdout",
     "output_type": "stream",
     "text": [
      "1.4713487756341452e-06\n",
      "Отвергаем нулевую гипотезу\n"
     ]
    }
   ],
   "source": [
    "sample_4 = telecom_dataset_clients_agg.query('tariff_plan==\"A\"')['call_duration']\n",
    "sample_5 = telecom_dataset_clients_agg.query('tariff_plan==\"B\"')['call_duration']\n",
    "\n",
    "results = st.ttest_ind(sample_4, sample_5, equal_var = False)  #    вызов метода для проверки гипотезы\n",
    "alpha = 0.05 \n",
    "\n",
    "\n",
    "print(results.pvalue) # вывод значения p-value на экран \n",
    "# условный оператор с выводом строки с ответом\n",
    "if results.pvalue < alpha:\n",
    "    print(\"Отвергаем нулевую гипотезу\")\n",
    "else:\n",
    "    print(\"Не получилось отвергнуть нулевую гипотезу\")"
   ]
  },
  {
   "cell_type": "markdown",
   "metadata": {},
   "source": [
    "**Проверка гипотезы**\n",
    "```\n",
    "H_0: Длительность разговоров в Call центрах на тарифе А = Длительность разговоров в Call центрах на тарифе С\n",
    "H_a: Длительность разговоров в Call центрах на тарифе А ≠ Длительность разговоров в Call центрах на тарифе С\n",
    "alpha = 0.05\n",
    "```"
   ]
  },
  {
   "cell_type": "code",
   "execution_count": 81,
   "metadata": {},
   "outputs": [
    {
     "name": "stdout",
     "output_type": "stream",
     "text": [
      "5.928243376015331e-10\n",
      "Отвергаем нулевую гипотезу\n"
     ]
    }
   ],
   "source": [
    "sample_6 = telecom_dataset_clients_agg.query('tariff_plan==\"C\"')['call_duration']\n",
    "\n",
    "results = st.ttest_ind(sample_4, sample_6, equal_var = False)  #    вызов метода для проверки гипотезы\n",
    "alpha = 0.05 \n",
    "\n",
    "\n",
    "print(results.pvalue) # вывод значения p-value на экран \n",
    "# условный оператор с выводом строки с ответом\n",
    "if results.pvalue < alpha:\n",
    "    print(\"Отвергаем нулевую гипотезу\")\n",
    "else:\n",
    "    print(\"Не получилось отвергнуть нулевую гипотезу\")"
   ]
  },
  {
   "cell_type": "markdown",
   "metadata": {},
   "source": [
    "[Вернуться в начало](#start)"
   ]
  },
  {
   "cell_type": "markdown",
   "metadata": {},
   "source": [
    "***Часть 5. Выводы. Рекомендации для заказчика***     \n",
    "* [1. На основе проведенного аналаза формулируем выводы.](#conclusion)  <a name=\"analysis_in_centr\"></a>\n",
    "     * 1.1. Критерии неэффективности операторов\n"
   ]
  },
  {
   "cell_type": "markdown",
   "metadata": {},
   "source": [
    "****Вывод****\n",
    "\n",
    "**Знакомство с данными**\n",
    "\n",
    "Для анализа у нас два датафрейма с данными\n",
    "\n",
    "В первой таблице `telecom_clients` информацию о тарифах, на которых работают операторы. \n",
    "\n",
    "Всего имеем три тарифа:А, В и С. \n",
    "\n",
    "Первая регистрация 01.08.2019, последняя 31.10.2022 года\n",
    "\n",
    "Во второй таблице `telecom_dataset` 53902 строки, 9 столбцов.\n",
    "\n",
    "Всего имеем информацию по 1092 операторам в 307 Call центрах.\n",
    "\n",
    "    Дата первого наблюдения 2019-08-02\n",
    "    Дата последнего наблюдения 2019-11-28\n",
    "    \n",
    "В столбце `date` необходими изменить тип и формат.\n",
    "\n",
    "**Предобработка данных**\n",
    "\n",
    "В telecom_dataset выявили  в internal и 8172 пропуска в operator_id\n",
    "\n",
    "    В operator_id 8172 пропусков заменили  на \"не определено\"\n",
    "    В internal 117 пропусков заменили на 0\n",
    "В telecom_dataset 4900 полных дубликата были удалены.\n",
    "\n",
    "Изменили формат даты для удобства отображения и обработки.\n",
    "\n",
    "Определили, что длительность звонков измеряется в минутах. \n",
    "\n",
    "Удалили выбросы по длительности звонков в день и сделали срез до 1440 мин (1 сутки)\n",
    "\n",
    "Удалили выбросы по количеству звонков в день и сделали срез до 200 звонков.\n",
    "\n",
    "Объединили обе таблицы для дальнейшего анализа в срезе тарифных планов.\n",
    "\n",
    "\n",
    "**Анализ данных**\n",
    "\n",
    "    Тариф \"А\" - самая большая средняя длительность входящих звонков 375 при самом большом среднем количестве входящих звонков. Этот тариф для входящей связи.\n",
    "    \n",
    "    Тариф \"С\" - самое большое среднее количество исходящих звонков 6.2, самая большая средняя продолжительность исходящих звонков 434.63 и довольно большое количество недозвонов 10.31. Это тариф для исходящей связи.\n",
    "    \n",
    "    Тариф \"В\" - занимает среднее положение, скорее  всего, его выбирают, когда нужны и входящие и исходящие звонки.\n",
    "    \n",
    "После анализа данных приняли следующие критерии неэффективности операторов:\n",
    "\n",
    "Для исходящих звонков:\n",
    "    5 звонков (состоявшихся) в день средней продолжительностью более 208 минут\n",
    "Для входящих звонков:\n",
    "    ожидание клиента не более 10 минут\n",
    "    количество пропущенных звонков не более 5%\n",
    "\n",
    "\n",
    "Проверка критерияв на тарифах дала следующий результат:\n",
    "\n",
    "     Количество неэффективных операторов на тарифе А 2451\n",
    "     Количество неэффективных операторов на тарифе B 29\n",
    "     Количество неэффективных операторов на тарифе C 22\n",
    "\n",
    "****Для входящих звонков:****\n",
    "\n",
    "***ожидание клиента не более 10 минут***\n",
    "\n",
    "\n",
    "***количество пропущенных звонков не более 5%***\n",
    "\n",
    "\n",
    "****Для исходящих звонков:****\n",
    "\n",
    "***5 звонков (состоявшихся) в день средней продолжительностью более 208 минут***\n",
    "\n"
   ]
  },
  {
   "cell_type": "markdown",
   "metadata": {},
   "source": [
    "Результаты проверки гипотез:\n",
    "\n",
    "    Количество звонков (calls_count) операторов на тарифе А ≠ Количество звонков (calls_count) операторов на тарифе В\n",
    "    Количество звонков (calls_count) операторов на тарифе А ≠ Количество звонков (calls_count) операторов на тарифе C\n",
    "    Длительность разговоров в Call центрах на тарифе А = Длительность разговоров в Call центрах на тарифе С\n",
    "    Длительность разговоров в Call центрах на тарифе А ≠ Длительность разговоров в Call центрах на тарифе С\n",
    "    "
   ]
  },
  {
   "cell_type": "markdown",
   "metadata": {},
   "source": [
    "*** Дополнительные выводы и рекомендации**"
   ]
  },
  {
   "cell_type": "markdown",
   "metadata": {},
   "source": [
    "В целом концепт предложения по определению неэффективных операторов имеет смысл.\n",
    "\n",
    "На всех тарифах были выявлены неэффективные операторы, причем на тирифе А - значительное количество.\n",
    "На тарифах В и С неэффективных операторов не много, но нужно учитывать, что исходные данные не позволяют более точно сформулировать критерии. \n",
    "\n",
    "Думаю, можно сделать более точный анализ с учетом всех нюансов, если в исходных данных будет дополнительная информация по специфике работы КЦ, опыте операторов (стажеры работают хуже, но и вряд ли их можно оценивать на равных), каких-то дополнительных особенностях каждого направления, более подробное описание опций каждого тарифа и т.д. и т.п."
   ]
  },
  {
   "cell_type": "markdown",
   "metadata": {},
   "source": [
    "[Вернуться в начало](#start)"
   ]
  },
  {
   "cell_type": "markdown",
   "metadata": {},
   "source": [
    "# Дашборды\n",
    "\n",
    "Чтобы отправить дашборд, приложите к проекту ссылку на файл. Выберите один из наборов:\n",
    "\n",
    "Набор №2\n",
    "\n",
    "1. Постройте диаграмму количества вызовов по дням;\n",
    "2. Постройте круговую диаграмму, отображающую соотношение кол-ва входящих и исходящих вызовов;\n",
    "3. Добавьте фильтр дашборда по типу вызова (внешний или внутренний)\n",
    "\n",
    "<code>[Дашборд: Телеком. Определение неэффективных операторов.](https://public.tableau.com/views/Telecom_16687102882010/Dashboard1?:language=en-US&publish=yes&:display_count=n&:origin=viz_share_link)\n",
    "</code>"
   ]
  }
 ],
 "metadata": {
  "ExecuteTimeLog": [
   {
    "duration": 46,
    "start_time": "2022-11-10T04:06:10.665Z"
   },
   {
    "duration": 1295,
    "start_time": "2022-11-10T04:06:14.268Z"
   },
   {
    "duration": 52,
    "start_time": "2022-11-10T04:06:16.106Z"
   },
   {
    "duration": 5,
    "start_time": "2022-11-10T04:06:17.155Z"
   },
   {
    "duration": 9,
    "start_time": "2022-11-10T04:06:18.101Z"
   },
   {
    "duration": 4,
    "start_time": "2022-11-10T04:06:19.007Z"
   },
   {
    "duration": 4,
    "start_time": "2022-11-10T04:06:19.853Z"
   },
   {
    "duration": 10,
    "start_time": "2022-11-10T04:06:20.598Z"
   },
   {
    "duration": 4,
    "start_time": "2022-11-10T04:06:21.834Z"
   },
   {
    "duration": 6,
    "start_time": "2022-11-10T04:06:22.420Z"
   },
   {
    "duration": 7,
    "start_time": "2022-11-10T04:06:22.913Z"
   },
   {
    "duration": 5,
    "start_time": "2022-11-10T04:06:23.366Z"
   },
   {
    "duration": 6,
    "start_time": "2022-11-10T04:06:23.862Z"
   },
   {
    "duration": 4,
    "start_time": "2022-11-10T04:06:25.901Z"
   },
   {
    "duration": 1157,
    "start_time": "2022-11-10T04:13:11.528Z"
   },
   {
    "duration": 19,
    "start_time": "2022-11-10T04:13:12.687Z"
   },
   {
    "duration": 5,
    "start_time": "2022-11-10T04:13:12.707Z"
   },
   {
    "duration": 11,
    "start_time": "2022-11-10T04:13:12.713Z"
   },
   {
    "duration": 10,
    "start_time": "2022-11-10T04:13:12.725Z"
   },
   {
    "duration": 12,
    "start_time": "2022-11-10T04:13:12.736Z"
   },
   {
    "duration": 15,
    "start_time": "2022-11-10T04:13:12.750Z"
   },
   {
    "duration": 7,
    "start_time": "2022-11-10T04:13:12.767Z"
   },
   {
    "duration": 7,
    "start_time": "2022-11-10T04:13:12.775Z"
   },
   {
    "duration": 12,
    "start_time": "2022-11-10T04:13:12.784Z"
   },
   {
    "duration": 8,
    "start_time": "2022-11-10T04:13:12.798Z"
   },
   {
    "duration": 9,
    "start_time": "2022-11-10T04:13:12.807Z"
   },
   {
    "duration": 8,
    "start_time": "2022-11-10T04:13:12.818Z"
   },
   {
    "duration": 161,
    "start_time": "2022-11-10T04:13:12.827Z"
   },
   {
    "duration": 4,
    "start_time": "2022-11-10T04:13:12.989Z"
   },
   {
    "duration": 16,
    "start_time": "2022-11-10T04:13:12.994Z"
   },
   {
    "duration": 23,
    "start_time": "2022-11-10T04:13:13.012Z"
   },
   {
    "duration": 9,
    "start_time": "2022-11-10T04:13:13.036Z"
   },
   {
    "duration": 6,
    "start_time": "2022-11-10T04:13:13.047Z"
   },
   {
    "duration": 19,
    "start_time": "2022-11-10T04:13:13.054Z"
   },
   {
    "duration": 24,
    "start_time": "2022-11-10T04:13:13.074Z"
   },
   {
    "duration": 12,
    "start_time": "2022-11-10T04:13:13.100Z"
   },
   {
    "duration": 13,
    "start_time": "2022-11-10T04:13:13.113Z"
   },
   {
    "duration": 32,
    "start_time": "2022-11-10T04:13:13.128Z"
   },
   {
    "duration": 31,
    "start_time": "2022-11-10T04:13:13.162Z"
   },
   {
    "duration": 29,
    "start_time": "2022-11-10T04:13:13.194Z"
   },
   {
    "duration": 32,
    "start_time": "2022-11-10T04:13:13.224Z"
   },
   {
    "duration": 22,
    "start_time": "2022-11-10T04:13:13.259Z"
   },
   {
    "duration": 4,
    "start_time": "2022-11-10T04:13:13.283Z"
   },
   {
    "duration": 10,
    "start_time": "2022-11-10T04:13:13.289Z"
   },
   {
    "duration": 12,
    "start_time": "2022-11-10T04:13:13.300Z"
   },
   {
    "duration": 43,
    "start_time": "2022-11-10T04:13:13.313Z"
   },
   {
    "duration": 15,
    "start_time": "2022-11-10T04:13:13.357Z"
   },
   {
    "duration": 24,
    "start_time": "2022-11-10T04:13:13.373Z"
   },
   {
    "duration": 26,
    "start_time": "2022-11-10T04:13:13.399Z"
   },
   {
    "duration": 25,
    "start_time": "2022-11-10T04:13:13.448Z"
   },
   {
    "duration": 9,
    "start_time": "2022-11-10T04:13:13.474Z"
   },
   {
    "duration": 8,
    "start_time": "2022-11-10T04:13:13.484Z"
   },
   {
    "duration": 29,
    "start_time": "2022-11-10T04:13:13.494Z"
   },
   {
    "duration": 35,
    "start_time": "2022-11-10T04:13:13.524Z"
   },
   {
    "duration": 34,
    "start_time": "2022-11-10T04:13:13.560Z"
   },
   {
    "duration": 161,
    "start_time": "2022-11-10T04:27:31.361Z"
   },
   {
    "duration": 1119,
    "start_time": "2022-11-10T04:27:48.799Z"
   },
   {
    "duration": 201,
    "start_time": "2022-11-10T04:27:53.654Z"
   },
   {
    "duration": 6,
    "start_time": "2022-11-10T04:28:08.204Z"
   },
   {
    "duration": 66,
    "start_time": "2022-11-10T04:30:04.141Z"
   },
   {
    "duration": 4,
    "start_time": "2022-11-10T04:30:30.541Z"
   },
   {
    "duration": 4,
    "start_time": "2022-11-10T04:31:50.778Z"
   },
   {
    "duration": 3,
    "start_time": "2022-11-10T04:32:24.070Z"
   },
   {
    "duration": 4,
    "start_time": "2022-11-10T04:33:40.038Z"
   },
   {
    "duration": 102,
    "start_time": "2022-11-10T04:34:47.849Z"
   },
   {
    "duration": 4,
    "start_time": "2022-11-10T04:34:57.307Z"
   },
   {
    "duration": 4,
    "start_time": "2022-11-10T04:35:27.704Z"
   },
   {
    "duration": 5,
    "start_time": "2022-11-10T04:35:47.983Z"
   },
   {
    "duration": 1322,
    "start_time": "2022-11-10T13:15:52.734Z"
   },
   {
    "duration": 405,
    "start_time": "2022-11-10T13:16:00.466Z"
   },
   {
    "duration": 4,
    "start_time": "2022-11-10T13:16:11.066Z"
   },
   {
    "duration": 11,
    "start_time": "2022-11-10T13:16:17.055Z"
   },
   {
    "duration": 4,
    "start_time": "2022-11-10T13:16:21.655Z"
   },
   {
    "duration": 4,
    "start_time": "2022-11-10T13:16:23.465Z"
   },
   {
    "duration": 14,
    "start_time": "2022-11-10T13:16:28.223Z"
   },
   {
    "duration": 5,
    "start_time": "2022-11-10T13:16:35.663Z"
   },
   {
    "duration": 5,
    "start_time": "2022-11-10T13:18:35.556Z"
   },
   {
    "duration": 5,
    "start_time": "2022-11-10T13:20:12.364Z"
   },
   {
    "duration": 3,
    "start_time": "2022-11-10T13:20:13.048Z"
   },
   {
    "duration": 5,
    "start_time": "2022-11-10T13:20:42.595Z"
   },
   {
    "duration": 6,
    "start_time": "2022-11-10T13:21:11.372Z"
   },
   {
    "duration": 3,
    "start_time": "2022-11-10T13:23:13.702Z"
   },
   {
    "duration": 12,
    "start_time": "2022-11-10T13:23:45.556Z"
   },
   {
    "duration": 18,
    "start_time": "2022-11-10T13:24:30.724Z"
   },
   {
    "duration": 5,
    "start_time": "2022-11-10T13:25:16.421Z"
   },
   {
    "duration": 6,
    "start_time": "2022-11-10T13:25:50.070Z"
   },
   {
    "duration": 14,
    "start_time": "2022-11-10T13:26:27.130Z"
   },
   {
    "duration": 15,
    "start_time": "2022-11-10T13:28:17.306Z"
   },
   {
    "duration": 5,
    "start_time": "2022-11-10T13:29:38.422Z"
   },
   {
    "duration": 7,
    "start_time": "2022-11-10T13:29:47.904Z"
   },
   {
    "duration": 5,
    "start_time": "2022-11-10T13:30:15.933Z"
   },
   {
    "duration": 6,
    "start_time": "2022-11-10T13:31:46.750Z"
   },
   {
    "duration": 10,
    "start_time": "2022-11-10T13:31:49.775Z"
   },
   {
    "duration": 19,
    "start_time": "2022-11-10T13:33:38.683Z"
   },
   {
    "duration": 4,
    "start_time": "2022-11-10T13:33:57.062Z"
   },
   {
    "duration": 6,
    "start_time": "2022-11-10T13:34:00.518Z"
   },
   {
    "duration": 15,
    "start_time": "2022-11-10T13:34:50.898Z"
   },
   {
    "duration": 16,
    "start_time": "2022-11-10T13:35:22.615Z"
   },
   {
    "duration": 9,
    "start_time": "2022-11-10T13:36:50.394Z"
   },
   {
    "duration": 12,
    "start_time": "2022-11-10T13:36:50.998Z"
   },
   {
    "duration": 15,
    "start_time": "2022-11-10T13:37:09.511Z"
   },
   {
    "duration": 42,
    "start_time": "2022-11-10T13:38:45.877Z"
   },
   {
    "duration": 35,
    "start_time": "2022-11-10T13:38:58.594Z"
   },
   {
    "duration": 33,
    "start_time": "2022-11-10T13:39:41.864Z"
   },
   {
    "duration": 764,
    "start_time": "2022-11-10T13:52:08.416Z"
   },
   {
    "duration": 3,
    "start_time": "2022-11-10T13:52:19.296Z"
   },
   {
    "duration": 8,
    "start_time": "2022-11-10T13:52:20.301Z"
   },
   {
    "duration": 4,
    "start_time": "2022-11-10T13:52:22.926Z"
   },
   {
    "duration": 4,
    "start_time": "2022-11-10T13:52:23.705Z"
   },
   {
    "duration": 11,
    "start_time": "2022-11-10T13:52:43.135Z"
   },
   {
    "duration": 5,
    "start_time": "2022-11-10T13:52:50.218Z"
   },
   {
    "duration": 4,
    "start_time": "2022-11-10T13:52:54.208Z"
   },
   {
    "duration": 3,
    "start_time": "2022-11-10T13:53:04.929Z"
   },
   {
    "duration": 12,
    "start_time": "2022-11-10T13:53:16.950Z"
   },
   {
    "duration": 18,
    "start_time": "2022-11-10T13:53:26.868Z"
   },
   {
    "duration": 7,
    "start_time": "2022-11-10T13:53:31.407Z"
   },
   {
    "duration": 7,
    "start_time": "2022-11-10T13:53:32.824Z"
   },
   {
    "duration": 7,
    "start_time": "2022-11-10T13:55:20.935Z"
   },
   {
    "duration": 6,
    "start_time": "2022-11-10T13:55:29.945Z"
   },
   {
    "duration": 8,
    "start_time": "2022-11-10T13:56:00.542Z"
   },
   {
    "duration": 6,
    "start_time": "2022-11-10T13:56:01.027Z"
   },
   {
    "duration": 31,
    "start_time": "2022-11-10T13:56:01.929Z"
   },
   {
    "duration": 28,
    "start_time": "2022-11-10T13:57:10.666Z"
   },
   {
    "duration": 23,
    "start_time": "2022-11-10T13:57:12.129Z"
   },
   {
    "duration": 4,
    "start_time": "2022-11-10T13:57:30.665Z"
   },
   {
    "duration": 29,
    "start_time": "2022-11-10T13:58:15.791Z"
   },
   {
    "duration": 77,
    "start_time": "2022-11-10T14:15:36.895Z"
   },
   {
    "duration": 12,
    "start_time": "2022-11-10T14:49:49.789Z"
   },
   {
    "duration": 11,
    "start_time": "2022-11-10T14:49:50.338Z"
   },
   {
    "duration": 14,
    "start_time": "2022-11-10T14:49:51.161Z"
   },
   {
    "duration": 23,
    "start_time": "2022-11-10T14:49:57.318Z"
   },
   {
    "duration": 43,
    "start_time": "2022-11-10T14:50:01.513Z"
   },
   {
    "duration": 29,
    "start_time": "2022-11-10T14:50:05.954Z"
   },
   {
    "duration": 22,
    "start_time": "2022-11-10T14:50:06.547Z"
   },
   {
    "duration": 5,
    "start_time": "2022-11-10T14:50:07.455Z"
   },
   {
    "duration": 26,
    "start_time": "2022-11-10T14:50:09.605Z"
   },
   {
    "duration": 1364,
    "start_time": "2022-11-10T16:53:34.669Z"
   },
   {
    "duration": 254,
    "start_time": "2022-11-10T16:53:36.542Z"
   },
   {
    "duration": 4,
    "start_time": "2022-11-10T16:53:40.068Z"
   },
   {
    "duration": 10,
    "start_time": "2022-11-10T16:53:46.120Z"
   },
   {
    "duration": 4,
    "start_time": "2022-11-10T16:53:48.519Z"
   },
   {
    "duration": 3,
    "start_time": "2022-11-10T16:53:50.103Z"
   },
   {
    "duration": 11,
    "start_time": "2022-11-10T16:53:51.642Z"
   },
   {
    "duration": 4,
    "start_time": "2022-11-10T16:53:56.756Z"
   },
   {
    "duration": 4,
    "start_time": "2022-11-10T16:54:02.389Z"
   },
   {
    "duration": 3,
    "start_time": "2022-11-10T16:54:08.056Z"
   },
   {
    "duration": 10,
    "start_time": "2022-11-10T16:54:14.682Z"
   },
   {
    "duration": 16,
    "start_time": "2022-11-10T16:54:27.867Z"
   },
   {
    "duration": 5,
    "start_time": "2022-11-10T16:54:39.986Z"
   },
   {
    "duration": 6,
    "start_time": "2022-11-10T16:54:42.581Z"
   },
   {
    "duration": 5,
    "start_time": "2022-11-10T16:54:45.440Z"
   },
   {
    "duration": 5,
    "start_time": "2022-11-10T16:54:50.697Z"
   },
   {
    "duration": 5,
    "start_time": "2022-11-10T16:57:33.067Z"
   },
   {
    "duration": 10,
    "start_time": "2022-11-10T16:58:51.215Z"
   },
   {
    "duration": 11,
    "start_time": "2022-11-10T16:59:17.004Z"
   },
   {
    "duration": 7,
    "start_time": "2022-11-10T17:00:48.993Z"
   },
   {
    "duration": 8,
    "start_time": "2022-11-10T17:00:50.605Z"
   },
   {
    "duration": 11,
    "start_time": "2022-11-10T17:00:51.532Z"
   },
   {
    "duration": 22,
    "start_time": "2022-11-10T17:01:00.587Z"
   },
   {
    "duration": 29,
    "start_time": "2022-11-10T17:01:06.011Z"
   },
   {
    "duration": 24,
    "start_time": "2022-11-10T17:01:28.771Z"
   },
   {
    "duration": 23,
    "start_time": "2022-11-10T17:01:30.302Z"
   },
   {
    "duration": 4,
    "start_time": "2022-11-10T17:01:33.093Z"
   },
   {
    "duration": 24,
    "start_time": "2022-11-10T17:01:38.327Z"
   },
   {
    "duration": 8,
    "start_time": "2022-11-10T17:08:42.341Z"
   },
   {
    "duration": 103,
    "start_time": "2022-11-10T17:09:56.889Z"
   },
   {
    "duration": 10,
    "start_time": "2022-11-10T17:10:19.450Z"
   },
   {
    "duration": 10,
    "start_time": "2022-11-10T17:10:33.553Z"
   },
   {
    "duration": 14,
    "start_time": "2022-11-10T17:10:54.733Z"
   },
   {
    "duration": 24,
    "start_time": "2022-11-10T17:17:30.132Z"
   },
   {
    "duration": 15,
    "start_time": "2022-11-10T17:17:33.579Z"
   },
   {
    "duration": 10,
    "start_time": "2022-11-10T17:17:47.456Z"
   },
   {
    "duration": 17,
    "start_time": "2022-11-10T17:20:05.286Z"
   },
   {
    "duration": 23,
    "start_time": "2022-11-10T17:20:33.396Z"
   },
   {
    "duration": 28,
    "start_time": "2022-11-10T17:56:07.429Z"
   },
   {
    "duration": 20,
    "start_time": "2022-11-10T17:56:08.479Z"
   },
   {
    "duration": 9,
    "start_time": "2022-11-10T17:58:02.293Z"
   },
   {
    "duration": 15,
    "start_time": "2022-11-10T18:08:24.195Z"
   },
   {
    "duration": 13,
    "start_time": "2022-11-10T18:08:47.894Z"
   },
   {
    "duration": 21,
    "start_time": "2022-11-10T18:08:55.321Z"
   },
   {
    "duration": 11,
    "start_time": "2022-11-10T18:09:07.278Z"
   },
   {
    "duration": 86,
    "start_time": "2022-11-10T18:11:15.598Z"
   },
   {
    "duration": 27,
    "start_time": "2022-11-10T18:13:22.581Z"
   },
   {
    "duration": 25,
    "start_time": "2022-11-10T18:13:40.521Z"
   },
   {
    "duration": 23,
    "start_time": "2022-11-10T18:16:23.119Z"
   },
   {
    "duration": 15,
    "start_time": "2022-11-10T18:16:24.817Z"
   },
   {
    "duration": 28,
    "start_time": "2022-11-10T18:17:26.995Z"
   },
   {
    "duration": 24,
    "start_time": "2022-11-10T18:17:37.713Z"
   },
   {
    "duration": 11,
    "start_time": "2022-11-10T18:17:40.667Z"
   },
   {
    "duration": 25,
    "start_time": "2022-11-10T18:20:47.687Z"
   },
   {
    "duration": 16,
    "start_time": "2022-11-10T18:20:48.478Z"
   },
   {
    "duration": 62,
    "start_time": "2022-11-10T18:22:14.415Z"
   },
   {
    "duration": 74,
    "start_time": "2022-11-10T18:22:30.217Z"
   },
   {
    "duration": 73,
    "start_time": "2022-11-10T18:22:34.087Z"
   },
   {
    "duration": 24,
    "start_time": "2022-11-10T18:22:48.746Z"
   },
   {
    "duration": 13,
    "start_time": "2022-11-10T18:22:54.526Z"
   },
   {
    "duration": 24,
    "start_time": "2022-11-10T18:23:00.293Z"
   },
   {
    "duration": 14,
    "start_time": "2022-11-10T18:23:00.885Z"
   },
   {
    "duration": 28,
    "start_time": "2022-11-10T18:23:12.440Z"
   },
   {
    "duration": 14,
    "start_time": "2022-11-10T18:23:13.336Z"
   },
   {
    "duration": 24,
    "start_time": "2022-11-10T18:23:26.647Z"
   },
   {
    "duration": 12,
    "start_time": "2022-11-10T18:23:27.747Z"
   },
   {
    "duration": 17,
    "start_time": "2022-11-10T18:28:40.017Z"
   },
   {
    "duration": 14,
    "start_time": "2022-11-10T18:29:21.036Z"
   },
   {
    "duration": 5,
    "start_time": "2022-11-10T18:33:29.109Z"
   },
   {
    "duration": 228,
    "start_time": "2022-11-10T18:33:29.115Z"
   },
   {
    "duration": 4,
    "start_time": "2022-11-10T18:33:29.344Z"
   },
   {
    "duration": 15,
    "start_time": "2022-11-10T18:33:29.349Z"
   },
   {
    "duration": 16,
    "start_time": "2022-11-10T18:33:29.366Z"
   },
   {
    "duration": 15,
    "start_time": "2022-11-10T18:33:29.384Z"
   },
   {
    "duration": 1215,
    "start_time": "2022-11-10T18:35:49.638Z"
   },
   {
    "duration": 177,
    "start_time": "2022-11-10T18:35:50.855Z"
   },
   {
    "duration": 3,
    "start_time": "2022-11-10T18:35:51.034Z"
   },
   {
    "duration": 13,
    "start_time": "2022-11-10T18:35:51.039Z"
   },
   {
    "duration": 4,
    "start_time": "2022-11-10T18:35:51.053Z"
   },
   {
    "duration": 11,
    "start_time": "2022-11-10T18:35:51.058Z"
   },
   {
    "duration": 22,
    "start_time": "2022-11-10T18:35:51.071Z"
   },
   {
    "duration": 7,
    "start_time": "2022-11-10T18:35:51.095Z"
   },
   {
    "duration": 8,
    "start_time": "2022-11-10T18:35:51.104Z"
   },
   {
    "duration": 10,
    "start_time": "2022-11-10T18:35:51.114Z"
   },
   {
    "duration": 35,
    "start_time": "2022-11-10T18:35:51.126Z"
   },
   {
    "duration": 24,
    "start_time": "2022-11-10T18:35:51.163Z"
   },
   {
    "duration": 5,
    "start_time": "2022-11-10T18:35:51.188Z"
   },
   {
    "duration": 6,
    "start_time": "2022-11-10T18:35:51.194Z"
   },
   {
    "duration": 7,
    "start_time": "2022-11-10T18:35:51.202Z"
   },
   {
    "duration": 6,
    "start_time": "2022-11-10T18:35:51.254Z"
   },
   {
    "duration": 8,
    "start_time": "2022-11-10T18:35:51.262Z"
   },
   {
    "duration": 13,
    "start_time": "2022-11-10T18:35:51.271Z"
   },
   {
    "duration": 14,
    "start_time": "2022-11-10T18:35:51.286Z"
   },
   {
    "duration": 51,
    "start_time": "2022-11-10T18:35:51.302Z"
   },
   {
    "duration": 10,
    "start_time": "2022-11-10T18:35:51.355Z"
   },
   {
    "duration": 13,
    "start_time": "2022-11-10T18:35:51.367Z"
   },
   {
    "duration": 17,
    "start_time": "2022-11-10T18:35:51.381Z"
   },
   {
    "duration": 62,
    "start_time": "2022-11-10T18:35:51.400Z"
   },
   {
    "duration": 31,
    "start_time": "2022-11-10T18:35:51.464Z"
   },
   {
    "duration": 24,
    "start_time": "2022-11-10T18:35:51.496Z"
   },
   {
    "duration": 45,
    "start_time": "2022-11-10T18:35:51.522Z"
   },
   {
    "duration": 3,
    "start_time": "2022-11-10T18:35:51.570Z"
   },
   {
    "duration": 30,
    "start_time": "2022-11-10T18:35:51.574Z"
   },
   {
    "duration": 8,
    "start_time": "2022-11-10T18:35:51.605Z"
   },
   {
    "duration": 109,
    "start_time": "2022-11-10T18:35:51.653Z"
   },
   {
    "duration": 0,
    "start_time": "2022-11-10T18:35:51.764Z"
   },
   {
    "duration": 0,
    "start_time": "2022-11-10T18:35:51.765Z"
   },
   {
    "duration": 0,
    "start_time": "2022-11-10T18:35:51.766Z"
   },
   {
    "duration": 0,
    "start_time": "2022-11-10T18:35:51.767Z"
   },
   {
    "duration": 0,
    "start_time": "2022-11-10T18:35:51.769Z"
   },
   {
    "duration": 0,
    "start_time": "2022-11-10T18:35:51.770Z"
   },
   {
    "duration": 0,
    "start_time": "2022-11-10T18:35:51.771Z"
   },
   {
    "duration": 0,
    "start_time": "2022-11-10T18:35:51.772Z"
   },
   {
    "duration": 13,
    "start_time": "2022-11-10T18:36:29.304Z"
   },
   {
    "duration": 71,
    "start_time": "2022-11-10T18:36:31.217Z"
   },
   {
    "duration": 1207,
    "start_time": "2022-11-10T18:37:09.109Z"
   },
   {
    "duration": 226,
    "start_time": "2022-11-10T18:37:12.947Z"
   },
   {
    "duration": 4,
    "start_time": "2022-11-10T18:37:16.636Z"
   },
   {
    "duration": 12,
    "start_time": "2022-11-10T18:37:18.144Z"
   },
   {
    "duration": 4,
    "start_time": "2022-11-10T18:37:19.400Z"
   },
   {
    "duration": 4,
    "start_time": "2022-11-10T18:37:20.567Z"
   },
   {
    "duration": 12,
    "start_time": "2022-11-10T18:37:22.615Z"
   },
   {
    "duration": 4,
    "start_time": "2022-11-10T18:37:24.144Z"
   },
   {
    "duration": 4,
    "start_time": "2022-11-10T18:37:26.740Z"
   },
   {
    "duration": 4,
    "start_time": "2022-11-10T18:37:28.942Z"
   },
   {
    "duration": 12,
    "start_time": "2022-11-10T18:37:30.451Z"
   },
   {
    "duration": 16,
    "start_time": "2022-11-10T18:37:31.907Z"
   },
   {
    "duration": 5,
    "start_time": "2022-11-10T18:37:33.852Z"
   },
   {
    "duration": 5,
    "start_time": "2022-11-10T18:37:34.444Z"
   },
   {
    "duration": 6,
    "start_time": "2022-11-10T18:37:35.071Z"
   },
   {
    "duration": 5,
    "start_time": "2022-11-10T18:37:35.853Z"
   },
   {
    "duration": 5,
    "start_time": "2022-11-10T18:37:40.008Z"
   },
   {
    "duration": 6,
    "start_time": "2022-11-10T18:37:41.545Z"
   },
   {
    "duration": 12,
    "start_time": "2022-11-10T18:37:44.800Z"
   },
   {
    "duration": 13,
    "start_time": "2022-11-10T18:37:51.947Z"
   },
   {
    "duration": 9,
    "start_time": "2022-11-10T18:37:54.559Z"
   },
   {
    "duration": 8,
    "start_time": "2022-11-10T18:37:56.729Z"
   },
   {
    "duration": 12,
    "start_time": "2022-11-10T18:37:57.705Z"
   },
   {
    "duration": 22,
    "start_time": "2022-11-10T18:37:59.620Z"
   },
   {
    "duration": 31,
    "start_time": "2022-11-10T18:38:01.862Z"
   },
   {
    "duration": 24,
    "start_time": "2022-11-10T18:38:03.834Z"
   },
   {
    "duration": 24,
    "start_time": "2022-11-10T18:38:04.548Z"
   },
   {
    "duration": 3,
    "start_time": "2022-11-10T18:38:05.307Z"
   },
   {
    "duration": 24,
    "start_time": "2022-11-10T18:38:06.454Z"
   },
   {
    "duration": 9,
    "start_time": "2022-11-10T18:38:10.231Z"
   },
   {
    "duration": 96,
    "start_time": "2022-11-10T18:38:12.618Z"
   },
   {
    "duration": 11,
    "start_time": "2022-11-10T18:41:13.357Z"
   },
   {
    "duration": 10,
    "start_time": "2022-11-10T18:42:40.870Z"
   },
   {
    "duration": 24,
    "start_time": "2022-11-10T18:43:15.257Z"
   },
   {
    "duration": 34,
    "start_time": "2022-11-10T18:44:04.570Z"
   },
   {
    "duration": 27,
    "start_time": "2022-11-10T18:44:31.153Z"
   },
   {
    "duration": 13,
    "start_time": "2022-11-10T18:44:32.649Z"
   },
   {
    "duration": 107488,
    "start_time": "2022-11-10T18:46:39.093Z"
   },
   {
    "duration": 108653,
    "start_time": "2022-11-10T18:49:47.489Z"
   },
   {
    "duration": 1252,
    "start_time": "2022-11-11T03:30:04.473Z"
   },
   {
    "duration": 225,
    "start_time": "2022-11-11T03:30:06.124Z"
   },
   {
    "duration": 4,
    "start_time": "2022-11-11T03:30:08.428Z"
   },
   {
    "duration": 11,
    "start_time": "2022-11-11T03:30:09.138Z"
   },
   {
    "duration": 4,
    "start_time": "2022-11-11T03:30:09.790Z"
   },
   {
    "duration": 3,
    "start_time": "2022-11-11T03:30:10.280Z"
   },
   {
    "duration": 10,
    "start_time": "2022-11-11T03:30:10.777Z"
   },
   {
    "duration": 4,
    "start_time": "2022-11-11T03:30:11.713Z"
   },
   {
    "duration": 3,
    "start_time": "2022-11-11T03:30:12.592Z"
   },
   {
    "duration": 3,
    "start_time": "2022-11-11T03:30:13.596Z"
   },
   {
    "duration": 10,
    "start_time": "2022-11-11T03:30:14.586Z"
   },
   {
    "duration": 16,
    "start_time": "2022-11-11T03:30:15.722Z"
   },
   {
    "duration": 5,
    "start_time": "2022-11-11T03:30:17.376Z"
   },
   {
    "duration": 5,
    "start_time": "2022-11-11T03:30:17.901Z"
   },
   {
    "duration": 7,
    "start_time": "2022-11-11T03:30:18.448Z"
   },
   {
    "duration": 6,
    "start_time": "2022-11-11T03:30:18.981Z"
   },
   {
    "duration": 5,
    "start_time": "2022-11-11T03:30:21.366Z"
   },
   {
    "duration": 6,
    "start_time": "2022-11-11T03:30:22.438Z"
   },
   {
    "duration": 11,
    "start_time": "2022-11-11T03:30:24.845Z"
   },
   {
    "duration": 13,
    "start_time": "2022-11-11T03:30:25.986Z"
   },
   {
    "duration": 10,
    "start_time": "2022-11-11T03:30:27.027Z"
   },
   {
    "duration": 9,
    "start_time": "2022-11-11T03:30:27.614Z"
   },
   {
    "duration": 14,
    "start_time": "2022-11-11T03:30:28.144Z"
   },
   {
    "duration": 23,
    "start_time": "2022-11-11T03:30:29.346Z"
   },
   {
    "duration": 32,
    "start_time": "2022-11-11T03:30:30.493Z"
   },
   {
    "duration": 26,
    "start_time": "2022-11-11T03:30:31.619Z"
   },
   {
    "duration": 24,
    "start_time": "2022-11-11T03:30:32.076Z"
   },
   {
    "duration": 4,
    "start_time": "2022-11-11T03:30:32.487Z"
   },
   {
    "duration": 24,
    "start_time": "2022-11-11T03:30:33.156Z"
   },
   {
    "duration": 9,
    "start_time": "2022-11-11T03:30:37.364Z"
   },
   {
    "duration": 30,
    "start_time": "2022-11-11T03:30:39.156Z"
   },
   {
    "duration": 28,
    "start_time": "2022-11-11T03:30:40.680Z"
   },
   {
    "duration": 14,
    "start_time": "2022-11-11T03:30:41.388Z"
   },
   {
    "duration": 27,
    "start_time": "2022-11-11T03:31:09.871Z"
   },
   {
    "duration": 18,
    "start_time": "2022-11-11T03:33:05.477Z"
   },
   {
    "duration": 12,
    "start_time": "2022-11-11T03:33:08.827Z"
   },
   {
    "duration": 113,
    "start_time": "2022-11-11T03:34:48.138Z"
   },
   {
    "duration": 20,
    "start_time": "2022-11-11T03:35:14.669Z"
   },
   {
    "duration": 18,
    "start_time": "2022-11-11T03:35:22.295Z"
   },
   {
    "duration": 61,
    "start_time": "2022-11-11T03:35:45.664Z"
   },
   {
    "duration": 23,
    "start_time": "2022-11-11T03:35:53.299Z"
   },
   {
    "duration": 23,
    "start_time": "2022-11-11T03:36:34.423Z"
   },
   {
    "duration": 18,
    "start_time": "2022-11-11T03:37:08.268Z"
   },
   {
    "duration": 12,
    "start_time": "2022-11-11T03:37:08.786Z"
   },
   {
    "duration": 9,
    "start_time": "2022-11-11T03:37:35.151Z"
   },
   {
    "duration": 7206,
    "start_time": "2022-11-11T03:38:27.241Z"
   },
   {
    "duration": 487,
    "start_time": "2022-11-11T03:40:43.245Z"
   },
   {
    "duration": 19,
    "start_time": "2022-11-11T03:44:57.155Z"
   },
   {
    "duration": 11,
    "start_time": "2022-11-11T03:45:19.019Z"
   },
   {
    "duration": 14,
    "start_time": "2022-11-11T03:47:21.328Z"
   },
   {
    "duration": 260,
    "start_time": "2022-11-11T03:49:33.896Z"
   },
   {
    "duration": 35,
    "start_time": "2022-11-11T03:49:35.462Z"
   },
   {
    "duration": 12,
    "start_time": "2022-11-11T03:49:41.701Z"
   },
   {
    "duration": 3,
    "start_time": "2022-11-11T03:49:43.119Z"
   },
   {
    "duration": 12,
    "start_time": "2022-11-11T03:49:44.012Z"
   },
   {
    "duration": 76,
    "start_time": "2022-11-11T03:50:10.893Z"
   },
   {
    "duration": 81,
    "start_time": "2022-11-11T03:51:03.109Z"
   },
   {
    "duration": 77,
    "start_time": "2022-11-11T03:51:21.273Z"
   },
   {
    "duration": 84,
    "start_time": "2022-11-11T03:51:25.511Z"
   },
   {
    "duration": 91,
    "start_time": "2022-11-11T03:53:51.042Z"
   },
   {
    "duration": 99,
    "start_time": "2022-11-11T03:54:31.275Z"
   },
   {
    "duration": 97,
    "start_time": "2022-11-11T03:54:43.072Z"
   },
   {
    "duration": 97,
    "start_time": "2022-11-11T03:54:55.740Z"
   },
   {
    "duration": 171,
    "start_time": "2022-11-11T03:55:24.105Z"
   },
   {
    "duration": 103,
    "start_time": "2022-11-11T03:56:48.357Z"
   },
   {
    "duration": 86,
    "start_time": "2022-11-11T04:09:01.742Z"
   },
   {
    "duration": 100,
    "start_time": "2022-11-11T04:10:13.205Z"
   },
   {
    "duration": 85,
    "start_time": "2022-11-11T04:31:37.685Z"
   },
   {
    "duration": 207,
    "start_time": "2022-11-11T04:32:30.925Z"
   },
   {
    "duration": 100,
    "start_time": "2022-11-11T04:32:44.945Z"
   },
   {
    "duration": 47,
    "start_time": "2022-11-11T04:33:31.821Z"
   },
   {
    "duration": 6,
    "start_time": "2022-11-11T04:33:35.928Z"
   },
   {
    "duration": 1168,
    "start_time": "2022-11-11T04:33:45.700Z"
   },
   {
    "duration": 230,
    "start_time": "2022-11-11T04:33:46.870Z"
   },
   {
    "duration": 3,
    "start_time": "2022-11-11T04:33:47.102Z"
   },
   {
    "duration": 15,
    "start_time": "2022-11-11T04:33:47.107Z"
   },
   {
    "duration": 4,
    "start_time": "2022-11-11T04:33:47.123Z"
   },
   {
    "duration": 11,
    "start_time": "2022-11-11T04:33:47.129Z"
   },
   {
    "duration": 26,
    "start_time": "2022-11-11T04:33:47.141Z"
   },
   {
    "duration": 7,
    "start_time": "2022-11-11T04:33:47.168Z"
   },
   {
    "duration": 7,
    "start_time": "2022-11-11T04:33:47.177Z"
   },
   {
    "duration": 8,
    "start_time": "2022-11-11T04:33:47.186Z"
   },
   {
    "duration": 14,
    "start_time": "2022-11-11T04:33:47.195Z"
   },
   {
    "duration": 40,
    "start_time": "2022-11-11T04:33:47.211Z"
   },
   {
    "duration": 5,
    "start_time": "2022-11-11T04:33:47.253Z"
   },
   {
    "duration": 14,
    "start_time": "2022-11-11T04:33:47.260Z"
   },
   {
    "duration": 17,
    "start_time": "2022-11-11T04:33:47.276Z"
   },
   {
    "duration": 9,
    "start_time": "2022-11-11T04:33:47.295Z"
   },
   {
    "duration": 8,
    "start_time": "2022-11-11T04:33:47.305Z"
   },
   {
    "duration": 20,
    "start_time": "2022-11-11T04:33:47.314Z"
   },
   {
    "duration": 15,
    "start_time": "2022-11-11T04:33:47.335Z"
   },
   {
    "duration": 12,
    "start_time": "2022-11-11T04:33:47.352Z"
   },
   {
    "duration": 8,
    "start_time": "2022-11-11T04:33:47.366Z"
   },
   {
    "duration": 10,
    "start_time": "2022-11-11T04:33:47.376Z"
   },
   {
    "duration": 15,
    "start_time": "2022-11-11T04:33:47.388Z"
   },
   {
    "duration": 49,
    "start_time": "2022-11-11T04:33:47.404Z"
   },
   {
    "duration": 30,
    "start_time": "2022-11-11T04:33:47.455Z"
   },
   {
    "duration": 22,
    "start_time": "2022-11-11T04:33:47.486Z"
   },
   {
    "duration": 39,
    "start_time": "2022-11-11T04:33:47.510Z"
   },
   {
    "duration": 3,
    "start_time": "2022-11-11T04:33:47.552Z"
   },
   {
    "duration": 32,
    "start_time": "2022-11-11T04:33:47.557Z"
   },
   {
    "duration": 8,
    "start_time": "2022-11-11T04:33:47.591Z"
   },
   {
    "duration": 49,
    "start_time": "2022-11-11T04:33:47.601Z"
   },
   {
    "duration": 118,
    "start_time": "2022-11-11T04:33:47.652Z"
   },
   {
    "duration": 108,
    "start_time": "2022-11-11T04:33:47.772Z"
   },
   {
    "duration": 45,
    "start_time": "2022-11-11T04:34:12.839Z"
   },
   {
    "duration": 1161,
    "start_time": "2022-11-11T04:34:32.173Z"
   },
   {
    "duration": 123,
    "start_time": "2022-11-11T04:34:33.685Z"
   },
   {
    "duration": 3,
    "start_time": "2022-11-11T04:34:36.890Z"
   },
   {
    "duration": 11,
    "start_time": "2022-11-11T04:34:38.499Z"
   },
   {
    "duration": 4,
    "start_time": "2022-11-11T04:34:39.207Z"
   },
   {
    "duration": 4,
    "start_time": "2022-11-11T04:34:39.665Z"
   },
   {
    "duration": 10,
    "start_time": "2022-11-11T04:34:39.987Z"
   },
   {
    "duration": 4,
    "start_time": "2022-11-11T04:34:40.573Z"
   },
   {
    "duration": 4,
    "start_time": "2022-11-11T04:34:41.247Z"
   },
   {
    "duration": 4,
    "start_time": "2022-11-11T04:34:41.764Z"
   },
   {
    "duration": 11,
    "start_time": "2022-11-11T04:34:42.246Z"
   },
   {
    "duration": 16,
    "start_time": "2022-11-11T04:34:42.762Z"
   },
   {
    "duration": 5,
    "start_time": "2022-11-11T04:34:43.632Z"
   },
   {
    "duration": 6,
    "start_time": "2022-11-11T04:34:43.910Z"
   },
   {
    "duration": 6,
    "start_time": "2022-11-11T04:34:44.144Z"
   },
   {
    "duration": 12,
    "start_time": "2022-11-11T04:34:44.401Z"
   },
   {
    "duration": 5,
    "start_time": "2022-11-11T04:34:46.069Z"
   },
   {
    "duration": 6,
    "start_time": "2022-11-11T04:34:46.745Z"
   },
   {
    "duration": 13,
    "start_time": "2022-11-11T04:34:48.506Z"
   },
   {
    "duration": 12,
    "start_time": "2022-11-11T04:34:49.427Z"
   },
   {
    "duration": 8,
    "start_time": "2022-11-11T04:34:50.096Z"
   },
   {
    "duration": 9,
    "start_time": "2022-11-11T04:34:50.479Z"
   },
   {
    "duration": 14,
    "start_time": "2022-11-11T04:34:50.787Z"
   },
   {
    "duration": 25,
    "start_time": "2022-11-11T04:34:51.658Z"
   },
   {
    "duration": 31,
    "start_time": "2022-11-11T04:34:52.498Z"
   },
   {
    "duration": 27,
    "start_time": "2022-11-11T04:34:53.464Z"
   },
   {
    "duration": 25,
    "start_time": "2022-11-11T04:34:53.818Z"
   },
   {
    "duration": 4,
    "start_time": "2022-11-11T04:34:54.153Z"
   },
   {
    "duration": 26,
    "start_time": "2022-11-11T04:34:54.876Z"
   },
   {
    "duration": 8,
    "start_time": "2022-11-11T04:34:55.866Z"
   },
   {
    "duration": 34,
    "start_time": "2022-11-11T04:34:57.418Z"
   },
   {
    "duration": 104,
    "start_time": "2022-11-11T04:34:58.894Z"
   },
   {
    "duration": 109,
    "start_time": "2022-11-11T04:35:02.974Z"
   },
   {
    "duration": 52,
    "start_time": "2022-11-11T04:35:25.116Z"
   },
   {
    "duration": 56,
    "start_time": "2022-11-11T04:36:05.196Z"
   },
   {
    "duration": 48,
    "start_time": "2022-11-11T04:37:07.891Z"
   },
   {
    "duration": 4,
    "start_time": "2022-11-11T04:37:25.598Z"
   },
   {
    "duration": 1558,
    "start_time": "2022-11-11T08:40:35.295Z"
   },
   {
    "duration": 264,
    "start_time": "2022-11-11T08:40:36.874Z"
   },
   {
    "duration": 4,
    "start_time": "2022-11-11T08:40:39.113Z"
   },
   {
    "duration": 11,
    "start_time": "2022-11-11T08:40:39.837Z"
   },
   {
    "duration": 5,
    "start_time": "2022-11-11T08:40:40.682Z"
   },
   {
    "duration": 4,
    "start_time": "2022-11-11T08:40:41.407Z"
   },
   {
    "duration": 12,
    "start_time": "2022-11-11T08:40:41.915Z"
   },
   {
    "duration": 4,
    "start_time": "2022-11-11T08:40:42.831Z"
   },
   {
    "duration": 4,
    "start_time": "2022-11-11T08:40:43.895Z"
   },
   {
    "duration": 3,
    "start_time": "2022-11-11T08:40:44.849Z"
   },
   {
    "duration": 11,
    "start_time": "2022-11-11T08:40:45.865Z"
   },
   {
    "duration": 16,
    "start_time": "2022-11-11T08:40:47.010Z"
   },
   {
    "duration": 4,
    "start_time": "2022-11-11T08:40:48.405Z"
   },
   {
    "duration": 5,
    "start_time": "2022-11-11T08:40:48.905Z"
   },
   {
    "duration": 7,
    "start_time": "2022-11-11T08:40:49.359Z"
   },
   {
    "duration": 7,
    "start_time": "2022-11-11T08:40:49.976Z"
   },
   {
    "duration": 5,
    "start_time": "2022-11-11T08:40:52.785Z"
   },
   {
    "duration": 6,
    "start_time": "2022-11-11T08:40:53.933Z"
   },
   {
    "duration": 14,
    "start_time": "2022-11-11T08:40:56.088Z"
   },
   {
    "duration": 14,
    "start_time": "2022-11-11T08:40:57.243Z"
   },
   {
    "duration": 9,
    "start_time": "2022-11-11T08:40:58.421Z"
   },
   {
    "duration": 16,
    "start_time": "2022-11-11T08:40:58.773Z"
   },
   {
    "duration": 15,
    "start_time": "2022-11-11T08:40:59.120Z"
   },
   {
    "duration": 26,
    "start_time": "2022-11-11T08:41:00.261Z"
   },
   {
    "duration": 53,
    "start_time": "2022-11-11T08:41:01.801Z"
   },
   {
    "duration": 28,
    "start_time": "2022-11-11T08:41:03.363Z"
   },
   {
    "duration": 24,
    "start_time": "2022-11-11T08:41:04.087Z"
   },
   {
    "duration": 4,
    "start_time": "2022-11-11T08:41:05.756Z"
   },
   {
    "duration": 35,
    "start_time": "2022-11-11T08:41:07.527Z"
   },
   {
    "duration": 10,
    "start_time": "2022-11-11T08:41:11.115Z"
   },
   {
    "duration": 35,
    "start_time": "2022-11-11T08:41:15.773Z"
   },
   {
    "duration": 110,
    "start_time": "2022-11-11T08:41:21.323Z"
   },
   {
    "duration": 127,
    "start_time": "2022-11-11T08:41:30.615Z"
   },
   {
    "duration": 86,
    "start_time": "2022-11-11T08:42:28.899Z"
   },
   {
    "duration": 351,
    "start_time": "2022-11-11T08:43:06.253Z"
   },
   {
    "duration": 18,
    "start_time": "2022-11-11T08:43:16.389Z"
   },
   {
    "duration": 382,
    "start_time": "2022-11-11T08:43:39.648Z"
   },
   {
    "duration": 7,
    "start_time": "2022-11-11T08:44:21.796Z"
   },
   {
    "duration": 9,
    "start_time": "2022-11-11T08:45:25.742Z"
   },
   {
    "duration": 9,
    "start_time": "2022-11-11T08:45:58.635Z"
   },
   {
    "duration": 98,
    "start_time": "2022-11-11T08:46:04.252Z"
   },
   {
    "duration": 4,
    "start_time": "2022-11-11T08:46:30.504Z"
   },
   {
    "duration": 7,
    "start_time": "2022-11-11T08:46:33.004Z"
   },
   {
    "duration": 6,
    "start_time": "2022-11-11T08:46:42.570Z"
   },
   {
    "duration": 11,
    "start_time": "2022-11-11T08:46:46.458Z"
   },
   {
    "duration": 10,
    "start_time": "2022-11-11T08:46:47.381Z"
   },
   {
    "duration": 95,
    "start_time": "2022-11-11T08:46:48.697Z"
   },
   {
    "duration": 97,
    "start_time": "2022-11-11T08:48:06.773Z"
   },
   {
    "duration": 15,
    "start_time": "2022-11-11T08:51:56.442Z"
   },
   {
    "duration": 177,
    "start_time": "2022-11-11T09:48:37.354Z"
   },
   {
    "duration": 8,
    "start_time": "2022-11-11T09:51:25.635Z"
   },
   {
    "duration": 12,
    "start_time": "2022-11-11T09:52:23.375Z"
   },
   {
    "duration": 156,
    "start_time": "2022-11-11T09:53:30.363Z"
   },
   {
    "duration": 131,
    "start_time": "2022-11-11T09:53:39.526Z"
   },
   {
    "duration": 122,
    "start_time": "2022-11-11T09:53:57.430Z"
   },
   {
    "duration": 128,
    "start_time": "2022-11-11T09:54:11.084Z"
   },
   {
    "duration": 111,
    "start_time": "2022-11-11T09:54:39.734Z"
   },
   {
    "duration": 111,
    "start_time": "2022-11-11T09:54:41.420Z"
   },
   {
    "duration": 7,
    "start_time": "2022-11-11T09:57:40.903Z"
   },
   {
    "duration": 7,
    "start_time": "2022-11-11T09:57:58.161Z"
   },
   {
    "duration": 117,
    "start_time": "2022-11-11T09:59:20.945Z"
   },
   {
    "duration": 3,
    "start_time": "2022-11-11T10:00:01.756Z"
   },
   {
    "duration": 107,
    "start_time": "2022-11-11T10:00:13.454Z"
   },
   {
    "duration": 136,
    "start_time": "2022-11-11T10:00:26.338Z"
   },
   {
    "duration": 113,
    "start_time": "2022-11-11T10:00:55.578Z"
   },
   {
    "duration": 10,
    "start_time": "2022-11-11T10:05:33.603Z"
   },
   {
    "duration": 17,
    "start_time": "2022-11-11T10:07:13.760Z"
   },
   {
    "duration": 6,
    "start_time": "2022-11-11T10:07:36.955Z"
   },
   {
    "duration": 16,
    "start_time": "2022-11-11T10:09:02.232Z"
   },
   {
    "duration": 5,
    "start_time": "2022-11-11T10:09:05.827Z"
   },
   {
    "duration": 21,
    "start_time": "2022-11-11T10:09:31.078Z"
   },
   {
    "duration": 17,
    "start_time": "2022-11-11T10:10:56.430Z"
   },
   {
    "duration": 5,
    "start_time": "2022-11-11T10:10:57.185Z"
   },
   {
    "duration": 9,
    "start_time": "2022-11-11T10:11:05.684Z"
   },
   {
    "duration": 14,
    "start_time": "2022-11-11T10:12:04.637Z"
   },
   {
    "duration": 19,
    "start_time": "2022-11-11T10:12:40.437Z"
   },
   {
    "duration": 13,
    "start_time": "2022-11-11T10:12:41.161Z"
   },
   {
    "duration": 26,
    "start_time": "2022-11-11T10:12:53.758Z"
   },
   {
    "duration": 106,
    "start_time": "2022-11-11T10:13:28.971Z"
   },
   {
    "duration": 11,
    "start_time": "2022-11-11T10:50:51.784Z"
   },
   {
    "duration": 21,
    "start_time": "2022-11-11T10:51:00.387Z"
   },
   {
    "duration": 15,
    "start_time": "2022-11-11T10:52:17.629Z"
   },
   {
    "duration": 10,
    "start_time": "2022-11-11T10:52:42.721Z"
   },
   {
    "duration": 11,
    "start_time": "2022-11-11T10:53:19.274Z"
   },
   {
    "duration": 13,
    "start_time": "2022-11-11T10:53:37.589Z"
   },
   {
    "duration": 13,
    "start_time": "2022-11-11T10:53:54.023Z"
   },
   {
    "duration": 13,
    "start_time": "2022-11-11T10:55:07.613Z"
   },
   {
    "duration": 14,
    "start_time": "2022-11-11T10:55:54.127Z"
   },
   {
    "duration": 428,
    "start_time": "2022-11-11T10:58:37.928Z"
   },
   {
    "duration": 255,
    "start_time": "2022-11-11T10:59:54.764Z"
   },
   {
    "duration": 260,
    "start_time": "2022-11-11T11:00:42.037Z"
   },
   {
    "duration": 6,
    "start_time": "2022-11-11T11:04:51.903Z"
   },
   {
    "duration": 258,
    "start_time": "2022-11-11T11:05:11.357Z"
   },
   {
    "duration": 5,
    "start_time": "2022-11-11T12:27:17.238Z"
   },
   {
    "duration": 214,
    "start_time": "2022-11-11T12:27:24.582Z"
   },
   {
    "duration": 3,
    "start_time": "2022-11-11T12:27:33.868Z"
   },
   {
    "duration": 7,
    "start_time": "2022-11-11T12:27:35.685Z"
   },
   {
    "duration": 4,
    "start_time": "2022-11-11T12:27:39.466Z"
   },
   {
    "duration": 4,
    "start_time": "2022-11-11T12:27:40.066Z"
   },
   {
    "duration": 12,
    "start_time": "2022-11-11T12:27:41.038Z"
   },
   {
    "duration": 5,
    "start_time": "2022-11-11T12:27:44.700Z"
   },
   {
    "duration": 4,
    "start_time": "2022-11-11T12:27:48.982Z"
   },
   {
    "duration": 3,
    "start_time": "2022-11-11T12:27:54.348Z"
   },
   {
    "duration": 11,
    "start_time": "2022-11-11T12:27:55.650Z"
   },
   {
    "duration": 17,
    "start_time": "2022-11-11T12:27:59.607Z"
   },
   {
    "duration": 5,
    "start_time": "2022-11-11T12:28:18.069Z"
   },
   {
    "duration": 5,
    "start_time": "2022-11-11T12:28:19.932Z"
   },
   {
    "duration": 7,
    "start_time": "2022-11-11T12:28:21.217Z"
   },
   {
    "duration": 7,
    "start_time": "2022-11-11T12:28:22.128Z"
   },
   {
    "duration": 5,
    "start_time": "2022-11-11T12:28:35.946Z"
   },
   {
    "duration": 1161,
    "start_time": "2022-11-11T12:28:52.855Z"
   },
   {
    "duration": 142,
    "start_time": "2022-11-11T12:28:54.018Z"
   },
   {
    "duration": 4,
    "start_time": "2022-11-11T12:28:55.622Z"
   },
   {
    "duration": 13,
    "start_time": "2022-11-11T12:28:56.493Z"
   },
   {
    "duration": 4,
    "start_time": "2022-11-11T12:28:57.015Z"
   },
   {
    "duration": 4,
    "start_time": "2022-11-11T12:28:57.647Z"
   },
   {
    "duration": 10,
    "start_time": "2022-11-11T12:28:58.280Z"
   },
   {
    "duration": 4,
    "start_time": "2022-11-11T12:28:59.595Z"
   },
   {
    "duration": 4,
    "start_time": "2022-11-11T12:29:01.035Z"
   },
   {
    "duration": 4,
    "start_time": "2022-11-11T12:29:02.858Z"
   },
   {
    "duration": 11,
    "start_time": "2022-11-11T12:29:04.890Z"
   },
   {
    "duration": 21,
    "start_time": "2022-11-11T12:29:06.354Z"
   },
   {
    "duration": 5,
    "start_time": "2022-11-11T12:29:18.073Z"
   },
   {
    "duration": 5,
    "start_time": "2022-11-11T12:29:32.053Z"
   },
   {
    "duration": 7,
    "start_time": "2022-11-11T12:29:37.073Z"
   },
   {
    "duration": 7,
    "start_time": "2022-11-11T12:29:38.428Z"
   },
   {
    "duration": 5,
    "start_time": "2022-11-11T12:29:48.252Z"
   },
   {
    "duration": 7,
    "start_time": "2022-11-11T12:30:19.644Z"
   },
   {
    "duration": 13,
    "start_time": "2022-11-11T12:30:26.821Z"
   },
   {
    "duration": 13,
    "start_time": "2022-11-11T12:32:13.772Z"
   },
   {
    "duration": 15,
    "start_time": "2022-11-11T12:32:50.759Z"
   },
   {
    "duration": 11,
    "start_time": "2022-11-11T12:33:17.802Z"
   },
   {
    "duration": 9,
    "start_time": "2022-11-11T12:33:19.712Z"
   },
   {
    "duration": 13,
    "start_time": "2022-11-11T12:33:22.128Z"
   },
   {
    "duration": 5,
    "start_time": "2022-11-11T12:33:41.209Z"
   },
   {
    "duration": 24,
    "start_time": "2022-11-11T12:33:50.163Z"
   },
   {
    "duration": 31,
    "start_time": "2022-11-11T12:33:56.621Z"
   },
   {
    "duration": 25,
    "start_time": "2022-11-11T12:34:06.045Z"
   },
   {
    "duration": 23,
    "start_time": "2022-11-11T12:34:08.303Z"
   },
   {
    "duration": 5,
    "start_time": "2022-11-11T12:34:09.241Z"
   },
   {
    "duration": 24,
    "start_time": "2022-11-11T12:34:12.091Z"
   },
   {
    "duration": 32,
    "start_time": "2022-11-11T12:35:56.578Z"
   },
   {
    "duration": 125,
    "start_time": "2022-11-11T12:36:15.474Z"
   },
   {
    "duration": 115,
    "start_time": "2022-11-11T12:36:27.870Z"
   },
   {
    "duration": 6,
    "start_time": "2022-11-11T12:36:58.679Z"
   },
   {
    "duration": 15,
    "start_time": "2022-11-11T12:37:06.563Z"
   },
   {
    "duration": 13,
    "start_time": "2022-11-11T12:37:23.872Z"
   },
   {
    "duration": 13,
    "start_time": "2022-11-11T12:37:48.032Z"
   },
   {
    "duration": 330,
    "start_time": "2022-11-11T12:37:59.472Z"
   },
   {
    "duration": 7,
    "start_time": "2022-11-11T12:38:30.350Z"
   },
   {
    "duration": 268,
    "start_time": "2022-11-11T12:38:35.093Z"
   },
   {
    "duration": 289,
    "start_time": "2022-11-11T12:39:08.235Z"
   },
   {
    "duration": 375,
    "start_time": "2022-11-11T12:39:26.430Z"
   },
   {
    "duration": 6,
    "start_time": "2022-11-11T13:00:28.960Z"
   },
   {
    "duration": 8,
    "start_time": "2022-11-11T13:00:29.533Z"
   },
   {
    "duration": 11,
    "start_time": "2022-11-11T13:00:30.136Z"
   },
   {
    "duration": 94,
    "start_time": "2022-11-11T13:00:33.965Z"
   },
   {
    "duration": 14,
    "start_time": "2022-11-11T13:09:23.780Z"
   },
   {
    "duration": 35,
    "start_time": "2022-11-11T13:09:44.811Z"
   },
   {
    "duration": 22,
    "start_time": "2022-11-11T13:11:10.672Z"
   },
   {
    "duration": 1550,
    "start_time": "2022-11-12T16:12:41.927Z"
   },
   {
    "duration": 277,
    "start_time": "2022-11-12T16:12:43.480Z"
   },
   {
    "duration": 6,
    "start_time": "2022-11-12T16:12:49.274Z"
   },
   {
    "duration": 21,
    "start_time": "2022-11-12T16:12:49.921Z"
   },
   {
    "duration": 5,
    "start_time": "2022-11-12T16:12:50.536Z"
   },
   {
    "duration": 4,
    "start_time": "2022-11-12T16:12:51.254Z"
   },
   {
    "duration": 13,
    "start_time": "2022-11-12T16:12:52.005Z"
   },
   {
    "duration": 5,
    "start_time": "2022-11-12T16:12:53.376Z"
   },
   {
    "duration": 4,
    "start_time": "2022-11-12T16:12:54.847Z"
   },
   {
    "duration": 4,
    "start_time": "2022-11-12T16:12:55.949Z"
   },
   {
    "duration": 12,
    "start_time": "2022-11-12T16:12:57.129Z"
   },
   {
    "duration": 19,
    "start_time": "2022-11-12T16:12:57.958Z"
   },
   {
    "duration": 5,
    "start_time": "2022-11-12T16:12:59.018Z"
   },
   {
    "duration": 5,
    "start_time": "2022-11-12T16:12:59.701Z"
   },
   {
    "duration": 8,
    "start_time": "2022-11-12T16:13:00.411Z"
   },
   {
    "duration": 12,
    "start_time": "2022-11-12T16:13:01.507Z"
   },
   {
    "duration": 6,
    "start_time": "2022-11-12T16:13:03.455Z"
   },
   {
    "duration": 6,
    "start_time": "2022-11-12T16:13:07.079Z"
   },
   {
    "duration": 16,
    "start_time": "2022-11-12T16:13:10.597Z"
   },
   {
    "duration": 16,
    "start_time": "2022-11-12T16:13:12.685Z"
   },
   {
    "duration": 9,
    "start_time": "2022-11-12T16:13:42.412Z"
   },
   {
    "duration": 11,
    "start_time": "2022-11-12T16:13:42.908Z"
   },
   {
    "duration": 19,
    "start_time": "2022-11-12T16:13:43.509Z"
   },
   {
    "duration": 5,
    "start_time": "2022-11-12T16:13:46.141Z"
   },
   {
    "duration": 25,
    "start_time": "2022-11-12T16:13:46.822Z"
   },
   {
    "duration": 35,
    "start_time": "2022-11-12T16:13:50.955Z"
   },
   {
    "duration": 29,
    "start_time": "2022-11-12T16:13:54.074Z"
   },
   {
    "duration": 27,
    "start_time": "2022-11-12T16:13:54.497Z"
   },
   {
    "duration": 4,
    "start_time": "2022-11-12T16:13:55.162Z"
   },
   {
    "duration": 27,
    "start_time": "2022-11-12T16:13:57.669Z"
   },
   {
    "duration": 35,
    "start_time": "2022-11-12T16:14:09.551Z"
   },
   {
    "duration": 136,
    "start_time": "2022-11-12T16:14:12.970Z"
   },
   {
    "duration": 128,
    "start_time": "2022-11-12T16:14:15.142Z"
   },
   {
    "duration": 7,
    "start_time": "2022-11-12T16:14:33.204Z"
   },
   {
    "duration": 15,
    "start_time": "2022-11-12T16:14:34.409Z"
   },
   {
    "duration": 395,
    "start_time": "2022-11-12T16:14:47.663Z"
   },
   {
    "duration": 8,
    "start_time": "2022-11-12T16:15:03.460Z"
   },
   {
    "duration": 306,
    "start_time": "2022-11-12T16:15:05.228Z"
   },
   {
    "duration": 8,
    "start_time": "2022-11-12T16:15:18.240Z"
   },
   {
    "duration": 10,
    "start_time": "2022-11-12T16:15:18.721Z"
   },
   {
    "duration": 11,
    "start_time": "2022-11-12T16:15:19.323Z"
   },
   {
    "duration": 104,
    "start_time": "2022-11-12T16:15:20.064Z"
   },
   {
    "duration": 14,
    "start_time": "2022-11-12T16:15:45.197Z"
   },
   {
    "duration": 37,
    "start_time": "2022-11-12T16:15:46.488Z"
   },
   {
    "duration": 180,
    "start_time": "2022-11-12T16:17:26.953Z"
   },
   {
    "duration": 118,
    "start_time": "2022-11-12T16:17:32.562Z"
   },
   {
    "duration": 111,
    "start_time": "2022-11-12T16:17:42.470Z"
   },
   {
    "duration": 94,
    "start_time": "2022-11-12T16:18:45.454Z"
   },
   {
    "duration": 10,
    "start_time": "2022-11-12T16:19:40.454Z"
   },
   {
    "duration": 10,
    "start_time": "2022-11-12T16:20:14.835Z"
   },
   {
    "duration": 77,
    "start_time": "2022-11-12T16:20:24.457Z"
   },
   {
    "duration": 148,
    "start_time": "2022-11-12T16:20:31.971Z"
   },
   {
    "duration": 775,
    "start_time": "2022-11-12T16:26:28.347Z"
   },
   {
    "duration": 151,
    "start_time": "2022-11-12T16:36:53.998Z"
   },
   {
    "duration": 5,
    "start_time": "2022-11-12T16:37:51.052Z"
   },
   {
    "duration": 162,
    "start_time": "2022-11-12T16:37:59.461Z"
   },
   {
    "duration": 114,
    "start_time": "2022-11-12T16:38:45.700Z"
   },
   {
    "duration": 169,
    "start_time": "2022-11-12T16:39:17.294Z"
   },
   {
    "duration": 14,
    "start_time": "2022-11-12T16:41:03.908Z"
   },
   {
    "duration": 149,
    "start_time": "2022-11-12T16:41:14.973Z"
   },
   {
    "duration": 156,
    "start_time": "2022-11-12T16:41:25.669Z"
   },
   {
    "duration": 207,
    "start_time": "2022-11-12T16:41:57.406Z"
   },
   {
    "duration": 162,
    "start_time": "2022-11-12T16:45:09.397Z"
   },
   {
    "duration": 119,
    "start_time": "2022-11-12T16:47:08.468Z"
   },
   {
    "duration": 368,
    "start_time": "2022-11-12T16:47:38.825Z"
   },
   {
    "duration": 364,
    "start_time": "2022-11-12T16:48:44.445Z"
   },
   {
    "duration": 254,
    "start_time": "2022-11-12T16:53:08.857Z"
   },
   {
    "duration": 168,
    "start_time": "2022-11-12T16:55:08.103Z"
   },
   {
    "duration": 271,
    "start_time": "2022-11-12T16:55:53.745Z"
   },
   {
    "duration": 148,
    "start_time": "2022-11-12T16:56:04.296Z"
   },
   {
    "duration": 254,
    "start_time": "2022-11-12T16:56:33.694Z"
   },
   {
    "duration": 159,
    "start_time": "2022-11-12T16:56:46.618Z"
   },
   {
    "duration": 176,
    "start_time": "2022-11-12T16:56:53.649Z"
   },
   {
    "duration": 164,
    "start_time": "2022-11-12T16:57:00.364Z"
   },
   {
    "duration": 206,
    "start_time": "2022-11-12T16:57:14.699Z"
   },
   {
    "duration": 150,
    "start_time": "2022-11-12T16:57:42.108Z"
   },
   {
    "duration": 212,
    "start_time": "2022-11-12T16:58:16.863Z"
   },
   {
    "duration": 11,
    "start_time": "2022-11-12T17:00:24.535Z"
   },
   {
    "duration": 16,
    "start_time": "2022-11-12T17:01:24.048Z"
   },
   {
    "duration": 21,
    "start_time": "2022-11-12T17:01:26.909Z"
   },
   {
    "duration": 19,
    "start_time": "2022-11-12T17:01:56.203Z"
   },
   {
    "duration": 10,
    "start_time": "2022-11-12T17:02:23.098Z"
   },
   {
    "duration": 73,
    "start_time": "2022-11-12T17:02:24.510Z"
   },
   {
    "duration": 119,
    "start_time": "2022-11-12T17:04:11.312Z"
   },
   {
    "duration": 16,
    "start_time": "2022-11-12T17:26:51.877Z"
   },
   {
    "duration": 6,
    "start_time": "2022-11-12T17:27:50.281Z"
   },
   {
    "duration": 5,
    "start_time": "2022-11-12T17:28:17.454Z"
   },
   {
    "duration": 14,
    "start_time": "2022-11-12T17:30:43.794Z"
   },
   {
    "duration": 11,
    "start_time": "2022-11-12T17:31:18.995Z"
   },
   {
    "duration": 12,
    "start_time": "2022-11-12T17:31:47.498Z"
   },
   {
    "duration": 5,
    "start_time": "2022-11-12T17:33:17.564Z"
   },
   {
    "duration": 10,
    "start_time": "2022-11-12T17:33:19.195Z"
   },
   {
    "duration": 12,
    "start_time": "2022-11-12T17:33:20.194Z"
   },
   {
    "duration": 15,
    "start_time": "2022-11-12T17:33:42.495Z"
   },
   {
    "duration": 5,
    "start_time": "2022-11-12T17:34:42.847Z"
   },
   {
    "duration": 14,
    "start_time": "2022-11-12T17:34:44.094Z"
   },
   {
    "duration": 67,
    "start_time": "2022-11-12T17:34:44.880Z"
   },
   {
    "duration": 63,
    "start_time": "2022-11-12T17:35:58.771Z"
   },
   {
    "duration": 70,
    "start_time": "2022-11-12T17:36:51.401Z"
   },
   {
    "duration": 5,
    "start_time": "2022-11-12T17:37:17.566Z"
   },
   {
    "duration": 11,
    "start_time": "2022-11-12T17:37:18.518Z"
   },
   {
    "duration": 65,
    "start_time": "2022-11-12T17:37:19.373Z"
   },
   {
    "duration": 66,
    "start_time": "2022-11-12T17:38:20.494Z"
   },
   {
    "duration": 72,
    "start_time": "2022-11-12T17:48:01.220Z"
   },
   {
    "duration": 67,
    "start_time": "2022-11-12T17:48:56.992Z"
   },
   {
    "duration": 4,
    "start_time": "2022-11-12T18:15:43.642Z"
   },
   {
    "duration": 11,
    "start_time": "2022-11-12T18:15:45.708Z"
   },
   {
    "duration": 15,
    "start_time": "2022-11-12T18:15:59.441Z"
   },
   {
    "duration": 13,
    "start_time": "2022-11-12T18:16:32.806Z"
   },
   {
    "duration": 4,
    "start_time": "2022-11-12T18:16:36.933Z"
   },
   {
    "duration": 16,
    "start_time": "2022-11-12T18:16:37.376Z"
   },
   {
    "duration": 11,
    "start_time": "2022-11-12T18:16:37.895Z"
   },
   {
    "duration": 4,
    "start_time": "2022-11-12T18:17:32.129Z"
   },
   {
    "duration": 13,
    "start_time": "2022-11-12T18:17:32.754Z"
   },
   {
    "duration": 14,
    "start_time": "2022-11-12T18:17:33.559Z"
   },
   {
    "duration": 14,
    "start_time": "2022-11-12T18:17:43.910Z"
   },
   {
    "duration": 4,
    "start_time": "2022-11-12T18:18:22.152Z"
   },
   {
    "duration": 12,
    "start_time": "2022-11-12T18:18:22.889Z"
   },
   {
    "duration": 72,
    "start_time": "2022-11-12T18:18:23.390Z"
   },
   {
    "duration": 77,
    "start_time": "2022-11-12T18:19:19.973Z"
   },
   {
    "duration": 77,
    "start_time": "2022-11-12T18:20:35.802Z"
   },
   {
    "duration": 79,
    "start_time": "2022-11-12T18:21:23.131Z"
   },
   {
    "duration": 79,
    "start_time": "2022-11-12T18:22:28.767Z"
   },
   {
    "duration": 180,
    "start_time": "2022-11-12T18:24:26.777Z"
   },
   {
    "duration": 104,
    "start_time": "2022-11-12T18:27:40.818Z"
   },
   {
    "duration": 105,
    "start_time": "2022-11-12T18:29:46.007Z"
   },
   {
    "duration": 1414,
    "start_time": "2022-11-13T03:29:44.680Z"
   },
   {
    "duration": 226,
    "start_time": "2022-11-13T03:29:46.096Z"
   },
   {
    "duration": 4,
    "start_time": "2022-11-13T03:29:46.361Z"
   },
   {
    "duration": 11,
    "start_time": "2022-11-13T03:29:46.602Z"
   },
   {
    "duration": 4,
    "start_time": "2022-11-13T03:29:46.811Z"
   },
   {
    "duration": 4,
    "start_time": "2022-11-13T03:29:47.096Z"
   },
   {
    "duration": 11,
    "start_time": "2022-11-13T03:29:47.339Z"
   },
   {
    "duration": 4,
    "start_time": "2022-11-13T03:29:47.886Z"
   },
   {
    "duration": 4,
    "start_time": "2022-11-13T03:29:48.703Z"
   },
   {
    "duration": 3,
    "start_time": "2022-11-13T03:29:49.326Z"
   },
   {
    "duration": 12,
    "start_time": "2022-11-13T03:29:49.925Z"
   },
   {
    "duration": 18,
    "start_time": "2022-11-13T03:29:50.489Z"
   },
   {
    "duration": 5,
    "start_time": "2022-11-13T03:29:51.116Z"
   },
   {
    "duration": 5,
    "start_time": "2022-11-13T03:29:51.475Z"
   },
   {
    "duration": 7,
    "start_time": "2022-11-13T03:29:51.790Z"
   },
   {
    "duration": 7,
    "start_time": "2022-11-13T03:29:52.135Z"
   },
   {
    "duration": 5,
    "start_time": "2022-11-13T03:29:53.000Z"
   },
   {
    "duration": 6,
    "start_time": "2022-11-13T03:29:56.140Z"
   },
   {
    "duration": 12,
    "start_time": "2022-11-13T03:29:57.386Z"
   },
   {
    "duration": 13,
    "start_time": "2022-11-13T03:29:58.493Z"
   },
   {
    "duration": 8,
    "start_time": "2022-11-13T03:29:59.426Z"
   },
   {
    "duration": 9,
    "start_time": "2022-11-13T03:29:59.758Z"
   },
   {
    "duration": 14,
    "start_time": "2022-11-13T03:30:00.104Z"
   },
   {
    "duration": 5,
    "start_time": "2022-11-13T03:30:00.424Z"
   },
   {
    "duration": 24,
    "start_time": "2022-11-13T03:30:00.682Z"
   },
   {
    "duration": 32,
    "start_time": "2022-11-13T03:30:01.459Z"
   },
   {
    "duration": 27,
    "start_time": "2022-11-13T03:30:01.949Z"
   },
   {
    "duration": 24,
    "start_time": "2022-11-13T03:30:02.263Z"
   },
   {
    "duration": 5,
    "start_time": "2022-11-13T03:30:02.545Z"
   },
   {
    "duration": 27,
    "start_time": "2022-11-13T03:30:02.789Z"
   },
   {
    "duration": 35,
    "start_time": "2022-11-13T03:30:03.342Z"
   },
   {
    "duration": 124,
    "start_time": "2022-11-13T03:30:03.905Z"
   },
   {
    "duration": 111,
    "start_time": "2022-11-13T03:30:04.497Z"
   },
   {
    "duration": 6,
    "start_time": "2022-11-13T03:30:05.448Z"
   },
   {
    "duration": 15,
    "start_time": "2022-11-13T03:30:06.433Z"
   },
   {
    "duration": 355,
    "start_time": "2022-11-13T03:30:07.297Z"
   },
   {
    "duration": 7,
    "start_time": "2022-11-13T03:30:08.262Z"
   },
   {
    "duration": 291,
    "start_time": "2022-11-13T03:30:08.742Z"
   },
   {
    "duration": 7,
    "start_time": "2022-11-13T03:30:11.581Z"
   },
   {
    "duration": 9,
    "start_time": "2022-11-13T03:30:11.958Z"
   },
   {
    "duration": 9,
    "start_time": "2022-11-13T03:30:12.305Z"
   },
   {
    "duration": 92,
    "start_time": "2022-11-13T03:30:12.808Z"
   },
   {
    "duration": 14,
    "start_time": "2022-11-13T03:30:19.473Z"
   },
   {
    "duration": 31,
    "start_time": "2022-11-13T03:30:20.177Z"
   },
   {
    "duration": 11,
    "start_time": "2022-11-13T03:30:23.619Z"
   },
   {
    "duration": 210,
    "start_time": "2022-11-13T03:30:30.332Z"
   },
   {
    "duration": 166,
    "start_time": "2022-11-13T03:30:40.587Z"
   },
   {
    "duration": 151,
    "start_time": "2022-11-13T03:31:05.853Z"
   },
   {
    "duration": 4,
    "start_time": "2022-11-13T03:31:08.494Z"
   },
   {
    "duration": 11,
    "start_time": "2022-11-13T03:31:09.221Z"
   },
   {
    "duration": 389,
    "start_time": "2022-11-13T03:31:11.037Z"
   },
   {
    "duration": 157,
    "start_time": "2022-11-13T03:31:24.306Z"
   },
   {
    "duration": 116,
    "start_time": "2022-11-13T03:31:25.795Z"
   },
   {
    "duration": 392,
    "start_time": "2022-11-13T03:31:30.056Z"
   },
   {
    "duration": 10,
    "start_time": "2022-11-13T03:31:31.703Z"
   },
   {
    "duration": 4,
    "start_time": "2022-11-13T03:32:50.351Z"
   },
   {
    "duration": 11,
    "start_time": "2022-11-13T03:33:10.731Z"
   },
   {
    "duration": 3,
    "start_time": "2022-11-13T03:33:50.541Z"
   },
   {
    "duration": 6,
    "start_time": "2022-11-13T03:33:59.284Z"
   },
   {
    "duration": 6,
    "start_time": "2022-11-13T03:34:03.622Z"
   },
   {
    "duration": 14,
    "start_time": "2022-11-13T03:36:55.723Z"
   },
   {
    "duration": 6,
    "start_time": "2022-11-13T03:39:22.850Z"
   },
   {
    "duration": 8,
    "start_time": "2022-11-13T03:39:46.957Z"
   },
   {
    "duration": 244,
    "start_time": "2022-11-13T04:10:51.417Z"
   },
   {
    "duration": 14,
    "start_time": "2022-11-13T04:12:07.693Z"
   },
   {
    "duration": 69,
    "start_time": "2022-11-13T04:27:29.983Z"
   },
   {
    "duration": 157,
    "start_time": "2022-11-13T04:28:21.146Z"
   },
   {
    "duration": 10,
    "start_time": "2022-11-13T04:28:52.763Z"
   },
   {
    "duration": 15,
    "start_time": "2022-11-13T04:29:09.208Z"
   },
   {
    "duration": 21,
    "start_time": "2022-11-13T04:29:27.196Z"
   },
   {
    "duration": 15,
    "start_time": "2022-11-13T04:30:12.179Z"
   },
   {
    "duration": 23,
    "start_time": "2022-11-13T04:30:29.595Z"
   },
   {
    "duration": 14,
    "start_time": "2022-11-13T04:30:51.525Z"
   },
   {
    "duration": 11,
    "start_time": "2022-11-13T04:31:33.555Z"
   },
   {
    "duration": 22,
    "start_time": "2022-11-13T04:31:58.470Z"
   },
   {
    "duration": 28,
    "start_time": "2022-11-13T04:33:12.178Z"
   },
   {
    "duration": 30,
    "start_time": "2022-11-13T04:33:32.389Z"
   },
   {
    "duration": 26,
    "start_time": "2022-11-13T04:34:04.886Z"
   },
   {
    "duration": 38,
    "start_time": "2022-11-13T04:34:38.691Z"
   },
   {
    "duration": 26,
    "start_time": "2022-11-13T04:35:48.740Z"
   },
   {
    "duration": 35,
    "start_time": "2022-11-13T04:36:28.311Z"
   },
   {
    "duration": 23,
    "start_time": "2022-11-13T04:36:34.275Z"
   },
   {
    "duration": 1463,
    "start_time": "2022-11-13T16:10:46.385Z"
   },
   {
    "duration": 241,
    "start_time": "2022-11-13T16:10:47.850Z"
   },
   {
    "duration": 3,
    "start_time": "2022-11-13T16:10:48.093Z"
   },
   {
    "duration": 40,
    "start_time": "2022-11-13T16:10:48.098Z"
   },
   {
    "duration": 23,
    "start_time": "2022-11-13T16:10:48.140Z"
   },
   {
    "duration": 25,
    "start_time": "2022-11-13T16:10:48.164Z"
   },
   {
    "duration": 15,
    "start_time": "2022-11-13T16:10:48.190Z"
   },
   {
    "duration": 19,
    "start_time": "2022-11-13T16:10:48.207Z"
   },
   {
    "duration": 10,
    "start_time": "2022-11-13T16:10:48.228Z"
   },
   {
    "duration": 17,
    "start_time": "2022-11-13T16:10:48.241Z"
   },
   {
    "duration": 38,
    "start_time": "2022-11-13T16:10:48.259Z"
   },
   {
    "duration": 33,
    "start_time": "2022-11-13T16:10:48.298Z"
   },
   {
    "duration": 13,
    "start_time": "2022-11-13T16:10:48.333Z"
   },
   {
    "duration": 8,
    "start_time": "2022-11-13T16:10:48.347Z"
   },
   {
    "duration": 8,
    "start_time": "2022-11-13T16:10:48.356Z"
   },
   {
    "duration": 11,
    "start_time": "2022-11-13T16:10:48.365Z"
   },
   {
    "duration": 6,
    "start_time": "2022-11-13T16:10:48.378Z"
   },
   {
    "duration": 6,
    "start_time": "2022-11-13T16:10:48.386Z"
   },
   {
    "duration": 18,
    "start_time": "2022-11-13T16:10:48.393Z"
   },
   {
    "duration": 13,
    "start_time": "2022-11-13T16:10:48.413Z"
   },
   {
    "duration": 11,
    "start_time": "2022-11-13T16:10:48.428Z"
   },
   {
    "duration": 10,
    "start_time": "2022-11-13T16:10:48.441Z"
   },
   {
    "duration": 23,
    "start_time": "2022-11-13T16:10:48.453Z"
   },
   {
    "duration": 28,
    "start_time": "2022-11-13T16:10:48.478Z"
   },
   {
    "duration": 34,
    "start_time": "2022-11-13T16:10:48.507Z"
   },
   {
    "duration": 35,
    "start_time": "2022-11-13T16:10:48.543Z"
   },
   {
    "duration": 40,
    "start_time": "2022-11-13T16:10:48.579Z"
   },
   {
    "duration": 25,
    "start_time": "2022-11-13T16:10:48.623Z"
   },
   {
    "duration": 4,
    "start_time": "2022-11-13T16:10:48.649Z"
   },
   {
    "duration": 30,
    "start_time": "2022-11-13T16:10:48.654Z"
   },
   {
    "duration": 52,
    "start_time": "2022-11-13T16:10:48.685Z"
   },
   {
    "duration": 149,
    "start_time": "2022-11-13T16:10:48.738Z"
   },
   {
    "duration": 127,
    "start_time": "2022-11-13T16:10:48.889Z"
   },
   {
    "duration": 7,
    "start_time": "2022-11-13T16:10:49.018Z"
   },
   {
    "duration": 17,
    "start_time": "2022-11-13T16:10:49.026Z"
   },
   {
    "duration": 400,
    "start_time": "2022-11-13T16:10:49.045Z"
   },
   {
    "duration": 8,
    "start_time": "2022-11-13T16:10:49.447Z"
   },
   {
    "duration": 319,
    "start_time": "2022-11-13T16:10:49.456Z"
   },
   {
    "duration": 7,
    "start_time": "2022-11-13T16:10:49.777Z"
   },
   {
    "duration": 23,
    "start_time": "2022-11-13T16:10:49.785Z"
   },
   {
    "duration": 38,
    "start_time": "2022-11-13T16:10:49.809Z"
   },
   {
    "duration": 115,
    "start_time": "2022-11-13T16:10:49.849Z"
   },
   {
    "duration": 12,
    "start_time": "2022-11-13T16:10:49.965Z"
   },
   {
    "duration": 48,
    "start_time": "2022-11-13T16:10:49.979Z"
   },
   {
    "duration": 12,
    "start_time": "2022-11-13T16:10:50.029Z"
   },
   {
    "duration": 235,
    "start_time": "2022-11-13T16:10:50.043Z"
   },
   {
    "duration": 171,
    "start_time": "2022-11-13T16:10:50.281Z"
   },
   {
    "duration": 180,
    "start_time": "2022-11-13T16:10:50.454Z"
   },
   {
    "duration": 4,
    "start_time": "2022-11-13T16:10:50.635Z"
   },
   {
    "duration": 34,
    "start_time": "2022-11-13T16:10:50.641Z"
   },
   {
    "duration": 416,
    "start_time": "2022-11-13T16:10:50.676Z"
   },
   {
    "duration": 227,
    "start_time": "2022-11-13T16:10:51.094Z"
   },
   {
    "duration": 150,
    "start_time": "2022-11-13T16:10:51.322Z"
   },
   {
    "duration": 437,
    "start_time": "2022-11-13T16:10:51.473Z"
   },
   {
    "duration": 11,
    "start_time": "2022-11-13T16:10:51.912Z"
   },
   {
    "duration": 15,
    "start_time": "2022-11-13T16:10:51.924Z"
   },
   {
    "duration": 34,
    "start_time": "2022-11-13T16:10:51.941Z"
   },
   {
    "duration": 42,
    "start_time": "2022-11-13T16:10:51.976Z"
   },
   {
    "duration": 32,
    "start_time": "2022-11-13T16:10:52.020Z"
   },
   {
    "duration": 7,
    "start_time": "2022-11-13T16:10:52.054Z"
   },
   {
    "duration": 23,
    "start_time": "2022-11-13T16:10:52.063Z"
   },
   {
    "duration": 85,
    "start_time": "2022-11-13T16:10:52.088Z"
   },
   {
    "duration": 458,
    "start_time": "2022-11-13T16:13:09.736Z"
   },
   {
    "duration": 595,
    "start_time": "2022-11-13T16:15:13.209Z"
   },
   {
    "duration": 489,
    "start_time": "2022-11-13T16:15:47.497Z"
   },
   {
    "duration": 146,
    "start_time": "2022-11-13T16:18:55.811Z"
   },
   {
    "duration": 31,
    "start_time": "2022-11-13T16:19:02.612Z"
   },
   {
    "duration": 28,
    "start_time": "2022-11-13T16:20:42.571Z"
   },
   {
    "duration": 27,
    "start_time": "2022-11-13T16:21:54.546Z"
   },
   {
    "duration": 3,
    "start_time": "2022-11-13T16:24:18.816Z"
   },
   {
    "duration": 6,
    "start_time": "2022-11-13T16:24:23.908Z"
   },
   {
    "duration": 7,
    "start_time": "2022-11-13T16:24:23.916Z"
   },
   {
    "duration": 5,
    "start_time": "2022-11-13T16:24:43.677Z"
   },
   {
    "duration": 4,
    "start_time": "2022-11-13T16:24:58.516Z"
   },
   {
    "duration": 4,
    "start_time": "2022-11-13T16:25:23.725Z"
   },
   {
    "duration": 10,
    "start_time": "2022-11-13T16:25:24.255Z"
   },
   {
    "duration": 36,
    "start_time": "2022-11-13T16:25:24.742Z"
   },
   {
    "duration": 12,
    "start_time": "2022-11-13T16:25:35.339Z"
   },
   {
    "duration": 34,
    "start_time": "2022-11-13T16:26:10.942Z"
   },
   {
    "duration": 29,
    "start_time": "2022-11-13T16:26:25.588Z"
   },
   {
    "duration": 31,
    "start_time": "2022-11-13T16:26:50.855Z"
   },
   {
    "duration": 36,
    "start_time": "2022-11-13T16:28:20.380Z"
   },
   {
    "duration": 30,
    "start_time": "2022-11-13T16:28:46.923Z"
   },
   {
    "duration": 24,
    "start_time": "2022-11-13T16:30:13.858Z"
   },
   {
    "duration": 26,
    "start_time": "2022-11-13T16:30:35.659Z"
   },
   {
    "duration": 29,
    "start_time": "2022-11-13T16:32:17.875Z"
   },
   {
    "duration": 5,
    "start_time": "2022-11-13T16:34:23.906Z"
   },
   {
    "duration": 4,
    "start_time": "2022-11-13T16:34:26.743Z"
   },
   {
    "duration": 10,
    "start_time": "2022-11-13T16:34:29.266Z"
   },
   {
    "duration": 23,
    "start_time": "2022-11-13T16:34:35.488Z"
   },
   {
    "duration": 26,
    "start_time": "2022-11-13T16:34:49.989Z"
   },
   {
    "duration": 19,
    "start_time": "2022-11-13T16:36:39.366Z"
   },
   {
    "duration": 21,
    "start_time": "2022-11-13T16:36:52.231Z"
   },
   {
    "duration": 127091,
    "start_time": "2022-11-13T16:40:47.804Z"
   },
   {
    "duration": 4,
    "start_time": "2022-11-13T16:42:54.904Z"
   },
   {
    "duration": 11,
    "start_time": "2022-11-13T16:42:54.925Z"
   },
   {
    "duration": 18,
    "start_time": "2022-11-13T16:42:54.938Z"
   },
   {
    "duration": 5,
    "start_time": "2022-11-13T16:43:13.766Z"
   },
   {
    "duration": 8,
    "start_time": "2022-11-13T16:43:31.295Z"
   },
   {
    "duration": 25,
    "start_time": "2022-11-13T16:45:13.026Z"
   },
   {
    "duration": 19,
    "start_time": "2022-11-13T16:47:11.672Z"
   },
   {
    "duration": 19,
    "start_time": "2022-11-13T16:47:44.522Z"
   },
   {
    "duration": 71,
    "start_time": "2022-11-13T16:51:49.669Z"
   },
   {
    "duration": 5,
    "start_time": "2022-11-13T16:52:02.306Z"
   },
   {
    "duration": 12,
    "start_time": "2022-11-13T16:52:27.285Z"
   },
   {
    "duration": 19,
    "start_time": "2022-11-13T16:53:55.921Z"
   },
   {
    "duration": 10,
    "start_time": "2022-11-13T16:57:35.050Z"
   },
   {
    "duration": 11,
    "start_time": "2022-11-13T16:57:54.340Z"
   },
   {
    "duration": 4,
    "start_time": "2022-11-13T16:58:07.937Z"
   },
   {
    "duration": 9,
    "start_time": "2022-11-13T16:58:17.291Z"
   },
   {
    "duration": 11,
    "start_time": "2022-11-13T16:58:31.418Z"
   },
   {
    "duration": 9,
    "start_time": "2022-11-13T16:58:37.144Z"
   },
   {
    "duration": 12,
    "start_time": "2022-11-13T17:05:43.372Z"
   },
   {
    "duration": 74,
    "start_time": "2022-11-13T17:06:22.381Z"
   },
   {
    "duration": 19,
    "start_time": "2022-11-13T17:06:34.290Z"
   },
   {
    "duration": 14,
    "start_time": "2022-11-13T17:06:49.185Z"
   },
   {
    "duration": 15,
    "start_time": "2022-11-13T17:06:54.043Z"
   },
   {
    "duration": 14,
    "start_time": "2022-11-13T17:07:44.031Z"
   },
   {
    "duration": 317,
    "start_time": "2022-11-13T17:07:59.690Z"
   },
   {
    "duration": 277,
    "start_time": "2022-11-13T17:08:56.552Z"
   },
   {
    "duration": 315,
    "start_time": "2022-11-13T17:10:29.717Z"
   },
   {
    "duration": 1169,
    "start_time": "2022-11-13T17:12:16.593Z"
   },
   {
    "duration": 4,
    "start_time": "2022-11-13T17:12:27.343Z"
   },
   {
    "duration": 1114,
    "start_time": "2022-11-13T17:13:10.253Z"
   },
   {
    "duration": 7,
    "start_time": "2022-11-13T17:13:32.108Z"
   },
   {
    "duration": 252,
    "start_time": "2022-11-13T17:16:01.756Z"
   },
   {
    "duration": 290,
    "start_time": "2022-11-13T17:16:12.014Z"
   },
   {
    "duration": 333,
    "start_time": "2022-11-13T17:17:24.099Z"
   },
   {
    "duration": 1669,
    "start_time": "2022-11-13T17:20:10.713Z"
   },
   {
    "duration": 4,
    "start_time": "2022-11-13T17:23:06.793Z"
   },
   {
    "duration": 6,
    "start_time": "2022-11-13T17:23:09.863Z"
   },
   {
    "duration": 11,
    "start_time": "2022-11-13T17:26:59.633Z"
   },
   {
    "duration": 7,
    "start_time": "2022-11-13T18:16:57.546Z"
   },
   {
    "duration": 6,
    "start_time": "2022-11-13T18:18:20.174Z"
   },
   {
    "duration": 17,
    "start_time": "2022-11-13T18:18:27.946Z"
   },
   {
    "duration": 367,
    "start_time": "2022-11-13T18:21:20.473Z"
   },
   {
    "duration": 414,
    "start_time": "2022-11-13T18:21:37.196Z"
   },
   {
    "duration": 6,
    "start_time": "2022-11-13T18:24:26.706Z"
   },
   {
    "duration": 5,
    "start_time": "2022-11-13T18:24:56.930Z"
   },
   {
    "duration": 12,
    "start_time": "2022-11-13T18:35:34.290Z"
   },
   {
    "duration": 26,
    "start_time": "2022-11-13T18:38:39.504Z"
   },
   {
    "duration": 11,
    "start_time": "2022-11-13T18:39:11.767Z"
   },
   {
    "duration": 13,
    "start_time": "2022-11-13T18:39:18.288Z"
   },
   {
    "duration": 354,
    "start_time": "2022-11-13T18:41:26.923Z"
   },
   {
    "duration": 15,
    "start_time": "2022-11-13T18:44:58.232Z"
   },
   {
    "duration": 1273,
    "start_time": "2022-11-13T18:45:40.381Z"
   },
   {
    "duration": 305,
    "start_time": "2022-11-13T18:45:42.968Z"
   },
   {
    "duration": 5,
    "start_time": "2022-11-13T18:45:47.341Z"
   },
   {
    "duration": 11,
    "start_time": "2022-11-13T18:45:48.114Z"
   },
   {
    "duration": 4,
    "start_time": "2022-11-13T18:45:49.186Z"
   },
   {
    "duration": 3,
    "start_time": "2022-11-13T18:45:50.384Z"
   },
   {
    "duration": 11,
    "start_time": "2022-11-13T18:45:51.443Z"
   },
   {
    "duration": 5,
    "start_time": "2022-11-13T18:45:53.552Z"
   },
   {
    "duration": 4,
    "start_time": "2022-11-13T18:45:57.938Z"
   },
   {
    "duration": 4,
    "start_time": "2022-11-13T18:45:59.122Z"
   },
   {
    "duration": 12,
    "start_time": "2022-11-13T18:46:06.665Z"
   },
   {
    "duration": 19,
    "start_time": "2022-11-13T18:46:08.048Z"
   },
   {
    "duration": 16,
    "start_time": "2022-11-13T19:28:38.899Z"
   },
   {
    "duration": 4,
    "start_time": "2022-11-13T19:28:45.409Z"
   },
   {
    "duration": 6,
    "start_time": "2022-11-13T19:28:46.144Z"
   },
   {
    "duration": 7,
    "start_time": "2022-11-13T19:28:47.651Z"
   },
   {
    "duration": 7,
    "start_time": "2022-11-13T19:28:48.328Z"
   },
   {
    "duration": 5,
    "start_time": "2022-11-13T19:28:50.454Z"
   },
   {
    "duration": 6,
    "start_time": "2022-11-13T19:28:54.183Z"
   },
   {
    "duration": 12,
    "start_time": "2022-11-13T19:29:12.116Z"
   },
   {
    "duration": 14,
    "start_time": "2022-11-13T19:29:20.072Z"
   },
   {
    "duration": 10,
    "start_time": "2022-11-13T19:29:21.535Z"
   },
   {
    "duration": 9,
    "start_time": "2022-11-13T19:29:22.068Z"
   },
   {
    "duration": 14,
    "start_time": "2022-11-13T19:29:22.585Z"
   },
   {
    "duration": 4,
    "start_time": "2022-11-13T19:29:26.155Z"
   },
   {
    "duration": 24,
    "start_time": "2022-11-13T19:29:26.597Z"
   },
   {
    "duration": 30,
    "start_time": "2022-11-13T19:29:28.887Z"
   },
   {
    "duration": 28,
    "start_time": "2022-11-13T19:29:31.601Z"
   },
   {
    "duration": 24,
    "start_time": "2022-11-13T19:29:32.165Z"
   },
   {
    "duration": 3,
    "start_time": "2022-11-13T19:29:32.783Z"
   },
   {
    "duration": 25,
    "start_time": "2022-11-13T19:29:33.828Z"
   },
   {
    "duration": 31,
    "start_time": "2022-11-13T19:29:40.104Z"
   },
   {
    "duration": 137,
    "start_time": "2022-11-13T19:29:42.770Z"
   },
   {
    "duration": 108,
    "start_time": "2022-11-13T19:29:47.791Z"
   },
   {
    "duration": 7,
    "start_time": "2022-11-13T19:29:50.905Z"
   },
   {
    "duration": 15,
    "start_time": "2022-11-13T19:29:51.722Z"
   },
   {
    "duration": 369,
    "start_time": "2022-11-13T19:30:00.595Z"
   },
   {
    "duration": 7,
    "start_time": "2022-11-13T19:30:20.053Z"
   },
   {
    "duration": 317,
    "start_time": "2022-11-13T19:30:26.204Z"
   },
   {
    "duration": 6,
    "start_time": "2022-11-13T19:30:30.468Z"
   },
   {
    "duration": 9,
    "start_time": "2022-11-13T19:30:31.153Z"
   },
   {
    "duration": 9,
    "start_time": "2022-11-13T19:30:34.826Z"
   },
   {
    "duration": 14,
    "start_time": "2022-11-13T19:31:24.806Z"
   },
   {
    "duration": 30,
    "start_time": "2022-11-13T19:31:29.314Z"
   },
   {
    "duration": 10,
    "start_time": "2022-11-13T19:31:57.056Z"
   },
   {
    "duration": 156,
    "start_time": "2022-11-13T19:31:58.923Z"
   },
   {
    "duration": 221,
    "start_time": "2022-11-13T19:32:10.962Z"
   },
   {
    "duration": 184,
    "start_time": "2022-11-13T19:32:16.873Z"
   },
   {
    "duration": 4,
    "start_time": "2022-11-13T19:32:18.853Z"
   },
   {
    "duration": 11,
    "start_time": "2022-11-13T19:32:19.490Z"
   },
   {
    "duration": 416,
    "start_time": "2022-11-13T19:32:20.568Z"
   },
   {
    "duration": 154,
    "start_time": "2022-11-13T19:32:22.229Z"
   },
   {
    "duration": 119,
    "start_time": "2022-11-13T19:32:23.746Z"
   },
   {
    "duration": 436,
    "start_time": "2022-11-13T19:32:26.150Z"
   },
   {
    "duration": 15,
    "start_time": "2022-11-13T19:32:27.351Z"
   },
   {
    "duration": 4,
    "start_time": "2022-11-13T19:32:28.920Z"
   },
   {
    "duration": 10,
    "start_time": "2022-11-13T19:32:31.363Z"
   },
   {
    "duration": 5,
    "start_time": "2022-11-13T19:32:40.975Z"
   },
   {
    "duration": 10,
    "start_time": "2022-11-13T19:32:42.774Z"
   },
   {
    "duration": 11,
    "start_time": "2022-11-13T19:32:52.656Z"
   },
   {
    "duration": 153,
    "start_time": "2022-11-13T19:33:50.213Z"
   },
   {
    "duration": 13,
    "start_time": "2022-11-13T19:34:03.480Z"
   },
   {
    "duration": 5,
    "start_time": "2022-11-13T19:34:17.117Z"
   },
   {
    "duration": 17,
    "start_time": "2022-11-13T19:34:25.808Z"
   },
   {
    "duration": 15,
    "start_time": "2022-11-13T19:34:33.607Z"
   },
   {
    "duration": 11,
    "start_time": "2022-11-13T19:34:40.418Z"
   },
   {
    "duration": 17,
    "start_time": "2022-11-13T19:35:16.658Z"
   },
   {
    "duration": 13,
    "start_time": "2022-11-13T19:35:39.769Z"
   },
   {
    "duration": 283,
    "start_time": "2022-11-13T19:36:25.628Z"
   },
   {
    "duration": 297,
    "start_time": "2022-11-13T19:36:36.777Z"
   },
   {
    "duration": 373,
    "start_time": "2022-11-13T19:37:00.641Z"
   },
   {
    "duration": 272,
    "start_time": "2022-11-13T19:37:50.360Z"
   },
   {
    "duration": 286,
    "start_time": "2022-11-13T19:38:14.930Z"
   },
   {
    "duration": 5,
    "start_time": "2022-11-13T19:40:02.113Z"
   },
   {
    "duration": 13,
    "start_time": "2022-11-13T19:40:33.458Z"
   },
   {
    "duration": 16,
    "start_time": "2022-11-13T19:40:51.688Z"
   },
   {
    "duration": 1518,
    "start_time": "2022-11-14T03:33:40.410Z"
   },
   {
    "duration": 236,
    "start_time": "2022-11-14T03:33:41.930Z"
   },
   {
    "duration": 6,
    "start_time": "2022-11-14T03:33:42.168Z"
   },
   {
    "duration": 12,
    "start_time": "2022-11-14T03:33:42.343Z"
   },
   {
    "duration": 5,
    "start_time": "2022-11-14T03:33:42.572Z"
   },
   {
    "duration": 4,
    "start_time": "2022-11-14T03:33:42.823Z"
   },
   {
    "duration": 13,
    "start_time": "2022-11-14T03:33:43.091Z"
   },
   {
    "duration": 5,
    "start_time": "2022-11-14T03:33:43.547Z"
   },
   {
    "duration": 5,
    "start_time": "2022-11-14T03:33:44.026Z"
   },
   {
    "duration": 3,
    "start_time": "2022-11-14T03:33:44.485Z"
   },
   {
    "duration": 11,
    "start_time": "2022-11-14T03:33:45.026Z"
   },
   {
    "duration": 19,
    "start_time": "2022-11-14T03:33:45.498Z"
   },
   {
    "duration": 6,
    "start_time": "2022-11-14T03:33:46.128Z"
   },
   {
    "duration": 5,
    "start_time": "2022-11-14T03:33:46.375Z"
   },
   {
    "duration": 7,
    "start_time": "2022-11-14T03:33:46.583Z"
   },
   {
    "duration": 7,
    "start_time": "2022-11-14T03:33:46.852Z"
   },
   {
    "duration": 5,
    "start_time": "2022-11-14T03:33:47.417Z"
   },
   {
    "duration": 7,
    "start_time": "2022-11-14T03:33:47.933Z"
   },
   {
    "duration": 14,
    "start_time": "2022-11-14T03:33:48.698Z"
   },
   {
    "duration": 17,
    "start_time": "2022-11-14T03:33:49.218Z"
   },
   {
    "duration": 12,
    "start_time": "2022-11-14T03:33:49.777Z"
   },
   {
    "duration": 13,
    "start_time": "2022-11-14T03:33:50.057Z"
   },
   {
    "duration": 23,
    "start_time": "2022-11-14T03:33:50.328Z"
   },
   {
    "duration": 5,
    "start_time": "2022-11-14T03:33:50.590Z"
   },
   {
    "duration": 26,
    "start_time": "2022-11-14T03:33:50.876Z"
   },
   {
    "duration": 37,
    "start_time": "2022-11-14T03:33:51.430Z"
   },
   {
    "duration": 29,
    "start_time": "2022-11-14T03:33:52.015Z"
   },
   {
    "duration": 26,
    "start_time": "2022-11-14T03:33:52.300Z"
   },
   {
    "duration": 4,
    "start_time": "2022-11-14T03:33:52.585Z"
   },
   {
    "duration": 28,
    "start_time": "2022-11-14T03:33:52.856Z"
   },
   {
    "duration": 34,
    "start_time": "2022-11-14T03:33:53.381Z"
   },
   {
    "duration": 135,
    "start_time": "2022-11-14T03:33:53.957Z"
   },
   {
    "duration": 122,
    "start_time": "2022-11-14T03:33:54.484Z"
   },
   {
    "duration": 9,
    "start_time": "2022-11-14T03:33:55.196Z"
   },
   {
    "duration": 20,
    "start_time": "2022-11-14T03:33:56.667Z"
   },
   {
    "duration": 390,
    "start_time": "2022-11-14T03:33:58.674Z"
   },
   {
    "duration": 7,
    "start_time": "2022-11-14T03:34:00.852Z"
   },
   {
    "duration": 309,
    "start_time": "2022-11-14T03:34:01.611Z"
   },
   {
    "duration": 15,
    "start_time": "2022-11-14T03:35:24.241Z"
   },
   {
    "duration": 34,
    "start_time": "2022-11-14T03:35:25.005Z"
   },
   {
    "duration": 13,
    "start_time": "2022-11-14T03:35:46.554Z"
   },
   {
    "duration": 163,
    "start_time": "2022-11-14T03:35:54.209Z"
   },
   {
    "duration": 257,
    "start_time": "2022-11-14T03:35:55.973Z"
   },
   {
    "duration": 190,
    "start_time": "2022-11-14T03:36:52.382Z"
   },
   {
    "duration": 4,
    "start_time": "2022-11-14T03:37:09.326Z"
   },
   {
    "duration": 12,
    "start_time": "2022-11-14T03:37:12.912Z"
   },
   {
    "duration": 484,
    "start_time": "2022-11-14T03:37:22.761Z"
   },
   {
    "duration": 176,
    "start_time": "2022-11-14T03:37:27.420Z"
   },
   {
    "duration": 138,
    "start_time": "2022-11-14T03:37:40.728Z"
   },
   {
    "duration": 469,
    "start_time": "2022-11-14T03:37:53.892Z"
   },
   {
    "duration": 12,
    "start_time": "2022-11-14T03:37:59.476Z"
   },
   {
    "duration": 4,
    "start_time": "2022-11-14T03:38:01.356Z"
   },
   {
    "duration": 12,
    "start_time": "2022-11-14T03:38:05.058Z"
   },
   {
    "duration": 5,
    "start_time": "2022-11-14T03:38:14.880Z"
   },
   {
    "duration": 12,
    "start_time": "2022-11-14T03:38:16.846Z"
   },
   {
    "duration": 13,
    "start_time": "2022-11-14T03:38:27.508Z"
   },
   {
    "duration": 11,
    "start_time": "2022-11-14T03:38:28.748Z"
   },
   {
    "duration": 19,
    "start_time": "2022-11-14T03:38:51.119Z"
   },
   {
    "duration": 17,
    "start_time": "2022-11-14T03:39:00.141Z"
   },
   {
    "duration": 13,
    "start_time": "2022-11-14T03:39:02.196Z"
   },
   {
    "duration": 16,
    "start_time": "2022-11-14T03:39:09.254Z"
   },
   {
    "duration": 228,
    "start_time": "2022-11-14T03:40:33.376Z"
   },
   {
    "duration": 286,
    "start_time": "2022-11-14T03:41:13.396Z"
   },
   {
    "duration": 6,
    "start_time": "2022-11-14T03:41:36.171Z"
   },
   {
    "duration": 9,
    "start_time": "2022-11-14T03:41:57.448Z"
   },
   {
    "duration": 13,
    "start_time": "2022-11-14T03:42:03.798Z"
   },
   {
    "duration": 5,
    "start_time": "2022-11-14T03:42:31.710Z"
   },
   {
    "duration": 371,
    "start_time": "2022-11-14T03:42:33.480Z"
   },
   {
    "duration": 286,
    "start_time": "2022-11-14T03:43:21.329Z"
   },
   {
    "duration": 8,
    "start_time": "2022-11-14T03:43:22.034Z"
   },
   {
    "duration": 13,
    "start_time": "2022-11-14T03:45:08.673Z"
   },
   {
    "duration": 173,
    "start_time": "2022-11-14T03:45:16.181Z"
   },
   {
    "duration": 15,
    "start_time": "2022-11-14T03:46:26.585Z"
   },
   {
    "duration": 12,
    "start_time": "2022-11-14T03:46:54.809Z"
   },
   {
    "duration": 16,
    "start_time": "2022-11-14T03:50:52.039Z"
   },
   {
    "duration": 13,
    "start_time": "2022-11-14T03:50:54.835Z"
   },
   {
    "duration": 15,
    "start_time": "2022-11-14T03:51:34.157Z"
   },
   {
    "duration": 271,
    "start_time": "2022-11-14T03:51:37.156Z"
   },
   {
    "duration": 16,
    "start_time": "2022-11-14T03:54:48.716Z"
   },
   {
    "duration": 26,
    "start_time": "2022-11-14T03:54:50.766Z"
   },
   {
    "duration": 740,
    "start_time": "2022-11-14T03:55:05.569Z"
   },
   {
    "duration": 14,
    "start_time": "2022-11-14T03:55:42.193Z"
   },
   {
    "duration": 12,
    "start_time": "2022-11-14T03:55:42.995Z"
   },
   {
    "duration": 267,
    "start_time": "2022-11-14T03:55:45.727Z"
   },
   {
    "duration": 80,
    "start_time": "2022-11-14T04:08:39.824Z"
   },
   {
    "duration": 26,
    "start_time": "2022-11-14T04:21:15.370Z"
   },
   {
    "duration": 18,
    "start_time": "2022-11-14T04:23:10.794Z"
   },
   {
    "duration": 18,
    "start_time": "2022-11-14T04:23:44.292Z"
   },
   {
    "duration": 15,
    "start_time": "2022-11-14T04:23:46.146Z"
   },
   {
    "duration": 15,
    "start_time": "2022-11-14T04:25:07.435Z"
   },
   {
    "duration": 15,
    "start_time": "2022-11-14T04:25:30.676Z"
   },
   {
    "duration": 16,
    "start_time": "2022-11-14T04:25:47.921Z"
   },
   {
    "duration": 17,
    "start_time": "2022-11-14T04:26:04.938Z"
   },
   {
    "duration": 19,
    "start_time": "2022-11-14T04:27:29.889Z"
   },
   {
    "duration": 13,
    "start_time": "2022-11-14T04:27:31.489Z"
   },
   {
    "duration": 294,
    "start_time": "2022-11-14T04:27:39.942Z"
   },
   {
    "duration": 25,
    "start_time": "2022-11-14T04:28:25.829Z"
   },
   {
    "duration": 16,
    "start_time": "2022-11-14T04:28:27.470Z"
   },
   {
    "duration": 23,
    "start_time": "2022-11-14T04:28:31.505Z"
   },
   {
    "duration": 19,
    "start_time": "2022-11-14T04:28:51.156Z"
   },
   {
    "duration": 123,
    "start_time": "2022-11-14T04:31:08.402Z"
   },
   {
    "duration": 451,
    "start_time": "2022-11-14T04:34:05.027Z"
   },
   {
    "duration": 26,
    "start_time": "2022-11-14T04:37:38.376Z"
   },
   {
    "duration": 22,
    "start_time": "2022-11-14T04:38:04.686Z"
   },
   {
    "duration": 1531,
    "start_time": "2022-11-14T10:56:54.664Z"
   },
   {
    "duration": 5,
    "start_time": "2022-11-14T10:57:27.608Z"
   },
   {
    "duration": 251,
    "start_time": "2022-11-14T10:57:30.252Z"
   },
   {
    "duration": 5,
    "start_time": "2022-11-14T10:57:33.580Z"
   },
   {
    "duration": 13,
    "start_time": "2022-11-14T10:57:34.073Z"
   },
   {
    "duration": 5,
    "start_time": "2022-11-14T10:57:34.597Z"
   },
   {
    "duration": 4,
    "start_time": "2022-11-14T10:57:35.077Z"
   },
   {
    "duration": 13,
    "start_time": "2022-11-14T10:57:35.383Z"
   },
   {
    "duration": 4,
    "start_time": "2022-11-14T10:57:36.061Z"
   },
   {
    "duration": 4,
    "start_time": "2022-11-14T10:57:36.633Z"
   },
   {
    "duration": 3,
    "start_time": "2022-11-14T10:57:37.208Z"
   },
   {
    "duration": 13,
    "start_time": "2022-11-14T10:57:38.143Z"
   },
   {
    "duration": 24,
    "start_time": "2022-11-14T10:57:39.175Z"
   },
   {
    "duration": 5,
    "start_time": "2022-11-14T10:57:40.359Z"
   },
   {
    "duration": 5,
    "start_time": "2022-11-14T10:57:40.885Z"
   },
   {
    "duration": 7,
    "start_time": "2022-11-14T10:57:42.788Z"
   },
   {
    "duration": 7,
    "start_time": "2022-11-14T10:57:43.388Z"
   },
   {
    "duration": 6,
    "start_time": "2022-11-14T10:57:44.562Z"
   },
   {
    "duration": 7,
    "start_time": "2022-11-14T10:57:47.057Z"
   },
   {
    "duration": 15,
    "start_time": "2022-11-14T10:57:50.525Z"
   },
   {
    "duration": 15,
    "start_time": "2022-11-14T10:57:51.360Z"
   },
   {
    "duration": 9,
    "start_time": "2022-11-14T10:57:53.098Z"
   },
   {
    "duration": 10,
    "start_time": "2022-11-14T10:57:53.468Z"
   },
   {
    "duration": 16,
    "start_time": "2022-11-14T10:57:53.901Z"
   },
   {
    "duration": 4,
    "start_time": "2022-11-14T10:57:55.418Z"
   },
   {
    "duration": 28,
    "start_time": "2022-11-14T10:57:55.710Z"
   },
   {
    "duration": 34,
    "start_time": "2022-11-14T10:57:56.288Z"
   },
   {
    "duration": 30,
    "start_time": "2022-11-14T10:57:58.161Z"
   },
   {
    "duration": 26,
    "start_time": "2022-11-14T10:57:58.701Z"
   },
   {
    "duration": 3,
    "start_time": "2022-11-14T10:58:01.399Z"
   },
   {
    "duration": 27,
    "start_time": "2022-11-14T10:58:02.038Z"
   },
   {
    "duration": 34,
    "start_time": "2022-11-14T10:58:03.772Z"
   },
   {
    "duration": 141,
    "start_time": "2022-11-14T10:58:06.867Z"
   },
   {
    "duration": 126,
    "start_time": "2022-11-14T10:58:22.743Z"
   },
   {
    "duration": 114,
    "start_time": "2022-11-14T10:58:44.287Z"
   },
   {
    "duration": 125,
    "start_time": "2022-11-14T10:58:53.672Z"
   },
   {
    "duration": 154,
    "start_time": "2022-11-14T10:58:59.661Z"
   },
   {
    "duration": 7,
    "start_time": "2022-11-14T10:59:07.928Z"
   },
   {
    "duration": 16,
    "start_time": "2022-11-14T10:59:12.990Z"
   },
   {
    "duration": 460,
    "start_time": "2022-11-14T10:59:15.504Z"
   },
   {
    "duration": 7,
    "start_time": "2022-11-14T10:59:23.936Z"
   },
   {
    "duration": 328,
    "start_time": "2022-11-14T10:59:26.719Z"
   },
   {
    "duration": 126,
    "start_time": "2022-11-14T10:59:38.346Z"
   },
   {
    "duration": 141,
    "start_time": "2022-11-14T10:59:58.111Z"
   },
   {
    "duration": 167,
    "start_time": "2022-11-14T11:00:30.541Z"
   },
   {
    "duration": 8,
    "start_time": "2022-11-14T11:01:09.933Z"
   },
   {
    "duration": 330,
    "start_time": "2022-11-14T11:01:12.928Z"
   },
   {
    "duration": 141,
    "start_time": "2022-11-14T11:01:14.546Z"
   },
   {
    "duration": 14,
    "start_time": "2022-11-14T11:01:29.994Z"
   },
   {
    "duration": 43,
    "start_time": "2022-11-14T11:01:31.327Z"
   },
   {
    "duration": 16,
    "start_time": "2022-11-14T11:02:19.660Z"
   },
   {
    "duration": 16,
    "start_time": "2022-11-14T11:02:33.605Z"
   },
   {
    "duration": 32,
    "start_time": "2022-11-14T11:03:28.505Z"
   },
   {
    "duration": 5,
    "start_time": "2022-11-14T11:04:47.546Z"
   },
   {
    "duration": 8,
    "start_time": "2022-11-14T11:07:52.212Z"
   },
   {
    "duration": 537,
    "start_time": "2022-11-14T11:09:08.683Z"
   },
   {
    "duration": 94,
    "start_time": "2022-11-14T11:10:39.927Z"
   },
   {
    "duration": 186,
    "start_time": "2022-11-14T11:11:27.159Z"
   },
   {
    "duration": 195,
    "start_time": "2022-11-14T11:12:47.566Z"
   },
   {
    "duration": 5,
    "start_time": "2022-11-14T11:14:58.959Z"
   },
   {
    "duration": 130,
    "start_time": "2022-11-14T11:15:45.516Z"
   },
   {
    "duration": 71,
    "start_time": "2022-11-14T11:18:11.066Z"
   },
   {
    "duration": 106,
    "start_time": "2022-11-14T11:18:18.861Z"
   },
   {
    "duration": 196,
    "start_time": "2022-11-14T11:18:30.102Z"
   },
   {
    "duration": 5,
    "start_time": "2022-11-14T11:19:01.451Z"
   },
   {
    "duration": 80,
    "start_time": "2022-11-14T11:19:11.696Z"
   },
   {
    "duration": 171,
    "start_time": "2022-11-14T11:19:24.564Z"
   },
   {
    "duration": 191,
    "start_time": "2022-11-14T11:20:07.570Z"
   },
   {
    "duration": 229,
    "start_time": "2022-11-14T11:20:44.521Z"
   },
   {
    "duration": 163,
    "start_time": "2022-11-14T11:22:42.930Z"
   },
   {
    "duration": 169,
    "start_time": "2022-11-14T11:23:28.253Z"
   },
   {
    "duration": 10,
    "start_time": "2022-11-14T11:29:53.106Z"
   },
   {
    "duration": 6,
    "start_time": "2022-11-14T11:29:59.281Z"
   },
   {
    "duration": 6,
    "start_time": "2022-11-14T11:31:47.268Z"
   },
   {
    "duration": 14,
    "start_time": "2022-11-14T11:31:47.986Z"
   },
   {
    "duration": 16,
    "start_time": "2022-11-14T11:33:53.973Z"
   },
   {
    "duration": 12,
    "start_time": "2022-11-14T11:34:23.828Z"
   },
   {
    "duration": 18,
    "start_time": "2022-11-14T11:34:57.912Z"
   },
   {
    "duration": 14,
    "start_time": "2022-11-14T11:35:04.177Z"
   },
   {
    "duration": 238,
    "start_time": "2022-11-14T11:35:52.280Z"
   },
   {
    "duration": 273,
    "start_time": "2022-11-14T11:36:30.995Z"
   },
   {
    "duration": 6,
    "start_time": "2022-11-14T11:37:09.182Z"
   },
   {
    "duration": 1424,
    "start_time": "2022-11-14T11:37:38.464Z"
   },
   {
    "duration": 7,
    "start_time": "2022-11-14T11:37:45.421Z"
   },
   {
    "duration": 6,
    "start_time": "2022-11-14T11:51:30.681Z"
   },
   {
    "duration": 7,
    "start_time": "2022-11-14T11:51:31.295Z"
   },
   {
    "duration": 7,
    "start_time": "2022-11-14T11:51:42.445Z"
   },
   {
    "duration": 349,
    "start_time": "2022-11-14T11:51:48.788Z"
   },
   {
    "duration": 6,
    "start_time": "2022-11-14T11:52:09.485Z"
   },
   {
    "duration": 12,
    "start_time": "2022-11-14T12:03:27.317Z"
   },
   {
    "duration": 20,
    "start_time": "2022-11-14T12:03:39.871Z"
   },
   {
    "duration": 14,
    "start_time": "2022-11-14T12:03:47.959Z"
   },
   {
    "duration": 122,
    "start_time": "2022-11-14T12:06:17.729Z"
   },
   {
    "duration": 13,
    "start_time": "2022-11-14T12:06:20.227Z"
   },
   {
    "duration": 299,
    "start_time": "2022-11-14T12:09:15.569Z"
   },
   {
    "duration": 18,
    "start_time": "2022-11-14T12:10:07.439Z"
   },
   {
    "duration": 138,
    "start_time": "2022-11-14T12:10:40.887Z"
   },
   {
    "duration": 515,
    "start_time": "2022-11-14T12:11:40.790Z"
   },
   {
    "duration": 287,
    "start_time": "2022-11-14T12:16:27.518Z"
   },
   {
    "duration": 128,
    "start_time": "2022-11-14T12:17:12.812Z"
   },
   {
    "duration": 440,
    "start_time": "2022-11-14T12:17:57.228Z"
   },
   {
    "duration": 10,
    "start_time": "2022-11-14T12:21:01.640Z"
   },
   {
    "duration": 20,
    "start_time": "2022-11-14T12:24:36.337Z"
   },
   {
    "duration": 17,
    "start_time": "2022-11-14T12:25:18.720Z"
   },
   {
    "duration": 8,
    "start_time": "2022-11-14T12:30:55.493Z"
   },
   {
    "duration": 9,
    "start_time": "2022-11-14T12:31:30.908Z"
   },
   {
    "duration": 270,
    "start_time": "2022-11-14T12:33:04.224Z"
   },
   {
    "duration": 15,
    "start_time": "2022-11-14T12:33:38.770Z"
   },
   {
    "duration": 37,
    "start_time": "2022-11-14T12:34:02.588Z"
   },
   {
    "duration": 46,
    "start_time": "2022-11-14T12:35:03.024Z"
   },
   {
    "duration": 22,
    "start_time": "2022-11-14T12:35:08.179Z"
   },
   {
    "duration": 21,
    "start_time": "2022-11-14T12:38:25.210Z"
   },
   {
    "duration": 27,
    "start_time": "2022-11-14T12:38:55.532Z"
   },
   {
    "duration": 1516,
    "start_time": "2022-11-14T17:03:23.926Z"
   },
   {
    "duration": 244,
    "start_time": "2022-11-14T17:03:25.445Z"
   },
   {
    "duration": 3,
    "start_time": "2022-11-14T17:03:25.691Z"
   },
   {
    "duration": 18,
    "start_time": "2022-11-14T17:03:25.696Z"
   },
   {
    "duration": 21,
    "start_time": "2022-11-14T17:03:25.716Z"
   },
   {
    "duration": 18,
    "start_time": "2022-11-14T17:03:25.739Z"
   },
   {
    "duration": 34,
    "start_time": "2022-11-14T17:03:25.759Z"
   },
   {
    "duration": 13,
    "start_time": "2022-11-14T17:03:25.795Z"
   },
   {
    "duration": 26,
    "start_time": "2022-11-14T17:03:25.810Z"
   },
   {
    "duration": 36,
    "start_time": "2022-11-14T17:03:25.838Z"
   },
   {
    "duration": 27,
    "start_time": "2022-11-14T17:03:25.876Z"
   },
   {
    "duration": 44,
    "start_time": "2022-11-14T17:03:25.905Z"
   },
   {
    "duration": 5,
    "start_time": "2022-11-14T17:03:25.952Z"
   },
   {
    "duration": 12,
    "start_time": "2022-11-14T17:03:25.958Z"
   },
   {
    "duration": 30,
    "start_time": "2022-11-14T17:03:25.971Z"
   },
   {
    "duration": 14,
    "start_time": "2022-11-14T17:03:26.002Z"
   },
   {
    "duration": 59,
    "start_time": "2022-11-14T17:03:26.017Z"
   },
   {
    "duration": 17,
    "start_time": "2022-11-14T17:03:26.078Z"
   },
   {
    "duration": 17,
    "start_time": "2022-11-14T17:03:26.096Z"
   },
   {
    "duration": 22,
    "start_time": "2022-11-14T17:03:26.114Z"
   },
   {
    "duration": 26,
    "start_time": "2022-11-14T17:03:26.138Z"
   },
   {
    "duration": 16,
    "start_time": "2022-11-14T17:03:26.166Z"
   },
   {
    "duration": 34,
    "start_time": "2022-11-14T17:03:26.184Z"
   },
   {
    "duration": 9,
    "start_time": "2022-11-14T17:03:26.220Z"
   },
   {
    "duration": 46,
    "start_time": "2022-11-14T17:03:26.231Z"
   },
   {
    "duration": 42,
    "start_time": "2022-11-14T17:03:26.279Z"
   },
   {
    "duration": 29,
    "start_time": "2022-11-14T17:03:26.323Z"
   },
   {
    "duration": 46,
    "start_time": "2022-11-14T17:03:26.357Z"
   },
   {
    "duration": 5,
    "start_time": "2022-11-14T17:03:26.405Z"
   },
   {
    "duration": 47,
    "start_time": "2022-11-14T17:03:26.412Z"
   },
   {
    "duration": 39,
    "start_time": "2022-11-14T17:03:26.461Z"
   },
   {
    "duration": 136,
    "start_time": "2022-11-14T17:03:26.502Z"
   },
   {
    "duration": 119,
    "start_time": "2022-11-14T17:03:26.639Z"
   },
   {
    "duration": 5,
    "start_time": "2022-11-14T17:03:26.760Z"
   },
   {
    "duration": 43,
    "start_time": "2022-11-14T17:03:26.767Z"
   },
   {
    "duration": 388,
    "start_time": "2022-11-14T17:03:26.811Z"
   },
   {
    "duration": 8,
    "start_time": "2022-11-14T17:03:27.202Z"
   },
   {
    "duration": 321,
    "start_time": "2022-11-14T17:03:27.212Z"
   },
   {
    "duration": 133,
    "start_time": "2022-11-14T17:03:27.535Z"
   },
   {
    "duration": 21,
    "start_time": "2022-11-14T17:03:27.670Z"
   },
   {
    "duration": 23,
    "start_time": "2022-11-14T17:03:27.693Z"
   },
   {
    "duration": 58,
    "start_time": "2022-11-14T17:03:27.718Z"
   },
   {
    "duration": 4,
    "start_time": "2022-11-14T17:03:27.778Z"
   },
   {
    "duration": 594,
    "start_time": "2022-11-14T17:03:27.783Z"
   },
   {
    "duration": 339,
    "start_time": "2022-11-14T17:03:28.379Z"
   },
   {
    "duration": 171,
    "start_time": "2022-11-14T17:03:28.720Z"
   },
   {
    "duration": 107,
    "start_time": "2022-11-14T17:03:28.893Z"
   },
   {
    "duration": 170,
    "start_time": "2022-11-14T17:03:29.002Z"
   },
   {
    "duration": 14,
    "start_time": "2022-11-14T17:03:29.179Z"
   },
   {
    "duration": 31,
    "start_time": "2022-11-14T17:03:29.195Z"
   },
   {
    "duration": 123,
    "start_time": "2022-11-14T17:03:29.228Z"
   },
   {
    "duration": 86,
    "start_time": "2022-11-14T17:03:29.353Z"
   },
   {
    "duration": 45,
    "start_time": "2022-11-14T17:03:29.440Z"
   },
   {
    "duration": 74,
    "start_time": "2022-11-14T17:03:29.487Z"
   },
   {
    "duration": 247,
    "start_time": "2022-11-14T17:03:29.563Z"
   },
   {
    "duration": 252,
    "start_time": "2022-11-14T17:03:29.812Z"
   },
   {
    "duration": 4,
    "start_time": "2022-11-14T17:03:30.066Z"
   },
   {
    "duration": 29,
    "start_time": "2022-11-14T17:03:30.072Z"
   },
   {
    "duration": 23,
    "start_time": "2022-11-14T17:03:30.102Z"
   },
   {
    "duration": 358,
    "start_time": "2022-11-14T17:03:30.127Z"
   },
   {
    "duration": 6,
    "start_time": "2022-11-14T17:03:30.486Z"
   },
   {
    "duration": 32,
    "start_time": "2022-11-14T17:03:30.493Z"
   },
   {
    "duration": 12,
    "start_time": "2022-11-14T17:03:30.527Z"
   },
   {
    "duration": 280,
    "start_time": "2022-11-14T17:03:30.540Z"
   },
   {
    "duration": 7,
    "start_time": "2022-11-14T17:03:30.821Z"
   },
   {
    "duration": 50,
    "start_time": "2022-11-14T17:03:30.830Z"
   },
   {
    "duration": 190,
    "start_time": "2022-11-14T17:03:30.882Z"
   },
   {
    "duration": 0,
    "start_time": "2022-11-14T17:03:31.073Z"
   },
   {
    "duration": 0,
    "start_time": "2022-11-14T17:03:31.075Z"
   },
   {
    "duration": 0,
    "start_time": "2022-11-14T17:03:31.077Z"
   },
   {
    "duration": 0,
    "start_time": "2022-11-14T17:03:31.080Z"
   },
   {
    "duration": 0,
    "start_time": "2022-11-14T17:03:31.081Z"
   },
   {
    "duration": 0,
    "start_time": "2022-11-14T17:03:31.083Z"
   },
   {
    "duration": 0,
    "start_time": "2022-11-14T17:03:31.085Z"
   },
   {
    "duration": 0,
    "start_time": "2022-11-14T17:03:31.087Z"
   },
   {
    "duration": 0,
    "start_time": "2022-11-14T17:03:31.088Z"
   },
   {
    "duration": 11,
    "start_time": "2022-11-14T17:14:16.822Z"
   },
   {
    "duration": 5,
    "start_time": "2022-11-14T17:22:21.518Z"
   },
   {
    "duration": 14,
    "start_time": "2022-11-14T17:22:32.965Z"
   },
   {
    "duration": 10,
    "start_time": "2022-11-14T17:25:11.921Z"
   },
   {
    "duration": 10,
    "start_time": "2022-11-14T17:25:29.272Z"
   },
   {
    "duration": 9,
    "start_time": "2022-11-14T17:25:34.833Z"
   },
   {
    "duration": 13,
    "start_time": "2022-11-14T17:25:50.942Z"
   },
   {
    "duration": 9,
    "start_time": "2022-11-14T17:25:59.347Z"
   },
   {
    "duration": 51,
    "start_time": "2022-11-14T17:35:47.693Z"
   },
   {
    "duration": 16,
    "start_time": "2022-11-14T17:36:16.726Z"
   },
   {
    "duration": 9,
    "start_time": "2022-11-14T17:38:13.022Z"
   },
   {
    "duration": 4,
    "start_time": "2022-11-14T17:39:25.467Z"
   },
   {
    "duration": 4,
    "start_time": "2022-11-14T17:39:45.311Z"
   },
   {
    "duration": 6,
    "start_time": "2022-11-14T17:39:49.195Z"
   },
   {
    "duration": 10,
    "start_time": "2022-11-14T17:40:15.853Z"
   },
   {
    "duration": 11,
    "start_time": "2022-11-14T17:40:24.982Z"
   },
   {
    "duration": 14,
    "start_time": "2022-11-14T17:40:30.230Z"
   },
   {
    "duration": 10,
    "start_time": "2022-11-14T17:40:33.680Z"
   },
   {
    "duration": 14,
    "start_time": "2022-11-14T17:40:56.567Z"
   },
   {
    "duration": 7,
    "start_time": "2022-11-14T17:41:00.134Z"
   },
   {
    "duration": 4,
    "start_time": "2022-11-14T17:41:09.943Z"
   },
   {
    "duration": 4,
    "start_time": "2022-11-14T17:48:02.050Z"
   },
   {
    "duration": 12,
    "start_time": "2022-11-14T17:49:12.030Z"
   },
   {
    "duration": 16,
    "start_time": "2022-11-14T17:49:24.268Z"
   },
   {
    "duration": 17,
    "start_time": "2022-11-14T17:51:21.931Z"
   },
   {
    "duration": 13,
    "start_time": "2022-11-14T18:01:40.319Z"
   },
   {
    "duration": 10,
    "start_time": "2022-11-14T18:01:53.208Z"
   },
   {
    "duration": 14,
    "start_time": "2022-11-14T18:02:15.073Z"
   },
   {
    "duration": 7,
    "start_time": "2022-11-14T18:02:37.587Z"
   },
   {
    "duration": 7,
    "start_time": "2022-11-14T18:03:00.972Z"
   },
   {
    "duration": 6,
    "start_time": "2022-11-14T18:03:13.113Z"
   },
   {
    "duration": 8,
    "start_time": "2022-11-14T18:03:22.624Z"
   },
   {
    "duration": 6,
    "start_time": "2022-11-14T18:03:30.199Z"
   },
   {
    "duration": 5,
    "start_time": "2022-11-14T18:03:34.088Z"
   },
   {
    "duration": 5,
    "start_time": "2022-11-14T18:03:37.135Z"
   },
   {
    "duration": 5,
    "start_time": "2022-11-14T18:03:40.171Z"
   },
   {
    "duration": 6,
    "start_time": "2022-11-14T18:03:44.890Z"
   },
   {
    "duration": 6,
    "start_time": "2022-11-14T18:03:48.646Z"
   },
   {
    "duration": 6,
    "start_time": "2022-11-14T18:03:52.585Z"
   },
   {
    "duration": 20,
    "start_time": "2022-11-14T18:05:16.893Z"
   },
   {
    "duration": 19,
    "start_time": "2022-11-14T18:06:14.834Z"
   },
   {
    "duration": 13,
    "start_time": "2022-11-14T18:06:33.981Z"
   },
   {
    "duration": 12,
    "start_time": "2022-11-14T18:06:57.741Z"
   },
   {
    "duration": 12,
    "start_time": "2022-11-14T18:07:10.673Z"
   },
   {
    "duration": 7,
    "start_time": "2022-11-14T18:07:32.711Z"
   },
   {
    "duration": 10,
    "start_time": "2022-11-14T18:07:48.771Z"
   },
   {
    "duration": 10,
    "start_time": "2022-11-14T18:08:20.235Z"
   },
   {
    "duration": 10,
    "start_time": "2022-11-14T18:10:04.019Z"
   },
   {
    "duration": 13,
    "start_time": "2022-11-14T18:10:25.554Z"
   },
   {
    "duration": 12,
    "start_time": "2022-11-14T18:10:34.006Z"
   },
   {
    "duration": 12,
    "start_time": "2022-11-14T18:16:00.497Z"
   },
   {
    "duration": 10,
    "start_time": "2022-11-14T18:16:06.139Z"
   },
   {
    "duration": 11,
    "start_time": "2022-11-14T18:16:22.370Z"
   },
   {
    "duration": 11,
    "start_time": "2022-11-14T18:16:26.897Z"
   },
   {
    "duration": 5,
    "start_time": "2022-11-14T18:18:15.526Z"
   },
   {
    "duration": 307,
    "start_time": "2022-11-14T18:18:19.821Z"
   },
   {
    "duration": 4,
    "start_time": "2022-11-14T18:18:53.227Z"
   },
   {
    "duration": 8,
    "start_time": "2022-11-14T18:18:56.694Z"
   },
   {
    "duration": 4,
    "start_time": "2022-11-14T18:18:58.065Z"
   },
   {
    "duration": 4,
    "start_time": "2022-11-14T18:18:58.620Z"
   },
   {
    "duration": 10,
    "start_time": "2022-11-14T18:19:00.863Z"
   },
   {
    "duration": 4,
    "start_time": "2022-11-14T18:19:06.081Z"
   },
   {
    "duration": 4,
    "start_time": "2022-11-14T18:19:07.243Z"
   },
   {
    "duration": 3,
    "start_time": "2022-11-14T18:19:51.316Z"
   },
   {
    "duration": 10,
    "start_time": "2022-11-14T18:19:53.491Z"
   },
   {
    "duration": 17,
    "start_time": "2022-11-14T18:19:54.965Z"
   },
   {
    "duration": 5,
    "start_time": "2022-11-14T18:19:58.768Z"
   },
   {
    "duration": 5,
    "start_time": "2022-11-14T18:19:59.381Z"
   },
   {
    "duration": 7,
    "start_time": "2022-11-14T18:19:59.879Z"
   },
   {
    "duration": 8,
    "start_time": "2022-11-14T18:20:02.130Z"
   },
   {
    "duration": 6,
    "start_time": "2022-11-14T18:25:04.063Z"
   },
   {
    "duration": 5,
    "start_time": "2022-11-14T18:25:25.432Z"
   },
   {
    "duration": 6,
    "start_time": "2022-11-14T18:25:26.240Z"
   },
   {
    "duration": 15,
    "start_time": "2022-11-14T18:25:28.803Z"
   },
   {
    "duration": 14,
    "start_time": "2022-11-14T18:25:29.663Z"
   },
   {
    "duration": 9,
    "start_time": "2022-11-14T18:25:30.540Z"
   },
   {
    "duration": 9,
    "start_time": "2022-11-14T18:25:30.758Z"
   },
   {
    "duration": 16,
    "start_time": "2022-11-14T18:25:31.021Z"
   },
   {
    "duration": 4,
    "start_time": "2022-11-14T18:25:31.289Z"
   },
   {
    "duration": 22,
    "start_time": "2022-11-14T18:25:33.260Z"
   },
   {
    "duration": 30,
    "start_time": "2022-11-14T18:25:33.843Z"
   },
   {
    "duration": 26,
    "start_time": "2022-11-14T18:25:34.844Z"
   },
   {
    "duration": 24,
    "start_time": "2022-11-14T18:25:35.100Z"
   },
   {
    "duration": 5,
    "start_time": "2022-11-14T18:25:35.558Z"
   },
   {
    "duration": 25,
    "start_time": "2022-11-14T18:25:35.866Z"
   },
   {
    "duration": 31,
    "start_time": "2022-11-14T18:25:38.180Z"
   },
   {
    "duration": 111,
    "start_time": "2022-11-14T18:25:39.089Z"
   },
   {
    "duration": 100,
    "start_time": "2022-11-14T18:25:40.228Z"
   },
   {
    "duration": 6,
    "start_time": "2022-11-14T18:25:41.055Z"
   },
   {
    "duration": 13,
    "start_time": "2022-11-14T18:25:42.930Z"
   },
   {
    "duration": 258,
    "start_time": "2022-11-14T18:25:43.461Z"
   },
   {
    "duration": 8,
    "start_time": "2022-11-14T18:25:44.503Z"
   },
   {
    "duration": 276,
    "start_time": "2022-11-14T18:25:44.842Z"
   },
   {
    "duration": 110,
    "start_time": "2022-11-14T18:25:45.269Z"
   },
   {
    "duration": 16,
    "start_time": "2022-11-14T18:25:46.273Z"
   },
   {
    "duration": 14,
    "start_time": "2022-11-14T18:25:46.552Z"
   },
   {
    "duration": 214,
    "start_time": "2022-11-14T18:29:58.607Z"
   },
   {
    "duration": 3,
    "start_time": "2022-11-14T18:30:04.271Z"
   },
   {
    "duration": 8,
    "start_time": "2022-11-14T18:30:04.573Z"
   },
   {
    "duration": 4,
    "start_time": "2022-11-14T18:30:06.394Z"
   },
   {
    "duration": 4,
    "start_time": "2022-11-14T18:30:06.648Z"
   },
   {
    "duration": 11,
    "start_time": "2022-11-14T18:30:07.211Z"
   },
   {
    "duration": 4,
    "start_time": "2022-11-14T18:30:08.345Z"
   },
   {
    "duration": 4,
    "start_time": "2022-11-14T18:30:09.243Z"
   },
   {
    "duration": 3,
    "start_time": "2022-11-14T18:30:11.726Z"
   },
   {
    "duration": 11,
    "start_time": "2022-11-14T18:30:12.641Z"
   },
   {
    "duration": 17,
    "start_time": "2022-11-14T18:30:16.126Z"
   },
   {
    "duration": 5,
    "start_time": "2022-11-14T18:30:17.364Z"
   },
   {
    "duration": 5,
    "start_time": "2022-11-14T18:30:17.748Z"
   },
   {
    "duration": 7,
    "start_time": "2022-11-14T18:30:18.205Z"
   },
   {
    "duration": 7,
    "start_time": "2022-11-14T18:30:18.674Z"
   },
   {
    "duration": 1191,
    "start_time": "2022-11-14T18:41:44.130Z"
   },
   {
    "duration": 281,
    "start_time": "2022-11-14T18:41:45.323Z"
   },
   {
    "duration": 3,
    "start_time": "2022-11-14T18:41:45.606Z"
   },
   {
    "duration": 20,
    "start_time": "2022-11-14T18:41:45.611Z"
   },
   {
    "duration": 19,
    "start_time": "2022-11-14T18:41:45.633Z"
   },
   {
    "duration": 13,
    "start_time": "2022-11-14T18:41:45.653Z"
   },
   {
    "duration": 20,
    "start_time": "2022-11-14T18:41:45.668Z"
   },
   {
    "duration": 12,
    "start_time": "2022-11-14T18:41:45.690Z"
   },
   {
    "duration": 11,
    "start_time": "2022-11-14T18:41:45.703Z"
   },
   {
    "duration": 12,
    "start_time": "2022-11-14T18:41:45.717Z"
   },
   {
    "duration": 19,
    "start_time": "2022-11-14T18:41:45.731Z"
   },
   {
    "duration": 30,
    "start_time": "2022-11-14T18:41:45.752Z"
   },
   {
    "duration": 5,
    "start_time": "2022-11-14T18:41:45.784Z"
   },
   {
    "duration": 14,
    "start_time": "2022-11-14T18:41:45.791Z"
   },
   {
    "duration": 13,
    "start_time": "2022-11-14T18:41:45.806Z"
   },
   {
    "duration": 12,
    "start_time": "2022-11-14T18:41:45.821Z"
   },
   {
    "duration": 10,
    "start_time": "2022-11-14T18:41:45.834Z"
   },
   {
    "duration": 8,
    "start_time": "2022-11-14T18:41:45.846Z"
   },
   {
    "duration": 19,
    "start_time": "2022-11-14T18:41:45.855Z"
   },
   {
    "duration": 13,
    "start_time": "2022-11-14T18:41:45.876Z"
   },
   {
    "duration": 13,
    "start_time": "2022-11-14T18:41:45.890Z"
   },
   {
    "duration": 10,
    "start_time": "2022-11-14T18:41:45.905Z"
   },
   {
    "duration": 28,
    "start_time": "2022-11-14T18:41:45.916Z"
   },
   {
    "duration": 17,
    "start_time": "2022-11-14T18:41:45.947Z"
   },
   {
    "duration": 44,
    "start_time": "2022-11-14T18:41:45.966Z"
   },
   {
    "duration": 34,
    "start_time": "2022-11-14T18:41:46.012Z"
   },
   {
    "duration": 28,
    "start_time": "2022-11-14T18:41:46.048Z"
   },
   {
    "duration": 24,
    "start_time": "2022-11-14T18:41:46.081Z"
   },
   {
    "duration": 4,
    "start_time": "2022-11-14T18:41:46.106Z"
   },
   {
    "duration": 49,
    "start_time": "2022-11-14T18:41:46.112Z"
   },
   {
    "duration": 33,
    "start_time": "2022-11-14T18:41:46.163Z"
   },
   {
    "duration": 154,
    "start_time": "2022-11-14T18:41:46.198Z"
   },
   {
    "duration": 118,
    "start_time": "2022-11-14T18:41:46.354Z"
   },
   {
    "duration": 8,
    "start_time": "2022-11-14T18:41:46.473Z"
   },
   {
    "duration": 21,
    "start_time": "2022-11-14T18:41:46.482Z"
   },
   {
    "duration": 398,
    "start_time": "2022-11-14T18:41:46.505Z"
   },
   {
    "duration": 8,
    "start_time": "2022-11-14T18:41:46.905Z"
   },
   {
    "duration": 316,
    "start_time": "2022-11-14T18:41:46.915Z"
   },
   {
    "duration": 125,
    "start_time": "2022-11-14T18:41:47.236Z"
   },
   {
    "duration": 13,
    "start_time": "2022-11-14T18:41:47.363Z"
   },
   {
    "duration": 12,
    "start_time": "2022-11-14T18:41:47.377Z"
   },
   {
    "duration": 52,
    "start_time": "2022-11-14T18:41:47.390Z"
   },
   {
    "duration": 3,
    "start_time": "2022-11-14T18:41:47.444Z"
   },
   {
    "duration": 460,
    "start_time": "2022-11-14T18:41:47.449Z"
   },
   {
    "duration": 224,
    "start_time": "2022-11-14T18:41:47.911Z"
   },
   {
    "duration": 167,
    "start_time": "2022-11-14T18:41:48.137Z"
   },
   {
    "duration": 104,
    "start_time": "2022-11-14T18:41:48.306Z"
   },
   {
    "duration": 177,
    "start_time": "2022-11-14T18:41:48.412Z"
   },
   {
    "duration": 18,
    "start_time": "2022-11-14T18:41:48.591Z"
   },
   {
    "duration": 43,
    "start_time": "2022-11-14T18:41:48.611Z"
   },
   {
    "duration": 23,
    "start_time": "2022-11-14T18:41:48.656Z"
   },
   {
    "duration": 12,
    "start_time": "2022-11-14T18:41:48.681Z"
   },
   {
    "duration": 32,
    "start_time": "2022-11-14T18:41:48.694Z"
   },
   {
    "duration": 13,
    "start_time": "2022-11-14T18:41:48.735Z"
   },
   {
    "duration": 259,
    "start_time": "2022-11-14T18:41:48.749Z"
   },
   {
    "duration": 277,
    "start_time": "2022-11-14T18:41:49.010Z"
   },
   {
    "duration": 4,
    "start_time": "2022-11-14T18:41:49.289Z"
   },
   {
    "duration": 14,
    "start_time": "2022-11-14T18:41:49.295Z"
   },
   {
    "duration": 15,
    "start_time": "2022-11-14T18:41:49.310Z"
   },
   {
    "duration": 390,
    "start_time": "2022-11-14T18:41:49.327Z"
   },
   {
    "duration": 6,
    "start_time": "2022-11-14T18:41:49.719Z"
   },
   {
    "duration": 25,
    "start_time": "2022-11-14T18:41:49.726Z"
   },
   {
    "duration": 14,
    "start_time": "2022-11-14T18:41:49.752Z"
   },
   {
    "duration": 256,
    "start_time": "2022-11-14T18:41:49.767Z"
   },
   {
    "duration": 11,
    "start_time": "2022-11-14T18:41:50.025Z"
   },
   {
    "duration": 35,
    "start_time": "2022-11-14T18:41:50.038Z"
   },
   {
    "duration": 78,
    "start_time": "2022-11-14T18:41:50.075Z"
   },
   {
    "duration": 62,
    "start_time": "2022-11-14T18:41:50.155Z"
   },
   {
    "duration": 56,
    "start_time": "2022-11-14T18:41:50.219Z"
   },
   {
    "duration": 68,
    "start_time": "2022-11-14T18:41:50.278Z"
   },
   {
    "duration": 54,
    "start_time": "2022-11-14T18:41:50.347Z"
   },
   {
    "duration": 158,
    "start_time": "2022-11-14T18:41:50.402Z"
   },
   {
    "duration": 532,
    "start_time": "2022-11-14T18:41:50.562Z"
   },
   {
    "duration": 20,
    "start_time": "2022-11-14T18:41:51.096Z"
   },
   {
    "duration": 30,
    "start_time": "2022-11-14T18:41:51.118Z"
   },
   {
    "duration": 5,
    "start_time": "2022-11-14T18:56:27.667Z"
   },
   {
    "duration": 89,
    "start_time": "2022-11-14T18:57:16.695Z"
   },
   {
    "duration": 5,
    "start_time": "2022-11-14T20:09:58.178Z"
   },
   {
    "duration": 960,
    "start_time": "2022-11-14T20:09:59.150Z"
   },
   {
    "duration": 4,
    "start_time": "2022-11-14T20:10:01.076Z"
   },
   {
    "duration": 7,
    "start_time": "2022-11-14T20:10:01.311Z"
   },
   {
    "duration": 1498,
    "start_time": "2022-11-15T02:33:39.249Z"
   },
   {
    "duration": 273,
    "start_time": "2022-11-15T02:33:40.749Z"
   },
   {
    "duration": 4,
    "start_time": "2022-11-15T02:33:41.023Z"
   },
   {
    "duration": 22,
    "start_time": "2022-11-15T02:33:41.029Z"
   },
   {
    "duration": 16,
    "start_time": "2022-11-15T02:33:41.052Z"
   },
   {
    "duration": 8,
    "start_time": "2022-11-15T02:33:41.070Z"
   },
   {
    "duration": 16,
    "start_time": "2022-11-15T02:33:41.080Z"
   },
   {
    "duration": 15,
    "start_time": "2022-11-15T02:33:41.098Z"
   },
   {
    "duration": 7,
    "start_time": "2022-11-15T02:33:41.115Z"
   },
   {
    "duration": 7,
    "start_time": "2022-11-15T02:33:41.125Z"
   },
   {
    "duration": 13,
    "start_time": "2022-11-15T02:33:41.134Z"
   },
   {
    "duration": 23,
    "start_time": "2022-11-15T02:33:41.149Z"
   },
   {
    "duration": 5,
    "start_time": "2022-11-15T02:33:41.174Z"
   },
   {
    "duration": 34,
    "start_time": "2022-11-15T02:33:41.180Z"
   },
   {
    "duration": 10,
    "start_time": "2022-11-15T02:33:41.216Z"
   },
   {
    "duration": 12,
    "start_time": "2022-11-15T02:33:41.228Z"
   },
   {
    "duration": 7,
    "start_time": "2022-11-15T02:33:41.242Z"
   },
   {
    "duration": 15,
    "start_time": "2022-11-15T02:33:41.251Z"
   },
   {
    "duration": 18,
    "start_time": "2022-11-15T02:33:41.268Z"
   },
   {
    "duration": 14,
    "start_time": "2022-11-15T02:33:41.311Z"
   },
   {
    "duration": 29,
    "start_time": "2022-11-15T02:33:41.326Z"
   },
   {
    "duration": 12,
    "start_time": "2022-11-15T02:33:41.357Z"
   },
   {
    "duration": 15,
    "start_time": "2022-11-15T02:33:41.371Z"
   },
   {
    "duration": 10,
    "start_time": "2022-11-15T02:33:41.389Z"
   },
   {
    "duration": 46,
    "start_time": "2022-11-15T02:33:41.401Z"
   },
   {
    "duration": 47,
    "start_time": "2022-11-15T02:33:41.448Z"
   },
   {
    "duration": 43,
    "start_time": "2022-11-15T02:33:41.496Z"
   },
   {
    "duration": 27,
    "start_time": "2022-11-15T02:33:41.543Z"
   },
   {
    "duration": 5,
    "start_time": "2022-11-15T02:33:41.571Z"
   },
   {
    "duration": 53,
    "start_time": "2022-11-15T02:33:41.578Z"
   },
   {
    "duration": 38,
    "start_time": "2022-11-15T02:33:41.633Z"
   },
   {
    "duration": 151,
    "start_time": "2022-11-15T02:33:41.673Z"
   },
   {
    "duration": 123,
    "start_time": "2022-11-15T02:33:41.826Z"
   },
   {
    "duration": 6,
    "start_time": "2022-11-15T02:33:41.951Z"
   },
   {
    "duration": 19,
    "start_time": "2022-11-15T02:33:41.959Z"
   },
   {
    "duration": 400,
    "start_time": "2022-11-15T02:33:41.980Z"
   },
   {
    "duration": 8,
    "start_time": "2022-11-15T02:33:42.381Z"
   },
   {
    "duration": 323,
    "start_time": "2022-11-15T02:33:42.391Z"
   },
   {
    "duration": 131,
    "start_time": "2022-11-15T02:33:42.716Z"
   },
   {
    "duration": 13,
    "start_time": "2022-11-15T02:33:42.849Z"
   },
   {
    "duration": 12,
    "start_time": "2022-11-15T02:33:42.864Z"
   },
   {
    "duration": 6,
    "start_time": "2022-11-15T02:33:42.877Z"
   },
   {
    "duration": 541,
    "start_time": "2022-11-15T02:33:42.885Z"
   },
   {
    "duration": 345,
    "start_time": "2022-11-15T02:33:43.428Z"
   },
   {
    "duration": 182,
    "start_time": "2022-11-15T02:33:43.775Z"
   },
   {
    "duration": 178,
    "start_time": "2022-11-15T02:33:43.959Z"
   },
   {
    "duration": 19,
    "start_time": "2022-11-15T02:33:44.139Z"
   },
   {
    "duration": 10,
    "start_time": "2022-11-15T02:33:44.160Z"
   },
   {
    "duration": 53,
    "start_time": "2022-11-15T02:33:44.173Z"
   },
   {
    "duration": 12,
    "start_time": "2022-11-15T02:33:44.227Z"
   },
   {
    "duration": 19,
    "start_time": "2022-11-15T02:33:44.241Z"
   },
   {
    "duration": 13,
    "start_time": "2022-11-15T02:33:44.262Z"
   },
   {
    "duration": 242,
    "start_time": "2022-11-15T02:33:44.313Z"
   },
   {
    "duration": 273,
    "start_time": "2022-11-15T02:33:44.558Z"
   },
   {
    "duration": 6,
    "start_time": "2022-11-15T02:33:44.834Z"
   },
   {
    "duration": 12,
    "start_time": "2022-11-15T02:33:44.842Z"
   },
   {
    "duration": 12,
    "start_time": "2022-11-15T02:33:44.856Z"
   },
   {
    "duration": 414,
    "start_time": "2022-11-15T02:33:44.870Z"
   },
   {
    "duration": 6,
    "start_time": "2022-11-15T02:33:45.287Z"
   },
   {
    "duration": 35,
    "start_time": "2022-11-15T02:33:45.295Z"
   },
   {
    "duration": 14,
    "start_time": "2022-11-15T02:33:45.332Z"
   },
   {
    "duration": 271,
    "start_time": "2022-11-15T02:33:45.347Z"
   },
   {
    "duration": 14,
    "start_time": "2022-11-15T02:33:45.620Z"
   },
   {
    "duration": 10,
    "start_time": "2022-11-15T02:33:45.636Z"
   },
   {
    "duration": 19,
    "start_time": "2022-11-15T02:33:45.648Z"
   },
   {
    "duration": 9,
    "start_time": "2022-11-15T02:33:45.669Z"
   },
   {
    "duration": 372,
    "start_time": "2022-11-15T02:34:17.555Z"
   },
   {
    "duration": 1278,
    "start_time": "2022-11-15T04:24:44.382Z"
   },
   {
    "duration": 244,
    "start_time": "2022-11-15T04:24:45.664Z"
   },
   {
    "duration": 3,
    "start_time": "2022-11-15T04:24:45.911Z"
   },
   {
    "duration": 23,
    "start_time": "2022-11-15T04:24:45.916Z"
   },
   {
    "duration": 8,
    "start_time": "2022-11-15T04:24:45.942Z"
   },
   {
    "duration": 9,
    "start_time": "2022-11-15T04:24:45.952Z"
   },
   {
    "duration": 22,
    "start_time": "2022-11-15T04:24:45.964Z"
   },
   {
    "duration": 9,
    "start_time": "2022-11-15T04:24:45.988Z"
   },
   {
    "duration": 8,
    "start_time": "2022-11-15T04:24:46.011Z"
   },
   {
    "duration": 16,
    "start_time": "2022-11-15T04:24:46.023Z"
   },
   {
    "duration": 42,
    "start_time": "2022-11-15T04:24:46.041Z"
   },
   {
    "duration": 52,
    "start_time": "2022-11-15T04:24:46.085Z"
   },
   {
    "duration": 5,
    "start_time": "2022-11-15T04:24:46.138Z"
   },
   {
    "duration": 11,
    "start_time": "2022-11-15T04:24:46.144Z"
   },
   {
    "duration": 10,
    "start_time": "2022-11-15T04:24:46.156Z"
   },
   {
    "duration": 14,
    "start_time": "2022-11-15T04:24:46.168Z"
   },
   {
    "duration": 8,
    "start_time": "2022-11-15T04:24:46.183Z"
   },
   {
    "duration": 25,
    "start_time": "2022-11-15T04:24:46.193Z"
   },
   {
    "duration": 17,
    "start_time": "2022-11-15T04:24:46.221Z"
   },
   {
    "duration": 17,
    "start_time": "2022-11-15T04:24:46.239Z"
   },
   {
    "duration": 11,
    "start_time": "2022-11-15T04:24:46.258Z"
   },
   {
    "duration": 13,
    "start_time": "2022-11-15T04:24:46.271Z"
   },
   {
    "duration": 53,
    "start_time": "2022-11-15T04:24:46.287Z"
   },
   {
    "duration": 28,
    "start_time": "2022-11-15T04:24:46.343Z"
   },
   {
    "duration": 41,
    "start_time": "2022-11-15T04:24:46.373Z"
   },
   {
    "duration": 46,
    "start_time": "2022-11-15T04:24:46.416Z"
   },
   {
    "duration": 47,
    "start_time": "2022-11-15T04:24:46.465Z"
   },
   {
    "duration": 38,
    "start_time": "2022-11-15T04:24:46.520Z"
   },
   {
    "duration": 6,
    "start_time": "2022-11-15T04:24:46.560Z"
   },
   {
    "duration": 57,
    "start_time": "2022-11-15T04:24:46.568Z"
   },
   {
    "duration": 48,
    "start_time": "2022-11-15T04:24:46.627Z"
   },
   {
    "duration": 216,
    "start_time": "2022-11-15T04:24:46.677Z"
   },
   {
    "duration": 134,
    "start_time": "2022-11-15T04:24:46.895Z"
   },
   {
    "duration": 7,
    "start_time": "2022-11-15T04:24:47.031Z"
   },
   {
    "duration": 29,
    "start_time": "2022-11-15T04:24:47.040Z"
   },
   {
    "duration": 387,
    "start_time": "2022-11-15T04:24:47.071Z"
   },
   {
    "duration": 8,
    "start_time": "2022-11-15T04:24:47.460Z"
   },
   {
    "duration": 399,
    "start_time": "2022-11-15T04:24:47.470Z"
   },
   {
    "duration": 186,
    "start_time": "2022-11-15T04:24:47.871Z"
   },
   {
    "duration": 14,
    "start_time": "2022-11-15T04:24:48.058Z"
   },
   {
    "duration": 12,
    "start_time": "2022-11-15T04:24:48.074Z"
   },
   {
    "duration": 24,
    "start_time": "2022-11-15T04:24:48.088Z"
   },
   {
    "duration": 508,
    "start_time": "2022-11-15T04:24:48.114Z"
   },
   {
    "duration": 291,
    "start_time": "2022-11-15T04:24:48.624Z"
   },
   {
    "duration": 177,
    "start_time": "2022-11-15T04:24:48.917Z"
   },
   {
    "duration": 248,
    "start_time": "2022-11-15T04:24:49.096Z"
   },
   {
    "duration": 17,
    "start_time": "2022-11-15T04:24:49.347Z"
   },
   {
    "duration": 8,
    "start_time": "2022-11-15T04:24:49.366Z"
   },
   {
    "duration": 48,
    "start_time": "2022-11-15T04:24:49.375Z"
   },
   {
    "duration": 13,
    "start_time": "2022-11-15T04:24:49.425Z"
   },
   {
    "duration": 25,
    "start_time": "2022-11-15T04:24:49.440Z"
   },
   {
    "duration": 47,
    "start_time": "2022-11-15T04:24:49.467Z"
   },
   {
    "duration": 248,
    "start_time": "2022-11-15T04:24:49.516Z"
   },
   {
    "duration": 262,
    "start_time": "2022-11-15T04:24:49.765Z"
   },
   {
    "duration": 5,
    "start_time": "2022-11-15T04:24:50.029Z"
   },
   {
    "duration": 14,
    "start_time": "2022-11-15T04:24:50.036Z"
   },
   {
    "duration": 13,
    "start_time": "2022-11-15T04:24:50.052Z"
   },
   {
    "duration": 377,
    "start_time": "2022-11-15T04:24:50.067Z"
   },
   {
    "duration": 7,
    "start_time": "2022-11-15T04:24:50.446Z"
   },
   {
    "duration": 20,
    "start_time": "2022-11-15T04:24:50.455Z"
   },
   {
    "duration": 11,
    "start_time": "2022-11-15T04:24:50.477Z"
   },
   {
    "duration": 300,
    "start_time": "2022-11-15T04:24:50.490Z"
   },
   {
    "duration": 20,
    "start_time": "2022-11-15T04:24:50.792Z"
   },
   {
    "duration": 28,
    "start_time": "2022-11-15T04:24:50.815Z"
   },
   {
    "duration": 21,
    "start_time": "2022-11-15T04:24:50.844Z"
   },
   {
    "duration": 16,
    "start_time": "2022-11-15T04:24:50.867Z"
   },
   {
    "duration": 351,
    "start_time": "2022-11-15T04:24:50.885Z"
   },
   {
    "duration": 1288,
    "start_time": "2022-11-15T04:25:18.200Z"
   },
   {
    "duration": 271,
    "start_time": "2022-11-15T04:25:19.490Z"
   },
   {
    "duration": 3,
    "start_time": "2022-11-15T04:25:19.763Z"
   },
   {
    "duration": 15,
    "start_time": "2022-11-15T04:25:19.768Z"
   },
   {
    "duration": 4,
    "start_time": "2022-11-15T04:25:19.785Z"
   },
   {
    "duration": 22,
    "start_time": "2022-11-15T04:25:19.790Z"
   },
   {
    "duration": 19,
    "start_time": "2022-11-15T04:25:19.815Z"
   },
   {
    "duration": 7,
    "start_time": "2022-11-15T04:25:19.836Z"
   },
   {
    "duration": 7,
    "start_time": "2022-11-15T04:25:19.845Z"
   },
   {
    "duration": 7,
    "start_time": "2022-11-15T04:25:19.855Z"
   },
   {
    "duration": 20,
    "start_time": "2022-11-15T04:25:19.863Z"
   },
   {
    "duration": 48,
    "start_time": "2022-11-15T04:25:19.885Z"
   },
   {
    "duration": 5,
    "start_time": "2022-11-15T04:25:19.935Z"
   },
   {
    "duration": 9,
    "start_time": "2022-11-15T04:25:19.942Z"
   },
   {
    "duration": 10,
    "start_time": "2022-11-15T04:25:19.953Z"
   },
   {
    "duration": 10,
    "start_time": "2022-11-15T04:25:19.965Z"
   },
   {
    "duration": 7,
    "start_time": "2022-11-15T04:25:19.977Z"
   },
   {
    "duration": 10,
    "start_time": "2022-11-15T04:25:20.014Z"
   },
   {
    "duration": 29,
    "start_time": "2022-11-15T04:25:20.026Z"
   },
   {
    "duration": 14,
    "start_time": "2022-11-15T04:25:20.057Z"
   },
   {
    "duration": 12,
    "start_time": "2022-11-15T04:25:20.073Z"
   },
   {
    "duration": 31,
    "start_time": "2022-11-15T04:25:20.087Z"
   },
   {
    "duration": 19,
    "start_time": "2022-11-15T04:25:20.120Z"
   },
   {
    "duration": 5,
    "start_time": "2022-11-15T04:25:20.141Z"
   },
   {
    "duration": 42,
    "start_time": "2022-11-15T04:25:20.148Z"
   },
   {
    "duration": 52,
    "start_time": "2022-11-15T04:25:20.192Z"
   },
   {
    "duration": 28,
    "start_time": "2022-11-15T04:25:20.245Z"
   },
   {
    "duration": 48,
    "start_time": "2022-11-15T04:25:20.276Z"
   },
   {
    "duration": 5,
    "start_time": "2022-11-15T04:25:20.325Z"
   },
   {
    "duration": 32,
    "start_time": "2022-11-15T04:25:20.331Z"
   },
   {
    "duration": 51,
    "start_time": "2022-11-15T04:25:20.365Z"
   },
   {
    "duration": 153,
    "start_time": "2022-11-15T04:25:20.418Z"
   },
   {
    "duration": 115,
    "start_time": "2022-11-15T04:25:20.576Z"
   },
   {
    "duration": 20,
    "start_time": "2022-11-15T04:25:20.693Z"
   },
   {
    "duration": 14,
    "start_time": "2022-11-15T04:25:20.715Z"
   },
   {
    "duration": 378,
    "start_time": "2022-11-15T04:25:20.731Z"
   },
   {
    "duration": 7,
    "start_time": "2022-11-15T04:25:21.112Z"
   },
   {
    "duration": 316,
    "start_time": "2022-11-15T04:25:21.121Z"
   },
   {
    "duration": 134,
    "start_time": "2022-11-15T04:25:21.439Z"
   },
   {
    "duration": 14,
    "start_time": "2022-11-15T04:25:21.575Z"
   },
   {
    "duration": 26,
    "start_time": "2022-11-15T04:25:21.590Z"
   },
   {
    "duration": 7,
    "start_time": "2022-11-15T04:25:21.618Z"
   },
   {
    "duration": 504,
    "start_time": "2022-11-15T04:25:21.627Z"
   },
   {
    "duration": 250,
    "start_time": "2022-11-15T04:25:22.133Z"
   },
   {
    "duration": 183,
    "start_time": "2022-11-15T04:25:22.385Z"
   },
   {
    "duration": 179,
    "start_time": "2022-11-15T04:25:22.570Z"
   },
   {
    "duration": 17,
    "start_time": "2022-11-15T04:25:22.751Z"
   },
   {
    "duration": 42,
    "start_time": "2022-11-15T04:25:22.770Z"
   },
   {
    "duration": 15,
    "start_time": "2022-11-15T04:25:22.815Z"
   },
   {
    "duration": 12,
    "start_time": "2022-11-15T04:25:22.832Z"
   },
   {
    "duration": 22,
    "start_time": "2022-11-15T04:25:22.846Z"
   },
   {
    "duration": 43,
    "start_time": "2022-11-15T04:25:22.870Z"
   },
   {
    "duration": 249,
    "start_time": "2022-11-15T04:25:22.915Z"
   },
   {
    "duration": 250,
    "start_time": "2022-11-15T04:25:23.166Z"
   },
   {
    "duration": 5,
    "start_time": "2022-11-15T04:25:23.418Z"
   },
   {
    "duration": 11,
    "start_time": "2022-11-15T04:25:23.425Z"
   },
   {
    "duration": 7,
    "start_time": "2022-11-15T04:25:23.437Z"
   },
   {
    "duration": 382,
    "start_time": "2022-11-15T04:25:23.446Z"
   },
   {
    "duration": 6,
    "start_time": "2022-11-15T04:25:23.830Z"
   },
   {
    "duration": 21,
    "start_time": "2022-11-15T04:25:23.839Z"
   },
   {
    "duration": 11,
    "start_time": "2022-11-15T04:25:23.862Z"
   },
   {
    "duration": 277,
    "start_time": "2022-11-15T04:25:23.874Z"
   },
   {
    "duration": 17,
    "start_time": "2022-11-15T04:25:24.153Z"
   },
   {
    "duration": 12,
    "start_time": "2022-11-15T04:25:24.172Z"
   },
   {
    "duration": 37,
    "start_time": "2022-11-15T04:25:24.187Z"
   },
   {
    "duration": 10,
    "start_time": "2022-11-15T04:25:24.226Z"
   },
   {
    "duration": 348,
    "start_time": "2022-11-15T04:25:24.238Z"
   },
   {
    "duration": 1243,
    "start_time": "2022-11-15T07:54:38.338Z"
   },
   {
    "duration": 414,
    "start_time": "2022-11-15T07:54:39.582Z"
   },
   {
    "duration": 4,
    "start_time": "2022-11-15T07:54:39.997Z"
   },
   {
    "duration": 28,
    "start_time": "2022-11-15T07:54:40.002Z"
   },
   {
    "duration": 23,
    "start_time": "2022-11-15T07:54:40.032Z"
   },
   {
    "duration": 11,
    "start_time": "2022-11-15T07:54:40.057Z"
   },
   {
    "duration": 22,
    "start_time": "2022-11-15T07:54:40.069Z"
   },
   {
    "duration": 8,
    "start_time": "2022-11-15T07:54:40.093Z"
   },
   {
    "duration": 7,
    "start_time": "2022-11-15T07:54:40.103Z"
   },
   {
    "duration": 5,
    "start_time": "2022-11-15T07:54:40.111Z"
   },
   {
    "duration": 12,
    "start_time": "2022-11-15T07:54:40.117Z"
   },
   {
    "duration": 19,
    "start_time": "2022-11-15T07:54:40.131Z"
   },
   {
    "duration": 4,
    "start_time": "2022-11-15T07:54:40.152Z"
   },
   {
    "duration": 5,
    "start_time": "2022-11-15T07:54:40.176Z"
   },
   {
    "duration": 6,
    "start_time": "2022-11-15T07:54:40.182Z"
   },
   {
    "duration": 8,
    "start_time": "2022-11-15T07:54:40.190Z"
   },
   {
    "duration": 6,
    "start_time": "2022-11-15T07:54:40.199Z"
   },
   {
    "duration": 5,
    "start_time": "2022-11-15T07:54:40.206Z"
   },
   {
    "duration": 13,
    "start_time": "2022-11-15T07:54:40.213Z"
   },
   {
    "duration": 13,
    "start_time": "2022-11-15T07:54:40.228Z"
   },
   {
    "duration": 7,
    "start_time": "2022-11-15T07:54:40.277Z"
   },
   {
    "duration": 8,
    "start_time": "2022-11-15T07:54:40.286Z"
   },
   {
    "duration": 15,
    "start_time": "2022-11-15T07:54:40.295Z"
   },
   {
    "duration": 4,
    "start_time": "2022-11-15T07:54:40.311Z"
   },
   {
    "duration": 24,
    "start_time": "2022-11-15T07:54:40.316Z"
   },
   {
    "duration": 54,
    "start_time": "2022-11-15T07:54:40.341Z"
   },
   {
    "duration": 27,
    "start_time": "2022-11-15T07:54:40.397Z"
   },
   {
    "duration": 22,
    "start_time": "2022-11-15T07:54:40.425Z"
   },
   {
    "duration": 4,
    "start_time": "2022-11-15T07:54:40.448Z"
   },
   {
    "duration": 23,
    "start_time": "2022-11-15T07:54:40.476Z"
   },
   {
    "duration": 30,
    "start_time": "2022-11-15T07:54:40.501Z"
   },
   {
    "duration": 145,
    "start_time": "2022-11-15T07:54:40.532Z"
   },
   {
    "duration": 107,
    "start_time": "2022-11-15T07:54:40.680Z"
   },
   {
    "duration": 6,
    "start_time": "2022-11-15T07:54:40.789Z"
   },
   {
    "duration": 16,
    "start_time": "2022-11-15T07:54:40.797Z"
   },
   {
    "duration": 345,
    "start_time": "2022-11-15T07:54:40.815Z"
   },
   {
    "duration": 14,
    "start_time": "2022-11-15T07:54:41.162Z"
   },
   {
    "duration": 274,
    "start_time": "2022-11-15T07:54:41.177Z"
   },
   {
    "duration": 125,
    "start_time": "2022-11-15T07:54:41.453Z"
   },
   {
    "duration": 12,
    "start_time": "2022-11-15T07:54:41.579Z"
   },
   {
    "duration": 10,
    "start_time": "2022-11-15T07:54:41.595Z"
   },
   {
    "duration": 5,
    "start_time": "2022-11-15T07:54:41.607Z"
   },
   {
    "duration": 4487,
    "start_time": "2022-11-15T07:54:41.613Z"
   },
   {
    "duration": 209,
    "start_time": "2022-11-15T07:54:46.102Z"
   },
   {
    "duration": 166,
    "start_time": "2022-11-15T07:54:46.313Z"
   },
   {
    "duration": 177,
    "start_time": "2022-11-15T07:54:46.481Z"
   },
   {
    "duration": 18,
    "start_time": "2022-11-15T07:56:05.262Z"
   },
   {
    "duration": 16,
    "start_time": "2022-11-15T07:56:22.053Z"
   },
   {
    "duration": 14,
    "start_time": "2022-11-15T07:56:26.781Z"
   },
   {
    "duration": 1480,
    "start_time": "2022-11-15T08:41:26.602Z"
   },
   {
    "duration": 412,
    "start_time": "2022-11-15T08:41:28.084Z"
   },
   {
    "duration": 3,
    "start_time": "2022-11-15T08:41:29.515Z"
   },
   {
    "duration": 10,
    "start_time": "2022-11-15T08:41:30.640Z"
   },
   {
    "duration": 4,
    "start_time": "2022-11-15T08:41:31.203Z"
   },
   {
    "duration": 3,
    "start_time": "2022-11-15T08:41:31.703Z"
   },
   {
    "duration": 11,
    "start_time": "2022-11-15T08:41:32.243Z"
   },
   {
    "duration": 5,
    "start_time": "2022-11-15T08:41:33.384Z"
   },
   {
    "duration": 5,
    "start_time": "2022-11-15T08:41:35.208Z"
   },
   {
    "duration": 1312,
    "start_time": "2022-11-15T08:41:40.543Z"
   },
   {
    "duration": 187,
    "start_time": "2022-11-15T08:41:41.857Z"
   },
   {
    "duration": 4,
    "start_time": "2022-11-15T08:41:42.046Z"
   },
   {
    "duration": 16,
    "start_time": "2022-11-15T08:41:42.051Z"
   },
   {
    "duration": 5,
    "start_time": "2022-11-15T08:41:42.069Z"
   },
   {
    "duration": 20,
    "start_time": "2022-11-15T08:41:42.075Z"
   },
   {
    "duration": 18,
    "start_time": "2022-11-15T08:41:42.097Z"
   },
   {
    "duration": 7,
    "start_time": "2022-11-15T08:41:42.117Z"
   },
   {
    "duration": 12,
    "start_time": "2022-11-15T08:41:42.126Z"
   },
   {
    "duration": 9,
    "start_time": "2022-11-15T08:41:42.139Z"
   },
   {
    "duration": 15,
    "start_time": "2022-11-15T08:41:42.150Z"
   },
   {
    "duration": 20,
    "start_time": "2022-11-15T08:41:42.167Z"
   },
   {
    "duration": 4,
    "start_time": "2022-11-15T08:41:42.189Z"
   },
   {
    "duration": 8,
    "start_time": "2022-11-15T08:41:42.197Z"
   },
   {
    "duration": 9,
    "start_time": "2022-11-15T08:41:42.206Z"
   },
   {
    "duration": 8,
    "start_time": "2022-11-15T08:41:42.217Z"
   },
   {
    "duration": 6,
    "start_time": "2022-11-15T08:41:42.226Z"
   },
   {
    "duration": 8,
    "start_time": "2022-11-15T08:41:42.234Z"
   },
   {
    "duration": 44,
    "start_time": "2022-11-15T08:41:42.243Z"
   },
   {
    "duration": 26,
    "start_time": "2022-11-15T08:41:42.289Z"
   },
   {
    "duration": 16,
    "start_time": "2022-11-15T08:41:42.317Z"
   },
   {
    "duration": 10,
    "start_time": "2022-11-15T08:41:42.335Z"
   },
   {
    "duration": 21,
    "start_time": "2022-11-15T08:41:42.347Z"
   },
   {
    "duration": 9,
    "start_time": "2022-11-15T08:41:42.370Z"
   },
   {
    "duration": 25,
    "start_time": "2022-11-15T08:41:42.380Z"
   },
   {
    "duration": 34,
    "start_time": "2022-11-15T08:41:42.407Z"
   },
   {
    "duration": 49,
    "start_time": "2022-11-15T08:41:42.443Z"
   },
   {
    "duration": 25,
    "start_time": "2022-11-15T08:41:42.494Z"
   },
   {
    "duration": 4,
    "start_time": "2022-11-15T08:41:42.521Z"
   },
   {
    "duration": 28,
    "start_time": "2022-11-15T08:41:42.527Z"
   },
   {
    "duration": 53,
    "start_time": "2022-11-15T08:41:42.557Z"
   },
   {
    "duration": 149,
    "start_time": "2022-11-15T08:41:42.612Z"
   },
   {
    "duration": 115,
    "start_time": "2022-11-15T08:41:42.763Z"
   },
   {
    "duration": 8,
    "start_time": "2022-11-15T08:41:42.880Z"
   },
   {
    "duration": 21,
    "start_time": "2022-11-15T08:41:42.891Z"
   },
   {
    "duration": 420,
    "start_time": "2022-11-15T08:41:42.914Z"
   },
   {
    "duration": 7,
    "start_time": "2022-11-15T08:41:43.336Z"
   },
   {
    "duration": 373,
    "start_time": "2022-11-15T08:41:43.345Z"
   },
   {
    "duration": 133,
    "start_time": "2022-11-15T08:41:43.719Z"
   },
   {
    "duration": 12,
    "start_time": "2022-11-15T08:41:43.854Z"
   },
   {
    "duration": 18,
    "start_time": "2022-11-15T08:41:43.880Z"
   },
   {
    "duration": 15,
    "start_time": "2022-11-15T08:41:43.901Z"
   },
   {
    "duration": 507,
    "start_time": "2022-11-15T08:41:43.918Z"
   },
   {
    "duration": 229,
    "start_time": "2022-11-15T08:41:44.426Z"
   },
   {
    "duration": 168,
    "start_time": "2022-11-15T08:41:44.657Z"
   },
   {
    "duration": 186,
    "start_time": "2022-11-15T08:41:44.826Z"
   },
   {
    "duration": 8,
    "start_time": "2022-11-15T08:41:45.013Z"
   },
   {
    "duration": 11,
    "start_time": "2022-11-15T08:41:45.023Z"
   },
   {
    "duration": 8,
    "start_time": "2022-11-15T08:41:45.036Z"
   },
   {
    "duration": 43,
    "start_time": "2022-11-15T08:41:45.046Z"
   },
   {
    "duration": 20,
    "start_time": "2022-11-15T08:41:45.091Z"
   },
   {
    "duration": 11,
    "start_time": "2022-11-15T08:41:45.113Z"
   },
   {
    "duration": 239,
    "start_time": "2022-11-15T08:41:45.125Z"
   },
   {
    "duration": 267,
    "start_time": "2022-11-15T08:41:45.366Z"
   },
   {
    "duration": 4,
    "start_time": "2022-11-15T08:41:45.635Z"
   },
   {
    "duration": 13,
    "start_time": "2022-11-15T08:41:45.641Z"
   },
   {
    "duration": 12,
    "start_time": "2022-11-15T08:41:45.656Z"
   },
   {
    "duration": 383,
    "start_time": "2022-11-15T08:41:45.670Z"
   },
   {
    "duration": 6,
    "start_time": "2022-11-15T08:41:46.054Z"
   },
   {
    "duration": 30,
    "start_time": "2022-11-15T08:41:46.062Z"
   },
   {
    "duration": 14,
    "start_time": "2022-11-15T08:41:46.093Z"
   },
   {
    "duration": 266,
    "start_time": "2022-11-15T08:41:46.108Z"
   },
   {
    "duration": 16,
    "start_time": "2022-11-15T08:41:46.377Z"
   },
   {
    "duration": 10,
    "start_time": "2022-11-15T08:41:46.396Z"
   },
   {
    "duration": 13,
    "start_time": "2022-11-15T08:41:46.408Z"
   },
   {
    "duration": 7,
    "start_time": "2022-11-15T08:41:46.423Z"
   },
   {
    "duration": 1244,
    "start_time": "2022-11-15T09:43:41.011Z"
   },
   {
    "duration": 230,
    "start_time": "2022-11-15T09:43:42.257Z"
   },
   {
    "duration": 4,
    "start_time": "2022-11-15T09:43:42.488Z"
   },
   {
    "duration": 13,
    "start_time": "2022-11-15T09:43:42.495Z"
   },
   {
    "duration": 4,
    "start_time": "2022-11-15T09:43:42.510Z"
   },
   {
    "duration": 5,
    "start_time": "2022-11-15T09:43:42.516Z"
   },
   {
    "duration": 17,
    "start_time": "2022-11-15T09:43:42.523Z"
   },
   {
    "duration": 8,
    "start_time": "2022-11-15T09:43:42.541Z"
   },
   {
    "duration": 29,
    "start_time": "2022-11-15T09:43:42.551Z"
   },
   {
    "duration": 7,
    "start_time": "2022-11-15T09:43:42.583Z"
   },
   {
    "duration": 14,
    "start_time": "2022-11-15T09:43:42.592Z"
   },
   {
    "duration": 24,
    "start_time": "2022-11-15T09:43:42.608Z"
   },
   {
    "duration": 5,
    "start_time": "2022-11-15T09:43:42.633Z"
   },
   {
    "duration": 6,
    "start_time": "2022-11-15T09:43:42.640Z"
   },
   {
    "duration": 34,
    "start_time": "2022-11-15T09:43:42.647Z"
   },
   {
    "duration": 8,
    "start_time": "2022-11-15T09:43:42.684Z"
   },
   {
    "duration": 7,
    "start_time": "2022-11-15T09:43:42.694Z"
   },
   {
    "duration": 14,
    "start_time": "2022-11-15T09:43:42.703Z"
   },
   {
    "duration": 20,
    "start_time": "2022-11-15T09:43:42.719Z"
   },
   {
    "duration": 12,
    "start_time": "2022-11-15T09:43:42.740Z"
   },
   {
    "duration": 8,
    "start_time": "2022-11-15T09:43:42.754Z"
   },
   {
    "duration": 29,
    "start_time": "2022-11-15T09:43:42.764Z"
   },
   {
    "duration": 12,
    "start_time": "2022-11-15T09:43:42.794Z"
   },
   {
    "duration": 3,
    "start_time": "2022-11-15T09:43:42.808Z"
   },
   {
    "duration": 26,
    "start_time": "2022-11-15T09:43:42.813Z"
   },
   {
    "duration": 50,
    "start_time": "2022-11-15T09:43:42.841Z"
   },
   {
    "duration": 24,
    "start_time": "2022-11-15T09:43:42.893Z"
   },
   {
    "duration": 24,
    "start_time": "2022-11-15T09:43:42.920Z"
   },
   {
    "duration": 4,
    "start_time": "2022-11-15T09:43:42.946Z"
   },
   {
    "duration": 52,
    "start_time": "2022-11-15T09:43:42.952Z"
   },
   {
    "duration": 35,
    "start_time": "2022-11-15T09:43:43.005Z"
   },
   {
    "duration": 154,
    "start_time": "2022-11-15T09:43:43.042Z"
   },
   {
    "duration": 124,
    "start_time": "2022-11-15T09:43:43.198Z"
   },
   {
    "duration": 6,
    "start_time": "2022-11-15T09:43:43.324Z"
   },
   {
    "duration": 15,
    "start_time": "2022-11-15T09:43:43.332Z"
   },
   {
    "duration": 411,
    "start_time": "2022-11-15T09:43:43.349Z"
   },
   {
    "duration": 15,
    "start_time": "2022-11-15T09:43:43.763Z"
   },
   {
    "duration": 365,
    "start_time": "2022-11-15T09:43:43.780Z"
   },
   {
    "duration": 136,
    "start_time": "2022-11-15T09:43:44.147Z"
   },
   {
    "duration": 13,
    "start_time": "2022-11-15T09:43:44.285Z"
   },
   {
    "duration": 10,
    "start_time": "2022-11-15T09:43:44.300Z"
   },
   {
    "duration": 5,
    "start_time": "2022-11-15T09:43:44.312Z"
   },
   {
    "duration": 461,
    "start_time": "2022-11-15T09:43:44.318Z"
   },
   {
    "duration": 223,
    "start_time": "2022-11-15T09:43:44.781Z"
   },
   {
    "duration": 155,
    "start_time": "2022-11-15T09:43:45.006Z"
   },
   {
    "duration": 160,
    "start_time": "2022-11-15T09:43:45.162Z"
   },
   {
    "duration": 2,
    "start_time": "2022-11-15T09:43:45.323Z"
   },
   {
    "duration": 173,
    "start_time": "2022-11-15T09:43:45.326Z"
   },
   {
    "duration": 0,
    "start_time": "2022-11-15T09:43:45.501Z"
   },
   {
    "duration": 0,
    "start_time": "2022-11-15T09:43:45.502Z"
   },
   {
    "duration": 0,
    "start_time": "2022-11-15T09:43:45.503Z"
   },
   {
    "duration": 0,
    "start_time": "2022-11-15T09:43:45.503Z"
   },
   {
    "duration": 0,
    "start_time": "2022-11-15T09:43:45.504Z"
   },
   {
    "duration": 0,
    "start_time": "2022-11-15T09:43:45.505Z"
   },
   {
    "duration": 0,
    "start_time": "2022-11-15T09:43:45.506Z"
   },
   {
    "duration": 0,
    "start_time": "2022-11-15T09:43:45.508Z"
   },
   {
    "duration": 0,
    "start_time": "2022-11-15T09:43:45.508Z"
   },
   {
    "duration": 0,
    "start_time": "2022-11-15T09:43:45.509Z"
   },
   {
    "duration": 0,
    "start_time": "2022-11-15T09:43:45.510Z"
   },
   {
    "duration": 0,
    "start_time": "2022-11-15T09:43:45.511Z"
   },
   {
    "duration": 0,
    "start_time": "2022-11-15T09:43:45.512Z"
   },
   {
    "duration": 0,
    "start_time": "2022-11-15T09:43:45.513Z"
   },
   {
    "duration": 0,
    "start_time": "2022-11-15T09:43:45.514Z"
   },
   {
    "duration": 0,
    "start_time": "2022-11-15T09:43:45.514Z"
   },
   {
    "duration": 0,
    "start_time": "2022-11-15T09:43:45.515Z"
   },
   {
    "duration": 0,
    "start_time": "2022-11-15T09:43:45.516Z"
   },
   {
    "duration": 0,
    "start_time": "2022-11-15T09:43:45.517Z"
   },
   {
    "duration": 12,
    "start_time": "2022-11-15T09:45:15.569Z"
   },
   {
    "duration": 77,
    "start_time": "2022-11-15T09:49:36.535Z"
   },
   {
    "duration": 14,
    "start_time": "2022-11-15T09:50:34.832Z"
   },
   {
    "duration": 16,
    "start_time": "2022-11-15T09:50:44.902Z"
   },
   {
    "duration": 47,
    "start_time": "2022-11-15T09:52:03.550Z"
   },
   {
    "duration": 44,
    "start_time": "2022-11-15T09:52:52.033Z"
   },
   {
    "duration": 34,
    "start_time": "2022-11-15T09:53:57.552Z"
   },
   {
    "duration": 8,
    "start_time": "2022-11-15T09:54:14.391Z"
   },
   {
    "duration": 13,
    "start_time": "2022-11-15T09:54:27.278Z"
   },
   {
    "duration": 33,
    "start_time": "2022-11-15T09:55:58.813Z"
   },
   {
    "duration": 9,
    "start_time": "2022-11-15T09:56:02.407Z"
   },
   {
    "duration": 15,
    "start_time": "2022-11-15T09:56:21.291Z"
   },
   {
    "duration": 18,
    "start_time": "2022-11-15T09:58:14.354Z"
   },
   {
    "duration": 16,
    "start_time": "2022-11-15T09:58:46.802Z"
   },
   {
    "duration": 10,
    "start_time": "2022-11-15T09:59:19.714Z"
   },
   {
    "duration": 10,
    "start_time": "2022-11-15T09:59:39.395Z"
   },
   {
    "duration": 11,
    "start_time": "2022-11-15T09:59:48.522Z"
   },
   {
    "duration": 12,
    "start_time": "2022-11-15T10:00:18.464Z"
   },
   {
    "duration": 11,
    "start_time": "2022-11-15T10:04:40.658Z"
   },
   {
    "duration": 44,
    "start_time": "2022-11-15T10:04:43.803Z"
   },
   {
    "duration": 8,
    "start_time": "2022-11-15T10:04:44.363Z"
   },
   {
    "duration": 8,
    "start_time": "2022-11-15T10:06:31.289Z"
   },
   {
    "duration": 33,
    "start_time": "2022-11-15T10:07:18.224Z"
   },
   {
    "duration": 21,
    "start_time": "2022-11-15T10:11:25.139Z"
   },
   {
    "duration": 28,
    "start_time": "2022-11-15T10:15:34.691Z"
   },
   {
    "duration": 23,
    "start_time": "2022-11-15T10:16:34.396Z"
   },
   {
    "duration": 24,
    "start_time": "2022-11-15T10:20:22.543Z"
   },
   {
    "duration": 26,
    "start_time": "2022-11-15T10:20:58.036Z"
   },
   {
    "duration": 9,
    "start_time": "2022-11-15T10:22:36.974Z"
   },
   {
    "duration": 358298,
    "start_time": "2022-11-15T11:12:26.045Z"
   },
   {
    "duration": 41,
    "start_time": "2022-11-15T11:18:24.345Z"
   },
   {
    "duration": 14,
    "start_time": "2022-11-15T11:18:24.398Z"
   },
   {
    "duration": 19,
    "start_time": "2022-11-15T11:18:24.413Z"
   },
   {
    "duration": 1240,
    "start_time": "2022-11-15T11:24:04.106Z"
   },
   {
    "duration": 284,
    "start_time": "2022-11-15T11:24:05.348Z"
   },
   {
    "duration": 3,
    "start_time": "2022-11-15T11:24:05.634Z"
   },
   {
    "duration": 19,
    "start_time": "2022-11-15T11:24:05.641Z"
   },
   {
    "duration": 16,
    "start_time": "2022-11-15T11:24:05.662Z"
   },
   {
    "duration": 4,
    "start_time": "2022-11-15T11:24:05.680Z"
   },
   {
    "duration": 16,
    "start_time": "2022-11-15T11:24:05.686Z"
   },
   {
    "duration": 21,
    "start_time": "2022-11-15T11:24:05.704Z"
   },
   {
    "duration": 20,
    "start_time": "2022-11-15T11:24:05.727Z"
   },
   {
    "duration": 14,
    "start_time": "2022-11-15T11:24:05.750Z"
   },
   {
    "duration": 17,
    "start_time": "2022-11-15T11:24:05.766Z"
   },
   {
    "duration": 18,
    "start_time": "2022-11-15T11:24:05.784Z"
   },
   {
    "duration": 3,
    "start_time": "2022-11-15T11:24:05.804Z"
   },
   {
    "duration": 6,
    "start_time": "2022-11-15T11:24:05.809Z"
   },
   {
    "duration": 8,
    "start_time": "2022-11-15T11:24:05.817Z"
   },
   {
    "duration": 9,
    "start_time": "2022-11-15T11:24:05.827Z"
   },
   {
    "duration": 8,
    "start_time": "2022-11-15T11:24:05.838Z"
   },
   {
    "duration": 10,
    "start_time": "2022-11-15T11:24:05.848Z"
   },
   {
    "duration": 25,
    "start_time": "2022-11-15T11:24:05.859Z"
   },
   {
    "duration": 11,
    "start_time": "2022-11-15T11:24:05.886Z"
   },
   {
    "duration": 7,
    "start_time": "2022-11-15T11:24:05.899Z"
   },
   {
    "duration": 10,
    "start_time": "2022-11-15T11:24:05.908Z"
   },
   {
    "duration": 13,
    "start_time": "2022-11-15T11:24:05.919Z"
   },
   {
    "duration": 4,
    "start_time": "2022-11-15T11:24:05.933Z"
   },
   {
    "duration": 53,
    "start_time": "2022-11-15T11:24:05.938Z"
   },
   {
    "duration": 28,
    "start_time": "2022-11-15T11:24:05.992Z"
   },
   {
    "duration": 24,
    "start_time": "2022-11-15T11:24:06.021Z"
   },
   {
    "duration": 41,
    "start_time": "2022-11-15T11:24:06.048Z"
   },
   {
    "duration": 4,
    "start_time": "2022-11-15T11:24:06.091Z"
   },
   {
    "duration": 28,
    "start_time": "2022-11-15T11:24:06.096Z"
   },
   {
    "duration": 29,
    "start_time": "2022-11-15T11:24:06.125Z"
   },
   {
    "duration": 141,
    "start_time": "2022-11-15T11:24:06.156Z"
   },
   {
    "duration": 102,
    "start_time": "2022-11-15T11:24:06.298Z"
   },
   {
    "duration": 6,
    "start_time": "2022-11-15T11:24:06.402Z"
   },
   {
    "duration": 21,
    "start_time": "2022-11-15T11:24:06.409Z"
   },
   {
    "duration": 341,
    "start_time": "2022-11-15T11:24:06.431Z"
   },
   {
    "duration": 9,
    "start_time": "2022-11-15T11:24:06.773Z"
   },
   {
    "duration": 282,
    "start_time": "2022-11-15T11:24:06.783Z"
   },
   {
    "duration": 119,
    "start_time": "2022-11-15T11:24:07.067Z"
   },
   {
    "duration": 12,
    "start_time": "2022-11-15T11:24:07.187Z"
   },
   {
    "duration": 10,
    "start_time": "2022-11-15T11:24:07.200Z"
   },
   {
    "duration": 6,
    "start_time": "2022-11-15T11:24:07.212Z"
   },
   {
    "duration": 417,
    "start_time": "2022-11-15T11:24:07.219Z"
   },
   {
    "duration": 207,
    "start_time": "2022-11-15T11:24:07.638Z"
   },
   {
    "duration": 159,
    "start_time": "2022-11-15T11:24:07.846Z"
   },
   {
    "duration": 148,
    "start_time": "2022-11-15T11:24:08.006Z"
   },
   {
    "duration": 2,
    "start_time": "2022-11-15T11:24:08.156Z"
   },
   {
    "duration": 26,
    "start_time": "2022-11-15T11:24:08.159Z"
   },
   {
    "duration": 36,
    "start_time": "2022-11-15T11:24:08.187Z"
   },
   {
    "duration": 7,
    "start_time": "2022-11-15T11:24:08.225Z"
   },
   {
    "duration": 66,
    "start_time": "2022-11-15T11:24:08.234Z"
   },
   {
    "duration": 7,
    "start_time": "2022-11-15T11:24:08.301Z"
   },
   {
    "duration": 144,
    "start_time": "2022-11-15T11:24:08.309Z"
   },
   {
    "duration": 0,
    "start_time": "2022-11-15T11:24:08.455Z"
   },
   {
    "duration": 0,
    "start_time": "2022-11-15T11:24:08.456Z"
   },
   {
    "duration": 0,
    "start_time": "2022-11-15T11:24:08.457Z"
   },
   {
    "duration": 0,
    "start_time": "2022-11-15T11:24:08.458Z"
   },
   {
    "duration": 0,
    "start_time": "2022-11-15T11:24:08.459Z"
   },
   {
    "duration": 0,
    "start_time": "2022-11-15T11:24:08.460Z"
   },
   {
    "duration": 0,
    "start_time": "2022-11-15T11:24:08.461Z"
   },
   {
    "duration": 0,
    "start_time": "2022-11-15T11:24:08.462Z"
   },
   {
    "duration": 0,
    "start_time": "2022-11-15T11:24:08.463Z"
   },
   {
    "duration": 0,
    "start_time": "2022-11-15T11:24:08.478Z"
   },
   {
    "duration": 0,
    "start_time": "2022-11-15T11:24:08.479Z"
   },
   {
    "duration": 0,
    "start_time": "2022-11-15T11:24:08.480Z"
   },
   {
    "duration": 0,
    "start_time": "2022-11-15T11:24:08.481Z"
   },
   {
    "duration": 0,
    "start_time": "2022-11-15T11:24:08.482Z"
   },
   {
    "duration": 0,
    "start_time": "2022-11-15T11:24:08.483Z"
   },
   {
    "duration": 0,
    "start_time": "2022-11-15T11:24:08.483Z"
   },
   {
    "duration": 0,
    "start_time": "2022-11-15T11:24:08.484Z"
   },
   {
    "duration": 0,
    "start_time": "2022-11-15T11:24:08.485Z"
   },
   {
    "duration": 12,
    "start_time": "2022-11-15T11:26:14.355Z"
   },
   {
    "duration": 10,
    "start_time": "2022-11-15T11:26:17.703Z"
   },
   {
    "duration": 8,
    "start_time": "2022-11-15T11:27:05.919Z"
   },
   {
    "duration": 140,
    "start_time": "2022-11-15T11:28:59.755Z"
   },
   {
    "duration": 130,
    "start_time": "2022-11-15T11:29:28.102Z"
   },
   {
    "duration": 24,
    "start_time": "2022-11-15T11:38:12.424Z"
   },
   {
    "duration": 21,
    "start_time": "2022-11-15T12:59:48.815Z"
   },
   {
    "duration": 17,
    "start_time": "2022-11-15T13:00:12.557Z"
   },
   {
    "duration": 5,
    "start_time": "2022-11-15T13:00:27.065Z"
   },
   {
    "duration": 438,
    "start_time": "2022-11-15T13:00:29.507Z"
   },
   {
    "duration": 3,
    "start_time": "2022-11-15T13:00:33.784Z"
   },
   {
    "duration": 7,
    "start_time": "2022-11-15T13:00:36.407Z"
   },
   {
    "duration": 4,
    "start_time": "2022-11-15T13:00:37.669Z"
   },
   {
    "duration": 4,
    "start_time": "2022-11-15T13:00:38.421Z"
   },
   {
    "duration": 9,
    "start_time": "2022-11-15T13:00:39.593Z"
   },
   {
    "duration": 4,
    "start_time": "2022-11-15T13:00:42.991Z"
   },
   {
    "duration": 4,
    "start_time": "2022-11-15T13:00:44.168Z"
   },
   {
    "duration": 3,
    "start_time": "2022-11-15T13:00:46.649Z"
   },
   {
    "duration": 10,
    "start_time": "2022-11-15T13:00:48.723Z"
   },
   {
    "duration": 16,
    "start_time": "2022-11-15T13:00:52.550Z"
   },
   {
    "duration": 5,
    "start_time": "2022-11-15T13:00:59.030Z"
   },
   {
    "duration": 4,
    "start_time": "2022-11-15T13:00:59.693Z"
   },
   {
    "duration": 6,
    "start_time": "2022-11-15T13:01:00.335Z"
   },
   {
    "duration": 6,
    "start_time": "2022-11-15T13:01:00.920Z"
   },
   {
    "duration": 4,
    "start_time": "2022-11-15T13:01:07.637Z"
   },
   {
    "duration": 5,
    "start_time": "2022-11-15T13:01:09.031Z"
   },
   {
    "duration": 11,
    "start_time": "2022-11-15T13:01:12.143Z"
   },
   {
    "duration": 11,
    "start_time": "2022-11-15T13:01:15.354Z"
   },
   {
    "duration": 3,
    "start_time": "2022-11-15T13:02:28.044Z"
   },
   {
    "duration": 10,
    "start_time": "2022-11-15T13:02:28.938Z"
   },
   {
    "duration": 10,
    "start_time": "2022-11-15T13:02:31.641Z"
   },
   {
    "duration": 4,
    "start_time": "2022-11-15T13:02:34.545Z"
   },
   {
    "duration": 17,
    "start_time": "2022-11-15T13:02:36.202Z"
   },
   {
    "duration": 22,
    "start_time": "2022-11-15T13:03:05.331Z"
   },
   {
    "duration": 22,
    "start_time": "2022-11-15T13:03:19.995Z"
   },
   {
    "duration": 28,
    "start_time": "2022-11-15T13:07:03.833Z"
   },
   {
    "duration": 132,
    "start_time": "2022-11-15T13:07:35.533Z"
   },
   {
    "duration": 8,
    "start_time": "2022-11-15T13:22:11.766Z"
   },
   {
    "duration": 24,
    "start_time": "2022-11-15T13:22:59.114Z"
   },
   {
    "duration": 166,
    "start_time": "2022-11-15T13:23:53.535Z"
   },
   {
    "duration": 20,
    "start_time": "2022-11-15T13:24:18.016Z"
   },
   {
    "duration": 1246,
    "start_time": "2022-11-15T13:24:54.988Z"
   },
   {
    "duration": 18,
    "start_time": "2022-11-15T13:25:25.468Z"
   },
   {
    "duration": 20,
    "start_time": "2022-11-15T13:25:55.140Z"
   },
   {
    "duration": 238,
    "start_time": "2022-11-15T13:26:07.269Z"
   },
   {
    "duration": 18,
    "start_time": "2022-11-15T13:26:37.902Z"
   },
   {
    "duration": 21,
    "start_time": "2022-11-15T13:26:45.288Z"
   },
   {
    "duration": 218,
    "start_time": "2022-11-15T13:27:05.880Z"
   },
   {
    "duration": 13,
    "start_time": "2022-11-15T13:28:04.385Z"
   },
   {
    "duration": 139,
    "start_time": "2022-11-15T13:28:17.097Z"
   },
   {
    "duration": 165,
    "start_time": "2022-11-15T13:28:37.277Z"
   },
   {
    "duration": 91,
    "start_time": "2022-11-15T13:40:36.810Z"
   },
   {
    "duration": 12,
    "start_time": "2022-11-15T13:40:51.973Z"
   },
   {
    "duration": 11,
    "start_time": "2022-11-15T13:40:58.260Z"
   },
   {
    "duration": 10,
    "start_time": "2022-11-15T13:41:04.789Z"
   },
   {
    "duration": 70,
    "start_time": "2022-11-15T13:45:07.816Z"
   },
   {
    "duration": 296,
    "start_time": "2022-11-15T13:45:52.711Z"
   },
   {
    "duration": 98,
    "start_time": "2022-11-15T13:46:36.203Z"
   },
   {
    "duration": 105,
    "start_time": "2022-11-15T13:47:37.143Z"
   },
   {
    "duration": 135,
    "start_time": "2022-11-15T13:48:42.160Z"
   },
   {
    "duration": 293,
    "start_time": "2022-11-15T13:53:27.536Z"
   },
   {
    "duration": 90,
    "start_time": "2022-11-15T14:03:45.850Z"
   },
   {
    "duration": 338,
    "start_time": "2022-11-15T14:03:53.743Z"
   },
   {
    "duration": 324,
    "start_time": "2022-11-15T14:04:22.395Z"
   },
   {
    "duration": 357,
    "start_time": "2022-11-15T14:04:41.102Z"
   },
   {
    "duration": 37,
    "start_time": "2022-11-15T14:04:51.908Z"
   },
   {
    "duration": 293,
    "start_time": "2022-11-15T14:05:10.144Z"
   },
   {
    "duration": 319,
    "start_time": "2022-11-15T14:05:36.851Z"
   },
   {
    "duration": 305,
    "start_time": "2022-11-15T14:05:50.407Z"
   },
   {
    "duration": 908,
    "start_time": "2022-11-15T14:07:39.760Z"
   },
   {
    "duration": 300,
    "start_time": "2022-11-15T14:08:13.342Z"
   },
   {
    "duration": 8,
    "start_time": "2022-11-15T14:19:53.833Z"
   },
   {
    "duration": 128,
    "start_time": "2022-11-15T14:21:31.807Z"
   },
   {
    "duration": 1537,
    "start_time": "2022-11-15T16:55:55.624Z"
   },
   {
    "duration": 283,
    "start_time": "2022-11-15T16:55:57.164Z"
   },
   {
    "duration": 4,
    "start_time": "2022-11-15T16:55:57.448Z"
   },
   {
    "duration": 25,
    "start_time": "2022-11-15T16:55:57.454Z"
   },
   {
    "duration": 14,
    "start_time": "2022-11-15T16:55:57.482Z"
   },
   {
    "duration": 7,
    "start_time": "2022-11-15T16:55:57.498Z"
   },
   {
    "duration": 18,
    "start_time": "2022-11-15T16:55:57.506Z"
   },
   {
    "duration": 20,
    "start_time": "2022-11-15T16:55:57.526Z"
   },
   {
    "duration": 18,
    "start_time": "2022-11-15T16:55:57.548Z"
   },
   {
    "duration": 40,
    "start_time": "2022-11-15T16:55:57.567Z"
   },
   {
    "duration": 44,
    "start_time": "2022-11-15T16:55:57.608Z"
   },
   {
    "duration": 43,
    "start_time": "2022-11-15T16:55:57.654Z"
   },
   {
    "duration": 15,
    "start_time": "2022-11-15T16:55:57.700Z"
   },
   {
    "duration": 26,
    "start_time": "2022-11-15T16:55:57.719Z"
   },
   {
    "duration": 42,
    "start_time": "2022-11-15T16:55:57.747Z"
   },
   {
    "duration": 25,
    "start_time": "2022-11-15T16:55:57.791Z"
   },
   {
    "duration": 22,
    "start_time": "2022-11-15T16:55:57.818Z"
   },
   {
    "duration": 25,
    "start_time": "2022-11-15T16:55:57.842Z"
   },
   {
    "duration": 32,
    "start_time": "2022-11-15T16:55:57.869Z"
   },
   {
    "duration": 14,
    "start_time": "2022-11-15T16:55:57.902Z"
   },
   {
    "duration": 19,
    "start_time": "2022-11-15T16:55:57.918Z"
   },
   {
    "duration": 29,
    "start_time": "2022-11-15T16:55:57.939Z"
   },
   {
    "duration": 26,
    "start_time": "2022-11-15T16:55:57.970Z"
   },
   {
    "duration": 19,
    "start_time": "2022-11-15T16:55:57.998Z"
   },
   {
    "duration": 27,
    "start_time": "2022-11-15T16:55:58.019Z"
   },
   {
    "duration": 43,
    "start_time": "2022-11-15T16:55:58.048Z"
   },
   {
    "duration": 29,
    "start_time": "2022-11-15T16:55:58.092Z"
   },
   {
    "duration": 22,
    "start_time": "2022-11-15T16:55:58.123Z"
   },
   {
    "duration": 55,
    "start_time": "2022-11-15T16:55:58.147Z"
   },
   {
    "duration": 64,
    "start_time": "2022-11-15T16:55:58.204Z"
   },
   {
    "duration": 36,
    "start_time": "2022-11-15T16:55:58.271Z"
   },
   {
    "duration": 149,
    "start_time": "2022-11-15T16:55:58.309Z"
   },
   {
    "duration": 128,
    "start_time": "2022-11-15T16:55:58.460Z"
   },
   {
    "duration": 6,
    "start_time": "2022-11-15T16:55:58.590Z"
   },
   {
    "duration": 31,
    "start_time": "2022-11-15T16:55:58.598Z"
   },
   {
    "duration": 383,
    "start_time": "2022-11-15T16:55:58.631Z"
   },
   {
    "duration": 8,
    "start_time": "2022-11-15T16:55:59.016Z"
   },
   {
    "duration": 353,
    "start_time": "2022-11-15T16:55:59.025Z"
   },
   {
    "duration": 132,
    "start_time": "2022-11-15T16:55:59.380Z"
   },
   {
    "duration": 12,
    "start_time": "2022-11-15T16:55:59.514Z"
   },
   {
    "duration": 37,
    "start_time": "2022-11-15T16:55:59.530Z"
   },
   {
    "duration": 18,
    "start_time": "2022-11-15T16:55:59.569Z"
   },
   {
    "duration": 573,
    "start_time": "2022-11-15T16:55:59.589Z"
   },
   {
    "duration": 245,
    "start_time": "2022-11-15T16:56:00.164Z"
   },
   {
    "duration": 185,
    "start_time": "2022-11-15T16:56:00.412Z"
   },
   {
    "duration": 191,
    "start_time": "2022-11-15T16:56:00.599Z"
   },
   {
    "duration": 3,
    "start_time": "2022-11-15T16:56:00.792Z"
   },
   {
    "duration": 43,
    "start_time": "2022-11-15T16:56:00.797Z"
   },
   {
    "duration": 76,
    "start_time": "2022-11-15T16:56:00.841Z"
   },
   {
    "duration": 54,
    "start_time": "2022-11-15T16:56:00.919Z"
   },
   {
    "duration": 147,
    "start_time": "2022-11-15T16:56:00.975Z"
   },
   {
    "duration": 242,
    "start_time": "2022-11-15T16:56:01.124Z"
   },
   {
    "duration": 10,
    "start_time": "2022-11-15T16:56:01.369Z"
   },
   {
    "duration": 60,
    "start_time": "2022-11-15T16:56:01.380Z"
   },
   {
    "duration": 299,
    "start_time": "2022-11-15T16:56:01.442Z"
   },
   {
    "duration": 184,
    "start_time": "2022-11-15T16:56:01.743Z"
   },
   {
    "duration": 248,
    "start_time": "2022-11-15T16:56:01.929Z"
   },
   {
    "duration": 46,
    "start_time": "2022-11-15T16:56:02.179Z"
   },
   {
    "duration": 35,
    "start_time": "2022-11-15T16:56:02.227Z"
   },
   {
    "duration": 100,
    "start_time": "2022-11-15T16:56:02.264Z"
   },
   {
    "duration": 195,
    "start_time": "2022-11-15T16:56:02.367Z"
   },
   {
    "duration": 0,
    "start_time": "2022-11-15T16:56:02.565Z"
   },
   {
    "duration": 0,
    "start_time": "2022-11-15T16:56:02.566Z"
   },
   {
    "duration": 0,
    "start_time": "2022-11-15T16:56:02.567Z"
   },
   {
    "duration": 0,
    "start_time": "2022-11-15T16:56:02.569Z"
   },
   {
    "duration": 0,
    "start_time": "2022-11-15T16:56:02.570Z"
   },
   {
    "duration": 0,
    "start_time": "2022-11-15T16:56:02.571Z"
   },
   {
    "duration": 0,
    "start_time": "2022-11-15T16:56:02.573Z"
   },
   {
    "duration": 0,
    "start_time": "2022-11-15T16:56:02.574Z"
   },
   {
    "duration": 0,
    "start_time": "2022-11-15T16:56:02.575Z"
   },
   {
    "duration": 0,
    "start_time": "2022-11-15T16:56:02.577Z"
   },
   {
    "duration": 0,
    "start_time": "2022-11-15T16:56:02.578Z"
   },
   {
    "duration": 0,
    "start_time": "2022-11-15T16:56:02.579Z"
   },
   {
    "duration": 0,
    "start_time": "2022-11-15T16:56:02.580Z"
   },
   {
    "duration": 0,
    "start_time": "2022-11-15T16:56:02.581Z"
   },
   {
    "duration": 0,
    "start_time": "2022-11-15T16:56:02.612Z"
   },
   {
    "duration": 0,
    "start_time": "2022-11-15T16:56:02.614Z"
   },
   {
    "duration": 0,
    "start_time": "2022-11-15T16:56:02.615Z"
   },
   {
    "duration": 0,
    "start_time": "2022-11-15T16:56:02.616Z"
   },
   {
    "duration": 38,
    "start_time": "2022-11-15T16:59:07.192Z"
   },
   {
    "duration": 10,
    "start_time": "2022-11-15T16:59:11.068Z"
   },
   {
    "duration": 9,
    "start_time": "2022-11-15T16:59:35.568Z"
   },
   {
    "duration": 31,
    "start_time": "2022-11-15T17:00:32.604Z"
   },
   {
    "duration": 22,
    "start_time": "2022-11-15T17:07:55.968Z"
   },
   {
    "duration": 17,
    "start_time": "2022-11-15T17:09:00.406Z"
   },
   {
    "duration": 18,
    "start_time": "2022-11-15T17:10:01.842Z"
   },
   {
    "duration": 18,
    "start_time": "2022-11-15T17:10:22.647Z"
   },
   {
    "duration": 17,
    "start_time": "2022-11-15T17:10:43.118Z"
   },
   {
    "duration": 9,
    "start_time": "2022-11-15T17:15:09.899Z"
   },
   {
    "duration": 26,
    "start_time": "2022-11-15T17:15:20.459Z"
   },
   {
    "duration": 18,
    "start_time": "2022-11-15T17:16:33.338Z"
   },
   {
    "duration": 20,
    "start_time": "2022-11-15T17:17:06.893Z"
   },
   {
    "duration": 23,
    "start_time": "2022-11-15T17:18:38.277Z"
   },
   {
    "duration": 34,
    "start_time": "2022-11-15T17:18:56.966Z"
   },
   {
    "duration": 18,
    "start_time": "2022-11-15T17:19:49.714Z"
   },
   {
    "duration": 18,
    "start_time": "2022-11-15T17:20:23.684Z"
   },
   {
    "duration": 32,
    "start_time": "2022-11-15T17:26:48.584Z"
   },
   {
    "duration": 59,
    "start_time": "2022-11-15T17:26:55.070Z"
   },
   {
    "duration": 32,
    "start_time": "2022-11-15T17:27:21.922Z"
   },
   {
    "duration": 16,
    "start_time": "2022-11-15T17:27:35.063Z"
   },
   {
    "duration": 45,
    "start_time": "2022-11-15T17:30:49.199Z"
   },
   {
    "duration": 32,
    "start_time": "2022-11-15T17:30:50.854Z"
   },
   {
    "duration": 49,
    "start_time": "2022-11-15T17:31:07.023Z"
   },
   {
    "duration": 32,
    "start_time": "2022-11-15T17:31:15.558Z"
   },
   {
    "duration": 18,
    "start_time": "2022-11-15T17:31:17.387Z"
   },
   {
    "duration": 50,
    "start_time": "2022-11-15T17:32:51.126Z"
   },
   {
    "duration": 54,
    "start_time": "2022-11-15T17:33:00.494Z"
   },
   {
    "duration": 49,
    "start_time": "2022-11-15T17:33:04.766Z"
   },
   {
    "duration": 53,
    "start_time": "2022-11-15T17:33:11.412Z"
   },
   {
    "duration": 45,
    "start_time": "2022-11-15T17:34:17.208Z"
   },
   {
    "duration": 9,
    "start_time": "2022-11-15T17:35:29.655Z"
   },
   {
    "duration": 17,
    "start_time": "2022-11-15T17:36:20.311Z"
   },
   {
    "duration": 13,
    "start_time": "2022-11-15T17:36:24.783Z"
   },
   {
    "duration": 811,
    "start_time": "2022-11-15T17:36:59.918Z"
   },
   {
    "duration": 752,
    "start_time": "2022-11-15T17:37:05.325Z"
   },
   {
    "duration": 7,
    "start_time": "2022-11-15T17:37:29.079Z"
   },
   {
    "duration": 53,
    "start_time": "2022-11-15T17:38:40.115Z"
   },
   {
    "duration": 45,
    "start_time": "2022-11-15T17:38:51.580Z"
   },
   {
    "duration": 41,
    "start_time": "2022-11-15T17:39:02.672Z"
   },
   {
    "duration": 39,
    "start_time": "2022-11-15T17:39:13.220Z"
   },
   {
    "duration": 60,
    "start_time": "2022-11-15T17:43:34.244Z"
   },
   {
    "duration": 34,
    "start_time": "2022-11-15T17:44:36.646Z"
   },
   {
    "duration": 87,
    "start_time": "2022-11-15T17:46:51.434Z"
   },
   {
    "duration": 27,
    "start_time": "2022-11-15T17:48:04.752Z"
   },
   {
    "duration": 39,
    "start_time": "2022-11-15T18:09:28.747Z"
   },
   {
    "duration": 30,
    "start_time": "2022-11-15T18:09:49.802Z"
   },
   {
    "duration": 22,
    "start_time": "2022-11-15T18:25:05.437Z"
   },
   {
    "duration": 26,
    "start_time": "2022-11-15T18:25:45.655Z"
   },
   {
    "duration": 28,
    "start_time": "2022-11-15T18:26:15.617Z"
   },
   {
    "duration": 29,
    "start_time": "2022-11-15T18:26:51.509Z"
   },
   {
    "duration": 17,
    "start_time": "2022-11-15T18:30:03.759Z"
   },
   {
    "duration": 111,
    "start_time": "2022-11-15T18:30:39.275Z"
   },
   {
    "duration": 29,
    "start_time": "2022-11-15T18:30:43.877Z"
   },
   {
    "duration": 31,
    "start_time": "2022-11-15T18:31:42.771Z"
   },
   {
    "duration": 45,
    "start_time": "2022-11-15T18:31:54.794Z"
   },
   {
    "duration": 35,
    "start_time": "2022-11-15T18:34:16.523Z"
   },
   {
    "duration": 28,
    "start_time": "2022-11-15T18:39:24.926Z"
   },
   {
    "duration": 13,
    "start_time": "2022-11-15T18:49:06.891Z"
   },
   {
    "duration": 45,
    "start_time": "2022-11-15T18:49:20.392Z"
   },
   {
    "duration": 8,
    "start_time": "2022-11-15T18:50:00.067Z"
   },
   {
    "duration": 12,
    "start_time": "2022-11-15T18:50:08.733Z"
   },
   {
    "duration": 14,
    "start_time": "2022-11-15T18:50:42.189Z"
   },
   {
    "duration": 14,
    "start_time": "2022-11-15T19:14:29.418Z"
   },
   {
    "duration": 12,
    "start_time": "2022-11-15T19:15:01.729Z"
   },
   {
    "duration": 27,
    "start_time": "2022-11-15T19:15:15.710Z"
   },
   {
    "duration": 71,
    "start_time": "2022-11-15T19:15:45.345Z"
   },
   {
    "duration": 13,
    "start_time": "2022-11-15T19:26:41.777Z"
   },
   {
    "duration": 20,
    "start_time": "2022-11-15T19:27:59.873Z"
   },
   {
    "duration": 11,
    "start_time": "2022-11-15T19:30:53.168Z"
   },
   {
    "duration": 13,
    "start_time": "2022-11-15T19:31:09.629Z"
   },
   {
    "duration": 12,
    "start_time": "2022-11-15T19:31:23.854Z"
   },
   {
    "duration": 10,
    "start_time": "2022-11-15T19:32:11.556Z"
   },
   {
    "duration": 18,
    "start_time": "2022-11-15T19:32:17.571Z"
   },
   {
    "duration": 14,
    "start_time": "2022-11-15T19:32:19.333Z"
   },
   {
    "duration": 11,
    "start_time": "2022-11-15T19:33:34.394Z"
   },
   {
    "duration": 26,
    "start_time": "2022-11-15T19:33:53.082Z"
   },
   {
    "duration": 20,
    "start_time": "2022-11-15T19:34:14.246Z"
   },
   {
    "duration": 31,
    "start_time": "2022-11-15T19:35:03.399Z"
   },
   {
    "duration": 9,
    "start_time": "2022-11-15T19:35:40.163Z"
   },
   {
    "duration": 22,
    "start_time": "2022-11-15T19:36:01.073Z"
   },
   {
    "duration": 4,
    "start_time": "2022-11-15T19:37:58.716Z"
   },
   {
    "duration": 32,
    "start_time": "2022-11-15T19:38:17.543Z"
   },
   {
    "duration": 39,
    "start_time": "2022-11-15T19:39:20.165Z"
   },
   {
    "duration": 41,
    "start_time": "2022-11-15T19:40:16.832Z"
   },
   {
    "duration": 49,
    "start_time": "2022-11-15T19:41:05.729Z"
   },
   {
    "duration": 40,
    "start_time": "2022-11-15T19:42:48.293Z"
   },
   {
    "duration": 42,
    "start_time": "2022-11-15T19:43:00.802Z"
   },
   {
    "duration": 32,
    "start_time": "2022-11-15T19:43:12.227Z"
   },
   {
    "duration": 134,
    "start_time": "2022-11-15T19:49:23.029Z"
   },
   {
    "duration": 140,
    "start_time": "2022-11-15T19:49:57.107Z"
   },
   {
    "duration": 169,
    "start_time": "2022-11-15T19:50:46.732Z"
   },
   {
    "duration": 125,
    "start_time": "2022-11-15T19:51:27.269Z"
   },
   {
    "duration": 50,
    "start_time": "2022-11-16T02:29:38.360Z"
   },
   {
    "duration": 1430,
    "start_time": "2022-11-16T02:29:46.886Z"
   },
   {
    "duration": 276,
    "start_time": "2022-11-16T02:29:48.605Z"
   },
   {
    "duration": 4,
    "start_time": "2022-11-16T02:31:24.357Z"
   },
   {
    "duration": 11,
    "start_time": "2022-11-16T02:31:24.754Z"
   },
   {
    "duration": 5,
    "start_time": "2022-11-16T02:31:24.871Z"
   },
   {
    "duration": 4,
    "start_time": "2022-11-16T02:31:27.688Z"
   },
   {
    "duration": 11,
    "start_time": "2022-11-16T02:31:28.385Z"
   },
   {
    "duration": 4,
    "start_time": "2022-11-16T02:31:31.019Z"
   },
   {
    "duration": 4,
    "start_time": "2022-11-16T02:31:32.030Z"
   },
   {
    "duration": 4,
    "start_time": "2022-11-16T02:31:34.842Z"
   },
   {
    "duration": 11,
    "start_time": "2022-11-16T02:31:36.200Z"
   },
   {
    "duration": 16,
    "start_time": "2022-11-16T02:31:39.792Z"
   },
   {
    "duration": 4,
    "start_time": "2022-11-16T02:31:44.239Z"
   },
   {
    "duration": 5,
    "start_time": "2022-11-16T02:31:47.580Z"
   },
   {
    "duration": 7,
    "start_time": "2022-11-16T02:31:48.724Z"
   },
   {
    "duration": 7,
    "start_time": "2022-11-16T02:31:49.259Z"
   },
   {
    "duration": 5,
    "start_time": "2022-11-16T02:31:54.050Z"
   },
   {
    "duration": 7,
    "start_time": "2022-11-16T02:31:56.502Z"
   },
   {
    "duration": 11,
    "start_time": "2022-11-16T02:31:59.614Z"
   },
   {
    "duration": 12,
    "start_time": "2022-11-16T02:32:02.613Z"
   },
   {
    "duration": 4,
    "start_time": "2022-11-16T02:32:31.304Z"
   },
   {
    "duration": 9,
    "start_time": "2022-11-16T02:32:32.520Z"
   },
   {
    "duration": 11,
    "start_time": "2022-11-16T02:32:33.234Z"
   },
   {
    "duration": 5,
    "start_time": "2022-11-16T02:32:57.201Z"
   },
   {
    "duration": 20,
    "start_time": "2022-11-16T02:32:59.117Z"
   },
   {
    "duration": 36,
    "start_time": "2022-11-16T02:33:04.776Z"
   },
   {
    "duration": 70,
    "start_time": "2022-11-16T03:28:06.616Z"
   },
   {
    "duration": 1302,
    "start_time": "2022-11-16T03:28:27.399Z"
   },
   {
    "duration": 228,
    "start_time": "2022-11-16T03:28:28.703Z"
   },
   {
    "duration": 4,
    "start_time": "2022-11-16T03:28:28.933Z"
   },
   {
    "duration": 12,
    "start_time": "2022-11-16T03:28:28.939Z"
   },
   {
    "duration": 4,
    "start_time": "2022-11-16T03:28:28.953Z"
   },
   {
    "duration": 7,
    "start_time": "2022-11-16T03:28:28.959Z"
   },
   {
    "duration": 15,
    "start_time": "2022-11-16T03:28:28.967Z"
   },
   {
    "duration": 30,
    "start_time": "2022-11-16T03:28:28.983Z"
   },
   {
    "duration": 4,
    "start_time": "2022-11-16T03:28:29.014Z"
   },
   {
    "duration": 3,
    "start_time": "2022-11-16T03:28:29.021Z"
   },
   {
    "duration": 13,
    "start_time": "2022-11-16T03:28:29.026Z"
   },
   {
    "duration": 16,
    "start_time": "2022-11-16T03:28:29.041Z"
   },
   {
    "duration": 4,
    "start_time": "2022-11-16T03:28:29.058Z"
   },
   {
    "duration": 9,
    "start_time": "2022-11-16T03:28:29.064Z"
   },
   {
    "duration": 40,
    "start_time": "2022-11-16T03:28:29.075Z"
   },
   {
    "duration": 10,
    "start_time": "2022-11-16T03:28:29.116Z"
   },
   {
    "duration": 7,
    "start_time": "2022-11-16T03:28:29.127Z"
   },
   {
    "duration": 20,
    "start_time": "2022-11-16T03:28:29.135Z"
   },
   {
    "duration": 14,
    "start_time": "2022-11-16T03:28:29.156Z"
   },
   {
    "duration": 10,
    "start_time": "2022-11-16T03:28:29.172Z"
   },
   {
    "duration": 5,
    "start_time": "2022-11-16T03:28:29.184Z"
   },
   {
    "duration": 28,
    "start_time": "2022-11-16T03:28:29.191Z"
   },
   {
    "duration": 15,
    "start_time": "2022-11-16T03:28:29.221Z"
   },
   {
    "duration": 4,
    "start_time": "2022-11-16T03:28:29.238Z"
   },
   {
    "duration": 23,
    "start_time": "2022-11-16T03:28:29.244Z"
   },
   {
    "duration": 61,
    "start_time": "2022-11-16T03:28:29.269Z"
   },
   {
    "duration": 25,
    "start_time": "2022-11-16T03:28:29.332Z"
   },
   {
    "duration": 22,
    "start_time": "2022-11-16T03:28:29.362Z"
   },
   {
    "duration": 27,
    "start_time": "2022-11-16T03:28:29.386Z"
   },
   {
    "duration": 32,
    "start_time": "2022-11-16T03:28:29.416Z"
   },
   {
    "duration": 30,
    "start_time": "2022-11-16T03:28:29.449Z"
   },
   {
    "duration": 153,
    "start_time": "2022-11-16T03:28:29.481Z"
   },
   {
    "duration": 112,
    "start_time": "2022-11-16T03:28:29.636Z"
   },
   {
    "duration": 5,
    "start_time": "2022-11-16T03:28:29.750Z"
   },
   {
    "duration": 10,
    "start_time": "2022-11-16T03:28:29.756Z"
   },
   {
    "duration": 382,
    "start_time": "2022-11-16T03:28:29.767Z"
   },
   {
    "duration": 7,
    "start_time": "2022-11-16T03:28:30.151Z"
   },
   {
    "duration": 321,
    "start_time": "2022-11-16T03:28:30.160Z"
   },
   {
    "duration": 130,
    "start_time": "2022-11-16T03:28:30.483Z"
   },
   {
    "duration": 12,
    "start_time": "2022-11-16T03:28:30.615Z"
   },
   {
    "duration": 12,
    "start_time": "2022-11-16T03:28:30.629Z"
   },
   {
    "duration": 11,
    "start_time": "2022-11-16T03:28:30.642Z"
   },
   {
    "duration": 480,
    "start_time": "2022-11-16T03:28:30.655Z"
   },
   {
    "duration": 227,
    "start_time": "2022-11-16T03:28:31.137Z"
   },
   {
    "duration": 165,
    "start_time": "2022-11-16T03:28:31.366Z"
   },
   {
    "duration": 160,
    "start_time": "2022-11-16T03:28:31.533Z"
   },
   {
    "duration": 2,
    "start_time": "2022-11-16T03:28:31.695Z"
   },
   {
    "duration": 25,
    "start_time": "2022-11-16T03:28:31.699Z"
   },
   {
    "duration": 114,
    "start_time": "2022-11-16T03:28:31.726Z"
   },
   {
    "duration": 125,
    "start_time": "2022-11-16T03:28:31.842Z"
   },
   {
    "duration": 27,
    "start_time": "2022-11-16T03:28:31.969Z"
   },
   {
    "duration": 35,
    "start_time": "2022-11-16T03:28:31.998Z"
   },
   {
    "duration": 30,
    "start_time": "2022-11-16T03:28:32.035Z"
   },
   {
    "duration": 50,
    "start_time": "2022-11-16T03:28:32.067Z"
   },
   {
    "duration": 36,
    "start_time": "2022-11-16T03:28:32.119Z"
   },
   {
    "duration": 26,
    "start_time": "2022-11-16T03:28:32.156Z"
   },
   {
    "duration": 31,
    "start_time": "2022-11-16T03:28:32.184Z"
   },
   {
    "duration": 7,
    "start_time": "2022-11-16T03:28:32.217Z"
   },
   {
    "duration": 13,
    "start_time": "2022-11-16T03:28:32.226Z"
   },
   {
    "duration": 18,
    "start_time": "2022-11-16T03:28:32.240Z"
   },
   {
    "duration": 28,
    "start_time": "2022-11-16T03:28:32.259Z"
   },
   {
    "duration": 153,
    "start_time": "2022-11-16T03:28:32.288Z"
   },
   {
    "duration": 0,
    "start_time": "2022-11-16T03:28:32.443Z"
   },
   {
    "duration": 0,
    "start_time": "2022-11-16T03:28:32.444Z"
   },
   {
    "duration": 0,
    "start_time": "2022-11-16T03:28:32.446Z"
   },
   {
    "duration": 0,
    "start_time": "2022-11-16T03:28:32.447Z"
   },
   {
    "duration": 0,
    "start_time": "2022-11-16T03:28:32.449Z"
   },
   {
    "duration": 0,
    "start_time": "2022-11-16T03:28:32.450Z"
   },
   {
    "duration": 0,
    "start_time": "2022-11-16T03:28:32.451Z"
   },
   {
    "duration": 0,
    "start_time": "2022-11-16T03:28:32.452Z"
   },
   {
    "duration": 0,
    "start_time": "2022-11-16T03:28:32.454Z"
   },
   {
    "duration": 0,
    "start_time": "2022-11-16T03:28:32.455Z"
   },
   {
    "duration": 0,
    "start_time": "2022-11-16T03:28:32.456Z"
   },
   {
    "duration": 0,
    "start_time": "2022-11-16T03:28:32.457Z"
   },
   {
    "duration": 0,
    "start_time": "2022-11-16T03:28:32.458Z"
   },
   {
    "duration": 0,
    "start_time": "2022-11-16T03:28:32.459Z"
   },
   {
    "duration": 0,
    "start_time": "2022-11-16T03:28:32.460Z"
   },
   {
    "duration": 0,
    "start_time": "2022-11-16T03:28:32.461Z"
   },
   {
    "duration": 0,
    "start_time": "2022-11-16T03:28:32.462Z"
   },
   {
    "duration": 0,
    "start_time": "2022-11-16T03:28:32.463Z"
   },
   {
    "duration": 0,
    "start_time": "2022-11-16T03:28:32.464Z"
   },
   {
    "duration": 0,
    "start_time": "2022-11-16T03:28:32.464Z"
   },
   {
    "duration": 0,
    "start_time": "2022-11-16T03:28:32.466Z"
   },
   {
    "duration": 0,
    "start_time": "2022-11-16T03:28:32.467Z"
   },
   {
    "duration": 0,
    "start_time": "2022-11-16T03:28:32.467Z"
   },
   {
    "duration": 0,
    "start_time": "2022-11-16T03:28:32.468Z"
   },
   {
    "duration": 0,
    "start_time": "2022-11-16T03:28:32.469Z"
   },
   {
    "duration": 0,
    "start_time": "2022-11-16T03:28:32.470Z"
   },
   {
    "duration": 0,
    "start_time": "2022-11-16T03:28:32.513Z"
   },
   {
    "duration": 0,
    "start_time": "2022-11-16T03:28:32.514Z"
   },
   {
    "duration": 0,
    "start_time": "2022-11-16T03:28:32.515Z"
   },
   {
    "duration": 0,
    "start_time": "2022-11-16T03:28:32.516Z"
   },
   {
    "duration": 0,
    "start_time": "2022-11-16T03:28:32.517Z"
   },
   {
    "duration": 0,
    "start_time": "2022-11-16T03:28:32.518Z"
   },
   {
    "duration": 0,
    "start_time": "2022-11-16T03:28:32.519Z"
   },
   {
    "duration": 0,
    "start_time": "2022-11-16T03:28:32.520Z"
   },
   {
    "duration": 0,
    "start_time": "2022-11-16T03:28:32.521Z"
   },
   {
    "duration": 0,
    "start_time": "2022-11-16T03:28:32.522Z"
   },
   {
    "duration": 38,
    "start_time": "2022-11-16T03:36:13.277Z"
   },
   {
    "duration": 49,
    "start_time": "2022-11-16T03:40:04.325Z"
   },
   {
    "duration": 85,
    "start_time": "2022-11-16T03:40:16.064Z"
   },
   {
    "duration": 88,
    "start_time": "2022-11-16T03:40:32.325Z"
   },
   {
    "duration": 83,
    "start_time": "2022-11-16T03:40:43.146Z"
   },
   {
    "duration": 134,
    "start_time": "2022-11-16T03:42:12.512Z"
   },
   {
    "duration": 123,
    "start_time": "2022-11-16T04:34:05.302Z"
   },
   {
    "duration": 224,
    "start_time": "2022-11-16T04:35:32.032Z"
   },
   {
    "duration": 135,
    "start_time": "2022-11-16T04:36:15.234Z"
   },
   {
    "duration": 139,
    "start_time": "2022-11-16T04:36:38.874Z"
   },
   {
    "duration": 117,
    "start_time": "2022-11-16T04:36:59.147Z"
   },
   {
    "duration": 1399,
    "start_time": "2022-11-16T09:12:25.216Z"
   },
   {
    "duration": 343,
    "start_time": "2022-11-16T09:12:26.617Z"
   },
   {
    "duration": 4,
    "start_time": "2022-11-16T09:12:26.962Z"
   },
   {
    "duration": 13,
    "start_time": "2022-11-16T09:12:26.968Z"
   },
   {
    "duration": 3,
    "start_time": "2022-11-16T09:12:26.983Z"
   },
   {
    "duration": 9,
    "start_time": "2022-11-16T09:12:26.988Z"
   },
   {
    "duration": 13,
    "start_time": "2022-11-16T09:12:26.998Z"
   },
   {
    "duration": 7,
    "start_time": "2022-11-16T09:12:27.013Z"
   },
   {
    "duration": 8,
    "start_time": "2022-11-16T09:12:27.021Z"
   },
   {
    "duration": 14,
    "start_time": "2022-11-16T09:12:27.030Z"
   },
   {
    "duration": 12,
    "start_time": "2022-11-16T09:12:27.046Z"
   },
   {
    "duration": 44,
    "start_time": "2022-11-16T09:12:27.059Z"
   },
   {
    "duration": 5,
    "start_time": "2022-11-16T09:12:27.105Z"
   },
   {
    "duration": 5,
    "start_time": "2022-11-16T09:12:27.113Z"
   },
   {
    "duration": 6,
    "start_time": "2022-11-16T09:12:27.119Z"
   },
   {
    "duration": 9,
    "start_time": "2022-11-16T09:12:27.127Z"
   },
   {
    "duration": 8,
    "start_time": "2022-11-16T09:12:27.138Z"
   },
   {
    "duration": 11,
    "start_time": "2022-11-16T09:12:27.148Z"
   },
   {
    "duration": 40,
    "start_time": "2022-11-16T09:12:27.161Z"
   },
   {
    "duration": 14,
    "start_time": "2022-11-16T09:12:27.203Z"
   },
   {
    "duration": 3,
    "start_time": "2022-11-16T09:12:27.219Z"
   },
   {
    "duration": 11,
    "start_time": "2022-11-16T09:12:27.224Z"
   },
   {
    "duration": 14,
    "start_time": "2022-11-16T09:12:27.236Z"
   },
   {
    "duration": 4,
    "start_time": "2022-11-16T09:12:27.251Z"
   },
   {
    "duration": 45,
    "start_time": "2022-11-16T09:12:27.257Z"
   },
   {
    "duration": 43,
    "start_time": "2022-11-16T09:12:27.305Z"
   },
   {
    "duration": 18,
    "start_time": "2022-11-16T09:12:27.350Z"
   },
   {
    "duration": 40,
    "start_time": "2022-11-16T09:12:27.370Z"
   },
   {
    "duration": 6,
    "start_time": "2022-11-16T09:12:27.411Z"
   },
   {
    "duration": 32,
    "start_time": "2022-11-16T09:12:27.418Z"
   },
   {
    "duration": 45,
    "start_time": "2022-11-16T09:12:27.452Z"
   },
   {
    "duration": 137,
    "start_time": "2022-11-16T09:12:27.499Z"
   },
   {
    "duration": 105,
    "start_time": "2022-11-16T09:12:27.638Z"
   },
   {
    "duration": 5,
    "start_time": "2022-11-16T09:12:27.745Z"
   },
   {
    "duration": 10,
    "start_time": "2022-11-16T09:12:27.752Z"
   },
   {
    "duration": 389,
    "start_time": "2022-11-16T09:12:27.764Z"
   },
   {
    "duration": 7,
    "start_time": "2022-11-16T09:12:28.155Z"
   },
   {
    "duration": 291,
    "start_time": "2022-11-16T09:12:28.164Z"
   },
   {
    "duration": 125,
    "start_time": "2022-11-16T09:12:28.456Z"
   },
   {
    "duration": 19,
    "start_time": "2022-11-16T09:12:28.583Z"
   },
   {
    "duration": 76,
    "start_time": "2022-11-16T09:12:28.607Z"
   },
   {
    "duration": 13,
    "start_time": "2022-11-16T09:12:28.685Z"
   },
   {
    "duration": 381,
    "start_time": "2022-11-16T09:12:28.700Z"
   },
   {
    "duration": 240,
    "start_time": "2022-11-16T09:12:29.083Z"
   },
   {
    "duration": 160,
    "start_time": "2022-11-16T09:12:29.325Z"
   },
   {
    "duration": 165,
    "start_time": "2022-11-16T09:12:29.487Z"
   },
   {
    "duration": 3,
    "start_time": "2022-11-16T09:12:29.653Z"
   },
   {
    "duration": 40,
    "start_time": "2022-11-16T09:12:29.657Z"
   },
   {
    "duration": 102,
    "start_time": "2022-11-16T09:12:29.699Z"
   },
   {
    "duration": 181,
    "start_time": "2022-11-16T09:12:29.802Z"
   },
   {
    "duration": 0,
    "start_time": "2022-11-16T09:12:29.985Z"
   },
   {
    "duration": 0,
    "start_time": "2022-11-16T09:12:29.986Z"
   },
   {
    "duration": 0,
    "start_time": "2022-11-16T09:12:29.988Z"
   },
   {
    "duration": 0,
    "start_time": "2022-11-16T09:12:29.996Z"
   },
   {
    "duration": 0,
    "start_time": "2022-11-16T09:12:29.998Z"
   },
   {
    "duration": 0,
    "start_time": "2022-11-16T09:12:29.999Z"
   },
   {
    "duration": 0,
    "start_time": "2022-11-16T09:12:30.000Z"
   },
   {
    "duration": 0,
    "start_time": "2022-11-16T09:12:30.001Z"
   },
   {
    "duration": 0,
    "start_time": "2022-11-16T09:12:30.002Z"
   },
   {
    "duration": 0,
    "start_time": "2022-11-16T09:12:30.003Z"
   },
   {
    "duration": 0,
    "start_time": "2022-11-16T09:12:30.004Z"
   },
   {
    "duration": 0,
    "start_time": "2022-11-16T09:12:30.005Z"
   },
   {
    "duration": 0,
    "start_time": "2022-11-16T09:12:30.006Z"
   },
   {
    "duration": 0,
    "start_time": "2022-11-16T09:12:30.007Z"
   },
   {
    "duration": 0,
    "start_time": "2022-11-16T09:12:30.008Z"
   },
   {
    "duration": 0,
    "start_time": "2022-11-16T09:12:30.010Z"
   },
   {
    "duration": 0,
    "start_time": "2022-11-16T09:12:30.011Z"
   },
   {
    "duration": 0,
    "start_time": "2022-11-16T09:12:30.012Z"
   },
   {
    "duration": 0,
    "start_time": "2022-11-16T09:12:30.013Z"
   },
   {
    "duration": 0,
    "start_time": "2022-11-16T09:12:30.014Z"
   },
   {
    "duration": 0,
    "start_time": "2022-11-16T09:12:30.015Z"
   },
   {
    "duration": 0,
    "start_time": "2022-11-16T09:12:30.016Z"
   },
   {
    "duration": 0,
    "start_time": "2022-11-16T09:12:30.017Z"
   },
   {
    "duration": 0,
    "start_time": "2022-11-16T09:12:30.019Z"
   },
   {
    "duration": 0,
    "start_time": "2022-11-16T09:12:30.020Z"
   },
   {
    "duration": 0,
    "start_time": "2022-11-16T09:12:30.021Z"
   },
   {
    "duration": 0,
    "start_time": "2022-11-16T09:12:30.022Z"
   },
   {
    "duration": 0,
    "start_time": "2022-11-16T09:12:30.023Z"
   },
   {
    "duration": 0,
    "start_time": "2022-11-16T09:12:30.024Z"
   },
   {
    "duration": 0,
    "start_time": "2022-11-16T09:12:30.025Z"
   },
   {
    "duration": 0,
    "start_time": "2022-11-16T09:12:30.026Z"
   },
   {
    "duration": 0,
    "start_time": "2022-11-16T09:12:30.027Z"
   },
   {
    "duration": 0,
    "start_time": "2022-11-16T09:12:30.028Z"
   },
   {
    "duration": 0,
    "start_time": "2022-11-16T09:12:30.029Z"
   },
   {
    "duration": 0,
    "start_time": "2022-11-16T09:12:30.030Z"
   },
   {
    "duration": 0,
    "start_time": "2022-11-16T09:12:30.031Z"
   },
   {
    "duration": 0,
    "start_time": "2022-11-16T09:12:30.032Z"
   },
   {
    "duration": 0,
    "start_time": "2022-11-16T09:12:30.033Z"
   },
   {
    "duration": 0,
    "start_time": "2022-11-16T09:12:30.034Z"
   },
   {
    "duration": 0,
    "start_time": "2022-11-16T09:12:30.097Z"
   },
   {
    "duration": 0,
    "start_time": "2022-11-16T09:12:30.098Z"
   },
   {
    "duration": 0,
    "start_time": "2022-11-16T09:12:30.099Z"
   },
   {
    "duration": 0,
    "start_time": "2022-11-16T09:12:30.100Z"
   },
   {
    "duration": 0,
    "start_time": "2022-11-16T09:12:30.101Z"
   },
   {
    "duration": 0,
    "start_time": "2022-11-16T09:12:30.102Z"
   },
   {
    "duration": 0,
    "start_time": "2022-11-16T09:12:30.103Z"
   },
   {
    "duration": 0,
    "start_time": "2022-11-16T09:12:30.104Z"
   },
   {
    "duration": 0,
    "start_time": "2022-11-16T09:12:30.105Z"
   },
   {
    "duration": 0,
    "start_time": "2022-11-16T09:12:30.106Z"
   },
   {
    "duration": 12,
    "start_time": "2022-11-16T09:30:21.331Z"
   },
   {
    "duration": 18,
    "start_time": "2022-11-16T09:30:28.632Z"
   },
   {
    "duration": 55,
    "start_time": "2022-11-16T09:31:24.318Z"
   },
   {
    "duration": 76,
    "start_time": "2022-11-16T09:32:12.450Z"
   },
   {
    "duration": 81,
    "start_time": "2022-11-16T09:32:26.650Z"
   },
   {
    "duration": 18,
    "start_time": "2022-11-16T09:34:54.459Z"
   },
   {
    "duration": 27,
    "start_time": "2022-11-16T09:36:31.689Z"
   },
   {
    "duration": 8,
    "start_time": "2022-11-16T09:45:55.517Z"
   },
   {
    "duration": 28,
    "start_time": "2022-11-16T09:46:03.783Z"
   },
   {
    "duration": 42,
    "start_time": "2022-11-16T09:47:45.523Z"
   },
   {
    "duration": 37,
    "start_time": "2022-11-16T09:49:24.093Z"
   },
   {
    "duration": 34,
    "start_time": "2022-11-16T09:50:38.306Z"
   },
   {
    "duration": 31,
    "start_time": "2022-11-16T09:51:46.779Z"
   },
   {
    "duration": 84,
    "start_time": "2022-11-16T10:53:54.902Z"
   },
   {
    "duration": 110,
    "start_time": "2022-11-16T10:54:31.297Z"
   },
   {
    "duration": 84,
    "start_time": "2022-11-16T10:54:54.405Z"
   },
   {
    "duration": 85,
    "start_time": "2022-11-16T10:55:38.031Z"
   },
   {
    "duration": 51,
    "start_time": "2022-11-16T10:55:50.504Z"
   },
   {
    "duration": 89,
    "start_time": "2022-11-16T10:55:55.142Z"
   },
   {
    "duration": 87,
    "start_time": "2022-11-16T10:57:41.221Z"
   },
   {
    "duration": 25,
    "start_time": "2022-11-16T11:02:45.379Z"
   },
   {
    "duration": 18,
    "start_time": "2022-11-16T11:03:15.924Z"
   },
   {
    "duration": 24,
    "start_time": "2022-11-16T11:03:23.376Z"
   },
   {
    "duration": 25,
    "start_time": "2022-11-16T11:03:53.266Z"
   },
   {
    "duration": 13,
    "start_time": "2022-11-16T11:04:10.404Z"
   },
   {
    "duration": 208,
    "start_time": "2022-11-16T11:04:46.973Z"
   },
   {
    "duration": 116,
    "start_time": "2022-11-16T11:06:14.650Z"
   },
   {
    "duration": 27,
    "start_time": "2022-11-16T11:07:53.031Z"
   },
   {
    "duration": 13,
    "start_time": "2022-11-16T11:22:53.599Z"
   },
   {
    "duration": 7,
    "start_time": "2022-11-16T11:23:24.286Z"
   },
   {
    "duration": 22,
    "start_time": "2022-11-16T11:23:39.495Z"
   },
   {
    "duration": 12,
    "start_time": "2022-11-16T11:34:18.313Z"
   },
   {
    "duration": 24,
    "start_time": "2022-11-16T11:34:26.830Z"
   },
   {
    "duration": 134,
    "start_time": "2022-11-16T12:08:18.688Z"
   },
   {
    "duration": 124,
    "start_time": "2022-11-16T12:08:48.525Z"
   },
   {
    "duration": 26,
    "start_time": "2022-11-16T12:10:50.384Z"
   },
   {
    "duration": 29,
    "start_time": "2022-11-16T12:27:59.085Z"
   },
   {
    "duration": 28,
    "start_time": "2022-11-16T12:28:25.965Z"
   },
   {
    "duration": 21,
    "start_time": "2022-11-16T12:30:35.391Z"
   },
   {
    "duration": 22,
    "start_time": "2022-11-16T12:30:39.357Z"
   },
   {
    "duration": 22,
    "start_time": "2022-11-16T12:31:10.057Z"
   },
   {
    "duration": 22,
    "start_time": "2022-11-16T12:31:16.450Z"
   },
   {
    "duration": 22,
    "start_time": "2022-11-16T12:47:47.174Z"
   },
   {
    "duration": 95,
    "start_time": "2022-11-16T12:52:20.010Z"
   },
   {
    "duration": 23,
    "start_time": "2022-11-16T12:53:59.694Z"
   },
   {
    "duration": 22,
    "start_time": "2022-11-16T12:54:02.760Z"
   },
   {
    "duration": 22,
    "start_time": "2022-11-16T13:01:54.250Z"
   },
   {
    "duration": 90,
    "start_time": "2022-11-16T13:03:50.533Z"
   },
   {
    "duration": 23,
    "start_time": "2022-11-16T13:04:02.629Z"
   },
   {
    "duration": 20,
    "start_time": "2022-11-16T13:04:04.770Z"
   },
   {
    "duration": 1260,
    "start_time": "2022-11-16T13:04:12.463Z"
   },
   {
    "duration": 332,
    "start_time": "2022-11-16T13:04:13.725Z"
   },
   {
    "duration": 4,
    "start_time": "2022-11-16T13:04:14.058Z"
   },
   {
    "duration": 18,
    "start_time": "2022-11-16T13:04:14.063Z"
   },
   {
    "duration": 4,
    "start_time": "2022-11-16T13:04:14.083Z"
   },
   {
    "duration": 6,
    "start_time": "2022-11-16T13:04:14.089Z"
   },
   {
    "duration": 13,
    "start_time": "2022-11-16T13:04:14.097Z"
   },
   {
    "duration": 9,
    "start_time": "2022-11-16T13:04:14.112Z"
   },
   {
    "duration": 7,
    "start_time": "2022-11-16T13:04:14.123Z"
   },
   {
    "duration": 5,
    "start_time": "2022-11-16T13:04:14.132Z"
   },
   {
    "duration": 16,
    "start_time": "2022-11-16T13:04:14.138Z"
   },
   {
    "duration": 21,
    "start_time": "2022-11-16T13:04:14.156Z"
   },
   {
    "duration": 20,
    "start_time": "2022-11-16T13:04:14.179Z"
   },
   {
    "duration": 5,
    "start_time": "2022-11-16T13:04:14.202Z"
   },
   {
    "duration": 6,
    "start_time": "2022-11-16T13:04:14.209Z"
   },
   {
    "duration": 26,
    "start_time": "2022-11-16T13:04:14.217Z"
   },
   {
    "duration": 9,
    "start_time": "2022-11-16T13:04:14.244Z"
   },
   {
    "duration": 7,
    "start_time": "2022-11-16T13:04:14.255Z"
   },
   {
    "duration": 17,
    "start_time": "2022-11-16T13:04:14.263Z"
   },
   {
    "duration": 13,
    "start_time": "2022-11-16T13:04:14.297Z"
   },
   {
    "duration": 7,
    "start_time": "2022-11-16T13:04:14.312Z"
   },
   {
    "duration": 13,
    "start_time": "2022-11-16T13:04:14.320Z"
   },
   {
    "duration": 13,
    "start_time": "2022-11-16T13:04:14.335Z"
   },
   {
    "duration": 13,
    "start_time": "2022-11-16T13:04:14.350Z"
   },
   {
    "duration": 39,
    "start_time": "2022-11-16T13:04:14.365Z"
   },
   {
    "duration": 32,
    "start_time": "2022-11-16T13:04:14.406Z"
   },
   {
    "duration": 21,
    "start_time": "2022-11-16T13:04:14.440Z"
   },
   {
    "duration": 44,
    "start_time": "2022-11-16T13:04:14.463Z"
   },
   {
    "duration": 3,
    "start_time": "2022-11-16T13:04:14.509Z"
   },
   {
    "duration": 33,
    "start_time": "2022-11-16T13:04:14.514Z"
   },
   {
    "duration": 48,
    "start_time": "2022-11-16T13:04:14.549Z"
   },
   {
    "duration": 133,
    "start_time": "2022-11-16T13:04:14.599Z"
   },
   {
    "duration": 113,
    "start_time": "2022-11-16T13:04:14.734Z"
   },
   {
    "duration": 5,
    "start_time": "2022-11-16T13:04:14.849Z"
   },
   {
    "duration": 11,
    "start_time": "2022-11-16T13:04:14.856Z"
   },
   {
    "duration": 395,
    "start_time": "2022-11-16T13:04:14.868Z"
   },
   {
    "duration": 7,
    "start_time": "2022-11-16T13:04:15.265Z"
   },
   {
    "duration": 325,
    "start_time": "2022-11-16T13:04:15.273Z"
   },
   {
    "duration": 125,
    "start_time": "2022-11-16T13:04:15.600Z"
   },
   {
    "duration": 11,
    "start_time": "2022-11-16T13:04:15.727Z"
   },
   {
    "duration": 12,
    "start_time": "2022-11-16T13:04:15.818Z"
   },
   {
    "duration": 5,
    "start_time": "2022-11-16T13:04:15.832Z"
   },
   {
    "duration": 445,
    "start_time": "2022-11-16T13:04:15.838Z"
   },
   {
    "duration": 215,
    "start_time": "2022-11-16T13:04:16.285Z"
   },
   {
    "duration": 169,
    "start_time": "2022-11-16T13:04:16.501Z"
   },
   {
    "duration": 173,
    "start_time": "2022-11-16T13:04:16.672Z"
   },
   {
    "duration": 2,
    "start_time": "2022-11-16T13:04:16.847Z"
   },
   {
    "duration": 160,
    "start_time": "2022-11-16T13:04:16.851Z"
   },
   {
    "duration": 25,
    "start_time": "2022-11-16T13:04:17.013Z"
   },
   {
    "duration": 21,
    "start_time": "2022-11-16T13:04:17.040Z"
   },
   {
    "duration": 61,
    "start_time": "2022-11-16T13:04:17.064Z"
   },
   {
    "duration": 130,
    "start_time": "2022-11-16T13:04:17.127Z"
   },
   {
    "duration": 162,
    "start_time": "2022-11-16T13:04:17.259Z"
   },
   {
    "duration": 0,
    "start_time": "2022-11-16T13:04:17.423Z"
   },
   {
    "duration": 0,
    "start_time": "2022-11-16T13:04:17.424Z"
   },
   {
    "duration": 0,
    "start_time": "2022-11-16T13:04:17.425Z"
   },
   {
    "duration": 0,
    "start_time": "2022-11-16T13:04:17.426Z"
   },
   {
    "duration": 0,
    "start_time": "2022-11-16T13:04:17.428Z"
   },
   {
    "duration": 0,
    "start_time": "2022-11-16T13:04:17.429Z"
   },
   {
    "duration": 0,
    "start_time": "2022-11-16T13:04:17.430Z"
   },
   {
    "duration": 0,
    "start_time": "2022-11-16T13:04:17.431Z"
   },
   {
    "duration": 0,
    "start_time": "2022-11-16T13:04:17.432Z"
   },
   {
    "duration": 0,
    "start_time": "2022-11-16T13:04:17.433Z"
   },
   {
    "duration": 0,
    "start_time": "2022-11-16T13:04:17.434Z"
   },
   {
    "duration": 0,
    "start_time": "2022-11-16T13:04:17.435Z"
   },
   {
    "duration": 0,
    "start_time": "2022-11-16T13:04:17.436Z"
   },
   {
    "duration": 0,
    "start_time": "2022-11-16T13:04:17.437Z"
   },
   {
    "duration": 0,
    "start_time": "2022-11-16T13:04:17.440Z"
   },
   {
    "duration": 0,
    "start_time": "2022-11-16T13:04:17.440Z"
   },
   {
    "duration": 0,
    "start_time": "2022-11-16T13:04:17.442Z"
   },
   {
    "duration": 0,
    "start_time": "2022-11-16T13:04:17.443Z"
   },
   {
    "duration": 0,
    "start_time": "2022-11-16T13:04:17.445Z"
   },
   {
    "duration": 0,
    "start_time": "2022-11-16T13:04:17.446Z"
   },
   {
    "duration": 0,
    "start_time": "2022-11-16T13:04:17.447Z"
   },
   {
    "duration": 0,
    "start_time": "2022-11-16T13:04:17.448Z"
   },
   {
    "duration": 0,
    "start_time": "2022-11-16T13:04:17.449Z"
   },
   {
    "duration": 1,
    "start_time": "2022-11-16T13:04:17.449Z"
   },
   {
    "duration": 0,
    "start_time": "2022-11-16T13:04:17.450Z"
   },
   {
    "duration": 0,
    "start_time": "2022-11-16T13:04:17.451Z"
   },
   {
    "duration": 0,
    "start_time": "2022-11-16T13:04:17.496Z"
   },
   {
    "duration": 0,
    "start_time": "2022-11-16T13:04:17.498Z"
   },
   {
    "duration": 0,
    "start_time": "2022-11-16T13:04:17.499Z"
   },
   {
    "duration": 0,
    "start_time": "2022-11-16T13:04:17.502Z"
   },
   {
    "duration": 0,
    "start_time": "2022-11-16T13:04:17.503Z"
   },
   {
    "duration": 0,
    "start_time": "2022-11-16T13:04:17.504Z"
   },
   {
    "duration": 0,
    "start_time": "2022-11-16T13:04:17.505Z"
   },
   {
    "duration": 0,
    "start_time": "2022-11-16T13:04:17.506Z"
   },
   {
    "duration": 0,
    "start_time": "2022-11-16T13:04:17.507Z"
   },
   {
    "duration": 0,
    "start_time": "2022-11-16T13:04:17.508Z"
   },
   {
    "duration": 0,
    "start_time": "2022-11-16T13:04:17.509Z"
   },
   {
    "duration": 0,
    "start_time": "2022-11-16T13:04:17.510Z"
   },
   {
    "duration": 0,
    "start_time": "2022-11-16T13:04:17.511Z"
   },
   {
    "duration": 0,
    "start_time": "2022-11-16T13:04:17.514Z"
   },
   {
    "duration": 0,
    "start_time": "2022-11-16T13:04:17.515Z"
   },
   {
    "duration": 0,
    "start_time": "2022-11-16T13:04:17.516Z"
   },
   {
    "duration": 0,
    "start_time": "2022-11-16T13:04:17.517Z"
   },
   {
    "duration": 0,
    "start_time": "2022-11-16T13:04:17.518Z"
   },
   {
    "duration": 0,
    "start_time": "2022-11-16T13:04:17.519Z"
   },
   {
    "duration": 0,
    "start_time": "2022-11-16T13:04:17.520Z"
   },
   {
    "duration": 0,
    "start_time": "2022-11-16T13:04:17.521Z"
   },
   {
    "duration": 0,
    "start_time": "2022-11-16T13:04:17.522Z"
   },
   {
    "duration": 0,
    "start_time": "2022-11-16T13:04:17.523Z"
   },
   {
    "duration": 0,
    "start_time": "2022-11-16T13:04:17.524Z"
   },
   {
    "duration": 0,
    "start_time": "2022-11-16T13:04:17.525Z"
   },
   {
    "duration": 0,
    "start_time": "2022-11-16T13:04:17.526Z"
   },
   {
    "duration": 74,
    "start_time": "2022-11-16T13:05:25.778Z"
   },
   {
    "duration": 51,
    "start_time": "2022-11-16T13:05:48.122Z"
   },
   {
    "duration": 23,
    "start_time": "2022-11-16T13:06:22.844Z"
   },
   {
    "duration": 22,
    "start_time": "2022-11-16T13:06:53.008Z"
   },
   {
    "duration": 21,
    "start_time": "2022-11-16T13:07:24.136Z"
   },
   {
    "duration": 31,
    "start_time": "2022-11-16T13:07:46.495Z"
   },
   {
    "duration": 26,
    "start_time": "2022-11-16T13:17:58.328Z"
   },
   {
    "duration": 15,
    "start_time": "2022-11-16T13:18:36.443Z"
   },
   {
    "duration": 87,
    "start_time": "2022-11-16T13:18:54.564Z"
   },
   {
    "duration": 90,
    "start_time": "2022-11-16T13:19:20.165Z"
   },
   {
    "duration": 24,
    "start_time": "2022-11-16T13:23:37.144Z"
   },
   {
    "duration": 31,
    "start_time": "2022-11-16T13:24:46.808Z"
   },
   {
    "duration": 118,
    "start_time": "2022-11-16T13:24:54.607Z"
   },
   {
    "duration": 20,
    "start_time": "2022-11-16T13:28:05.500Z"
   },
   {
    "duration": 16431,
    "start_time": "2022-11-16T13:28:11.717Z"
   },
   {
    "duration": 80,
    "start_time": "2022-11-16T13:28:28.154Z"
   },
   {
    "duration": 1382,
    "start_time": "2022-11-16T13:28:35.051Z"
   },
   {
    "duration": 665,
    "start_time": "2022-11-16T13:28:36.435Z"
   },
   {
    "duration": 4,
    "start_time": "2022-11-16T13:28:37.101Z"
   },
   {
    "duration": 17,
    "start_time": "2022-11-16T13:28:37.107Z"
   },
   {
    "duration": 5,
    "start_time": "2022-11-16T13:28:37.126Z"
   },
   {
    "duration": 10,
    "start_time": "2022-11-16T13:28:37.133Z"
   },
   {
    "duration": 18,
    "start_time": "2022-11-16T13:28:37.145Z"
   },
   {
    "duration": 32,
    "start_time": "2022-11-16T13:28:37.164Z"
   },
   {
    "duration": 5,
    "start_time": "2022-11-16T13:28:37.198Z"
   },
   {
    "duration": 4,
    "start_time": "2022-11-16T13:28:37.207Z"
   },
   {
    "duration": 15,
    "start_time": "2022-11-16T13:28:37.213Z"
   },
   {
    "duration": 17,
    "start_time": "2022-11-16T13:28:37.230Z"
   },
   {
    "duration": 5,
    "start_time": "2022-11-16T13:28:37.249Z"
   },
   {
    "duration": 8,
    "start_time": "2022-11-16T13:28:37.255Z"
   },
   {
    "duration": 10,
    "start_time": "2022-11-16T13:28:37.298Z"
   },
   {
    "duration": 12,
    "start_time": "2022-11-16T13:28:37.310Z"
   },
   {
    "duration": 9,
    "start_time": "2022-11-16T13:28:37.324Z"
   },
   {
    "duration": 8,
    "start_time": "2022-11-16T13:28:37.335Z"
   },
   {
    "duration": 17,
    "start_time": "2022-11-16T13:28:37.345Z"
   },
   {
    "duration": 41,
    "start_time": "2022-11-16T13:28:37.364Z"
   },
   {
    "duration": 4,
    "start_time": "2022-11-16T13:28:37.407Z"
   },
   {
    "duration": 9,
    "start_time": "2022-11-16T13:28:37.413Z"
   },
   {
    "duration": 14,
    "start_time": "2022-11-16T13:28:37.424Z"
   },
   {
    "duration": 4,
    "start_time": "2022-11-16T13:28:37.440Z"
   },
   {
    "duration": 55,
    "start_time": "2022-11-16T13:28:37.446Z"
   },
   {
    "duration": 34,
    "start_time": "2022-11-16T13:28:37.504Z"
   },
   {
    "duration": 22,
    "start_time": "2022-11-16T13:28:37.540Z"
   },
   {
    "duration": 44,
    "start_time": "2022-11-16T13:28:37.567Z"
   },
   {
    "duration": 4,
    "start_time": "2022-11-16T13:28:37.613Z"
   },
   {
    "duration": 43,
    "start_time": "2022-11-16T13:28:37.619Z"
   },
   {
    "duration": 68,
    "start_time": "2022-11-16T13:28:37.664Z"
   },
   {
    "duration": 152,
    "start_time": "2022-11-16T13:28:37.734Z"
   },
   {
    "duration": 129,
    "start_time": "2022-11-16T13:28:37.888Z"
   },
   {
    "duration": 7,
    "start_time": "2022-11-16T13:28:38.019Z"
   },
   {
    "duration": 13,
    "start_time": "2022-11-16T13:28:38.029Z"
   },
   {
    "duration": 436,
    "start_time": "2022-11-16T13:28:38.044Z"
   },
   {
    "duration": 15,
    "start_time": "2022-11-16T13:28:38.482Z"
   },
   {
    "duration": 336,
    "start_time": "2022-11-16T13:28:38.499Z"
   },
   {
    "duration": 139,
    "start_time": "2022-11-16T13:28:38.836Z"
   },
   {
    "duration": 25,
    "start_time": "2022-11-16T13:28:38.977Z"
   },
   {
    "duration": 16,
    "start_time": "2022-11-16T13:28:39.004Z"
   },
   {
    "duration": 6,
    "start_time": "2022-11-16T13:28:39.022Z"
   },
   {
    "duration": 496,
    "start_time": "2022-11-16T13:28:39.030Z"
   },
   {
    "duration": 273,
    "start_time": "2022-11-16T13:28:39.529Z"
   },
   {
    "duration": 187,
    "start_time": "2022-11-16T13:28:39.804Z"
   },
   {
    "duration": 192,
    "start_time": "2022-11-16T13:28:39.996Z"
   },
   {
    "duration": 3,
    "start_time": "2022-11-16T13:28:40.197Z"
   },
   {
    "duration": 122,
    "start_time": "2022-11-16T13:28:40.201Z"
   },
   {
    "duration": 28,
    "start_time": "2022-11-16T13:28:40.326Z"
   },
   {
    "duration": 40,
    "start_time": "2022-11-16T13:28:40.356Z"
   },
   {
    "duration": 33,
    "start_time": "2022-11-16T13:28:40.397Z"
   },
   {
    "duration": 42,
    "start_time": "2022-11-16T13:28:40.432Z"
   },
   {
    "duration": 39,
    "start_time": "2022-11-16T13:28:40.476Z"
   },
   {
    "duration": 29,
    "start_time": "2022-11-16T13:28:40.517Z"
   },
   {
    "duration": 30,
    "start_time": "2022-11-16T13:28:40.548Z"
   },
   {
    "duration": 29,
    "start_time": "2022-11-16T13:28:40.580Z"
   },
   {
    "duration": 29,
    "start_time": "2022-11-16T13:28:40.611Z"
   },
   {
    "duration": 34,
    "start_time": "2022-11-16T13:28:40.644Z"
   },
   {
    "duration": 171,
    "start_time": "2022-11-16T13:28:40.680Z"
   },
   {
    "duration": 0,
    "start_time": "2022-11-16T13:28:40.853Z"
   },
   {
    "duration": 0,
    "start_time": "2022-11-16T13:28:40.854Z"
   },
   {
    "duration": 0,
    "start_time": "2022-11-16T13:28:40.855Z"
   },
   {
    "duration": 0,
    "start_time": "2022-11-16T13:28:40.857Z"
   },
   {
    "duration": 0,
    "start_time": "2022-11-16T13:28:40.858Z"
   },
   {
    "duration": 0,
    "start_time": "2022-11-16T13:28:40.859Z"
   },
   {
    "duration": 0,
    "start_time": "2022-11-16T13:28:40.860Z"
   },
   {
    "duration": 0,
    "start_time": "2022-11-16T13:28:40.860Z"
   },
   {
    "duration": 0,
    "start_time": "2022-11-16T13:28:40.862Z"
   },
   {
    "duration": 0,
    "start_time": "2022-11-16T13:28:40.863Z"
   },
   {
    "duration": 0,
    "start_time": "2022-11-16T13:28:40.864Z"
   },
   {
    "duration": 0,
    "start_time": "2022-11-16T13:28:40.865Z"
   },
   {
    "duration": 0,
    "start_time": "2022-11-16T13:28:40.867Z"
   },
   {
    "duration": 0,
    "start_time": "2022-11-16T13:28:40.867Z"
   },
   {
    "duration": 0,
    "start_time": "2022-11-16T13:28:40.869Z"
   },
   {
    "duration": 0,
    "start_time": "2022-11-16T13:28:40.870Z"
   },
   {
    "duration": 0,
    "start_time": "2022-11-16T13:28:40.871Z"
   },
   {
    "duration": 0,
    "start_time": "2022-11-16T13:28:40.872Z"
   },
   {
    "duration": 0,
    "start_time": "2022-11-16T13:28:40.896Z"
   },
   {
    "duration": 0,
    "start_time": "2022-11-16T13:28:40.901Z"
   },
   {
    "duration": 0,
    "start_time": "2022-11-16T13:28:40.902Z"
   },
   {
    "duration": 0,
    "start_time": "2022-11-16T13:28:40.903Z"
   },
   {
    "duration": 0,
    "start_time": "2022-11-16T13:28:40.905Z"
   },
   {
    "duration": 0,
    "start_time": "2022-11-16T13:28:40.906Z"
   },
   {
    "duration": 0,
    "start_time": "2022-11-16T13:28:40.908Z"
   },
   {
    "duration": 0,
    "start_time": "2022-11-16T13:28:40.909Z"
   },
   {
    "duration": 0,
    "start_time": "2022-11-16T13:28:40.910Z"
   },
   {
    "duration": 0,
    "start_time": "2022-11-16T13:28:40.911Z"
   },
   {
    "duration": 0,
    "start_time": "2022-11-16T13:28:40.912Z"
   },
   {
    "duration": 0,
    "start_time": "2022-11-16T13:28:40.913Z"
   },
   {
    "duration": 0,
    "start_time": "2022-11-16T13:28:40.915Z"
   },
   {
    "duration": 0,
    "start_time": "2022-11-16T13:28:40.916Z"
   },
   {
    "duration": 0,
    "start_time": "2022-11-16T13:28:40.917Z"
   },
   {
    "duration": 0,
    "start_time": "2022-11-16T13:28:40.918Z"
   },
   {
    "duration": 0,
    "start_time": "2022-11-16T13:28:40.919Z"
   },
   {
    "duration": 0,
    "start_time": "2022-11-16T13:28:40.921Z"
   },
   {
    "duration": 0,
    "start_time": "2022-11-16T13:28:40.923Z"
   },
   {
    "duration": 0,
    "start_time": "2022-11-16T13:28:40.924Z"
   },
   {
    "duration": 0,
    "start_time": "2022-11-16T13:28:40.925Z"
   },
   {
    "duration": 0,
    "start_time": "2022-11-16T13:28:40.927Z"
   },
   {
    "duration": 0,
    "start_time": "2022-11-16T13:28:40.928Z"
   },
   {
    "duration": 0,
    "start_time": "2022-11-16T13:28:40.930Z"
   },
   {
    "duration": 0,
    "start_time": "2022-11-16T13:28:40.931Z"
   },
   {
    "duration": 31,
    "start_time": "2022-11-16T14:00:16.446Z"
   },
   {
    "duration": 36,
    "start_time": "2022-11-16T14:00:31.638Z"
   },
   {
    "duration": 33,
    "start_time": "2022-11-16T14:02:31.234Z"
   },
   {
    "duration": 1255,
    "start_time": "2022-11-16T14:05:51.162Z"
   },
   {
    "duration": 1207,
    "start_time": "2022-11-16T14:06:02.877Z"
   },
   {
    "duration": 34,
    "start_time": "2022-11-16T14:06:34.698Z"
   },
   {
    "duration": 17,
    "start_time": "2022-11-16T14:07:32.634Z"
   },
   {
    "duration": 761,
    "start_time": "2022-11-16T14:07:41.198Z"
   },
   {
    "duration": 18,
    "start_time": "2022-11-16T14:08:41.049Z"
   },
   {
    "duration": 831,
    "start_time": "2022-11-16T14:09:05.013Z"
   },
   {
    "duration": 20,
    "start_time": "2022-11-16T14:09:30.990Z"
   },
   {
    "duration": 19,
    "start_time": "2022-11-16T14:11:47.150Z"
   },
   {
    "duration": 18,
    "start_time": "2022-11-16T14:12:23.807Z"
   },
   {
    "duration": 9,
    "start_time": "2022-11-16T14:12:33.584Z"
   },
   {
    "duration": 34,
    "start_time": "2022-11-16T14:13:37.376Z"
   },
   {
    "duration": 34,
    "start_time": "2022-11-16T14:16:53.522Z"
   },
   {
    "duration": 8,
    "start_time": "2022-11-16T14:17:08.821Z"
   },
   {
    "duration": 32,
    "start_time": "2022-11-16T14:17:41.496Z"
   },
   {
    "duration": 27,
    "start_time": "2022-11-16T14:25:20.447Z"
   },
   {
    "duration": 28,
    "start_time": "2022-11-16T14:27:57.984Z"
   },
   {
    "duration": 59,
    "start_time": "2022-11-16T14:30:25.676Z"
   },
   {
    "duration": 27,
    "start_time": "2022-11-16T14:31:03.835Z"
   },
   {
    "duration": 15,
    "start_time": "2022-11-16T14:31:36.595Z"
   },
   {
    "duration": 28,
    "start_time": "2022-11-16T14:37:22.710Z"
   },
   {
    "duration": 33,
    "start_time": "2022-11-16T14:40:14.946Z"
   },
   {
    "duration": 28,
    "start_time": "2022-11-16T14:43:21.354Z"
   },
   {
    "duration": 1563,
    "start_time": "2022-11-16T17:08:01.043Z"
   },
   {
    "duration": 234,
    "start_time": "2022-11-16T17:08:02.611Z"
   },
   {
    "duration": 4,
    "start_time": "2022-11-16T17:08:02.847Z"
   },
   {
    "duration": 23,
    "start_time": "2022-11-16T17:08:02.853Z"
   },
   {
    "duration": 5,
    "start_time": "2022-11-16T17:08:02.878Z"
   },
   {
    "duration": 10,
    "start_time": "2022-11-16T17:08:02.885Z"
   },
   {
    "duration": 32,
    "start_time": "2022-11-16T17:08:02.897Z"
   },
   {
    "duration": 15,
    "start_time": "2022-11-16T17:08:02.931Z"
   },
   {
    "duration": 9,
    "start_time": "2022-11-16T17:08:02.948Z"
   },
   {
    "duration": 11,
    "start_time": "2022-11-16T17:08:02.960Z"
   },
   {
    "duration": 21,
    "start_time": "2022-11-16T17:08:02.973Z"
   },
   {
    "duration": 22,
    "start_time": "2022-11-16T17:08:02.996Z"
   },
   {
    "duration": 16,
    "start_time": "2022-11-16T17:08:03.020Z"
   },
   {
    "duration": 34,
    "start_time": "2022-11-16T17:08:03.037Z"
   },
   {
    "duration": 12,
    "start_time": "2022-11-16T17:08:03.073Z"
   },
   {
    "duration": 13,
    "start_time": "2022-11-16T17:08:03.088Z"
   },
   {
    "duration": 5,
    "start_time": "2022-11-16T17:08:03.102Z"
   },
   {
    "duration": 8,
    "start_time": "2022-11-16T17:08:03.109Z"
   },
   {
    "duration": 32,
    "start_time": "2022-11-16T17:08:03.118Z"
   },
   {
    "duration": 15,
    "start_time": "2022-11-16T17:08:03.152Z"
   },
   {
    "duration": 10,
    "start_time": "2022-11-16T17:08:03.169Z"
   },
   {
    "duration": 9,
    "start_time": "2022-11-16T17:08:03.181Z"
   },
   {
    "duration": 17,
    "start_time": "2022-11-16T17:08:03.192Z"
   },
   {
    "duration": 5,
    "start_time": "2022-11-16T17:08:03.210Z"
   },
   {
    "duration": 24,
    "start_time": "2022-11-16T17:08:03.216Z"
   },
   {
    "duration": 59,
    "start_time": "2022-11-16T17:08:03.242Z"
   },
   {
    "duration": 23,
    "start_time": "2022-11-16T17:08:03.302Z"
   },
   {
    "duration": 20,
    "start_time": "2022-11-16T17:08:03.329Z"
   },
   {
    "duration": 27,
    "start_time": "2022-11-16T17:08:03.351Z"
   },
   {
    "duration": 32,
    "start_time": "2022-11-16T17:08:03.380Z"
   },
   {
    "duration": 34,
    "start_time": "2022-11-16T17:08:03.413Z"
   },
   {
    "duration": 135,
    "start_time": "2022-11-16T17:08:03.477Z"
   },
   {
    "duration": 124,
    "start_time": "2022-11-16T17:08:03.614Z"
   },
   {
    "duration": 7,
    "start_time": "2022-11-16T17:08:03.739Z"
   },
   {
    "duration": 13,
    "start_time": "2022-11-16T17:08:03.748Z"
   },
   {
    "duration": 453,
    "start_time": "2022-11-16T17:08:03.763Z"
   },
   {
    "duration": 8,
    "start_time": "2022-11-16T17:08:04.218Z"
   },
   {
    "duration": 324,
    "start_time": "2022-11-16T17:08:04.227Z"
   },
   {
    "duration": 202,
    "start_time": "2022-11-16T17:08:04.553Z"
   },
   {
    "duration": 21,
    "start_time": "2022-11-16T17:08:04.757Z"
   },
   {
    "duration": 15,
    "start_time": "2022-11-16T17:08:04.780Z"
   },
   {
    "duration": 6,
    "start_time": "2022-11-16T17:08:04.797Z"
   },
   {
    "duration": 434,
    "start_time": "2022-11-16T17:08:04.804Z"
   },
   {
    "duration": 239,
    "start_time": "2022-11-16T17:08:05.239Z"
   },
   {
    "duration": 180,
    "start_time": "2022-11-16T17:08:05.480Z"
   },
   {
    "duration": 179,
    "start_time": "2022-11-16T17:08:05.662Z"
   },
   {
    "duration": 3,
    "start_time": "2022-11-16T17:08:05.842Z"
   },
   {
    "duration": 150,
    "start_time": "2022-11-16T17:08:05.847Z"
   },
   {
    "duration": 24,
    "start_time": "2022-11-16T17:08:05.999Z"
   },
   {
    "duration": 42,
    "start_time": "2022-11-16T17:08:06.025Z"
   },
   {
    "duration": 49,
    "start_time": "2022-11-16T17:08:06.068Z"
   },
   {
    "duration": 45,
    "start_time": "2022-11-16T17:08:06.119Z"
   },
   {
    "duration": 25,
    "start_time": "2022-11-16T17:08:06.166Z"
   },
   {
    "duration": 20,
    "start_time": "2022-11-16T17:08:06.193Z"
   },
   {
    "duration": 29,
    "start_time": "2022-11-16T17:08:06.214Z"
   },
   {
    "duration": 31,
    "start_time": "2022-11-16T17:08:06.245Z"
   },
   {
    "duration": 35,
    "start_time": "2022-11-16T17:08:06.278Z"
   },
   {
    "duration": 35,
    "start_time": "2022-11-16T17:08:06.314Z"
   },
   {
    "duration": 53,
    "start_time": "2022-11-16T17:08:06.351Z"
   },
   {
    "duration": 15,
    "start_time": "2022-11-16T17:08:06.406Z"
   },
   {
    "duration": 43,
    "start_time": "2022-11-16T17:08:06.423Z"
   },
   {
    "duration": 190,
    "start_time": "2022-11-16T17:08:06.468Z"
   },
   {
    "duration": 0,
    "start_time": "2022-11-16T17:08:06.661Z"
   },
   {
    "duration": 0,
    "start_time": "2022-11-16T17:08:06.662Z"
   },
   {
    "duration": 0,
    "start_time": "2022-11-16T17:08:06.663Z"
   },
   {
    "duration": 0,
    "start_time": "2022-11-16T17:08:06.665Z"
   },
   {
    "duration": 0,
    "start_time": "2022-11-16T17:08:06.678Z"
   },
   {
    "duration": 0,
    "start_time": "2022-11-16T17:08:06.680Z"
   },
   {
    "duration": 0,
    "start_time": "2022-11-16T17:08:06.681Z"
   },
   {
    "duration": 0,
    "start_time": "2022-11-16T17:08:06.682Z"
   },
   {
    "duration": 0,
    "start_time": "2022-11-16T17:08:06.683Z"
   },
   {
    "duration": 0,
    "start_time": "2022-11-16T17:08:06.685Z"
   },
   {
    "duration": 0,
    "start_time": "2022-11-16T17:08:06.686Z"
   },
   {
    "duration": 0,
    "start_time": "2022-11-16T17:08:06.687Z"
   },
   {
    "duration": 0,
    "start_time": "2022-11-16T17:08:06.689Z"
   },
   {
    "duration": 0,
    "start_time": "2022-11-16T17:08:06.690Z"
   },
   {
    "duration": 0,
    "start_time": "2022-11-16T17:08:06.691Z"
   },
   {
    "duration": 0,
    "start_time": "2022-11-16T17:08:06.692Z"
   },
   {
    "duration": 0,
    "start_time": "2022-11-16T17:08:06.693Z"
   },
   {
    "duration": 0,
    "start_time": "2022-11-16T17:08:06.694Z"
   },
   {
    "duration": 0,
    "start_time": "2022-11-16T17:08:06.695Z"
   },
   {
    "duration": 0,
    "start_time": "2022-11-16T17:08:06.696Z"
   },
   {
    "duration": 0,
    "start_time": "2022-11-16T17:08:06.697Z"
   },
   {
    "duration": 0,
    "start_time": "2022-11-16T17:08:06.698Z"
   },
   {
    "duration": 0,
    "start_time": "2022-11-16T17:08:06.699Z"
   },
   {
    "duration": 0,
    "start_time": "2022-11-16T17:08:06.700Z"
   },
   {
    "duration": 0,
    "start_time": "2022-11-16T17:08:06.701Z"
   },
   {
    "duration": 0,
    "start_time": "2022-11-16T17:08:06.702Z"
   },
   {
    "duration": 0,
    "start_time": "2022-11-16T17:08:06.703Z"
   },
   {
    "duration": 0,
    "start_time": "2022-11-16T17:08:06.704Z"
   },
   {
    "duration": 0,
    "start_time": "2022-11-16T17:08:06.705Z"
   },
   {
    "duration": 0,
    "start_time": "2022-11-16T17:08:06.707Z"
   },
   {
    "duration": 0,
    "start_time": "2022-11-16T17:08:06.708Z"
   },
   {
    "duration": 0,
    "start_time": "2022-11-16T17:08:06.709Z"
   },
   {
    "duration": 0,
    "start_time": "2022-11-16T17:08:06.710Z"
   },
   {
    "duration": 0,
    "start_time": "2022-11-16T17:08:06.711Z"
   },
   {
    "duration": 0,
    "start_time": "2022-11-16T17:08:06.712Z"
   },
   {
    "duration": 0,
    "start_time": "2022-11-16T17:08:06.714Z"
   },
   {
    "duration": 0,
    "start_time": "2022-11-16T17:08:06.715Z"
   },
   {
    "duration": 61,
    "start_time": "2022-11-16T17:08:06.716Z"
   },
   {
    "duration": 0,
    "start_time": "2022-11-16T17:08:06.779Z"
   },
   {
    "duration": 0,
    "start_time": "2022-11-16T17:08:06.780Z"
   },
   {
    "duration": 8,
    "start_time": "2022-11-16T17:20:58.456Z"
   },
   {
    "duration": 12,
    "start_time": "2022-11-16T17:21:06.876Z"
   },
   {
    "duration": 10,
    "start_time": "2022-11-16T17:22:18.128Z"
   },
   {
    "duration": 9,
    "start_time": "2022-11-16T17:23:06.798Z"
   },
   {
    "duration": 17,
    "start_time": "2022-11-16T17:23:07.717Z"
   },
   {
    "duration": 1124,
    "start_time": "2022-11-16T17:26:31.357Z"
   },
   {
    "duration": 11,
    "start_time": "2022-11-16T17:27:13.862Z"
   },
   {
    "duration": 4,
    "start_time": "2022-11-16T17:27:28.845Z"
   },
   {
    "duration": 14,
    "start_time": "2022-11-16T17:27:54.441Z"
   },
   {
    "duration": 9,
    "start_time": "2022-11-16T17:29:32.356Z"
   },
   {
    "duration": 17,
    "start_time": "2022-11-16T17:29:33.501Z"
   },
   {
    "duration": 23,
    "start_time": "2022-11-16T17:33:52.771Z"
   },
   {
    "duration": 7,
    "start_time": "2022-11-16T17:37:35.231Z"
   },
   {
    "duration": 23,
    "start_time": "2022-11-16T17:37:39.129Z"
   },
   {
    "duration": 6,
    "start_time": "2022-11-16T17:38:01.144Z"
   },
   {
    "duration": 23,
    "start_time": "2022-11-16T17:38:01.969Z"
   },
   {
    "duration": 15,
    "start_time": "2022-11-16T17:38:13.150Z"
   },
   {
    "duration": 6,
    "start_time": "2022-11-16T17:38:21.182Z"
   },
   {
    "duration": 21,
    "start_time": "2022-11-16T17:38:29.735Z"
   },
   {
    "duration": 16,
    "start_time": "2022-11-16T17:41:02.699Z"
   },
   {
    "duration": 28,
    "start_time": "2022-11-16T17:41:47.029Z"
   },
   {
    "duration": 22,
    "start_time": "2022-11-16T17:42:40.485Z"
   },
   {
    "duration": 18,
    "start_time": "2022-11-16T17:43:39.381Z"
   },
   {
    "duration": 14,
    "start_time": "2022-11-16T17:43:52.263Z"
   },
   {
    "duration": 15,
    "start_time": "2022-11-16T17:45:45.275Z"
   },
   {
    "duration": 17,
    "start_time": "2022-11-16T17:48:53.179Z"
   },
   {
    "duration": 6,
    "start_time": "2022-11-16T17:49:17.399Z"
   },
   {
    "duration": 14,
    "start_time": "2022-11-16T17:50:03.429Z"
   },
   {
    "duration": 12,
    "start_time": "2022-11-16T17:50:21.290Z"
   },
   {
    "duration": 12,
    "start_time": "2022-11-16T17:50:28.954Z"
   },
   {
    "duration": 9,
    "start_time": "2022-11-16T17:55:19.310Z"
   },
   {
    "duration": 24,
    "start_time": "2022-11-16T17:55:49.832Z"
   },
   {
    "duration": 21,
    "start_time": "2022-11-16T18:08:19.680Z"
   },
   {
    "duration": 19,
    "start_time": "2022-11-16T18:10:25.784Z"
   },
   {
    "duration": 16,
    "start_time": "2022-11-16T18:15:17.270Z"
   },
   {
    "duration": 16,
    "start_time": "2022-11-16T18:16:05.193Z"
   },
   {
    "duration": 12,
    "start_time": "2022-11-16T18:17:56.087Z"
   },
   {
    "duration": 11,
    "start_time": "2022-11-16T18:20:43.099Z"
   },
   {
    "duration": 12,
    "start_time": "2022-11-16T18:23:28.739Z"
   },
   {
    "duration": 14,
    "start_time": "2022-11-16T18:30:32.074Z"
   },
   {
    "duration": 13,
    "start_time": "2022-11-16T18:31:13.219Z"
   },
   {
    "duration": 15,
    "start_time": "2022-11-16T18:31:49.488Z"
   },
   {
    "duration": 7,
    "start_time": "2022-11-16T18:38:22.391Z"
   },
   {
    "duration": 14,
    "start_time": "2022-11-16T18:38:31.744Z"
   },
   {
    "duration": 14,
    "start_time": "2022-11-16T18:40:25.856Z"
   },
   {
    "duration": 16,
    "start_time": "2022-11-16T18:41:46.771Z"
   },
   {
    "duration": 15,
    "start_time": "2022-11-16T18:44:19.566Z"
   },
   {
    "duration": 13,
    "start_time": "2022-11-16T18:44:22.342Z"
   },
   {
    "duration": 17,
    "start_time": "2022-11-16T18:44:27.527Z"
   },
   {
    "duration": 17,
    "start_time": "2022-11-16T18:45:45.580Z"
   },
   {
    "duration": 14,
    "start_time": "2022-11-16T18:47:38.175Z"
   },
   {
    "duration": 17,
    "start_time": "2022-11-16T18:47:47.227Z"
   },
   {
    "duration": 21,
    "start_time": "2022-11-16T18:47:58.606Z"
   },
   {
    "duration": 13,
    "start_time": "2022-11-16T18:48:59.782Z"
   },
   {
    "duration": 12,
    "start_time": "2022-11-16T18:49:27.233Z"
   },
   {
    "duration": 18,
    "start_time": "2022-11-16T18:49:30.301Z"
   },
   {
    "duration": 22,
    "start_time": "2022-11-16T18:51:02.109Z"
   },
   {
    "duration": 15,
    "start_time": "2022-11-16T18:51:20.216Z"
   },
   {
    "duration": 14,
    "start_time": "2022-11-16T18:51:22.405Z"
   },
   {
    "duration": 17,
    "start_time": "2022-11-16T18:51:26.316Z"
   },
   {
    "duration": 17,
    "start_time": "2022-11-16T18:52:15.365Z"
   },
   {
    "duration": 17,
    "start_time": "2022-11-16T18:52:47.107Z"
   },
   {
    "duration": 85,
    "start_time": "2022-11-16T19:10:26.320Z"
   },
   {
    "duration": 25,
    "start_time": "2022-11-16T19:10:30.948Z"
   },
   {
    "duration": 23,
    "start_time": "2022-11-16T19:11:11.369Z"
   },
   {
    "duration": 11,
    "start_time": "2022-11-16T19:14:58.654Z"
   },
   {
    "duration": 76,
    "start_time": "2022-11-16T19:15:06.230Z"
   },
   {
    "duration": 23,
    "start_time": "2022-11-16T19:15:07.870Z"
   },
   {
    "duration": 41,
    "start_time": "2022-11-16T19:15:10.153Z"
   },
   {
    "duration": 9,
    "start_time": "2022-11-16T19:16:27.246Z"
   },
   {
    "duration": 71,
    "start_time": "2022-11-16T19:17:25.852Z"
   },
   {
    "duration": 22,
    "start_time": "2022-11-16T19:17:27.863Z"
   },
   {
    "duration": 27,
    "start_time": "2022-11-16T19:17:40.497Z"
   },
   {
    "duration": 74,
    "start_time": "2022-11-16T19:18:10.974Z"
   },
   {
    "duration": 23,
    "start_time": "2022-11-16T19:18:11.538Z"
   },
   {
    "duration": 21,
    "start_time": "2022-11-16T19:18:13.358Z"
   },
   {
    "duration": 9,
    "start_time": "2022-11-16T19:18:27.036Z"
   },
   {
    "duration": 7,
    "start_time": "2022-11-16T19:18:31.599Z"
   },
   {
    "duration": 21,
    "start_time": "2022-11-16T19:18:36.519Z"
   },
   {
    "duration": 15,
    "start_time": "2022-11-16T19:18:44.505Z"
   },
   {
    "duration": 12,
    "start_time": "2022-11-16T19:18:48.234Z"
   },
   {
    "duration": 22,
    "start_time": "2022-11-16T19:18:58.001Z"
   },
   {
    "duration": 17,
    "start_time": "2022-11-16T19:19:20.005Z"
   },
   {
    "duration": 7,
    "start_time": "2022-11-16T19:20:48.851Z"
   },
   {
    "duration": 7,
    "start_time": "2022-11-16T19:20:49.657Z"
   },
   {
    "duration": 1289,
    "start_time": "2022-11-16T19:20:58.610Z"
   },
   {
    "duration": 301,
    "start_time": "2022-11-16T19:20:59.901Z"
   },
   {
    "duration": 4,
    "start_time": "2022-11-16T19:21:00.204Z"
   },
   {
    "duration": 43,
    "start_time": "2022-11-16T19:21:00.210Z"
   },
   {
    "duration": 36,
    "start_time": "2022-11-16T19:21:00.254Z"
   },
   {
    "duration": 16,
    "start_time": "2022-11-16T19:21:00.292Z"
   },
   {
    "duration": 29,
    "start_time": "2022-11-16T19:21:00.310Z"
   },
   {
    "duration": 28,
    "start_time": "2022-11-16T19:21:00.341Z"
   },
   {
    "duration": 29,
    "start_time": "2022-11-16T19:21:00.371Z"
   },
   {
    "duration": 14,
    "start_time": "2022-11-16T19:21:00.403Z"
   },
   {
    "duration": 34,
    "start_time": "2022-11-16T19:21:00.419Z"
   },
   {
    "duration": 35,
    "start_time": "2022-11-16T19:21:00.455Z"
   },
   {
    "duration": 7,
    "start_time": "2022-11-16T19:21:00.493Z"
   },
   {
    "duration": 30,
    "start_time": "2022-11-16T19:21:00.502Z"
   },
   {
    "duration": 26,
    "start_time": "2022-11-16T19:21:00.534Z"
   },
   {
    "duration": 45,
    "start_time": "2022-11-16T19:21:00.563Z"
   },
   {
    "duration": 34,
    "start_time": "2022-11-16T19:21:00.610Z"
   },
   {
    "duration": 15,
    "start_time": "2022-11-16T19:21:00.646Z"
   },
   {
    "duration": 18,
    "start_time": "2022-11-16T19:21:00.663Z"
   },
   {
    "duration": 13,
    "start_time": "2022-11-16T19:21:00.683Z"
   },
   {
    "duration": 13,
    "start_time": "2022-11-16T19:21:00.697Z"
   },
   {
    "duration": 41,
    "start_time": "2022-11-16T19:21:00.712Z"
   },
   {
    "duration": 40,
    "start_time": "2022-11-16T19:21:00.755Z"
   },
   {
    "duration": 28,
    "start_time": "2022-11-16T19:21:00.796Z"
   },
   {
    "duration": 46,
    "start_time": "2022-11-16T19:21:00.826Z"
   },
   {
    "duration": 35,
    "start_time": "2022-11-16T19:21:00.874Z"
   },
   {
    "duration": 22,
    "start_time": "2022-11-16T19:21:00.912Z"
   },
   {
    "duration": 43,
    "start_time": "2022-11-16T19:21:00.940Z"
   },
   {
    "duration": 4,
    "start_time": "2022-11-16T19:21:00.985Z"
   },
   {
    "duration": 45,
    "start_time": "2022-11-16T19:21:00.991Z"
   },
   {
    "duration": 51,
    "start_time": "2022-11-16T19:21:01.038Z"
   },
   {
    "duration": 142,
    "start_time": "2022-11-16T19:21:01.090Z"
   },
   {
    "duration": 111,
    "start_time": "2022-11-16T19:21:01.234Z"
   },
   {
    "duration": 7,
    "start_time": "2022-11-16T19:21:01.347Z"
   },
   {
    "duration": 27,
    "start_time": "2022-11-16T19:21:01.355Z"
   },
   {
    "duration": 362,
    "start_time": "2022-11-16T19:21:01.384Z"
   },
   {
    "duration": 7,
    "start_time": "2022-11-16T19:21:01.748Z"
   },
   {
    "duration": 322,
    "start_time": "2022-11-16T19:21:01.757Z"
   },
   {
    "duration": 130,
    "start_time": "2022-11-16T19:21:02.081Z"
   },
   {
    "duration": 11,
    "start_time": "2022-11-16T19:21:02.213Z"
   },
   {
    "duration": 12,
    "start_time": "2022-11-16T19:21:02.226Z"
   },
   {
    "duration": 8,
    "start_time": "2022-11-16T19:21:02.240Z"
   },
   {
    "duration": 489,
    "start_time": "2022-11-16T19:21:02.250Z"
   },
   {
    "duration": 244,
    "start_time": "2022-11-16T19:21:02.740Z"
   },
   {
    "duration": 172,
    "start_time": "2022-11-16T19:21:02.986Z"
   },
   {
    "duration": 168,
    "start_time": "2022-11-16T19:21:03.160Z"
   },
   {
    "duration": 2,
    "start_time": "2022-11-16T19:21:03.330Z"
   },
   {
    "duration": 111,
    "start_time": "2022-11-16T19:21:03.333Z"
   },
   {
    "duration": 40,
    "start_time": "2022-11-16T19:21:03.446Z"
   },
   {
    "duration": 21,
    "start_time": "2022-11-16T19:21:03.488Z"
   },
   {
    "duration": 8,
    "start_time": "2022-11-16T19:21:03.510Z"
   },
   {
    "duration": 6,
    "start_time": "2022-11-16T19:21:03.520Z"
   },
   {
    "duration": 50,
    "start_time": "2022-11-16T19:21:03.528Z"
   },
   {
    "duration": 16,
    "start_time": "2022-11-16T19:21:03.580Z"
   },
   {
    "duration": 16,
    "start_time": "2022-11-16T19:21:03.598Z"
   },
   {
    "duration": 29,
    "start_time": "2022-11-16T19:21:03.616Z"
   },
   {
    "duration": 9,
    "start_time": "2022-11-16T19:21:03.647Z"
   },
   {
    "duration": 29,
    "start_time": "2022-11-16T19:21:03.658Z"
   },
   {
    "duration": 28,
    "start_time": "2022-11-16T19:21:03.689Z"
   },
   {
    "duration": 28,
    "start_time": "2022-11-16T19:21:03.719Z"
   },
   {
    "duration": 48,
    "start_time": "2022-11-16T19:21:03.748Z"
   },
   {
    "duration": 8,
    "start_time": "2022-11-16T19:21:03.797Z"
   },
   {
    "duration": 9,
    "start_time": "2022-11-16T19:21:03.806Z"
   },
   {
    "duration": 10,
    "start_time": "2022-11-16T19:21:03.817Z"
   },
   {
    "duration": 13,
    "start_time": "2022-11-16T19:21:03.829Z"
   },
   {
    "duration": 48,
    "start_time": "2022-11-16T19:21:03.843Z"
   },
   {
    "duration": 23,
    "start_time": "2022-11-16T19:21:03.893Z"
   },
   {
    "duration": 9,
    "start_time": "2022-11-16T19:21:03.918Z"
   },
   {
    "duration": 50,
    "start_time": "2022-11-16T19:21:03.929Z"
   },
   {
    "duration": 207,
    "start_time": "2022-11-16T19:21:03.981Z"
   },
   {
    "duration": 0,
    "start_time": "2022-11-16T19:21:04.191Z"
   },
   {
    "duration": 0,
    "start_time": "2022-11-16T19:21:04.193Z"
   },
   {
    "duration": 0,
    "start_time": "2022-11-16T19:21:04.194Z"
   },
   {
    "duration": 0,
    "start_time": "2022-11-16T19:21:04.197Z"
   },
   {
    "duration": 0,
    "start_time": "2022-11-16T19:21:04.198Z"
   },
   {
    "duration": 0,
    "start_time": "2022-11-16T19:21:04.199Z"
   },
   {
    "duration": 0,
    "start_time": "2022-11-16T19:21:04.201Z"
   },
   {
    "duration": 0,
    "start_time": "2022-11-16T19:21:04.202Z"
   },
   {
    "duration": 0,
    "start_time": "2022-11-16T19:21:04.203Z"
   },
   {
    "duration": 0,
    "start_time": "2022-11-16T19:21:04.205Z"
   },
   {
    "duration": 0,
    "start_time": "2022-11-16T19:21:04.207Z"
   },
   {
    "duration": 0,
    "start_time": "2022-11-16T19:21:04.208Z"
   },
   {
    "duration": 0,
    "start_time": "2022-11-16T19:21:04.210Z"
   },
   {
    "duration": 0,
    "start_time": "2022-11-16T19:21:04.211Z"
   },
   {
    "duration": 0,
    "start_time": "2022-11-16T19:21:04.213Z"
   },
   {
    "duration": 0,
    "start_time": "2022-11-16T19:21:04.214Z"
   },
   {
    "duration": 0,
    "start_time": "2022-11-16T19:21:04.216Z"
   },
   {
    "duration": 0,
    "start_time": "2022-11-16T19:21:04.218Z"
   },
   {
    "duration": 0,
    "start_time": "2022-11-16T19:21:04.219Z"
   },
   {
    "duration": 0,
    "start_time": "2022-11-16T19:21:04.221Z"
   },
   {
    "duration": 0,
    "start_time": "2022-11-16T19:21:04.222Z"
   },
   {
    "duration": 0,
    "start_time": "2022-11-16T19:21:04.224Z"
   },
   {
    "duration": 0,
    "start_time": "2022-11-16T19:21:04.279Z"
   },
   {
    "duration": 0,
    "start_time": "2022-11-16T19:21:04.282Z"
   },
   {
    "duration": 0,
    "start_time": "2022-11-16T19:21:04.284Z"
   },
   {
    "duration": 0,
    "start_time": "2022-11-16T19:21:04.285Z"
   },
   {
    "duration": 0,
    "start_time": "2022-11-16T19:21:04.287Z"
   },
   {
    "duration": 0,
    "start_time": "2022-11-16T19:21:04.288Z"
   },
   {
    "duration": 0,
    "start_time": "2022-11-16T19:21:04.290Z"
   },
   {
    "duration": 0,
    "start_time": "2022-11-16T19:21:04.290Z"
   },
   {
    "duration": 0,
    "start_time": "2022-11-16T19:21:04.292Z"
   },
   {
    "duration": 0,
    "start_time": "2022-11-16T19:21:04.293Z"
   },
   {
    "duration": 0,
    "start_time": "2022-11-16T19:21:04.294Z"
   },
   {
    "duration": 0,
    "start_time": "2022-11-16T19:21:04.295Z"
   },
   {
    "duration": 0,
    "start_time": "2022-11-16T19:21:04.296Z"
   },
   {
    "duration": 0,
    "start_time": "2022-11-16T19:21:04.298Z"
   },
   {
    "duration": 0,
    "start_time": "2022-11-16T19:21:04.299Z"
   },
   {
    "duration": 0,
    "start_time": "2022-11-16T19:21:04.300Z"
   },
   {
    "duration": 0,
    "start_time": "2022-11-16T19:21:04.301Z"
   },
   {
    "duration": 0,
    "start_time": "2022-11-16T19:21:04.302Z"
   },
   {
    "duration": 13,
    "start_time": "2022-11-16T19:24:02.512Z"
   },
   {
    "duration": 13,
    "start_time": "2022-11-16T19:24:21.393Z"
   },
   {
    "duration": 17,
    "start_time": "2022-11-16T19:24:54.188Z"
   },
   {
    "duration": 12,
    "start_time": "2022-11-16T19:25:28.167Z"
   },
   {
    "duration": 12,
    "start_time": "2022-11-16T19:26:03.658Z"
   },
   {
    "duration": 14,
    "start_time": "2022-11-16T19:29:32.769Z"
   },
   {
    "duration": 11,
    "start_time": "2022-11-16T19:30:28.346Z"
   },
   {
    "duration": 581,
    "start_time": "2022-11-16T19:31:31.551Z"
   },
   {
    "duration": 31,
    "start_time": "2022-11-16T19:32:24.157Z"
   },
   {
    "duration": 292,
    "start_time": "2022-11-16T19:32:39.876Z"
   },
   {
    "duration": 78,
    "start_time": "2022-11-16T19:32:57.544Z"
   },
   {
    "duration": 25,
    "start_time": "2022-11-16T19:32:59.527Z"
   },
   {
    "duration": 1328,
    "start_time": "2022-11-16T19:33:08.238Z"
   },
   {
    "duration": 781,
    "start_time": "2022-11-16T19:33:09.568Z"
   },
   {
    "duration": 4,
    "start_time": "2022-11-16T19:33:10.351Z"
   },
   {
    "duration": 15,
    "start_time": "2022-11-16T19:33:10.356Z"
   },
   {
    "duration": 4,
    "start_time": "2022-11-16T19:33:10.372Z"
   },
   {
    "duration": 5,
    "start_time": "2022-11-16T19:33:10.377Z"
   },
   {
    "duration": 12,
    "start_time": "2022-11-16T19:33:10.384Z"
   },
   {
    "duration": 5,
    "start_time": "2022-11-16T19:33:10.397Z"
   },
   {
    "duration": 5,
    "start_time": "2022-11-16T19:33:10.404Z"
   },
   {
    "duration": 4,
    "start_time": "2022-11-16T19:33:10.413Z"
   },
   {
    "duration": 12,
    "start_time": "2022-11-16T19:33:10.419Z"
   },
   {
    "duration": 53,
    "start_time": "2022-11-16T19:33:10.433Z"
   },
   {
    "duration": 4,
    "start_time": "2022-11-16T19:33:10.488Z"
   },
   {
    "duration": 4,
    "start_time": "2022-11-16T19:33:10.494Z"
   },
   {
    "duration": 6,
    "start_time": "2022-11-16T19:33:10.500Z"
   },
   {
    "duration": 9,
    "start_time": "2022-11-16T19:33:10.507Z"
   },
   {
    "duration": 7,
    "start_time": "2022-11-16T19:33:10.517Z"
   },
   {
    "duration": 7,
    "start_time": "2022-11-16T19:33:10.525Z"
   },
   {
    "duration": 53,
    "start_time": "2022-11-16T19:33:10.533Z"
   },
   {
    "duration": 14,
    "start_time": "2022-11-16T19:33:10.587Z"
   },
   {
    "duration": 3,
    "start_time": "2022-11-16T19:33:10.603Z"
   },
   {
    "duration": 11,
    "start_time": "2022-11-16T19:33:10.608Z"
   },
   {
    "duration": 13,
    "start_time": "2022-11-16T19:33:10.620Z"
   },
   {
    "duration": 5,
    "start_time": "2022-11-16T19:33:10.634Z"
   },
   {
    "duration": 52,
    "start_time": "2022-11-16T19:33:10.640Z"
   },
   {
    "duration": 32,
    "start_time": "2022-11-16T19:33:10.693Z"
   },
   {
    "duration": 19,
    "start_time": "2022-11-16T19:33:10.727Z"
   },
   {
    "duration": 40,
    "start_time": "2022-11-16T19:33:10.750Z"
   },
   {
    "duration": 3,
    "start_time": "2022-11-16T19:33:10.792Z"
   },
   {
    "duration": 33,
    "start_time": "2022-11-16T19:33:10.796Z"
   },
   {
    "duration": 51,
    "start_time": "2022-11-16T19:33:10.831Z"
   },
   {
    "duration": 141,
    "start_time": "2022-11-16T19:33:10.883Z"
   },
   {
    "duration": 121,
    "start_time": "2022-11-16T19:33:11.025Z"
   },
   {
    "duration": 6,
    "start_time": "2022-11-16T19:33:11.148Z"
   },
   {
    "duration": 24,
    "start_time": "2022-11-16T19:33:11.155Z"
   },
   {
    "duration": 345,
    "start_time": "2022-11-16T19:33:11.181Z"
   },
   {
    "duration": 6,
    "start_time": "2022-11-16T19:33:11.528Z"
   },
   {
    "duration": 312,
    "start_time": "2022-11-16T19:33:11.536Z"
   },
   {
    "duration": 121,
    "start_time": "2022-11-16T19:33:11.850Z"
   },
   {
    "duration": 12,
    "start_time": "2022-11-16T19:33:11.978Z"
   },
   {
    "duration": 14,
    "start_time": "2022-11-16T19:33:11.992Z"
   },
   {
    "duration": 13,
    "start_time": "2022-11-16T19:33:12.008Z"
   },
   {
    "duration": 510,
    "start_time": "2022-11-16T19:33:12.023Z"
   },
   {
    "duration": 202,
    "start_time": "2022-11-16T19:33:12.535Z"
   },
   {
    "duration": 185,
    "start_time": "2022-11-16T19:33:12.739Z"
   },
   {
    "duration": 177,
    "start_time": "2022-11-16T19:33:12.925Z"
   },
   {
    "duration": 3,
    "start_time": "2022-11-16T19:33:13.104Z"
   },
   {
    "duration": 115,
    "start_time": "2022-11-16T19:33:13.108Z"
   },
   {
    "duration": 27,
    "start_time": "2022-11-16T19:33:13.225Z"
   },
   {
    "duration": 36,
    "start_time": "2022-11-16T19:33:13.253Z"
   },
   {
    "duration": 10,
    "start_time": "2022-11-16T19:33:13.290Z"
   },
   {
    "duration": 7,
    "start_time": "2022-11-16T19:33:13.302Z"
   },
   {
    "duration": 21,
    "start_time": "2022-11-16T19:33:13.311Z"
   },
   {
    "duration": 44,
    "start_time": "2022-11-16T19:33:13.335Z"
   },
   {
    "duration": 13,
    "start_time": "2022-11-16T19:33:13.381Z"
   },
   {
    "duration": 24,
    "start_time": "2022-11-16T19:33:13.395Z"
   },
   {
    "duration": 522,
    "start_time": "2022-11-16T19:33:13.422Z"
   },
   {
    "duration": 132,
    "start_time": "2022-11-16T19:33:13.946Z"
   },
   {
    "duration": 9,
    "start_time": "2022-11-16T19:33:14.080Z"
   },
   {
    "duration": 22,
    "start_time": "2022-11-16T19:33:14.091Z"
   },
   {
    "duration": 35,
    "start_time": "2022-11-16T19:33:14.115Z"
   },
   {
    "duration": 29,
    "start_time": "2022-11-16T19:33:14.178Z"
   },
   {
    "duration": 22,
    "start_time": "2022-11-16T19:33:14.209Z"
   },
   {
    "duration": 7,
    "start_time": "2022-11-16T19:33:14.232Z"
   },
   {
    "duration": 7,
    "start_time": "2022-11-16T19:33:14.240Z"
   },
   {
    "duration": 37,
    "start_time": "2022-11-16T19:33:14.249Z"
   },
   {
    "duration": 10,
    "start_time": "2022-11-16T19:33:14.287Z"
   },
   {
    "duration": 18,
    "start_time": "2022-11-16T19:33:14.299Z"
   },
   {
    "duration": 23,
    "start_time": "2022-11-16T19:33:14.319Z"
   },
   {
    "duration": 6,
    "start_time": "2022-11-16T19:33:14.344Z"
   },
   {
    "duration": 43,
    "start_time": "2022-11-16T19:33:14.351Z"
   },
   {
    "duration": 157,
    "start_time": "2022-11-16T19:33:14.395Z"
   },
   {
    "duration": 0,
    "start_time": "2022-11-16T19:33:14.554Z"
   },
   {
    "duration": 0,
    "start_time": "2022-11-16T19:33:14.555Z"
   },
   {
    "duration": 0,
    "start_time": "2022-11-16T19:33:14.557Z"
   },
   {
    "duration": 0,
    "start_time": "2022-11-16T19:33:14.558Z"
   },
   {
    "duration": 0,
    "start_time": "2022-11-16T19:33:14.559Z"
   },
   {
    "duration": 0,
    "start_time": "2022-11-16T19:33:14.560Z"
   },
   {
    "duration": 0,
    "start_time": "2022-11-16T19:33:14.561Z"
   },
   {
    "duration": 0,
    "start_time": "2022-11-16T19:33:14.562Z"
   },
   {
    "duration": 0,
    "start_time": "2022-11-16T19:33:14.563Z"
   },
   {
    "duration": 0,
    "start_time": "2022-11-16T19:33:14.579Z"
   },
   {
    "duration": 0,
    "start_time": "2022-11-16T19:33:14.580Z"
   },
   {
    "duration": 0,
    "start_time": "2022-11-16T19:33:14.582Z"
   },
   {
    "duration": 0,
    "start_time": "2022-11-16T19:33:14.583Z"
   },
   {
    "duration": 0,
    "start_time": "2022-11-16T19:33:14.584Z"
   },
   {
    "duration": 0,
    "start_time": "2022-11-16T19:33:14.586Z"
   },
   {
    "duration": 0,
    "start_time": "2022-11-16T19:33:14.587Z"
   },
   {
    "duration": 0,
    "start_time": "2022-11-16T19:33:14.588Z"
   },
   {
    "duration": 0,
    "start_time": "2022-11-16T19:33:14.589Z"
   },
   {
    "duration": 0,
    "start_time": "2022-11-16T19:33:14.591Z"
   },
   {
    "duration": 0,
    "start_time": "2022-11-16T19:33:14.592Z"
   },
   {
    "duration": 0,
    "start_time": "2022-11-16T19:33:14.594Z"
   },
   {
    "duration": 0,
    "start_time": "2022-11-16T19:33:14.595Z"
   },
   {
    "duration": 0,
    "start_time": "2022-11-16T19:33:14.596Z"
   },
   {
    "duration": 0,
    "start_time": "2022-11-16T19:33:14.597Z"
   },
   {
    "duration": 0,
    "start_time": "2022-11-16T19:33:14.599Z"
   },
   {
    "duration": 0,
    "start_time": "2022-11-16T19:33:14.600Z"
   },
   {
    "duration": 0,
    "start_time": "2022-11-16T19:33:14.602Z"
   },
   {
    "duration": 0,
    "start_time": "2022-11-16T19:33:14.603Z"
   },
   {
    "duration": 1,
    "start_time": "2022-11-16T19:33:14.604Z"
   },
   {
    "duration": 0,
    "start_time": "2022-11-16T19:33:14.605Z"
   },
   {
    "duration": 0,
    "start_time": "2022-11-16T19:33:14.607Z"
   },
   {
    "duration": 0,
    "start_time": "2022-11-16T19:33:14.607Z"
   },
   {
    "duration": 0,
    "start_time": "2022-11-16T19:33:14.609Z"
   },
   {
    "duration": 0,
    "start_time": "2022-11-16T19:33:14.610Z"
   },
   {
    "duration": 0,
    "start_time": "2022-11-16T19:33:14.611Z"
   },
   {
    "duration": 0,
    "start_time": "2022-11-16T19:33:14.612Z"
   },
   {
    "duration": 0,
    "start_time": "2022-11-16T19:33:14.613Z"
   },
   {
    "duration": 88,
    "start_time": "2022-11-16T19:33:53.617Z"
   },
   {
    "duration": 26,
    "start_time": "2022-11-16T19:34:12.046Z"
   },
   {
    "duration": 24,
    "start_time": "2022-11-16T19:34:19.278Z"
   },
   {
    "duration": 8,
    "start_time": "2022-11-16T19:35:25.439Z"
   },
   {
    "duration": 7,
    "start_time": "2022-11-16T19:38:07.580Z"
   },
   {
    "duration": 6,
    "start_time": "2022-11-16T19:38:17.002Z"
   },
   {
    "duration": 7,
    "start_time": "2022-11-16T19:39:30.712Z"
   },
   {
    "duration": 7,
    "start_time": "2022-11-16T19:39:51.528Z"
   },
   {
    "duration": 14,
    "start_time": "2022-11-16T19:40:08.189Z"
   },
   {
    "duration": 12,
    "start_time": "2022-11-16T19:40:37.412Z"
   },
   {
    "duration": 1314,
    "start_time": "2022-11-16T19:41:19.268Z"
   },
   {
    "duration": 242,
    "start_time": "2022-11-16T19:41:20.584Z"
   },
   {
    "duration": 4,
    "start_time": "2022-11-16T19:41:20.828Z"
   },
   {
    "duration": 12,
    "start_time": "2022-11-16T19:41:20.834Z"
   },
   {
    "duration": 4,
    "start_time": "2022-11-16T19:41:20.848Z"
   },
   {
    "duration": 24,
    "start_time": "2022-11-16T19:41:20.854Z"
   },
   {
    "duration": 17,
    "start_time": "2022-11-16T19:41:20.881Z"
   },
   {
    "duration": 6,
    "start_time": "2022-11-16T19:41:20.900Z"
   },
   {
    "duration": 11,
    "start_time": "2022-11-16T19:41:20.908Z"
   },
   {
    "duration": 5,
    "start_time": "2022-11-16T19:41:20.921Z"
   },
   {
    "duration": 14,
    "start_time": "2022-11-16T19:41:20.927Z"
   },
   {
    "duration": 59,
    "start_time": "2022-11-16T19:41:20.942Z"
   },
   {
    "duration": 6,
    "start_time": "2022-11-16T19:41:21.003Z"
   },
   {
    "duration": 6,
    "start_time": "2022-11-16T19:41:21.011Z"
   },
   {
    "duration": 12,
    "start_time": "2022-11-16T19:41:21.020Z"
   },
   {
    "duration": 15,
    "start_time": "2022-11-16T19:41:21.034Z"
   },
   {
    "duration": 36,
    "start_time": "2022-11-16T19:41:21.051Z"
   },
   {
    "duration": 9,
    "start_time": "2022-11-16T19:41:21.089Z"
   },
   {
    "duration": 17,
    "start_time": "2022-11-16T19:41:21.100Z"
   },
   {
    "duration": 15,
    "start_time": "2022-11-16T19:41:21.118Z"
   },
   {
    "duration": 5,
    "start_time": "2022-11-16T19:41:21.135Z"
   },
   {
    "duration": 39,
    "start_time": "2022-11-16T19:41:21.142Z"
   },
   {
    "duration": 21,
    "start_time": "2022-11-16T19:41:21.184Z"
   },
   {
    "duration": 4,
    "start_time": "2022-11-16T19:41:21.208Z"
   },
   {
    "duration": 23,
    "start_time": "2022-11-16T19:41:21.213Z"
   },
   {
    "duration": 60,
    "start_time": "2022-11-16T19:41:21.238Z"
   },
   {
    "duration": 24,
    "start_time": "2022-11-16T19:41:21.299Z"
   },
   {
    "duration": 21,
    "start_time": "2022-11-16T19:41:21.327Z"
   },
   {
    "duration": 28,
    "start_time": "2022-11-16T19:41:21.350Z"
   },
   {
    "duration": 30,
    "start_time": "2022-11-16T19:41:21.380Z"
   },
   {
    "duration": 30,
    "start_time": "2022-11-16T19:41:21.412Z"
   },
   {
    "duration": 151,
    "start_time": "2022-11-16T19:41:21.444Z"
   },
   {
    "duration": 112,
    "start_time": "2022-11-16T19:41:21.597Z"
   },
   {
    "duration": 6,
    "start_time": "2022-11-16T19:41:21.710Z"
   },
   {
    "duration": 10,
    "start_time": "2022-11-16T19:41:21.717Z"
   },
   {
    "duration": 376,
    "start_time": "2022-11-16T19:41:21.729Z"
   },
   {
    "duration": 7,
    "start_time": "2022-11-16T19:41:22.107Z"
   },
   {
    "duration": 308,
    "start_time": "2022-11-16T19:41:22.115Z"
   },
   {
    "duration": 122,
    "start_time": "2022-11-16T19:41:22.424Z"
   },
   {
    "duration": 15,
    "start_time": "2022-11-16T19:41:22.548Z"
   },
   {
    "duration": 24,
    "start_time": "2022-11-16T19:41:22.565Z"
   },
   {
    "duration": 25,
    "start_time": "2022-11-16T19:41:22.590Z"
   },
   {
    "duration": 486,
    "start_time": "2022-11-16T19:41:22.616Z"
   },
   {
    "duration": 223,
    "start_time": "2022-11-16T19:41:23.103Z"
   },
   {
    "duration": 170,
    "start_time": "2022-11-16T19:41:23.328Z"
   },
   {
    "duration": 162,
    "start_time": "2022-11-16T19:41:23.500Z"
   },
   {
    "duration": 2,
    "start_time": "2022-11-16T19:41:23.664Z"
   },
   {
    "duration": 112,
    "start_time": "2022-11-16T19:41:23.678Z"
   },
   {
    "duration": 25,
    "start_time": "2022-11-16T19:41:23.792Z"
   },
   {
    "duration": 24,
    "start_time": "2022-11-16T19:41:23.818Z"
   },
   {
    "duration": 45,
    "start_time": "2022-11-16T19:41:23.843Z"
   },
   {
    "duration": 7,
    "start_time": "2022-11-16T19:41:23.889Z"
   },
   {
    "duration": 38,
    "start_time": "2022-11-16T19:41:23.897Z"
   },
   {
    "duration": 18,
    "start_time": "2022-11-16T19:41:23.937Z"
   },
   {
    "duration": 42,
    "start_time": "2022-11-16T19:41:23.959Z"
   },
   {
    "duration": 32,
    "start_time": "2022-11-16T19:41:24.003Z"
   },
   {
    "duration": 540,
    "start_time": "2022-11-16T19:41:24.037Z"
   },
   {
    "duration": 109,
    "start_time": "2022-11-16T19:41:24.579Z"
   },
   {
    "duration": 6,
    "start_time": "2022-11-16T19:41:24.690Z"
   },
   {
    "duration": 12,
    "start_time": "2022-11-16T19:41:24.698Z"
   },
   {
    "duration": 30,
    "start_time": "2022-11-16T19:41:24.712Z"
   },
   {
    "duration": 65,
    "start_time": "2022-11-16T19:41:24.744Z"
   },
   {
    "duration": 26,
    "start_time": "2022-11-16T19:41:24.811Z"
   },
   {
    "duration": 7,
    "start_time": "2022-11-16T19:41:24.839Z"
   },
   {
    "duration": 30,
    "start_time": "2022-11-16T19:41:24.848Z"
   },
   {
    "duration": 9,
    "start_time": "2022-11-16T19:41:24.880Z"
   },
   {
    "duration": 12,
    "start_time": "2022-11-16T19:41:24.891Z"
   },
   {
    "duration": 21,
    "start_time": "2022-11-16T19:41:24.905Z"
   },
   {
    "duration": 26,
    "start_time": "2022-11-16T19:41:24.928Z"
   },
   {
    "duration": 27,
    "start_time": "2022-11-16T19:41:24.955Z"
   },
   {
    "duration": 18,
    "start_time": "2022-11-16T19:41:24.984Z"
   },
   {
    "duration": 164,
    "start_time": "2022-11-16T19:41:25.003Z"
   },
   {
    "duration": 0,
    "start_time": "2022-11-16T19:41:25.170Z"
   },
   {
    "duration": 0,
    "start_time": "2022-11-16T19:41:25.171Z"
   },
   {
    "duration": 0,
    "start_time": "2022-11-16T19:41:25.178Z"
   },
   {
    "duration": 0,
    "start_time": "2022-11-16T19:41:25.179Z"
   },
   {
    "duration": 0,
    "start_time": "2022-11-16T19:41:25.180Z"
   },
   {
    "duration": 0,
    "start_time": "2022-11-16T19:41:25.181Z"
   },
   {
    "duration": 0,
    "start_time": "2022-11-16T19:41:25.183Z"
   },
   {
    "duration": 0,
    "start_time": "2022-11-16T19:41:25.184Z"
   },
   {
    "duration": 0,
    "start_time": "2022-11-16T19:41:25.185Z"
   },
   {
    "duration": 0,
    "start_time": "2022-11-16T19:41:25.186Z"
   },
   {
    "duration": 0,
    "start_time": "2022-11-16T19:41:25.187Z"
   },
   {
    "duration": 0,
    "start_time": "2022-11-16T19:41:25.188Z"
   },
   {
    "duration": 0,
    "start_time": "2022-11-16T19:41:25.189Z"
   },
   {
    "duration": 0,
    "start_time": "2022-11-16T19:41:25.190Z"
   },
   {
    "duration": 0,
    "start_time": "2022-11-16T19:41:25.191Z"
   },
   {
    "duration": 0,
    "start_time": "2022-11-16T19:41:25.192Z"
   },
   {
    "duration": 0,
    "start_time": "2022-11-16T19:41:25.193Z"
   },
   {
    "duration": 1,
    "start_time": "2022-11-16T19:41:25.193Z"
   },
   {
    "duration": 0,
    "start_time": "2022-11-16T19:41:25.195Z"
   },
   {
    "duration": 0,
    "start_time": "2022-11-16T19:41:25.196Z"
   },
   {
    "duration": 0,
    "start_time": "2022-11-16T19:41:25.197Z"
   },
   {
    "duration": 0,
    "start_time": "2022-11-16T19:41:25.198Z"
   },
   {
    "duration": 0,
    "start_time": "2022-11-16T19:41:25.198Z"
   },
   {
    "duration": 0,
    "start_time": "2022-11-16T19:41:25.199Z"
   },
   {
    "duration": 0,
    "start_time": "2022-11-16T19:41:25.200Z"
   },
   {
    "duration": 0,
    "start_time": "2022-11-16T19:41:25.201Z"
   },
   {
    "duration": 0,
    "start_time": "2022-11-16T19:41:25.202Z"
   },
   {
    "duration": 0,
    "start_time": "2022-11-16T19:41:25.203Z"
   },
   {
    "duration": 0,
    "start_time": "2022-11-16T19:41:25.204Z"
   },
   {
    "duration": 0,
    "start_time": "2022-11-16T19:41:25.205Z"
   },
   {
    "duration": 0,
    "start_time": "2022-11-16T19:41:25.206Z"
   },
   {
    "duration": 0,
    "start_time": "2022-11-16T19:41:25.207Z"
   },
   {
    "duration": 0,
    "start_time": "2022-11-16T19:41:25.208Z"
   },
   {
    "duration": 0,
    "start_time": "2022-11-16T19:41:25.209Z"
   },
   {
    "duration": 0,
    "start_time": "2022-11-16T19:41:25.210Z"
   },
   {
    "duration": 0,
    "start_time": "2022-11-16T19:41:25.211Z"
   },
   {
    "duration": 0,
    "start_time": "2022-11-16T19:41:25.212Z"
   },
   {
    "duration": 25,
    "start_time": "2022-11-16T19:44:17.588Z"
   },
   {
    "duration": 25,
    "start_time": "2022-11-16T19:44:35.838Z"
   },
   {
    "duration": 26,
    "start_time": "2022-11-16T19:45:08.170Z"
   },
   {
    "duration": 8,
    "start_time": "2022-11-16T19:45:21.633Z"
   },
   {
    "duration": 20,
    "start_time": "2022-11-16T19:45:23.433Z"
   },
   {
    "duration": 21,
    "start_time": "2022-11-16T19:46:18.828Z"
   },
   {
    "duration": 15,
    "start_time": "2022-11-16T19:46:42.473Z"
   },
   {
    "duration": 18,
    "start_time": "2022-11-16T19:46:42.874Z"
   },
   {
    "duration": 12,
    "start_time": "2022-11-16T19:48:40.585Z"
   },
   {
    "duration": 17,
    "start_time": "2022-11-16T19:48:54.159Z"
   },
   {
    "duration": 479,
    "start_time": "2022-11-16T19:50:29.834Z"
   },
   {
    "duration": 11,
    "start_time": "2022-11-16T19:50:32.743Z"
   },
   {
    "duration": 18,
    "start_time": "2022-11-16T19:52:02.161Z"
   },
   {
    "duration": 11,
    "start_time": "2022-11-16T19:52:32.049Z"
   },
   {
    "duration": 12,
    "start_time": "2022-11-16T19:53:34.426Z"
   },
   {
    "duration": 20,
    "start_time": "2022-11-16T20:03:58.720Z"
   },
   {
    "duration": 19,
    "start_time": "2022-11-16T20:05:07.749Z"
   },
   {
    "duration": 11,
    "start_time": "2022-11-16T20:05:42.269Z"
   },
   {
    "duration": 22,
    "start_time": "2022-11-16T20:13:57.896Z"
   },
   {
    "duration": 24,
    "start_time": "2022-11-16T20:14:25.849Z"
   },
   {
    "duration": 19,
    "start_time": "2022-11-16T20:16:29.949Z"
   },
   {
    "duration": 14,
    "start_time": "2022-11-16T20:17:38.688Z"
   },
   {
    "duration": 11,
    "start_time": "2022-11-16T20:20:51.567Z"
   },
   {
    "duration": 20,
    "start_time": "2022-11-16T20:21:07.527Z"
   },
   {
    "duration": 20,
    "start_time": "2022-11-16T20:22:32.958Z"
   },
   {
    "duration": 19,
    "start_time": "2022-11-16T20:23:40.964Z"
   },
   {
    "duration": 9,
    "start_time": "2022-11-16T20:23:56.120Z"
   },
   {
    "duration": 1395,
    "start_time": "2022-11-17T02:18:48.141Z"
   },
   {
    "duration": 195,
    "start_time": "2022-11-17T02:18:49.538Z"
   },
   {
    "duration": 4,
    "start_time": "2022-11-17T02:18:49.735Z"
   },
   {
    "duration": 30,
    "start_time": "2022-11-17T02:18:49.741Z"
   },
   {
    "duration": 8,
    "start_time": "2022-11-17T02:18:49.775Z"
   },
   {
    "duration": 23,
    "start_time": "2022-11-17T02:18:49.786Z"
   },
   {
    "duration": 17,
    "start_time": "2022-11-17T02:18:49.811Z"
   },
   {
    "duration": 20,
    "start_time": "2022-11-17T02:18:49.830Z"
   },
   {
    "duration": 18,
    "start_time": "2022-11-17T02:18:49.852Z"
   },
   {
    "duration": 13,
    "start_time": "2022-11-17T02:18:49.873Z"
   },
   {
    "duration": 17,
    "start_time": "2022-11-17T02:18:49.888Z"
   },
   {
    "duration": 30,
    "start_time": "2022-11-17T02:18:49.908Z"
   },
   {
    "duration": 5,
    "start_time": "2022-11-17T02:18:49.940Z"
   },
   {
    "duration": 12,
    "start_time": "2022-11-17T02:18:49.947Z"
   },
   {
    "duration": 9,
    "start_time": "2022-11-17T02:18:49.961Z"
   },
   {
    "duration": 16,
    "start_time": "2022-11-17T02:18:49.972Z"
   },
   {
    "duration": 10,
    "start_time": "2022-11-17T02:18:49.990Z"
   },
   {
    "duration": 10,
    "start_time": "2022-11-17T02:18:50.002Z"
   },
   {
    "duration": 44,
    "start_time": "2022-11-17T02:18:50.014Z"
   },
   {
    "duration": 13,
    "start_time": "2022-11-17T02:18:50.060Z"
   },
   {
    "duration": 10,
    "start_time": "2022-11-17T02:18:50.075Z"
   },
   {
    "duration": 12,
    "start_time": "2022-11-17T02:18:50.087Z"
   },
   {
    "duration": 27,
    "start_time": "2022-11-17T02:18:50.101Z"
   },
   {
    "duration": 16,
    "start_time": "2022-11-17T02:18:50.130Z"
   },
   {
    "duration": 29,
    "start_time": "2022-11-17T02:18:50.148Z"
   },
   {
    "duration": 39,
    "start_time": "2022-11-17T02:18:50.179Z"
   },
   {
    "duration": 25,
    "start_time": "2022-11-17T02:18:50.220Z"
   },
   {
    "duration": 22,
    "start_time": "2022-11-17T02:18:50.249Z"
   },
   {
    "duration": 4,
    "start_time": "2022-11-17T02:18:50.272Z"
   },
   {
    "duration": 38,
    "start_time": "2022-11-17T02:18:50.278Z"
   },
   {
    "duration": 53,
    "start_time": "2022-11-17T02:18:50.317Z"
   },
   {
    "duration": 146,
    "start_time": "2022-11-17T02:18:50.372Z"
   },
   {
    "duration": 132,
    "start_time": "2022-11-17T02:18:50.520Z"
   },
   {
    "duration": 7,
    "start_time": "2022-11-17T02:18:50.654Z"
   },
   {
    "duration": 16,
    "start_time": "2022-11-17T02:18:50.663Z"
   },
   {
    "duration": 376,
    "start_time": "2022-11-17T02:18:50.681Z"
   },
   {
    "duration": 7,
    "start_time": "2022-11-17T02:18:51.059Z"
   },
   {
    "duration": 324,
    "start_time": "2022-11-17T02:18:51.068Z"
   },
   {
    "duration": 129,
    "start_time": "2022-11-17T02:18:51.394Z"
   },
   {
    "duration": 22,
    "start_time": "2022-11-17T02:18:51.525Z"
   },
   {
    "duration": 45,
    "start_time": "2022-11-17T02:18:51.549Z"
   },
   {
    "duration": 35,
    "start_time": "2022-11-17T02:18:51.596Z"
   },
   {
    "duration": 527,
    "start_time": "2022-11-17T02:18:51.633Z"
   },
   {
    "duration": 222,
    "start_time": "2022-11-17T02:18:52.162Z"
   },
   {
    "duration": 216,
    "start_time": "2022-11-17T02:18:52.387Z"
   },
   {
    "duration": 161,
    "start_time": "2022-11-17T02:18:52.613Z"
   },
   {
    "duration": 2,
    "start_time": "2022-11-17T02:18:52.775Z"
   },
   {
    "duration": 122,
    "start_time": "2022-11-17T02:18:52.779Z"
   },
   {
    "duration": 39,
    "start_time": "2022-11-17T02:18:52.903Z"
   },
   {
    "duration": 23,
    "start_time": "2022-11-17T02:18:52.944Z"
   },
   {
    "duration": 25,
    "start_time": "2022-11-17T02:18:52.968Z"
   },
   {
    "duration": 19,
    "start_time": "2022-11-17T02:18:52.994Z"
   },
   {
    "duration": 52,
    "start_time": "2022-11-17T02:18:53.015Z"
   },
   {
    "duration": 38,
    "start_time": "2022-11-17T02:18:53.069Z"
   },
   {
    "duration": 64,
    "start_time": "2022-11-17T02:18:53.109Z"
   },
   {
    "duration": 34,
    "start_time": "2022-11-17T02:18:53.175Z"
   },
   {
    "duration": 50,
    "start_time": "2022-11-17T02:18:53.211Z"
   },
   {
    "duration": 39,
    "start_time": "2022-11-17T02:18:53.263Z"
   },
   {
    "duration": 0,
    "start_time": "2022-11-17T02:18:53.304Z"
   },
   {
    "duration": 0,
    "start_time": "2022-11-17T02:18:53.305Z"
   },
   {
    "duration": 0,
    "start_time": "2022-11-17T02:18:53.306Z"
   },
   {
    "duration": 0,
    "start_time": "2022-11-17T02:18:53.307Z"
   },
   {
    "duration": 0,
    "start_time": "2022-11-17T02:18:53.308Z"
   },
   {
    "duration": 0,
    "start_time": "2022-11-17T02:18:53.310Z"
   },
   {
    "duration": 0,
    "start_time": "2022-11-17T02:18:53.311Z"
   },
   {
    "duration": 0,
    "start_time": "2022-11-17T02:18:53.312Z"
   },
   {
    "duration": 0,
    "start_time": "2022-11-17T02:18:53.313Z"
   },
   {
    "duration": 0,
    "start_time": "2022-11-17T02:18:53.315Z"
   },
   {
    "duration": 0,
    "start_time": "2022-11-17T02:18:53.316Z"
   },
   {
    "duration": 0,
    "start_time": "2022-11-17T02:18:53.317Z"
   },
   {
    "duration": 0,
    "start_time": "2022-11-17T02:18:53.318Z"
   },
   {
    "duration": 0,
    "start_time": "2022-11-17T02:18:53.319Z"
   },
   {
    "duration": 0,
    "start_time": "2022-11-17T02:18:53.320Z"
   },
   {
    "duration": 0,
    "start_time": "2022-11-17T02:18:53.321Z"
   },
   {
    "duration": 0,
    "start_time": "2022-11-17T02:18:53.322Z"
   },
   {
    "duration": 0,
    "start_time": "2022-11-17T02:18:53.323Z"
   },
   {
    "duration": 0,
    "start_time": "2022-11-17T02:18:53.324Z"
   },
   {
    "duration": 0,
    "start_time": "2022-11-17T02:18:53.325Z"
   },
   {
    "duration": 0,
    "start_time": "2022-11-17T02:18:53.326Z"
   },
   {
    "duration": 0,
    "start_time": "2022-11-17T02:18:53.327Z"
   },
   {
    "duration": 0,
    "start_time": "2022-11-17T02:18:53.328Z"
   },
   {
    "duration": 0,
    "start_time": "2022-11-17T02:18:53.329Z"
   },
   {
    "duration": 0,
    "start_time": "2022-11-17T02:18:53.330Z"
   },
   {
    "duration": 0,
    "start_time": "2022-11-17T02:18:53.330Z"
   },
   {
    "duration": 0,
    "start_time": "2022-11-17T02:18:53.331Z"
   },
   {
    "duration": 0,
    "start_time": "2022-11-17T02:18:53.332Z"
   },
   {
    "duration": 0,
    "start_time": "2022-11-17T02:18:53.333Z"
   },
   {
    "duration": 0,
    "start_time": "2022-11-17T02:18:53.334Z"
   },
   {
    "duration": 0,
    "start_time": "2022-11-17T02:18:53.335Z"
   },
   {
    "duration": 0,
    "start_time": "2022-11-17T02:18:53.336Z"
   },
   {
    "duration": 0,
    "start_time": "2022-11-17T02:18:53.337Z"
   },
   {
    "duration": 0,
    "start_time": "2022-11-17T02:18:53.338Z"
   },
   {
    "duration": 0,
    "start_time": "2022-11-17T02:18:53.338Z"
   },
   {
    "duration": 0,
    "start_time": "2022-11-17T02:18:53.339Z"
   },
   {
    "duration": 0,
    "start_time": "2022-11-17T02:18:53.340Z"
   },
   {
    "duration": 0,
    "start_time": "2022-11-17T02:18:53.341Z"
   },
   {
    "duration": 0,
    "start_time": "2022-11-17T02:18:53.342Z"
   },
   {
    "duration": 0,
    "start_time": "2022-11-17T02:18:53.343Z"
   },
   {
    "duration": 0,
    "start_time": "2022-11-17T02:18:53.344Z"
   },
   {
    "duration": 0,
    "start_time": "2022-11-17T02:18:53.345Z"
   },
   {
    "duration": 0,
    "start_time": "2022-11-17T02:18:53.346Z"
   },
   {
    "duration": 0,
    "start_time": "2022-11-17T02:18:53.347Z"
   },
   {
    "duration": 0,
    "start_time": "2022-11-17T02:18:53.348Z"
   },
   {
    "duration": 0,
    "start_time": "2022-11-17T02:18:53.349Z"
   },
   {
    "duration": 0,
    "start_time": "2022-11-17T02:18:53.350Z"
   },
   {
    "duration": 0,
    "start_time": "2022-11-17T02:18:53.351Z"
   },
   {
    "duration": 0,
    "start_time": "2022-11-17T02:18:53.353Z"
   },
   {
    "duration": 0,
    "start_time": "2022-11-17T02:18:53.353Z"
   },
   {
    "duration": 0,
    "start_time": "2022-11-17T02:18:53.354Z"
   },
   {
    "duration": 0,
    "start_time": "2022-11-17T02:18:53.355Z"
   },
   {
    "duration": 0,
    "start_time": "2022-11-17T02:18:53.356Z"
   },
   {
    "duration": 0,
    "start_time": "2022-11-17T02:18:53.357Z"
   },
   {
    "duration": 12,
    "start_time": "2022-11-17T02:19:38.764Z"
   },
   {
    "duration": 29,
    "start_time": "2022-11-17T02:21:34.808Z"
   },
   {
    "duration": 14,
    "start_time": "2022-11-17T02:21:42.983Z"
   },
   {
    "duration": 19,
    "start_time": "2022-11-17T02:21:58.430Z"
   },
   {
    "duration": 15,
    "start_time": "2022-11-17T02:25:04.543Z"
   },
   {
    "duration": 9,
    "start_time": "2022-11-17T02:25:43.516Z"
   },
   {
    "duration": 14,
    "start_time": "2022-11-17T02:25:53.851Z"
   },
   {
    "duration": 14,
    "start_time": "2022-11-17T02:26:15.479Z"
   },
   {
    "duration": 10,
    "start_time": "2022-11-17T02:28:15.129Z"
   },
   {
    "duration": 158,
    "start_time": "2022-11-17T02:30:12.124Z"
   },
   {
    "duration": 18,
    "start_time": "2022-11-17T02:31:59.926Z"
   },
   {
    "duration": 33,
    "start_time": "2022-11-17T02:32:25.995Z"
   },
   {
    "duration": 21,
    "start_time": "2022-11-17T02:32:47.326Z"
   },
   {
    "duration": 20,
    "start_time": "2022-11-17T02:33:02.056Z"
   },
   {
    "duration": 14,
    "start_time": "2022-11-17T02:34:15.032Z"
   },
   {
    "duration": 23,
    "start_time": "2022-11-17T02:34:18.856Z"
   },
   {
    "duration": 16,
    "start_time": "2022-11-17T02:34:19.654Z"
   },
   {
    "duration": 30,
    "start_time": "2022-11-17T02:35:23.968Z"
   },
   {
    "duration": 16,
    "start_time": "2022-11-17T02:36:01.664Z"
   },
   {
    "duration": 17,
    "start_time": "2022-11-17T02:36:50.105Z"
   },
   {
    "duration": 17,
    "start_time": "2022-11-17T02:37:40.789Z"
   },
   {
    "duration": 18,
    "start_time": "2022-11-17T02:38:10.150Z"
   },
   {
    "duration": 12,
    "start_time": "2022-11-17T02:38:25.862Z"
   },
   {
    "duration": 11,
    "start_time": "2022-11-17T02:40:07.577Z"
   },
   {
    "duration": 17,
    "start_time": "2022-11-17T02:41:24.870Z"
   },
   {
    "duration": 9,
    "start_time": "2022-11-17T02:43:42.685Z"
   },
   {
    "duration": 55,
    "start_time": "2022-11-17T02:47:42.208Z"
   },
   {
    "duration": 15,
    "start_time": "2022-11-17T02:48:53.636Z"
   },
   {
    "duration": 16,
    "start_time": "2022-11-17T02:49:01.381Z"
   },
   {
    "duration": 14,
    "start_time": "2022-11-17T02:52:30.243Z"
   },
   {
    "duration": 13,
    "start_time": "2022-11-17T02:52:40.526Z"
   },
   {
    "duration": 11,
    "start_time": "2022-11-17T02:53:15.590Z"
   },
   {
    "duration": 15,
    "start_time": "2022-11-17T02:55:24.484Z"
   },
   {
    "duration": 17,
    "start_time": "2022-11-17T02:57:17.623Z"
   },
   {
    "duration": 11,
    "start_time": "2022-11-17T02:58:11.774Z"
   },
   {
    "duration": 22,
    "start_time": "2022-11-17T03:00:52.147Z"
   },
   {
    "duration": 20,
    "start_time": "2022-11-17T03:01:11.961Z"
   },
   {
    "duration": 18,
    "start_time": "2022-11-17T03:01:24.659Z"
   },
   {
    "duration": 32,
    "start_time": "2022-11-17T03:01:58.091Z"
   },
   {
    "duration": 22,
    "start_time": "2022-11-17T03:05:05.436Z"
   },
   {
    "duration": 10,
    "start_time": "2022-11-17T03:18:52.840Z"
   },
   {
    "duration": 45,
    "start_time": "2022-11-17T03:26:01.500Z"
   },
   {
    "duration": 16,
    "start_time": "2022-11-17T03:26:18.898Z"
   },
   {
    "duration": 16,
    "start_time": "2022-11-17T03:26:48.523Z"
   },
   {
    "duration": 41,
    "start_time": "2022-11-17T03:27:52.229Z"
   },
   {
    "duration": 25,
    "start_time": "2022-11-17T03:28:58.827Z"
   },
   {
    "duration": 21,
    "start_time": "2022-11-17T03:29:12.947Z"
   },
   {
    "duration": 23,
    "start_time": "2022-11-17T03:35:41.325Z"
   },
   {
    "duration": 24,
    "start_time": "2022-11-17T03:35:47.006Z"
   },
   {
    "duration": 24,
    "start_time": "2022-11-17T04:15:51.389Z"
   },
   {
    "duration": 23,
    "start_time": "2022-11-17T04:15:52.560Z"
   },
   {
    "duration": 5,
    "start_time": "2022-11-17T04:17:19.650Z"
   },
   {
    "duration": 19,
    "start_time": "2022-11-17T04:17:37.439Z"
   },
   {
    "duration": 804,
    "start_time": "2022-11-17T04:18:19.694Z"
   },
   {
    "duration": 686,
    "start_time": "2022-11-17T04:19:04.711Z"
   },
   {
    "duration": 5,
    "start_time": "2022-11-17T04:19:14.063Z"
   },
   {
    "duration": 13,
    "start_time": "2022-11-17T04:19:24.207Z"
   },
   {
    "duration": 12,
    "start_time": "2022-11-17T04:22:05.338Z"
   },
   {
    "duration": 5,
    "start_time": "2022-11-17T04:27:02.968Z"
   },
   {
    "duration": 16,
    "start_time": "2022-11-17T04:27:09.154Z"
   },
   {
    "duration": 16,
    "start_time": "2022-11-17T04:28:09.166Z"
   },
   {
    "duration": 14,
    "start_time": "2022-11-17T04:28:33.629Z"
   },
   {
    "duration": 677,
    "start_time": "2022-11-17T04:29:01.424Z"
   },
   {
    "duration": 768,
    "start_time": "2022-11-17T04:31:15.418Z"
   },
   {
    "duration": 24,
    "start_time": "2022-11-17T04:31:34.896Z"
   },
   {
    "duration": 14,
    "start_time": "2022-11-17T04:31:37.241Z"
   },
   {
    "duration": 1489,
    "start_time": "2022-11-17T05:50:11.533Z"
   },
   {
    "duration": 226,
    "start_time": "2022-11-17T05:50:13.024Z"
   },
   {
    "duration": 4,
    "start_time": "2022-11-17T05:50:13.252Z"
   },
   {
    "duration": 21,
    "start_time": "2022-11-17T05:50:13.257Z"
   },
   {
    "duration": 4,
    "start_time": "2022-11-17T05:50:13.280Z"
   },
   {
    "duration": 16,
    "start_time": "2022-11-17T05:50:13.286Z"
   },
   {
    "duration": 22,
    "start_time": "2022-11-17T05:50:13.304Z"
   },
   {
    "duration": 9,
    "start_time": "2022-11-17T05:50:13.328Z"
   },
   {
    "duration": 8,
    "start_time": "2022-11-17T05:50:13.339Z"
   },
   {
    "duration": 19,
    "start_time": "2022-11-17T05:50:13.349Z"
   },
   {
    "duration": 16,
    "start_time": "2022-11-17T05:50:13.370Z"
   },
   {
    "duration": 22,
    "start_time": "2022-11-17T05:50:13.388Z"
   },
   {
    "duration": 6,
    "start_time": "2022-11-17T05:50:13.411Z"
   },
   {
    "duration": 6,
    "start_time": "2022-11-17T05:50:13.420Z"
   },
   {
    "duration": 14,
    "start_time": "2022-11-17T05:50:13.427Z"
   },
   {
    "duration": 17,
    "start_time": "2022-11-17T05:50:13.443Z"
   },
   {
    "duration": 8,
    "start_time": "2022-11-17T05:50:13.462Z"
   },
   {
    "duration": 6,
    "start_time": "2022-11-17T05:50:13.471Z"
   },
   {
    "duration": 16,
    "start_time": "2022-11-17T05:50:13.479Z"
   },
   {
    "duration": 20,
    "start_time": "2022-11-17T05:50:13.497Z"
   },
   {
    "duration": 4,
    "start_time": "2022-11-17T05:50:13.535Z"
   },
   {
    "duration": 13,
    "start_time": "2022-11-17T05:50:13.541Z"
   },
   {
    "duration": 19,
    "start_time": "2022-11-17T05:50:13.556Z"
   },
   {
    "duration": 4,
    "start_time": "2022-11-17T05:50:13.577Z"
   },
   {
    "duration": 24,
    "start_time": "2022-11-17T05:50:13.582Z"
   },
   {
    "duration": 58,
    "start_time": "2022-11-17T05:50:13.608Z"
   },
   {
    "duration": 19,
    "start_time": "2022-11-17T05:50:13.667Z"
   },
   {
    "duration": 19,
    "start_time": "2022-11-17T05:50:13.687Z"
   },
   {
    "duration": 27,
    "start_time": "2022-11-17T05:50:13.708Z"
   },
   {
    "duration": 28,
    "start_time": "2022-11-17T05:50:13.737Z"
   },
   {
    "duration": 29,
    "start_time": "2022-11-17T05:50:13.766Z"
   },
   {
    "duration": 139,
    "start_time": "2022-11-17T05:50:13.796Z"
   },
   {
    "duration": 113,
    "start_time": "2022-11-17T05:50:13.937Z"
   },
   {
    "duration": 6,
    "start_time": "2022-11-17T05:50:14.052Z"
   },
   {
    "duration": 25,
    "start_time": "2022-11-17T05:50:14.059Z"
   },
   {
    "duration": 366,
    "start_time": "2022-11-17T05:50:14.086Z"
   },
   {
    "duration": 7,
    "start_time": "2022-11-17T05:50:14.454Z"
   },
   {
    "duration": 297,
    "start_time": "2022-11-17T05:50:14.462Z"
   },
   {
    "duration": 109,
    "start_time": "2022-11-17T05:50:14.761Z"
   },
   {
    "duration": 11,
    "start_time": "2022-11-17T05:50:14.872Z"
   },
   {
    "duration": 11,
    "start_time": "2022-11-17T05:50:14.887Z"
   },
   {
    "duration": 6,
    "start_time": "2022-11-17T05:50:14.899Z"
   },
   {
    "duration": 485,
    "start_time": "2022-11-17T05:50:14.906Z"
   },
   {
    "duration": 211,
    "start_time": "2022-11-17T05:50:15.393Z"
   },
   {
    "duration": 177,
    "start_time": "2022-11-17T05:50:15.606Z"
   },
   {
    "duration": 188,
    "start_time": "2022-11-17T05:50:15.784Z"
   },
   {
    "duration": 2,
    "start_time": "2022-11-17T05:50:15.974Z"
   },
   {
    "duration": 112,
    "start_time": "2022-11-17T05:50:15.977Z"
   },
   {
    "duration": 21,
    "start_time": "2022-11-17T05:50:16.091Z"
   },
   {
    "duration": 40,
    "start_time": "2022-11-17T05:50:16.113Z"
   },
   {
    "duration": 24,
    "start_time": "2022-11-17T05:50:16.154Z"
   },
   {
    "duration": 5,
    "start_time": "2022-11-17T05:50:16.180Z"
   },
   {
    "duration": 27,
    "start_time": "2022-11-17T05:50:16.186Z"
   },
   {
    "duration": 33,
    "start_time": "2022-11-17T05:50:16.215Z"
   },
   {
    "duration": 12,
    "start_time": "2022-11-17T05:50:16.249Z"
   },
   {
    "duration": 34,
    "start_time": "2022-11-17T05:50:16.263Z"
   },
   {
    "duration": 18,
    "start_time": "2022-11-17T05:50:16.298Z"
   },
   {
    "duration": 17,
    "start_time": "2022-11-17T05:50:16.318Z"
   },
   {
    "duration": 22,
    "start_time": "2022-11-17T05:50:16.337Z"
   },
   {
    "duration": 15,
    "start_time": "2022-11-17T05:50:16.360Z"
   },
   {
    "duration": 25,
    "start_time": "2022-11-17T05:50:16.377Z"
   },
   {
    "duration": 66,
    "start_time": "2022-11-17T05:50:16.404Z"
   },
   {
    "duration": 0,
    "start_time": "2022-11-17T05:50:16.472Z"
   },
   {
    "duration": 0,
    "start_time": "2022-11-17T05:50:16.474Z"
   },
   {
    "duration": 0,
    "start_time": "2022-11-17T05:50:16.475Z"
   },
   {
    "duration": 0,
    "start_time": "2022-11-17T05:50:16.476Z"
   },
   {
    "duration": 0,
    "start_time": "2022-11-17T05:50:16.477Z"
   },
   {
    "duration": 0,
    "start_time": "2022-11-17T05:50:16.478Z"
   },
   {
    "duration": 0,
    "start_time": "2022-11-17T05:50:16.479Z"
   },
   {
    "duration": 0,
    "start_time": "2022-11-17T05:50:16.480Z"
   },
   {
    "duration": 0,
    "start_time": "2022-11-17T05:50:16.481Z"
   },
   {
    "duration": 0,
    "start_time": "2022-11-17T05:50:16.482Z"
   },
   {
    "duration": 0,
    "start_time": "2022-11-17T05:50:16.483Z"
   },
   {
    "duration": 0,
    "start_time": "2022-11-17T05:50:16.484Z"
   },
   {
    "duration": 1,
    "start_time": "2022-11-17T05:50:16.485Z"
   },
   {
    "duration": 0,
    "start_time": "2022-11-17T05:50:16.486Z"
   },
   {
    "duration": 0,
    "start_time": "2022-11-17T05:50:16.487Z"
   },
   {
    "duration": 0,
    "start_time": "2022-11-17T05:50:16.488Z"
   },
   {
    "duration": 0,
    "start_time": "2022-11-17T05:50:16.489Z"
   },
   {
    "duration": 0,
    "start_time": "2022-11-17T05:50:16.490Z"
   },
   {
    "duration": 0,
    "start_time": "2022-11-17T05:50:16.491Z"
   },
   {
    "duration": 0,
    "start_time": "2022-11-17T05:50:16.492Z"
   },
   {
    "duration": 0,
    "start_time": "2022-11-17T05:50:16.493Z"
   },
   {
    "duration": 0,
    "start_time": "2022-11-17T05:50:16.494Z"
   },
   {
    "duration": 0,
    "start_time": "2022-11-17T05:50:16.495Z"
   },
   {
    "duration": 0,
    "start_time": "2022-11-17T05:50:16.495Z"
   },
   {
    "duration": 0,
    "start_time": "2022-11-17T05:50:16.496Z"
   },
   {
    "duration": 0,
    "start_time": "2022-11-17T05:50:16.497Z"
   },
   {
    "duration": 0,
    "start_time": "2022-11-17T05:50:16.498Z"
   },
   {
    "duration": 0,
    "start_time": "2022-11-17T05:50:16.499Z"
   },
   {
    "duration": 0,
    "start_time": "2022-11-17T05:50:16.500Z"
   },
   {
    "duration": 0,
    "start_time": "2022-11-17T05:50:16.501Z"
   },
   {
    "duration": 14,
    "start_time": "2022-11-17T06:12:03.628Z"
   },
   {
    "duration": 20,
    "start_time": "2022-11-17T06:12:16.069Z"
   },
   {
    "duration": 11,
    "start_time": "2022-11-17T06:12:18.820Z"
   },
   {
    "duration": 11,
    "start_time": "2022-11-17T06:12:20.817Z"
   },
   {
    "duration": 13,
    "start_time": "2022-11-17T06:12:22.725Z"
   },
   {
    "duration": 18,
    "start_time": "2022-11-17T06:12:23.636Z"
   },
   {
    "duration": 10,
    "start_time": "2022-11-17T06:12:28.238Z"
   },
   {
    "duration": 115,
    "start_time": "2022-11-17T06:12:30.002Z"
   },
   {
    "duration": 23,
    "start_time": "2022-11-17T06:12:32.292Z"
   },
   {
    "duration": 12,
    "start_time": "2022-11-17T06:12:42.218Z"
   },
   {
    "duration": 6,
    "start_time": "2022-11-17T06:12:44.183Z"
   },
   {
    "duration": 5,
    "start_time": "2022-11-17T06:13:20.422Z"
   },
   {
    "duration": 16,
    "start_time": "2022-11-17T06:13:22.865Z"
   },
   {
    "duration": 17,
    "start_time": "2022-11-17T06:13:34.171Z"
   },
   {
    "duration": 34,
    "start_time": "2022-11-17T06:13:35.589Z"
   },
   {
    "duration": 23,
    "start_time": "2022-11-17T06:14:35.839Z"
   },
   {
    "duration": 19,
    "start_time": "2022-11-17T06:21:35.945Z"
   },
   {
    "duration": 11,
    "start_time": "2022-11-17T06:23:23.712Z"
   },
   {
    "duration": 25,
    "start_time": "2022-11-17T06:23:33.881Z"
   },
   {
    "duration": 9,
    "start_time": "2022-11-17T06:23:34.645Z"
   },
   {
    "duration": 40,
    "start_time": "2022-11-17T06:23:52.095Z"
   },
   {
    "duration": 17,
    "start_time": "2022-11-17T06:26:05.413Z"
   },
   {
    "duration": 9,
    "start_time": "2022-11-17T06:26:19.703Z"
   },
   {
    "duration": 18,
    "start_time": "2022-11-17T06:26:42.136Z"
   },
   {
    "duration": 17,
    "start_time": "2022-11-17T06:29:42.013Z"
   },
   {
    "duration": 14,
    "start_time": "2022-11-17T06:30:13.029Z"
   },
   {
    "duration": 6,
    "start_time": "2022-11-17T06:37:31.904Z"
   },
   {
    "duration": 5,
    "start_time": "2022-11-17T06:43:36.249Z"
   },
   {
    "duration": 22,
    "start_time": "2022-11-17T06:43:43.617Z"
   },
   {
    "duration": 20,
    "start_time": "2022-11-17T06:47:32.552Z"
   },
   {
    "duration": 13,
    "start_time": "2022-11-17T06:49:35.120Z"
   },
   {
    "duration": 14,
    "start_time": "2022-11-17T06:51:24.485Z"
   },
   {
    "duration": 17,
    "start_time": "2022-11-17T06:52:16.320Z"
   },
   {
    "duration": 16,
    "start_time": "2022-11-17T06:59:53.159Z"
   },
   {
    "duration": 1370,
    "start_time": "2022-11-17T07:03:03.089Z"
   },
   {
    "duration": 16,
    "start_time": "2022-11-17T07:03:55.626Z"
   },
   {
    "duration": 17,
    "start_time": "2022-11-17T07:04:23.836Z"
   },
   {
    "duration": 7,
    "start_time": "2022-11-17T07:05:41.736Z"
   },
   {
    "duration": 12,
    "start_time": "2022-11-17T07:05:50.837Z"
   },
   {
    "duration": 10,
    "start_time": "2022-11-17T07:06:09.954Z"
   },
   {
    "duration": 17,
    "start_time": "2022-11-17T07:06:20.414Z"
   },
   {
    "duration": 864,
    "start_time": "2022-11-17T07:06:38.651Z"
   },
   {
    "duration": 16,
    "start_time": "2022-11-17T07:06:47.537Z"
   },
   {
    "duration": 9,
    "start_time": "2022-11-17T07:11:48.632Z"
   },
   {
    "duration": 18,
    "start_time": "2022-11-17T07:11:55.872Z"
   },
   {
    "duration": 20,
    "start_time": "2022-11-17T07:13:07.374Z"
   },
   {
    "duration": 15,
    "start_time": "2022-11-17T07:35:00.126Z"
   },
   {
    "duration": 15,
    "start_time": "2022-11-17T07:39:03.473Z"
   },
   {
    "duration": 15,
    "start_time": "2022-11-17T07:43:49.372Z"
   },
   {
    "duration": 7,
    "start_time": "2022-11-17T07:44:48.979Z"
   },
   {
    "duration": 55,
    "start_time": "2022-11-17T07:46:15.712Z"
   },
   {
    "duration": 54,
    "start_time": "2022-11-17T07:47:22.493Z"
   },
   {
    "duration": 44,
    "start_time": "2022-11-17T07:51:55.495Z"
   },
   {
    "duration": 16,
    "start_time": "2022-11-17T07:52:03.571Z"
   },
   {
    "duration": 88,
    "start_time": "2022-11-17T07:52:08.461Z"
   },
   {
    "duration": 51,
    "start_time": "2022-11-17T07:53:13.880Z"
   },
   {
    "duration": 42,
    "start_time": "2022-11-17T07:53:39.598Z"
   },
   {
    "duration": 47,
    "start_time": "2022-11-17T07:53:53.421Z"
   },
   {
    "duration": 6,
    "start_time": "2022-11-17T07:54:32.536Z"
   },
   {
    "duration": 73,
    "start_time": "2022-11-17T07:54:52.801Z"
   },
   {
    "duration": 50,
    "start_time": "2022-11-17T07:55:20.882Z"
   },
   {
    "duration": 11,
    "start_time": "2022-11-17T07:55:39.230Z"
   },
   {
    "duration": 4,
    "start_time": "2022-11-17T07:55:44.174Z"
   },
   {
    "duration": 4,
    "start_time": "2022-11-17T07:55:45.806Z"
   },
   {
    "duration": 4,
    "start_time": "2022-11-17T07:55:56.416Z"
   },
   {
    "duration": 4,
    "start_time": "2022-11-17T07:57:01.066Z"
   },
   {
    "duration": 5,
    "start_time": "2022-11-17T07:57:43.048Z"
   },
   {
    "duration": 45,
    "start_time": "2022-11-17T08:03:28.555Z"
   },
   {
    "duration": 1334,
    "start_time": "2022-11-17T08:05:35.518Z"
   },
   {
    "duration": 359,
    "start_time": "2022-11-17T08:05:36.854Z"
   },
   {
    "duration": 4,
    "start_time": "2022-11-17T08:05:37.214Z"
   },
   {
    "duration": 32,
    "start_time": "2022-11-17T08:05:37.220Z"
   },
   {
    "duration": 21,
    "start_time": "2022-11-17T08:05:37.254Z"
   },
   {
    "duration": 25,
    "start_time": "2022-11-17T08:05:37.277Z"
   },
   {
    "duration": 32,
    "start_time": "2022-11-17T08:05:37.304Z"
   },
   {
    "duration": 21,
    "start_time": "2022-11-17T08:05:37.338Z"
   },
   {
    "duration": 11,
    "start_time": "2022-11-17T08:05:37.361Z"
   },
   {
    "duration": 23,
    "start_time": "2022-11-17T08:05:37.375Z"
   },
   {
    "duration": 37,
    "start_time": "2022-11-17T08:05:37.400Z"
   },
   {
    "duration": 28,
    "start_time": "2022-11-17T08:05:37.439Z"
   },
   {
    "duration": 25,
    "start_time": "2022-11-17T08:05:37.469Z"
   },
   {
    "duration": 17,
    "start_time": "2022-11-17T08:05:37.496Z"
   },
   {
    "duration": 33,
    "start_time": "2022-11-17T08:05:37.515Z"
   },
   {
    "duration": 25,
    "start_time": "2022-11-17T08:05:37.550Z"
   },
   {
    "duration": 21,
    "start_time": "2022-11-17T08:05:37.576Z"
   },
   {
    "duration": 34,
    "start_time": "2022-11-17T08:05:37.599Z"
   },
   {
    "duration": 29,
    "start_time": "2022-11-17T08:05:37.634Z"
   },
   {
    "duration": 19,
    "start_time": "2022-11-17T08:05:37.665Z"
   },
   {
    "duration": 38,
    "start_time": "2022-11-17T08:05:37.686Z"
   },
   {
    "duration": 32,
    "start_time": "2022-11-17T08:05:37.726Z"
   },
   {
    "duration": 32,
    "start_time": "2022-11-17T08:05:37.760Z"
   },
   {
    "duration": 18,
    "start_time": "2022-11-17T08:05:37.794Z"
   },
   {
    "duration": 57,
    "start_time": "2022-11-17T08:05:37.813Z"
   },
   {
    "duration": 30,
    "start_time": "2022-11-17T08:05:37.872Z"
   },
   {
    "duration": 21,
    "start_time": "2022-11-17T08:05:37.904Z"
   },
   {
    "duration": 31,
    "start_time": "2022-11-17T08:05:37.939Z"
   },
   {
    "duration": 4,
    "start_time": "2022-11-17T08:05:37.972Z"
   },
   {
    "duration": 64,
    "start_time": "2022-11-17T08:05:37.979Z"
   },
   {
    "duration": 56,
    "start_time": "2022-11-17T08:05:38.045Z"
   },
   {
    "duration": 184,
    "start_time": "2022-11-17T08:05:38.103Z"
   },
   {
    "duration": 115,
    "start_time": "2022-11-17T08:05:38.288Z"
   },
   {
    "duration": 6,
    "start_time": "2022-11-17T08:05:38.405Z"
   },
   {
    "duration": 63,
    "start_time": "2022-11-17T08:05:38.413Z"
   },
   {
    "duration": 407,
    "start_time": "2022-11-17T08:05:38.478Z"
   },
   {
    "duration": 7,
    "start_time": "2022-11-17T08:05:38.886Z"
   },
   {
    "duration": 337,
    "start_time": "2022-11-17T08:05:38.894Z"
   },
   {
    "duration": 140,
    "start_time": "2022-11-17T08:05:39.233Z"
   },
   {
    "duration": 12,
    "start_time": "2022-11-17T08:05:39.375Z"
   },
   {
    "duration": 28,
    "start_time": "2022-11-17T08:05:39.389Z"
   },
   {
    "duration": 22,
    "start_time": "2022-11-17T08:05:39.419Z"
   },
   {
    "duration": 493,
    "start_time": "2022-11-17T08:05:39.442Z"
   },
   {
    "duration": 245,
    "start_time": "2022-11-17T08:05:39.937Z"
   },
   {
    "duration": 170,
    "start_time": "2022-11-17T08:05:40.184Z"
   },
   {
    "duration": 174,
    "start_time": "2022-11-17T08:05:40.356Z"
   },
   {
    "duration": 3,
    "start_time": "2022-11-17T08:05:40.535Z"
   },
   {
    "duration": 138,
    "start_time": "2022-11-17T08:05:40.540Z"
   },
   {
    "duration": 23,
    "start_time": "2022-11-17T08:05:40.680Z"
   },
   {
    "duration": 32,
    "start_time": "2022-11-17T08:05:40.705Z"
   },
   {
    "duration": 24,
    "start_time": "2022-11-17T08:05:40.739Z"
   },
   {
    "duration": 6,
    "start_time": "2022-11-17T08:05:40.765Z"
   },
   {
    "duration": 27,
    "start_time": "2022-11-17T08:05:40.772Z"
   },
   {
    "duration": 39,
    "start_time": "2022-11-17T08:05:40.801Z"
   },
   {
    "duration": 26,
    "start_time": "2022-11-17T08:05:40.841Z"
   },
   {
    "duration": 38,
    "start_time": "2022-11-17T08:05:40.869Z"
   },
   {
    "duration": 13,
    "start_time": "2022-11-17T08:05:40.909Z"
   },
   {
    "duration": 12,
    "start_time": "2022-11-17T08:05:40.924Z"
   },
   {
    "duration": 26,
    "start_time": "2022-11-17T08:05:40.938Z"
   },
   {
    "duration": 16,
    "start_time": "2022-11-17T08:05:40.966Z"
   },
   {
    "duration": 22,
    "start_time": "2022-11-17T08:05:40.984Z"
   },
   {
    "duration": 36,
    "start_time": "2022-11-17T08:05:41.008Z"
   },
   {
    "duration": 14,
    "start_time": "2022-11-17T08:05:41.046Z"
   },
   {
    "duration": 17,
    "start_time": "2022-11-17T08:05:41.062Z"
   },
   {
    "duration": 14,
    "start_time": "2022-11-17T08:05:41.081Z"
   },
   {
    "duration": 40,
    "start_time": "2022-11-17T08:05:41.097Z"
   },
   {
    "duration": 20,
    "start_time": "2022-11-17T08:05:41.139Z"
   },
   {
    "duration": 46,
    "start_time": "2022-11-17T08:05:41.161Z"
   },
   {
    "duration": 7,
    "start_time": "2022-11-17T08:05:41.209Z"
   },
   {
    "duration": 29,
    "start_time": "2022-11-17T08:05:41.218Z"
   },
   {
    "duration": 21,
    "start_time": "2022-11-17T08:05:41.248Z"
   },
   {
    "duration": 19,
    "start_time": "2022-11-17T08:05:41.271Z"
   },
   {
    "duration": 18,
    "start_time": "2022-11-17T08:05:41.293Z"
   },
   {
    "duration": 33,
    "start_time": "2022-11-17T08:05:41.313Z"
   },
   {
    "duration": 7,
    "start_time": "2022-11-17T08:05:41.348Z"
   },
   {
    "duration": 9,
    "start_time": "2022-11-17T08:05:41.357Z"
   },
   {
    "duration": 12,
    "start_time": "2022-11-17T08:05:41.368Z"
   },
   {
    "duration": 9,
    "start_time": "2022-11-17T08:05:41.381Z"
   },
   {
    "duration": 153,
    "start_time": "2022-11-17T08:05:41.391Z"
   },
   {
    "duration": 0,
    "start_time": "2022-11-17T08:05:41.546Z"
   },
   {
    "duration": 0,
    "start_time": "2022-11-17T08:05:41.548Z"
   },
   {
    "duration": 0,
    "start_time": "2022-11-17T08:05:41.549Z"
   },
   {
    "duration": 11,
    "start_time": "2022-11-17T08:11:48.107Z"
   },
   {
    "duration": 9,
    "start_time": "2022-11-17T08:12:09.417Z"
   },
   {
    "duration": 15,
    "start_time": "2022-11-17T08:12:24.770Z"
   },
   {
    "duration": 8,
    "start_time": "2022-11-17T08:12:37.391Z"
   },
   {
    "duration": 1227,
    "start_time": "2022-11-17T08:21:53.747Z"
   },
   {
    "duration": 240,
    "start_time": "2022-11-17T08:21:54.975Z"
   },
   {
    "duration": 4,
    "start_time": "2022-11-17T08:21:55.216Z"
   },
   {
    "duration": 16,
    "start_time": "2022-11-17T08:21:55.221Z"
   },
   {
    "duration": 7,
    "start_time": "2022-11-17T08:21:55.239Z"
   },
   {
    "duration": 20,
    "start_time": "2022-11-17T08:21:55.247Z"
   },
   {
    "duration": 32,
    "start_time": "2022-11-17T08:21:55.269Z"
   },
   {
    "duration": 16,
    "start_time": "2022-11-17T08:21:55.303Z"
   },
   {
    "duration": 18,
    "start_time": "2022-11-17T08:21:55.321Z"
   },
   {
    "duration": 22,
    "start_time": "2022-11-17T08:21:55.341Z"
   },
   {
    "duration": 32,
    "start_time": "2022-11-17T08:21:55.365Z"
   },
   {
    "duration": 36,
    "start_time": "2022-11-17T08:21:55.399Z"
   },
   {
    "duration": 42,
    "start_time": "2022-11-17T08:21:55.437Z"
   },
   {
    "duration": 36,
    "start_time": "2022-11-17T08:21:55.481Z"
   },
   {
    "duration": 36,
    "start_time": "2022-11-17T08:21:55.519Z"
   },
   {
    "duration": 41,
    "start_time": "2022-11-17T08:21:55.557Z"
   },
   {
    "duration": 23,
    "start_time": "2022-11-17T08:21:55.600Z"
   },
   {
    "duration": 29,
    "start_time": "2022-11-17T08:21:55.624Z"
   },
   {
    "duration": 36,
    "start_time": "2022-11-17T08:21:55.655Z"
   },
   {
    "duration": 22,
    "start_time": "2022-11-17T08:21:55.693Z"
   },
   {
    "duration": 17,
    "start_time": "2022-11-17T08:21:55.716Z"
   },
   {
    "duration": 24,
    "start_time": "2022-11-17T08:21:55.735Z"
   },
   {
    "duration": 24,
    "start_time": "2022-11-17T08:21:55.761Z"
   },
   {
    "duration": 6,
    "start_time": "2022-11-17T08:21:55.787Z"
   },
   {
    "duration": 37,
    "start_time": "2022-11-17T08:21:55.795Z"
   },
   {
    "duration": 33,
    "start_time": "2022-11-17T08:21:55.834Z"
   },
   {
    "duration": 22,
    "start_time": "2022-11-17T08:21:55.868Z"
   },
   {
    "duration": 41,
    "start_time": "2022-11-17T08:21:55.895Z"
   },
   {
    "duration": 4,
    "start_time": "2022-11-17T08:21:55.938Z"
   },
   {
    "duration": 37,
    "start_time": "2022-11-17T08:21:55.944Z"
   },
   {
    "duration": 35,
    "start_time": "2022-11-17T08:21:55.983Z"
   },
   {
    "duration": 140,
    "start_time": "2022-11-17T08:21:56.035Z"
   },
   {
    "duration": 108,
    "start_time": "2022-11-17T08:21:56.178Z"
   },
   {
    "duration": 6,
    "start_time": "2022-11-17T08:21:56.287Z"
   },
   {
    "duration": 18,
    "start_time": "2022-11-17T08:21:56.295Z"
   },
   {
    "duration": 355,
    "start_time": "2022-11-17T08:21:56.315Z"
   },
   {
    "duration": 7,
    "start_time": "2022-11-17T08:21:56.672Z"
   },
   {
    "duration": 335,
    "start_time": "2022-11-17T08:21:56.682Z"
   },
   {
    "duration": 133,
    "start_time": "2022-11-17T08:21:57.018Z"
   },
   {
    "duration": 13,
    "start_time": "2022-11-17T08:21:57.153Z"
   },
   {
    "duration": 14,
    "start_time": "2022-11-17T08:21:57.167Z"
   },
   {
    "duration": 14,
    "start_time": "2022-11-17T08:21:57.183Z"
   },
   {
    "duration": 459,
    "start_time": "2022-11-17T08:21:57.198Z"
   },
   {
    "duration": 217,
    "start_time": "2022-11-17T08:21:57.659Z"
   },
   {
    "duration": 176,
    "start_time": "2022-11-17T08:21:57.878Z"
   },
   {
    "duration": 172,
    "start_time": "2022-11-17T08:21:58.056Z"
   },
   {
    "duration": 6,
    "start_time": "2022-11-17T08:21:58.230Z"
   },
   {
    "duration": 126,
    "start_time": "2022-11-17T08:21:58.237Z"
   },
   {
    "duration": 24,
    "start_time": "2022-11-17T08:21:58.365Z"
   },
   {
    "duration": 22,
    "start_time": "2022-11-17T08:21:58.391Z"
   },
   {
    "duration": 44,
    "start_time": "2022-11-17T08:21:58.415Z"
   },
   {
    "duration": 6,
    "start_time": "2022-11-17T08:21:58.461Z"
   },
   {
    "duration": 26,
    "start_time": "2022-11-17T08:21:58.468Z"
   },
   {
    "duration": 13,
    "start_time": "2022-11-17T08:21:58.496Z"
   },
   {
    "duration": 36,
    "start_time": "2022-11-17T08:21:58.511Z"
   },
   {
    "duration": 24,
    "start_time": "2022-11-17T08:21:58.549Z"
   },
   {
    "duration": 16,
    "start_time": "2022-11-17T08:21:58.575Z"
   },
   {
    "duration": 9,
    "start_time": "2022-11-17T08:21:58.592Z"
   },
   {
    "duration": 42,
    "start_time": "2022-11-17T08:21:58.603Z"
   },
   {
    "duration": 15,
    "start_time": "2022-11-17T08:21:58.646Z"
   },
   {
    "duration": 24,
    "start_time": "2022-11-17T08:21:58.663Z"
   },
   {
    "duration": 14,
    "start_time": "2022-11-17T08:21:58.688Z"
   },
   {
    "duration": 35,
    "start_time": "2022-11-17T08:21:58.703Z"
   },
   {
    "duration": 10,
    "start_time": "2022-11-17T08:21:58.740Z"
   },
   {
    "duration": 26,
    "start_time": "2022-11-17T08:21:58.752Z"
   },
   {
    "duration": 32,
    "start_time": "2022-11-17T08:21:58.780Z"
   },
   {
    "duration": 21,
    "start_time": "2022-11-17T08:21:58.814Z"
   },
   {
    "duration": 48,
    "start_time": "2022-11-17T08:21:58.836Z"
   },
   {
    "duration": 5,
    "start_time": "2022-11-17T08:21:58.885Z"
   },
   {
    "duration": 32,
    "start_time": "2022-11-17T08:21:58.892Z"
   },
   {
    "duration": 13,
    "start_time": "2022-11-17T08:21:58.925Z"
   },
   {
    "duration": 24,
    "start_time": "2022-11-17T08:21:58.940Z"
   },
   {
    "duration": 16,
    "start_time": "2022-11-17T08:21:58.965Z"
   },
   {
    "duration": 16,
    "start_time": "2022-11-17T08:21:58.982Z"
   },
   {
    "duration": 5,
    "start_time": "2022-11-17T08:21:59.000Z"
   },
   {
    "duration": 15,
    "start_time": "2022-11-17T08:21:59.006Z"
   },
   {
    "duration": 15,
    "start_time": "2022-11-17T08:21:59.022Z"
   },
   {
    "duration": 24,
    "start_time": "2022-11-17T08:21:59.039Z"
   },
   {
    "duration": 24,
    "start_time": "2022-11-17T08:21:59.065Z"
   },
   {
    "duration": 16,
    "start_time": "2022-11-17T08:21:59.091Z"
   },
   {
    "duration": 20,
    "start_time": "2022-11-17T08:21:59.108Z"
   },
   {
    "duration": 11,
    "start_time": "2022-11-17T08:21:59.132Z"
   },
   {
    "duration": 1438,
    "start_time": "2022-11-17T09:27:41.760Z"
   },
   {
    "duration": 184,
    "start_time": "2022-11-17T09:27:43.200Z"
   },
   {
    "duration": 1,
    "start_time": "2022-11-17T09:27:43.387Z"
   },
   {
    "duration": 0,
    "start_time": "2022-11-17T09:27:43.389Z"
   },
   {
    "duration": 0,
    "start_time": "2022-11-17T09:27:43.397Z"
   },
   {
    "duration": 0,
    "start_time": "2022-11-17T09:27:43.398Z"
   },
   {
    "duration": 0,
    "start_time": "2022-11-17T09:27:43.399Z"
   },
   {
    "duration": 0,
    "start_time": "2022-11-17T09:27:43.400Z"
   },
   {
    "duration": 0,
    "start_time": "2022-11-17T09:27:43.401Z"
   },
   {
    "duration": 0,
    "start_time": "2022-11-17T09:27:43.401Z"
   },
   {
    "duration": 0,
    "start_time": "2022-11-17T09:27:43.403Z"
   },
   {
    "duration": 0,
    "start_time": "2022-11-17T09:27:43.404Z"
   },
   {
    "duration": 0,
    "start_time": "2022-11-17T09:27:43.405Z"
   },
   {
    "duration": 0,
    "start_time": "2022-11-17T09:27:43.406Z"
   },
   {
    "duration": 0,
    "start_time": "2022-11-17T09:27:43.407Z"
   },
   {
    "duration": 0,
    "start_time": "2022-11-17T09:27:43.408Z"
   },
   {
    "duration": 0,
    "start_time": "2022-11-17T09:27:43.409Z"
   },
   {
    "duration": 0,
    "start_time": "2022-11-17T09:27:43.410Z"
   },
   {
    "duration": 0,
    "start_time": "2022-11-17T09:27:43.411Z"
   },
   {
    "duration": 0,
    "start_time": "2022-11-17T09:27:43.413Z"
   },
   {
    "duration": 0,
    "start_time": "2022-11-17T09:27:43.414Z"
   },
   {
    "duration": 0,
    "start_time": "2022-11-17T09:27:43.415Z"
   },
   {
    "duration": 0,
    "start_time": "2022-11-17T09:27:43.416Z"
   },
   {
    "duration": 0,
    "start_time": "2022-11-17T09:27:43.417Z"
   },
   {
    "duration": 0,
    "start_time": "2022-11-17T09:27:43.418Z"
   },
   {
    "duration": 0,
    "start_time": "2022-11-17T09:27:43.419Z"
   },
   {
    "duration": 0,
    "start_time": "2022-11-17T09:27:43.420Z"
   },
   {
    "duration": 0,
    "start_time": "2022-11-17T09:27:43.421Z"
   },
   {
    "duration": 0,
    "start_time": "2022-11-17T09:27:43.422Z"
   },
   {
    "duration": 0,
    "start_time": "2022-11-17T09:27:43.423Z"
   },
   {
    "duration": 0,
    "start_time": "2022-11-17T09:27:43.424Z"
   },
   {
    "duration": 0,
    "start_time": "2022-11-17T09:27:43.425Z"
   },
   {
    "duration": 0,
    "start_time": "2022-11-17T09:27:43.426Z"
   },
   {
    "duration": 0,
    "start_time": "2022-11-17T09:27:43.427Z"
   },
   {
    "duration": 0,
    "start_time": "2022-11-17T09:27:43.428Z"
   },
   {
    "duration": 0,
    "start_time": "2022-11-17T09:27:43.429Z"
   },
   {
    "duration": 0,
    "start_time": "2022-11-17T09:27:43.430Z"
   },
   {
    "duration": 0,
    "start_time": "2022-11-17T09:27:43.431Z"
   },
   {
    "duration": 0,
    "start_time": "2022-11-17T09:27:43.432Z"
   },
   {
    "duration": 0,
    "start_time": "2022-11-17T09:27:43.497Z"
   },
   {
    "duration": 0,
    "start_time": "2022-11-17T09:27:43.498Z"
   },
   {
    "duration": 0,
    "start_time": "2022-11-17T09:27:43.499Z"
   },
   {
    "duration": 0,
    "start_time": "2022-11-17T09:27:43.500Z"
   },
   {
    "duration": 0,
    "start_time": "2022-11-17T09:27:43.501Z"
   },
   {
    "duration": 0,
    "start_time": "2022-11-17T09:27:43.502Z"
   },
   {
    "duration": 0,
    "start_time": "2022-11-17T09:27:43.504Z"
   },
   {
    "duration": 0,
    "start_time": "2022-11-17T09:27:43.505Z"
   },
   {
    "duration": 0,
    "start_time": "2022-11-17T09:27:43.506Z"
   },
   {
    "duration": 0,
    "start_time": "2022-11-17T09:27:43.507Z"
   },
   {
    "duration": 0,
    "start_time": "2022-11-17T09:27:43.508Z"
   },
   {
    "duration": 0,
    "start_time": "2022-11-17T09:27:43.509Z"
   },
   {
    "duration": 0,
    "start_time": "2022-11-17T09:27:43.510Z"
   },
   {
    "duration": 0,
    "start_time": "2022-11-17T09:27:43.511Z"
   },
   {
    "duration": 0,
    "start_time": "2022-11-17T09:27:43.512Z"
   },
   {
    "duration": 0,
    "start_time": "2022-11-17T09:27:43.513Z"
   },
   {
    "duration": 0,
    "start_time": "2022-11-17T09:27:43.514Z"
   },
   {
    "duration": 0,
    "start_time": "2022-11-17T09:27:43.515Z"
   },
   {
    "duration": 0,
    "start_time": "2022-11-17T09:27:43.516Z"
   },
   {
    "duration": 0,
    "start_time": "2022-11-17T09:27:43.517Z"
   },
   {
    "duration": 0,
    "start_time": "2022-11-17T09:27:43.518Z"
   },
   {
    "duration": 0,
    "start_time": "2022-11-17T09:27:43.519Z"
   },
   {
    "duration": 0,
    "start_time": "2022-11-17T09:27:43.520Z"
   },
   {
    "duration": 0,
    "start_time": "2022-11-17T09:27:43.521Z"
   },
   {
    "duration": 0,
    "start_time": "2022-11-17T09:27:43.522Z"
   },
   {
    "duration": 0,
    "start_time": "2022-11-17T09:27:43.523Z"
   },
   {
    "duration": 0,
    "start_time": "2022-11-17T09:27:43.524Z"
   },
   {
    "duration": 0,
    "start_time": "2022-11-17T09:27:43.525Z"
   },
   {
    "duration": 0,
    "start_time": "2022-11-17T09:27:43.526Z"
   },
   {
    "duration": 0,
    "start_time": "2022-11-17T09:27:43.527Z"
   },
   {
    "duration": 0,
    "start_time": "2022-11-17T09:27:43.528Z"
   },
   {
    "duration": 0,
    "start_time": "2022-11-17T09:27:43.529Z"
   },
   {
    "duration": 0,
    "start_time": "2022-11-17T09:27:43.530Z"
   },
   {
    "duration": 0,
    "start_time": "2022-11-17T09:27:43.531Z"
   },
   {
    "duration": 0,
    "start_time": "2022-11-17T09:27:43.532Z"
   },
   {
    "duration": 0,
    "start_time": "2022-11-17T09:27:43.533Z"
   },
   {
    "duration": 0,
    "start_time": "2022-11-17T09:27:43.596Z"
   },
   {
    "duration": 0,
    "start_time": "2022-11-17T09:27:43.597Z"
   },
   {
    "duration": 0,
    "start_time": "2022-11-17T09:27:43.599Z"
   },
   {
    "duration": 0,
    "start_time": "2022-11-17T09:27:43.600Z"
   },
   {
    "duration": 0,
    "start_time": "2022-11-17T09:27:43.602Z"
   },
   {
    "duration": 0,
    "start_time": "2022-11-17T09:27:43.603Z"
   },
   {
    "duration": 0,
    "start_time": "2022-11-17T09:27:43.604Z"
   },
   {
    "duration": 5,
    "start_time": "2022-11-17T09:28:55.684Z"
   },
   {
    "duration": 100,
    "start_time": "2022-11-17T09:28:55.691Z"
   },
   {
    "duration": 0,
    "start_time": "2022-11-17T09:28:55.793Z"
   },
   {
    "duration": 0,
    "start_time": "2022-11-17T09:28:55.794Z"
   },
   {
    "duration": 0,
    "start_time": "2022-11-17T09:28:55.796Z"
   },
   {
    "duration": 0,
    "start_time": "2022-11-17T09:28:55.797Z"
   },
   {
    "duration": 0,
    "start_time": "2022-11-17T09:28:55.798Z"
   },
   {
    "duration": 0,
    "start_time": "2022-11-17T09:28:55.799Z"
   },
   {
    "duration": 0,
    "start_time": "2022-11-17T09:28:55.800Z"
   },
   {
    "duration": 0,
    "start_time": "2022-11-17T09:28:55.801Z"
   },
   {
    "duration": 0,
    "start_time": "2022-11-17T09:28:55.802Z"
   },
   {
    "duration": 0,
    "start_time": "2022-11-17T09:28:55.803Z"
   },
   {
    "duration": 0,
    "start_time": "2022-11-17T09:28:55.804Z"
   },
   {
    "duration": 0,
    "start_time": "2022-11-17T09:28:55.806Z"
   },
   {
    "duration": 0,
    "start_time": "2022-11-17T09:28:55.806Z"
   },
   {
    "duration": 0,
    "start_time": "2022-11-17T09:28:55.808Z"
   },
   {
    "duration": 0,
    "start_time": "2022-11-17T09:28:55.809Z"
   },
   {
    "duration": 0,
    "start_time": "2022-11-17T09:28:55.810Z"
   },
   {
    "duration": 0,
    "start_time": "2022-11-17T09:28:55.811Z"
   },
   {
    "duration": 0,
    "start_time": "2022-11-17T09:28:55.812Z"
   },
   {
    "duration": 0,
    "start_time": "2022-11-17T09:28:55.813Z"
   },
   {
    "duration": 0,
    "start_time": "2022-11-17T09:28:55.815Z"
   },
   {
    "duration": 0,
    "start_time": "2022-11-17T09:28:55.816Z"
   },
   {
    "duration": 0,
    "start_time": "2022-11-17T09:28:55.817Z"
   },
   {
    "duration": 0,
    "start_time": "2022-11-17T09:28:55.818Z"
   },
   {
    "duration": 0,
    "start_time": "2022-11-17T09:28:55.819Z"
   },
   {
    "duration": 0,
    "start_time": "2022-11-17T09:28:55.820Z"
   },
   {
    "duration": 0,
    "start_time": "2022-11-17T09:28:55.821Z"
   },
   {
    "duration": 0,
    "start_time": "2022-11-17T09:28:55.822Z"
   },
   {
    "duration": 0,
    "start_time": "2022-11-17T09:28:55.823Z"
   },
   {
    "duration": 0,
    "start_time": "2022-11-17T09:28:55.824Z"
   },
   {
    "duration": 0,
    "start_time": "2022-11-17T09:28:55.825Z"
   },
   {
    "duration": 0,
    "start_time": "2022-11-17T09:28:55.826Z"
   },
   {
    "duration": 0,
    "start_time": "2022-11-17T09:28:55.827Z"
   },
   {
    "duration": 0,
    "start_time": "2022-11-17T09:28:55.828Z"
   },
   {
    "duration": 0,
    "start_time": "2022-11-17T09:28:55.829Z"
   },
   {
    "duration": 0,
    "start_time": "2022-11-17T09:28:55.830Z"
   },
   {
    "duration": 0,
    "start_time": "2022-11-17T09:28:55.831Z"
   },
   {
    "duration": 0,
    "start_time": "2022-11-17T09:28:55.832Z"
   },
   {
    "duration": 0,
    "start_time": "2022-11-17T09:28:55.833Z"
   },
   {
    "duration": 0,
    "start_time": "2022-11-17T09:28:55.834Z"
   },
   {
    "duration": 0,
    "start_time": "2022-11-17T09:28:55.835Z"
   },
   {
    "duration": 0,
    "start_time": "2022-11-17T09:28:55.836Z"
   },
   {
    "duration": 0,
    "start_time": "2022-11-17T09:28:55.837Z"
   },
   {
    "duration": 0,
    "start_time": "2022-11-17T09:28:55.897Z"
   },
   {
    "duration": 16,
    "start_time": "2022-11-17T09:28:55.902Z"
   },
   {
    "duration": 0,
    "start_time": "2022-11-17T09:28:55.920Z"
   },
   {
    "duration": 0,
    "start_time": "2022-11-17T09:28:55.921Z"
   },
   {
    "duration": 0,
    "start_time": "2022-11-17T09:28:55.922Z"
   },
   {
    "duration": 0,
    "start_time": "2022-11-17T09:28:55.924Z"
   },
   {
    "duration": 0,
    "start_time": "2022-11-17T09:28:55.926Z"
   },
   {
    "duration": 0,
    "start_time": "2022-11-17T09:28:55.927Z"
   },
   {
    "duration": 0,
    "start_time": "2022-11-17T09:28:55.928Z"
   },
   {
    "duration": 0,
    "start_time": "2022-11-17T09:28:55.930Z"
   },
   {
    "duration": 0,
    "start_time": "2022-11-17T09:28:55.931Z"
   },
   {
    "duration": 0,
    "start_time": "2022-11-17T09:28:55.932Z"
   },
   {
    "duration": 0,
    "start_time": "2022-11-17T09:28:55.933Z"
   },
   {
    "duration": 0,
    "start_time": "2022-11-17T09:28:55.935Z"
   },
   {
    "duration": 1,
    "start_time": "2022-11-17T09:28:55.995Z"
   },
   {
    "duration": 0,
    "start_time": "2022-11-17T09:28:55.997Z"
   },
   {
    "duration": 0,
    "start_time": "2022-11-17T09:28:55.998Z"
   },
   {
    "duration": 0,
    "start_time": "2022-11-17T09:28:55.999Z"
   },
   {
    "duration": 0,
    "start_time": "2022-11-17T09:28:56.000Z"
   },
   {
    "duration": 0,
    "start_time": "2022-11-17T09:28:56.001Z"
   },
   {
    "duration": 0,
    "start_time": "2022-11-17T09:28:56.002Z"
   },
   {
    "duration": 0,
    "start_time": "2022-11-17T09:28:56.003Z"
   },
   {
    "duration": 0,
    "start_time": "2022-11-17T09:28:56.004Z"
   },
   {
    "duration": 0,
    "start_time": "2022-11-17T09:28:56.005Z"
   },
   {
    "duration": 0,
    "start_time": "2022-11-17T09:28:56.006Z"
   },
   {
    "duration": 0,
    "start_time": "2022-11-17T09:28:56.007Z"
   },
   {
    "duration": 0,
    "start_time": "2022-11-17T09:28:56.008Z"
   },
   {
    "duration": 0,
    "start_time": "2022-11-17T09:28:56.009Z"
   },
   {
    "duration": 0,
    "start_time": "2022-11-17T09:28:56.010Z"
   },
   {
    "duration": 0,
    "start_time": "2022-11-17T09:28:56.011Z"
   },
   {
    "duration": 0,
    "start_time": "2022-11-17T09:28:56.013Z"
   },
   {
    "duration": 0,
    "start_time": "2022-11-17T09:28:56.014Z"
   },
   {
    "duration": 0,
    "start_time": "2022-11-17T09:28:56.014Z"
   },
   {
    "duration": 0,
    "start_time": "2022-11-17T09:28:56.016Z"
   },
   {
    "duration": 0,
    "start_time": "2022-11-17T09:28:56.017Z"
   },
   {
    "duration": 0,
    "start_time": "2022-11-17T09:28:56.018Z"
   },
   {
    "duration": 0,
    "start_time": "2022-11-17T09:28:56.019Z"
   },
   {
    "duration": 0,
    "start_time": "2022-11-17T09:28:56.019Z"
   },
   {
    "duration": 5,
    "start_time": "2022-11-17T09:29:27.794Z"
   },
   {
    "duration": 115,
    "start_time": "2022-11-17T09:29:28.555Z"
   },
   {
    "duration": 90,
    "start_time": "2022-11-17T09:29:48.644Z"
   },
   {
    "duration": 5,
    "start_time": "2022-11-17T09:31:53.259Z"
   },
   {
    "duration": 432,
    "start_time": "2022-11-17T09:31:53.266Z"
   },
   {
    "duration": 3,
    "start_time": "2022-11-17T09:31:53.700Z"
   },
   {
    "duration": 17,
    "start_time": "2022-11-17T09:31:53.705Z"
   },
   {
    "duration": 4,
    "start_time": "2022-11-17T09:31:53.724Z"
   },
   {
    "duration": 9,
    "start_time": "2022-11-17T09:31:53.729Z"
   },
   {
    "duration": 13,
    "start_time": "2022-11-17T09:31:53.739Z"
   },
   {
    "duration": 6,
    "start_time": "2022-11-17T09:31:53.754Z"
   },
   {
    "duration": 12,
    "start_time": "2022-11-17T09:31:53.762Z"
   },
   {
    "duration": 10,
    "start_time": "2022-11-17T09:31:53.776Z"
   },
   {
    "duration": 10,
    "start_time": "2022-11-17T09:31:53.796Z"
   },
   {
    "duration": 19,
    "start_time": "2022-11-17T09:31:53.808Z"
   },
   {
    "duration": 4,
    "start_time": "2022-11-17T09:31:53.828Z"
   },
   {
    "duration": 7,
    "start_time": "2022-11-17T09:31:53.833Z"
   },
   {
    "duration": 6,
    "start_time": "2022-11-17T09:31:53.841Z"
   },
   {
    "duration": 7,
    "start_time": "2022-11-17T09:31:53.848Z"
   },
   {
    "duration": 6,
    "start_time": "2022-11-17T09:31:53.857Z"
   },
   {
    "duration": 7,
    "start_time": "2022-11-17T09:31:53.896Z"
   },
   {
    "duration": 15,
    "start_time": "2022-11-17T09:31:53.905Z"
   },
   {
    "duration": 12,
    "start_time": "2022-11-17T09:31:53.922Z"
   },
   {
    "duration": 5,
    "start_time": "2022-11-17T09:31:53.935Z"
   },
   {
    "duration": 10,
    "start_time": "2022-11-17T09:31:53.942Z"
   },
   {
    "duration": 13,
    "start_time": "2022-11-17T09:31:53.953Z"
   },
   {
    "duration": 30,
    "start_time": "2022-11-17T09:31:53.967Z"
   },
   {
    "duration": 19,
    "start_time": "2022-11-17T09:31:53.999Z"
   },
   {
    "duration": 29,
    "start_time": "2022-11-17T09:31:54.020Z"
   },
   {
    "duration": 20,
    "start_time": "2022-11-17T09:31:54.051Z"
   },
   {
    "duration": 20,
    "start_time": "2022-11-17T09:31:54.097Z"
   },
   {
    "duration": 4,
    "start_time": "2022-11-17T09:31:54.121Z"
   },
   {
    "duration": 31,
    "start_time": "2022-11-17T09:31:54.127Z"
   },
   {
    "duration": 54,
    "start_time": "2022-11-17T09:31:54.160Z"
   },
   {
    "duration": 131,
    "start_time": "2022-11-17T09:31:54.215Z"
   },
   {
    "duration": 108,
    "start_time": "2022-11-17T09:31:54.347Z"
   },
   {
    "duration": 6,
    "start_time": "2022-11-17T09:31:54.457Z"
   },
   {
    "duration": 12,
    "start_time": "2022-11-17T09:31:54.464Z"
   },
   {
    "duration": 421,
    "start_time": "2022-11-17T09:31:54.477Z"
   },
   {
    "duration": 17,
    "start_time": "2022-11-17T09:31:54.900Z"
   },
   {
    "duration": 405,
    "start_time": "2022-11-17T09:31:54.919Z"
   },
   {
    "duration": 124,
    "start_time": "2022-11-17T09:31:55.325Z"
   },
   {
    "duration": 12,
    "start_time": "2022-11-17T09:31:55.451Z"
   },
   {
    "duration": 12,
    "start_time": "2022-11-17T09:31:55.464Z"
   },
   {
    "duration": 7,
    "start_time": "2022-11-17T09:31:55.478Z"
   },
   {
    "duration": 806,
    "start_time": "2022-11-17T09:31:55.486Z"
   },
   {
    "duration": 292,
    "start_time": "2022-11-17T09:31:56.293Z"
   },
   {
    "duration": 175,
    "start_time": "2022-11-17T09:31:56.587Z"
   },
   {
    "duration": 265,
    "start_time": "2022-11-17T09:31:56.764Z"
   },
   {
    "duration": 3,
    "start_time": "2022-11-17T09:31:57.031Z"
   },
   {
    "duration": 129,
    "start_time": "2022-11-17T09:31:57.035Z"
   },
   {
    "duration": 48,
    "start_time": "2022-11-17T09:31:57.166Z"
   },
   {
    "duration": 21,
    "start_time": "2022-11-17T09:31:57.216Z"
   },
   {
    "duration": 23,
    "start_time": "2022-11-17T09:31:57.239Z"
   },
   {
    "duration": 34,
    "start_time": "2022-11-17T09:31:57.264Z"
   },
   {
    "duration": 26,
    "start_time": "2022-11-17T09:31:57.300Z"
   },
   {
    "duration": 15,
    "start_time": "2022-11-17T09:31:57.328Z"
   },
   {
    "duration": 13,
    "start_time": "2022-11-17T09:31:57.345Z"
   },
   {
    "duration": 45,
    "start_time": "2022-11-17T09:31:57.360Z"
   },
   {
    "duration": 11,
    "start_time": "2022-11-17T09:31:57.407Z"
   },
   {
    "duration": 9,
    "start_time": "2022-11-17T09:31:57.420Z"
   },
   {
    "duration": 29,
    "start_time": "2022-11-17T09:31:57.431Z"
   },
   {
    "duration": 41,
    "start_time": "2022-11-17T09:31:57.462Z"
   },
   {
    "duration": 25,
    "start_time": "2022-11-17T09:31:57.505Z"
   },
   {
    "duration": 15,
    "start_time": "2022-11-17T09:31:57.532Z"
   },
   {
    "duration": 13,
    "start_time": "2022-11-17T09:31:57.548Z"
   },
   {
    "duration": 39,
    "start_time": "2022-11-17T09:31:57.563Z"
   },
   {
    "duration": 11,
    "start_time": "2022-11-17T09:31:57.604Z"
   },
   {
    "duration": 21,
    "start_time": "2022-11-17T09:31:57.616Z"
   },
   {
    "duration": 15,
    "start_time": "2022-11-17T09:31:57.638Z"
   },
   {
    "duration": 58,
    "start_time": "2022-11-17T09:31:57.654Z"
   },
   {
    "duration": 7,
    "start_time": "2022-11-17T09:31:57.713Z"
   },
   {
    "duration": 14,
    "start_time": "2022-11-17T09:31:57.722Z"
   },
   {
    "duration": 16,
    "start_time": "2022-11-17T09:31:57.738Z"
   },
   {
    "duration": 19,
    "start_time": "2022-11-17T09:31:57.755Z"
   },
   {
    "duration": 39,
    "start_time": "2022-11-17T09:31:57.775Z"
   },
   {
    "duration": 18,
    "start_time": "2022-11-17T09:31:57.815Z"
   },
   {
    "duration": 6,
    "start_time": "2022-11-17T09:31:57.834Z"
   },
   {
    "duration": 10,
    "start_time": "2022-11-17T09:31:57.841Z"
   },
   {
    "duration": 7,
    "start_time": "2022-11-17T09:31:57.852Z"
   },
   {
    "duration": 8,
    "start_time": "2022-11-17T09:31:57.860Z"
   },
   {
    "duration": 38,
    "start_time": "2022-11-17T09:31:57.869Z"
   },
   {
    "duration": 13,
    "start_time": "2022-11-17T09:31:57.910Z"
   },
   {
    "duration": 20,
    "start_time": "2022-11-17T09:31:57.925Z"
   },
   {
    "duration": 10,
    "start_time": "2022-11-17T09:31:57.947Z"
   }
  ],
  "kernelspec": {
   "display_name": "Python 3 (ipykernel)",
   "language": "python",
   "name": "python3"
  },
  "language_info": {
   "codemirror_mode": {
    "name": "ipython",
    "version": 3
   },
   "file_extension": ".py",
   "mimetype": "text/x-python",
   "name": "python",
   "nbconvert_exporter": "python",
   "pygments_lexer": "ipython3",
   "version": "3.9.12"
  },
  "toc": {
   "base_numbering": 1,
   "nav_menu": {},
   "number_sections": true,
   "sideBar": true,
   "skip_h1_title": true,
   "title_cell": "Table of Contents",
   "title_sidebar": "Contents",
   "toc_cell": false,
   "toc_position": {},
   "toc_section_display": true,
   "toc_window_display": false
  }
 },
 "nbformat": 4,
 "nbformat_minor": 2
}
