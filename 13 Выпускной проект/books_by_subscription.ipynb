{
 "cells": [
  {
   "cell_type": "markdown",
   "metadata": {},
   "source": [
    "# SQL\n",
    "\n",
    "Коронавирус застал мир врасплох, изменив привычный порядок вещей. В свободное время жители городов больше не выходят на улицу, не посещают кафе и торговые центры. Зато стало больше времени для книг. Это заметили стартаперы — и бросились создавать приложения для тех, кто любит читать.\n",
    "\n",
    "Ваша компания решила быть на волне и купила крупный сервис для чтения книг по подписке. Ваша первая задача как аналитика — проанализировать базу данных.\n",
    "В ней — информация о книгах, издательствах, авторах, а также пользовательские обзоры книг. Эти данные помогут сформулировать ценностное предложение для нового продукта.\n",
    "\n",
    "### Описание данных\n",
    "\n",
    "**Таблица `books`**\n",
    "\n",
    "Содержит данные о книгах:\n",
    "\n",
    "- `book_id` — идентификатор книги;\n",
    "- `author_id` — идентификатор автора;\n",
    "- `title` — название книги;\n",
    "- `num_pages` — количество страниц;\n",
    "- `publication_date` — дата публикации книги;\n",
    "- `publisher_id` — идентификатор издателя.\n",
    "\n",
    "**Таблица `authors`**\n",
    "\n",
    "Содержит данные об авторах:\n",
    "\n",
    "- `author_id` — идентификатор автора;\n",
    "- `author` — имя автора.\n",
    "\n",
    "**Таблица `publishers`**\n",
    "\n",
    "Содержит данные об издательствах:\n",
    "\n",
    "- `publisher_id` — идентификатор издательства;\n",
    "- `publisher` — название издательства;\n",
    "\n",
    "**Таблица `ratings`**\n",
    "\n",
    "Содержит данные о пользовательских оценках книг:\n",
    "\n",
    "- `rating_id` — идентификатор оценки;\n",
    "- `book_id` — идентификатор книги;\n",
    "- `username` — имя пользователя, оставившего оценку;\n",
    "- `rating` — оценка книги.\n",
    "\n",
    "**Таблица `reviews`**\n",
    "\n",
    "Содержит данные о пользовательских обзорах на книги:\n",
    "\n",
    "- `review_id` — идентификатор обзора;\n",
    "- `book_id` — идентификатор книги;\n",
    "- `username` — имя пользователя, написавшего обзор;\n",
    "- `text` — текст обзора.\n",
    "\n",
    "\n",
    "![https://s3-us-west-2.amazonaws.com/secure.notion-static.com/069818d1-0e5c-4d87-a461-0de584ab9c33/Untitled_(33).png](https://s3-us-west-2.amazonaws.com/secure.notion-static.com/069818d1-0e5c-4d87-a461-0de584ab9c33/Untitled_(33).png)\n",
    "\n",
    "\n",
    "### Задания\n",
    "\n",
    "- Посчитайте, сколько книг вышло после 1 января 2000 года;\n",
    "- Для каждой книги посчитайте количество обзоров и среднюю оценку;\n",
    "- Определите издательство, которое выпустило наибольшее число книг толще 50 страниц — так вы исключите из анализа брошюры;\n",
    "- Определите автора с самой высокой средней оценкой книг — учитывайте только книги с 50 и более оценками;\n",
    "- Посчитайте среднее количество обзоров от пользователей, которые поставили больше 50 оценок."
   ]
  },
  {
   "cell_type": "code",
   "execution_count": 1,
   "metadata": {},
   "outputs": [
    {
     "name": "stdout",
     "output_type": "stream",
     "text": [
      "Requirement already satisfied: psycopg2 in c:\\users\\vv77\\anaconda3\\lib\\site-packages (2.9.5)\n"
     ]
    }
   ],
   "source": [
    "# импортируем библиотеки\n",
    "import pandas as pd \n",
    "from sqlalchemy import create_engine \n",
    "!pip install psycopg2"
   ]
  },
  {
   "cell_type": "code",
   "execution_count": 2,
   "metadata": {},
   "outputs": [],
   "source": [
    "# устанавливаем параметры\n",
    "db_config = {'user': 'praktikum_student', # имя пользователя\n",
    "'pwd': 'Sdf4$2;d-d30pp', # пароль\n",
    "'host': 'rc1b-wcoijxj3yxfsf3fs.mdb.yandexcloud.net', \n",
    "'port': 6432, # порт подключения\n",
    "'db': 'data-analyst-final-project-db'} # название базы данных\n",
    "connection_string = 'postgresql://{}:{}@{}:{}/{}'.format(db_config['user'], \n",
    " db_config['pwd'], \n",
    " db_config['host'], \n",
    " db_config['port'], \n",
    " db_config['db']) \n",
    "# сохраняем коннектор\n",
    "engine = create_engine(connection_string, connect_args={'sslmode':'require'})"
   ]
  },
  {
   "cell_type": "code",
   "execution_count": 3,
   "metadata": {},
   "outputs": [],
   "source": [
    "books = pd.read_sql_table('books', engine)\n",
    "authors = pd.read_sql_table('authors', engine)\n",
    "publishers = pd.read_sql_table('publishers', engine)\n",
    "ratings = pd.read_sql_table('ratings', engine)\n",
    "reviews = pd.read_sql_table('reviews', engine)\n"
   ]
  },
  {
   "cell_type": "markdown",
   "metadata": {},
   "source": [
    "Напишем функцию для проверки данных"
   ]
  },
  {
   "cell_type": "code",
   "execution_count": 4,
   "metadata": {},
   "outputs": [],
   "source": [
    "def data_verification(df):\n",
    "    print('\\nПосмотрим первые 5 строк таблицы')\n",
    "    display(df.head())\n",
    "    print(f'\\nИмеем таблицу данных размерностью {df.shape}\\n')\n",
    "    print('\\nОбщая информация о таблице\\n')\n",
    "    df.info()\n",
    "    print('\\nПроверим наличие дубликатов\\n')\n",
    "    df.duplicated().sum()\n",
    "    print('\\nПроверим наличие пропусков\\n')\n",
    "    df.isna().sum()"
   ]
  },
  {
   "cell_type": "markdown",
   "metadata": {},
   "source": [
    "***Посмотрим датафреймы из базы данных с которыми мы будем работать***"
   ]
  },
  {
   "cell_type": "markdown",
   "metadata": {},
   "source": [
    "***books***"
   ]
  },
  {
   "cell_type": "code",
   "execution_count": 5,
   "metadata": {},
   "outputs": [
    {
     "name": "stdout",
     "output_type": "stream",
     "text": [
      "\n",
      "Посмотрим первые 5 строк таблицы\n"
     ]
    },
    {
     "data": {
      "text/html": [
       "<div>\n",
       "<style scoped>\n",
       "    .dataframe tbody tr th:only-of-type {\n",
       "        vertical-align: middle;\n",
       "    }\n",
       "\n",
       "    .dataframe tbody tr th {\n",
       "        vertical-align: top;\n",
       "    }\n",
       "\n",
       "    .dataframe thead th {\n",
       "        text-align: right;\n",
       "    }\n",
       "</style>\n",
       "<table border=\"1\" class=\"dataframe\">\n",
       "  <thead>\n",
       "    <tr style=\"text-align: right;\">\n",
       "      <th></th>\n",
       "      <th>book_id</th>\n",
       "      <th>author_id</th>\n",
       "      <th>title</th>\n",
       "      <th>num_pages</th>\n",
       "      <th>publication_date</th>\n",
       "      <th>publisher_id</th>\n",
       "    </tr>\n",
       "  </thead>\n",
       "  <tbody>\n",
       "    <tr>\n",
       "      <th>0</th>\n",
       "      <td>1</td>\n",
       "      <td>546</td>\n",
       "      <td>'Salem's Lot</td>\n",
       "      <td>594</td>\n",
       "      <td>2005-11-01</td>\n",
       "      <td>93</td>\n",
       "    </tr>\n",
       "    <tr>\n",
       "      <th>1</th>\n",
       "      <td>2</td>\n",
       "      <td>465</td>\n",
       "      <td>1 000 Places to See Before You Die</td>\n",
       "      <td>992</td>\n",
       "      <td>2003-05-22</td>\n",
       "      <td>336</td>\n",
       "    </tr>\n",
       "    <tr>\n",
       "      <th>2</th>\n",
       "      <td>3</td>\n",
       "      <td>407</td>\n",
       "      <td>13 Little Blue Envelopes (Little Blue Envelope...</td>\n",
       "      <td>322</td>\n",
       "      <td>2010-12-21</td>\n",
       "      <td>135</td>\n",
       "    </tr>\n",
       "    <tr>\n",
       "      <th>3</th>\n",
       "      <td>4</td>\n",
       "      <td>82</td>\n",
       "      <td>1491: New Revelations of the Americas Before C...</td>\n",
       "      <td>541</td>\n",
       "      <td>2006-10-10</td>\n",
       "      <td>309</td>\n",
       "    </tr>\n",
       "    <tr>\n",
       "      <th>4</th>\n",
       "      <td>5</td>\n",
       "      <td>125</td>\n",
       "      <td>1776</td>\n",
       "      <td>386</td>\n",
       "      <td>2006-07-04</td>\n",
       "      <td>268</td>\n",
       "    </tr>\n",
       "  </tbody>\n",
       "</table>\n",
       "</div>"
      ],
      "text/plain": [
       "   book_id  author_id                                              title  \\\n",
       "0        1        546                                       'Salem's Lot   \n",
       "1        2        465                 1 000 Places to See Before You Die   \n",
       "2        3        407  13 Little Blue Envelopes (Little Blue Envelope...   \n",
       "3        4         82  1491: New Revelations of the Americas Before C...   \n",
       "4        5        125                                               1776   \n",
       "\n",
       "   num_pages publication_date  publisher_id  \n",
       "0        594       2005-11-01            93  \n",
       "1        992       2003-05-22           336  \n",
       "2        322       2010-12-21           135  \n",
       "3        541       2006-10-10           309  \n",
       "4        386       2006-07-04           268  "
      ]
     },
     "metadata": {},
     "output_type": "display_data"
    },
    {
     "name": "stdout",
     "output_type": "stream",
     "text": [
      "\n",
      "Имеем таблицу данных размерностью (1000, 6)\n",
      "\n",
      "\n",
      "Общая информация о таблице\n",
      "\n",
      "<class 'pandas.core.frame.DataFrame'>\n",
      "RangeIndex: 1000 entries, 0 to 999\n",
      "Data columns (total 6 columns):\n",
      " #   Column            Non-Null Count  Dtype         \n",
      "---  ------            --------------  -----         \n",
      " 0   book_id           1000 non-null   int64         \n",
      " 1   author_id         1000 non-null   int64         \n",
      " 2   title             1000 non-null   object        \n",
      " 3   num_pages         1000 non-null   int64         \n",
      " 4   publication_date  1000 non-null   datetime64[ns]\n",
      " 5   publisher_id      1000 non-null   int64         \n",
      "dtypes: datetime64[ns](1), int64(4), object(1)\n",
      "memory usage: 47.0+ KB\n",
      "\n",
      "Проверим наличие дубликатов\n",
      "\n",
      "\n",
      "Проверим наличие пропусков\n",
      "\n"
     ]
    }
   ],
   "source": [
    "data_verification(books)"
   ]
  },
  {
   "cell_type": "markdown",
   "metadata": {},
   "source": [
    "***Пропусков и дубликатов нет***"
   ]
  },
  {
   "cell_type": "markdown",
   "metadata": {},
   "source": [
    "***authors***"
   ]
  },
  {
   "cell_type": "code",
   "execution_count": 6,
   "metadata": {},
   "outputs": [
    {
     "name": "stdout",
     "output_type": "stream",
     "text": [
      "\n",
      "Посмотрим первые 5 строк таблицы\n"
     ]
    },
    {
     "data": {
      "text/html": [
       "<div>\n",
       "<style scoped>\n",
       "    .dataframe tbody tr th:only-of-type {\n",
       "        vertical-align: middle;\n",
       "    }\n",
       "\n",
       "    .dataframe tbody tr th {\n",
       "        vertical-align: top;\n",
       "    }\n",
       "\n",
       "    .dataframe thead th {\n",
       "        text-align: right;\n",
       "    }\n",
       "</style>\n",
       "<table border=\"1\" class=\"dataframe\">\n",
       "  <thead>\n",
       "    <tr style=\"text-align: right;\">\n",
       "      <th></th>\n",
       "      <th>author_id</th>\n",
       "      <th>author</th>\n",
       "    </tr>\n",
       "  </thead>\n",
       "  <tbody>\n",
       "    <tr>\n",
       "      <th>0</th>\n",
       "      <td>1</td>\n",
       "      <td>A.S. Byatt</td>\n",
       "    </tr>\n",
       "    <tr>\n",
       "      <th>1</th>\n",
       "      <td>2</td>\n",
       "      <td>Aesop/Laura Harris/Laura Gibbs</td>\n",
       "    </tr>\n",
       "    <tr>\n",
       "      <th>2</th>\n",
       "      <td>3</td>\n",
       "      <td>Agatha Christie</td>\n",
       "    </tr>\n",
       "    <tr>\n",
       "      <th>3</th>\n",
       "      <td>4</td>\n",
       "      <td>Alan Brennert</td>\n",
       "    </tr>\n",
       "    <tr>\n",
       "      <th>4</th>\n",
       "      <td>5</td>\n",
       "      <td>Alan Moore/David   Lloyd</td>\n",
       "    </tr>\n",
       "  </tbody>\n",
       "</table>\n",
       "</div>"
      ],
      "text/plain": [
       "   author_id                          author\n",
       "0          1                      A.S. Byatt\n",
       "1          2  Aesop/Laura Harris/Laura Gibbs\n",
       "2          3                 Agatha Christie\n",
       "3          4                   Alan Brennert\n",
       "4          5        Alan Moore/David   Lloyd"
      ]
     },
     "metadata": {},
     "output_type": "display_data"
    },
    {
     "name": "stdout",
     "output_type": "stream",
     "text": [
      "\n",
      "Имеем таблицу данных размерностью (636, 2)\n",
      "\n",
      "\n",
      "Общая информация о таблице\n",
      "\n",
      "<class 'pandas.core.frame.DataFrame'>\n",
      "RangeIndex: 636 entries, 0 to 635\n",
      "Data columns (total 2 columns):\n",
      " #   Column     Non-Null Count  Dtype \n",
      "---  ------     --------------  ----- \n",
      " 0   author_id  636 non-null    int64 \n",
      " 1   author     636 non-null    object\n",
      "dtypes: int64(1), object(1)\n",
      "memory usage: 10.1+ KB\n",
      "\n",
      "Проверим наличие дубликатов\n",
      "\n",
      "\n",
      "Проверим наличие пропусков\n",
      "\n"
     ]
    }
   ],
   "source": [
    "data_verification(authors)"
   ]
  },
  {
   "cell_type": "markdown",
   "metadata": {},
   "source": [
    "***Пропусков и дубликатов нет.***"
   ]
  },
  {
   "cell_type": "markdown",
   "metadata": {},
   "source": [
    "***publishers***"
   ]
  },
  {
   "cell_type": "code",
   "execution_count": 7,
   "metadata": {},
   "outputs": [
    {
     "name": "stdout",
     "output_type": "stream",
     "text": [
      "\n",
      "Посмотрим первые 5 строк таблицы\n"
     ]
    },
    {
     "data": {
      "text/html": [
       "<div>\n",
       "<style scoped>\n",
       "    .dataframe tbody tr th:only-of-type {\n",
       "        vertical-align: middle;\n",
       "    }\n",
       "\n",
       "    .dataframe tbody tr th {\n",
       "        vertical-align: top;\n",
       "    }\n",
       "\n",
       "    .dataframe thead th {\n",
       "        text-align: right;\n",
       "    }\n",
       "</style>\n",
       "<table border=\"1\" class=\"dataframe\">\n",
       "  <thead>\n",
       "    <tr style=\"text-align: right;\">\n",
       "      <th></th>\n",
       "      <th>publisher_id</th>\n",
       "      <th>publisher</th>\n",
       "    </tr>\n",
       "  </thead>\n",
       "  <tbody>\n",
       "    <tr>\n",
       "      <th>0</th>\n",
       "      <td>1</td>\n",
       "      <td>Ace</td>\n",
       "    </tr>\n",
       "    <tr>\n",
       "      <th>1</th>\n",
       "      <td>2</td>\n",
       "      <td>Ace Book</td>\n",
       "    </tr>\n",
       "    <tr>\n",
       "      <th>2</th>\n",
       "      <td>3</td>\n",
       "      <td>Ace Books</td>\n",
       "    </tr>\n",
       "    <tr>\n",
       "      <th>3</th>\n",
       "      <td>4</td>\n",
       "      <td>Ace Hardcover</td>\n",
       "    </tr>\n",
       "    <tr>\n",
       "      <th>4</th>\n",
       "      <td>5</td>\n",
       "      <td>Addison Wesley Publishing Company</td>\n",
       "    </tr>\n",
       "  </tbody>\n",
       "</table>\n",
       "</div>"
      ],
      "text/plain": [
       "   publisher_id                          publisher\n",
       "0             1                                Ace\n",
       "1             2                           Ace Book\n",
       "2             3                          Ace Books\n",
       "3             4                      Ace Hardcover\n",
       "4             5  Addison Wesley Publishing Company"
      ]
     },
     "metadata": {},
     "output_type": "display_data"
    },
    {
     "name": "stdout",
     "output_type": "stream",
     "text": [
      "\n",
      "Имеем таблицу данных размерностью (340, 2)\n",
      "\n",
      "\n",
      "Общая информация о таблице\n",
      "\n",
      "<class 'pandas.core.frame.DataFrame'>\n",
      "RangeIndex: 340 entries, 0 to 339\n",
      "Data columns (total 2 columns):\n",
      " #   Column        Non-Null Count  Dtype \n",
      "---  ------        --------------  ----- \n",
      " 0   publisher_id  340 non-null    int64 \n",
      " 1   publisher     340 non-null    object\n",
      "dtypes: int64(1), object(1)\n",
      "memory usage: 5.4+ KB\n",
      "\n",
      "Проверим наличие дубликатов\n",
      "\n",
      "\n",
      "Проверим наличие пропусков\n",
      "\n"
     ]
    }
   ],
   "source": [
    "data_verification(publishers)"
   ]
  },
  {
   "cell_type": "markdown",
   "metadata": {},
   "source": [
    "***Пропусков и дубликатов нет***"
   ]
  },
  {
   "cell_type": "markdown",
   "metadata": {},
   "source": [
    "***ratings***"
   ]
  },
  {
   "cell_type": "code",
   "execution_count": 8,
   "metadata": {},
   "outputs": [
    {
     "name": "stdout",
     "output_type": "stream",
     "text": [
      "\n",
      "Посмотрим первые 5 строк таблицы\n"
     ]
    },
    {
     "data": {
      "text/html": [
       "<div>\n",
       "<style scoped>\n",
       "    .dataframe tbody tr th:only-of-type {\n",
       "        vertical-align: middle;\n",
       "    }\n",
       "\n",
       "    .dataframe tbody tr th {\n",
       "        vertical-align: top;\n",
       "    }\n",
       "\n",
       "    .dataframe thead th {\n",
       "        text-align: right;\n",
       "    }\n",
       "</style>\n",
       "<table border=\"1\" class=\"dataframe\">\n",
       "  <thead>\n",
       "    <tr style=\"text-align: right;\">\n",
       "      <th></th>\n",
       "      <th>rating_id</th>\n",
       "      <th>book_id</th>\n",
       "      <th>username</th>\n",
       "      <th>rating</th>\n",
       "    </tr>\n",
       "  </thead>\n",
       "  <tbody>\n",
       "    <tr>\n",
       "      <th>0</th>\n",
       "      <td>1</td>\n",
       "      <td>1</td>\n",
       "      <td>ryanfranco</td>\n",
       "      <td>4</td>\n",
       "    </tr>\n",
       "    <tr>\n",
       "      <th>1</th>\n",
       "      <td>2</td>\n",
       "      <td>1</td>\n",
       "      <td>grantpatricia</td>\n",
       "      <td>2</td>\n",
       "    </tr>\n",
       "    <tr>\n",
       "      <th>2</th>\n",
       "      <td>3</td>\n",
       "      <td>1</td>\n",
       "      <td>brandtandrea</td>\n",
       "      <td>5</td>\n",
       "    </tr>\n",
       "    <tr>\n",
       "      <th>3</th>\n",
       "      <td>4</td>\n",
       "      <td>2</td>\n",
       "      <td>lorichen</td>\n",
       "      <td>3</td>\n",
       "    </tr>\n",
       "    <tr>\n",
       "      <th>4</th>\n",
       "      <td>5</td>\n",
       "      <td>2</td>\n",
       "      <td>mariokeller</td>\n",
       "      <td>2</td>\n",
       "    </tr>\n",
       "  </tbody>\n",
       "</table>\n",
       "</div>"
      ],
      "text/plain": [
       "   rating_id  book_id       username  rating\n",
       "0          1        1     ryanfranco       4\n",
       "1          2        1  grantpatricia       2\n",
       "2          3        1   brandtandrea       5\n",
       "3          4        2       lorichen       3\n",
       "4          5        2    mariokeller       2"
      ]
     },
     "metadata": {},
     "output_type": "display_data"
    },
    {
     "name": "stdout",
     "output_type": "stream",
     "text": [
      "\n",
      "Имеем таблицу данных размерностью (6456, 4)\n",
      "\n",
      "\n",
      "Общая информация о таблице\n",
      "\n",
      "<class 'pandas.core.frame.DataFrame'>\n",
      "RangeIndex: 6456 entries, 0 to 6455\n",
      "Data columns (total 4 columns):\n",
      " #   Column     Non-Null Count  Dtype \n",
      "---  ------     --------------  ----- \n",
      " 0   rating_id  6456 non-null   int64 \n",
      " 1   book_id    6456 non-null   int64 \n",
      " 2   username   6456 non-null   object\n",
      " 3   rating     6456 non-null   int64 \n",
      "dtypes: int64(3), object(1)\n",
      "memory usage: 201.9+ KB\n",
      "\n",
      "Проверим наличие дубликатов\n",
      "\n",
      "\n",
      "Проверим наличие пропусков\n",
      "\n"
     ]
    }
   ],
   "source": [
    "data_verification(ratings)"
   ]
  },
  {
   "cell_type": "markdown",
   "metadata": {},
   "source": [
    "***Пропусков и дубликатов нет***"
   ]
  },
  {
   "cell_type": "markdown",
   "metadata": {},
   "source": [
    "***reviews***"
   ]
  },
  {
   "cell_type": "code",
   "execution_count": 9,
   "metadata": {},
   "outputs": [
    {
     "name": "stdout",
     "output_type": "stream",
     "text": [
      "\n",
      "Посмотрим первые 5 строк таблицы\n"
     ]
    },
    {
     "data": {
      "text/html": [
       "<div>\n",
       "<style scoped>\n",
       "    .dataframe tbody tr th:only-of-type {\n",
       "        vertical-align: middle;\n",
       "    }\n",
       "\n",
       "    .dataframe tbody tr th {\n",
       "        vertical-align: top;\n",
       "    }\n",
       "\n",
       "    .dataframe thead th {\n",
       "        text-align: right;\n",
       "    }\n",
       "</style>\n",
       "<table border=\"1\" class=\"dataframe\">\n",
       "  <thead>\n",
       "    <tr style=\"text-align: right;\">\n",
       "      <th></th>\n",
       "      <th>review_id</th>\n",
       "      <th>book_id</th>\n",
       "      <th>username</th>\n",
       "      <th>text</th>\n",
       "    </tr>\n",
       "  </thead>\n",
       "  <tbody>\n",
       "    <tr>\n",
       "      <th>0</th>\n",
       "      <td>1</td>\n",
       "      <td>1</td>\n",
       "      <td>brandtandrea</td>\n",
       "      <td>Mention society tell send professor analysis. ...</td>\n",
       "    </tr>\n",
       "    <tr>\n",
       "      <th>1</th>\n",
       "      <td>2</td>\n",
       "      <td>1</td>\n",
       "      <td>ryanfranco</td>\n",
       "      <td>Foot glass pretty audience hit themselves. Amo...</td>\n",
       "    </tr>\n",
       "    <tr>\n",
       "      <th>2</th>\n",
       "      <td>3</td>\n",
       "      <td>2</td>\n",
       "      <td>lorichen</td>\n",
       "      <td>Listen treat keep worry. Miss husband tax but ...</td>\n",
       "    </tr>\n",
       "    <tr>\n",
       "      <th>3</th>\n",
       "      <td>4</td>\n",
       "      <td>3</td>\n",
       "      <td>johnsonamanda</td>\n",
       "      <td>Finally month interesting blue could nature cu...</td>\n",
       "    </tr>\n",
       "    <tr>\n",
       "      <th>4</th>\n",
       "      <td>5</td>\n",
       "      <td>3</td>\n",
       "      <td>scotttamara</td>\n",
       "      <td>Nation purpose heavy give wait song will. List...</td>\n",
       "    </tr>\n",
       "  </tbody>\n",
       "</table>\n",
       "</div>"
      ],
      "text/plain": [
       "   review_id  book_id       username  \\\n",
       "0          1        1   brandtandrea   \n",
       "1          2        1     ryanfranco   \n",
       "2          3        2       lorichen   \n",
       "3          4        3  johnsonamanda   \n",
       "4          5        3    scotttamara   \n",
       "\n",
       "                                                text  \n",
       "0  Mention society tell send professor analysis. ...  \n",
       "1  Foot glass pretty audience hit themselves. Amo...  \n",
       "2  Listen treat keep worry. Miss husband tax but ...  \n",
       "3  Finally month interesting blue could nature cu...  \n",
       "4  Nation purpose heavy give wait song will. List...  "
      ]
     },
     "metadata": {},
     "output_type": "display_data"
    },
    {
     "name": "stdout",
     "output_type": "stream",
     "text": [
      "\n",
      "Имеем таблицу данных размерностью (2793, 4)\n",
      "\n",
      "\n",
      "Общая информация о таблице\n",
      "\n",
      "<class 'pandas.core.frame.DataFrame'>\n",
      "RangeIndex: 2793 entries, 0 to 2792\n",
      "Data columns (total 4 columns):\n",
      " #   Column     Non-Null Count  Dtype \n",
      "---  ------     --------------  ----- \n",
      " 0   review_id  2793 non-null   int64 \n",
      " 1   book_id    2793 non-null   int64 \n",
      " 2   username   2793 non-null   object\n",
      " 3   text       2793 non-null   object\n",
      "dtypes: int64(2), object(2)\n",
      "memory usage: 87.4+ KB\n",
      "\n",
      "Проверим наличие дубликатов\n",
      "\n",
      "\n",
      "Проверим наличие пропусков\n",
      "\n"
     ]
    }
   ],
   "source": [
    "data_verification(reviews)"
   ]
  },
  {
   "cell_type": "markdown",
   "metadata": {},
   "source": [
    "***Пропусков и дубликатов нет***"
   ]
  },
  {
   "cell_type": "markdown",
   "metadata": {},
   "source": [
    "***Вывод***\n",
    "\n",
    "Имеем пять датафреймов.\n",
    "\n",
    "Пропусков нет.\n",
    "\n",
    "Дубликатов нет.\n",
    "\n",
    "Изменение типа данных не требуется.\n",
    "\n",
    "Можно приступать к дальнейшему анализу."
   ]
  },
  {
   "cell_type": "markdown",
   "metadata": {},
   "source": [
    "# 1. Посчитайте, сколько книг вышло после 1 января 2000 года;"
   ]
  },
  {
   "cell_type": "code",
   "execution_count": 10,
   "metadata": {},
   "outputs": [
    {
     "data": {
      "text/html": [
       "<div>\n",
       "<style scoped>\n",
       "    .dataframe tbody tr th:only-of-type {\n",
       "        vertical-align: middle;\n",
       "    }\n",
       "\n",
       "    .dataframe tbody tr th {\n",
       "        vertical-align: top;\n",
       "    }\n",
       "\n",
       "    .dataframe thead th {\n",
       "        text-align: right;\n",
       "    }\n",
       "</style>\n",
       "<table border=\"1\" class=\"dataframe\">\n",
       "  <thead>\n",
       "    <tr style=\"text-align: right;\">\n",
       "      <th></th>\n",
       "      <th>count</th>\n",
       "    </tr>\n",
       "  </thead>\n",
       "  <tbody>\n",
       "    <tr>\n",
       "      <th>0</th>\n",
       "      <td>818</td>\n",
       "    </tr>\n",
       "  </tbody>\n",
       "</table>\n",
       "</div>"
      ],
      "text/plain": [
       "   count\n",
       "0    818"
      ]
     },
     "execution_count": 10,
     "metadata": {},
     "output_type": "execute_result"
    }
   ],
   "source": [
    "query = \"SELECT COUNT(DISTINCT title) FROM books WHERE publication_date>'2000-01-01';\"\n",
    "pd.io.sql.read_sql(query, con = engine) "
   ]
  },
  {
   "cell_type": "markdown",
   "metadata": {},
   "source": [
    "***Вывод***\n",
    "\n",
    "После `1 января 2000 года` вышло `818 книг`"
   ]
  },
  {
   "cell_type": "markdown",
   "metadata": {},
   "source": [
    "# 2. Для каждой книги посчитайте количество обзоров и среднюю оценку;"
   ]
  },
  {
   "cell_type": "code",
   "execution_count": 11,
   "metadata": {
    "scrolled": false
   },
   "outputs": [
    {
     "data": {
      "text/html": [
       "<div>\n",
       "<style scoped>\n",
       "    .dataframe tbody tr th:only-of-type {\n",
       "        vertical-align: middle;\n",
       "    }\n",
       "\n",
       "    .dataframe tbody tr th {\n",
       "        vertical-align: top;\n",
       "    }\n",
       "\n",
       "    .dataframe thead th {\n",
       "        text-align: right;\n",
       "    }\n",
       "</style>\n",
       "<table border=\"1\" class=\"dataframe\">\n",
       "  <thead>\n",
       "    <tr style=\"text-align: right;\">\n",
       "      <th></th>\n",
       "      <th>title</th>\n",
       "      <th>count_review</th>\n",
       "      <th>mean_rating</th>\n",
       "    </tr>\n",
       "  </thead>\n",
       "  <tbody>\n",
       "    <tr>\n",
       "      <th>0</th>\n",
       "      <td>Memoirs of a Geisha</td>\n",
       "      <td>8</td>\n",
       "      <td>4.138462</td>\n",
       "    </tr>\n",
       "    <tr>\n",
       "      <th>1</th>\n",
       "      <td>Twilight (Twilight  #1)</td>\n",
       "      <td>7</td>\n",
       "      <td>3.662500</td>\n",
       "    </tr>\n",
       "    <tr>\n",
       "      <th>2</th>\n",
       "      <td>Harry Potter and the Chamber of Secrets (Harry...</td>\n",
       "      <td>6</td>\n",
       "      <td>4.287500</td>\n",
       "    </tr>\n",
       "    <tr>\n",
       "      <th>3</th>\n",
       "      <td>The Glass Castle</td>\n",
       "      <td>6</td>\n",
       "      <td>4.206897</td>\n",
       "    </tr>\n",
       "    <tr>\n",
       "      <th>4</th>\n",
       "      <td>Eat  Pray  Love</td>\n",
       "      <td>6</td>\n",
       "      <td>3.395833</td>\n",
       "    </tr>\n",
       "    <tr>\n",
       "      <th>...</th>\n",
       "      <td>...</td>\n",
       "      <td>...</td>\n",
       "      <td>...</td>\n",
       "    </tr>\n",
       "    <tr>\n",
       "      <th>994</th>\n",
       "      <td>Anne Rice's The Vampire Lestat: A Graphic Novel</td>\n",
       "      <td>0</td>\n",
       "      <td>3.666667</td>\n",
       "    </tr>\n",
       "    <tr>\n",
       "      <th>995</th>\n",
       "      <td>The Natural Way to Draw</td>\n",
       "      <td>0</td>\n",
       "      <td>3.000000</td>\n",
       "    </tr>\n",
       "    <tr>\n",
       "      <th>996</th>\n",
       "      <td>The Cat in the Hat and Other Dr. Seuss Favorites</td>\n",
       "      <td>0</td>\n",
       "      <td>5.000000</td>\n",
       "    </tr>\n",
       "    <tr>\n",
       "      <th>997</th>\n",
       "      <td>Essential Tales and Poems</td>\n",
       "      <td>0</td>\n",
       "      <td>4.000000</td>\n",
       "    </tr>\n",
       "    <tr>\n",
       "      <th>998</th>\n",
       "      <td>Disney's Beauty and the Beast (A Little Golden...</td>\n",
       "      <td>0</td>\n",
       "      <td>4.000000</td>\n",
       "    </tr>\n",
       "  </tbody>\n",
       "</table>\n",
       "<p>999 rows × 3 columns</p>\n",
       "</div>"
      ],
      "text/plain": [
       "                                                 title  count_review  \\\n",
       "0                                  Memoirs of a Geisha             8   \n",
       "1                              Twilight (Twilight  #1)             7   \n",
       "2    Harry Potter and the Chamber of Secrets (Harry...             6   \n",
       "3                                     The Glass Castle             6   \n",
       "4                                      Eat  Pray  Love             6   \n",
       "..                                                 ...           ...   \n",
       "994    Anne Rice's The Vampire Lestat: A Graphic Novel             0   \n",
       "995                            The Natural Way to Draw             0   \n",
       "996   The Cat in the Hat and Other Dr. Seuss Favorites             0   \n",
       "997                          Essential Tales and Poems             0   \n",
       "998  Disney's Beauty and the Beast (A Little Golden...             0   \n",
       "\n",
       "     mean_rating  \n",
       "0       4.138462  \n",
       "1       3.662500  \n",
       "2       4.287500  \n",
       "3       4.206897  \n",
       "4       3.395833  \n",
       "..           ...  \n",
       "994     3.666667  \n",
       "995     3.000000  \n",
       "996     5.000000  \n",
       "997     4.000000  \n",
       "998     4.000000  \n",
       "\n",
       "[999 rows x 3 columns]"
      ]
     },
     "execution_count": 11,
     "metadata": {},
     "output_type": "execute_result"
    }
   ],
   "source": [
    "query= \"\\\n",
    "    SELECT b.title,\\\n",
    "    COUNT(DISTINCT rev.review_id) as count_review, \\\n",
    "    AVG(rat.rating) as mean_rating \\\n",
    "    FROM books b \\\n",
    "    LEFT JOIN ratings rat ON b.book_id=rat.book_id \\\n",
    "    LEFT JOIN reviews rev ON b.book_id=rev.book_id \\\n",
    "    GROUP BY b.title \\\n",
    "    ORDER BY count_review DESC;\"\n",
    "pd.io.sql.read_sql(query, con = engine) "
   ]
  },
  {
   "cell_type": "markdown",
   "metadata": {},
   "source": [
    "***Вывод***\n",
    "\n",
    "Из сводной таблицы видим, что наличие большого количества отзывов далеко не всегда означает высокие рейтинги.\n",
    "\n",
    "Есть книги, которые имеют высокий рейтинг, но не имеют ни одного отзыва."
   ]
  },
  {
   "cell_type": "markdown",
   "metadata": {},
   "source": [
    "# 3. Определите издательство, которое выпустило наибольшее число книг толще 50 страниц — так вы исключите из анализа брошюры;"
   ]
  },
  {
   "cell_type": "code",
   "execution_count": 12,
   "metadata": {},
   "outputs": [
    {
     "data": {
      "text/html": [
       "<div>\n",
       "<style scoped>\n",
       "    .dataframe tbody tr th:only-of-type {\n",
       "        vertical-align: middle;\n",
       "    }\n",
       "\n",
       "    .dataframe tbody tr th {\n",
       "        vertical-align: top;\n",
       "    }\n",
       "\n",
       "    .dataframe thead th {\n",
       "        text-align: right;\n",
       "    }\n",
       "</style>\n",
       "<table border=\"1\" class=\"dataframe\">\n",
       "  <thead>\n",
       "    <tr style=\"text-align: right;\">\n",
       "      <th></th>\n",
       "      <th>publisher</th>\n",
       "      <th>count_books</th>\n",
       "    </tr>\n",
       "  </thead>\n",
       "  <tbody>\n",
       "    <tr>\n",
       "      <th>0</th>\n",
       "      <td>Penguin Books</td>\n",
       "      <td>42</td>\n",
       "    </tr>\n",
       "  </tbody>\n",
       "</table>\n",
       "</div>"
      ],
      "text/plain": [
       "       publisher  count_books\n",
       "0  Penguin Books           42"
      ]
     },
     "execution_count": 12,
     "metadata": {},
     "output_type": "execute_result"
    }
   ],
   "source": [
    "query= \"\\\n",
    "SELECT \\\n",
    "p.publisher, \\\n",
    "COUNT(b.title) as count_books \\\n",
    "FROM books b \\\n",
    "JOIN publishers p ON b.publisher_id=p.publisher_id \\\n",
    "WHERE num_pages>50 \\\n",
    "GROUP BY p.publisher \\\n",
    "ORDER BY count_books DESC \\\n",
    "LIMIT 1;\"\n",
    "pd.io.sql.read_sql(query, con = engine) "
   ]
  },
  {
   "cell_type": "markdown",
   "metadata": {},
   "source": [
    "***Вывод***\n",
    "\n",
    "Издательство `Penguin Books` выпустило больше всех книг, не считая брошюр (толще 50 страниц). \n",
    "\n",
    "Всего издательство `Penguin Books` выпустило `42 книги`."
   ]
  },
  {
   "cell_type": "markdown",
   "metadata": {},
   "source": [
    "# 4. Определите автора с самой высокой средней оценкой книг — учитывайте только книги с 50 и более оценками"
   ]
  },
  {
   "cell_type": "code",
   "execution_count": 13,
   "metadata": {},
   "outputs": [
    {
     "data": {
      "text/html": [
       "<div>\n",
       "<style scoped>\n",
       "    .dataframe tbody tr th:only-of-type {\n",
       "        vertical-align: middle;\n",
       "    }\n",
       "\n",
       "    .dataframe tbody tr th {\n",
       "        vertical-align: top;\n",
       "    }\n",
       "\n",
       "    .dataframe thead th {\n",
       "        text-align: right;\n",
       "    }\n",
       "</style>\n",
       "<table border=\"1\" class=\"dataframe\">\n",
       "  <thead>\n",
       "    <tr style=\"text-align: right;\">\n",
       "      <th></th>\n",
       "      <th>author</th>\n",
       "      <th>mean_rating</th>\n",
       "    </tr>\n",
       "  </thead>\n",
       "  <tbody>\n",
       "    <tr>\n",
       "      <th>0</th>\n",
       "      <td>J.K. Rowling/Mary GrandPré</td>\n",
       "      <td>4.283844</td>\n",
       "    </tr>\n",
       "  </tbody>\n",
       "</table>\n",
       "</div>"
      ],
      "text/plain": [
       "                       author  mean_rating\n",
       "0  J.K. Rowling/Mary GrandPré     4.283844"
      ]
     },
     "execution_count": 13,
     "metadata": {},
     "output_type": "execute_result"
    }
   ],
   "source": [
    "query= \"\\\n",
    "WITH best_author AS \\\n",
    "(SELECT \\\n",
    "r.book_id, \\\n",
    "AVG(r.rating) as mean_rating, \\\n",
    "COUNT(r.rating) as count_rating \\\n",
    "FROM ratings r \\\n",
    "GROUP BY r.book_id \\\n",
    "HAVING COUNT(r.rating) > 49) \\\n",
    "SELECT \\\n",
    "a.author, \\\n",
    "AVG(ba.mean_rating) as mean_rating \\\n",
    "FROM books b \\\n",
    "JOIN authors a ON b.author_id=a.author_id \\\n",
    "JOIN best_author ba ON b.book_id=ba.book_id \\\n",
    "GROUP BY a.author \\\n",
    "ORDER BY AVG(ba.mean_rating) DESC \\\n",
    "LIMIT 1;\"\n",
    "pd.io.sql.read_sql(query, con = engine) "
   ]
  },
  {
   "cell_type": "markdown",
   "metadata": {},
   "source": [
    "***Вывод***\n",
    "\n",
    "Самый высокая средняя оценка у `J.K. Rowling/Mary GrandPré`. В среднем ему ставят `4.41`"
   ]
  },
  {
   "cell_type": "markdown",
   "metadata": {},
   "source": [
    "# 5. Посчитайте среднее количество обзоров от пользователей, которые поставили больше 50 оценок"
   ]
  },
  {
   "cell_type": "code",
   "execution_count": 14,
   "metadata": {},
   "outputs": [
    {
     "data": {
      "text/html": [
       "<div>\n",
       "<style scoped>\n",
       "    .dataframe tbody tr th:only-of-type {\n",
       "        vertical-align: middle;\n",
       "    }\n",
       "\n",
       "    .dataframe tbody tr th {\n",
       "        vertical-align: top;\n",
       "    }\n",
       "\n",
       "    .dataframe thead th {\n",
       "        text-align: right;\n",
       "    }\n",
       "</style>\n",
       "<table border=\"1\" class=\"dataframe\">\n",
       "  <thead>\n",
       "    <tr style=\"text-align: right;\">\n",
       "      <th></th>\n",
       "      <th>mean_count_rev</th>\n",
       "    </tr>\n",
       "  </thead>\n",
       "  <tbody>\n",
       "    <tr>\n",
       "      <th>0</th>\n",
       "      <td>24.0</td>\n",
       "    </tr>\n",
       "  </tbody>\n",
       "</table>\n",
       "</div>"
      ],
      "text/plain": [
       "   mean_count_rev\n",
       "0            24.0"
      ]
     },
     "execution_count": 14,
     "metadata": {},
     "output_type": "execute_result"
    }
   ],
   "source": [
    "query= \"\\\n",
    "WITH \\\n",
    "count_rating AS \\\n",
    "(SELECT \\\n",
    "rat.username, \\\n",
    "COUNT(rat.rating_id) as count_rating \\\n",
    "FROM ratings rat \\\n",
    "GROUP BY rat.username \\\n",
    "HAVING COUNT(rat.rating_id) > 50), \\\n",
    "count_review AS \\\n",
    "(SELECT \\\n",
    "rev.username, \\\n",
    "COUNT(rev.review_id) \\\n",
    "FROM reviews rev \\\n",
    "GROUP BY rev.username) \\\n",
    "SELECT \\\n",
    "ROUND(AVG(crev.count)) as mean_count_rev \\\n",
    "FROM count_rating crat \\\n",
    "JOIN count_review crev ON crat.username=crev.username;\"\n",
    "pd.io.sql.read_sql(query, con = engine) "
   ]
  },
  {
   "cell_type": "markdown",
   "metadata": {},
   "source": [
    "***Вывод***\n",
    "\n",
    "Среднее количество обзоров от пользователей, которые поставили `больше 50 оценок` составило `24.3 обзора`."
   ]
  }
 ],
 "metadata": {
  "ExecuteTimeLog": [
   {
    "duration": 5420,
    "start_time": "2022-11-20T16:18:01.883Z"
   },
   {
    "duration": 385,
    "start_time": "2022-11-20T16:18:43.489Z"
   },
   {
    "duration": 49,
    "start_time": "2022-11-20T16:24:01.093Z"
   },
   {
    "duration": 113,
    "start_time": "2022-11-20T16:24:18.888Z"
   },
   {
    "duration": 58,
    "start_time": "2022-11-20T16:24:50.076Z"
   },
   {
    "duration": 105,
    "start_time": "2022-11-20T16:24:57.571Z"
   },
   {
    "duration": 116,
    "start_time": "2022-11-20T16:25:08.659Z"
   },
   {
    "duration": 62,
    "start_time": "2022-11-20T16:25:17.745Z"
   },
   {
    "duration": 46,
    "start_time": "2022-11-20T16:25:32.806Z"
   },
   {
    "duration": 107,
    "start_time": "2022-11-20T16:25:41.484Z"
   },
   {
    "duration": 105,
    "start_time": "2022-11-20T16:25:46.729Z"
   },
   {
    "duration": 52,
    "start_time": "2022-11-20T16:25:55.879Z"
   },
   {
    "duration": 50,
    "start_time": "2022-11-20T16:26:03.420Z"
   },
   {
    "duration": 104,
    "start_time": "2022-11-20T16:26:15.227Z"
   },
   {
    "duration": 2,
    "start_time": "2022-11-20T16:29:41.502Z"
   },
   {
    "duration": 104,
    "start_time": "2022-11-20T16:29:42.191Z"
   },
   {
    "duration": 76,
    "start_time": "2022-11-20T16:30:50.734Z"
   },
   {
    "duration": 100,
    "start_time": "2022-11-20T16:34:26.518Z"
   },
   {
    "duration": 160,
    "start_time": "2022-11-20T16:35:42.622Z"
   },
   {
    "duration": 44,
    "start_time": "2022-11-20T16:36:27.574Z"
   },
   {
    "duration": 42,
    "start_time": "2022-11-20T16:36:50.133Z"
   },
   {
    "duration": 46,
    "start_time": "2022-11-20T16:37:06.319Z"
   },
   {
    "duration": 48,
    "start_time": "2022-11-20T16:37:33.012Z"
   },
   {
    "duration": 41,
    "start_time": "2022-11-20T16:37:56.726Z"
   },
   {
    "duration": 127,
    "start_time": "2022-11-20T16:43:08.897Z"
   },
   {
    "duration": 98,
    "start_time": "2022-11-20T16:43:55.600Z"
   },
   {
    "duration": 131,
    "start_time": "2022-11-20T16:44:40.594Z"
   },
   {
    "duration": 40,
    "start_time": "2022-11-20T16:44:57.656Z"
   },
   {
    "duration": 67,
    "start_time": "2022-11-20T16:45:05.148Z"
   },
   {
    "duration": 49,
    "start_time": "2022-11-20T16:47:23.946Z"
   },
   {
    "duration": 55,
    "start_time": "2022-11-20T16:48:05.676Z"
   },
   {
    "duration": 38,
    "start_time": "2022-11-20T16:48:49.823Z"
   },
   {
    "duration": 46,
    "start_time": "2022-11-20T16:50:05.723Z"
   },
   {
    "duration": 117,
    "start_time": "2022-11-20T16:50:09.862Z"
   },
   {
    "duration": 56,
    "start_time": "2022-11-20T16:50:38.949Z"
   },
   {
    "duration": 59,
    "start_time": "2022-11-20T16:55:49.963Z"
   },
   {
    "duration": 44,
    "start_time": "2022-11-20T16:56:02.931Z"
   },
   {
    "duration": 51,
    "start_time": "2022-11-20T16:56:23.684Z"
   },
   {
    "duration": 144,
    "start_time": "2022-11-20T17:05:12.249Z"
   },
   {
    "duration": 107,
    "start_time": "2022-11-20T17:13:15.796Z"
   },
   {
    "duration": 180,
    "start_time": "2022-11-20T17:14:01.582Z"
   },
   {
    "duration": 106,
    "start_time": "2022-11-20T17:14:15.182Z"
   },
   {
    "duration": 76,
    "start_time": "2022-11-20T17:14:42.696Z"
   },
   {
    "duration": 88,
    "start_time": "2022-11-20T17:15:26.041Z"
   },
   {
    "duration": 79,
    "start_time": "2022-11-20T17:15:58.021Z"
   },
   {
    "duration": 134,
    "start_time": "2022-11-20T17:38:09.569Z"
   },
   {
    "duration": 127,
    "start_time": "2022-11-20T17:38:54.220Z"
   },
   {
    "duration": 144,
    "start_time": "2022-11-20T17:40:49.744Z"
   },
   {
    "duration": 107,
    "start_time": "2022-11-20T17:41:02.272Z"
   },
   {
    "duration": 103,
    "start_time": "2022-11-20T17:41:12.490Z"
   },
   {
    "duration": 105,
    "start_time": "2022-11-20T17:47:13.552Z"
   },
   {
    "duration": 156,
    "start_time": "2022-11-20T17:47:45.392Z"
   },
   {
    "duration": 151,
    "start_time": "2022-11-20T17:56:50.286Z"
   },
   {
    "duration": 119,
    "start_time": "2022-11-20T17:57:14.528Z"
   },
   {
    "duration": 134,
    "start_time": "2022-11-20T17:59:20.404Z"
   },
   {
    "duration": 225,
    "start_time": "2022-11-20T17:59:38.063Z"
   },
   {
    "duration": 56,
    "start_time": "2022-11-20T18:00:09.106Z"
   },
   {
    "duration": 52,
    "start_time": "2022-11-20T18:00:20.539Z"
   },
   {
    "duration": 208,
    "start_time": "2022-11-20T18:01:53.807Z"
   },
   {
    "duration": 206,
    "start_time": "2022-11-20T18:02:02.765Z"
   },
   {
    "duration": 139,
    "start_time": "2022-11-20T18:02:44.561Z"
   },
   {
    "duration": 142,
    "start_time": "2022-11-20T18:02:59.682Z"
   },
   {
    "duration": 135,
    "start_time": "2022-11-20T18:03:12.902Z"
   },
   {
    "duration": 127,
    "start_time": "2022-11-20T18:03:17.349Z"
   },
   {
    "duration": 133,
    "start_time": "2022-11-20T18:03:24.814Z"
   },
   {
    "duration": 189,
    "start_time": "2022-11-20T18:03:29.609Z"
   },
   {
    "duration": 164,
    "start_time": "2022-11-20T18:03:33.157Z"
   },
   {
    "duration": 168,
    "start_time": "2022-11-20T18:03:51.305Z"
   },
   {
    "duration": 198,
    "start_time": "2022-11-20T18:04:11.226Z"
   },
   {
    "duration": 231,
    "start_time": "2022-11-20T18:04:22.888Z"
   },
   {
    "duration": 222,
    "start_time": "2022-11-20T18:04:35.460Z"
   },
   {
    "duration": 226,
    "start_time": "2022-11-20T18:04:43.484Z"
   },
   {
    "duration": 253,
    "start_time": "2022-11-20T18:04:54.882Z"
   },
   {
    "duration": 216,
    "start_time": "2022-11-20T18:06:25.141Z"
   },
   {
    "duration": 129,
    "start_time": "2022-11-20T18:11:14.055Z"
   },
   {
    "duration": 133,
    "start_time": "2022-11-20T18:13:46.267Z"
   },
   {
    "duration": 131,
    "start_time": "2022-11-20T18:14:05.407Z"
   },
   {
    "duration": 130,
    "start_time": "2022-11-20T18:15:00.255Z"
   },
   {
    "duration": 213,
    "start_time": "2022-11-20T18:15:41.656Z"
   },
   {
    "duration": 220,
    "start_time": "2022-11-20T18:17:08.874Z"
   },
   {
    "duration": 133,
    "start_time": "2022-11-20T18:17:47.914Z"
   },
   {
    "duration": 107,
    "start_time": "2022-11-20T18:19:39.293Z"
   },
   {
    "duration": 122,
    "start_time": "2022-11-20T18:20:23.257Z"
   },
   {
    "duration": 40,
    "start_time": "2022-11-20T18:22:37.629Z"
   },
   {
    "duration": 48,
    "start_time": "2022-11-20T18:23:36.593Z"
   },
   {
    "duration": 59,
    "start_time": "2022-11-20T18:24:07.718Z"
   },
   {
    "duration": 45,
    "start_time": "2022-11-20T18:24:32.649Z"
   },
   {
    "duration": 45,
    "start_time": "2022-11-20T18:24:36.556Z"
   },
   {
    "duration": 40,
    "start_time": "2022-11-20T18:25:06.896Z"
   },
   {
    "duration": 110,
    "start_time": "2022-11-20T18:25:27.167Z"
   },
   {
    "duration": 109,
    "start_time": "2022-11-20T18:25:48.008Z"
   },
   {
    "duration": 111,
    "start_time": "2022-11-20T18:26:17.677Z"
   },
   {
    "duration": 112,
    "start_time": "2022-11-20T18:27:21.961Z"
   },
   {
    "duration": 112,
    "start_time": "2022-11-20T18:27:38.231Z"
   },
   {
    "duration": 121,
    "start_time": "2022-11-20T18:28:13.422Z"
   },
   {
    "duration": 111,
    "start_time": "2022-11-20T18:28:33.849Z"
   },
   {
    "duration": 111,
    "start_time": "2022-11-20T18:29:20.827Z"
   },
   {
    "duration": 117,
    "start_time": "2022-11-20T18:30:15.926Z"
   },
   {
    "duration": 110,
    "start_time": "2022-11-20T18:35:25.704Z"
   },
   {
    "duration": 77,
    "start_time": "2022-11-20T18:36:02.612Z"
   },
   {
    "duration": 113,
    "start_time": "2022-11-20T18:39:18.323Z"
   },
   {
    "duration": 104,
    "start_time": "2022-11-20T18:39:48.007Z"
   },
   {
    "duration": 128,
    "start_time": "2022-11-20T18:59:59.745Z"
   },
   {
    "duration": 79,
    "start_time": "2022-11-20T19:00:13.494Z"
   },
   {
    "duration": 79,
    "start_time": "2022-11-20T19:00:47.454Z"
   },
   {
    "duration": 77,
    "start_time": "2022-11-20T19:00:59.828Z"
   },
   {
    "duration": 117,
    "start_time": "2022-11-20T19:01:41.200Z"
   },
   {
    "duration": 121,
    "start_time": "2022-11-20T19:01:52.869Z"
   },
   {
    "duration": 77,
    "start_time": "2022-11-20T19:03:23.588Z"
   },
   {
    "duration": 130,
    "start_time": "2022-11-20T19:04:05.480Z"
   },
   {
    "duration": 78,
    "start_time": "2022-11-20T19:04:21.710Z"
   },
   {
    "duration": 77,
    "start_time": "2022-11-20T19:04:38.501Z"
   },
   {
    "duration": 79,
    "start_time": "2022-11-20T19:04:46.479Z"
   },
   {
    "duration": 128,
    "start_time": "2022-11-20T19:08:09.028Z"
   },
   {
    "duration": 134,
    "start_time": "2022-11-20T19:09:00.378Z"
   },
   {
    "duration": 137,
    "start_time": "2022-11-20T19:10:46.998Z"
   },
   {
    "duration": 137,
    "start_time": "2022-11-20T19:12:00.452Z"
   },
   {
    "duration": 79,
    "start_time": "2022-11-20T19:12:49.010Z"
   },
   {
    "duration": 80,
    "start_time": "2022-11-20T19:13:07.982Z"
   },
   {
    "duration": 143,
    "start_time": "2022-11-20T19:14:02.205Z"
   },
   {
    "duration": 78,
    "start_time": "2022-11-20T19:14:18.929Z"
   },
   {
    "duration": 138,
    "start_time": "2022-11-20T19:20:46.084Z"
   },
   {
    "duration": 78,
    "start_time": "2022-11-20T19:20:51.681Z"
   },
   {
    "duration": 157,
    "start_time": "2022-11-20T19:21:07.226Z"
   },
   {
    "duration": 87,
    "start_time": "2022-11-20T19:21:48.898Z"
   },
   {
    "duration": 135,
    "start_time": "2022-11-20T19:22:37.923Z"
   },
   {
    "duration": 98,
    "start_time": "2022-11-20T19:25:01.383Z"
   },
   {
    "duration": 76,
    "start_time": "2022-11-20T19:25:55.605Z"
   },
   {
    "duration": 79,
    "start_time": "2022-11-20T19:26:13.401Z"
   },
   {
    "duration": 77,
    "start_time": "2022-11-20T19:26:19.469Z"
   },
   {
    "duration": 77,
    "start_time": "2022-11-20T19:26:47.105Z"
   },
   {
    "duration": 5371,
    "start_time": "2022-11-20T19:28:21.034Z"
   },
   {
    "duration": 306,
    "start_time": "2022-11-20T19:28:26.407Z"
   },
   {
    "duration": 76,
    "start_time": "2022-11-20T19:28:26.714Z"
   },
   {
    "duration": 102,
    "start_time": "2022-11-20T19:28:26.792Z"
   },
   {
    "duration": 76,
    "start_time": "2022-11-20T19:28:26.897Z"
   },
   {
    "duration": 46,
    "start_time": "2022-11-20T19:28:26.975Z"
   },
   {
    "duration": 0,
    "start_time": "2022-11-20T19:28:27.023Z"
   },
   {
    "duration": 0,
    "start_time": "2022-11-20T19:28:27.024Z"
   },
   {
    "duration": 0,
    "start_time": "2022-11-20T19:28:27.025Z"
   },
   {
    "duration": 0,
    "start_time": "2022-11-20T19:28:27.027Z"
   },
   {
    "duration": 0,
    "start_time": "2022-11-20T19:28:27.028Z"
   },
   {
    "duration": 0,
    "start_time": "2022-11-20T19:28:27.030Z"
   },
   {
    "duration": 0,
    "start_time": "2022-11-20T19:28:27.031Z"
   },
   {
    "duration": 0,
    "start_time": "2022-11-20T19:28:27.032Z"
   },
   {
    "duration": 0,
    "start_time": "2022-11-20T19:28:27.034Z"
   },
   {
    "duration": 0,
    "start_time": "2022-11-20T19:28:27.035Z"
   },
   {
    "duration": 0,
    "start_time": "2022-11-20T19:28:27.037Z"
   },
   {
    "duration": 0,
    "start_time": "2022-11-20T19:28:27.038Z"
   },
   {
    "duration": 4967,
    "start_time": "2022-11-21T03:37:39.247Z"
   },
   {
    "duration": 314,
    "start_time": "2022-11-21T03:37:44.216Z"
   },
   {
    "duration": 75,
    "start_time": "2022-11-21T03:37:44.532Z"
   },
   {
    "duration": 110,
    "start_time": "2022-11-21T03:37:44.609Z"
   },
   {
    "duration": 75,
    "start_time": "2022-11-21T03:37:44.720Z"
   },
   {
    "duration": 74,
    "start_time": "2022-11-21T03:37:44.797Z"
   },
   {
    "duration": 48,
    "start_time": "2022-11-21T03:37:44.872Z"
   },
   {
    "duration": 0,
    "start_time": "2022-11-21T03:37:44.922Z"
   },
   {
    "duration": 0,
    "start_time": "2022-11-21T03:37:44.924Z"
   },
   {
    "duration": 0,
    "start_time": "2022-11-21T03:37:44.925Z"
   },
   {
    "duration": 0,
    "start_time": "2022-11-21T03:37:44.926Z"
   },
   {
    "duration": 0,
    "start_time": "2022-11-21T03:37:44.928Z"
   },
   {
    "duration": 0,
    "start_time": "2022-11-21T03:37:44.929Z"
   },
   {
    "duration": 0,
    "start_time": "2022-11-21T03:37:44.931Z"
   },
   {
    "duration": 0,
    "start_time": "2022-11-21T03:37:44.932Z"
   },
   {
    "duration": 0,
    "start_time": "2022-11-21T03:37:44.933Z"
   },
   {
    "duration": 0,
    "start_time": "2022-11-21T03:37:44.935Z"
   },
   {
    "duration": 0,
    "start_time": "2022-11-21T03:37:44.936Z"
   },
   {
    "duration": 0,
    "start_time": "2022-11-21T03:37:44.937Z"
   },
   {
    "duration": 131,
    "start_time": "2022-11-21T03:40:05.834Z"
   },
   {
    "duration": 197,
    "start_time": "2022-11-21T03:43:07.596Z"
   },
   {
    "duration": 129,
    "start_time": "2022-11-21T03:44:03.002Z"
   },
   {
    "duration": 127,
    "start_time": "2022-11-21T03:44:41.733Z"
   },
   {
    "duration": 92,
    "start_time": "2022-11-21T03:44:52.225Z"
   },
   {
    "duration": 107,
    "start_time": "2022-11-21T03:47:05.656Z"
   },
   {
    "duration": 142,
    "start_time": "2022-11-21T03:48:03.844Z"
   },
   {
    "duration": 78,
    "start_time": "2022-11-21T03:49:34.177Z"
   },
   {
    "duration": 54,
    "start_time": "2022-11-21T03:50:04.191Z"
   },
   {
    "duration": 104,
    "start_time": "2022-11-21T03:50:07.114Z"
   },
   {
    "duration": 103,
    "start_time": "2022-11-21T03:50:40.118Z"
   },
   {
    "duration": 103,
    "start_time": "2022-11-21T03:51:56.990Z"
   },
   {
    "duration": 102,
    "start_time": "2022-11-21T03:52:24.341Z"
   },
   {
    "duration": 130,
    "start_time": "2022-11-21T04:00:47.755Z"
   },
   {
    "duration": 121,
    "start_time": "2022-11-21T04:01:15.327Z"
   },
   {
    "duration": 158,
    "start_time": "2022-11-21T04:01:34.423Z"
   },
   {
    "duration": 123,
    "start_time": "2022-11-21T04:02:13.430Z"
   },
   {
    "duration": 124,
    "start_time": "2022-11-21T04:02:19.601Z"
   },
   {
    "duration": 103,
    "start_time": "2022-11-21T04:07:16.716Z"
   },
   {
    "duration": 117,
    "start_time": "2022-11-21T04:09:09.435Z"
   },
   {
    "duration": 100,
    "start_time": "2022-11-21T04:10:53.082Z"
   },
   {
    "duration": 127,
    "start_time": "2022-11-21T04:12:58.383Z"
   },
   {
    "duration": 132,
    "start_time": "2022-11-21T04:13:13.980Z"
   },
   {
    "duration": 133,
    "start_time": "2022-11-21T04:22:06.875Z"
   },
   {
    "duration": 126,
    "start_time": "2022-11-21T04:22:40.684Z"
   },
   {
    "duration": 140,
    "start_time": "2022-11-21T04:24:02.854Z"
   },
   {
    "duration": 78,
    "start_time": "2022-11-21T04:24:47.515Z"
   },
   {
    "duration": 78,
    "start_time": "2022-11-21T04:25:42.940Z"
   },
   {
    "duration": 77,
    "start_time": "2022-11-21T04:27:12.674Z"
   },
   {
    "duration": 76,
    "start_time": "2022-11-21T04:28:51.128Z"
   },
   {
    "duration": 98,
    "start_time": "2022-11-21T04:29:58.638Z"
   },
   {
    "duration": 76,
    "start_time": "2022-11-21T04:30:04.900Z"
   },
   {
    "duration": 89,
    "start_time": "2022-11-21T04:33:45.688Z"
   },
   {
    "duration": 132,
    "start_time": "2022-11-21T04:36:02.800Z"
   },
   {
    "duration": 49,
    "start_time": "2022-11-21T06:36:25.594Z"
   },
   {
    "duration": 8690,
    "start_time": "2022-11-21T06:36:30.940Z"
   },
   {
    "duration": 77,
    "start_time": "2022-11-21T06:36:39.632Z"
   },
   {
    "duration": 13,
    "start_time": "2022-11-21T06:36:39.710Z"
   },
   {
    "duration": 45,
    "start_time": "2022-11-21T06:36:44.496Z"
   },
   {
    "duration": 15,
    "start_time": "2022-11-21T06:36:51.127Z"
   },
   {
    "duration": 120,
    "start_time": "2022-11-21T06:36:57.630Z"
   },
   {
    "duration": 110,
    "start_time": "2022-11-21T06:37:37.480Z"
   },
   {
    "duration": 90,
    "start_time": "2022-11-21T06:38:05.233Z"
   },
   {
    "duration": 94,
    "start_time": "2022-11-21T06:41:36.307Z"
   },
   {
    "duration": 114,
    "start_time": "2022-11-21T06:44:51.840Z"
   },
   {
    "duration": 97,
    "start_time": "2022-11-21T06:45:15.359Z"
   },
   {
    "duration": 16,
    "start_time": "2022-11-21T06:46:30.014Z"
   },
   {
    "duration": 20,
    "start_time": "2022-11-21T06:48:13.948Z"
   },
   {
    "duration": 19,
    "start_time": "2022-11-21T06:49:23.423Z"
   },
   {
    "duration": 16,
    "start_time": "2022-11-21T06:52:12.353Z"
   },
   {
    "duration": 16,
    "start_time": "2022-11-21T06:52:38.040Z"
   },
   {
    "duration": 31,
    "start_time": "2022-11-21T06:55:57.492Z"
   },
   {
    "duration": 114,
    "start_time": "2022-11-21T07:00:51.832Z"
   },
   {
    "duration": 16,
    "start_time": "2022-11-21T07:01:04.929Z"
   },
   {
    "duration": 18,
    "start_time": "2022-11-21T07:01:35.069Z"
   },
   {
    "duration": 26,
    "start_time": "2022-11-21T07:01:42.867Z"
   },
   {
    "duration": 111,
    "start_time": "2022-11-21T07:02:47.033Z"
   },
   {
    "duration": 89,
    "start_time": "2022-11-21T07:03:14.552Z"
   },
   {
    "duration": 13,
    "start_time": "2022-11-21T07:03:39.135Z"
   },
   {
    "duration": 99,
    "start_time": "2022-11-21T07:04:32.628Z"
   },
   {
    "duration": 18,
    "start_time": "2022-11-21T07:04:41.927Z"
   },
   {
    "duration": 15,
    "start_time": "2022-11-21T07:06:37.195Z"
   },
   {
    "duration": 16,
    "start_time": "2022-11-21T07:08:07.247Z"
   },
   {
    "duration": 16,
    "start_time": "2022-11-21T07:14:27.905Z"
   },
   {
    "duration": 15,
    "start_time": "2022-11-21T07:16:11.781Z"
   },
   {
    "duration": 17,
    "start_time": "2022-11-21T07:18:30.136Z"
   },
   {
    "duration": 19,
    "start_time": "2022-11-21T07:20:15.321Z"
   },
   {
    "duration": 15,
    "start_time": "2022-11-21T07:21:06.551Z"
   },
   {
    "duration": 115,
    "start_time": "2022-11-21T07:28:49.517Z"
   },
   {
    "duration": 102,
    "start_time": "2022-11-21T07:28:57.853Z"
   },
   {
    "duration": 17,
    "start_time": "2022-11-21T07:29:06.244Z"
   },
   {
    "duration": 14,
    "start_time": "2022-11-21T07:30:21.237Z"
   },
   {
    "duration": 15,
    "start_time": "2022-11-21T07:30:53.856Z"
   },
   {
    "duration": 16,
    "start_time": "2022-11-21T07:31:32.691Z"
   },
   {
    "duration": 100,
    "start_time": "2022-11-21T07:36:17.647Z"
   },
   {
    "duration": 79,
    "start_time": "2022-11-21T07:36:52.785Z"
   },
   {
    "duration": 97,
    "start_time": "2022-11-21T07:37:18.348Z"
   },
   {
    "duration": 77,
    "start_time": "2022-11-21T07:38:25.816Z"
   },
   {
    "duration": 80,
    "start_time": "2022-11-21T07:38:32.211Z"
   },
   {
    "duration": 85,
    "start_time": "2022-11-21T07:38:44.317Z"
   },
   {
    "duration": 86,
    "start_time": "2022-11-21T07:39:30.996Z"
   },
   {
    "duration": 14,
    "start_time": "2022-11-21T07:40:30.534Z"
   },
   {
    "duration": 30,
    "start_time": "2022-11-21T07:41:14.375Z"
   },
   {
    "duration": 82,
    "start_time": "2022-11-21T07:41:37.419Z"
   },
   {
    "duration": 83,
    "start_time": "2022-11-21T07:44:18.860Z"
   },
   {
    "duration": 93,
    "start_time": "2022-11-21T07:51:47.897Z"
   },
   {
    "duration": 69,
    "start_time": "2022-11-21T07:51:58.770Z"
   },
   {
    "duration": 18,
    "start_time": "2022-11-21T08:06:19.894Z"
   },
   {
    "duration": 15,
    "start_time": "2022-11-21T08:15:09.834Z"
   },
   {
    "duration": 15,
    "start_time": "2022-11-21T08:16:44.590Z"
   },
   {
    "duration": 15,
    "start_time": "2022-11-21T08:17:00.480Z"
   },
   {
    "duration": 89,
    "start_time": "2022-11-21T08:17:40.225Z"
   },
   {
    "duration": 14,
    "start_time": "2022-11-21T08:17:54.973Z"
   },
   {
    "duration": 15,
    "start_time": "2022-11-21T08:18:19.291Z"
   },
   {
    "duration": 98,
    "start_time": "2022-11-21T08:18:57.904Z"
   },
   {
    "duration": 14,
    "start_time": "2022-11-21T08:19:05.096Z"
   },
   {
    "duration": 11,
    "start_time": "2022-11-21T08:21:33.665Z"
   },
   {
    "duration": 34,
    "start_time": "2022-11-21T08:23:19.673Z"
   },
   {
    "duration": 34,
    "start_time": "2022-11-21T08:24:25.957Z"
   },
   {
    "duration": 12,
    "start_time": "2022-11-21T08:24:33.150Z"
   },
   {
    "duration": 15,
    "start_time": "2022-11-21T08:28:50.222Z"
   },
   {
    "duration": 8821,
    "start_time": "2022-11-21T08:30:37.180Z"
   },
   {
    "duration": 55,
    "start_time": "2022-11-21T08:30:46.003Z"
   },
   {
    "duration": 40,
    "start_time": "2022-11-21T08:30:46.060Z"
   },
   {
    "duration": 23,
    "start_time": "2022-11-21T08:30:46.102Z"
   },
   {
    "duration": 23,
    "start_time": "2022-11-21T08:30:46.126Z"
   },
   {
    "duration": 32,
    "start_time": "2022-11-21T08:30:46.151Z"
   },
   {
    "duration": 5,
    "start_time": "2022-11-21T08:31:08.029Z"
   },
   {
    "duration": 64,
    "start_time": "2022-11-21T08:31:09.255Z"
   },
   {
    "duration": 40,
    "start_time": "2022-11-21T08:31:11.230Z"
   },
   {
    "duration": 13,
    "start_time": "2022-11-21T08:31:21.500Z"
   },
   {
    "duration": 14,
    "start_time": "2022-11-21T08:31:24.891Z"
   },
   {
    "duration": 17,
    "start_time": "2022-11-21T08:31:26.841Z"
   },
   {
    "duration": 532,
    "start_time": "2022-11-21T11:08:06.655Z"
   },
   {
    "duration": 5061,
    "start_time": "2022-11-21T11:08:07.189Z"
   },
   {
    "duration": 567,
    "start_time": "2022-11-21T12:01:05.054Z"
   },
   {
    "duration": 5688,
    "start_time": "2022-11-21T12:01:05.623Z"
   },
   {
    "duration": 283,
    "start_time": "2022-11-21T12:01:11.313Z"
   },
   {
    "duration": 119,
    "start_time": "2022-11-21T12:01:11.598Z"
   },
   {
    "duration": 75,
    "start_time": "2022-11-21T12:01:11.719Z"
   },
   {
    "duration": 78,
    "start_time": "2022-11-21T12:01:11.796Z"
   },
   {
    "duration": 77,
    "start_time": "2022-11-21T12:01:11.876Z"
   },
   {
    "duration": 116,
    "start_time": "2022-11-21T12:07:48.223Z"
   },
   {
    "duration": 115,
    "start_time": "2022-11-21T12:08:24.502Z"
   },
   {
    "duration": 119,
    "start_time": "2022-11-21T12:08:43.296Z"
   },
   {
    "duration": 105,
    "start_time": "2022-11-21T12:12:27.191Z"
   },
   {
    "duration": 119,
    "start_time": "2022-11-21T12:13:06.514Z"
   },
   {
    "duration": 75,
    "start_time": "2022-11-21T12:13:18.540Z"
   },
   {
    "duration": 273,
    "start_time": "2022-11-21T12:15:12.504Z"
   },
   {
    "duration": 77,
    "start_time": "2022-11-21T12:15:19.807Z"
   },
   {
    "duration": 81,
    "start_time": "2022-11-21T12:16:43.949Z"
   },
   {
    "duration": 136,
    "start_time": "2022-11-21T12:16:58.401Z"
   },
   {
    "duration": 85,
    "start_time": "2022-11-21T12:17:20.886Z"
   },
   {
    "duration": 80,
    "start_time": "2022-11-21T12:22:31.715Z"
   },
   {
    "duration": 78,
    "start_time": "2022-11-21T12:24:19.018Z"
   },
   {
    "duration": 78,
    "start_time": "2022-11-21T12:24:42.265Z"
   },
   {
    "duration": 80,
    "start_time": "2022-11-21T12:25:58.256Z"
   },
   {
    "duration": 79,
    "start_time": "2022-11-21T12:27:08.259Z"
   },
   {
    "duration": 78,
    "start_time": "2022-11-21T12:31:16.147Z"
   },
   {
    "duration": 77,
    "start_time": "2022-11-21T12:32:22.398Z"
   },
   {
    "duration": 79,
    "start_time": "2022-11-21T12:32:35.135Z"
   },
   {
    "duration": 77,
    "start_time": "2022-11-21T12:32:59.572Z"
   },
   {
    "duration": 90,
    "start_time": "2022-11-21T12:33:34.727Z"
   },
   {
    "duration": 77,
    "start_time": "2022-11-21T12:34:41.027Z"
   },
   {
    "duration": 3,
    "start_time": "2022-11-21T12:35:05.441Z"
   },
   {
    "duration": 6,
    "start_time": "2022-11-21T12:35:07.208Z"
   },
   {
    "duration": 8,
    "start_time": "2022-11-21T12:51:14.345Z"
   },
   {
    "duration": 58,
    "start_time": "2022-11-21T13:02:14.190Z"
   },
   {
    "duration": 104,
    "start_time": "2022-11-21T13:02:45.228Z"
   },
   {
    "duration": 48,
    "start_time": "2022-11-21T13:03:22.864Z"
   },
   {
    "duration": 67,
    "start_time": "2022-11-21T13:03:36.297Z"
   },
   {
    "duration": 2,
    "start_time": "2022-11-21T13:03:56.741Z"
   },
   {
    "duration": 4,
    "start_time": "2022-11-21T13:03:57.227Z"
   },
   {
    "duration": 51,
    "start_time": "2022-11-21T13:04:13.339Z"
   },
   {
    "duration": 63,
    "start_time": "2022-11-21T13:04:38.823Z"
   },
   {
    "duration": 253,
    "start_time": "2022-11-21T13:07:43.383Z"
   },
   {
    "duration": 859,
    "start_time": "2022-11-21T13:08:14.577Z"
   },
   {
    "duration": 79,
    "start_time": "2022-11-21T13:15:26.383Z"
   },
   {
    "duration": 48,
    "start_time": "2022-11-21T13:16:37.276Z"
   },
   {
    "duration": 2348,
    "start_time": "2022-11-21T13:17:29.198Z"
   },
   {
    "duration": 3,
    "start_time": "2022-11-21T13:25:12.469Z"
   },
   {
    "duration": 24,
    "start_time": "2022-11-21T13:25:13.039Z"
   },
   {
    "duration": 3,
    "start_time": "2022-11-21T13:26:36.983Z"
   },
   {
    "duration": 23,
    "start_time": "2022-11-21T13:26:38.286Z"
   },
   {
    "duration": 8,
    "start_time": "2022-11-21T13:28:00.802Z"
   },
   {
    "duration": 3,
    "start_time": "2022-11-21T13:28:18.424Z"
   },
   {
    "duration": 3,
    "start_time": "2022-11-21T13:28:32.847Z"
   },
   {
    "duration": 21,
    "start_time": "2022-11-21T13:28:34.961Z"
   },
   {
    "duration": 4,
    "start_time": "2022-11-21T13:29:13.348Z"
   },
   {
    "duration": 19,
    "start_time": "2022-11-21T13:29:14.280Z"
   },
   {
    "duration": 4,
    "start_time": "2022-11-21T13:29:38.279Z"
   },
   {
    "duration": 17,
    "start_time": "2022-11-21T13:29:39.791Z"
   },
   {
    "duration": 52,
    "start_time": "2022-11-21T13:29:51.025Z"
   },
   {
    "duration": 3,
    "start_time": "2022-11-21T13:30:04.685Z"
   },
   {
    "duration": 18,
    "start_time": "2022-11-21T13:30:06.721Z"
   },
   {
    "duration": 54,
    "start_time": "2022-11-21T13:32:40.828Z"
   },
   {
    "duration": 3,
    "start_time": "2022-11-21T13:33:05.529Z"
   },
   {
    "duration": 18,
    "start_time": "2022-11-21T13:33:07.300Z"
   },
   {
    "duration": 4,
    "start_time": "2022-11-21T13:33:54.330Z"
   },
   {
    "duration": 18,
    "start_time": "2022-11-21T13:33:55.054Z"
   },
   {
    "duration": 4,
    "start_time": "2022-11-21T13:35:28.624Z"
   },
   {
    "duration": 27,
    "start_time": "2022-11-21T13:35:30.265Z"
   },
   {
    "duration": 4,
    "start_time": "2022-11-21T13:35:59.444Z"
   },
   {
    "duration": 19,
    "start_time": "2022-11-21T13:36:00.339Z"
   },
   {
    "duration": 3,
    "start_time": "2022-11-21T13:36:40.361Z"
   },
   {
    "duration": 17,
    "start_time": "2022-11-21T13:36:40.980Z"
   },
   {
    "duration": 5,
    "start_time": "2022-11-21T13:37:38.551Z"
   },
   {
    "duration": 18,
    "start_time": "2022-11-21T13:37:40.201Z"
   },
   {
    "duration": 5,
    "start_time": "2022-11-21T13:38:59.750Z"
   },
   {
    "duration": 26,
    "start_time": "2022-11-21T13:39:00.589Z"
   },
   {
    "duration": 4,
    "start_time": "2022-11-21T13:40:16.233Z"
   },
   {
    "duration": 4,
    "start_time": "2022-11-21T13:44:24.103Z"
   },
   {
    "duration": 2936,
    "start_time": "2022-11-21T13:44:24.603Z"
   },
   {
    "duration": 4,
    "start_time": "2022-11-21T13:44:27.542Z"
   },
   {
    "duration": 19,
    "start_time": "2022-11-21T13:44:30.357Z"
   },
   {
    "duration": 19,
    "start_time": "2022-11-21T13:44:42.358Z"
   },
   {
    "duration": 15,
    "start_time": "2022-11-21T13:44:50.261Z"
   },
   {
    "duration": 19,
    "start_time": "2022-11-21T13:44:56.817Z"
   },
   {
    "duration": 19,
    "start_time": "2022-11-21T13:45:02.380Z"
   },
   {
    "duration": 20,
    "start_time": "2022-11-21T13:48:45.959Z"
   },
   {
    "duration": 16,
    "start_time": "2022-11-21T13:48:47.186Z"
   },
   {
    "duration": 16,
    "start_time": "2022-11-21T13:48:48.733Z"
   },
   {
    "duration": 20,
    "start_time": "2022-11-21T13:48:50.312Z"
   },
   {
    "duration": 4,
    "start_time": "2022-11-21T13:49:06.864Z"
   },
   {
    "duration": 20,
    "start_time": "2022-11-21T13:49:10.093Z"
   },
   {
    "duration": 17,
    "start_time": "2022-11-21T13:49:12.819Z"
   },
   {
    "duration": 15,
    "start_time": "2022-11-21T13:49:14.369Z"
   },
   {
    "duration": 19,
    "start_time": "2022-11-21T13:49:16.649Z"
   },
   {
    "duration": 21,
    "start_time": "2022-11-21T13:49:18.151Z"
   },
   {
    "duration": 85,
    "start_time": "2022-11-21T13:50:16.613Z"
   },
   {
    "duration": 125,
    "start_time": "2022-11-21T13:50:22.930Z"
   },
   {
    "duration": 96,
    "start_time": "2022-11-21T13:50:34.186Z"
   },
   {
    "duration": 102,
    "start_time": "2022-11-21T13:50:37.168Z"
   },
   {
    "duration": 104,
    "start_time": "2022-11-21T13:50:47.679Z"
   },
   {
    "duration": 548,
    "start_time": "2022-11-21T13:52:22.164Z"
   },
   {
    "duration": 7294,
    "start_time": "2022-11-21T13:52:22.714Z"
   },
   {
    "duration": 3073,
    "start_time": "2022-11-21T13:52:30.010Z"
   },
   {
    "duration": 4,
    "start_time": "2022-11-21T13:52:33.084Z"
   },
   {
    "duration": 59,
    "start_time": "2022-11-21T13:52:33.090Z"
   },
   {
    "duration": 30,
    "start_time": "2022-11-21T13:52:33.150Z"
   },
   {
    "duration": 42,
    "start_time": "2022-11-21T13:52:33.181Z"
   },
   {
    "duration": 39,
    "start_time": "2022-11-21T13:52:33.225Z"
   },
   {
    "duration": 57,
    "start_time": "2022-11-21T13:52:33.266Z"
   },
   {
    "duration": 101,
    "start_time": "2022-11-21T13:52:33.324Z"
   },
   {
    "duration": 120,
    "start_time": "2022-11-21T13:52:33.427Z"
   },
   {
    "duration": 87,
    "start_time": "2022-11-21T13:52:33.549Z"
   },
   {
    "duration": 109,
    "start_time": "2022-11-21T13:52:33.637Z"
   },
   {
    "duration": 106,
    "start_time": "2022-11-21T13:52:33.748Z"
   },
   {
    "duration": 91,
    "start_time": "2022-11-21T14:35:37.493Z"
   },
   {
    "duration": 477,
    "start_time": "2022-12-01T04:15:05.517Z"
   },
   {
    "duration": 4750,
    "start_time": "2022-12-01T04:15:06.000Z"
   },
   {
    "duration": 2287,
    "start_time": "2022-12-01T04:15:10.752Z"
   },
   {
    "duration": 4,
    "start_time": "2022-12-01T04:15:13.041Z"
   },
   {
    "duration": 4,
    "start_time": "2022-12-01T04:16:03.705Z"
   },
   {
    "duration": 25,
    "start_time": "2022-12-01T04:16:12.069Z"
   },
   {
    "duration": 15,
    "start_time": "2022-12-01T04:16:14.403Z"
   },
   {
    "duration": 15,
    "start_time": "2022-12-01T04:16:16.543Z"
   },
   {
    "duration": 17,
    "start_time": "2022-12-01T04:16:18.464Z"
   },
   {
    "duration": 19,
    "start_time": "2022-12-01T04:16:20.633Z"
   },
   {
    "duration": 72,
    "start_time": "2022-12-01T04:17:19.720Z"
   },
   {
    "duration": 113,
    "start_time": "2022-12-01T04:18:04.212Z"
   },
   {
    "duration": 112,
    "start_time": "2022-12-01T04:18:13.610Z"
   },
   {
    "duration": 77,
    "start_time": "2022-12-01T04:19:02.378Z"
   },
   {
    "duration": 113,
    "start_time": "2022-12-01T04:19:14.445Z"
   },
   {
    "duration": 71,
    "start_time": "2022-12-01T04:19:24.437Z"
   },
   {
    "duration": 76,
    "start_time": "2022-12-01T04:19:42.357Z"
   },
   {
    "duration": 77,
    "start_time": "2022-12-01T04:21:01.237Z"
   },
   {
    "duration": 41,
    "start_time": "2022-12-01T04:23:50.610Z"
   },
   {
    "duration": 51,
    "start_time": "2022-12-01T04:25:38.969Z"
   },
   {
    "duration": 86,
    "start_time": "2022-12-01T04:26:13.990Z"
   },
   {
    "duration": 468,
    "start_time": "2022-12-01T04:26:43.419Z"
   },
   {
    "duration": 5051,
    "start_time": "2022-12-01T04:26:43.889Z"
   },
   {
    "duration": 2143,
    "start_time": "2022-12-01T04:26:48.941Z"
   },
   {
    "duration": 3,
    "start_time": "2022-12-01T04:26:51.086Z"
   },
   {
    "duration": 29,
    "start_time": "2022-12-01T04:26:51.091Z"
   },
   {
    "duration": 14,
    "start_time": "2022-12-01T04:26:51.122Z"
   },
   {
    "duration": 28,
    "start_time": "2022-12-01T04:26:51.137Z"
   },
   {
    "duration": 16,
    "start_time": "2022-12-01T04:26:51.167Z"
   },
   {
    "duration": 16,
    "start_time": "2022-12-01T04:26:51.184Z"
   },
   {
    "duration": 67,
    "start_time": "2022-12-01T04:26:51.202Z"
   },
   {
    "duration": 91,
    "start_time": "2022-12-01T04:26:51.270Z"
   },
   {
    "duration": 68,
    "start_time": "2022-12-01T04:26:51.362Z"
   },
   {
    "duration": 71,
    "start_time": "2022-12-01T04:26:51.431Z"
   },
   {
    "duration": 70,
    "start_time": "2022-12-01T04:26:51.503Z"
   }
  ],
  "kernelspec": {
   "display_name": "Python 3 (ipykernel)",
   "language": "python",
   "name": "python3"
  },
  "language_info": {
   "codemirror_mode": {
    "name": "ipython",
    "version": 3
   },
   "file_extension": ".py",
   "mimetype": "text/x-python",
   "name": "python",
   "nbconvert_exporter": "python",
   "pygments_lexer": "ipython3",
   "version": "3.9.12"
  },
  "toc": {
   "base_numbering": 1,
   "nav_menu": {},
   "number_sections": true,
   "sideBar": true,
   "skip_h1_title": true,
   "title_cell": "Table of Contents",
   "title_sidebar": "Contents",
   "toc_cell": false,
   "toc_position": {},
   "toc_section_display": true,
   "toc_window_display": false
  }
 },
 "nbformat": 4,
 "nbformat_minor": 2
}
