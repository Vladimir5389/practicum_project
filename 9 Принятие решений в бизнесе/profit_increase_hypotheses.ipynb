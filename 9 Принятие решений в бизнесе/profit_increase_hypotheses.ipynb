{
 "cells": [
  {
   "cell_type": "markdown",
   "id": "917addb1",
   "metadata": {},
   "source": [
    "***Описание проекта***\n",
    "\n",
    "Контекст\n",
    "Вы — аналитик крупного интернет-магазина. Вместе с отделом маркетинга вы подготовили список гипотез для увеличения выручки.\n",
    "Приоритизируйте гипотезы, запустите A/B-тест и проанализируйте результаты.\n",
    "\n",
    "# Часть 1. Приоритизация гипотез.\n",
    "\n",
    "    В файле /datasets/hypothesis.csv 9 гипотез по увеличению выручки интернет-магазина с указанными параметрами Reach, Impact, Confidence, Effort.\n",
    "    Задача\n",
    "\n",
    "    Примените фреймворк ICE для приоритизации гипотез. Отсортируйте их по убыванию приоритета.\n",
    "\n",
    "    Примените фреймворк RICE для приоритизации гипотез. Отсортируйте их по убыванию приоритета.\n",
    "\n",
    "    Укажите, как изменилась приоритизация гипотез при применении RICE вместо ICE. Объясните, почему так произошло.\n",
    "\n",
    "# Часть 2. Анализ A/B-теста\n",
    "\n",
    "    Вы провели A/B-тест и получили результаты, которые описаны в файлах /datasets/orders.csv и /datasets/visitors.csv.\n",
    "\n",
    "    Задача\n",
    "\n",
    "    Проанализируйте A/B-тест:\n",
    "\n",
    "    Постройте график кумулятивной выручки по группам. Сделайте выводы и предположения.\n",
    "\n",
    "    Постройте график кумулятивного среднего чека по группам. Сделайте выводы и предположения.\n",
    "\n",
    "    Постройте график относительного изменения кумулятивного среднего чека группы B к группе A. \n",
    "\n",
    "    Сделайте выводы и предположения.\n",
    "\n",
    "    Постройте график кумулятивной конверсии по группам. \n",
    "\n",
    "    Сделайте выводы и предположения.\n",
    "\n",
    "    Постройте график относительного изменения кумулятивной конверсии группы B к группе A. \n",
    "\n",
    "    Сделайте выводы и предположения.\n",
    "\n",
    "    Постройте точечный график количества заказов по пользователям. \n",
    "\n",
    "    Сделайте выводы и предположения.\n",
    "\n",
    "    Посчитайте 95-й и 99-й перцентили количества заказов на пользователя. \n",
    "\n",
    "    Выберите границу для определения аномальных пользователей.\n",
    "\n",
    "    Постройте точечный график стоимостей заказов. Сделайте выводы и предположения.\n",
    "\n",
    "    Посчитайте 95-й и 99-й перцентили стоимости заказов. Выберите границу для определения аномальных заказов.\n",
    "\n",
    "    Посчитайте статистическую значимость различий в конверсии между группами по «сырым» данным. \n",
    "\n",
    "    Сделайте выводы и предположения.\n",
    "\n",
    "    Посчитайте статистическую значимость различий в среднем чеке заказа между группами по «сырым» данным. \n",
    "\n",
    "    Сделайте выводы и предположения.\n",
    "\n",
    "    Посчитайте статистическую значимость различий в конверсии между группами по «очищенным» данным. \n",
    "\n",
    "    Сделайте выводы и предположения.\n",
    "\n",
    "    Посчитайте статистическую значимость различий в среднем чеке заказа между группами по «очищенным» данным. \n",
    "\n",
    "    Сделайте выводы и предположения.\n",
    "\n",
    "    Примите решение по результатам теста и объясните его. \n",
    "\n",
    "***Варианты решений:***\n",
    "\n",
    "    1. Остановить тест, зафиксировать победу одной из групп. \n",
    "\n",
    "    2. Остановить тест, зафиксировать отсутствие различий между группами. \n",
    "\n",
    "    3. Продолжить тест."
   ]
  },
  {
   "cell_type": "markdown",
   "id": "09d3ff44",
   "metadata": {},
   "source": [
    "Описание данных\n",
    "\n",
    "Данные для первой части\n",
    "\n",
    "Файл /datasets/hypothesis.csv. Скачать датасет\n",
    "\n",
    "`Hypothesis` — краткое описание гипотезы;\n",
    "\n",
    "`Reach` — охват пользователей по 10-балльной шкале;\n",
    "\n",
    "`Impact` — влияние на пользователей по 10-балльной шкале;\n",
    "\n",
    "`Confidence` — уверенность в гипотезе по 10-балльной шкале;\n",
    "\n",
    "`Efforts` — затраты ресурсов на проверку гипотезы по 10-балльной шкале. Чем больше значение Efforts, тем дороже проверка гипотезы.\n",
    "\n",
    "Данные для второй части\n",
    "\n",
    "Файл /datasets/orders.csv. Скачать датасет\n",
    "\n",
    "`transactionId` — идентификатор заказа;\n",
    "\n",
    "`visitorId` — идентификатор пользователя, совершившего заказ;\n",
    "\n",
    "`date` — дата, когда был совершён заказ;\n",
    "\n",
    "`revenue` — выручка заказа;\n",
    "\n",
    "`group` — группа A/B-теста, в которую попал заказ.\n",
    "\n",
    "Файл /datasets/visitors.csv. Скачать датасет\n",
    "\n",
    "`date` — дата;\n",
    "\n",
    "`group` — группа A/B-теста;\n",
    "\n",
    "`visitors` — количество пользователей в указанную дату в указанной группе A/B-теста"
   ]
  },
  {
   "cell_type": "code",
   "execution_count": 1,
   "id": "958a691d",
   "metadata": {},
   "outputs": [],
   "source": [
    "import pandas as pd\n",
    "import scipy.stats as stats\n",
    "import datetime as dt\n",
    "import numpy as np\n",
    "import matplotlib.pyplot as plt"
   ]
  },
  {
   "cell_type": "code",
   "execution_count": 2,
   "id": "65ea85d4",
   "metadata": {},
   "outputs": [],
   "source": [
    "try:\n",
    "    hypothesis, orders, visitors = (\n",
    "    pd.read_csv('hypothesis_p.csv'),  # описание гипотез\n",
    "    pd.read_csv('orders_p.csv'),  # информация о заказах\n",
    "    pd.read_csv('visitors_p.csv'),  # группы А/В теста\n",
    ") \n",
    "except:\n",
    "    hypothesis, orders, visitors = (\n",
    "    pd.read_csv('/datasets/hypothesis.csv'),  # описание гипотез\n",
    "    pd.read_csv('/datasets/orders.csv'),  # информация о заказах\n",
    "    pd.read_csv('/datasets/visitors.csv'),  # группы А/В теста\n",
    ")"
   ]
  },
  {
   "cell_type": "markdown",
   "id": "c6646eb0",
   "metadata": {},
   "source": [
    "Посмотрим данные. Выведем первые пять строк и общую информацию от датафреймах."
   ]
  },
  {
   "cell_type": "code",
   "execution_count": 3,
   "id": "ff74e7e0",
   "metadata": {},
   "outputs": [
    {
     "name": "stdout",
     "output_type": "stream",
     "text": [
      "   Unnamed: 0                                         Hypothesis  Reach  \\\n",
      "0           0  Добавить два новых канала привлечения трафика,...      3   \n",
      "1           1  Запустить собственную службу доставки, что сок...      2   \n",
      "2           2  Добавить блоки рекомендаций товаров на сайт ин...      8   \n",
      "3           3  Изменить структура категорий, что увеличит кон...      8   \n",
      "4           4  Изменить цвет фона главной страницы, чтобы уве...      3   \n",
      "\n",
      "   Impact  Confidence  Efforts  \n",
      "0      10           8        6  \n",
      "1       5           4       10  \n",
      "2       3           7        3  \n",
      "3       3           3        8  \n",
      "4       1           1        1  \n",
      "<class 'pandas.core.frame.DataFrame'>\n",
      "RangeIndex: 9 entries, 0 to 8\n",
      "Data columns (total 6 columns):\n",
      " #   Column      Non-Null Count  Dtype \n",
      "---  ------      --------------  ----- \n",
      " 0   Unnamed: 0  9 non-null      int64 \n",
      " 1   Hypothesis  9 non-null      object\n",
      " 2   Reach       9 non-null      int64 \n",
      " 3   Impact      9 non-null      int64 \n",
      " 4   Confidence  9 non-null      int64 \n",
      " 5   Efforts     9 non-null      int64 \n",
      "dtypes: int64(5), object(1)\n",
      "memory usage: 560.0+ bytes\n"
     ]
    }
   ],
   "source": [
    "print(hypothesis.head())\n",
    "hypothesis.info()"
   ]
  },
  {
   "cell_type": "code",
   "execution_count": 4,
   "id": "afe2ab41",
   "metadata": {},
   "outputs": [
    {
     "name": "stdout",
     "output_type": "stream",
     "text": [
      "   Unnamed: 0  transactionId   visitorId        date  revenue group\n",
      "0           0     3667963787  3312258926  2019-08-15     1650     B\n",
      "1           1     2804400009  3642806036  2019-08-15      730     B\n",
      "2           2     2961555356  4069496402  2019-08-15      400     A\n",
      "3           3     3797467345  1196621759  2019-08-15     9759     B\n",
      "4           4     2282983706  2322279887  2019-08-15     2308     B\n",
      "<class 'pandas.core.frame.DataFrame'>\n",
      "RangeIndex: 1197 entries, 0 to 1196\n",
      "Data columns (total 6 columns):\n",
      " #   Column         Non-Null Count  Dtype \n",
      "---  ------         --------------  ----- \n",
      " 0   Unnamed: 0     1197 non-null   int64 \n",
      " 1   transactionId  1197 non-null   int64 \n",
      " 2   visitorId      1197 non-null   int64 \n",
      " 3   date           1197 non-null   object\n",
      " 4   revenue        1197 non-null   int64 \n",
      " 5   group          1197 non-null   object\n",
      "dtypes: int64(4), object(2)\n",
      "memory usage: 56.2+ KB\n"
     ]
    }
   ],
   "source": [
    "print(orders.head())\n",
    "orders.info()"
   ]
  },
  {
   "cell_type": "code",
   "execution_count": 5,
   "id": "ec7fa4dd",
   "metadata": {},
   "outputs": [
    {
     "name": "stdout",
     "output_type": "stream",
     "text": [
      "   Unnamed: 0        date group  visitors\n",
      "0           0  2019-08-01     A       719\n",
      "1           1  2019-08-02     A       619\n",
      "2           2  2019-08-03     A       507\n",
      "3           3  2019-08-04     A       717\n",
      "4           4  2019-08-05     A       756\n",
      "<class 'pandas.core.frame.DataFrame'>\n",
      "RangeIndex: 62 entries, 0 to 61\n",
      "Data columns (total 4 columns):\n",
      " #   Column      Non-Null Count  Dtype \n",
      "---  ------      --------------  ----- \n",
      " 0   Unnamed: 0  62 non-null     int64 \n",
      " 1   date        62 non-null     object\n",
      " 2   group       62 non-null     object\n",
      " 3   visitors    62 non-null     int64 \n",
      "dtypes: int64(2), object(2)\n",
      "memory usage: 2.1+ KB\n"
     ]
    }
   ],
   "source": [
    "print(visitors.head())\n",
    "visitors.info()"
   ]
  },
  {
   "cell_type": "markdown",
   "id": "bb28a023",
   "metadata": {},
   "source": [
    "**Проверим данные перед началом работы с ними:**"
   ]
  },
  {
   "cell_type": "markdown",
   "id": "ecc9c258",
   "metadata": {},
   "source": [
    "Проверим наличие явных дубликатов"
   ]
  },
  {
   "cell_type": "code",
   "execution_count": 6,
   "id": "09658f90",
   "metadata": {},
   "outputs": [
    {
     "data": {
      "text/plain": [
       "0"
      ]
     },
     "execution_count": 6,
     "metadata": {},
     "output_type": "execute_result"
    }
   ],
   "source": [
    "orders.duplicated().sum()"
   ]
  },
  {
   "cell_type": "code",
   "execution_count": 7,
   "id": "cc020902",
   "metadata": {
    "scrolled": true
   },
   "outputs": [
    {
     "data": {
      "text/plain": [
       "0"
      ]
     },
     "execution_count": 7,
     "metadata": {},
     "output_type": "execute_result"
    }
   ],
   "source": [
    "visitors.duplicated().sum()"
   ]
  },
  {
   "cell_type": "markdown",
   "id": "c4b673c7",
   "metadata": {},
   "source": [
    "Проверяем наличие пропусков и их количество"
   ]
  },
  {
   "cell_type": "code",
   "execution_count": 8,
   "id": "66b5ef12",
   "metadata": {},
   "outputs": [
    {
     "name": "stdout",
     "output_type": "stream",
     "text": [
      "Unnamed: 0       0\n",
      "transactionId    0\n",
      "visitorId        0\n",
      "date             0\n",
      "revenue          0\n",
      "group            0\n",
      "dtype: int64\n"
     ]
    }
   ],
   "source": [
    "print(orders.isna().sum()) "
   ]
  },
  {
   "cell_type": "code",
   "execution_count": 9,
   "id": "3a3ca382",
   "metadata": {},
   "outputs": [
    {
     "name": "stdout",
     "output_type": "stream",
     "text": [
      "Unnamed: 0    0\n",
      "date          0\n",
      "group         0\n",
      "visitors      0\n",
      "dtype: int64\n"
     ]
    }
   ],
   "source": [
    "print(visitors.isna().sum())"
   ]
  },
  {
   "cell_type": "markdown",
   "id": "14db22bc",
   "metadata": {},
   "source": [
    "Данные не содержат ни дубликатов, ни пропусков."
   ]
  },
  {
   "cell_type": "markdown",
   "id": "629d2b6c",
   "metadata": {},
   "source": [
    "Проверим сколько и каких групп участвовало в тесте:"
   ]
  },
  {
   "cell_type": "code",
   "execution_count": 10,
   "id": "3d22e6af",
   "metadata": {},
   "outputs": [
    {
     "data": {
      "text/plain": [
       "array(['B', 'A'], dtype=object)"
      ]
     },
     "execution_count": 10,
     "metadata": {},
     "output_type": "execute_result"
    }
   ],
   "source": [
    "orders.group.unique()"
   ]
  },
  {
   "cell_type": "markdown",
   "id": "3f161261",
   "metadata": {},
   "source": [
    "Имеем две группы: А и В\n",
    "\n",
    "Определим даты начала и окончания теста"
   ]
  },
  {
   "cell_type": "code",
   "execution_count": 11,
   "id": "5f17bbff",
   "metadata": {},
   "outputs": [
    {
     "name": "stdout",
     "output_type": "stream",
     "text": [
      "Дата начала теста:  2019-08-01\n",
      "Дата окончания теста:  2019-08-31\n"
     ]
    }
   ],
   "source": [
    "min_data = orders.date.min()\n",
    "max_data = orders.date.max()\n",
    "print('Дата начала теста: ', min_data)\n",
    "print('Дата окончания теста: ', max_data)"
   ]
  },
  {
   "cell_type": "markdown",
   "id": "2d8122c9",
   "metadata": {},
   "source": [
    "Определим количество пользователей в каждой группе   "
   ]
  },
  {
   "cell_type": "code",
   "execution_count": 12,
   "id": "4cbf9238",
   "metadata": {},
   "outputs": [
    {
     "data": {
      "text/plain": [
       "B    640\n",
       "A    557\n",
       "Name: group, dtype: int64"
      ]
     },
     "execution_count": 12,
     "metadata": {},
     "output_type": "execute_result"
    }
   ],
   "source": [
    "orders.group.value_counts()"
   ]
  },
  {
   "cell_type": "markdown",
   "id": "5232f862",
   "metadata": {},
   "source": [
    "Проверим нет ли пользователей, которые попали в обе группы"
   ]
  },
  {
   "cell_type": "code",
   "execution_count": 13,
   "id": "07b88d54",
   "metadata": {},
   "outputs": [
    {
     "data": {
      "text/html": [
       "<div>\n",
       "<style scoped>\n",
       "    .dataframe tbody tr th:only-of-type {\n",
       "        vertical-align: middle;\n",
       "    }\n",
       "\n",
       "    .dataframe tbody tr th {\n",
       "        vertical-align: top;\n",
       "    }\n",
       "\n",
       "    .dataframe thead th {\n",
       "        text-align: right;\n",
       "    }\n",
       "</style>\n",
       "<table border=\"1\" class=\"dataframe\">\n",
       "  <thead>\n",
       "    <tr style=\"text-align: right;\">\n",
       "      <th></th>\n",
       "      <th>Unnamed: 0_x</th>\n",
       "      <th>transactionId_x</th>\n",
       "      <th>visitorId</th>\n",
       "      <th>date_x</th>\n",
       "      <th>revenue_x</th>\n",
       "      <th>group_x</th>\n",
       "      <th>Unnamed: 0_y</th>\n",
       "      <th>transactionId_y</th>\n",
       "      <th>date_y</th>\n",
       "      <th>revenue_y</th>\n",
       "      <th>group_y</th>\n",
       "    </tr>\n",
       "  </thead>\n",
       "  <tbody>\n",
       "    <tr>\n",
       "      <th>0</th>\n",
       "      <td>2</td>\n",
       "      <td>2961555356</td>\n",
       "      <td>4069496402</td>\n",
       "      <td>2019-08-15</td>\n",
       "      <td>400</td>\n",
       "      <td>A</td>\n",
       "      <td>1070</td>\n",
       "      <td>1473132782</td>\n",
       "      <td>2019-08-12</td>\n",
       "      <td>640</td>\n",
       "      <td>B</td>\n",
       "    </tr>\n",
       "    <tr>\n",
       "      <th>1</th>\n",
       "      <td>26</td>\n",
       "      <td>2223239646</td>\n",
       "      <td>199603092</td>\n",
       "      <td>2019-08-15</td>\n",
       "      <td>3488</td>\n",
       "      <td>A</td>\n",
       "      <td>246</td>\n",
       "      <td>437656952</td>\n",
       "      <td>2019-08-02</td>\n",
       "      <td>3488</td>\n",
       "      <td>B</td>\n",
       "    </tr>\n",
       "    <tr>\n",
       "      <th>2</th>\n",
       "      <td>134</td>\n",
       "      <td>62794304</td>\n",
       "      <td>199603092</td>\n",
       "      <td>2019-08-22</td>\n",
       "      <td>6976</td>\n",
       "      <td>A</td>\n",
       "      <td>246</td>\n",
       "      <td>437656952</td>\n",
       "      <td>2019-08-02</td>\n",
       "      <td>3488</td>\n",
       "      <td>B</td>\n",
       "    </tr>\n",
       "    <tr>\n",
       "      <th>3</th>\n",
       "      <td>823</td>\n",
       "      <td>2971973105</td>\n",
       "      <td>199603092</td>\n",
       "      <td>2019-08-27</td>\n",
       "      <td>2790</td>\n",
       "      <td>A</td>\n",
       "      <td>246</td>\n",
       "      <td>437656952</td>\n",
       "      <td>2019-08-02</td>\n",
       "      <td>3488</td>\n",
       "      <td>B</td>\n",
       "    </tr>\n",
       "    <tr>\n",
       "      <th>4</th>\n",
       "      <td>1102</td>\n",
       "      <td>1941707234</td>\n",
       "      <td>199603092</td>\n",
       "      <td>2019-08-12</td>\n",
       "      <td>6438</td>\n",
       "      <td>A</td>\n",
       "      <td>246</td>\n",
       "      <td>437656952</td>\n",
       "      <td>2019-08-02</td>\n",
       "      <td>3488</td>\n",
       "      <td>B</td>\n",
       "    </tr>\n",
       "    <tr>\n",
       "      <th>...</th>\n",
       "      <td>...</td>\n",
       "      <td>...</td>\n",
       "      <td>...</td>\n",
       "      <td>...</td>\n",
       "      <td>...</td>\n",
       "      <td>...</td>\n",
       "      <td>...</td>\n",
       "      <td>...</td>\n",
       "      <td>...</td>\n",
       "      <td>...</td>\n",
       "      <td>...</td>\n",
       "    </tr>\n",
       "    <tr>\n",
       "      <th>178</th>\n",
       "      <td>1167</td>\n",
       "      <td>3757656646</td>\n",
       "      <td>4186807279</td>\n",
       "      <td>2019-08-14</td>\n",
       "      <td>4990</td>\n",
       "      <td>A</td>\n",
       "      <td>814</td>\n",
       "      <td>1759418862</td>\n",
       "      <td>2019-08-21</td>\n",
       "      <td>18560</td>\n",
       "      <td>B</td>\n",
       "    </tr>\n",
       "    <tr>\n",
       "      <th>179</th>\n",
       "      <td>1167</td>\n",
       "      <td>3757656646</td>\n",
       "      <td>4186807279</td>\n",
       "      <td>2019-08-14</td>\n",
       "      <td>4990</td>\n",
       "      <td>A</td>\n",
       "      <td>819</td>\n",
       "      <td>380064637</td>\n",
       "      <td>2019-08-27</td>\n",
       "      <td>13740</td>\n",
       "      <td>B</td>\n",
       "    </tr>\n",
       "    <tr>\n",
       "      <th>180</th>\n",
       "      <td>1173</td>\n",
       "      <td>3612788481</td>\n",
       "      <td>2712142231</td>\n",
       "      <td>2019-08-14</td>\n",
       "      <td>2490</td>\n",
       "      <td>A</td>\n",
       "      <td>61</td>\n",
       "      <td>1251767592</td>\n",
       "      <td>2019-08-16</td>\n",
       "      <td>790</td>\n",
       "      <td>B</td>\n",
       "    </tr>\n",
       "    <tr>\n",
       "      <th>181</th>\n",
       "      <td>1178</td>\n",
       "      <td>4052155355</td>\n",
       "      <td>2949041841</td>\n",
       "      <td>2019-08-14</td>\n",
       "      <td>190</td>\n",
       "      <td>A</td>\n",
       "      <td>1184</td>\n",
       "      <td>1329499668</td>\n",
       "      <td>2019-08-14</td>\n",
       "      <td>10380</td>\n",
       "      <td>B</td>\n",
       "    </tr>\n",
       "    <tr>\n",
       "      <th>182</th>\n",
       "      <td>1183</td>\n",
       "      <td>1458356232</td>\n",
       "      <td>963407295</td>\n",
       "      <td>2019-08-14</td>\n",
       "      <td>4940</td>\n",
       "      <td>A</td>\n",
       "      <td>20</td>\n",
       "      <td>2904772834</td>\n",
       "      <td>2019-08-15</td>\n",
       "      <td>300</td>\n",
       "      <td>B</td>\n",
       "    </tr>\n",
       "  </tbody>\n",
       "</table>\n",
       "<p>183 rows × 11 columns</p>\n",
       "</div>"
      ],
      "text/plain": [
       "     Unnamed: 0_x  transactionId_x   visitorId      date_x  revenue_x group_x  \\\n",
       "0               2       2961555356  4069496402  2019-08-15        400       A   \n",
       "1              26       2223239646   199603092  2019-08-15       3488       A   \n",
       "2             134         62794304   199603092  2019-08-22       6976       A   \n",
       "3             823       2971973105   199603092  2019-08-27       2790       A   \n",
       "4            1102       1941707234   199603092  2019-08-12       6438       A   \n",
       "..            ...              ...         ...         ...        ...     ...   \n",
       "178          1167       3757656646  4186807279  2019-08-14       4990       A   \n",
       "179          1167       3757656646  4186807279  2019-08-14       4990       A   \n",
       "180          1173       3612788481  2712142231  2019-08-14       2490       A   \n",
       "181          1178       4052155355  2949041841  2019-08-14        190       A   \n",
       "182          1183       1458356232   963407295  2019-08-14       4940       A   \n",
       "\n",
       "     Unnamed: 0_y  transactionId_y      date_y  revenue_y group_y  \n",
       "0            1070       1473132782  2019-08-12        640       B  \n",
       "1             246        437656952  2019-08-02       3488       B  \n",
       "2             246        437656952  2019-08-02       3488       B  \n",
       "3             246        437656952  2019-08-02       3488       B  \n",
       "4             246        437656952  2019-08-02       3488       B  \n",
       "..            ...              ...         ...        ...     ...  \n",
       "178           814       1759418862  2019-08-21      18560       B  \n",
       "179           819        380064637  2019-08-27      13740       B  \n",
       "180            61       1251767592  2019-08-16        790       B  \n",
       "181          1184       1329499668  2019-08-14      10380       B  \n",
       "182            20       2904772834  2019-08-15        300       B  \n",
       "\n",
       "[183 rows x 11 columns]"
      ]
     },
     "execution_count": 13,
     "metadata": {},
     "output_type": "execute_result"
    }
   ],
   "source": [
    "orders_a = orders[orders['group']=='A']\n",
    "orders_b = orders[orders['group']=='B']\n",
    "srez_id = pd.merge(orders_a, orders_b, on=['visitorId'], how='inner')\n",
    "srez_id"
   ]
  },
  {
   "cell_type": "code",
   "execution_count": 14,
   "id": "0bb8a88c",
   "metadata": {},
   "outputs": [
    {
     "name": "stdout",
     "output_type": "stream",
     "text": [
      "Количисество пользователей, которые попали в обе группы:  58\n"
     ]
    }
   ],
   "source": [
    "print('Количисество пользователей, которые попали в обе группы: ', len(srez_id['visitorId'].unique()))"
   ]
  },
  {
   "cell_type": "code",
   "execution_count": 15,
   "id": "0a7a5d96",
   "metadata": {},
   "outputs": [],
   "source": [
    "orders = orders[np.logical_not(orders['visitorId'].isin(srez_id['visitorId']))]"
   ]
  },
  {
   "cell_type": "code",
   "execution_count": 16,
   "id": "cedc2cc9",
   "metadata": {},
   "outputs": [
    {
     "data": {
      "text/plain": [
       "B    548\n",
       "A    468\n",
       "Name: group, dtype: int64"
      ]
     },
     "execution_count": 16,
     "metadata": {},
     "output_type": "execute_result"
    }
   ],
   "source": [
    "orders.group.value_counts()"
   ]
  },
  {
   "cell_type": "markdown",
   "id": "a8ab2e33",
   "metadata": {},
   "source": [
    "### Промежуточный вывод:\n",
    "Были выявлены пользователи, которые попали в обе группы. Их количество около 15% от общего числа, но для чистоты эксперемента мы вынуждены от них избавиться. "
   ]
  },
  {
   "cell_type": "markdown",
   "id": "ed9c61d9",
   "metadata": {},
   "source": [
    "### Часть 1. Приоритизация гипотез.\n",
    "\n",
    "В файле /datasets/hypothesis.csv 9 гипотез по увеличению выручки интернет-магазина с указанными параметрами Reach, Impact, Confidence, Effort.\n",
    "\n",
    "Задача\n",
    "\n",
    "- Примените фреймворк ICE для приоритизации гипотез. Отсортируйте их по убыванию приоритета.\n",
    "\n",
    "- Примените фреймворк RICE для приоритизации гипотез. Отсортируйте их по убыванию приоритета.\n",
    "\n",
    "- Укажите, как изменилась приоритизация гипотез при применении RICE вместо ICE. Объясните, почему так произошло."
   ]
  },
  {
   "cell_type": "markdown",
   "id": "937b4ee2",
   "metadata": {},
   "source": [
    "Для приоритизации гипотез мы применим два метода ICE и RICE. \n",
    "\n",
    "ICE учитывает такие параметры, как влияние, уверенность, усилия. \n",
    "\n",
    "И его модификацию RICE, в котором появляется дополнительный параметр \"охват\", который отражает сколько пользователей затронет изменение, которые мы хотим внести."
   ]
  },
  {
   "cell_type": "code",
   "execution_count": 17,
   "id": "9fa06ac3",
   "metadata": {},
   "outputs": [
    {
     "data": {
      "text/html": [
       "<div>\n",
       "<style scoped>\n",
       "    .dataframe tbody tr th:only-of-type {\n",
       "        vertical-align: middle;\n",
       "    }\n",
       "\n",
       "    .dataframe tbody tr th {\n",
       "        vertical-align: top;\n",
       "    }\n",
       "\n",
       "    .dataframe thead th {\n",
       "        text-align: right;\n",
       "    }\n",
       "</style>\n",
       "<table border=\"1\" class=\"dataframe\">\n",
       "  <thead>\n",
       "    <tr style=\"text-align: right;\">\n",
       "      <th></th>\n",
       "      <th>Unnamed: 0</th>\n",
       "      <th>Hypothesis</th>\n",
       "      <th>Reach</th>\n",
       "      <th>Impact</th>\n",
       "      <th>Confidence</th>\n",
       "      <th>Efforts</th>\n",
       "    </tr>\n",
       "  </thead>\n",
       "  <tbody>\n",
       "    <tr>\n",
       "      <th>0</th>\n",
       "      <td>0</td>\n",
       "      <td>Добавить два новых канала привлечения трафика, что позволит привлекать на 30% больше пользователей</td>\n",
       "      <td>3</td>\n",
       "      <td>10</td>\n",
       "      <td>8</td>\n",
       "      <td>6</td>\n",
       "    </tr>\n",
       "    <tr>\n",
       "      <th>1</th>\n",
       "      <td>1</td>\n",
       "      <td>Запустить собственную службу доставки, что сократит срок доставки заказов</td>\n",
       "      <td>2</td>\n",
       "      <td>5</td>\n",
       "      <td>4</td>\n",
       "      <td>10</td>\n",
       "    </tr>\n",
       "    <tr>\n",
       "      <th>2</th>\n",
       "      <td>2</td>\n",
       "      <td>Добавить блоки рекомендаций товаров на сайт интернет магазина, чтобы повысить конверсию и средний чек заказа</td>\n",
       "      <td>8</td>\n",
       "      <td>3</td>\n",
       "      <td>7</td>\n",
       "      <td>3</td>\n",
       "    </tr>\n",
       "    <tr>\n",
       "      <th>3</th>\n",
       "      <td>3</td>\n",
       "      <td>Изменить структура категорий, что увеличит конверсию, т.к. пользователи быстрее найдут нужный товар</td>\n",
       "      <td>8</td>\n",
       "      <td>3</td>\n",
       "      <td>3</td>\n",
       "      <td>8</td>\n",
       "    </tr>\n",
       "    <tr>\n",
       "      <th>4</th>\n",
       "      <td>4</td>\n",
       "      <td>Изменить цвет фона главной страницы, чтобы увеличить вовлеченность пользователей</td>\n",
       "      <td>3</td>\n",
       "      <td>1</td>\n",
       "      <td>1</td>\n",
       "      <td>1</td>\n",
       "    </tr>\n",
       "    <tr>\n",
       "      <th>5</th>\n",
       "      <td>5</td>\n",
       "      <td>Добавить страницу отзывов клиентов о магазине, что позволит увеличить количество заказов</td>\n",
       "      <td>3</td>\n",
       "      <td>2</td>\n",
       "      <td>2</td>\n",
       "      <td>3</td>\n",
       "    </tr>\n",
       "    <tr>\n",
       "      <th>6</th>\n",
       "      <td>6</td>\n",
       "      <td>Показать на главной странице баннеры с актуальными акциями и распродажами, чтобы увеличить конверсию</td>\n",
       "      <td>5</td>\n",
       "      <td>3</td>\n",
       "      <td>8</td>\n",
       "      <td>3</td>\n",
       "    </tr>\n",
       "    <tr>\n",
       "      <th>7</th>\n",
       "      <td>7</td>\n",
       "      <td>Добавить форму подписки на все основные страницы, чтобы собрать базу клиентов для email-рассылок</td>\n",
       "      <td>10</td>\n",
       "      <td>7</td>\n",
       "      <td>8</td>\n",
       "      <td>5</td>\n",
       "    </tr>\n",
       "    <tr>\n",
       "      <th>8</th>\n",
       "      <td>8</td>\n",
       "      <td>Запустить акцию, дающую скидку на товар в день рождения</td>\n",
       "      <td>1</td>\n",
       "      <td>9</td>\n",
       "      <td>9</td>\n",
       "      <td>5</td>\n",
       "    </tr>\n",
       "  </tbody>\n",
       "</table>\n",
       "</div>"
      ],
      "text/plain": [
       "   Unnamed: 0  \\\n",
       "0           0   \n",
       "1           1   \n",
       "2           2   \n",
       "3           3   \n",
       "4           4   \n",
       "5           5   \n",
       "6           6   \n",
       "7           7   \n",
       "8           8   \n",
       "\n",
       "                                                                                                     Hypothesis  \\\n",
       "0            Добавить два новых канала привлечения трафика, что позволит привлекать на 30% больше пользователей   \n",
       "1                                     Запустить собственную службу доставки, что сократит срок доставки заказов   \n",
       "2  Добавить блоки рекомендаций товаров на сайт интернет магазина, чтобы повысить конверсию и средний чек заказа   \n",
       "3           Изменить структура категорий, что увеличит конверсию, т.к. пользователи быстрее найдут нужный товар   \n",
       "4                              Изменить цвет фона главной страницы, чтобы увеличить вовлеченность пользователей   \n",
       "5                      Добавить страницу отзывов клиентов о магазине, что позволит увеличить количество заказов   \n",
       "6          Показать на главной странице баннеры с актуальными акциями и распродажами, чтобы увеличить конверсию   \n",
       "7              Добавить форму подписки на все основные страницы, чтобы собрать базу клиентов для email-рассылок   \n",
       "8                                                       Запустить акцию, дающую скидку на товар в день рождения   \n",
       "\n",
       "   Reach  Impact  Confidence  Efforts  \n",
       "0      3      10           8        6  \n",
       "1      2       5           4       10  \n",
       "2      8       3           7        3  \n",
       "3      8       3           3        8  \n",
       "4      3       1           1        1  \n",
       "5      3       2           2        3  \n",
       "6      5       3           8        3  \n",
       "7     10       7           8        5  \n",
       "8      1       9           9        5  "
      ]
     },
     "metadata": {},
     "output_type": "display_data"
    }
   ],
   "source": [
    "pd.set_option('max_colwidth', None)\n",
    "display(hypothesis.head(10))"
   ]
  },
  {
   "cell_type": "markdown",
   "id": "fcb75a11",
   "metadata": {},
   "source": [
    "Применим фреймворк ICE для приоритизации гипотез и отсортируйте их по убыванию приоритета."
   ]
  },
  {
   "cell_type": "code",
   "execution_count": 18,
   "id": "93f289c6",
   "metadata": {},
   "outputs": [
    {
     "data": {
      "text/html": [
       "<div>\n",
       "<style scoped>\n",
       "    .dataframe tbody tr th:only-of-type {\n",
       "        vertical-align: middle;\n",
       "    }\n",
       "\n",
       "    .dataframe tbody tr th {\n",
       "        vertical-align: top;\n",
       "    }\n",
       "\n",
       "    .dataframe thead th {\n",
       "        text-align: right;\n",
       "    }\n",
       "</style>\n",
       "<table border=\"1\" class=\"dataframe\">\n",
       "  <thead>\n",
       "    <tr style=\"text-align: right;\">\n",
       "      <th></th>\n",
       "      <th>Hypothesis</th>\n",
       "      <th>ICE</th>\n",
       "    </tr>\n",
       "  </thead>\n",
       "  <tbody>\n",
       "    <tr>\n",
       "      <th>8</th>\n",
       "      <td>Запустить акцию, дающую скидку на товар в день рождения</td>\n",
       "      <td>16.20</td>\n",
       "    </tr>\n",
       "    <tr>\n",
       "      <th>0</th>\n",
       "      <td>Добавить два новых канала привлечения трафика, что позволит привлекать на 30% больше пользователей</td>\n",
       "      <td>13.33</td>\n",
       "    </tr>\n",
       "    <tr>\n",
       "      <th>7</th>\n",
       "      <td>Добавить форму подписки на все основные страницы, чтобы собрать базу клиентов для email-рассылок</td>\n",
       "      <td>11.20</td>\n",
       "    </tr>\n",
       "    <tr>\n",
       "      <th>6</th>\n",
       "      <td>Показать на главной странице баннеры с актуальными акциями и распродажами, чтобы увеличить конверсию</td>\n",
       "      <td>8.00</td>\n",
       "    </tr>\n",
       "    <tr>\n",
       "      <th>2</th>\n",
       "      <td>Добавить блоки рекомендаций товаров на сайт интернет магазина, чтобы повысить конверсию и средний чек заказа</td>\n",
       "      <td>7.00</td>\n",
       "    </tr>\n",
       "    <tr>\n",
       "      <th>1</th>\n",
       "      <td>Запустить собственную службу доставки, что сократит срок доставки заказов</td>\n",
       "      <td>2.00</td>\n",
       "    </tr>\n",
       "    <tr>\n",
       "      <th>5</th>\n",
       "      <td>Добавить страницу отзывов клиентов о магазине, что позволит увеличить количество заказов</td>\n",
       "      <td>1.33</td>\n",
       "    </tr>\n",
       "    <tr>\n",
       "      <th>3</th>\n",
       "      <td>Изменить структура категорий, что увеличит конверсию, т.к. пользователи быстрее найдут нужный товар</td>\n",
       "      <td>1.12</td>\n",
       "    </tr>\n",
       "    <tr>\n",
       "      <th>4</th>\n",
       "      <td>Изменить цвет фона главной страницы, чтобы увеличить вовлеченность пользователей</td>\n",
       "      <td>1.00</td>\n",
       "    </tr>\n",
       "  </tbody>\n",
       "</table>\n",
       "</div>"
      ],
      "text/plain": [
       "                                                                                                     Hypothesis  \\\n",
       "8                                                       Запустить акцию, дающую скидку на товар в день рождения   \n",
       "0            Добавить два новых канала привлечения трафика, что позволит привлекать на 30% больше пользователей   \n",
       "7              Добавить форму подписки на все основные страницы, чтобы собрать базу клиентов для email-рассылок   \n",
       "6          Показать на главной странице баннеры с актуальными акциями и распродажами, чтобы увеличить конверсию   \n",
       "2  Добавить блоки рекомендаций товаров на сайт интернет магазина, чтобы повысить конверсию и средний чек заказа   \n",
       "1                                     Запустить собственную службу доставки, что сократит срок доставки заказов   \n",
       "5                      Добавить страницу отзывов клиентов о магазине, что позволит увеличить количество заказов   \n",
       "3           Изменить структура категорий, что увеличит конверсию, т.к. пользователи быстрее найдут нужный товар   \n",
       "4                              Изменить цвет фона главной страницы, чтобы увеличить вовлеченность пользователей   \n",
       "\n",
       "     ICE  \n",
       "8  16.20  \n",
       "0  13.33  \n",
       "7  11.20  \n",
       "6   8.00  \n",
       "2   7.00  \n",
       "1   2.00  \n",
       "5   1.33  \n",
       "3   1.12  \n",
       "4   1.00  "
      ]
     },
     "metadata": {},
     "output_type": "display_data"
    }
   ],
   "source": [
    "hypothesis['ICE'] = round(hypothesis['Impact'] * hypothesis['Confidence'] / hypothesis['Efforts'], 2)\n",
    "display(hypothesis[['Hypothesis', 'ICE']].sort_values(by='ICE', ascending=False))"
   ]
  },
  {
   "cell_type": "markdown",
   "id": "221386f4",
   "metadata": {},
   "source": [
    "Наиболее перспективные гипотезы:\n",
    "\n",
    "- Запустить акцию, дающую скидку на товар в день рождения  \n",
    "- Добавить два новых канала привлечения трафика, что позволит привлекать на 30% больше пользователей   \n",
    "- Добавить форму подписки на все основные страницы, чтобы собрать базу клиентов для email-рассылок   \n",
    "- Показать на главной странице баннеры с актуальными акциями и распродажами, чтобы увеличить конверсию"
   ]
  },
  {
   "cell_type": "markdown",
   "id": "985efc30",
   "metadata": {},
   "source": [
    "Применим фреймворк RICE для приоритизации гипотез. Отсортируем их по убыванию приоритета."
   ]
  },
  {
   "cell_type": "code",
   "execution_count": 19,
   "id": "e2d671e0",
   "metadata": {},
   "outputs": [
    {
     "data": {
      "text/html": [
       "<div>\n",
       "<style scoped>\n",
       "    .dataframe tbody tr th:only-of-type {\n",
       "        vertical-align: middle;\n",
       "    }\n",
       "\n",
       "    .dataframe tbody tr th {\n",
       "        vertical-align: top;\n",
       "    }\n",
       "\n",
       "    .dataframe thead th {\n",
       "        text-align: right;\n",
       "    }\n",
       "</style>\n",
       "<table border=\"1\" class=\"dataframe\">\n",
       "  <thead>\n",
       "    <tr style=\"text-align: right;\">\n",
       "      <th></th>\n",
       "      <th>Hypothesis</th>\n",
       "      <th>RICE</th>\n",
       "    </tr>\n",
       "  </thead>\n",
       "  <tbody>\n",
       "    <tr>\n",
       "      <th>7</th>\n",
       "      <td>Добавить форму подписки на все основные страницы, чтобы собрать базу клиентов для email-рассылок</td>\n",
       "      <td>112.0</td>\n",
       "    </tr>\n",
       "    <tr>\n",
       "      <th>2</th>\n",
       "      <td>Добавить блоки рекомендаций товаров на сайт интернет магазина, чтобы повысить конверсию и средний чек заказа</td>\n",
       "      <td>56.0</td>\n",
       "    </tr>\n",
       "    <tr>\n",
       "      <th>0</th>\n",
       "      <td>Добавить два новых канала привлечения трафика, что позволит привлекать на 30% больше пользователей</td>\n",
       "      <td>40.0</td>\n",
       "    </tr>\n",
       "    <tr>\n",
       "      <th>6</th>\n",
       "      <td>Показать на главной странице баннеры с актуальными акциями и распродажами, чтобы увеличить конверсию</td>\n",
       "      <td>40.0</td>\n",
       "    </tr>\n",
       "    <tr>\n",
       "      <th>8</th>\n",
       "      <td>Запустить акцию, дающую скидку на товар в день рождения</td>\n",
       "      <td>16.2</td>\n",
       "    </tr>\n",
       "    <tr>\n",
       "      <th>3</th>\n",
       "      <td>Изменить структура категорий, что увеличит конверсию, т.к. пользователи быстрее найдут нужный товар</td>\n",
       "      <td>9.0</td>\n",
       "    </tr>\n",
       "    <tr>\n",
       "      <th>1</th>\n",
       "      <td>Запустить собственную службу доставки, что сократит срок доставки заказов</td>\n",
       "      <td>4.0</td>\n",
       "    </tr>\n",
       "    <tr>\n",
       "      <th>5</th>\n",
       "      <td>Добавить страницу отзывов клиентов о магазине, что позволит увеличить количество заказов</td>\n",
       "      <td>4.0</td>\n",
       "    </tr>\n",
       "    <tr>\n",
       "      <th>4</th>\n",
       "      <td>Изменить цвет фона главной страницы, чтобы увеличить вовлеченность пользователей</td>\n",
       "      <td>3.0</td>\n",
       "    </tr>\n",
       "  </tbody>\n",
       "</table>\n",
       "</div>"
      ],
      "text/plain": [
       "                                                                                                     Hypothesis  \\\n",
       "7              Добавить форму подписки на все основные страницы, чтобы собрать базу клиентов для email-рассылок   \n",
       "2  Добавить блоки рекомендаций товаров на сайт интернет магазина, чтобы повысить конверсию и средний чек заказа   \n",
       "0            Добавить два новых канала привлечения трафика, что позволит привлекать на 30% больше пользователей   \n",
       "6          Показать на главной странице баннеры с актуальными акциями и распродажами, чтобы увеличить конверсию   \n",
       "8                                                       Запустить акцию, дающую скидку на товар в день рождения   \n",
       "3           Изменить структура категорий, что увеличит конверсию, т.к. пользователи быстрее найдут нужный товар   \n",
       "1                                     Запустить собственную службу доставки, что сократит срок доставки заказов   \n",
       "5                      Добавить страницу отзывов клиентов о магазине, что позволит увеличить количество заказов   \n",
       "4                              Изменить цвет фона главной страницы, чтобы увеличить вовлеченность пользователей   \n",
       "\n",
       "    RICE  \n",
       "7  112.0  \n",
       "2   56.0  \n",
       "0   40.0  \n",
       "6   40.0  \n",
       "8   16.2  \n",
       "3    9.0  \n",
       "1    4.0  \n",
       "5    4.0  \n",
       "4    3.0  "
      ]
     },
     "metadata": {},
     "output_type": "display_data"
    }
   ],
   "source": [
    "hypothesis['RICE'] = hypothesis['Reach'] * hypothesis['Impact'] * hypothesis['Confidence'] / hypothesis['Efforts']\n",
    "\n",
    "display(hypothesis[['Hypothesis', 'RICE']].sort_values(by='RICE', ascending=False))"
   ]
  },
  {
   "cell_type": "markdown",
   "id": "3073af0e",
   "metadata": {},
   "source": [
    "Первые четыре гипотезы распределились в следующем порядке:\n",
    "\n",
    "- Добавить форму подписки на все основные страницы, чтобы собрать базу клиентов для email-рассылок   \n",
    "\n",
    "- Добавить блоки рекомендаций товаров на сайт интернет магазина, чтобы повысить конверсию и средний чек заказа  \n",
    "\n",
    "- Добавить два новых канала привлечения трафика, что позволит привлекать на 30% больше пользователей   \n",
    "\n",
    "- Показать на главной странице баннеры с актуальными акциями и распродажами, чтобы увеличить конверсию   \n",
    "\n",
    "Картина изменилась: три гипотезы остались, но поменялись местами, а на месте \"Запустить акцию, дающую скидку на товар в день рождения\"  теперь  \"Добавить блоки рекомендаций товаров на сайт интернет магазина, чтобы повысить конверсию и средний чек заказа\"\n",
    "\n",
    "Этого можно было ожидать, так как у последней показатель Reach 8 , а у Акции 1."
   ]
  },
  {
   "cell_type": "code",
   "execution_count": 20,
   "id": "515acfa6",
   "metadata": {},
   "outputs": [
    {
     "data": {
      "text/html": [
       "<div>\n",
       "<style scoped>\n",
       "    .dataframe tbody tr th:only-of-type {\n",
       "        vertical-align: middle;\n",
       "    }\n",
       "\n",
       "    .dataframe tbody tr th {\n",
       "        vertical-align: top;\n",
       "    }\n",
       "\n",
       "    .dataframe thead th {\n",
       "        text-align: right;\n",
       "    }\n",
       "</style>\n",
       "<table border=\"1\" class=\"dataframe\">\n",
       "  <thead>\n",
       "    <tr style=\"text-align: right;\">\n",
       "      <th></th>\n",
       "      <th>Unnamed: 0</th>\n",
       "      <th>Hypothesis</th>\n",
       "      <th>Reach</th>\n",
       "      <th>Impact</th>\n",
       "      <th>Confidence</th>\n",
       "      <th>Efforts</th>\n",
       "      <th>ICE</th>\n",
       "      <th>RICE</th>\n",
       "    </tr>\n",
       "  </thead>\n",
       "  <tbody>\n",
       "    <tr>\n",
       "      <th>7</th>\n",
       "      <td>7</td>\n",
       "      <td>Добавить форму подписки на все основные страницы, чтобы собрать базу клиентов для email-рассылок</td>\n",
       "      <td>10</td>\n",
       "      <td>7</td>\n",
       "      <td>8</td>\n",
       "      <td>5</td>\n",
       "      <td>11.20</td>\n",
       "      <td>112.0</td>\n",
       "    </tr>\n",
       "    <tr>\n",
       "      <th>2</th>\n",
       "      <td>2</td>\n",
       "      <td>Добавить блоки рекомендаций товаров на сайт интернет магазина, чтобы повысить конверсию и средний чек заказа</td>\n",
       "      <td>8</td>\n",
       "      <td>3</td>\n",
       "      <td>7</td>\n",
       "      <td>3</td>\n",
       "      <td>7.00</td>\n",
       "      <td>56.0</td>\n",
       "    </tr>\n",
       "    <tr>\n",
       "      <th>0</th>\n",
       "      <td>0</td>\n",
       "      <td>Добавить два новых канала привлечения трафика, что позволит привлекать на 30% больше пользователей</td>\n",
       "      <td>3</td>\n",
       "      <td>10</td>\n",
       "      <td>8</td>\n",
       "      <td>6</td>\n",
       "      <td>13.33</td>\n",
       "      <td>40.0</td>\n",
       "    </tr>\n",
       "    <tr>\n",
       "      <th>6</th>\n",
       "      <td>6</td>\n",
       "      <td>Показать на главной странице баннеры с актуальными акциями и распродажами, чтобы увеличить конверсию</td>\n",
       "      <td>5</td>\n",
       "      <td>3</td>\n",
       "      <td>8</td>\n",
       "      <td>3</td>\n",
       "      <td>8.00</td>\n",
       "      <td>40.0</td>\n",
       "    </tr>\n",
       "    <tr>\n",
       "      <th>8</th>\n",
       "      <td>8</td>\n",
       "      <td>Запустить акцию, дающую скидку на товар в день рождения</td>\n",
       "      <td>1</td>\n",
       "      <td>9</td>\n",
       "      <td>9</td>\n",
       "      <td>5</td>\n",
       "      <td>16.20</td>\n",
       "      <td>16.2</td>\n",
       "    </tr>\n",
       "    <tr>\n",
       "      <th>3</th>\n",
       "      <td>3</td>\n",
       "      <td>Изменить структура категорий, что увеличит конверсию, т.к. пользователи быстрее найдут нужный товар</td>\n",
       "      <td>8</td>\n",
       "      <td>3</td>\n",
       "      <td>3</td>\n",
       "      <td>8</td>\n",
       "      <td>1.12</td>\n",
       "      <td>9.0</td>\n",
       "    </tr>\n",
       "    <tr>\n",
       "      <th>1</th>\n",
       "      <td>1</td>\n",
       "      <td>Запустить собственную службу доставки, что сократит срок доставки заказов</td>\n",
       "      <td>2</td>\n",
       "      <td>5</td>\n",
       "      <td>4</td>\n",
       "      <td>10</td>\n",
       "      <td>2.00</td>\n",
       "      <td>4.0</td>\n",
       "    </tr>\n",
       "    <tr>\n",
       "      <th>5</th>\n",
       "      <td>5</td>\n",
       "      <td>Добавить страницу отзывов клиентов о магазине, что позволит увеличить количество заказов</td>\n",
       "      <td>3</td>\n",
       "      <td>2</td>\n",
       "      <td>2</td>\n",
       "      <td>3</td>\n",
       "      <td>1.33</td>\n",
       "      <td>4.0</td>\n",
       "    </tr>\n",
       "    <tr>\n",
       "      <th>4</th>\n",
       "      <td>4</td>\n",
       "      <td>Изменить цвет фона главной страницы, чтобы увеличить вовлеченность пользователей</td>\n",
       "      <td>3</td>\n",
       "      <td>1</td>\n",
       "      <td>1</td>\n",
       "      <td>1</td>\n",
       "      <td>1.00</td>\n",
       "      <td>3.0</td>\n",
       "    </tr>\n",
       "  </tbody>\n",
       "</table>\n",
       "</div>"
      ],
      "text/plain": [
       "   Unnamed: 0  \\\n",
       "7           7   \n",
       "2           2   \n",
       "0           0   \n",
       "6           6   \n",
       "8           8   \n",
       "3           3   \n",
       "1           1   \n",
       "5           5   \n",
       "4           4   \n",
       "\n",
       "                                                                                                     Hypothesis  \\\n",
       "7              Добавить форму подписки на все основные страницы, чтобы собрать базу клиентов для email-рассылок   \n",
       "2  Добавить блоки рекомендаций товаров на сайт интернет магазина, чтобы повысить конверсию и средний чек заказа   \n",
       "0            Добавить два новых канала привлечения трафика, что позволит привлекать на 30% больше пользователей   \n",
       "6          Показать на главной странице баннеры с актуальными акциями и распродажами, чтобы увеличить конверсию   \n",
       "8                                                       Запустить акцию, дающую скидку на товар в день рождения   \n",
       "3           Изменить структура категорий, что увеличит конверсию, т.к. пользователи быстрее найдут нужный товар   \n",
       "1                                     Запустить собственную службу доставки, что сократит срок доставки заказов   \n",
       "5                      Добавить страницу отзывов клиентов о магазине, что позволит увеличить количество заказов   \n",
       "4                              Изменить цвет фона главной страницы, чтобы увеличить вовлеченность пользователей   \n",
       "\n",
       "   Reach  Impact  Confidence  Efforts    ICE   RICE  \n",
       "7     10       7           8        5  11.20  112.0  \n",
       "2      8       3           7        3   7.00   56.0  \n",
       "0      3      10           8        6  13.33   40.0  \n",
       "6      5       3           8        3   8.00   40.0  \n",
       "8      1       9           9        5  16.20   16.2  \n",
       "3      8       3           3        8   1.12    9.0  \n",
       "1      2       5           4       10   2.00    4.0  \n",
       "5      3       2           2        3   1.33    4.0  \n",
       "4      3       1           1        1   1.00    3.0  "
      ]
     },
     "execution_count": 20,
     "metadata": {},
     "output_type": "execute_result"
    }
   ],
   "source": [
    "hypothesis.sort_values(by='RICE', ascending=False)"
   ]
  },
  {
   "cell_type": "markdown",
   "id": "901e9b92",
   "metadata": {},
   "source": [
    "Видим, что в RICE на первые позиции вишли гипотезы, которые имеют высокие первые три параметра, что позволило отодвинуть вниз гипотезы у которых низкий \"охват\" (Reach) и высокий показатель \"усилия\"(Efforts)"
   ]
  },
  {
   "cell_type": "markdown",
   "id": "b68e2da4",
   "metadata": {},
   "source": [
    "#### Часть 2. Анализ A/B-теста\n",
    "\n",
    "\n",
    "\n",
    "Задача\n",
    "\n",
    "\n",
    "\n",
    "\n",
    "Постройте точечный график количества заказов по пользователям. \n",
    "\n",
    "Сделайте выводы и предположения.\n",
    "\n",
    "Посчитайте 95-й и 99-й перцентили количества заказов на пользователя. \n",
    "\n",
    "Выберите границу для определения аномальных пользователей.\n",
    "\n",
    "Постройте точечный график стоимостей заказов. Сделайте выводы и предположения.\n",
    "\n",
    "Посчитайте 95-й и 99-й перцентили стоимости заказов. Выберите границу для определения аномальных заказов.\n",
    "\n",
    "Посчитайте статистическую значимость различий в конверсии между группами по «сырым» данным. \n",
    "\n",
    "Сделайте выводы и предположения.\n",
    "\n",
    "Посчитайте статистическую значимость различий в среднем чеке заказа между группами по «сырым» данным. \n",
    "\n",
    "Сделайте выводы и предположения.\n",
    "\n",
    "Посчитайте статистическую значимость различий в конверсии между группами по «очищенным» данным. \n",
    "\n",
    "Сделайте выводы и предположения.\n",
    "\n",
    "Посчитайте статистическую значимость различий в среднем чеке заказа между группами по «очищенным» данным. \n",
    "\n",
    "Сделайте выводы и предположения.\n",
    "\n",
    "Примите решение по результатам теста и объясните его. \n",
    "\n",
    "Варианты решений: \n",
    "\n",
    "1. Остановить тест, зафиксировать победу одной из групп. \n",
    "\n",
    "2. Остановить тест, зафиксировать отсутствие различий между группами. \n",
    "\n",
    "3. Продолжить тест.\n"
   ]
  },
  {
   "cell_type": "markdown",
   "id": "53afa9f5",
   "metadata": {},
   "source": [
    "#### Мы провели A/B-тест и получили результаты, которые описаны в файлах /datasets/orders.csv и /datasets/visitors.csv."
   ]
  },
  {
   "cell_type": "markdown",
   "id": "e6eb95d2",
   "metadata": {},
   "source": [
    "#### Проанализируем A/B-тест:\n",
    "\n"
   ]
  },
  {
   "cell_type": "code",
   "execution_count": 21,
   "id": "3ce5fc9e",
   "metadata": {},
   "outputs": [
    {
     "name": "stdout",
     "output_type": "stream",
     "text": [
      "   Unnamed: 0  transactionId   visitorId        date  revenue group\n",
      "0           0     3667963787  3312258926  2019-08-15     1650     B\n",
      "1           1     2804400009  3642806036  2019-08-15      730     B\n",
      "3           3     3797467345  1196621759  2019-08-15     9759     B\n",
      "4           4     2282983706  2322279887  2019-08-15     2308     B\n",
      "5           5      182168103   935554773  2019-08-15     2210     B\n",
      "   Unnamed: 0        date group  visitors\n",
      "0           0  2019-08-01     A       719\n",
      "1           1  2019-08-02     A       619\n",
      "2           2  2019-08-03     A       507\n",
      "3           3  2019-08-04     A       717\n",
      "4           4  2019-08-05     A       756\n"
     ]
    }
   ],
   "source": [
    "print(orders.head(5))\n",
    "print(visitors.head(5))"
   ]
  },
  {
   "cell_type": "markdown",
   "id": "bec8fdf7",
   "metadata": {},
   "source": [
    "Создадим массив уникальных пар значений дат и групп теста"
   ]
  },
  {
   "cell_type": "code",
   "execution_count": 22,
   "id": "d5b82998",
   "metadata": {},
   "outputs": [],
   "source": [
    "dates_groups = orders[['date', 'group']].drop_duplicates()"
   ]
  },
  {
   "cell_type": "markdown",
   "id": "97b0d734",
   "metadata": {},
   "source": [
    "Получим агрегированные кумулятивные по дням данные о заказах "
   ]
  },
  {
   "cell_type": "code",
   "execution_count": 23,
   "id": "bcb117e2",
   "metadata": {},
   "outputs": [],
   "source": [
    "orders_agg_regated = dates_groups.apply(lambda x:\n",
    "                                        orders[np.logical_and(orders['date'] <= x['date'],\n",
    "                                                              orders['group'] == x['group'])].agg(\n",
    "                                            {'date' : 'max',\n",
    "                                             'group' : 'max',\n",
    "                                             'transactionId' : 'nunique',\n",
    "                                             'visitorId' : 'nunique',\n",
    "                                             'revenue' : 'sum'}\n",
    "                                        ), axis=1).sort_values(by=['date','group'])\n"
   ]
  },
  {
   "cell_type": "markdown",
   "id": "b695ed4a",
   "metadata": {},
   "source": [
    "Получим агрегированные кумулятивные по дням данные о посетителях"
   ]
  },
  {
   "cell_type": "code",
   "execution_count": 24,
   "id": "37eaa617",
   "metadata": {},
   "outputs": [],
   "source": [
    "visitors_agg_regated = dates_groups.apply(lambda x:\n",
    "                                          visitors[np.logical_and(visitors['date'] <= x['date'],\n",
    "                                                                  visitors['group'] == x['group'])].agg(\n",
    "                                              {'date' : 'max',\n",
    "                                               'group' : 'max',\n",
    "                                               'visitors' : 'sum'}\n",
    "                                          ), axis=1).sort_values(by=['date','group'])"
   ]
  },
  {
   "cell_type": "markdown",
   "id": "0f3ba404",
   "metadata": {},
   "source": [
    "Объединим кумулятивные данные в одной таблице и присвоим ее столбцам другие имена"
   ]
  },
  {
   "cell_type": "code",
   "execution_count": 25,
   "id": "c8e506b9",
   "metadata": {
    "scrolled": true
   },
   "outputs": [
    {
     "name": "stdout",
     "output_type": "stream",
     "text": [
      "         date group  orders  buyers  revenue  visitors\n",
      "0  2019-08-01     A      23      19   142779       719\n",
      "1  2019-08-01     B      17      17    59758       713\n",
      "2  2019-08-02     A      42      36   234381      1338\n",
      "3  2019-08-02     B      40      39   221801      1294\n",
      "4  2019-08-03     A      66      60   346854      1845\n"
     ]
    }
   ],
   "source": [
    "cumulative_data = orders_agg_regated.merge(visitors_agg_regated,\n",
    "                                           left_on=['date', 'group'],\n",
    "                                           right_on=['date', 'group'])\n",
    "cumulative_data.columns = ['date', 'group', 'orders', 'buyers', 'revenue', 'visitors']\n",
    "\n",
    "print(cumulative_data.head(5))"
   ]
  },
  {
   "cell_type": "markdown",
   "id": "ebe2cf61",
   "metadata": {},
   "source": [
    "Построим графики кумулятивной выручки по дням и группам A/B-тестирования:"
   ]
  },
  {
   "cell_type": "code",
   "execution_count": 26,
   "id": "e2347a2f",
   "metadata": {},
   "outputs": [
    {
     "data": {
      "image/png": "[encoded data removed]",
      "text/plain": [
       "<Figure size 1080x504 with 1 Axes>"
      ]
     },
     "metadata": {
      "needs_background": "light"
     },
     "output_type": "display_data"
    }
   ],
   "source": [
    "# датафрейм с кумулятивным количеством заказов и кумулятивной выручкой по дням в группе А\n",
    "cumulative_revenue_a = cumulative_data[cumulative_data['group']=='A'][['date','revenue', 'orders']]\n",
    "\n",
    "# датафрейм с кумулятивным количеством заказов и кумулятивной выручкой по дням в группе B\n",
    "cumulative_revenue_b = cumulative_data[cumulative_data['group']=='B'][['date','revenue', 'orders']]\n",
    "\n",
    "# Строим график выручки группы А\n",
    "plt.figure(figsize=(15, 7))\n",
    "plt.plot(cumulative_revenue_a['date'], cumulative_revenue_a['revenue'], label='A')\n",
    "\n",
    "# Строим график выручки группы B\n",
    "plt.plot(cumulative_revenue_b['date'], cumulative_revenue_b['revenue'], label='B')\n",
    "plt.legend()\n",
    "plt.ylabel('Выручка')\n",
    "plt.xlabel('Дата')\n",
    "plt.xticks(rotation=90)\n",
    "plt.title('График кумулятивной выручки по группам')\n",
    "plt.show()"
   ]
  },
  {
   "cell_type": "markdown",
   "id": "7cac8096",
   "metadata": {},
   "source": [
    "###### Промежуточный вывод:\n",
    "\n",
    "В течении всего теста выручка растет. В некоторых точках выручка обеих групп растут. Особенно это заметно в группе В.\n",
    "\n",
    "Возможно речь идет о всплесках числа заказов, появлении дорогих заказах или какие-то еще факторы. \n",
    "\n",
    "При этом, в обоих группах к концу тестирования выручка стабилизируется и в группе В она значительно больше чем в А."
   ]
  },
  {
   "cell_type": "markdown",
   "id": "af232999",
   "metadata": {},
   "source": [
    "Построим графики среднего чека по группам — разделим кумулятивную выручку на кумулятивное число заказов:"
   ]
  },
  {
   "cell_type": "code",
   "execution_count": 27,
   "id": "ec213872",
   "metadata": {},
   "outputs": [
    {
     "data": {
      "image/png": "[encoded data removed]",
      "text/plain": [
       "<Figure size 1080x504 with 1 Axes>"
      ]
     },
     "metadata": {
      "needs_background": "light"
     },
     "output_type": "display_data"
    }
   ],
   "source": [
    "plt.figure(figsize=(15, 7))\n",
    "plt.plot(cumulative_revenue_a['date'], cumulative_revenue_a['revenue']/cumulative_revenue_a['orders'], label='A')\n",
    "plt.plot(cumulative_revenue_b['date'], cumulative_revenue_b['revenue']/cumulative_revenue_b['orders'], label='B')\n",
    "plt.legend()\n",
    "plt.ylabel('Средний чек')\n",
    "plt.xlabel('Дата')\n",
    "plt.title('График среднего чека по группам')\n",
    "plt.xticks(rotation=90)\n",
    "plt.show()"
   ]
  },
  {
   "cell_type": "markdown",
   "id": "97412dcf",
   "metadata": {},
   "source": [
    "###### Промежуточный вывод:\n",
    "К концу теста средний чек в группе А стабилизируется, но заметно проигрывает.\n",
    "\n",
    "В группе В средний чек после резког роста тоже стабилизируется с небольшим снижением. Возможно в какой-то момент что-то произошло с этой группой, что так сильно повлияло на средний чек и на выручку.\n",
    "\n",
    "Возможно, группе нужно больше времени, чтобы картина стабилизировалась и мы получили реальные значения метрик."
   ]
  },
  {
   "cell_type": "markdown",
   "id": "66576ca3",
   "metadata": {},
   "source": [
    "Построим график относительного различия для среднего чека."
   ]
  },
  {
   "cell_type": "code",
   "execution_count": 28,
   "id": "d075213f",
   "metadata": {},
   "outputs": [
    {
     "data": {
      "image/png": "[encoded data removed]",
      "text/plain": [
       "<Figure size 1080x504 with 1 Axes>"
      ]
     },
     "metadata": {
      "needs_background": "light"
     },
     "output_type": "display_data"
    }
   ],
   "source": [
    "# собираем данные в одном датафрейме\n",
    "merged_cumulative_revenue = cumulative_revenue_a.merge(\n",
    "    cumulative_revenue_b,\n",
    "    left_on='date',\n",
    "    right_on='date',\n",
    "    how='left',\n",
    "    suffixes=['A', 'B']\n",
    ")\n",
    "\n",
    "# cтроим отношение средних чеков\n",
    "plt.figure(figsize=(15, 7))\n",
    "plt.plot(merged_cumulative_revenue['date'],\n",
    "         (merged_cumulative_revenue['revenueB']/\n",
    "          merged_cumulative_revenue['ordersB'])/\n",
    "         (merged_cumulative_revenue['revenueA']/\n",
    "          merged_cumulative_revenue['ordersA'])-1)\n",
    "\n",
    "# добавляем ось X\n",
    "plt.axhline(y=0, color='black', linestyle='--') \n",
    "\n",
    "plt.ylabel('Относительное различие среднего чека')\n",
    "plt.xlabel('Дата')\n",
    "plt.title('График относительного различия среднего чека')\n",
    "plt.xticks(rotation=90)\n",
    "plt.show()"
   ]
  },
  {
   "cell_type": "markdown",
   "id": "c6408312",
   "metadata": {},
   "source": [
    "\n",
    "###### Промежуточный вывод:\n",
    "В нескольких точка график различия резко \"скачет\". С большой долей вероятности, можно ожидать выбросы и крупные заказы. \n",
    "\n",
    "Дальше постараемся их найти."
   ]
  },
  {
   "cell_type": "markdown",
   "id": "c9df55b2",
   "metadata": {},
   "source": [
    "Проанализируем график кумулятивной конверсии"
   ]
  },
  {
   "cell_type": "code",
   "execution_count": 29,
   "id": "9a088cf3",
   "metadata": {},
   "outputs": [
    {
     "name": "stdout",
     "output_type": "stream",
     "text": [
      "2019-08-01 2019-08-31\n"
     ]
    }
   ],
   "source": [
    "print(orders.date.min(), orders.date.max())"
   ]
  },
  {
   "cell_type": "code",
   "execution_count": 30,
   "id": "0ffd302d",
   "metadata": {},
   "outputs": [
    {
     "data": {
      "image/png": "[encoded data removed]",
      "text/plain": [
       "<Figure size 720x288 with 1 Axes>"
      ]
     },
     "metadata": {
      "needs_background": "light"
     },
     "output_type": "display_data"
    }
   ],
   "source": [
    "# считаем кумулятивную конверсию\n",
    "cumulative_data['conversion'] = cumulative_data['orders']/cumulative_data['visitors']\n",
    "\n",
    "# отделяем данные по группе A\n",
    "cumulative_data_a = cumulative_data[cumulative_data['group']=='A']\n",
    "\n",
    "# отделяем данные по группе B\n",
    "cumulative_data_b = cumulative_data[cumulative_data['group']=='B']\n",
    "\n",
    "# строим графики\n",
    "plt.figure(figsize=(10, 4))\n",
    "plt.plot(cumulative_data_a['date'], cumulative_data_a['conversion'], label='A')\n",
    "plt.plot(cumulative_data_b['date'], cumulative_data_b['conversion'], label='B')\n",
    "plt.legend()\n",
    "\n",
    "plt.ylabel('Конверсия')\n",
    "plt.xlabel('Дата')\n",
    "plt.title('График кумулятивной конверсии по группам')\n",
    "\n",
    "# задаем масштаб осей\n",
    "plt.axis([\"2019-08-01\", '2019-08-31', 0.022, 0.0375])\n",
    "plt.xticks(rotation=90)\n",
    "plt.show()"
   ]
  },
  {
   "cell_type": "markdown",
   "id": "6aa47629",
   "metadata": {},
   "source": [
    "###### Промежуточный вывод:\n",
    "Конверсии обеих групп после значительных колебаний в начале, после середины тестирования стабилизировались,\n",
    "\n",
    "при этом, конверсия группы В осталась больше."
   ]
  },
  {
   "cell_type": "markdown",
   "id": "a8cec806",
   "metadata": {},
   "source": [
    "Построим график относительного различия кумулятивных конверсий:"
   ]
  },
  {
   "cell_type": "code",
   "execution_count": 31,
   "id": "292a97b5",
   "metadata": {},
   "outputs": [
    {
     "data": {
      "image/png": "[encoded data removed]",
      "text/plain": [
       "<Figure size 864x504 with 1 Axes>"
      ]
     },
     "metadata": {
      "needs_background": "light"
     },
     "output_type": "display_data"
    }
   ],
   "source": [
    "merged_cumulative_conversions = cumulative_data_a[['date','conversion']].merge(\n",
    "    cumulative_data_b[['date','conversion']],\n",
    "    left_on='date',\n",
    "    right_on='date',\n",
    "    how='left',\n",
    "    suffixes=['A', 'B']\n",
    ")\n",
    "\n",
    "plt.figure(figsize=(12, 7))\n",
    "plt.plot(\n",
    "    merged_cumulative_conversions['date'],\n",
    "    merged_cumulative_conversions['conversionB']/\n",
    "    merged_cumulative_conversions['conversionA']-1, label=\"Относительный прирост конверсии группы B относительно группы A\"\n",
    ")\n",
    "plt.legend()\n",
    "\n",
    "plt.axhline(y=0, color='black', linestyle='--')\n",
    "plt.axhline(y=-0.1, color='grey', linestyle='--')\n",
    "plt.axis([\"2019-08-01\", '2019-08-31', -0.25, 0.25]) \n",
    "plt.ylabel('Относительное различие кумулятивной конверсии')\n",
    "plt.xlabel('Дата')\n",
    "plt.title('График относительного различия кумулятивных конверсий')\n",
    "plt.xticks(rotation=90)\n",
    "plt.show()"
   ]
  },
  {
   "cell_type": "markdown",
   "id": "2a63b426",
   "metadata": {},
   "source": [
    "###### Промежуточный вывод:\n",
    "В начале теста конверсия группы В уступала, но, достаточно быстро вырвалась вперед и весь оставшийся период тестирования уверенно лидировала. Не будем спешить с окончательными выводами. Изучим аномалии, возможно они добавят понимания к общей картине.\n",
    "\n"
   ]
  },
  {
   "cell_type": "markdown",
   "id": "ad7a4a96",
   "metadata": {},
   "source": [
    "\n",
    "Построим точечный график количества заказов по пользователям."
   ]
  },
  {
   "cell_type": "code",
   "execution_count": 32,
   "id": "edebb1b8",
   "metadata": {},
   "outputs": [
    {
     "name": "stdout",
     "output_type": "stream",
     "text": [
      "        user_id  orders\n",
      "908  3967698036       3\n",
      "55    249864742       3\n",
      "478  2108163459       3\n",
      "687  2988190573       3\n",
      "890  3908431265       3\n",
      "138   611059232       3\n",
      "632  2742574263       3\n",
      "157   678354126       2\n",
      "323  1404560065       2\n",
      "452  1985475298       2\n"
     ]
    }
   ],
   "source": [
    "orders_by_users = (\n",
    "    orders.groupby('visitorId', as_index=False)\n",
    "    .agg({'transactionId': 'nunique'})\n",
    ")\n",
    "\n",
    "orders_by_users.columns = ['user_id', 'orders']\n",
    "\n",
    "print(orders_by_users.sort_values(by='orders', ascending=False).head(10)) "
   ]
  },
  {
   "cell_type": "code",
   "execution_count": 33,
   "id": "75d71b48",
   "metadata": {},
   "outputs": [
    {
     "data": {
      "image/png": "[encoded data removed]",
      "text/plain": [
       "<Figure size 720x504 with 1 Axes>"
      ]
     },
     "metadata": {
      "needs_background": "light"
     },
     "output_type": "display_data"
    }
   ],
   "source": [
    "x_values = pd.Series(range(0,len(orders_by_users['orders'])))\n",
    "plt.figure(figsize=(10, 7))\n",
    "plt.scatter(x_values, orders_by_users['orders'])\n",
    "\n",
    "plt.ylabel('Количество заказов')\n",
    "plt.title('График количества заказов по пользователям')\n",
    "plt.show()"
   ]
  },
  {
   "cell_type": "markdown",
   "id": "3791bc95",
   "metadata": {},
   "source": [
    "###### Промежуточный вывод:\n",
    "Видим, что есть несколько покупателей, которые совершили более 6 заказов. Больше всего клиентов сделали от 1 до 3 заказов. Пока мы не видим их точную долю и не можем принять однозначное решение, что будем считать аномалиями."
   ]
  },
  {
   "cell_type": "markdown",
   "id": "8651cf0f",
   "metadata": {},
   "source": [
    "Посчитаем 95-й и 99-й перцентили количества заказов на пользователя."
   ]
  },
  {
   "cell_type": "code",
   "execution_count": 34,
   "id": "ea07408e",
   "metadata": {},
   "outputs": [
    {
     "name": "stdout",
     "output_type": "stream",
     "text": [
      "[1. 2.]\n"
     ]
    }
   ],
   "source": [
    "print(np.percentile(orders_by_users['orders'], [95, 99])) "
   ]
  },
  {
   "cell_type": "markdown",
   "id": "6a3bba0c",
   "metadata": {},
   "source": [
    "###### Промежуточный вывод:\n",
    "Не более чем 5% покупателей сделали более 2 заказов и не более 1% сделали более 4 заказов.\n",
    "\n",
    "Возьмем 2 заказа на одного пользователя за верхнюю границу числа заказов и в дальнейшем отсеем аномальные значения по ней.\n"
   ]
  },
  {
   "cell_type": "markdown",
   "id": "9a79153d",
   "metadata": {},
   "source": [
    "Построим точечный график стоимостей заказов."
   ]
  },
  {
   "cell_type": "code",
   "execution_count": 35,
   "id": "e63b2c34",
   "metadata": {},
   "outputs": [
    {
     "data": {
      "image/png": "[encoded data removed]",
      "text/plain": [
       "<Figure size 720x504 with 1 Axes>"
      ]
     },
     "metadata": {
      "needs_background": "light"
     },
     "output_type": "display_data"
    }
   ],
   "source": [
    "x_values = pd.Series(range(0,len(orders['revenue'])))\n",
    "plt.figure(figsize=(10, 7))\n",
    "plt.scatter(x_values, orders['revenue'])\n",
    "\n",
    "plt.ylabel('Стоимость заказов, тыс.')\n",
    "plt.title('График стоимостей заказов')\n",
    "plt.show()"
   ]
  },
  {
   "cell_type": "markdown",
   "id": "112a17c2",
   "metadata": {},
   "source": [
    "###### Промежуточный вывод:\n",
    "Имеем два явно дорогих заказа. Стоимость остальных заказов уложилась в диапазоне до 150 000\n",
    "Посчитаем 95-й и 99-й перцентили стоимости заказов, чтобы более точно определить границу аномальных значений."
   ]
  },
  {
   "cell_type": "code",
   "execution_count": 36,
   "id": "af748ca2",
   "metadata": {},
   "outputs": [
    {
     "data": {
      "image/png": "[encoded data removed]",
      "text/plain": [
       "<Figure size 720x504 with 1 Axes>"
      ]
     },
     "metadata": {
      "needs_background": "light"
     },
     "output_type": "display_data"
    }
   ],
   "source": [
    "x_values = pd.Series(range(0,len(orders['revenue'])))\n",
    "\n",
    "plt.figure(figsize=(10, 7))\n",
    "plt.scatter(x_values, orders['revenue'])\n",
    "plt.axis([0, 1000, 0, 120000]) \n",
    "plt.ylabel('Стоимость заказов')\n",
    "plt.title('График стоимостей заказов')\n",
    "plt.show()"
   ]
  },
  {
   "cell_type": "markdown",
   "id": "51cbbea2",
   "metadata": {},
   "source": [
    "При такой визиуализации видим, что стоимость заказов в основном укладывается в сумму до 40 000 и лишь единицы заказазов стоят дороже."
   ]
  },
  {
   "cell_type": "code",
   "execution_count": 37,
   "id": "0febccca",
   "metadata": {},
   "outputs": [
    {
     "name": "stdout",
     "output_type": "stream",
     "text": [
      "[26785. 53904.]\n"
     ]
    }
   ],
   "source": [
    "print(np.percentile(orders['revenue'], [95, 99])) "
   ]
  },
  {
   "cell_type": "markdown",
   "id": "f4dc6f45",
   "metadata": {},
   "source": [
    "###### Промежуточный вывод:\n",
    "Стоимость 95% процентов заказов не превышает 26785, стоимоть 99% не превышает 53904. Можем принять за границу аномальных значения 28 000."
   ]
  },
  {
   "cell_type": "markdown",
   "id": "00a173bb",
   "metadata": {},
   "source": [
    "##### Посчитаем статистическую значимость различий в конверсии между группами по «сырым» данным. \n"
   ]
  },
  {
   "cell_type": "markdown",
   "id": "e15912ff",
   "metadata": {},
   "source": [
    "Нулевая гипотеза: Различий в конверсии между группами нет. \n",
    "\n",
    "Альтернативная гипотеза: Различия в конверсии между группами есть.\n",
    "\n",
    "Передадим критерею mannwhitneyu() данные о конверсии.\n",
    "Дополнительно найдём относительные различия в конверсии между группами:"
   ]
  },
  {
   "cell_type": "code",
   "execution_count": 38,
   "id": "a2db6fe8",
   "metadata": {},
   "outputs": [
    {
     "name": "stdout",
     "output_type": "stream",
     "text": [
      "p-value:  0.000\n",
      "Относительные резличия в конверсии между группами:  0.090\n"
     ]
    }
   ],
   "source": [
    "print('p-value: ', '{0:.3f}'.format(stats.mannwhitneyu(cumulative_data[cumulative_data['group']=='A']['conversion'], cumulative_data[cumulative_data['group']=='B']['conversion'])[1]))\n",
    "print('Относительные резличия в конверсии между группами: ', '{0:.3f}'.format(cumulative_data[cumulative_data['group']=='B']['conversion'].mean()/cumulative_data[cumulative_data['group']=='A']['conversion'].mean()-1)) "
   ]
  },
  {
   "cell_type": "markdown",
   "id": "2d3829fe",
   "metadata": {},
   "source": [
    "###### Промежуточный вывод:\n",
    "P-value равен 0.00. Значит, отвергаем нулевую гипотезу и считаем, что в конверсии между группами есть различия.\n",
    "\n",
    "Мы видим, что конверсия группы B выше конверсии группы A более, чем на 10%."
   ]
  },
  {
   "cell_type": "markdown",
   "id": "15ff19d9",
   "metadata": {},
   "source": [
    "Подготовим выборки количества заказов по пользователям по группам теста:"
   ]
  },
  {
   "cell_type": "markdown",
   "id": "1e18b3fd",
   "metadata": {},
   "source": [
    "##### Объявим переменные sampleA и sampleB, в которых пользователям из разных групп будет соответствовать количество заказов."
   ]
  },
  {
   "cell_type": "code",
   "execution_count": 39,
   "id": "defdf34b",
   "metadata": {},
   "outputs": [],
   "source": [
    "visitors_A = visitors[visitors['group'] == 'A']\n",
    "visitors_B = visitors[visitors['group'] == 'B']    "
   ]
  },
  {
   "cell_type": "code",
   "execution_count": 40,
   "id": "61646f97",
   "metadata": {},
   "outputs": [
    {
     "name": "stdout",
     "output_type": "stream",
     "text": [
      "Относительный прирост конверсии группы B по отношению к группе A: 0.160\n",
      "P-value: 0.011018084110014696\n",
      "По неочищенным данным в конверсии групп A и B разница статистически значима\n"
     ]
    }
   ],
   "source": [
    "ordersByUsersA = (\n",
    "    orders[orders['group'] == 'A']\n",
    "    .groupby('visitorId', as_index=False)\n",
    "    .agg({'transactionId': pd.Series.nunique})\n",
    ")\n",
    "ordersByUsersA.columns = ['visitorId', 'orders']\n",
    "\n",
    "ordersByUsersB = (\n",
    "    orders[orders['group'] == 'B']\n",
    "    .groupby('visitorId', as_index=False)\n",
    "    .agg({'transactionId': pd.Series.nunique})\n",
    ")\n",
    "ordersByUsersB.columns = ['visitorId', 'orders']\n",
    "\n",
    "\n",
    "\n",
    "sampleA = pd.concat(\n",
    "    [\n",
    "        ordersByUsersA['orders'],\n",
    "        pd.Series(\n",
    "            0,\n",
    "            index=np.arange(\n",
    "                visitors_A['visitors'].sum() - len(ordersByUsersA['orders'])\n",
    "            ),\n",
    "            name='orders',\n",
    "        ),\n",
    "    ],\n",
    "    axis=0,\n",
    ")\n",
    "\n",
    "sampleB = pd.concat(\n",
    "    [\n",
    "        ordersByUsersB['orders'],\n",
    "        pd.Series(\n",
    "            0,\n",
    "            index=np.arange(\n",
    "                visitors_B['visitors'].sum() - len(ordersByUsersB['orders'])\n",
    "            ),\n",
    "            name='orders',\n",
    "        ),\n",
    "    ],\n",
    "    axis=0,\n",
    ")\n",
    "\n",
    "print('Относительный прирост конверсии группы B по отношению к группе A: {:.3f}'.format(sampleB.mean()/sampleA.mean()-1))\n",
    "alpha = 0.05\n",
    "results = stats.mannwhitneyu(sampleA, sampleB)\n",
    "print('P-value: {}'.format(results.pvalue))\n",
    "if results.pvalue < alpha:\n",
    "    print('По неочищенным данным в конверсии групп A и B разница статистически значима')\n",
    "else:\n",
    "    print('По неочищенным данным различий в конверсии групп A и B нет')"
   ]
  },
  {
   "cell_type": "markdown",
   "id": "8f0922b4",
   "metadata": {},
   "source": [
    " Мы отвергаем гипотезу о равенстве конверсий в группах А и В.\n",
    " \n",
    " Относительный прирост конверсии в группе В 16%\n"
   ]
  },
  {
   "cell_type": "markdown",
   "id": "1060079a",
   "metadata": {},
   "source": [
    "#### Посчитаем статистическую значимость различий в среднем чеке заказа между группами по «сырым» данным."
   ]
  },
  {
   "cell_type": "markdown",
   "id": "0664e9a1",
   "metadata": {},
   "source": [
    "Нулевая гипотеза: различий в среднем чеке между группами нет. \n",
    "\n",
    "Альтернативная гипотеза: различия в среднем чеке между группами есть.\n",
    "\n",
    "Передадим критерею mannwhitneyu() данные о выручке с заказов.\n",
    "Дополнительно найдём относительные различия в среднем чеке между группами:\n"
   ]
  },
  {
   "cell_type": "code",
   "execution_count": 41,
   "id": "a588353e",
   "metadata": {},
   "outputs": [
    {
     "name": "stdout",
     "output_type": "stream",
     "text": [
      "p-value:  0.829\n",
      "Относительные резличия в среднем чеке между группами:  0.287\n"
     ]
    }
   ],
   "source": [
    "print('p-value: ', '{0:.3f}'.format(\n",
    "    stats.mannwhitneyu(\n",
    "        orders[orders['group']=='A']['revenue'],\n",
    "        orders[orders['group']=='B']['revenue'])[1])\n",
    "     )\n",
    "print('Относительные резличия в среднем чеке между группами: ', '{0:.3f}'.format(\n",
    "    orders[orders['group']=='B']['revenue'].mean()/\n",
    "    orders[orders['group']=='A']['revenue'].mean()-1)\n",
    "     ) "
   ]
  },
  {
   "cell_type": "markdown",
   "id": "dfde9c3e",
   "metadata": {},
   "source": [
    "###### Промежуточный вывод:\n",
    "P-value значительно больше 0.05. Значит, причин отвергать нулевую гипотезу и считать, что в среднем чеке есть различия, нет. \n",
    "\n",
    "Впрочем, средний чек группы B значительно выше среднего чека группы A.\n",
    "\n"
   ]
  },
  {
   "cell_type": "markdown",
   "id": "5816c86d",
   "metadata": {},
   "source": [
    "#### Посчитаем статистическую значимость различий в конверсии между группами по «очищенным» данным."
   ]
  },
  {
   "cell_type": "markdown",
   "id": "17f8e5a9",
   "metadata": {},
   "source": [
    "Ранее мы приняли за границы анамальных данных следующие значения:\n",
    "\n",
    "Количество заказов на одного пользователя 2, так как не более чем 5% покупателей сделали более 2 заказов.\n",
    "\n",
    "Далее за границу анамольной суммы заказа принимаю 26 785, так как , стоимость 95% процентов заказов не превышает 26 785.\n",
    "\n",
    "Сделаем срезы по покупателям, которые сделали более двух заказов и по покупателям, которые сделали заказ более, чем на 26 785."
   ]
  },
  {
   "cell_type": "code",
   "execution_count": 42,
   "id": "83285673",
   "metadata": {},
   "outputs": [
    {
     "name": "stdout",
     "output_type": "stream",
     "text": [
      "568     113298937\n",
      "1099    148427295\n",
      "928     204675465\n",
      "33      249864742\n",
      "684     358944393\n",
      "dtype: int64\n",
      "58\n"
     ]
    }
   ],
   "source": [
    "ordersByUsersA = (\n",
    "    orders[orders['group'] == 'A']\n",
    "    .groupby('visitorId', as_index=False)\n",
    "    .agg({'transactionId': pd.Series.nunique})\n",
    ")\n",
    "ordersByUsersA.columns = ['user_id', 'orders']\n",
    "\n",
    "ordersByUsersB = (\n",
    "    orders[orders['group'] == 'B']\n",
    "    .groupby('visitorId', as_index=False)\n",
    "    .agg({'transactionId': pd.Series.nunique})\n",
    ")\n",
    "ordersByUsersB.columns = ['user_id', 'orders']\n",
    "\n",
    "usersWithManyOrders = pd.concat(\n",
    "    [\n",
    "        ordersByUsersA[ordersByUsersA['orders'] > np.percentile(orders_by_users['orders'], [99])[0]]['user_id'],\n",
    "        ordersByUsersB[ordersByUsersB['orders'] > np.percentile(orders_by_users['orders'], [99])[0]]['user_id'],\n",
    "    ],\n",
    "    axis=0,\n",
    ")\n",
    "\n",
    "\n",
    "usersWithExpensiveOrders = orders[orders['revenue'] > np.percentile(orders['revenue'], [95])[0]]['visitorId']\n",
    "abnormalUsers = (\n",
    "    pd.concat([usersWithManyOrders, usersWithExpensiveOrders], axis=0)\n",
    "    .drop_duplicates()\n",
    "    .sort_values()\n",
    ")\n",
    "print(abnormalUsers.head(5))\n",
    "\n",
    "print(abnormalUsers.shape[0]) \n"
   ]
  },
  {
   "cell_type": "markdown",
   "id": "1477036a",
   "metadata": {},
   "source": [
    "Всего 58 аномальных пользователя.\n",
    "Узнаем, как их действия повлияли на результаты теста. \n"
   ]
  },
  {
   "cell_type": "markdown",
   "id": "93299b07",
   "metadata": {},
   "source": [
    " Подготовим выборки количества заказов по пользователям по группам теста по очищенным данным:"
   ]
  },
  {
   "cell_type": "code",
   "execution_count": 43,
   "id": "4614113d",
   "metadata": {},
   "outputs": [],
   "source": [
    "sampleAFiltered = pd.concat(\n",
    "    [\n",
    "        ordersByUsersA[\n",
    "            np.logical_not(ordersByUsersA['user_id'].isin(abnormalUsers))\n",
    "        ]['orders'],\n",
    "        pd.Series(\n",
    "            0,\n",
    "            index=np.arange(\n",
    "                visitors_A['visitors'].sum() - len(ordersByUsersA['orders'])\n",
    "            ),\n",
    "            name='orders',\n",
    "        ),\n",
    "    ],\n",
    "    axis=0,\n",
    ")\n",
    "\n",
    "sampleBFiltered = pd.concat(\n",
    "    [\n",
    "        ordersByUsersB[\n",
    "            np.logical_not(ordersByUsersB['user_id'].isin(abnormalUsers))\n",
    "        ]['orders'],\n",
    "        pd.Series(\n",
    "            0,\n",
    "            index=np.arange(\n",
    "                visitors_B['visitors'].sum() - len(ordersByUsersB['orders'])\n",
    "            ),\n",
    "            name='orders',\n",
    "        ),\n",
    "    ],\n",
    "    axis=0,\n",
    ")"
   ]
  },
  {
   "cell_type": "code",
   "execution_count": 44,
   "id": "17a5c9b1",
   "metadata": {},
   "outputs": [
    {
     "name": "stdout",
     "output_type": "stream",
     "text": [
      "Относительный прирост конверсии группы B по отношению к группе A: 0.182\n",
      "P-value: 0.011\n",
      "По очищенным данным в конверсии групп A и B разница статистически значима\n"
     ]
    }
   ],
   "source": [
    "print('Относительный прирост конверсии группы B по отношению к группе A: {:.3f}'.format(\n",
    "    sampleBFiltered.mean()/\n",
    "    sampleAFiltered.mean()-1)\n",
    "     )\n",
    "alpha = 0.05\n",
    "results = stats.mannwhitneyu(sampleA, sampleB)\n",
    "print('P-value: {:.3f}'.format(results.pvalue))\n",
    "if results.pvalue < alpha:\n",
    "    print('По очищенным данным в конверсии групп A и B разница статистически значима')\n",
    "else:\n",
    "    print('По очищенным данным различий в конверсии групп A и B нет')"
   ]
  },
  {
   "cell_type": "markdown",
   "id": "29fad3fb",
   "metadata": {},
   "source": [
    "Мы отвергаем нулевую гипотезу о равенстве конверсий!"
   ]
  },
  {
   "cell_type": "markdown",
   "id": "54dc7eea",
   "metadata": {},
   "source": [
    "###### Промежуточный вывод:\n",
    "В очищенных данных получили другие значения, но общий вывод остается прежним.\n",
    "\n",
    "P-value равен 0.011. Значит, отвергаем нулевую гипотезу и считаем, что в конверсии между группами есть различия.\n",
    "\n",
    "Мы видим, что конверсия группы B выше конверсии группы A на 18%."
   ]
  },
  {
   "cell_type": "markdown",
   "id": "137ed473",
   "metadata": {},
   "source": [
    "Посчитаем статистическую значимость различий в среднем чеке заказа между группами по «очищенным» данным."
   ]
  },
  {
   "cell_type": "code",
   "execution_count": 45,
   "id": "7413406e",
   "metadata": {},
   "outputs": [
    {
     "name": "stdout",
     "output_type": "stream",
     "text": [
      "p-value:  0.646\n",
      "Относительные различия в среднем чеке: -0.048\n"
     ]
    }
   ],
   "source": [
    "print('p-value: ',\n",
    "    '{0:.3f}'.format(\n",
    "        stats.mannwhitneyu(\n",
    "            orders[\n",
    "                np.logical_and(\n",
    "                    orders['group'] == 'A',\n",
    "                    np.logical_not(orders['visitorId'].isin(abnormalUsers)),\n",
    "                )\n",
    "            ]['revenue'],\n",
    "            orders[\n",
    "                np.logical_and(\n",
    "                    orders['group'] == 'B',\n",
    "                    np.logical_not(orders['visitorId'].isin(abnormalUsers)),\n",
    "                )\n",
    "            ]['revenue'],\n",
    "        )[1]\n",
    "    )\n",
    ")\n",
    "\n",
    "print('Относительные различия в среднем чеке: '\n",
    "    \"{0:.3f}\".format(\n",
    "        orders[\n",
    "            np.logical_and(\n",
    "                orders['group'] == 'B',\n",
    "                np.logical_not(orders['visitorId'].isin(abnormalUsers)),\n",
    "            )\n",
    "        ]['revenue'].mean()\n",
    "        / orders[\n",
    "            np.logical_and(\n",
    "                orders['group'] == 'A',\n",
    "                np.logical_not(orders['visitorId'].isin(abnormalUsers)),\n",
    "            )\n",
    "        ]['revenue'].mean()\n",
    "        - 1\n",
    "    )\n",
    ") "
   ]
  },
  {
   "cell_type": "markdown",
   "id": "0bb30fd2",
   "metadata": {},
   "source": [
    "###### Промежуточный вывод:\n",
    "P-value немнго изменился, но по-прежнему значительно больше 0.05. Значит, причин отвергать нулевую гипотезу и считать, что в среднем чеке есть различия, нет. \n",
    "\n",
    "А вот средний чек группы В по очищенным данным стал немного меньше чем в группе А.\n",
    "\n"
   ]
  },
  {
   "cell_type": "markdown",
   "id": "e27bfa44",
   "metadata": {},
   "source": [
    "### Вывод\n",
    "\n",
    "По результатам обработки сырых данных мы получили следующие результаты:\n",
    "\n",
    "1. В течении всего теста выручка растет. В некоторых точках выручка обеих групп резко растут. Особенно это заметно в группе В. При этом, в обоих группах к концу тестирования выручка стабилизируется и в группе В она значительно больше чем в А.\n",
    "\n",
    "\n",
    "2. К концу теста средний чек в группе А стабилизируется, но заметно проигрывает. В группе В средний чек после резкого роста тоже стабилизируется с небольшим снижением. Возможно в какой-то момент что-то произошло с этой группой, что так сильно повлияло на средний чек и на выручку.\n",
    "\n",
    "\n",
    "3. Конверсии обеих групп после значительных колебаний в начале, после середины тестированя стабилизировались, при этом, конверсия групп В осталась больше.\n",
    "\n",
    "\n",
    "4. В начале теста конверсия группы В уступала, но, достаточно быстро вырвалась вперед и весь оставшийся период тестирования уверенно лидировала. Не будем спешить с окончательными выводами. Изучим аномалии, возможно они добавят понимания к общей картине.\n",
    "\n",
    "#### Изучив данные мы увидели, что:\n",
    "\n",
    "- что есть несколько покупателей, которые совершили более 6 заказов. Больше всего клиентов сделали от 1 до 3 заказов. Пока мы не видим их точную долю и не можем принять однозначное решение, что будем считать аномалиями.\n",
    "\n",
    "При этом, \n",
    "\n",
    "Не более чем 5% покупателей сделали более 2 заказов и не более 1% сделали более 4 заказов.\n",
    "\n",
    "\n",
    "\n",
    "\n",
    "- Стоимость большинства заказов уложилась в диапазоне до 150 000\n",
    "\n",
    "Посчитав 95-й и 99-й перцентили стоимости заказов мы выяснили, что\n",
    "\n",
    "Стоимость 95% процентов заказов не превышает 26 785, стоимоть 99% не превышает 58 233.2. \n",
    "\n",
    "#### Нами были выбраны границы анамальных значений:\n",
    "\n",
    "Более 2 заказов на одного пользователя,\n",
    "\n",
    "Сумма одного заказа более 26 785.\n",
    "\n",
    "\n",
    "###### Проверив статистическую значимость различий в конверсии между группами по «сырым» данным получили:\n",
    "P-value равен 0.00. Мы отвергаем нулевую гипотезу и принялии, что в конверсии между группами есть различия.\n",
    "\n",
    "Так же видим, что конверсия группы B выше конверсии группы A более, чем на 10%.\n",
    "\n",
    "\n",
    "###### Проверив статистическую значимость различий в среднем чеке заказа между группами по «сырым» данным получили:\n",
    "P-value = 0.729 - это значительно больше 0.05. Мы не смогли отвергнуть нулевую гипотезу и считаем, что в среднем чеке  различий нет. \n",
    "\n",
    "Впрочем, средний чек группы B значительно выше среднего чека группы A.\n",
    "0.259\n",
    "\n",
    "\n",
    "\n",
    "#####  Сделав срезы данных по границам анамальных значений еще раз проверили статистическую значимость различий в конверсии и в среднем чеке между группами:\n",
    "\n",
    "###### Статистическая значимость различий в конверсии между группами по очищенным данным:\n",
    "\n",
    "Получили те же цифры, что и после сырых данных. \n",
    "\n",
    "P-value равен 0.00. Значит, отвергаем нулевую гипотезу и считаем, что в конверсии между группами есть различия.\n",
    "\n",
    "Мы видим, что конверсия группы B выше конверсии группы A более, чем на 10%.\n",
    "\n",
    "###### Можно утверждать, что в конверсии между группами есть различия. Конверсия во группе В выше, чем в группе А.\n",
    "\n",
    "\n",
    "###### Статистическая значимость различий в среднем чеке между группами по очищенным данным:\n",
    "\n",
    "P-value = 0.738  немного изменился, но по-прежнему значительно больше 0.05. Значит, причин отвергать нулевую гипотезу и считать, что в среднем чеке есть различия, нет. \n",
    "\n",
    "А вот средний чек группы В по очищенным данным стал немного меньше чем в группе А.\n",
    "\n",
    "\n"
   ]
  },
  {
   "cell_type": "markdown",
   "id": "df6466c4",
   "metadata": {},
   "source": [
    "## В итоге мы имеем следующие факты:\n",
    "- В конверсии между группами есть есть статистически значимое различие, как по \"сырым\" данным, так и после фильтрации.\n",
    "\n",
    "- Нет статистически значимого различия по среднему чеку между группами ни по \"сырым\" данным. ни по данным после фильтрации.\n",
    "\n",
    "- График различия конверсий между группами сообщает, что результаты группы В лучше группы А, при этом показатели в обеих группах под конец стабилизировались."
   ]
  },
  {
   "cell_type": "code",
   "execution_count": 46,
   "id": "ce3a32b5",
   "metadata": {},
   "outputs": [
    {
     "data": {
      "image/png": "[encoded data removed]",
      "text/plain": [
       "<Figure size 864x504 with 1 Axes>"
      ]
     },
     "metadata": {
      "needs_background": "light"
     },
     "output_type": "display_data"
    }
   ],
   "source": [
    "merged_cumulative_conversions = cumulative_data_a[['date','conversion']].merge(\n",
    "    cumulative_data_b[['date','conversion']],\n",
    "    left_on='date',\n",
    "    right_on='date',\n",
    "    how='left',\n",
    "    suffixes=['A', 'B']\n",
    ")\n",
    "\n",
    "plt.figure(figsize=(12, 7))\n",
    "plt.plot(merged_cumulative_conversions['date'],\n",
    "         merged_cumulative_conversions['conversionB']/\n",
    "         merged_cumulative_conversions['conversionA']-1,\n",
    "         label=\"Относительный прирост конверсии группы B относительно группы A\")\n",
    "plt.legend()\n",
    "\n",
    "plt.axhline(y=0, color='black', linestyle='--')\n",
    "plt.axhline(y=-0.1, color='grey', linestyle='--')\n",
    "plt.axis([\"2019-08-01\", '2019-08-31', -0.25, 0.25]) \n",
    "plt.ylabel('Относительное различие кумулятивной конверсии')\n",
    "plt.xlabel('Дата')\n",
    "plt.title('График относительного различия кумулятивных конверсий')\n",
    "plt.xticks(rotation=90)\n",
    "plt.show()"
   ]
  },
  {
   "cell_type": "markdown",
   "id": "ff0b2f0b",
   "metadata": {},
   "source": [
    "\n",
    "Можно с определенной долей уверенности утвержадать, что в конверсии между группами есть есть статистически значимое различие\n",
    "и конверсия в группе В на 10% выше, чем в группе А.\n",
    "\n",
    "При этом с среднем чеке статистически значимых различий между группами нет.\n",
    "### Исходя из обнаруженных фактов, тест следует остановить, признать его успешным и перейти к проверке следующей гипотезы"
   ]
  }
 ],
 "metadata": {
  "ExecuteTimeLog": [
   {
    "duration": 92,
    "start_time": "2022-09-14T17:52:17.417Z"
   },
   {
    "duration": 835,
    "start_time": "2022-09-15T03:58:53.550Z"
   },
   {
    "duration": 210,
    "start_time": "2022-09-15T03:58:54.886Z"
   },
   {
    "duration": 17,
    "start_time": "2022-09-15T03:58:57.763Z"
   },
   {
    "duration": 17,
    "start_time": "2022-09-15T03:58:58.955Z"
   },
   {
    "duration": 13,
    "start_time": "2022-09-15T03:59:00.041Z"
   },
   {
    "duration": 10,
    "start_time": "2022-09-15T03:59:03.124Z"
   },
   {
    "duration": 6,
    "start_time": "2022-09-15T03:59:03.829Z"
   },
   {
    "duration": 5,
    "start_time": "2022-09-15T03:59:05.876Z"
   },
   {
    "duration": 7,
    "start_time": "2022-09-15T03:59:07.110Z"
   },
   {
    "duration": 6,
    "start_time": "2022-09-15T04:04:12.512Z"
   },
   {
    "duration": 5,
    "start_time": "2022-09-15T04:04:22.200Z"
   },
   {
    "duration": 4,
    "start_time": "2022-09-15T04:07:28.056Z"
   },
   {
    "duration": 87,
    "start_time": "2022-09-15T04:12:11.011Z"
   },
   {
    "duration": 10,
    "start_time": "2022-09-15T04:12:32.477Z"
   },
   {
    "duration": 6,
    "start_time": "2022-09-15T04:15:56.816Z"
   },
   {
    "duration": 9,
    "start_time": "2022-09-15T04:20:07.223Z"
   },
   {
    "duration": 8,
    "start_time": "2022-09-15T04:20:19.600Z"
   },
   {
    "duration": 8,
    "start_time": "2022-09-15T04:20:29.020Z"
   },
   {
    "duration": 81,
    "start_time": "2022-09-15T04:42:24.728Z"
   },
   {
    "duration": 55,
    "start_time": "2022-09-15T04:42:37.295Z"
   },
   {
    "duration": 51,
    "start_time": "2022-09-15T04:42:58.272Z"
   },
   {
    "duration": 9,
    "start_time": "2022-09-15T04:44:30.841Z"
   },
   {
    "duration": 428,
    "start_time": "2022-09-15T04:44:36.952Z"
   },
   {
    "duration": 3979,
    "start_time": "2022-09-15T04:44:54.689Z"
   },
   {
    "duration": 9,
    "start_time": "2022-09-15T04:45:23.791Z"
   },
   {
    "duration": 417,
    "start_time": "2022-09-15T04:47:18.730Z"
   },
   {
    "duration": 9,
    "start_time": "2022-09-15T04:47:23.494Z"
   },
   {
    "duration": 4,
    "start_time": "2022-09-15T04:47:33.626Z"
   },
   {
    "duration": 6,
    "start_time": "2022-09-15T04:47:46.151Z"
   },
   {
    "duration": 4,
    "start_time": "2022-09-15T04:47:55.958Z"
   },
   {
    "duration": 83,
    "start_time": "2022-09-15T04:51:22.238Z"
   },
   {
    "duration": 44,
    "start_time": "2022-09-15T04:51:46.200Z"
   },
   {
    "duration": 44,
    "start_time": "2022-09-15T04:51:51.891Z"
   },
   {
    "duration": 45,
    "start_time": "2022-09-15T04:52:03.592Z"
   },
   {
    "duration": 26,
    "start_time": "2022-09-15T04:53:15.775Z"
   },
   {
    "duration": 24,
    "start_time": "2022-09-15T04:53:23.829Z"
   },
   {
    "duration": 5,
    "start_time": "2022-09-15T04:56:01.956Z"
   },
   {
    "duration": 12,
    "start_time": "2022-09-15T04:56:27.238Z"
   },
   {
    "duration": 7,
    "start_time": "2022-09-15T04:56:53.670Z"
   },
   {
    "duration": 54,
    "start_time": "2022-09-15T07:13:59.112Z"
   },
   {
    "duration": 8,
    "start_time": "2022-09-15T07:14:15.190Z"
   },
   {
    "duration": 1217,
    "start_time": "2022-09-15T07:14:23.148Z"
   },
   {
    "duration": 232,
    "start_time": "2022-09-15T07:14:24.373Z"
   },
   {
    "duration": 17,
    "start_time": "2022-09-15T07:14:25.735Z"
   },
   {
    "duration": 27,
    "start_time": "2022-09-15T07:14:26.461Z"
   },
   {
    "duration": 19,
    "start_time": "2022-09-15T07:14:27.437Z"
   },
   {
    "duration": 11,
    "start_time": "2022-09-15T07:14:29.617Z"
   },
   {
    "duration": 6,
    "start_time": "2022-09-15T07:14:30.279Z"
   },
   {
    "duration": 6,
    "start_time": "2022-09-15T07:14:31.311Z"
   },
   {
    "duration": 7,
    "start_time": "2022-09-15T07:14:31.919Z"
   },
   {
    "duration": 5,
    "start_time": "2022-09-15T07:14:37.701Z"
   },
   {
    "duration": 4,
    "start_time": "2022-09-15T07:14:40.333Z"
   },
   {
    "duration": 14,
    "start_time": "2022-09-15T07:14:42.151Z"
   },
   {
    "duration": 24,
    "start_time": "2022-09-15T07:14:43.770Z"
   },
   {
    "duration": 4,
    "start_time": "2022-09-15T07:14:45.275Z"
   },
   {
    "duration": 29,
    "start_time": "2022-09-15T07:27:34.679Z"
   },
   {
    "duration": 199,
    "start_time": "2022-09-15T07:27:35.787Z"
   },
   {
    "duration": 100,
    "start_time": "2022-09-15T07:29:08.475Z"
   },
   {
    "duration": 9,
    "start_time": "2022-09-15T07:29:22.781Z"
   },
   {
    "duration": 10,
    "start_time": "2022-09-15T07:29:29.472Z"
   },
   {
    "duration": 19,
    "start_time": "2022-09-15T07:29:30.758Z"
   },
   {
    "duration": 47,
    "start_time": "2022-09-15T13:25:24.223Z"
   },
   {
    "duration": 830,
    "start_time": "2022-09-15T13:25:32.807Z"
   },
   {
    "duration": 216,
    "start_time": "2022-09-15T13:25:34.454Z"
   },
   {
    "duration": 15,
    "start_time": "2022-09-15T13:25:36.762Z"
   },
   {
    "duration": 11,
    "start_time": "2022-09-15T13:25:37.816Z"
   },
   {
    "duration": 10,
    "start_time": "2022-09-15T13:25:38.871Z"
   },
   {
    "duration": 9,
    "start_time": "2022-09-15T13:25:43.016Z"
   },
   {
    "duration": 4,
    "start_time": "2022-09-15T13:25:43.535Z"
   },
   {
    "duration": 5,
    "start_time": "2022-09-15T13:25:45.273Z"
   },
   {
    "duration": 4,
    "start_time": "2022-09-15T13:25:46.925Z"
   },
   {
    "duration": 4,
    "start_time": "2022-09-15T13:25:52.786Z"
   },
   {
    "duration": 4,
    "start_time": "2022-09-15T13:25:55.024Z"
   },
   {
    "duration": 5,
    "start_time": "2022-09-15T13:25:56.816Z"
   },
   {
    "duration": 8,
    "start_time": "2022-09-15T13:25:59.832Z"
   },
   {
    "duration": 53,
    "start_time": "2022-09-15T13:26:02.379Z"
   },
   {
    "duration": 5,
    "start_time": "2022-09-15T13:26:17.359Z"
   },
   {
    "duration": 6,
    "start_time": "2022-09-15T13:26:44.009Z"
   },
   {
    "duration": 4,
    "start_time": "2022-09-15T13:27:12.750Z"
   },
   {
    "duration": 6,
    "start_time": "2022-09-15T13:27:13.587Z"
   },
   {
    "duration": 13,
    "start_time": "2022-09-15T13:35:05.849Z"
   },
   {
    "duration": 837,
    "start_time": "2022-09-15T13:35:41.197Z"
   },
   {
    "duration": 97,
    "start_time": "2022-09-15T13:35:42.207Z"
   },
   {
    "duration": 13,
    "start_time": "2022-09-15T13:35:43.487Z"
   },
   {
    "duration": 11,
    "start_time": "2022-09-15T13:35:44.187Z"
   },
   {
    "duration": 11,
    "start_time": "2022-09-15T13:35:45.241Z"
   },
   {
    "duration": 10,
    "start_time": "2022-09-15T13:35:49.166Z"
   },
   {
    "duration": 4,
    "start_time": "2022-09-15T13:35:49.937Z"
   },
   {
    "duration": 4,
    "start_time": "2022-09-15T13:35:52.105Z"
   },
   {
    "duration": 4,
    "start_time": "2022-09-15T13:35:53.038Z"
   },
   {
    "duration": 4,
    "start_time": "2022-09-15T13:36:02.536Z"
   },
   {
    "duration": 5,
    "start_time": "2022-09-15T13:36:07.375Z"
   },
   {
    "duration": 5,
    "start_time": "2022-09-15T13:36:11.507Z"
   },
   {
    "duration": 22,
    "start_time": "2022-09-15T13:36:14.191Z"
   },
   {
    "duration": 4,
    "start_time": "2022-09-15T13:38:21.999Z"
   },
   {
    "duration": 5,
    "start_time": "2022-09-15T13:38:22.638Z"
   },
   {
    "duration": 4,
    "start_time": "2022-09-15T13:45:04.681Z"
   },
   {
    "duration": 9,
    "start_time": "2022-09-15T13:45:33.205Z"
   },
   {
    "duration": 6,
    "start_time": "2022-09-15T13:47:10.402Z"
   },
   {
    "duration": 7,
    "start_time": "2022-09-15T13:49:07.452Z"
   },
   {
    "duration": 8,
    "start_time": "2022-09-15T13:49:44.276Z"
   },
   {
    "duration": 7,
    "start_time": "2022-09-15T13:53:23.151Z"
   },
   {
    "duration": 10,
    "start_time": "2022-09-15T13:54:17.625Z"
   },
   {
    "duration": 89,
    "start_time": "2022-09-15T13:55:07.607Z"
   },
   {
    "duration": 11,
    "start_time": "2022-09-15T13:55:16.605Z"
   },
   {
    "duration": 6,
    "start_time": "2022-09-15T13:56:51.384Z"
   },
   {
    "duration": 5,
    "start_time": "2022-09-15T13:56:52.183Z"
   },
   {
    "duration": 146,
    "start_time": "2022-09-15T13:56:53.260Z"
   },
   {
    "duration": 105,
    "start_time": "2022-09-15T13:56:54.130Z"
   },
   {
    "duration": 9,
    "start_time": "2022-09-15T13:56:54.644Z"
   },
   {
    "duration": 634,
    "start_time": "2022-09-15T13:56:59.830Z"
   },
   {
    "duration": 3,
    "start_time": "2022-09-15T13:57:30.456Z"
   },
   {
    "duration": 223,
    "start_time": "2022-09-15T13:57:44.146Z"
   },
   {
    "duration": 228,
    "start_time": "2022-09-15T13:58:36.366Z"
   },
   {
    "duration": 369,
    "start_time": "2022-09-15T13:58:39.365Z"
   },
   {
    "duration": 4,
    "start_time": "2022-09-15T13:58:45.002Z"
   },
   {
    "duration": 221,
    "start_time": "2022-09-15T13:58:45.695Z"
   },
   {
    "duration": 369,
    "start_time": "2022-09-15T14:16:36.210Z"
   },
   {
    "duration": 302,
    "start_time": "2022-09-15T14:16:59.358Z"
   },
   {
    "duration": 302,
    "start_time": "2022-09-15T14:18:42.753Z"
   },
   {
    "duration": 390,
    "start_time": "2022-09-15T14:19:50.392Z"
   },
   {
    "duration": 9,
    "start_time": "2022-09-15T14:19:59.387Z"
   },
   {
    "duration": 111,
    "start_time": "2022-09-15T14:20:00.254Z"
   },
   {
    "duration": 4,
    "start_time": "2022-09-15T14:20:03.762Z"
   },
   {
    "duration": 110,
    "start_time": "2022-09-15T14:20:08.716Z"
   },
   {
    "duration": 16,
    "start_time": "2022-09-15T14:22:14.293Z"
   },
   {
    "duration": 106,
    "start_time": "2022-09-15T14:22:49.492Z"
   },
   {
    "duration": 97,
    "start_time": "2022-09-15T14:25:42.288Z"
   },
   {
    "duration": 99,
    "start_time": "2022-09-15T14:26:22.528Z"
   },
   {
    "duration": 111,
    "start_time": "2022-09-15T14:27:24.114Z"
   },
   {
    "duration": 123,
    "start_time": "2022-09-15T14:28:19.913Z"
   },
   {
    "duration": 115,
    "start_time": "2022-09-15T14:28:54.965Z"
   },
   {
    "duration": 109,
    "start_time": "2022-09-15T14:29:08.549Z"
   },
   {
    "duration": 118,
    "start_time": "2022-09-15T14:29:15.209Z"
   },
   {
    "duration": 115,
    "start_time": "2022-09-15T14:29:32.660Z"
   },
   {
    "duration": 104,
    "start_time": "2022-09-15T14:29:43.844Z"
   },
   {
    "duration": 11,
    "start_time": "2022-09-15T14:35:31.274Z"
   },
   {
    "duration": 9,
    "start_time": "2022-09-15T14:39:22.978Z"
   },
   {
    "duration": 216,
    "start_time": "2022-09-15T14:39:26.133Z"
   },
   {
    "duration": 190,
    "start_time": "2022-09-15T14:39:29.169Z"
   },
   {
    "duration": 3,
    "start_time": "2022-09-15T14:39:30.033Z"
   },
   {
    "duration": 6,
    "start_time": "2022-09-15T14:39:30.647Z"
   },
   {
    "duration": 136,
    "start_time": "2022-09-15T14:39:31.132Z"
   },
   {
    "duration": 99,
    "start_time": "2022-09-15T14:39:31.693Z"
   },
   {
    "duration": 6,
    "start_time": "2022-09-15T14:39:32.286Z"
   },
   {
    "duration": 217,
    "start_time": "2022-09-15T14:39:32.949Z"
   },
   {
    "duration": 298,
    "start_time": "2022-09-15T14:39:34.056Z"
   },
   {
    "duration": 9,
    "start_time": "2022-09-15T14:39:37.456Z"
   },
   {
    "duration": 13,
    "start_time": "2022-09-15T14:40:31.265Z"
   },
   {
    "duration": 349,
    "start_time": "2022-09-15T14:40:35.288Z"
   },
   {
    "duration": 43,
    "start_time": "2022-09-15T18:02:40.074Z"
   },
   {
    "duration": 6,
    "start_time": "2022-09-15T18:02:47.894Z"
   },
   {
    "duration": 1142,
    "start_time": "2022-09-15T18:03:02.643Z"
   },
   {
    "duration": 314,
    "start_time": "2022-09-15T18:03:03.787Z"
   },
   {
    "duration": 14,
    "start_time": "2022-09-15T18:03:04.105Z"
   },
   {
    "duration": 11,
    "start_time": "2022-09-15T18:03:04.120Z"
   },
   {
    "duration": 28,
    "start_time": "2022-09-15T18:03:04.133Z"
   },
   {
    "duration": 31,
    "start_time": "2022-09-15T18:03:04.163Z"
   },
   {
    "duration": 10,
    "start_time": "2022-09-15T18:03:04.197Z"
   },
   {
    "duration": 12,
    "start_time": "2022-09-15T18:03:04.208Z"
   },
   {
    "duration": 6,
    "start_time": "2022-09-15T18:03:04.223Z"
   },
   {
    "duration": 6,
    "start_time": "2022-09-15T18:03:04.230Z"
   },
   {
    "duration": 8,
    "start_time": "2022-09-15T18:03:04.237Z"
   },
   {
    "duration": 8,
    "start_time": "2022-09-15T18:03:04.247Z"
   },
   {
    "duration": 23,
    "start_time": "2022-09-15T18:03:04.256Z"
   },
   {
    "duration": 20,
    "start_time": "2022-09-15T18:03:04.280Z"
   },
   {
    "duration": 6,
    "start_time": "2022-09-15T18:03:04.302Z"
   },
   {
    "duration": 10,
    "start_time": "2022-09-15T18:03:04.310Z"
   },
   {
    "duration": 12,
    "start_time": "2022-09-15T18:03:04.321Z"
   },
   {
    "duration": 8,
    "start_time": "2022-09-15T18:03:04.334Z"
   },
   {
    "duration": 15,
    "start_time": "2022-09-15T18:03:04.344Z"
   },
   {
    "duration": 9,
    "start_time": "2022-09-15T18:03:04.360Z"
   },
   {
    "duration": 34,
    "start_time": "2022-09-15T18:03:04.371Z"
   },
   {
    "duration": 195,
    "start_time": "2022-09-15T18:03:04.407Z"
   },
   {
    "duration": 114,
    "start_time": "2022-09-15T18:03:04.603Z"
   },
   {
    "duration": 10,
    "start_time": "2022-09-15T18:03:04.718Z"
   },
   {
    "duration": 238,
    "start_time": "2022-09-15T18:03:04.729Z"
   },
   {
    "duration": 241,
    "start_time": "2022-09-15T18:03:04.969Z"
   },
   {
    "duration": 361,
    "start_time": "2022-09-15T18:03:05.212Z"
   },
   {
    "duration": 4,
    "start_time": "2022-09-15T18:03:05.575Z"
   },
   {
    "duration": 238,
    "start_time": "2022-09-15T18:03:05.580Z"
   },
   {
    "duration": 330,
    "start_time": "2022-09-15T18:03:05.820Z"
   },
   {
    "duration": 9,
    "start_time": "2022-09-15T18:03:06.151Z"
   },
   {
    "duration": 140,
    "start_time": "2022-09-15T18:03:06.162Z"
   },
   {
    "duration": 5,
    "start_time": "2022-09-15T18:03:06.303Z"
   },
   {
    "duration": 120,
    "start_time": "2022-09-15T18:03:06.310Z"
   },
   {
    "duration": 115,
    "start_time": "2022-09-15T18:03:06.431Z"
   },
   {
    "duration": 4,
    "start_time": "2022-09-15T18:03:06.547Z"
   },
   {
    "duration": 12,
    "start_time": "2022-09-15T18:03:06.553Z"
   },
   {
    "duration": 9,
    "start_time": "2022-09-15T18:03:06.566Z"
   },
   {
    "duration": 126,
    "start_time": "2022-09-15T18:03:06.577Z"
   },
   {
    "duration": 190,
    "start_time": "2022-09-15T18:03:06.705Z"
   },
   {
    "duration": 4,
    "start_time": "2022-09-15T18:03:06.900Z"
   },
   {
    "duration": 12,
    "start_time": "2022-09-15T18:03:06.905Z"
   },
   {
    "duration": 134,
    "start_time": "2022-09-15T18:03:06.918Z"
   },
   {
    "duration": 108,
    "start_time": "2022-09-15T18:03:07.054Z"
   },
   {
    "duration": 7,
    "start_time": "2022-09-15T18:03:07.163Z"
   },
   {
    "duration": 246,
    "start_time": "2022-09-15T18:03:07.172Z"
   },
   {
    "duration": 417,
    "start_time": "2022-09-15T18:03:07.419Z"
   },
   {
    "duration": 8,
    "start_time": "2022-09-15T18:03:07.838Z"
   },
   {
    "duration": 24,
    "start_time": "2022-09-15T18:03:07.848Z"
   },
   {
    "duration": 374,
    "start_time": "2022-09-15T18:03:07.874Z"
   },
   {
    "duration": 231,
    "start_time": "2022-09-15T18:03:38.907Z"
   },
   {
    "duration": 250,
    "start_time": "2022-09-15T18:09:57.284Z"
   },
   {
    "duration": 261,
    "start_time": "2022-09-15T18:10:06.148Z"
   },
   {
    "duration": 287,
    "start_time": "2022-09-15T18:14:03.837Z"
   },
   {
    "duration": 247,
    "start_time": "2022-09-15T18:14:19.978Z"
   },
   {
    "duration": 265,
    "start_time": "2022-09-15T18:14:34.459Z"
   },
   {
    "duration": 347,
    "start_time": "2022-09-15T18:15:38.894Z"
   },
   {
    "duration": 2591,
    "start_time": "2022-09-15T18:16:11.392Z"
   },
   {
    "duration": 343,
    "start_time": "2022-09-15T18:16:31.172Z"
   },
   {
    "duration": 316,
    "start_time": "2022-09-15T18:18:00.685Z"
   },
   {
    "duration": 757,
    "start_time": "2022-09-15T18:18:30.724Z"
   },
   {
    "duration": 717,
    "start_time": "2022-09-15T18:18:39.137Z"
   },
   {
    "duration": 488,
    "start_time": "2022-09-15T18:18:51.462Z"
   },
   {
    "duration": 458,
    "start_time": "2022-09-15T18:19:04.066Z"
   },
   {
    "duration": 421,
    "start_time": "2022-09-15T18:19:16.705Z"
   },
   {
    "duration": 313,
    "start_time": "2022-09-15T18:19:55.402Z"
   },
   {
    "duration": 54,
    "start_time": "2022-09-15T18:20:39.035Z"
   },
   {
    "duration": 257,
    "start_time": "2022-09-15T18:21:11.143Z"
   },
   {
    "duration": 289,
    "start_time": "2022-09-15T18:21:24.256Z"
   },
   {
    "duration": 275,
    "start_time": "2022-09-15T18:21:58.801Z"
   },
   {
    "duration": 5,
    "start_time": "2022-09-15T18:24:28.699Z"
   },
   {
    "duration": 260,
    "start_time": "2022-09-15T18:24:36.270Z"
   },
   {
    "duration": 256,
    "start_time": "2022-09-15T18:25:48.457Z"
   },
   {
    "duration": 362,
    "start_time": "2022-09-15T18:27:47.175Z"
   },
   {
    "duration": 412,
    "start_time": "2022-09-15T18:28:35.101Z"
   },
   {
    "duration": 332,
    "start_time": "2022-09-15T18:32:05.438Z"
   },
   {
    "duration": 361,
    "start_time": "2022-09-15T18:32:57.457Z"
   },
   {
    "duration": 259,
    "start_time": "2022-09-15T18:33:09.997Z"
   },
   {
    "duration": 294,
    "start_time": "2022-09-15T18:33:38.574Z"
   },
   {
    "duration": 264,
    "start_time": "2022-09-15T18:33:57.534Z"
   },
   {
    "duration": 352,
    "start_time": "2022-09-15T18:36:13.543Z"
   },
   {
    "duration": 390,
    "start_time": "2022-09-15T18:36:55.700Z"
   },
   {
    "duration": 140,
    "start_time": "2022-09-15T18:37:23.518Z"
   },
   {
    "duration": 142,
    "start_time": "2022-09-15T18:39:42.622Z"
   },
   {
    "duration": 125,
    "start_time": "2022-09-15T18:40:10.097Z"
   },
   {
    "duration": 357,
    "start_time": "2022-09-15T18:41:20.535Z"
   },
   {
    "duration": 140,
    "start_time": "2022-09-15T18:41:36.467Z"
   },
   {
    "duration": 242,
    "start_time": "2022-09-15T18:43:28.994Z"
   },
   {
    "duration": 144,
    "start_time": "2022-09-15T18:44:08.409Z"
   },
   {
    "duration": 131,
    "start_time": "2022-09-15T18:44:50.048Z"
   },
   {
    "duration": 279,
    "start_time": "2022-09-15T18:47:49.388Z"
   },
   {
    "duration": 365,
    "start_time": "2022-09-15T18:49:12.112Z"
   },
   {
    "duration": 53,
    "start_time": "2022-09-15T18:50:09.039Z"
   },
   {
    "duration": 343,
    "start_time": "2022-09-15T18:50:17.139Z"
   },
   {
    "duration": 395,
    "start_time": "2022-09-15T18:50:36.472Z"
   },
   {
    "duration": 426,
    "start_time": "2022-09-15T18:50:46.438Z"
   },
   {
    "duration": 368,
    "start_time": "2022-09-15T18:51:05.353Z"
   },
   {
    "duration": 350,
    "start_time": "2022-09-15T18:51:11.514Z"
   },
   {
    "duration": 439,
    "start_time": "2022-09-15T18:51:52.892Z"
   },
   {
    "duration": 500,
    "start_time": "2022-09-15T18:52:07.580Z"
   },
   {
    "duration": 380,
    "start_time": "2022-09-15T18:52:16.300Z"
   },
   {
    "duration": 367,
    "start_time": "2022-09-15T18:52:24.625Z"
   },
   {
    "duration": 418,
    "start_time": "2022-09-15T18:52:33.889Z"
   },
   {
    "duration": 408,
    "start_time": "2022-09-15T18:52:39.287Z"
   },
   {
    "duration": 398,
    "start_time": "2022-09-15T18:52:44.802Z"
   },
   {
    "duration": 397,
    "start_time": "2022-09-15T18:53:07.399Z"
   },
   {
    "duration": 1108,
    "start_time": "2022-09-15T18:55:07.264Z"
   },
   {
    "duration": 186,
    "start_time": "2022-09-15T18:55:08.374Z"
   },
   {
    "duration": 14,
    "start_time": "2022-09-15T18:55:09.747Z"
   },
   {
    "duration": 12,
    "start_time": "2022-09-15T18:55:10.437Z"
   },
   {
    "duration": 14,
    "start_time": "2022-09-15T18:55:11.322Z"
   },
   {
    "duration": 10,
    "start_time": "2022-09-15T18:55:13.510Z"
   },
   {
    "duration": 7,
    "start_time": "2022-09-15T18:55:13.960Z"
   },
   {
    "duration": 5,
    "start_time": "2022-09-15T18:55:15.079Z"
   },
   {
    "duration": 5,
    "start_time": "2022-09-15T18:55:15.756Z"
   },
   {
    "duration": 5,
    "start_time": "2022-09-15T18:55:32.329Z"
   },
   {
    "duration": 5,
    "start_time": "2022-09-15T18:55:39.123Z"
   },
   {
    "duration": 6,
    "start_time": "2022-09-15T18:55:45.280Z"
   },
   {
    "duration": 22,
    "start_time": "2022-09-15T18:55:49.385Z"
   },
   {
    "duration": 5,
    "start_time": "2022-09-15T18:56:47.504Z"
   },
   {
    "duration": 12,
    "start_time": "2022-09-15T18:57:04.702Z"
   },
   {
    "duration": 8,
    "start_time": "2022-09-15T18:57:21.507Z"
   },
   {
    "duration": 14,
    "start_time": "2022-09-15T18:57:34.394Z"
   },
   {
    "duration": 7,
    "start_time": "2022-09-15T18:57:53.526Z"
   },
   {
    "duration": 6,
    "start_time": "2022-09-15T18:57:54.330Z"
   },
   {
    "duration": 144,
    "start_time": "2022-09-15T18:57:55.035Z"
   },
   {
    "duration": 102,
    "start_time": "2022-09-15T18:57:55.514Z"
   },
   {
    "duration": 9,
    "start_time": "2022-09-15T18:57:56.115Z"
   },
   {
    "duration": 316,
    "start_time": "2022-09-15T18:58:02.588Z"
   },
   {
    "duration": 267,
    "start_time": "2022-09-15T18:59:50.975Z"
   },
   {
    "duration": 6,
    "start_time": "2022-09-15T18:59:53.921Z"
   },
   {
    "duration": 276,
    "start_time": "2022-09-15T19:00:08.724Z"
   },
   {
    "duration": 382,
    "start_time": "2022-09-15T19:00:17.561Z"
   },
   {
    "duration": 4,
    "start_time": "2022-09-15T19:00:45.021Z"
   },
   {
    "duration": 270,
    "start_time": "2022-09-15T19:00:52.957Z"
   },
   {
    "duration": 295,
    "start_time": "2022-09-15T19:01:19.640Z"
   },
   {
    "duration": 271,
    "start_time": "2022-09-15T19:01:27.509Z"
   },
   {
    "duration": 344,
    "start_time": "2022-09-15T19:02:09.653Z"
   },
   {
    "duration": 360,
    "start_time": "2022-09-15T19:02:31.642Z"
   },
   {
    "duration": 487,
    "start_time": "2022-09-15T19:02:41.205Z"
   },
   {
    "duration": 10,
    "start_time": "2022-09-15T19:02:57.651Z"
   },
   {
    "duration": 134,
    "start_time": "2022-09-15T19:03:16.108Z"
   },
   {
    "duration": 5,
    "start_time": "2022-09-15T19:03:51.360Z"
   },
   {
    "duration": 183,
    "start_time": "2022-09-15T19:04:17.336Z"
   },
   {
    "duration": 138,
    "start_time": "2022-09-15T19:04:34.266Z"
   },
   {
    "duration": 135,
    "start_time": "2022-09-15T19:04:56.933Z"
   },
   {
    "duration": 3,
    "start_time": "2022-09-15T19:05:15.622Z"
   },
   {
    "duration": 10,
    "start_time": "2022-09-15T19:05:36.630Z"
   },
   {
    "duration": 10,
    "start_time": "2022-09-15T19:07:08.087Z"
   },
   {
    "duration": 132,
    "start_time": "2022-09-15T19:07:16.090Z"
   },
   {
    "duration": 194,
    "start_time": "2022-09-15T19:07:32.883Z"
   },
   {
    "duration": 4,
    "start_time": "2022-09-15T19:07:33.889Z"
   },
   {
    "duration": 7,
    "start_time": "2022-09-15T19:07:34.534Z"
   },
   {
    "duration": 147,
    "start_time": "2022-09-15T19:07:35.080Z"
   },
   {
    "duration": 110,
    "start_time": "2022-09-15T19:07:35.621Z"
   },
   {
    "duration": 6,
    "start_time": "2022-09-15T19:07:36.033Z"
   },
   {
    "duration": 261,
    "start_time": "2022-09-15T19:07:37.158Z"
   },
   {
    "duration": 382,
    "start_time": "2022-09-15T19:07:39.110Z"
   },
   {
    "duration": 12,
    "start_time": "2022-09-15T19:07:54.430Z"
   },
   {
    "duration": 17,
    "start_time": "2022-09-15T19:08:16.231Z"
   },
   {
    "duration": 12,
    "start_time": "2022-09-15T19:09:05.925Z"
   },
   {
    "duration": 12,
    "start_time": "2022-09-15T19:09:15.391Z"
   },
   {
    "duration": 354,
    "start_time": "2022-09-15T19:09:53.311Z"
   },
   {
    "duration": 402,
    "start_time": "2022-09-15T19:10:07.634Z"
   },
   {
    "duration": 410,
    "start_time": "2022-09-15T19:10:26.267Z"
   },
   {
    "duration": 464,
    "start_time": "2022-09-15T19:12:35.252Z"
   },
   {
    "duration": 92,
    "start_time": "2022-09-15T19:20:53.653Z"
   },
   {
    "duration": 282,
    "start_time": "2022-09-15T19:22:59.549Z"
   },
   {
    "duration": 131,
    "start_time": "2022-09-15T19:28:07.212Z"
   },
   {
    "duration": 117,
    "start_time": "2022-09-15T19:34:10.916Z"
   },
   {
    "duration": 5,
    "start_time": "2022-09-15T19:38:55.095Z"
   },
   {
    "duration": 6,
    "start_time": "2022-09-15T19:39:11.702Z"
   },
   {
    "duration": 387,
    "start_time": "2022-09-15T19:52:07.481Z"
   },
   {
    "duration": 263,
    "start_time": "2022-09-15T19:52:28.502Z"
   },
   {
    "duration": 258,
    "start_time": "2022-09-15T19:52:59.398Z"
   },
   {
    "duration": 249,
    "start_time": "2022-09-15T19:53:08.158Z"
   },
   {
    "duration": 272,
    "start_time": "2022-09-15T19:54:21.919Z"
   },
   {
    "duration": 401,
    "start_time": "2022-09-15T19:54:45.330Z"
   },
   {
    "duration": 130,
    "start_time": "2022-09-15T20:07:40.919Z"
   },
   {
    "duration": 80,
    "start_time": "2022-09-15T20:11:45.910Z"
   },
   {
    "duration": 10,
    "start_time": "2022-09-15T20:12:07.386Z"
   },
   {
    "duration": 10,
    "start_time": "2022-09-15T20:12:15.191Z"
   },
   {
    "duration": 122,
    "start_time": "2022-09-15T20:12:19.990Z"
   },
   {
    "duration": 353,
    "start_time": "2022-09-15T20:12:21.460Z"
   },
   {
    "duration": 19,
    "start_time": "2022-09-15T20:13:17.625Z"
   },
   {
    "duration": 23,
    "start_time": "2022-09-15T20:15:46.365Z"
   },
   {
    "duration": 18,
    "start_time": "2022-09-15T20:18:54.320Z"
   },
   {
    "duration": 46,
    "start_time": "2022-09-16T02:37:27.337Z"
   },
   {
    "duration": 1225,
    "start_time": "2022-09-16T02:37:39.413Z"
   },
   {
    "duration": 290,
    "start_time": "2022-09-16T02:37:40.695Z"
   },
   {
    "duration": 14,
    "start_time": "2022-09-16T02:37:44.460Z"
   },
   {
    "duration": 12,
    "start_time": "2022-09-16T02:37:45.292Z"
   },
   {
    "duration": 11,
    "start_time": "2022-09-16T02:37:45.850Z"
   },
   {
    "duration": 6,
    "start_time": "2022-09-16T02:37:47.993Z"
   },
   {
    "duration": 5,
    "start_time": "2022-09-16T02:37:48.705Z"
   },
   {
    "duration": 5,
    "start_time": "2022-09-16T02:37:49.843Z"
   },
   {
    "duration": 6,
    "start_time": "2022-09-16T02:37:50.467Z"
   },
   {
    "duration": 4,
    "start_time": "2022-09-16T02:37:54.584Z"
   },
   {
    "duration": 5,
    "start_time": "2022-09-16T02:37:56.337Z"
   },
   {
    "duration": 5,
    "start_time": "2022-09-16T02:37:57.848Z"
   },
   {
    "duration": 22,
    "start_time": "2022-09-16T02:37:59.636Z"
   },
   {
    "duration": 7,
    "start_time": "2022-09-16T02:38:00.924Z"
   },
   {
    "duration": 6,
    "start_time": "2022-09-16T02:38:07.537Z"
   },
   {
    "duration": 5,
    "start_time": "2022-09-16T02:38:20.439Z"
   },
   {
    "duration": 8,
    "start_time": "2022-09-16T02:38:23.988Z"
   },
   {
    "duration": 8,
    "start_time": "2022-09-16T02:38:26.987Z"
   },
   {
    "duration": 11,
    "start_time": "2022-09-16T02:38:41.938Z"
   },
   {
    "duration": 7,
    "start_time": "2022-09-16T02:38:46.471Z"
   },
   {
    "duration": 5,
    "start_time": "2022-09-16T02:38:47.064Z"
   },
   {
    "duration": 147,
    "start_time": "2022-09-16T02:38:47.836Z"
   },
   {
    "duration": 111,
    "start_time": "2022-09-16T02:38:48.512Z"
   },
   {
    "duration": 11,
    "start_time": "2022-09-16T02:38:49.074Z"
   },
   {
    "duration": 291,
    "start_time": "2022-09-16T02:38:51.601Z"
   },
   {
    "duration": 274,
    "start_time": "2022-09-16T02:39:03.334Z"
   },
   {
    "duration": 401,
    "start_time": "2022-09-16T02:39:09.279Z"
   },
   {
    "duration": 4,
    "start_time": "2022-09-16T02:39:13.144Z"
   },
   {
    "duration": 258,
    "start_time": "2022-09-16T02:39:14.513Z"
   },
   {
    "duration": 270,
    "start_time": "2022-09-16T02:39:41.367Z"
   },
   {
    "duration": 254,
    "start_time": "2022-09-16T02:39:59.743Z"
   },
   {
    "duration": 369,
    "start_time": "2022-09-16T02:40:46.676Z"
   },
   {
    "duration": 406,
    "start_time": "2022-09-16T02:41:01.834Z"
   },
   {
    "duration": 369,
    "start_time": "2022-09-16T02:41:08.241Z"
   },
   {
    "duration": 430,
    "start_time": "2022-09-16T02:41:15.320Z"
   },
   {
    "duration": 9,
    "start_time": "2022-09-16T02:41:25.743Z"
   },
   {
    "duration": 211,
    "start_time": "2022-09-16T02:41:26.731Z"
   },
   {
    "duration": 6,
    "start_time": "2022-09-16T02:41:31.521Z"
   },
   {
    "duration": 132,
    "start_time": "2022-09-16T02:41:43.750Z"
   },
   {
    "duration": 136,
    "start_time": "2022-09-16T02:41:56.157Z"
   },
   {
    "duration": 4,
    "start_time": "2022-09-16T02:42:07.797Z"
   },
   {
    "duration": 10,
    "start_time": "2022-09-16T02:43:18.074Z"
   },
   {
    "duration": 188,
    "start_time": "2022-09-16T02:43:30.778Z"
   },
   {
    "duration": 255,
    "start_time": "2022-09-16T03:04:33.404Z"
   },
   {
    "duration": 4,
    "start_time": "2022-09-16T03:06:16.961Z"
   },
   {
    "duration": 6,
    "start_time": "2022-09-16T03:11:37.357Z"
   },
   {
    "duration": 12,
    "start_time": "2022-09-16T03:14:37.620Z"
   },
   {
    "duration": 6,
    "start_time": "2022-09-16T03:14:46.280Z"
   },
   {
    "duration": 12,
    "start_time": "2022-09-16T03:14:47.434Z"
   },
   {
    "duration": 300,
    "start_time": "2022-09-16T03:20:40.739Z"
   },
   {
    "duration": 177,
    "start_time": "2022-09-16T03:21:17.978Z"
   },
   {
    "duration": 33,
    "start_time": "2022-09-16T03:22:22.680Z"
   },
   {
    "duration": 54,
    "start_time": "2022-09-16T03:23:13.775Z"
   },
   {
    "duration": 10,
    "start_time": "2022-09-16T03:25:19.263Z"
   },
   {
    "duration": 1109,
    "start_time": "2022-09-16T03:56:13.699Z"
   },
   {
    "duration": 174,
    "start_time": "2022-09-16T03:56:15.666Z"
   },
   {
    "duration": 19,
    "start_time": "2022-09-16T03:56:17.620Z"
   },
   {
    "duration": 11,
    "start_time": "2022-09-16T03:56:18.786Z"
   },
   {
    "duration": 11,
    "start_time": "2022-09-16T03:56:19.492Z"
   },
   {
    "duration": 9,
    "start_time": "2022-09-16T03:56:21.464Z"
   },
   {
    "duration": 5,
    "start_time": "2022-09-16T03:56:21.987Z"
   },
   {
    "duration": 5,
    "start_time": "2022-09-16T03:56:23.286Z"
   },
   {
    "duration": 5,
    "start_time": "2022-09-16T03:56:23.886Z"
   },
   {
    "duration": 4,
    "start_time": "2022-09-16T03:56:26.855Z"
   },
   {
    "duration": 5,
    "start_time": "2022-09-16T03:56:30.342Z"
   },
   {
    "duration": 7,
    "start_time": "2022-09-16T03:56:31.722Z"
   },
   {
    "duration": 23,
    "start_time": "2022-09-16T03:56:47.163Z"
   },
   {
    "duration": 6,
    "start_time": "2022-09-16T03:56:54.777Z"
   },
   {
    "duration": 6,
    "start_time": "2022-09-16T03:56:55.574Z"
   },
   {
    "duration": 6,
    "start_time": "2022-09-16T03:57:10.383Z"
   },
   {
    "duration": 13,
    "start_time": "2022-09-16T03:57:18.005Z"
   },
   {
    "duration": 11,
    "start_time": "2022-09-16T03:57:21.242Z"
   },
   {
    "duration": 14,
    "start_time": "2022-09-16T03:57:25.072Z"
   },
   {
    "duration": 8,
    "start_time": "2022-09-16T03:57:31.410Z"
   },
   {
    "duration": 8,
    "start_time": "2022-09-16T03:57:37.421Z"
   },
   {
    "duration": 96,
    "start_time": "2022-09-16T04:03:21.781Z"
   },
   {
    "duration": 6,
    "start_time": "2022-09-16T04:03:25.385Z"
   },
   {
    "duration": 7,
    "start_time": "2022-09-16T04:03:29.191Z"
   },
   {
    "duration": 5,
    "start_time": "2022-09-16T04:03:29.873Z"
   },
   {
    "duration": 147,
    "start_time": "2022-09-16T04:03:30.560Z"
   },
   {
    "duration": 125,
    "start_time": "2022-09-16T04:03:31.501Z"
   },
   {
    "duration": 10,
    "start_time": "2022-09-16T04:03:32.370Z"
   },
   {
    "duration": 270,
    "start_time": "2022-09-16T04:03:44.438Z"
   },
   {
    "duration": 284,
    "start_time": "2022-09-16T04:04:16.320Z"
   },
   {
    "duration": 425,
    "start_time": "2022-09-16T04:04:36.182Z"
   },
   {
    "duration": 4,
    "start_time": "2022-09-16T04:04:42.758Z"
   },
   {
    "duration": 270,
    "start_time": "2022-09-16T04:05:00.635Z"
   },
   {
    "duration": 382,
    "start_time": "2022-09-16T04:05:40.755Z"
   },
   {
    "duration": 9,
    "start_time": "2022-09-16T04:05:48.652Z"
   },
   {
    "duration": 160,
    "start_time": "2022-09-16T04:05:54.578Z"
   },
   {
    "duration": 8,
    "start_time": "2022-09-16T04:06:25.425Z"
   },
   {
    "duration": 131,
    "start_time": "2022-09-16T04:07:06.585Z"
   },
   {
    "duration": 142,
    "start_time": "2022-09-16T04:07:23.997Z"
   },
   {
    "duration": 6,
    "start_time": "2022-09-16T04:07:28.534Z"
   },
   {
    "duration": 10,
    "start_time": "2022-09-16T04:08:17.487Z"
   },
   {
    "duration": 6,
    "start_time": "2022-09-16T04:09:33.615Z"
   },
   {
    "duration": 101,
    "start_time": "2022-09-16T04:09:43.306Z"
   },
   {
    "duration": 8,
    "start_time": "2022-09-16T04:16:56.999Z"
   },
   {
    "duration": 99,
    "start_time": "2022-09-16T04:18:40.560Z"
   },
   {
    "duration": 188,
    "start_time": "2022-09-16T04:20:41.678Z"
   },
   {
    "duration": 216,
    "start_time": "2022-09-16T04:35:27.532Z"
   },
   {
    "duration": 10,
    "start_time": "2022-09-16T04:35:31.597Z"
   },
   {
    "duration": 15,
    "start_time": "2022-09-16T04:36:11.874Z"
   },
   {
    "duration": 54,
    "start_time": "2022-09-16T16:23:49.134Z"
   },
   {
    "duration": 1338,
    "start_time": "2022-09-16T16:23:57.855Z"
   },
   {
    "duration": 453,
    "start_time": "2022-09-16T16:23:59.195Z"
   },
   {
    "duration": 15,
    "start_time": "2022-09-16T16:24:00.274Z"
   },
   {
    "duration": 12,
    "start_time": "2022-09-16T16:24:00.871Z"
   },
   {
    "duration": 12,
    "start_time": "2022-09-16T16:24:01.400Z"
   },
   {
    "duration": 7,
    "start_time": "2022-09-16T16:24:02.820Z"
   },
   {
    "duration": 5,
    "start_time": "2022-09-16T16:24:03.309Z"
   },
   {
    "duration": 5,
    "start_time": "2022-09-16T16:24:04.360Z"
   },
   {
    "duration": 6,
    "start_time": "2022-09-16T16:24:05.393Z"
   },
   {
    "duration": 5,
    "start_time": "2022-09-16T16:24:08.289Z"
   },
   {
    "duration": 4,
    "start_time": "2022-09-16T16:24:09.739Z"
   },
   {
    "duration": 6,
    "start_time": "2022-09-16T16:24:10.944Z"
   },
   {
    "duration": 25,
    "start_time": "2022-09-16T16:24:15.152Z"
   },
   {
    "duration": 4,
    "start_time": "2022-09-16T16:24:18.922Z"
   },
   {
    "duration": 6,
    "start_time": "2022-09-16T16:24:20.258Z"
   },
   {
    "duration": 5,
    "start_time": "2022-09-16T16:24:24.880Z"
   },
   {
    "duration": 10,
    "start_time": "2022-09-16T16:24:27.487Z"
   },
   {
    "duration": 9,
    "start_time": "2022-09-16T16:24:29.441Z"
   },
   {
    "duration": 11,
    "start_time": "2022-09-16T16:24:35.877Z"
   },
   {
    "duration": 7,
    "start_time": "2022-09-16T16:24:39.452Z"
   },
   {
    "duration": 6,
    "start_time": "2022-09-16T16:24:40.204Z"
   },
   {
    "duration": 157,
    "start_time": "2022-09-16T16:24:40.857Z"
   },
   {
    "duration": 114,
    "start_time": "2022-09-16T16:24:41.558Z"
   },
   {
    "duration": 9,
    "start_time": "2022-09-16T16:24:42.338Z"
   },
   {
    "duration": 279,
    "start_time": "2022-09-16T16:24:45.675Z"
   },
   {
    "duration": 299,
    "start_time": "2022-09-16T16:24:54.693Z"
   },
   {
    "duration": 447,
    "start_time": "2022-09-16T16:24:59.468Z"
   },
   {
    "duration": 4,
    "start_time": "2022-09-16T16:25:02.240Z"
   },
   {
    "duration": 277,
    "start_time": "2022-09-16T16:25:03.416Z"
   },
   {
    "duration": 377,
    "start_time": "2022-09-16T16:25:13.336Z"
   },
   {
    "duration": 10,
    "start_time": "2022-09-16T16:25:17.351Z"
   },
   {
    "duration": 168,
    "start_time": "2022-09-16T16:25:18.200Z"
   },
   {
    "duration": 4,
    "start_time": "2022-09-16T16:25:20.678Z"
   },
   {
    "duration": 148,
    "start_time": "2022-09-16T16:25:23.629Z"
   },
   {
    "duration": 140,
    "start_time": "2022-09-16T16:25:27.503Z"
   },
   {
    "duration": 4,
    "start_time": "2022-09-16T16:25:30.177Z"
   },
   {
    "duration": 11,
    "start_time": "2022-09-16T16:26:07.513Z"
   },
   {
    "duration": 6,
    "start_time": "2022-09-16T16:26:17.356Z"
   },
   {
    "duration": 8,
    "start_time": "2022-09-16T16:26:18.843Z"
   },
   {
    "duration": 222,
    "start_time": "2022-09-16T16:26:19.790Z"
   },
   {
    "duration": 71,
    "start_time": "2022-09-16T16:32:26.114Z"
   },
   {
    "duration": 147,
    "start_time": "2022-09-16T16:34:20.856Z"
   },
   {
    "duration": 152,
    "start_time": "2022-09-16T16:37:02.705Z"
   },
   {
    "duration": 11,
    "start_time": "2022-09-16T16:43:08.629Z"
   },
   {
    "duration": 134,
    "start_time": "2022-09-16T16:48:14.190Z"
   },
   {
    "duration": 132,
    "start_time": "2022-09-16T16:49:08.225Z"
   },
   {
    "duration": 11,
    "start_time": "2022-09-16T16:54:01.181Z"
   },
   {
    "duration": 139,
    "start_time": "2022-09-16T16:54:42.350Z"
   },
   {
    "duration": 1387,
    "start_time": "2022-09-16T16:57:55.794Z"
   },
   {
    "duration": 1727,
    "start_time": "2022-09-16T16:59:50.595Z"
   },
   {
    "duration": 9,
    "start_time": "2022-09-16T17:01:13.359Z"
   },
   {
    "duration": 9,
    "start_time": "2022-09-16T17:01:32.604Z"
   },
   {
    "duration": 26,
    "start_time": "2022-09-16T17:03:42.710Z"
   },
   {
    "duration": 34,
    "start_time": "2022-09-16T17:05:04.785Z"
   },
   {
    "duration": 25,
    "start_time": "2022-09-16T17:06:36.555Z"
   },
   {
    "duration": 151,
    "start_time": "2022-09-16T17:07:28.608Z"
   },
   {
    "duration": 27,
    "start_time": "2022-09-16T17:07:51.663Z"
   },
   {
    "duration": 1473,
    "start_time": "2022-09-16T17:11:43.904Z"
   },
   {
    "duration": 1334,
    "start_time": "2022-09-16T17:12:51.412Z"
   },
   {
    "duration": 13,
    "start_time": "2022-09-16T17:17:31.128Z"
   },
   {
    "duration": 14,
    "start_time": "2022-09-16T17:20:40.025Z"
   },
   {
    "duration": 14,
    "start_time": "2022-09-16T17:21:44.554Z"
   },
   {
    "duration": 15,
    "start_time": "2022-09-16T17:23:50.352Z"
   },
   {
    "duration": 1130,
    "start_time": "2022-09-16T17:26:39.349Z"
   },
   {
    "duration": 24,
    "start_time": "2022-09-16T17:26:42.079Z"
   },
   {
    "duration": 15,
    "start_time": "2022-09-16T17:27:01.275Z"
   },
   {
    "duration": 3,
    "start_time": "2022-09-16T17:28:12.848Z"
   },
   {
    "duration": 11,
    "start_time": "2022-09-16T17:28:30.081Z"
   },
   {
    "duration": 15,
    "start_time": "2022-09-16T17:29:00.406Z"
   },
   {
    "duration": 92,
    "start_time": "2022-09-16T17:29:53.734Z"
   },
   {
    "duration": 23,
    "start_time": "2022-09-16T17:31:49.448Z"
   },
   {
    "duration": 14,
    "start_time": "2022-09-16T17:33:30.248Z"
   },
   {
    "duration": 1072,
    "start_time": "2022-09-16T17:36:18.467Z"
   },
   {
    "duration": 171,
    "start_time": "2022-09-16T17:36:19.541Z"
   },
   {
    "duration": 14,
    "start_time": "2022-09-16T17:36:19.714Z"
   },
   {
    "duration": 11,
    "start_time": "2022-09-16T17:36:19.730Z"
   },
   {
    "duration": 16,
    "start_time": "2022-09-16T17:36:19.742Z"
   },
   {
    "duration": 9,
    "start_time": "2022-09-16T17:36:19.759Z"
   },
   {
    "duration": 5,
    "start_time": "2022-09-16T17:36:19.769Z"
   },
   {
    "duration": 7,
    "start_time": "2022-09-16T17:36:19.775Z"
   },
   {
    "duration": 4,
    "start_time": "2022-09-16T17:36:19.788Z"
   },
   {
    "duration": 5,
    "start_time": "2022-09-16T17:36:19.795Z"
   },
   {
    "duration": 5,
    "start_time": "2022-09-16T17:36:19.801Z"
   },
   {
    "duration": 6,
    "start_time": "2022-09-16T17:36:19.807Z"
   },
   {
    "duration": 22,
    "start_time": "2022-09-16T17:36:19.815Z"
   },
   {
    "duration": 5,
    "start_time": "2022-09-16T17:36:19.838Z"
   },
   {
    "duration": 11,
    "start_time": "2022-09-16T17:36:19.844Z"
   },
   {
    "duration": 32,
    "start_time": "2022-09-16T17:36:19.857Z"
   },
   {
    "duration": 10,
    "start_time": "2022-09-16T17:36:19.891Z"
   },
   {
    "duration": 7,
    "start_time": "2022-09-16T17:36:19.903Z"
   },
   {
    "duration": 13,
    "start_time": "2022-09-16T17:36:19.912Z"
   },
   {
    "duration": 8,
    "start_time": "2022-09-16T17:36:19.926Z"
   },
   {
    "duration": 7,
    "start_time": "2022-09-16T17:36:19.936Z"
   },
   {
    "duration": 181,
    "start_time": "2022-09-16T17:36:19.944Z"
   },
   {
    "duration": 116,
    "start_time": "2022-09-16T17:36:20.127Z"
   },
   {
    "duration": 9,
    "start_time": "2022-09-16T17:36:20.245Z"
   },
   {
    "duration": 291,
    "start_time": "2022-09-16T17:36:20.256Z"
   },
   {
    "duration": 298,
    "start_time": "2022-09-16T17:36:20.548Z"
   },
   {
    "duration": 371,
    "start_time": "2022-09-16T17:36:20.847Z"
   },
   {
    "duration": 4,
    "start_time": "2022-09-16T17:36:21.221Z"
   },
   {
    "duration": 302,
    "start_time": "2022-09-16T17:36:21.227Z"
   },
   {
    "duration": 413,
    "start_time": "2022-09-16T17:36:21.530Z"
   },
   {
    "duration": 13,
    "start_time": "2022-09-16T17:36:21.944Z"
   },
   {
    "duration": 199,
    "start_time": "2022-09-16T17:36:21.959Z"
   },
   {
    "duration": 5,
    "start_time": "2022-09-16T17:36:22.159Z"
   },
   {
    "duration": 179,
    "start_time": "2022-09-16T17:36:22.166Z"
   },
   {
    "duration": 151,
    "start_time": "2022-09-16T17:36:22.347Z"
   },
   {
    "duration": 5,
    "start_time": "2022-09-16T17:36:22.500Z"
   },
   {
    "duration": 28,
    "start_time": "2022-09-16T17:36:22.506Z"
   },
   {
    "duration": 12,
    "start_time": "2022-09-16T17:36:22.536Z"
   },
   {
    "duration": 28,
    "start_time": "2022-09-16T17:36:22.549Z"
   },
   {
    "duration": 223,
    "start_time": "2022-09-16T17:36:22.579Z"
   },
   {
    "duration": 155,
    "start_time": "2022-09-16T17:36:22.804Z"
   },
   {
    "duration": 9,
    "start_time": "2022-09-16T17:36:22.961Z"
   },
   {
    "duration": 145,
    "start_time": "2022-09-16T17:36:22.971Z"
   },
   {
    "duration": 8,
    "start_time": "2022-09-16T17:36:23.118Z"
   },
   {
    "duration": 25,
    "start_time": "2022-09-16T17:36:23.127Z"
   },
   {
    "duration": 14,
    "start_time": "2022-09-16T17:36:23.154Z"
   },
   {
    "duration": 123,
    "start_time": "2022-09-16T17:36:23.169Z"
   },
   {
    "duration": 170,
    "start_time": "2022-09-16T17:48:03.853Z"
   },
   {
    "duration": 450,
    "start_time": "2022-09-16T17:51:26.641Z"
   },
   {
    "duration": 81,
    "start_time": "2022-09-16T17:58:38.141Z"
   },
   {
    "duration": 1261,
    "start_time": "2022-09-16T18:00:01.808Z"
   },
   {
    "duration": 195,
    "start_time": "2022-09-16T18:00:03.152Z"
   },
   {
    "duration": 16,
    "start_time": "2022-09-16T18:00:05.053Z"
   },
   {
    "duration": 13,
    "start_time": "2022-09-16T18:00:05.765Z"
   },
   {
    "duration": 13,
    "start_time": "2022-09-16T18:00:06.913Z"
   },
   {
    "duration": 10,
    "start_time": "2022-09-16T18:00:09.013Z"
   },
   {
    "duration": 6,
    "start_time": "2022-09-16T18:00:09.729Z"
   },
   {
    "duration": 6,
    "start_time": "2022-09-16T18:00:10.972Z"
   },
   {
    "duration": 6,
    "start_time": "2022-09-16T18:00:11.714Z"
   },
   {
    "duration": 5,
    "start_time": "2022-09-16T18:00:17.112Z"
   },
   {
    "duration": 6,
    "start_time": "2022-09-16T18:00:18.877Z"
   },
   {
    "duration": 6,
    "start_time": "2022-09-16T18:00:19.828Z"
   },
   {
    "duration": 22,
    "start_time": "2022-09-16T18:00:21.013Z"
   },
   {
    "duration": 5,
    "start_time": "2022-09-16T18:00:22.829Z"
   },
   {
    "duration": 6,
    "start_time": "2022-09-16T18:00:23.308Z"
   },
   {
    "duration": 6,
    "start_time": "2022-09-16T18:00:26.555Z"
   },
   {
    "duration": 9,
    "start_time": "2022-09-16T18:00:29.360Z"
   },
   {
    "duration": 9,
    "start_time": "2022-09-16T18:00:31.682Z"
   },
   {
    "duration": 12,
    "start_time": "2022-09-16T18:00:36.621Z"
   },
   {
    "duration": 8,
    "start_time": "2022-09-16T18:00:40.063Z"
   },
   {
    "duration": 5,
    "start_time": "2022-09-16T18:00:40.749Z"
   },
   {
    "duration": 168,
    "start_time": "2022-09-16T18:00:41.484Z"
   },
   {
    "duration": 105,
    "start_time": "2022-09-16T18:00:42.411Z"
   },
   {
    "duration": 8,
    "start_time": "2022-09-16T18:00:42.550Z"
   },
   {
    "duration": 294,
    "start_time": "2022-09-16T18:00:44.879Z"
   },
   {
    "duration": 288,
    "start_time": "2022-09-16T18:00:53.207Z"
   },
   {
    "duration": 438,
    "start_time": "2022-09-16T18:00:56.562Z"
   },
   {
    "duration": 5,
    "start_time": "2022-09-16T18:01:01.131Z"
   },
   {
    "duration": 264,
    "start_time": "2022-09-16T18:01:02.107Z"
   },
   {
    "duration": 399,
    "start_time": "2022-09-16T18:01:07.536Z"
   },
   {
    "duration": 11,
    "start_time": "2022-09-16T18:01:11.653Z"
   },
   {
    "duration": 145,
    "start_time": "2022-09-16T18:01:12.794Z"
   },
   {
    "duration": 4,
    "start_time": "2022-09-16T18:01:20.333Z"
   },
   {
    "duration": 143,
    "start_time": "2022-09-16T18:01:23.864Z"
   },
   {
    "duration": 171,
    "start_time": "2022-09-16T18:01:27.553Z"
   },
   {
    "duration": 5,
    "start_time": "2022-09-16T18:01:29.993Z"
   },
   {
    "duration": 11,
    "start_time": "2022-09-16T18:01:35.129Z"
   },
   {
    "duration": 8,
    "start_time": "2022-09-16T18:01:41.937Z"
   },
   {
    "duration": 8,
    "start_time": "2022-09-16T18:01:43.596Z"
   },
   {
    "duration": 194,
    "start_time": "2022-09-16T18:01:44.415Z"
   },
   {
    "duration": 170,
    "start_time": "2022-09-16T18:01:47.688Z"
   },
   {
    "duration": 10,
    "start_time": "2022-09-16T18:01:53.334Z"
   },
   {
    "duration": 141,
    "start_time": "2022-09-16T18:02:04.999Z"
   },
   {
    "duration": 9,
    "start_time": "2022-09-16T18:02:22.725Z"
   },
   {
    "duration": 25,
    "start_time": "2022-09-16T18:02:24.062Z"
   },
   {
    "duration": 14,
    "start_time": "2022-09-16T18:02:49.559Z"
   },
   {
    "duration": 425,
    "start_time": "2022-09-16T18:02:57.682Z"
   },
   {
    "duration": 1195,
    "start_time": "2022-09-17T08:42:16.407Z"
   },
   {
    "duration": 266,
    "start_time": "2022-09-17T08:42:17.605Z"
   },
   {
    "duration": 15,
    "start_time": "2022-09-17T08:42:17.873Z"
   },
   {
    "duration": 12,
    "start_time": "2022-09-17T08:42:17.889Z"
   },
   {
    "duration": 11,
    "start_time": "2022-09-17T08:42:17.904Z"
   },
   {
    "duration": 8,
    "start_time": "2022-09-17T08:42:17.916Z"
   },
   {
    "duration": 5,
    "start_time": "2022-09-17T08:42:17.926Z"
   },
   {
    "duration": 7,
    "start_time": "2022-09-17T08:42:17.933Z"
   },
   {
    "duration": 4,
    "start_time": "2022-09-17T08:42:17.942Z"
   },
   {
    "duration": 5,
    "start_time": "2022-09-17T08:42:17.948Z"
   },
   {
    "duration": 5,
    "start_time": "2022-09-17T08:42:17.954Z"
   },
   {
    "duration": 6,
    "start_time": "2022-09-17T08:42:17.960Z"
   },
   {
    "duration": 51,
    "start_time": "2022-09-17T08:42:17.968Z"
   },
   {
    "duration": 4,
    "start_time": "2022-09-17T08:42:18.022Z"
   },
   {
    "duration": 9,
    "start_time": "2022-09-17T08:42:18.027Z"
   },
   {
    "duration": 7,
    "start_time": "2022-09-17T08:42:18.037Z"
   },
   {
    "duration": 116,
    "start_time": "2022-09-17T08:42:18.046Z"
   },
   {
    "duration": 1,
    "start_time": "2022-09-17T08:42:18.163Z"
   },
   {
    "duration": 0,
    "start_time": "2022-09-17T08:42:18.165Z"
   },
   {
    "duration": 0,
    "start_time": "2022-09-17T08:42:18.166Z"
   },
   {
    "duration": 0,
    "start_time": "2022-09-17T08:42:18.166Z"
   },
   {
    "duration": 0,
    "start_time": "2022-09-17T08:42:18.167Z"
   },
   {
    "duration": 0,
    "start_time": "2022-09-17T08:42:18.168Z"
   },
   {
    "duration": 0,
    "start_time": "2022-09-17T08:42:18.169Z"
   },
   {
    "duration": 0,
    "start_time": "2022-09-17T08:42:18.170Z"
   },
   {
    "duration": 0,
    "start_time": "2022-09-17T08:42:18.171Z"
   },
   {
    "duration": 0,
    "start_time": "2022-09-17T08:42:18.172Z"
   },
   {
    "duration": 0,
    "start_time": "2022-09-17T08:42:18.173Z"
   },
   {
    "duration": 0,
    "start_time": "2022-09-17T08:42:18.173Z"
   },
   {
    "duration": 0,
    "start_time": "2022-09-17T08:42:18.174Z"
   },
   {
    "duration": 0,
    "start_time": "2022-09-17T08:42:18.175Z"
   },
   {
    "duration": 0,
    "start_time": "2022-09-17T08:42:18.176Z"
   },
   {
    "duration": 0,
    "start_time": "2022-09-17T08:42:18.177Z"
   },
   {
    "duration": 0,
    "start_time": "2022-09-17T08:42:18.177Z"
   },
   {
    "duration": 0,
    "start_time": "2022-09-17T08:42:18.178Z"
   },
   {
    "duration": 0,
    "start_time": "2022-09-17T08:42:18.179Z"
   },
   {
    "duration": 0,
    "start_time": "2022-09-17T08:42:18.209Z"
   },
   {
    "duration": 0,
    "start_time": "2022-09-17T08:42:18.210Z"
   },
   {
    "duration": 0,
    "start_time": "2022-09-17T08:42:18.211Z"
   },
   {
    "duration": 0,
    "start_time": "2022-09-17T08:42:18.212Z"
   },
   {
    "duration": 0,
    "start_time": "2022-09-17T08:42:18.213Z"
   },
   {
    "duration": 0,
    "start_time": "2022-09-17T08:42:18.214Z"
   },
   {
    "duration": 0,
    "start_time": "2022-09-17T08:42:18.215Z"
   },
   {
    "duration": 0,
    "start_time": "2022-09-17T08:42:18.216Z"
   },
   {
    "duration": 0,
    "start_time": "2022-09-17T08:42:18.217Z"
   },
   {
    "duration": 0,
    "start_time": "2022-09-17T08:42:18.218Z"
   },
   {
    "duration": 0,
    "start_time": "2022-09-17T08:42:18.219Z"
   },
   {
    "duration": 0,
    "start_time": "2022-09-17T08:42:18.220Z"
   },
   {
    "duration": 0,
    "start_time": "2022-09-17T08:42:18.221Z"
   },
   {
    "duration": 1273,
    "start_time": "2022-09-17T19:20:54.996Z"
   },
   {
    "duration": 281,
    "start_time": "2022-09-17T19:20:56.271Z"
   },
   {
    "duration": 14,
    "start_time": "2022-09-17T19:20:56.557Z"
   },
   {
    "duration": 13,
    "start_time": "2022-09-17T19:20:56.573Z"
   },
   {
    "duration": 14,
    "start_time": "2022-09-17T19:20:56.588Z"
   },
   {
    "duration": 9,
    "start_time": "2022-09-17T19:20:56.604Z"
   },
   {
    "duration": 10,
    "start_time": "2022-09-17T19:20:56.615Z"
   },
   {
    "duration": 8,
    "start_time": "2022-09-17T19:20:56.630Z"
   },
   {
    "duration": 6,
    "start_time": "2022-09-17T19:20:56.641Z"
   },
   {
    "duration": 7,
    "start_time": "2022-09-17T19:20:56.649Z"
   },
   {
    "duration": 11,
    "start_time": "2022-09-17T19:20:56.658Z"
   },
   {
    "duration": 17,
    "start_time": "2022-09-17T19:20:56.671Z"
   },
   {
    "duration": 43,
    "start_time": "2022-09-17T19:20:56.690Z"
   },
   {
    "duration": 5,
    "start_time": "2022-09-17T19:20:56.735Z"
   },
   {
    "duration": 6,
    "start_time": "2022-09-17T19:20:56.742Z"
   },
   {
    "duration": 8,
    "start_time": "2022-09-17T19:20:56.750Z"
   },
   {
    "duration": 16,
    "start_time": "2022-09-17T19:20:56.759Z"
   },
   {
    "duration": 9,
    "start_time": "2022-09-17T19:20:56.777Z"
   },
   {
    "duration": 44,
    "start_time": "2022-09-17T19:20:56.787Z"
   },
   {
    "duration": 9,
    "start_time": "2022-09-17T19:20:56.833Z"
   },
   {
    "duration": 10,
    "start_time": "2022-09-17T19:20:56.844Z"
   },
   {
    "duration": 180,
    "start_time": "2022-09-17T19:20:56.856Z"
   },
   {
    "duration": 127,
    "start_time": "2022-09-17T19:20:57.038Z"
   },
   {
    "duration": 10,
    "start_time": "2022-09-17T19:20:57.166Z"
   },
   {
    "duration": 332,
    "start_time": "2022-09-17T19:20:57.177Z"
   },
   {
    "duration": 333,
    "start_time": "2022-09-17T19:20:57.511Z"
   },
   {
    "duration": 429,
    "start_time": "2022-09-17T19:20:57.848Z"
   },
   {
    "duration": 6,
    "start_time": "2022-09-17T19:20:58.278Z"
   },
   {
    "duration": 328,
    "start_time": "2022-09-17T19:20:58.286Z"
   },
   {
    "duration": 478,
    "start_time": "2022-09-17T19:20:58.616Z"
   },
   {
    "duration": 14,
    "start_time": "2022-09-17T19:20:59.097Z"
   },
   {
    "duration": 213,
    "start_time": "2022-09-17T19:20:59.121Z"
   },
   {
    "duration": 5,
    "start_time": "2022-09-17T19:20:59.336Z"
   },
   {
    "duration": 179,
    "start_time": "2022-09-17T19:20:59.343Z"
   },
   {
    "duration": 161,
    "start_time": "2022-09-17T19:20:59.534Z"
   },
   {
    "duration": 5,
    "start_time": "2022-09-17T19:20:59.697Z"
   },
   {
    "duration": 27,
    "start_time": "2022-09-17T19:20:59.703Z"
   },
   {
    "duration": 8,
    "start_time": "2022-09-17T19:20:59.733Z"
   },
   {
    "duration": 13,
    "start_time": "2022-09-17T19:20:59.742Z"
   },
   {
    "duration": 260,
    "start_time": "2022-09-17T19:20:59.756Z"
   },
   {
    "duration": 167,
    "start_time": "2022-09-17T19:21:00.018Z"
   },
   {
    "duration": 10,
    "start_time": "2022-09-17T19:21:00.187Z"
   },
   {
    "duration": 163,
    "start_time": "2022-09-17T19:21:00.199Z"
   },
   {
    "duration": 10,
    "start_time": "2022-09-17T19:21:00.364Z"
   },
   {
    "duration": 33,
    "start_time": "2022-09-17T19:21:00.375Z"
   },
   {
    "duration": 16,
    "start_time": "2022-09-17T19:21:00.425Z"
   },
   {
    "duration": 421,
    "start_time": "2022-09-17T19:21:00.443Z"
   },
   {
    "duration": 424,
    "start_time": "2022-09-17T19:48:07.708Z"
   },
   {
    "duration": 339,
    "start_time": "2022-09-17T19:48:16.998Z"
   },
   {
    "duration": 384,
    "start_time": "2022-09-17T19:48:21.512Z"
   },
   {
    "duration": 340,
    "start_time": "2022-09-17T19:48:26.575Z"
   },
   {
    "duration": 368,
    "start_time": "2022-09-17T19:48:36.512Z"
   },
   {
    "duration": 357,
    "start_time": "2022-09-17T19:49:13.997Z"
   },
   {
    "duration": 355,
    "start_time": "2022-09-17T19:49:19.784Z"
   },
   {
    "duration": 564,
    "start_time": "2022-09-17T20:00:08.975Z"
   },
   {
    "duration": 319,
    "start_time": "2022-09-17T20:00:30.073Z"
   },
   {
    "duration": 337,
    "start_time": "2022-09-17T20:00:35.467Z"
   },
   {
    "duration": 326,
    "start_time": "2022-09-17T20:00:43.700Z"
   },
   {
    "duration": 1104,
    "start_time": "2022-09-17T20:09:06.055Z"
   },
   {
    "duration": 181,
    "start_time": "2022-09-17T20:09:07.161Z"
   },
   {
    "duration": 19,
    "start_time": "2022-09-17T20:09:07.345Z"
   },
   {
    "duration": 32,
    "start_time": "2022-09-17T20:09:07.367Z"
   },
   {
    "duration": 46,
    "start_time": "2022-09-17T20:09:07.401Z"
   },
   {
    "duration": 21,
    "start_time": "2022-09-17T20:09:07.449Z"
   },
   {
    "duration": 13,
    "start_time": "2022-09-17T20:09:07.473Z"
   },
   {
    "duration": 29,
    "start_time": "2022-09-17T20:09:07.487Z"
   },
   {
    "duration": 39,
    "start_time": "2022-09-17T20:09:07.518Z"
   },
   {
    "duration": 20,
    "start_time": "2022-09-17T20:09:07.559Z"
   },
   {
    "duration": 24,
    "start_time": "2022-09-17T20:09:07.581Z"
   },
   {
    "duration": 21,
    "start_time": "2022-09-17T20:09:07.607Z"
   },
   {
    "duration": 57,
    "start_time": "2022-09-17T20:09:07.634Z"
   },
   {
    "duration": 6,
    "start_time": "2022-09-17T20:09:07.693Z"
   },
   {
    "duration": 45,
    "start_time": "2022-09-17T20:09:07.701Z"
   },
   {
    "duration": 31,
    "start_time": "2022-09-17T20:09:07.748Z"
   },
   {
    "duration": 45,
    "start_time": "2022-09-17T20:09:07.781Z"
   },
   {
    "duration": 33,
    "start_time": "2022-09-17T20:09:07.827Z"
   },
   {
    "duration": 40,
    "start_time": "2022-09-17T20:09:07.862Z"
   },
   {
    "duration": 41,
    "start_time": "2022-09-17T20:09:07.904Z"
   },
   {
    "duration": 31,
    "start_time": "2022-09-17T20:09:07.949Z"
   },
   {
    "duration": 201,
    "start_time": "2022-09-17T20:09:07.983Z"
   },
   {
    "duration": 138,
    "start_time": "2022-09-17T20:09:08.186Z"
   },
   {
    "duration": 13,
    "start_time": "2022-09-17T20:09:08.325Z"
   },
   {
    "duration": 359,
    "start_time": "2022-09-17T20:09:08.340Z"
   },
   {
    "duration": 428,
    "start_time": "2022-09-17T20:09:08.700Z"
   },
   {
    "duration": 444,
    "start_time": "2022-09-17T20:09:09.130Z"
   },
   {
    "duration": 4,
    "start_time": "2022-09-17T20:09:09.579Z"
   },
   {
    "duration": 341,
    "start_time": "2022-09-17T20:09:09.585Z"
   },
   {
    "duration": 461,
    "start_time": "2022-09-17T20:09:09.930Z"
   },
   {
    "duration": 10,
    "start_time": "2022-09-17T20:09:10.393Z"
   },
   {
    "duration": 187,
    "start_time": "2022-09-17T20:09:10.405Z"
   },
   {
    "duration": 5,
    "start_time": "2022-09-17T20:09:10.594Z"
   },
   {
    "duration": 239,
    "start_time": "2022-09-17T20:09:10.601Z"
   },
   {
    "duration": 165,
    "start_time": "2022-09-17T20:09:10.841Z"
   },
   {
    "duration": 4,
    "start_time": "2022-09-17T20:09:11.008Z"
   },
   {
    "duration": 18,
    "start_time": "2022-09-17T20:09:11.021Z"
   },
   {
    "duration": 11,
    "start_time": "2022-09-17T20:09:11.041Z"
   },
   {
    "duration": 15,
    "start_time": "2022-09-17T20:09:11.054Z"
   },
   {
    "duration": 232,
    "start_time": "2022-09-17T20:09:11.071Z"
   },
   {
    "duration": 171,
    "start_time": "2022-09-17T20:09:11.305Z"
   },
   {
    "duration": 13,
    "start_time": "2022-09-17T20:09:11.478Z"
   },
   {
    "duration": 190,
    "start_time": "2022-09-17T20:09:11.493Z"
   },
   {
    "duration": 12,
    "start_time": "2022-09-17T20:09:11.685Z"
   },
   {
    "duration": 93,
    "start_time": "2022-09-17T20:09:11.700Z"
   },
   {
    "duration": 20,
    "start_time": "2022-09-17T20:09:11.795Z"
   },
   {
    "duration": 457,
    "start_time": "2022-09-17T20:09:11.817Z"
   },
   {
    "duration": 47,
    "start_time": "2022-09-18T05:30:21.541Z"
   },
   {
    "duration": 1162,
    "start_time": "2022-09-18T05:30:41.092Z"
   },
   {
    "duration": 272,
    "start_time": "2022-09-18T05:30:42.359Z"
   },
   {
    "duration": 14,
    "start_time": "2022-09-18T05:30:44.149Z"
   },
   {
    "duration": 12,
    "start_time": "2022-09-18T05:30:44.933Z"
   },
   {
    "duration": 11,
    "start_time": "2022-09-18T05:30:45.889Z"
   },
   {
    "duration": 8,
    "start_time": "2022-09-18T05:30:48.221Z"
   },
   {
    "duration": 5,
    "start_time": "2022-09-18T05:30:48.787Z"
   },
   {
    "duration": 6,
    "start_time": "2022-09-18T05:30:50.121Z"
   },
   {
    "duration": 5,
    "start_time": "2022-09-18T05:30:50.999Z"
   },
   {
    "duration": 4,
    "start_time": "2022-09-18T05:30:57.066Z"
   },
   {
    "duration": 6,
    "start_time": "2022-09-18T05:30:58.522Z"
   },
   {
    "duration": 5,
    "start_time": "2022-09-18T05:30:59.721Z"
   },
   {
    "duration": 22,
    "start_time": "2022-09-18T05:31:01.421Z"
   },
   {
    "duration": 5,
    "start_time": "2022-09-18T05:31:15.244Z"
   },
   {
    "duration": 5,
    "start_time": "2022-09-18T05:31:15.727Z"
   },
   {
    "duration": 5,
    "start_time": "2022-09-18T05:31:19.633Z"
   },
   {
    "duration": 9,
    "start_time": "2022-09-18T05:31:30.097Z"
   },
   {
    "duration": 8,
    "start_time": "2022-09-18T05:31:33.779Z"
   },
   {
    "duration": 10,
    "start_time": "2022-09-18T05:31:47.871Z"
   },
   {
    "duration": 9,
    "start_time": "2022-09-18T05:31:51.547Z"
   },
   {
    "duration": 5,
    "start_time": "2022-09-18T05:31:52.252Z"
   },
   {
    "duration": 141,
    "start_time": "2022-09-18T05:31:52.941Z"
   },
   {
    "duration": 113,
    "start_time": "2022-09-18T05:31:53.739Z"
   },
   {
    "duration": 9,
    "start_time": "2022-09-18T05:31:54.188Z"
   },
   {
    "duration": 289,
    "start_time": "2022-09-18T05:31:56.722Z"
   },
   {
    "duration": 354,
    "start_time": "2022-09-18T05:32:16.591Z"
   },
   {
    "duration": 264,
    "start_time": "2022-09-18T05:32:26.574Z"
   },
   {
    "duration": 275,
    "start_time": "2022-09-18T05:34:02.443Z"
   },
   {
    "duration": 271,
    "start_time": "2022-09-18T05:36:19.988Z"
   },
   {
    "duration": 274,
    "start_time": "2022-09-18T05:37:06.375Z"
   },
   {
    "duration": 258,
    "start_time": "2022-09-18T05:38:57.144Z"
   },
   {
    "duration": 291,
    "start_time": "2022-09-18T05:39:05.123Z"
   },
   {
    "duration": 302,
    "start_time": "2022-09-18T05:45:01.500Z"
   },
   {
    "duration": 267,
    "start_time": "2022-09-18T05:45:29.639Z"
   },
   {
    "duration": 369,
    "start_time": "2022-09-18T05:46:00.585Z"
   },
   {
    "duration": 434,
    "start_time": "2022-09-18T05:46:18.330Z"
   },
   {
    "duration": 5,
    "start_time": "2022-09-18T05:46:26.410Z"
   },
   {
    "duration": 259,
    "start_time": "2022-09-18T05:46:34.804Z"
   },
   {
    "duration": 393,
    "start_time": "2022-09-18T05:46:46.533Z"
   },
   {
    "duration": 11,
    "start_time": "2022-09-18T05:46:51.421Z"
   },
   {
    "duration": 171,
    "start_time": "2022-09-18T05:46:52.139Z"
   },
   {
    "duration": 4,
    "start_time": "2022-09-18T05:46:54.291Z"
   },
   {
    "duration": 142,
    "start_time": "2022-09-18T05:47:00.310Z"
   },
   {
    "duration": 136,
    "start_time": "2022-09-18T05:47:05.407Z"
   },
   {
    "duration": 4,
    "start_time": "2022-09-18T05:47:08.167Z"
   },
   {
    "duration": 11,
    "start_time": "2022-09-18T05:47:12.050Z"
   },
   {
    "duration": 6,
    "start_time": "2022-09-18T05:47:16.161Z"
   },
   {
    "duration": 10,
    "start_time": "2022-09-18T05:47:16.839Z"
   },
   {
    "duration": 195,
    "start_time": "2022-09-18T05:47:17.685Z"
   },
   {
    "duration": 149,
    "start_time": "2022-09-18T05:47:19.949Z"
   },
   {
    "duration": 11,
    "start_time": "2022-09-18T05:47:27.566Z"
   },
   {
    "duration": 120,
    "start_time": "2022-09-18T05:47:31.527Z"
   },
   {
    "duration": 7,
    "start_time": "2022-09-18T05:47:36.721Z"
   },
   {
    "duration": 37,
    "start_time": "2022-09-18T05:47:37.441Z"
   },
   {
    "duration": 12,
    "start_time": "2022-09-18T05:47:42.110Z"
   },
   {
    "duration": 385,
    "start_time": "2022-09-18T05:47:45.993Z"
   },
   {
    "duration": 9,
    "start_time": "2022-09-18T05:49:53.838Z"
   },
   {
    "duration": 5,
    "start_time": "2022-09-18T05:50:18.425Z"
   },
   {
    "duration": 8,
    "start_time": "2022-09-18T05:50:46.499Z"
   },
   {
    "duration": 8,
    "start_time": "2022-09-18T05:52:53.708Z"
   },
   {
    "duration": 16,
    "start_time": "2022-09-18T05:54:14.491Z"
   },
   {
    "duration": 10,
    "start_time": "2022-09-18T05:55:24.141Z"
   },
   {
    "duration": 14,
    "start_time": "2022-09-18T05:55:34.806Z"
   },
   {
    "duration": 5,
    "start_time": "2022-09-18T05:59:12.099Z"
   },
   {
    "duration": 41,
    "start_time": "2022-09-18T06:00:29.221Z"
   },
   {
    "duration": 55,
    "start_time": "2022-09-18T06:00:40.749Z"
   },
   {
    "duration": 4,
    "start_time": "2022-09-18T06:00:46.096Z"
   },
   {
    "duration": 3,
    "start_time": "2022-09-18T06:00:59.775Z"
   },
   {
    "duration": 4,
    "start_time": "2022-09-18T06:01:16.583Z"
   },
   {
    "duration": 9,
    "start_time": "2022-09-18T06:01:17.161Z"
   },
   {
    "duration": 5,
    "start_time": "2022-09-18T06:01:48.856Z"
   },
   {
    "duration": 4,
    "start_time": "2022-09-18T06:01:49.831Z"
   },
   {
    "duration": 5,
    "start_time": "2022-09-18T06:01:51.038Z"
   },
   {
    "duration": 6,
    "start_time": "2022-09-18T06:01:55.329Z"
   },
   {
    "duration": 9,
    "start_time": "2022-09-18T06:02:28.231Z"
   },
   {
    "duration": 8,
    "start_time": "2022-09-18T06:02:30.069Z"
   },
   {
    "duration": 11,
    "start_time": "2022-09-18T06:02:37.187Z"
   },
   {
    "duration": 8,
    "start_time": "2022-09-18T06:02:44.273Z"
   },
   {
    "duration": 5,
    "start_time": "2022-09-18T06:02:44.889Z"
   },
   {
    "duration": 169,
    "start_time": "2022-09-18T06:02:45.522Z"
   },
   {
    "duration": 138,
    "start_time": "2022-09-18T06:02:46.120Z"
   },
   {
    "duration": 9,
    "start_time": "2022-09-18T06:02:46.735Z"
   },
   {
    "duration": 282,
    "start_time": "2022-09-18T06:02:50.362Z"
   },
   {
    "duration": 408,
    "start_time": "2022-09-18T06:03:15.545Z"
   },
   {
    "duration": 415,
    "start_time": "2022-09-18T06:03:18.340Z"
   },
   {
    "duration": 4,
    "start_time": "2022-09-18T06:03:20.507Z"
   },
   {
    "duration": 302,
    "start_time": "2022-09-18T06:03:21.377Z"
   },
   {
    "duration": 471,
    "start_time": "2022-09-18T06:03:26.425Z"
   },
   {
    "duration": 10,
    "start_time": "2022-09-18T06:03:30.523Z"
   },
   {
    "duration": 175,
    "start_time": "2022-09-18T06:03:31.421Z"
   },
   {
    "duration": 3,
    "start_time": "2022-09-18T06:03:34.352Z"
   },
   {
    "duration": 186,
    "start_time": "2022-09-18T06:03:37.788Z"
   },
   {
    "duration": 156,
    "start_time": "2022-09-18T06:03:41.072Z"
   },
   {
    "duration": 8,
    "start_time": "2022-09-18T06:03:44.261Z"
   },
   {
    "duration": 9,
    "start_time": "2022-09-18T06:03:48.430Z"
   },
   {
    "duration": 14,
    "start_time": "2022-09-18T06:03:53.951Z"
   },
   {
    "duration": 8,
    "start_time": "2022-09-18T06:03:54.630Z"
   },
   {
    "duration": 211,
    "start_time": "2022-09-18T06:03:55.496Z"
   },
   {
    "duration": 165,
    "start_time": "2022-09-18T06:03:57.484Z"
   },
   {
    "duration": 11,
    "start_time": "2022-09-18T06:24:58.601Z"
   },
   {
    "duration": 8,
    "start_time": "2022-09-18T06:25:02.387Z"
   },
   {
    "duration": 9,
    "start_time": "2022-09-18T06:25:31.195Z"
   },
   {
    "duration": 6,
    "start_time": "2022-09-18T06:56:39.318Z"
   },
   {
    "duration": 7,
    "start_time": "2022-09-18T06:56:44.190Z"
   },
   {
    "duration": 10,
    "start_time": "2022-09-18T06:56:48.013Z"
   },
   {
    "duration": 22,
    "start_time": "2022-09-18T06:58:02.572Z"
   },
   {
    "duration": 10,
    "start_time": "2022-09-18T07:08:37.440Z"
   },
   {
    "duration": 108,
    "start_time": "2022-09-18T07:08:53.473Z"
   },
   {
    "duration": 8,
    "start_time": "2022-09-18T07:09:27.746Z"
   },
   {
    "duration": 23,
    "start_time": "2022-09-18T07:09:28.666Z"
   },
   {
    "duration": 13,
    "start_time": "2022-09-18T07:09:33.234Z"
   },
   {
    "duration": 407,
    "start_time": "2022-09-18T07:09:36.250Z"
   },
   {
    "duration": 1004,
    "start_time": "2022-09-18T07:09:52.660Z"
   },
   {
    "duration": 171,
    "start_time": "2022-09-18T07:09:53.996Z"
   },
   {
    "duration": 16,
    "start_time": "2022-09-18T07:09:56.350Z"
   },
   {
    "duration": 12,
    "start_time": "2022-09-18T07:09:56.967Z"
   },
   {
    "duration": 12,
    "start_time": "2022-09-18T07:09:57.707Z"
   },
   {
    "duration": 6,
    "start_time": "2022-09-18T07:09:59.781Z"
   },
   {
    "duration": 6,
    "start_time": "2022-09-18T07:10:00.223Z"
   },
   {
    "duration": 5,
    "start_time": "2022-09-18T07:10:01.527Z"
   },
   {
    "duration": 5,
    "start_time": "2022-09-18T07:10:02.245Z"
   },
   {
    "duration": 4,
    "start_time": "2022-09-18T07:10:09.323Z"
   },
   {
    "duration": 4,
    "start_time": "2022-09-18T07:10:11.230Z"
   },
   {
    "duration": 7,
    "start_time": "2022-09-18T07:10:12.324Z"
   },
   {
    "duration": 21,
    "start_time": "2022-09-18T07:10:13.674Z"
   },
   {
    "duration": 5,
    "start_time": "2022-09-18T07:10:18.736Z"
   },
   {
    "duration": 4,
    "start_time": "2022-09-18T07:10:19.223Z"
   },
   {
    "duration": 6,
    "start_time": "2022-09-18T07:10:19.737Z"
   },
   {
    "duration": 6,
    "start_time": "2022-09-18T07:10:25.223Z"
   },
   {
    "duration": 10,
    "start_time": "2022-09-18T07:10:42.026Z"
   },
   {
    "duration": 9,
    "start_time": "2022-09-18T07:10:44.423Z"
   },
   {
    "duration": 11,
    "start_time": "2022-09-18T07:10:50.223Z"
   },
   {
    "duration": 6,
    "start_time": "2022-09-18T07:10:52.863Z"
   },
   {
    "duration": 6,
    "start_time": "2022-09-18T07:10:53.404Z"
   },
   {
    "duration": 140,
    "start_time": "2022-09-18T07:10:53.975Z"
   },
   {
    "duration": 99,
    "start_time": "2022-09-18T07:10:54.913Z"
   },
   {
    "duration": 9,
    "start_time": "2022-09-18T07:10:55.782Z"
   },
   {
    "duration": 307,
    "start_time": "2022-09-18T07:11:08.144Z"
   },
   {
    "duration": 283,
    "start_time": "2022-09-18T07:11:23.068Z"
   },
   {
    "duration": 352,
    "start_time": "2022-09-18T07:11:25.685Z"
   },
   {
    "duration": 4,
    "start_time": "2022-09-18T07:11:27.748Z"
   },
   {
    "duration": 260,
    "start_time": "2022-09-18T07:11:28.575Z"
   },
   {
    "duration": 376,
    "start_time": "2022-09-18T07:11:34.583Z"
   },
   {
    "duration": 9,
    "start_time": "2022-09-18T07:11:43.403Z"
   },
   {
    "duration": 144,
    "start_time": "2022-09-18T07:11:44.160Z"
   },
   {
    "duration": 4,
    "start_time": "2022-09-18T07:11:46.596Z"
   },
   {
    "duration": 136,
    "start_time": "2022-09-18T07:11:49.595Z"
   },
   {
    "duration": 136,
    "start_time": "2022-09-18T07:11:53.521Z"
   },
   {
    "duration": 4,
    "start_time": "2022-09-18T07:11:55.925Z"
   },
   {
    "duration": 11,
    "start_time": "2022-09-18T07:12:00.482Z"
   },
   {
    "duration": 6,
    "start_time": "2022-09-18T07:12:08.263Z"
   },
   {
    "duration": 9,
    "start_time": "2022-09-18T07:12:08.851Z"
   },
   {
    "duration": 8,
    "start_time": "2022-09-18T07:12:19.047Z"
   },
   {
    "duration": 7,
    "start_time": "2022-09-18T07:12:19.605Z"
   },
   {
    "duration": 6,
    "start_time": "2022-09-18T07:12:20.234Z"
   },
   {
    "duration": 9,
    "start_time": "2022-09-18T07:12:24.710Z"
   },
   {
    "duration": 120,
    "start_time": "2022-09-18T07:12:30.082Z"
   },
   {
    "duration": 96,
    "start_time": "2022-09-18T07:12:37.784Z"
   },
   {
    "duration": 9,
    "start_time": "2022-09-18T07:13:02.429Z"
   },
   {
    "duration": 10,
    "start_time": "2022-09-18T07:13:25.560Z"
   },
   {
    "duration": 15,
    "start_time": "2022-09-18T07:13:58.862Z"
   },
   {
    "duration": 441,
    "start_time": "2022-09-18T07:14:11.121Z"
   },
   {
    "duration": 59,
    "start_time": "2022-09-18T07:22:24.043Z"
   },
   {
    "duration": 37,
    "start_time": "2022-09-18T07:23:55.802Z"
   },
   {
    "duration": 178,
    "start_time": "2022-09-18T07:28:26.198Z"
   },
   {
    "duration": 9,
    "start_time": "2022-09-18T07:28:55.820Z"
   },
   {
    "duration": 8,
    "start_time": "2022-09-18T07:47:01.966Z"
   },
   {
    "duration": 4,
    "start_time": "2022-09-18T07:49:37.882Z"
   },
   {
    "duration": 4,
    "start_time": "2022-09-18T07:50:03.974Z"
   },
   {
    "duration": 159,
    "start_time": "2022-09-18T07:51:13.831Z"
   },
   {
    "duration": 1031,
    "start_time": "2022-09-18T07:51:58.533Z"
   },
   {
    "duration": 147,
    "start_time": "2022-09-18T07:51:59.567Z"
   },
   {
    "duration": 13,
    "start_time": "2022-09-18T07:51:59.716Z"
   },
   {
    "duration": 12,
    "start_time": "2022-09-18T07:51:59.730Z"
   },
   {
    "duration": 13,
    "start_time": "2022-09-18T07:51:59.744Z"
   },
   {
    "duration": 13,
    "start_time": "2022-09-18T07:51:59.758Z"
   },
   {
    "duration": 5,
    "start_time": "2022-09-18T07:51:59.772Z"
   },
   {
    "duration": 8,
    "start_time": "2022-09-18T07:51:59.778Z"
   },
   {
    "duration": 9,
    "start_time": "2022-09-18T07:51:59.787Z"
   },
   {
    "duration": 8,
    "start_time": "2022-09-18T07:51:59.798Z"
   },
   {
    "duration": 6,
    "start_time": "2022-09-18T07:51:59.808Z"
   },
   {
    "duration": 6,
    "start_time": "2022-09-18T07:51:59.815Z"
   },
   {
    "duration": 42,
    "start_time": "2022-09-18T07:51:59.822Z"
   },
   {
    "duration": 4,
    "start_time": "2022-09-18T07:51:59.866Z"
   },
   {
    "duration": 6,
    "start_time": "2022-09-18T07:51:59.871Z"
   },
   {
    "duration": 8,
    "start_time": "2022-09-18T07:51:59.878Z"
   },
   {
    "duration": 8,
    "start_time": "2022-09-18T07:51:59.887Z"
   },
   {
    "duration": 11,
    "start_time": "2022-09-18T07:51:59.897Z"
   },
   {
    "duration": 8,
    "start_time": "2022-09-18T07:51:59.909Z"
   },
   {
    "duration": 10,
    "start_time": "2022-09-18T07:51:59.946Z"
   },
   {
    "duration": 8,
    "start_time": "2022-09-18T07:51:59.958Z"
   },
   {
    "duration": 8,
    "start_time": "2022-09-18T07:51:59.967Z"
   },
   {
    "duration": 171,
    "start_time": "2022-09-18T07:51:59.976Z"
   },
   {
    "duration": 120,
    "start_time": "2022-09-18T07:52:00.148Z"
   },
   {
    "duration": 9,
    "start_time": "2022-09-18T07:52:00.269Z"
   },
   {
    "duration": 326,
    "start_time": "2022-09-18T07:52:00.279Z"
   },
   {
    "duration": 308,
    "start_time": "2022-09-18T07:52:00.606Z"
   },
   {
    "duration": 424,
    "start_time": "2022-09-18T07:52:00.916Z"
   },
   {
    "duration": 7,
    "start_time": "2022-09-18T07:52:01.341Z"
   },
   {
    "duration": 294,
    "start_time": "2022-09-18T07:52:01.351Z"
   },
   {
    "duration": 407,
    "start_time": "2022-09-18T07:52:01.647Z"
   },
   {
    "duration": 8,
    "start_time": "2022-09-18T07:52:02.055Z"
   },
   {
    "duration": 165,
    "start_time": "2022-09-18T07:52:02.065Z"
   },
   {
    "duration": 5,
    "start_time": "2022-09-18T07:52:02.232Z"
   },
   {
    "duration": 140,
    "start_time": "2022-09-18T07:52:02.248Z"
   },
   {
    "duration": 144,
    "start_time": "2022-09-18T07:52:02.390Z"
   },
   {
    "duration": 11,
    "start_time": "2022-09-18T07:52:02.536Z"
   },
   {
    "duration": 31,
    "start_time": "2022-09-18T07:52:02.548Z"
   },
   {
    "duration": 10,
    "start_time": "2022-09-18T07:52:02.581Z"
   },
   {
    "duration": 21,
    "start_time": "2022-09-18T07:52:02.592Z"
   },
   {
    "duration": 34,
    "start_time": "2022-09-18T07:52:02.617Z"
   },
   {
    "duration": 11,
    "start_time": "2022-09-18T07:52:02.652Z"
   },
   {
    "duration": 35,
    "start_time": "2022-09-18T07:52:02.665Z"
   },
   {
    "duration": 158,
    "start_time": "2022-09-18T07:52:02.702Z"
   },
   {
    "duration": 36,
    "start_time": "2022-09-18T07:52:02.861Z"
   },
   {
    "duration": 7,
    "start_time": "2022-09-18T07:52:02.899Z"
   },
   {
    "duration": 38,
    "start_time": "2022-09-18T07:52:02.907Z"
   },
   {
    "duration": 11,
    "start_time": "2022-09-18T07:52:02.947Z"
   },
   {
    "duration": 12,
    "start_time": "2022-09-18T07:52:02.960Z"
   },
   {
    "duration": 131,
    "start_time": "2022-09-18T07:52:02.974Z"
   },
   {
    "duration": 99,
    "start_time": "2022-09-18T07:52:03.107Z"
   },
   {
    "duration": 0,
    "start_time": "2022-09-18T07:52:03.208Z"
   },
   {
    "duration": 0,
    "start_time": "2022-09-18T07:52:03.209Z"
   },
   {
    "duration": 0,
    "start_time": "2022-09-18T07:52:03.210Z"
   },
   {
    "duration": 62,
    "start_time": "2022-09-18T07:53:43.224Z"
   },
   {
    "duration": 48,
    "start_time": "2022-09-18T07:53:50.130Z"
   },
   {
    "duration": 46,
    "start_time": "2022-09-18T07:53:52.732Z"
   },
   {
    "duration": 59,
    "start_time": "2022-09-18T07:54:28.277Z"
   },
   {
    "duration": 46,
    "start_time": "2022-09-18T07:56:07.891Z"
   },
   {
    "duration": 6,
    "start_time": "2022-09-18T08:01:44.827Z"
   },
   {
    "duration": 7,
    "start_time": "2022-09-18T08:01:49.531Z"
   },
   {
    "duration": 3,
    "start_time": "2022-09-18T08:01:55.246Z"
   },
   {
    "duration": 149,
    "start_time": "2022-09-18T08:01:59.219Z"
   },
   {
    "duration": 4,
    "start_time": "2022-09-18T08:02:09.689Z"
   },
   {
    "duration": 152,
    "start_time": "2022-09-18T08:02:10.447Z"
   },
   {
    "duration": 130,
    "start_time": "2022-09-18T08:02:32.797Z"
   },
   {
    "duration": 64,
    "start_time": "2022-09-18T08:04:18.820Z"
   },
   {
    "duration": 11,
    "start_time": "2022-09-18T08:04:40.446Z"
   },
   {
    "duration": 143,
    "start_time": "2022-09-18T08:04:45.840Z"
   },
   {
    "duration": 11,
    "start_time": "2022-09-18T08:04:59.521Z"
   },
   {
    "duration": 8,
    "start_time": "2022-09-18T08:06:27.759Z"
   },
   {
    "duration": 33,
    "start_time": "2022-09-18T08:06:30.624Z"
   },
   {
    "duration": 14,
    "start_time": "2022-09-18T08:06:49.785Z"
   },
   {
    "duration": 369,
    "start_time": "2022-09-18T08:07:02.759Z"
   },
   {
    "duration": 493,
    "start_time": "2022-09-18T08:07:35.240Z"
   },
   {
    "duration": 6,
    "start_time": "2022-09-18T08:12:22.450Z"
   },
   {
    "duration": 1049,
    "start_time": "2022-09-18T08:12:41.688Z"
   },
   {
    "duration": 172,
    "start_time": "2022-09-18T08:12:42.739Z"
   },
   {
    "duration": 15,
    "start_time": "2022-09-18T08:12:48.003Z"
   },
   {
    "duration": 12,
    "start_time": "2022-09-18T08:12:49.288Z"
   },
   {
    "duration": 12,
    "start_time": "2022-09-18T08:12:49.925Z"
   },
   {
    "duration": 7,
    "start_time": "2022-09-18T08:12:52.030Z"
   },
   {
    "duration": 5,
    "start_time": "2022-09-18T08:12:52.486Z"
   },
   {
    "duration": 5,
    "start_time": "2022-09-18T08:12:53.580Z"
   },
   {
    "duration": 5,
    "start_time": "2022-09-18T08:12:54.312Z"
   },
   {
    "duration": 4,
    "start_time": "2022-09-18T08:13:00.093Z"
   },
   {
    "duration": 5,
    "start_time": "2022-09-18T08:13:01.339Z"
   },
   {
    "duration": 5,
    "start_time": "2022-09-18T08:13:02.073Z"
   },
   {
    "duration": 23,
    "start_time": "2022-09-18T08:13:03.544Z"
   },
   {
    "duration": 4,
    "start_time": "2022-09-18T08:13:07.283Z"
   },
   {
    "duration": 7,
    "start_time": "2022-09-18T08:13:08.126Z"
   },
   {
    "duration": 11,
    "start_time": "2022-09-18T08:13:08.624Z"
   },
   {
    "duration": 5,
    "start_time": "2022-09-18T08:13:13.352Z"
   },
   {
    "duration": 88,
    "start_time": "2022-09-18T08:13:26.780Z"
   },
   {
    "duration": 9,
    "start_time": "2022-09-18T08:13:38.669Z"
   },
   {
    "duration": 12,
    "start_time": "2022-09-18T08:14:16.206Z"
   },
   {
    "duration": 12,
    "start_time": "2022-09-18T08:14:48.033Z"
   },
   {
    "duration": 11,
    "start_time": "2022-09-18T08:15:53.873Z"
   },
   {
    "duration": 14,
    "start_time": "2022-09-18T08:17:28.054Z"
   },
   {
    "duration": 3,
    "start_time": "2022-09-18T08:17:41.291Z"
   },
   {
    "duration": 100,
    "start_time": "2022-09-18T08:17:42.094Z"
   },
   {
    "duration": 12,
    "start_time": "2022-09-18T08:17:42.943Z"
   },
   {
    "duration": 12,
    "start_time": "2022-09-18T08:17:43.349Z"
   },
   {
    "duration": 12,
    "start_time": "2022-09-18T08:17:43.740Z"
   },
   {
    "duration": 5,
    "start_time": "2022-09-18T08:17:45.195Z"
   },
   {
    "duration": 4,
    "start_time": "2022-09-18T08:17:45.639Z"
   },
   {
    "duration": 5,
    "start_time": "2022-09-18T08:17:46.587Z"
   },
   {
    "duration": 5,
    "start_time": "2022-09-18T08:17:46.989Z"
   },
   {
    "duration": 4,
    "start_time": "2022-09-18T08:17:49.182Z"
   },
   {
    "duration": 4,
    "start_time": "2022-09-18T08:17:50.008Z"
   },
   {
    "duration": 5,
    "start_time": "2022-09-18T08:17:50.900Z"
   },
   {
    "duration": 23,
    "start_time": "2022-09-18T08:17:51.816Z"
   },
   {
    "duration": 4,
    "start_time": "2022-09-18T08:17:53.219Z"
   },
   {
    "duration": 4,
    "start_time": "2022-09-18T08:17:54.080Z"
   },
   {
    "duration": 6,
    "start_time": "2022-09-18T08:17:54.539Z"
   },
   {
    "duration": 8,
    "start_time": "2022-09-18T08:17:57.684Z"
   },
   {
    "duration": 13,
    "start_time": "2022-09-18T08:18:01.621Z"
   },
   {
    "duration": 11,
    "start_time": "2022-09-18T08:18:03.240Z"
   },
   {
    "duration": 11,
    "start_time": "2022-09-18T08:18:08.380Z"
   },
   {
    "duration": 7,
    "start_time": "2022-09-18T08:18:15.736Z"
   },
   {
    "duration": 8,
    "start_time": "2022-09-18T08:18:16.275Z"
   },
   {
    "duration": 147,
    "start_time": "2022-09-18T08:18:16.919Z"
   },
   {
    "duration": 115,
    "start_time": "2022-09-18T08:18:17.399Z"
   },
   {
    "duration": 9,
    "start_time": "2022-09-18T08:18:17.907Z"
   },
   {
    "duration": 289,
    "start_time": "2022-09-18T08:18:20.039Z"
   },
   {
    "duration": 298,
    "start_time": "2022-09-18T08:18:26.478Z"
   },
   {
    "duration": 357,
    "start_time": "2022-09-18T08:18:29.503Z"
   },
   {
    "duration": 3,
    "start_time": "2022-09-18T08:18:32.144Z"
   },
   {
    "duration": 272,
    "start_time": "2022-09-18T08:18:33.035Z"
   },
   {
    "duration": 432,
    "start_time": "2022-09-18T08:18:37.753Z"
   },
   {
    "duration": 9,
    "start_time": "2022-09-18T08:18:40.453Z"
   },
   {
    "duration": 149,
    "start_time": "2022-09-18T08:18:41.180Z"
   },
   {
    "duration": 5,
    "start_time": "2022-09-18T08:18:43.117Z"
   },
   {
    "duration": 134,
    "start_time": "2022-09-18T08:18:45.652Z"
   },
   {
    "duration": 162,
    "start_time": "2022-09-18T08:18:47.905Z"
   },
   {
    "duration": 4,
    "start_time": "2022-09-18T08:18:49.881Z"
   },
   {
    "duration": 11,
    "start_time": "2022-09-18T08:18:53.444Z"
   },
   {
    "duration": 4,
    "start_time": "2022-09-18T08:18:58.287Z"
   },
   {
    "duration": 156,
    "start_time": "2022-09-18T08:18:59.205Z"
   },
   {
    "duration": 11,
    "start_time": "2022-09-18T08:19:04.794Z"
   },
   {
    "duration": 214,
    "start_time": "2022-09-18T08:19:09.337Z"
   },
   {
    "duration": 9,
    "start_time": "2022-09-18T08:19:16.348Z"
   },
   {
    "duration": 23,
    "start_time": "2022-09-18T08:19:20.446Z"
   },
   {
    "duration": 13,
    "start_time": "2022-09-18T08:19:26.789Z"
   },
   {
    "duration": 394,
    "start_time": "2022-09-18T08:19:30.135Z"
   },
   {
    "duration": 131,
    "start_time": "2022-09-18T08:30:31.194Z"
   },
   {
    "duration": 119,
    "start_time": "2022-09-18T08:34:51.774Z"
   },
   {
    "duration": 149,
    "start_time": "2022-09-18T08:36:44.730Z"
   },
   {
    "duration": 144,
    "start_time": "2022-09-18T08:39:25.788Z"
   },
   {
    "duration": 166,
    "start_time": "2022-09-18T08:39:47.242Z"
   },
   {
    "duration": 211,
    "start_time": "2022-09-18T08:39:59.650Z"
   },
   {
    "duration": 1023,
    "start_time": "2022-09-18T08:40:17.507Z"
   },
   {
    "duration": 152,
    "start_time": "2022-09-18T08:40:18.533Z"
   },
   {
    "duration": 14,
    "start_time": "2022-09-18T08:40:18.686Z"
   },
   {
    "duration": 15,
    "start_time": "2022-09-18T08:40:18.702Z"
   },
   {
    "duration": 18,
    "start_time": "2022-09-18T08:40:18.718Z"
   },
   {
    "duration": 14,
    "start_time": "2022-09-18T08:40:18.738Z"
   },
   {
    "duration": 6,
    "start_time": "2022-09-18T08:40:18.754Z"
   },
   {
    "duration": 8,
    "start_time": "2022-09-18T08:40:18.762Z"
   },
   {
    "duration": 10,
    "start_time": "2022-09-18T08:40:18.771Z"
   },
   {
    "duration": 6,
    "start_time": "2022-09-18T08:40:18.784Z"
   },
   {
    "duration": 7,
    "start_time": "2022-09-18T08:40:18.791Z"
   },
   {
    "duration": 9,
    "start_time": "2022-09-18T08:40:18.799Z"
   },
   {
    "duration": 56,
    "start_time": "2022-09-18T08:40:18.809Z"
   },
   {
    "duration": 4,
    "start_time": "2022-09-18T08:40:18.867Z"
   },
   {
    "duration": 6,
    "start_time": "2022-09-18T08:40:18.872Z"
   },
   {
    "duration": 16,
    "start_time": "2022-09-18T08:40:18.880Z"
   },
   {
    "duration": 13,
    "start_time": "2022-09-18T08:40:18.898Z"
   },
   {
    "duration": 36,
    "start_time": "2022-09-18T08:40:18.913Z"
   },
   {
    "duration": 13,
    "start_time": "2022-09-18T08:40:18.951Z"
   },
   {
    "duration": 17,
    "start_time": "2022-09-18T08:40:18.966Z"
   },
   {
    "duration": 11,
    "start_time": "2022-09-18T08:40:18.986Z"
   },
   {
    "duration": 10,
    "start_time": "2022-09-18T08:40:18.999Z"
   },
   {
    "duration": 214,
    "start_time": "2022-09-18T08:40:19.011Z"
   },
   {
    "duration": 123,
    "start_time": "2022-09-18T08:40:19.227Z"
   },
   {
    "duration": 9,
    "start_time": "2022-09-18T08:40:19.352Z"
   },
   {
    "duration": 332,
    "start_time": "2022-09-18T08:40:19.363Z"
   },
   {
    "duration": 368,
    "start_time": "2022-09-18T08:40:19.697Z"
   },
   {
    "duration": 366,
    "start_time": "2022-09-18T08:40:20.069Z"
   },
   {
    "duration": 11,
    "start_time": "2022-09-18T08:40:20.437Z"
   },
   {
    "duration": 286,
    "start_time": "2022-09-18T08:40:20.450Z"
   },
   {
    "duration": 415,
    "start_time": "2022-09-18T08:40:20.738Z"
   },
   {
    "duration": 10,
    "start_time": "2022-09-18T08:40:21.155Z"
   },
   {
    "duration": 164,
    "start_time": "2022-09-18T08:40:21.167Z"
   },
   {
    "duration": 14,
    "start_time": "2022-09-18T08:40:21.333Z"
   },
   {
    "duration": 156,
    "start_time": "2022-09-18T08:40:21.349Z"
   },
   {
    "duration": 168,
    "start_time": "2022-09-18T08:40:21.506Z"
   },
   {
    "duration": 5,
    "start_time": "2022-09-18T08:40:21.675Z"
   },
   {
    "duration": 12,
    "start_time": "2022-09-18T08:40:21.681Z"
   },
   {
    "duration": 6,
    "start_time": "2022-09-18T08:40:21.695Z"
   },
   {
    "duration": 152,
    "start_time": "2022-09-18T08:40:21.703Z"
   },
   {
    "duration": 10,
    "start_time": "2022-09-18T08:40:21.857Z"
   },
   {
    "duration": 139,
    "start_time": "2022-09-18T08:40:21.868Z"
   },
   {
    "duration": 10,
    "start_time": "2022-09-18T08:40:22.010Z"
   },
   {
    "duration": 55,
    "start_time": "2022-09-18T08:40:22.023Z"
   },
   {
    "duration": 19,
    "start_time": "2022-09-18T08:40:22.080Z"
   },
   {
    "duration": 440,
    "start_time": "2022-09-18T08:40:22.101Z"
   },
   {
    "duration": 134,
    "start_time": "2022-09-18T08:41:39.222Z"
   },
   {
    "duration": 1041,
    "start_time": "2022-09-18T08:43:21.274Z"
   },
   {
    "duration": 172,
    "start_time": "2022-09-18T08:43:22.317Z"
   },
   {
    "duration": 15,
    "start_time": "2022-09-18T08:43:22.490Z"
   },
   {
    "duration": 18,
    "start_time": "2022-09-18T08:43:22.507Z"
   },
   {
    "duration": 19,
    "start_time": "2022-09-18T08:43:22.526Z"
   },
   {
    "duration": 12,
    "start_time": "2022-09-18T08:43:22.547Z"
   },
   {
    "duration": 9,
    "start_time": "2022-09-18T08:43:22.561Z"
   },
   {
    "duration": 14,
    "start_time": "2022-09-18T08:43:22.572Z"
   },
   {
    "duration": 12,
    "start_time": "2022-09-18T08:43:22.588Z"
   },
   {
    "duration": 19,
    "start_time": "2022-09-18T08:43:22.603Z"
   },
   {
    "duration": 16,
    "start_time": "2022-09-18T08:43:22.623Z"
   },
   {
    "duration": 16,
    "start_time": "2022-09-18T08:43:22.641Z"
   },
   {
    "duration": 26,
    "start_time": "2022-09-18T08:43:22.658Z"
   },
   {
    "duration": 4,
    "start_time": "2022-09-18T08:43:22.686Z"
   },
   {
    "duration": 17,
    "start_time": "2022-09-18T08:43:22.692Z"
   },
   {
    "duration": 9,
    "start_time": "2022-09-18T08:43:22.711Z"
   },
   {
    "duration": 14,
    "start_time": "2022-09-18T08:43:22.722Z"
   },
   {
    "duration": 19,
    "start_time": "2022-09-18T08:43:22.738Z"
   },
   {
    "duration": 22,
    "start_time": "2022-09-18T08:43:22.759Z"
   },
   {
    "duration": 13,
    "start_time": "2022-09-18T08:43:22.783Z"
   },
   {
    "duration": 12,
    "start_time": "2022-09-18T08:43:22.798Z"
   },
   {
    "duration": 11,
    "start_time": "2022-09-18T08:43:22.812Z"
   },
   {
    "duration": 176,
    "start_time": "2022-09-18T08:43:22.826Z"
   },
   {
    "duration": 114,
    "start_time": "2022-09-18T08:43:23.004Z"
   },
   {
    "duration": 11,
    "start_time": "2022-09-18T08:43:23.119Z"
   },
   {
    "duration": 315,
    "start_time": "2022-09-18T08:43:23.147Z"
   },
   {
    "duration": 302,
    "start_time": "2022-09-18T08:43:23.463Z"
   },
   {
    "duration": 372,
    "start_time": "2022-09-18T08:43:23.768Z"
   },
   {
    "duration": 6,
    "start_time": "2022-09-18T08:43:24.142Z"
   },
   {
    "duration": 309,
    "start_time": "2022-09-18T08:43:24.150Z"
   },
   {
    "duration": 414,
    "start_time": "2022-09-18T08:43:24.462Z"
   },
   {
    "duration": 11,
    "start_time": "2022-09-18T08:43:24.878Z"
   },
   {
    "duration": 197,
    "start_time": "2022-09-18T08:43:24.891Z"
   },
   {
    "duration": 5,
    "start_time": "2022-09-18T08:43:25.090Z"
   },
   {
    "duration": 161,
    "start_time": "2022-09-18T08:43:25.097Z"
   },
   {
    "duration": 165,
    "start_time": "2022-09-18T08:43:25.260Z"
   },
   {
    "duration": 5,
    "start_time": "2022-09-18T08:43:25.426Z"
   },
   {
    "duration": 20,
    "start_time": "2022-09-18T08:43:25.433Z"
   },
   {
    "duration": 9,
    "start_time": "2022-09-18T08:43:25.454Z"
   },
   {
    "duration": 197,
    "start_time": "2022-09-18T08:43:25.465Z"
   },
   {
    "duration": 10,
    "start_time": "2022-09-18T08:43:25.664Z"
   },
   {
    "duration": 136,
    "start_time": "2022-09-18T08:43:25.676Z"
   },
   {
    "duration": 8,
    "start_time": "2022-09-18T08:43:25.813Z"
   },
   {
    "duration": 38,
    "start_time": "2022-09-18T08:43:25.823Z"
   },
   {
    "duration": 14,
    "start_time": "2022-09-18T08:43:25.863Z"
   },
   {
    "duration": 429,
    "start_time": "2022-09-18T08:43:25.879Z"
   },
   {
    "duration": 362,
    "start_time": "2022-09-18T08:45:30.691Z"
   },
   {
    "duration": 1173,
    "start_time": "2022-09-18T16:55:09.060Z"
   },
   {
    "duration": 77,
    "start_time": "2022-09-18T16:55:12.881Z"
   },
   {
    "duration": 150,
    "start_time": "2022-09-18T16:55:43.794Z"
   },
   {
    "duration": 89,
    "start_time": "2022-09-18T17:00:02.102Z"
   },
   {
    "duration": 43,
    "start_time": "2022-11-28T03:46:03.130Z"
   },
   {
    "duration": 1206,
    "start_time": "2022-11-28T04:07:53.647Z"
   },
   {
    "duration": 292,
    "start_time": "2022-11-28T04:07:55.429Z"
   },
   {
    "duration": 994,
    "start_time": "2022-11-28T04:09:32.288Z"
   },
   {
    "duration": 37,
    "start_time": "2022-11-28T04:09:34.293Z"
   },
   {
    "duration": 88,
    "start_time": "2022-11-28T04:09:38.388Z"
   },
   {
    "duration": 3,
    "start_time": "2022-11-28T04:10:06.412Z"
   },
   {
    "duration": 167,
    "start_time": "2022-11-28T04:10:07.369Z"
   },
   {
    "duration": 13,
    "start_time": "2022-11-28T04:10:07.891Z"
   },
   {
    "duration": 17,
    "start_time": "2022-11-28T04:11:15.383Z"
   },
   {
    "duration": 13,
    "start_time": "2022-11-28T04:11:16.127Z"
   },
   {
    "duration": 12,
    "start_time": "2022-11-28T04:11:17.858Z"
   },
   {
    "duration": 9,
    "start_time": "2022-11-28T04:11:44.195Z"
   },
   {
    "duration": 5,
    "start_time": "2022-11-28T04:11:46.468Z"
   },
   {
    "duration": 5,
    "start_time": "2022-11-28T04:12:09.861Z"
   },
   {
    "duration": 5,
    "start_time": "2022-11-28T04:12:19.147Z"
   },
   {
    "duration": 4,
    "start_time": "2022-11-28T04:13:11.450Z"
   },
   {
    "duration": 6,
    "start_time": "2022-11-28T04:13:15.705Z"
   },
   {
    "duration": 5,
    "start_time": "2022-11-28T04:13:18.254Z"
   },
   {
    "duration": 24,
    "start_time": "2022-11-28T04:13:37.033Z"
   },
   {
    "duration": 4,
    "start_time": "2022-11-28T04:13:57.328Z"
   },
   {
    "duration": 5,
    "start_time": "2022-11-28T04:14:45.665Z"
   },
   {
    "duration": 6,
    "start_time": "2022-11-28T04:14:47.513Z"
   },
   {
    "duration": 8,
    "start_time": "2022-11-28T04:15:15.875Z"
   },
   {
    "duration": 13,
    "start_time": "2022-11-28T04:16:11.685Z"
   },
   {
    "duration": 13,
    "start_time": "2022-11-28T04:16:49.104Z"
   },
   {
    "duration": 12,
    "start_time": "2022-11-28T04:17:09.234Z"
   },
   {
    "duration": 7,
    "start_time": "2022-11-28T04:17:23.499Z"
   },
   {
    "duration": 6,
    "start_time": "2022-11-28T04:17:50.601Z"
   },
   {
    "duration": 153,
    "start_time": "2022-11-28T04:18:09.506Z"
   },
   {
    "duration": 147,
    "start_time": "2022-11-28T04:18:39.624Z"
   },
   {
    "duration": 151,
    "start_time": "2022-11-28T04:18:54.295Z"
   },
   {
    "duration": 66,
    "start_time": "2022-11-28T04:19:30.568Z"
   },
   {
    "duration": 165,
    "start_time": "2022-11-28T04:19:36.069Z"
   },
   {
    "duration": 107,
    "start_time": "2022-11-28T04:20:31.697Z"
   },
   {
    "duration": 103,
    "start_time": "2022-11-28T04:20:48.190Z"
   },
   {
    "duration": 11,
    "start_time": "2022-11-28T04:21:29.191Z"
   },
   {
    "duration": 267,
    "start_time": "2022-11-28T04:22:17.014Z"
   },
   {
    "duration": 298,
    "start_time": "2022-11-28T04:24:40.613Z"
   },
   {
    "duration": 385,
    "start_time": "2022-11-28T04:25:33.898Z"
   },
   {
    "duration": 330,
    "start_time": "2022-11-28T04:26:14.008Z"
   },
   {
    "duration": 297,
    "start_time": "2022-11-28T04:26:36.654Z"
   },
   {
    "duration": 380,
    "start_time": "2022-11-28T04:26:53.238Z"
   },
   {
    "duration": 436,
    "start_time": "2022-11-28T04:32:25.753Z"
   },
   {
    "duration": 357,
    "start_time": "2022-11-28T04:32:35.215Z"
   },
   {
    "duration": 362,
    "start_time": "2022-11-28T04:33:00.516Z"
   },
   {
    "duration": 507,
    "start_time": "2022-11-28T04:33:21.092Z"
   },
   {
    "duration": 338,
    "start_time": "2022-11-28T04:33:51.620Z"
   },
   {
    "duration": 4,
    "start_time": "2022-11-28T04:34:04.401Z"
   },
   {
    "duration": 274,
    "start_time": "2022-11-28T04:34:07.369Z"
   },
   {
    "duration": 81,
    "start_time": "2022-11-28T04:34:50.912Z"
   },
   {
    "duration": 385,
    "start_time": "2022-11-28T04:35:17.798Z"
   },
   {
    "duration": 368,
    "start_time": "2022-11-28T04:35:52.722Z"
   },
   {
    "duration": 384,
    "start_time": "2022-11-28T04:36:19.336Z"
   },
   {
    "duration": 9,
    "start_time": "2022-11-28T04:36:29.477Z"
   },
   {
    "duration": 149,
    "start_time": "2022-11-28T04:36:33.083Z"
   },
   {
    "duration": 4,
    "start_time": "2022-11-28T04:36:45.250Z"
   },
   {
    "duration": 134,
    "start_time": "2022-11-28T04:36:59.148Z"
   },
   {
    "duration": 130,
    "start_time": "2022-11-28T04:37:13.653Z"
   },
   {
    "duration": 4,
    "start_time": "2022-11-28T04:37:23.257Z"
   },
   {
    "duration": 11,
    "start_time": "2022-11-28T04:37:46.844Z"
   },
   {
    "duration": 4,
    "start_time": "2022-11-28T04:38:07.128Z"
   },
   {
    "duration": 127,
    "start_time": "2022-11-28T04:38:08.184Z"
   },
   {
    "duration": 8,
    "start_time": "2022-11-28T04:38:19.809Z"
   },
   {
    "duration": 1118,
    "start_time": "2022-11-28T11:30:50.650Z"
   },
   {
    "duration": 270,
    "start_time": "2022-11-28T11:30:51.770Z"
   },
   {
    "duration": 13,
    "start_time": "2022-11-28T11:30:52.042Z"
   },
   {
    "duration": 14,
    "start_time": "2022-11-28T11:30:52.058Z"
   },
   {
    "duration": 11,
    "start_time": "2022-11-28T11:30:52.073Z"
   },
   {
    "duration": 17,
    "start_time": "2022-11-28T11:30:52.085Z"
   },
   {
    "duration": 7,
    "start_time": "2022-11-28T11:30:52.103Z"
   },
   {
    "duration": 9,
    "start_time": "2022-11-28T11:30:52.112Z"
   },
   {
    "duration": 9,
    "start_time": "2022-11-28T11:30:52.123Z"
   },
   {
    "duration": 8,
    "start_time": "2022-11-28T11:30:52.135Z"
   },
   {
    "duration": 10,
    "start_time": "2022-11-28T11:30:52.144Z"
   },
   {
    "duration": 10,
    "start_time": "2022-11-28T11:30:52.156Z"
   },
   {
    "duration": 29,
    "start_time": "2022-11-28T11:30:52.168Z"
   },
   {
    "duration": 5,
    "start_time": "2022-11-28T11:30:52.198Z"
   },
   {
    "duration": 9,
    "start_time": "2022-11-28T11:30:52.204Z"
   },
   {
    "duration": 12,
    "start_time": "2022-11-28T11:30:52.214Z"
   },
   {
    "duration": 10,
    "start_time": "2022-11-28T11:30:52.228Z"
   },
   {
    "duration": 20,
    "start_time": "2022-11-28T11:30:52.240Z"
   },
   {
    "duration": 10,
    "start_time": "2022-11-28T11:30:52.262Z"
   },
   {
    "duration": 25,
    "start_time": "2022-11-28T11:30:52.273Z"
   },
   {
    "duration": 15,
    "start_time": "2022-11-28T11:30:52.299Z"
   },
   {
    "duration": 19,
    "start_time": "2022-11-28T11:30:52.315Z"
   },
   {
    "duration": 154,
    "start_time": "2022-11-28T11:30:52.335Z"
   },
   {
    "duration": 130,
    "start_time": "2022-11-28T11:30:52.490Z"
   },
   {
    "duration": 11,
    "start_time": "2022-11-28T11:30:52.622Z"
   },
   {
    "duration": 301,
    "start_time": "2022-11-28T11:30:52.635Z"
   },
   {
    "duration": 297,
    "start_time": "2022-11-28T11:30:52.937Z"
   },
   {
    "duration": 393,
    "start_time": "2022-11-28T11:30:53.237Z"
   },
   {
    "duration": 4,
    "start_time": "2022-11-28T11:30:53.632Z"
   },
   {
    "duration": 304,
    "start_time": "2022-11-28T11:30:53.638Z"
   },
   {
    "duration": 397,
    "start_time": "2022-11-28T11:30:53.943Z"
   },
   {
    "duration": 9,
    "start_time": "2022-11-28T11:30:54.342Z"
   },
   {
    "duration": 166,
    "start_time": "2022-11-28T11:30:54.352Z"
   },
   {
    "duration": 4,
    "start_time": "2022-11-28T11:30:54.520Z"
   },
   {
    "duration": 180,
    "start_time": "2022-11-28T11:30:54.526Z"
   },
   {
    "duration": 159,
    "start_time": "2022-11-28T11:30:54.708Z"
   },
   {
    "duration": 5,
    "start_time": "2022-11-28T11:30:54.869Z"
   },
   {
    "duration": 21,
    "start_time": "2022-11-28T11:30:54.876Z"
   },
   {
    "duration": 4,
    "start_time": "2022-11-28T11:30:54.899Z"
   },
   {
    "duration": 168,
    "start_time": "2022-11-28T11:30:54.905Z"
   },
   {
    "duration": 109,
    "start_time": "2022-11-28T11:30:55.076Z"
   },
   {
    "duration": 0,
    "start_time": "2022-11-28T11:30:55.186Z"
   },
   {
    "duration": 0,
    "start_time": "2022-11-28T11:30:55.188Z"
   },
   {
    "duration": 0,
    "start_time": "2022-11-28T11:30:55.189Z"
   },
   {
    "duration": 0,
    "start_time": "2022-11-28T11:30:55.196Z"
   },
   {
    "duration": 0,
    "start_time": "2022-11-28T11:30:55.198Z"
   },
   {
    "duration": 0,
    "start_time": "2022-11-28T11:30:55.199Z"
   },
   {
    "duration": 11,
    "start_time": "2022-11-28T11:32:23.151Z"
   },
   {
    "duration": 10,
    "start_time": "2022-11-28T11:34:43.442Z"
   },
   {
    "duration": 10,
    "start_time": "2022-11-28T11:35:09.893Z"
   },
   {
    "duration": 9,
    "start_time": "2022-11-28T11:35:22.402Z"
   },
   {
    "duration": 10,
    "start_time": "2022-11-28T11:35:35.631Z"
   },
   {
    "duration": 12,
    "start_time": "2022-11-28T11:35:50.909Z"
   },
   {
    "duration": 12,
    "start_time": "2022-11-28T11:36:00.271Z"
   },
   {
    "duration": 133,
    "start_time": "2022-11-28T11:37:21.096Z"
   },
   {
    "duration": 8,
    "start_time": "2022-11-28T11:38:02.780Z"
   },
   {
    "duration": 29,
    "start_time": "2022-11-28T11:38:28.282Z"
   },
   {
    "duration": 10,
    "start_time": "2022-11-28T11:38:57.850Z"
   },
   {
    "duration": 13,
    "start_time": "2022-11-28T11:39:29.311Z"
   },
   {
    "duration": 424,
    "start_time": "2022-11-28T11:40:15.568Z"
   },
   {
    "duration": 396,
    "start_time": "2022-11-28T11:40:43.353Z"
   },
   {
    "duration": 396,
    "start_time": "2022-11-28T11:42:08.286Z"
   }
  ],
  "kernelspec": {
   "display_name": "Python 3 (ipykernel)",
   "language": "python",
   "name": "python3"
  },
  "language_info": {
   "codemirror_mode": {
    "name": "ipython",
    "version": 3
   },
   "file_extension": ".py",
   "mimetype": "text/x-python",
   "name": "python",
   "nbconvert_exporter": "python",
   "pygments_lexer": "ipython3",
   "version": "3.9.12"
  },
  "toc": {
   "base_numbering": 1,
   "nav_menu": {},
   "number_sections": true,
   "sideBar": true,
   "skip_h1_title": true,
   "title_cell": "Table of Contents",
   "title_sidebar": "Contents",
   "toc_cell": false,
   "toc_position": {
    "height": "calc(100% - 180px)",
    "left": "10px",
    "top": "150px",
    "width": "420px"
   },
   "toc_section_display": true,
   "toc_window_display": true
  }
 },
 "nbformat": 4,
 "nbformat_minor": 5
}
